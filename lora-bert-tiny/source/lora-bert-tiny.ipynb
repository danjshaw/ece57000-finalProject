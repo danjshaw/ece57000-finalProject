{
  "cells": [
    {
      "cell_type": "markdown",
      "metadata": {
        "id": "view-in-github",
        "colab_type": "text"
      },
      "source": [
        "<a href=\"https://colab.research.google.com/github/danjshaw/ece57000-finalProject/blob/main/lora-bert-tiny/source/lora-bert-tiny.ipynb\" target=\"_parent\"><img src=\"https://colab.research.google.com/assets/colab-badge.svg\" alt=\"Open In Colab\"/></a>"
      ]
    },
    {
      "cell_type": "markdown",
      "source": [
        "# Initial Setup"
      ],
      "metadata": {
        "id": "RJc8lRi2sPF3"
      }
    },
    {
      "cell_type": "code",
      "source": [
        "from google.colab import drive\n",
        "drive.mount('/content/drive')"
      ],
      "metadata": {
        "id": "s1zuELS-Znol",
        "colab": {
          "base_uri": "https://localhost:8080/"
        },
        "outputId": "6b5742ca-191d-46ad-9d6c-651be3db4a6d"
      },
      "execution_count": 1,
      "outputs": [
        {
          "output_type": "stream",
          "name": "stdout",
          "text": [
            "Drive already mounted at /content/drive; to attempt to forcibly remount, call drive.mount(\"/content/drive\", force_remount=True).\n"
          ]
        }
      ]
    },
    {
      "cell_type": "code",
      "source": [
        "import os\n",
        "if not os.path.exists('/content/drive/MyDrive/lora-bert-tiny/'):\n",
        "    os.makedirs('/content/drive/MyDrive/lora-bert-tiny/')\n",
        "output_dir = '/content/drive/MyDrive/lora-bert-tiny/'"
      ],
      "metadata": {
        "id": "rmH2TqY1qMYw"
      },
      "execution_count": 2,
      "outputs": []
    },
    {
      "cell_type": "code",
      "execution_count": null,
      "metadata": {
        "colab": {
          "base_uri": "https://localhost:8080/"
        },
        "collapsed": true,
        "id": "OOOR51p7nJQb",
        "outputId": "69872df6-32e8-45f3-ee46-c4d7c271efd4"
      },
      "outputs": [
        {
          "output_type": "stream",
          "name": "stdout",
          "text": [
            "Requirement already satisfied: datasets in /usr/local/lib/python3.10/dist-packages (3.1.0)\n",
            "Requirement already satisfied: filelock in /usr/local/lib/python3.10/dist-packages (from datasets) (3.16.1)\n",
            "Requirement already satisfied: numpy>=1.17 in /usr/local/lib/python3.10/dist-packages (from datasets) (1.26.4)\n",
            "Requirement already satisfied: pyarrow>=15.0.0 in /usr/local/lib/python3.10/dist-packages (from datasets) (17.0.0)\n",
            "Requirement already satisfied: dill<0.3.9,>=0.3.0 in /usr/local/lib/python3.10/dist-packages (from datasets) (0.3.8)\n",
            "Requirement already satisfied: pandas in /usr/local/lib/python3.10/dist-packages (from datasets) (2.2.2)\n",
            "Requirement already satisfied: requests>=2.32.2 in /usr/local/lib/python3.10/dist-packages (from datasets) (2.32.3)\n",
            "Requirement already satisfied: tqdm>=4.66.3 in /usr/local/lib/python3.10/dist-packages (from datasets) (4.66.6)\n",
            "Requirement already satisfied: xxhash in /usr/local/lib/python3.10/dist-packages (from datasets) (3.5.0)\n",
            "Requirement already satisfied: multiprocess<0.70.17 in /usr/local/lib/python3.10/dist-packages (from datasets) (0.70.16)\n",
            "Requirement already satisfied: fsspec<=2024.9.0,>=2023.1.0 in /usr/local/lib/python3.10/dist-packages (from fsspec[http]<=2024.9.0,>=2023.1.0->datasets) (2024.9.0)\n",
            "Requirement already satisfied: aiohttp in /usr/local/lib/python3.10/dist-packages (from datasets) (3.10.10)\n",
            "Requirement already satisfied: huggingface-hub>=0.23.0 in /usr/local/lib/python3.10/dist-packages (from datasets) (0.26.2)\n",
            "Requirement already satisfied: packaging in /usr/local/lib/python3.10/dist-packages (from datasets) (24.2)\n",
            "Requirement already satisfied: pyyaml>=5.1 in /usr/local/lib/python3.10/dist-packages (from datasets) (6.0.2)\n",
            "Requirement already satisfied: aiohappyeyeballs>=2.3.0 in /usr/local/lib/python3.10/dist-packages (from aiohttp->datasets) (2.4.3)\n",
            "Requirement already satisfied: aiosignal>=1.1.2 in /usr/local/lib/python3.10/dist-packages (from aiohttp->datasets) (1.3.1)\n",
            "Requirement already satisfied: attrs>=17.3.0 in /usr/local/lib/python3.10/dist-packages (from aiohttp->datasets) (24.2.0)\n",
            "Requirement already satisfied: frozenlist>=1.1.1 in /usr/local/lib/python3.10/dist-packages (from aiohttp->datasets) (1.5.0)\n",
            "Requirement already satisfied: multidict<7.0,>=4.5 in /usr/local/lib/python3.10/dist-packages (from aiohttp->datasets) (6.1.0)\n",
            "Requirement already satisfied: yarl<2.0,>=1.12.0 in /usr/local/lib/python3.10/dist-packages (from aiohttp->datasets) (1.17.1)\n",
            "Requirement already satisfied: async-timeout<5.0,>=4.0 in /usr/local/lib/python3.10/dist-packages (from aiohttp->datasets) (4.0.3)\n",
            "Requirement already satisfied: typing-extensions>=3.7.4.3 in /usr/local/lib/python3.10/dist-packages (from huggingface-hub>=0.23.0->datasets) (4.12.2)\n",
            "Requirement already satisfied: charset-normalizer<4,>=2 in /usr/local/lib/python3.10/dist-packages (from requests>=2.32.2->datasets) (3.4.0)\n",
            "Requirement already satisfied: idna<4,>=2.5 in /usr/local/lib/python3.10/dist-packages (from requests>=2.32.2->datasets) (3.10)\n",
            "Requirement already satisfied: urllib3<3,>=1.21.1 in /usr/local/lib/python3.10/dist-packages (from requests>=2.32.2->datasets) (2.2.3)\n",
            "Requirement already satisfied: certifi>=2017.4.17 in /usr/local/lib/python3.10/dist-packages (from requests>=2.32.2->datasets) (2024.8.30)\n",
            "Requirement already satisfied: python-dateutil>=2.8.2 in /usr/local/lib/python3.10/dist-packages (from pandas->datasets) (2.8.2)\n",
            "Requirement already satisfied: pytz>=2020.1 in /usr/local/lib/python3.10/dist-packages (from pandas->datasets) (2024.2)\n",
            "Requirement already satisfied: tzdata>=2022.7 in /usr/local/lib/python3.10/dist-packages (from pandas->datasets) (2024.2)\n",
            "Requirement already satisfied: six>=1.5 in /usr/local/lib/python3.10/dist-packages (from python-dateutil>=2.8.2->pandas->datasets) (1.16.0)\n",
            "Requirement already satisfied: propcache>=0.2.0 in /usr/local/lib/python3.10/dist-packages (from yarl<2.0,>=1.12.0->aiohttp->datasets) (0.2.0)\n"
          ]
        }
      ],
      "source": [
        "!pip install datasets\n",
        "!pip install evaluate\n",
        "!pip install codecarbon\n",
        "!pip freeze > /content/drive/MyDrive/lora-bert-tiny/requirements.txt"
      ]
    },
    {
      "cell_type": "code",
      "source": [
        "import torch\n",
        "import torch.nn as nn\n",
        "import numpy as np\n",
        "from codecarbon import EmissionsTracker"
      ],
      "metadata": {
        "id": "_rJOUWbHb7h7"
      },
      "execution_count": null,
      "outputs": []
    },
    {
      "cell_type": "code",
      "source": [
        "device = torch.device(\"cuda\" if torch.cuda.is_available() else \"cpu\")\n",
        "print(device)"
      ],
      "metadata": {
        "id": "DiAkOY-564eO"
      },
      "execution_count": null,
      "outputs": []
    },
    {
      "cell_type": "markdown",
      "source": [
        "Followed examples from this [Hugging Face NLP course](https://huggingface.co/learn/nlp-course/chapter3/3?fw=pt#fine-tuning-a-model-with-the-trainer-api) on how to use the trainer API for fine-tuning."
      ],
      "metadata": {
        "id": "xM1jwv_maqfd"
      }
    },
    {
      "cell_type": "code",
      "source": [
        "from transformers import AutoTokenizer, DataCollatorWithPadding\n",
        "from datasets import load_dataset\n",
        "import evaluate\n",
        "\n",
        "raw_datasets = load_dataset(\"glue\", \"mrpc\")\n",
        "checkpoint = \"prajjwal1/bert-tiny\"\n",
        "tokenizer = AutoTokenizer.from_pretrained(checkpoint)\n",
        "\n",
        "def tokenize_function(example):\n",
        "    return tokenizer(example[\"sentence1\"], example[\"sentence2\"])\n",
        "\n",
        "tokenized_datasets = raw_datasets.map(tokenize_function, batched=True)\n",
        "data_collator = DataCollatorWithPadding(tokenizer=tokenizer)\n",
        "\n",
        "def compute_metrics(eval_preds):\n",
        "    metric = evaluate.load(\"glue\", \"mrpc\")\n",
        "    logits, labels = eval_preds\n",
        "    predictions = np.argmax(logits, axis=-1)\n",
        "    return metric.compute(predictions=predictions, references=labels)"
      ],
      "metadata": {
        "id": "VDqSTwjJilGA",
        "collapsed": true
      },
      "execution_count": null,
      "outputs": []
    },
    {
      "cell_type": "code",
      "execution_count": null,
      "metadata": {
        "id": "dnum5mxHf-MI"
      },
      "outputs": [],
      "source": [
        "def get_trainable_parameters(model):\n",
        "  trainable_parameters = 0\n",
        "  parameters = 0\n",
        "  for param in model.parameters():\n",
        "    parameters += param.numel()\n",
        "    if param.requires_grad:\n",
        "      trainable_parameters += param.numel()\n",
        "  return {'total_parameters': parameters, 'trainable_parameters': trainable_parameters}"
      ]
    },
    {
      "cell_type": "code",
      "source": [
        "import csv\n",
        "\n",
        "def write_results_to_csv(file_name, results):\n",
        "  with open(file_name, 'w', newline='') as csvfile:\n",
        "      writer = csv.DictWriter(csvfile, fieldnames=list(results[0].keys()))\n",
        "      writer.writeheader()\n",
        "      for result in results:\n",
        "        writer.writerow(result)"
      ],
      "metadata": {
        "id": "yexmh39lLLnX"
      },
      "execution_count": null,
      "outputs": []
    },
    {
      "cell_type": "markdown",
      "source": [
        "Number of times to run each section."
      ],
      "metadata": {
        "id": "JN1jXzaKZQsV"
      }
    },
    {
      "cell_type": "code",
      "source": [
        "num_runs = 5"
      ],
      "metadata": {
        "id": "xiqIwicGh6Ab"
      },
      "execution_count": null,
      "outputs": []
    },
    {
      "cell_type": "markdown",
      "source": [
        "# Full Fine-Tuning\n",
        "\n"
      ],
      "metadata": {
        "id": "6pdjddZVsbQN"
      }
    },
    {
      "cell_type": "code",
      "source": [
        "def fine_tune(epochs, batch_size, learning_rate):\n",
        "  # Initialize result\n",
        "  result = {\"batch_size\": size, \"learning_rate\": rate}\n",
        "\n",
        "  # Track emissions\n",
        "  tracker = EmissionsTracker('fine-tuning-bert-tiny', save_to_file=False)\n",
        "  try:\n",
        "    tracker.start()\n",
        "\n",
        "    # Create the model\n",
        "    model = AutoModelForSequenceClassification.from_pretrained(checkpoint, num_labels=2).to(device)\n",
        "\n",
        "    # Setup the trainer\n",
        "    training_args = TrainingArguments(\n",
        "        \"fine-tuning-trainer\",\n",
        "        eval_strategy=\"epoch\",\n",
        "        per_device_eval_batch_size=size,\n",
        "        per_device_train_batch_size=size,\n",
        "        num_train_epochs=epochs,\n",
        "        learning_rate=rate,\n",
        "        disable_tqdm=True,\n",
        "        report_to=\"none\"\n",
        "    )\n",
        "    trainer = Trainer(\n",
        "        model,\n",
        "        training_args,\n",
        "        train_dataset=tokenized_datasets[\"train\"],\n",
        "        eval_dataset=tokenized_datasets[\"validation\"],\n",
        "        data_collator=data_collator,\n",
        "        processing_class=tokenizer,\n",
        "        compute_metrics=compute_metrics\n",
        "    )\n",
        "\n",
        "    # Train the model\n",
        "    result |= trainer.train().metrics\n",
        "\n",
        "    # Stop tracking emissions\n",
        "    tracker.stop()\n",
        "\n",
        "    # Store metrics and delete the tracker\n",
        "    result |= trainer.evaluate() | get_trainable_parameters(model) | tracker.final_emissions_data.values\n",
        "  finally:\n",
        "    del tracker\n",
        "\n",
        "  return result"
      ],
      "metadata": {
        "id": "AQt5byIxFRrJ"
      },
      "execution_count": null,
      "outputs": []
    },
    {
      "cell_type": "markdown",
      "source": [
        "Hyperparameters from [google-research/bert](https://github.com/google-research/bert):\n",
        "\n",
        "\n",
        "\n",
        "> For each task, we selected the best fine-tuning hyperparameters from the lists below, and trained for 4 epochs:\n",
        "> * batch sizes: 8, 16, 32, 64, 128\n",
        "> * learning rates: 3e-4, 1e-4, 5e-5, 3e-5\n",
        "\n"
      ],
      "metadata": {
        "id": "aZnBuTehsapX"
      }
    },
    {
      "cell_type": "code",
      "source": [
        "epochs = 4\n",
        "batch_sizes = [8, 16, 32, 64, 128]\n",
        "learning_rates = [3e-4, 1e-4, 5e-5, 3e-5]"
      ],
      "metadata": {
        "id": "62XZoxhusMhO"
      },
      "execution_count": null,
      "outputs": []
    },
    {
      "cell_type": "code",
      "source": [
        "from transformers import Trainer, TrainingArguments, AutoModelForSequenceClassification, set_seed\n",
        "import time\n",
        "\n",
        "ft_results = []\n",
        "progress = 0\n",
        "iterations = len(batch_sizes)*len(learning_rates)*num_runs\n",
        "\n",
        "# Hyperparameter tuning\n",
        "start_time = time.time()\n",
        "for run in range(1, num_runs+1):\n",
        "  set_seed(run)\n",
        "\n",
        "  for size in batch_sizes:\n",
        "    for rate in learning_rates:\n",
        "      # Track progress\n",
        "      progress += 1\n",
        "      print(f\"Progress: {progress}/{iterations}\")\n",
        "\n",
        "      # Fine-tune the model and store the results\n",
        "      ft_result = {\"run\":run}\n",
        "      ft_result |= fine_tune(epochs, size, rate)\n",
        "      ft_results.append(ft_result)\n",
        "\n",
        "end_time = time.time()\n",
        "\n",
        "runtime_seconds = end_time - start_time\n",
        "runtime_minutes = runtime_seconds / 60\n",
        "\n",
        "# Output the best result\n",
        "max_ft_result = ft_results[0]\n",
        "for _, result in enumerate(ft_results):\n",
        "  if result['eval_f1'] > max_ft_result['eval_f1']:\n",
        "    max_ft_result = result\n",
        "print(f'\\n================ \\\n",
        "        \\nTotal Runtime: {runtime_minutes} minutes \\\n",
        "        \\nBest Result: \\\n",
        "        \\n\\tF1={max_ft_result[\"eval_f1\"]} \\\n",
        "        \\n\\tBatch Size={max_ft_result[\"batch_size\"]} \\\n",
        "        \\n\\tLearning Rate={max_ft_result[\"learning_rate\"]}'\n",
        ")\n",
        "\n",
        "# Save all the results\n",
        "write_results_to_csv(output_dir + 'ft-results.csv', ft_results)"
      ],
      "metadata": {
        "id": "R0rtaL56jMN3"
      },
      "execution_count": null,
      "outputs": []
    },
    {
      "cell_type": "markdown",
      "source": [
        "# Low-Rank Adaptation (LoRA)"
      ],
      "metadata": {
        "id": "fn2hce2EzI11"
      }
    },
    {
      "cell_type": "code",
      "source": [
        "from transformers import AutoModelForSequenceClassification\n",
        "\n",
        "lora_model = AutoModelForSequenceClassification.from_pretrained(checkpoint, num_labels=2).to(device)"
      ],
      "metadata": {
        "id": "HeNFNs4QzF7t"
      },
      "execution_count": null,
      "outputs": []
    },
    {
      "cell_type": "code",
      "execution_count": null,
      "metadata": {
        "id": "MivaCxsh7UKy"
      },
      "outputs": [],
      "source": [
        "class LoraModule(nn.Module):\n",
        "  def __init__(self, in_features, out_features, rank, alpha):\n",
        "    super().__init__()\n",
        "    self.scale = alpha / rank\n",
        "    self.A = nn.Parameter(torch.randn(in_features, rank))\n",
        "    self.B = nn.Parameter(torch.zeros(rank, out_features))\n",
        "\n",
        "  def forward(self, x):\n",
        "    return (self.scale * (x @ self.A @ self.B))\n",
        "\n",
        "class LoraLinear(nn.Module):\n",
        "  def __init__(self, linear, rank, alpha):\n",
        "    super().__init__()\n",
        "    if (isinstance(linear, LoraLinear)):\n",
        "      self.linear = linear.linear\n",
        "      self.lora = LoraModule(self.linear.in_features, self.linear.out_features, rank, alpha)\n",
        "\n",
        "    else:\n",
        "      self.linear = linear\n",
        "      self.lora = LoraModule(self.linear.in_features, self.linear.out_features, rank, alpha)\n",
        "\n",
        "  def forward(self, x):\n",
        "    return self.linear(x) + self.lora(x)"
      ]
    },
    {
      "cell_type": "code",
      "source": [
        "def configure_lora_model(model, rank, alpha):\n",
        "  # Replace the query and value linear layers with LoRA layers\n",
        "  for _, layer in enumerate(model.bert.encoder.layer):\n",
        "    s = layer.attention.self\n",
        "    s.query = LoraLinear(s.query, rank, alpha)\n",
        "    s.value = LoraLinear(s.value, rank, alpha)\n",
        "\n",
        "  # Freeze the pre-trained weights\n",
        "  for name, param in model.named_parameters():\n",
        "    if 'A' in name or 'B' in name:\n",
        "      param.requires_grad = True\n",
        "    else:\n",
        "      param.requires_grad = False"
      ],
      "metadata": {
        "id": "G32Km33dIKU5"
      },
      "execution_count": null,
      "outputs": []
    },
    {
      "cell_type": "code",
      "source": [
        "def fine_tune_with_lora_model(model, rank, alpha, epochs, batch_size, learning_rate):\n",
        "  # Initialize result\n",
        "  result = {\"rank\": rank, \"alpha\": alpha, \"batch_size\": batch_size, \"learning_rate\": learning_rate}\n",
        "\n",
        "  # Track emissions\n",
        "  tracker = EmissionsTracker('lora-bert-tiny', save_to_file=False)\n",
        "  try:\n",
        "    tracker.start()\n",
        "\n",
        "    # Configure an existing model with new LoRA layers\n",
        "    configure_lora_model(model, rank, alpha)\n",
        "\n",
        "    # Setup the trainer\n",
        "    training_args = TrainingArguments(\n",
        "        \"lora-trainer\",\n",
        "        eval_strategy=\"epoch\",\n",
        "        per_device_eval_batch_size=size,\n",
        "        per_device_train_batch_size=size,\n",
        "        num_train_epochs=epochs,\n",
        "        learning_rate=rate,\n",
        "        disable_tqdm=True,\n",
        "        report_to=\"none\"\n",
        "    )\n",
        "    trainer = Trainer(\n",
        "        model,\n",
        "        training_args,\n",
        "        train_dataset=tokenized_datasets[\"train\"],\n",
        "        eval_dataset=tokenized_datasets[\"validation\"],\n",
        "        data_collator=data_collator,\n",
        "        processing_class=tokenizer,\n",
        "        compute_metrics=compute_metrics\n",
        "    )\n",
        "\n",
        "    # Train the model\n",
        "    result |= trainer.train().metrics\n",
        "\n",
        "    # Stop tracking emissions\n",
        "    tracker.stop()\n",
        "\n",
        "    # Store metrics and delete the tracker\n",
        "    result |= trainer.evaluate() | get_trainable_parameters(model) | tracker.final_emissions_data.values\n",
        "  finally:\n",
        "    del tracker\n",
        "\n",
        "  return result"
      ],
      "metadata": {
        "id": "LCBi9TYnHlk9"
      },
      "execution_count": null,
      "outputs": []
    },
    {
      "cell_type": "code",
      "source": [
        "ranks = [1, 2, 4, 8, 16]\n",
        "alphas = [1, 2, 4, 8, 16]"
      ],
      "metadata": {
        "id": "niceYTIvGnz2"
      },
      "execution_count": null,
      "outputs": []
    },
    {
      "cell_type": "code",
      "source": [
        "from transformers import Trainer, TrainingArguments, set_seed\n",
        "import time\n",
        "\n",
        "lora_results = []\n",
        "progress = 0\n",
        "iterations = len(batch_sizes)*len(learning_rates)*len(ranks)*len(alphas)*num_runs\n",
        "\n",
        "# Hyperparameter tuning\n",
        "start_time = time.time()\n",
        "for run in range(1, num_runs+1):\n",
        "  set_seed(run)\n",
        "\n",
        "  for rank in ranks:\n",
        "    for alpha in alphas:\n",
        "      for size in batch_sizes:\n",
        "        for rate in learning_rates:\n",
        "          # Track progress\n",
        "          progress += 1\n",
        "          print(f\"Progress: {progress}/{iterations}\")\n",
        "\n",
        "          # Fine-tune the LoRA model and store the results\n",
        "          lora_result = {\"run\": run}\n",
        "          lora_result |= fine_tune_with_lora_model(lora_model, rank, alpha, epochs, size, rate)\n",
        "          lora_results.append(lora_result)\n",
        "\n",
        "end_time = time.time()\n",
        "\n",
        "runtime_seconds = end_time - start_time\n",
        "runtime_hours = runtime_seconds / 3600\n",
        "\n",
        "# Output the best result\n",
        "max_lora_result = lora_results[0]\n",
        "for _, result in enumerate(lora_results):\n",
        "  if result['eval_f1'] > max_lora_result['eval_f1']:\n",
        "    max_lora_result = result\n",
        "print(f'\\n================ \\\n",
        "        \\nTotal Runtime: {runtime_hours} hours \\\n",
        "        \\nBest Result: \\\n",
        "        \\n\\tF1={max_lora_result[\"eval_f1\"]} \\\n",
        "        \\n\\tRank={max_lora_result[\"rank\"]} \\\n",
        "        \\n\\tAlpha={max_lora_result[\"alpha\"]} \\\n",
        "        \\n\\tBatch Size={max_lora_result[\"batch_size\"]} \\\n",
        "        \\n\\tLearning Rate={max_lora_result[\"learning_rate\"]}'\n",
        ")\n",
        "\n",
        "# Save all the results\n",
        "write_results_to_csv(output_dir + 'lora-results.csv', lora_results)"
      ],
      "metadata": {
        "id": "2sRCUocTD3eo"
      },
      "execution_count": null,
      "outputs": []
    }
  ],
  "metadata": {
    "accelerator": "GPU",
    "colab": {
      "gpuType": "T4",
      "machine_shape": "hm",
      "provenance": [],
      "authorship_tag": "ABX9TyMoiWShIvotlmUFak7YuPbm",
      "include_colab_link": true
    },
    "kernelspec": {
      "display_name": "Python 3",
      "name": "python3"
    },
    "language_info": {
      "name": "python"
    }
  },
  "nbformat": 4,
  "nbformat_minor": 0
}