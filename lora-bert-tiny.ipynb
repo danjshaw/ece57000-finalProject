{
  "cells": [
    {
      "cell_type": "markdown",
      "metadata": {
        "id": "view-in-github",
        "colab_type": "text"
      },
      "source": [
        "<a href=\"https://colab.research.google.com/github/danjshaw/ece57000-finalProject/blob/main/lora-bert-tiny.ipynb\" target=\"_parent\"><img src=\"https://colab.research.google.com/assets/colab-badge.svg\" alt=\"Open In Colab\"/></a>"
      ]
    },
    {
      "cell_type": "markdown",
      "source": [
        "# Initial Setup"
      ],
      "metadata": {
        "id": "RJc8lRi2sPF3"
      }
    },
    {
      "cell_type": "code",
      "source": [
        "from google.colab import drive\n",
        "drive.mount('/content/drive')"
      ],
      "metadata": {
        "id": "s1zuELS-Znol",
        "colab": {
          "base_uri": "https://localhost:8080/"
        },
        "outputId": "7f8177a1-797d-4084-be7a-ef616f46f391"
      },
      "execution_count": 1,
      "outputs": [
        {
          "output_type": "stream",
          "name": "stdout",
          "text": [
            "Mounted at /content/drive\n"
          ]
        }
      ]
    },
    {
      "cell_type": "code",
      "execution_count": 2,
      "metadata": {
        "colab": {
          "base_uri": "https://localhost:8080/"
        },
        "collapsed": true,
        "id": "OOOR51p7nJQb",
        "outputId": "0f66c19e-49f8-43aa-ece3-586c8dad3a18"
      },
      "outputs": [
        {
          "output_type": "stream",
          "name": "stdout",
          "text": [
            "Collecting datasets\n",
            "  Downloading datasets-3.1.0-py3-none-any.whl.metadata (20 kB)\n",
            "Requirement already satisfied: filelock in /usr/local/lib/python3.10/dist-packages (from datasets) (3.16.1)\n",
            "Requirement already satisfied: numpy>=1.17 in /usr/local/lib/python3.10/dist-packages (from datasets) (1.26.4)\n",
            "Requirement already satisfied: pyarrow>=15.0.0 in /usr/local/lib/python3.10/dist-packages (from datasets) (17.0.0)\n",
            "Collecting dill<0.3.9,>=0.3.0 (from datasets)\n",
            "  Downloading dill-0.3.8-py3-none-any.whl.metadata (10 kB)\n",
            "Requirement already satisfied: pandas in /usr/local/lib/python3.10/dist-packages (from datasets) (2.2.2)\n",
            "Requirement already satisfied: requests>=2.32.2 in /usr/local/lib/python3.10/dist-packages (from datasets) (2.32.3)\n",
            "Requirement already satisfied: tqdm>=4.66.3 in /usr/local/lib/python3.10/dist-packages (from datasets) (4.66.6)\n",
            "Collecting xxhash (from datasets)\n",
            "  Downloading xxhash-3.5.0-cp310-cp310-manylinux_2_17_x86_64.manylinux2014_x86_64.whl.metadata (12 kB)\n",
            "Collecting multiprocess<0.70.17 (from datasets)\n",
            "  Downloading multiprocess-0.70.16-py310-none-any.whl.metadata (7.2 kB)\n",
            "Collecting fsspec<=2024.9.0,>=2023.1.0 (from fsspec[http]<=2024.9.0,>=2023.1.0->datasets)\n",
            "  Downloading fsspec-2024.9.0-py3-none-any.whl.metadata (11 kB)\n",
            "Requirement already satisfied: aiohttp in /usr/local/lib/python3.10/dist-packages (from datasets) (3.10.10)\n",
            "Requirement already satisfied: huggingface-hub>=0.23.0 in /usr/local/lib/python3.10/dist-packages (from datasets) (0.26.2)\n",
            "Requirement already satisfied: packaging in /usr/local/lib/python3.10/dist-packages (from datasets) (24.2)\n",
            "Requirement already satisfied: pyyaml>=5.1 in /usr/local/lib/python3.10/dist-packages (from datasets) (6.0.2)\n",
            "Requirement already satisfied: aiohappyeyeballs>=2.3.0 in /usr/local/lib/python3.10/dist-packages (from aiohttp->datasets) (2.4.3)\n",
            "Requirement already satisfied: aiosignal>=1.1.2 in /usr/local/lib/python3.10/dist-packages (from aiohttp->datasets) (1.3.1)\n",
            "Requirement already satisfied: attrs>=17.3.0 in /usr/local/lib/python3.10/dist-packages (from aiohttp->datasets) (24.2.0)\n",
            "Requirement already satisfied: frozenlist>=1.1.1 in /usr/local/lib/python3.10/dist-packages (from aiohttp->datasets) (1.5.0)\n",
            "Requirement already satisfied: multidict<7.0,>=4.5 in /usr/local/lib/python3.10/dist-packages (from aiohttp->datasets) (6.1.0)\n",
            "Requirement already satisfied: yarl<2.0,>=1.12.0 in /usr/local/lib/python3.10/dist-packages (from aiohttp->datasets) (1.17.1)\n",
            "Requirement already satisfied: async-timeout<5.0,>=4.0 in /usr/local/lib/python3.10/dist-packages (from aiohttp->datasets) (4.0.3)\n",
            "Requirement already satisfied: typing-extensions>=3.7.4.3 in /usr/local/lib/python3.10/dist-packages (from huggingface-hub>=0.23.0->datasets) (4.12.2)\n",
            "Requirement already satisfied: charset-normalizer<4,>=2 in /usr/local/lib/python3.10/dist-packages (from requests>=2.32.2->datasets) (3.4.0)\n",
            "Requirement already satisfied: idna<4,>=2.5 in /usr/local/lib/python3.10/dist-packages (from requests>=2.32.2->datasets) (3.10)\n",
            "Requirement already satisfied: urllib3<3,>=1.21.1 in /usr/local/lib/python3.10/dist-packages (from requests>=2.32.2->datasets) (2.2.3)\n",
            "Requirement already satisfied: certifi>=2017.4.17 in /usr/local/lib/python3.10/dist-packages (from requests>=2.32.2->datasets) (2024.8.30)\n",
            "Requirement already satisfied: python-dateutil>=2.8.2 in /usr/local/lib/python3.10/dist-packages (from pandas->datasets) (2.8.2)\n",
            "Requirement already satisfied: pytz>=2020.1 in /usr/local/lib/python3.10/dist-packages (from pandas->datasets) (2024.2)\n",
            "Requirement already satisfied: tzdata>=2022.7 in /usr/local/lib/python3.10/dist-packages (from pandas->datasets) (2024.2)\n",
            "Requirement already satisfied: six>=1.5 in /usr/local/lib/python3.10/dist-packages (from python-dateutil>=2.8.2->pandas->datasets) (1.16.0)\n",
            "Requirement already satisfied: propcache>=0.2.0 in /usr/local/lib/python3.10/dist-packages (from yarl<2.0,>=1.12.0->aiohttp->datasets) (0.2.0)\n",
            "Downloading datasets-3.1.0-py3-none-any.whl (480 kB)\n",
            "\u001b[2K   \u001b[90m━━━━━━━━━━━━━━━━━━━━━━━━━━━━━━━━━━━━━━━━\u001b[0m \u001b[32m480.6/480.6 kB\u001b[0m \u001b[31m9.3 MB/s\u001b[0m eta \u001b[36m0:00:00\u001b[0m\n",
            "\u001b[?25hDownloading dill-0.3.8-py3-none-any.whl (116 kB)\n",
            "\u001b[2K   \u001b[90m━━━━━━━━━━━━━━━━━━━━━━━━━━━━━━━━━━━━━━━━\u001b[0m \u001b[32m116.3/116.3 kB\u001b[0m \u001b[31m11.5 MB/s\u001b[0m eta \u001b[36m0:00:00\u001b[0m\n",
            "\u001b[?25hDownloading fsspec-2024.9.0-py3-none-any.whl (179 kB)\n",
            "\u001b[2K   \u001b[90m━━━━━━━━━━━━━━━━━━━━━━━━━━━━━━━━━━━━━━━━\u001b[0m \u001b[32m179.3/179.3 kB\u001b[0m \u001b[31m17.4 MB/s\u001b[0m eta \u001b[36m0:00:00\u001b[0m\n",
            "\u001b[?25hDownloading multiprocess-0.70.16-py310-none-any.whl (134 kB)\n",
            "\u001b[2K   \u001b[90m━━━━━━━━━━━━━━━━━━━━━━━━━━━━━━━━━━━━━━━━\u001b[0m \u001b[32m134.8/134.8 kB\u001b[0m \u001b[31m13.4 MB/s\u001b[0m eta \u001b[36m0:00:00\u001b[0m\n",
            "\u001b[?25hDownloading xxhash-3.5.0-cp310-cp310-manylinux_2_17_x86_64.manylinux2014_x86_64.whl (194 kB)\n",
            "\u001b[2K   \u001b[90m━━━━━━━━━━━━━━━━━━━━━━━━━━━━━━━━━━━━━━━━\u001b[0m \u001b[32m194.1/194.1 kB\u001b[0m \u001b[31m20.8 MB/s\u001b[0m eta \u001b[36m0:00:00\u001b[0m\n",
            "\u001b[?25hInstalling collected packages: xxhash, fsspec, dill, multiprocess, datasets\n",
            "  Attempting uninstall: fsspec\n",
            "    Found existing installation: fsspec 2024.10.0\n",
            "    Uninstalling fsspec-2024.10.0:\n",
            "      Successfully uninstalled fsspec-2024.10.0\n",
            "\u001b[31mERROR: pip's dependency resolver does not currently take into account all the packages that are installed. This behaviour is the source of the following dependency conflicts.\n",
            "gcsfs 2024.10.0 requires fsspec==2024.10.0, but you have fsspec 2024.9.0 which is incompatible.\u001b[0m\u001b[31m\n",
            "\u001b[0mSuccessfully installed datasets-3.1.0 dill-0.3.8 fsspec-2024.9.0 multiprocess-0.70.16 xxhash-3.5.0\n",
            "Collecting evaluate\n",
            "  Downloading evaluate-0.4.3-py3-none-any.whl.metadata (9.2 kB)\n",
            "Requirement already satisfied: datasets>=2.0.0 in /usr/local/lib/python3.10/dist-packages (from evaluate) (3.1.0)\n",
            "Requirement already satisfied: numpy>=1.17 in /usr/local/lib/python3.10/dist-packages (from evaluate) (1.26.4)\n",
            "Requirement already satisfied: dill in /usr/local/lib/python3.10/dist-packages (from evaluate) (0.3.8)\n",
            "Requirement already satisfied: pandas in /usr/local/lib/python3.10/dist-packages (from evaluate) (2.2.2)\n",
            "Requirement already satisfied: requests>=2.19.0 in /usr/local/lib/python3.10/dist-packages (from evaluate) (2.32.3)\n",
            "Requirement already satisfied: tqdm>=4.62.1 in /usr/local/lib/python3.10/dist-packages (from evaluate) (4.66.6)\n",
            "Requirement already satisfied: xxhash in /usr/local/lib/python3.10/dist-packages (from evaluate) (3.5.0)\n",
            "Requirement already satisfied: multiprocess in /usr/local/lib/python3.10/dist-packages (from evaluate) (0.70.16)\n",
            "Requirement already satisfied: fsspec>=2021.05.0 in /usr/local/lib/python3.10/dist-packages (from fsspec[http]>=2021.05.0->evaluate) (2024.9.0)\n",
            "Requirement already satisfied: huggingface-hub>=0.7.0 in /usr/local/lib/python3.10/dist-packages (from evaluate) (0.26.2)\n",
            "Requirement already satisfied: packaging in /usr/local/lib/python3.10/dist-packages (from evaluate) (24.2)\n",
            "Requirement already satisfied: filelock in /usr/local/lib/python3.10/dist-packages (from datasets>=2.0.0->evaluate) (3.16.1)\n",
            "Requirement already satisfied: pyarrow>=15.0.0 in /usr/local/lib/python3.10/dist-packages (from datasets>=2.0.0->evaluate) (17.0.0)\n",
            "Requirement already satisfied: aiohttp in /usr/local/lib/python3.10/dist-packages (from datasets>=2.0.0->evaluate) (3.10.10)\n",
            "Requirement already satisfied: pyyaml>=5.1 in /usr/local/lib/python3.10/dist-packages (from datasets>=2.0.0->evaluate) (6.0.2)\n",
            "Requirement already satisfied: typing-extensions>=3.7.4.3 in /usr/local/lib/python3.10/dist-packages (from huggingface-hub>=0.7.0->evaluate) (4.12.2)\n",
            "Requirement already satisfied: charset-normalizer<4,>=2 in /usr/local/lib/python3.10/dist-packages (from requests>=2.19.0->evaluate) (3.4.0)\n",
            "Requirement already satisfied: idna<4,>=2.5 in /usr/local/lib/python3.10/dist-packages (from requests>=2.19.0->evaluate) (3.10)\n",
            "Requirement already satisfied: urllib3<3,>=1.21.1 in /usr/local/lib/python3.10/dist-packages (from requests>=2.19.0->evaluate) (2.2.3)\n",
            "Requirement already satisfied: certifi>=2017.4.17 in /usr/local/lib/python3.10/dist-packages (from requests>=2.19.0->evaluate) (2024.8.30)\n",
            "Requirement already satisfied: python-dateutil>=2.8.2 in /usr/local/lib/python3.10/dist-packages (from pandas->evaluate) (2.8.2)\n",
            "Requirement already satisfied: pytz>=2020.1 in /usr/local/lib/python3.10/dist-packages (from pandas->evaluate) (2024.2)\n",
            "Requirement already satisfied: tzdata>=2022.7 in /usr/local/lib/python3.10/dist-packages (from pandas->evaluate) (2024.2)\n",
            "Requirement already satisfied: aiohappyeyeballs>=2.3.0 in /usr/local/lib/python3.10/dist-packages (from aiohttp->datasets>=2.0.0->evaluate) (2.4.3)\n",
            "Requirement already satisfied: aiosignal>=1.1.2 in /usr/local/lib/python3.10/dist-packages (from aiohttp->datasets>=2.0.0->evaluate) (1.3.1)\n",
            "Requirement already satisfied: attrs>=17.3.0 in /usr/local/lib/python3.10/dist-packages (from aiohttp->datasets>=2.0.0->evaluate) (24.2.0)\n",
            "Requirement already satisfied: frozenlist>=1.1.1 in /usr/local/lib/python3.10/dist-packages (from aiohttp->datasets>=2.0.0->evaluate) (1.5.0)\n",
            "Requirement already satisfied: multidict<7.0,>=4.5 in /usr/local/lib/python3.10/dist-packages (from aiohttp->datasets>=2.0.0->evaluate) (6.1.0)\n",
            "Requirement already satisfied: yarl<2.0,>=1.12.0 in /usr/local/lib/python3.10/dist-packages (from aiohttp->datasets>=2.0.0->evaluate) (1.17.1)\n",
            "Requirement already satisfied: async-timeout<5.0,>=4.0 in /usr/local/lib/python3.10/dist-packages (from aiohttp->datasets>=2.0.0->evaluate) (4.0.3)\n",
            "Requirement already satisfied: six>=1.5 in /usr/local/lib/python3.10/dist-packages (from python-dateutil>=2.8.2->pandas->evaluate) (1.16.0)\n",
            "Requirement already satisfied: propcache>=0.2.0 in /usr/local/lib/python3.10/dist-packages (from yarl<2.0,>=1.12.0->aiohttp->datasets>=2.0.0->evaluate) (0.2.0)\n",
            "Downloading evaluate-0.4.3-py3-none-any.whl (84 kB)\n",
            "\u001b[2K   \u001b[90m━━━━━━━━━━━━━━━━━━━━━━━━━━━━━━━━━━━━━━━━\u001b[0m \u001b[32m84.0/84.0 kB\u001b[0m \u001b[31m2.2 MB/s\u001b[0m eta \u001b[36m0:00:00\u001b[0m\n",
            "\u001b[?25hInstalling collected packages: evaluate\n",
            "Successfully installed evaluate-0.4.3\n"
          ]
        }
      ],
      "source": [
        "!pip install datasets\n",
        "!pip install evaluate\n",
        "import os\n",
        "if not os.path.exists('/content/drive/MyDrive/lora-bert-tiny/'):\n",
        "    os.makedirs('/content/drive/MyDrive/lora-bert-tiny/')\n",
        "!pip freeze > /content/drive/MyDrive/lora-bert-tiny/requirements.txt"
      ]
    },
    {
      "cell_type": "code",
      "source": [
        "import torch\n",
        "import torch.nn as nn\n",
        "import numpy as np\n",
        "from transformers import set_seed\n",
        "set_seed(0)"
      ],
      "metadata": {
        "id": "_rJOUWbHb7h7"
      },
      "execution_count": 3,
      "outputs": []
    },
    {
      "cell_type": "code",
      "source": [
        "device = torch.device(\"cuda\" if torch.cuda.is_available() else \"cpu\")\n",
        "print(device)"
      ],
      "metadata": {
        "colab": {
          "base_uri": "https://localhost:8080/"
        },
        "id": "DiAkOY-564eO",
        "outputId": "37d1c628-a9e1-42be-d37a-292e47c9da40"
      },
      "execution_count": 4,
      "outputs": [
        {
          "output_type": "stream",
          "name": "stdout",
          "text": [
            "cuda\n"
          ]
        }
      ]
    },
    {
      "cell_type": "markdown",
      "source": [
        "Followed examples from this [Hugging Face NLP course](https://huggingface.co/learn/nlp-course/chapter3/3?fw=pt#fine-tuning-a-model-with-the-trainer-api) on how to use the trainer API for fine-tuning."
      ],
      "metadata": {
        "id": "xM1jwv_maqfd"
      }
    },
    {
      "cell_type": "code",
      "source": [
        "from datasets import load_dataset\n",
        "from transformers import AutoTokenizer, DataCollatorWithPadding\n",
        "\n",
        "raw_datasets = load_dataset(\"glue\", \"mrpc\")\n",
        "checkpoint = \"prajjwal1/bert-tiny\"\n",
        "tokenizer = AutoTokenizer.from_pretrained(checkpoint)\n",
        "\n",
        "def tokenize_function(example):\n",
        "    return tokenizer(example[\"sentence1\"], example[\"sentence2\"], truncation=True)\n",
        "\n",
        "tokenized_datasets = raw_datasets.map(tokenize_function, batched=True)\n",
        "data_collator = DataCollatorWithPadding(tokenizer=tokenizer)"
      ],
      "metadata": {
        "colab": {
          "base_uri": "https://localhost:8080/",
          "height": 542,
          "referenced_widgets": [
            "b4c5540088334bc387f818e5c3ad85a8",
            "89fd1ae95c5a48c0b1939029d5902f2c",
            "af666d52aca947e2913059bf51267a15",
            "50968370ab394ef7971dd6b3a22b6c21",
            "a5be4c3603e045cf85435bb2b1d784f6",
            "cc34bf039304416dbdaba6f0a9c6defb",
            "cbc8179242cf4d858cf8c4f3c3c55ae4",
            "31c2bca1ed1845a48afb4c85eef2c3a9",
            "46b7170428ae455e8633eb263535830a",
            "da6e187808394d70acdebb71925bbb5a",
            "0883b747a7a14edcada394ac4a59eb62",
            "06092b3c4cdc41a29ad263c5e997d331",
            "6bc8ffadf9e94c29bc0e6a5fc859bff2",
            "d4fbf35fea2740879c8a097ee7312690",
            "4a785155ce7248eb8e9b9c7a724400bf",
            "ce440cc2f6154748be8d4eeea70f7d5b",
            "827818eb077a42d8a49cb3a54c4d2b5e",
            "a762d2e1728a48d1880f14f2f1c8adce",
            "fa6f4b9ce7a84da19488ad9b3f97bf6e",
            "088f6bf004e449d8b2667da873c60e5c",
            "f5439e880ce84925beda94e2e30e90f6",
            "ae150bcb9b464ca1ac57d3e66ff8634c",
            "57b266c40de149ccaa3555960672764e",
            "b650d7f11ef14a32bc943d082e93d8bc",
            "c61329386eaf46d9a6c220561e1f90e1",
            "d38114df34ad496388a7b29f3f84d0bf",
            "672aff019f0d43c6adf3c188c84187e5",
            "1d2c8280b7d946e9aa76f512c1805d64",
            "113bc01e93104c8eb9bc3035ef27e168",
            "f14e7f08375542f3b4bcd38f833effd5",
            "b5760b466d7e4784aa30a2d70f564ebb",
            "16021e0c3efb460fa261896e902df4c1",
            "781d8bbad24f4bf986052a26195a3c3c",
            "1b93b28db208461eb152075353d85cb5",
            "e948a7d88d8e4f42ba8856c2975b0c55",
            "1ea6e81ed0e4498b9cb7368d6f745bad",
            "2a6c24e7cfbf429ba49745bcc9fbde40",
            "b8a183c4b4bc4096812dc226ab35fba2",
            "369ee1a861c7454b8076f0dcd57b8c23",
            "bd731bfcc3994ab591416afb470aada8",
            "a0cf0d10ae3d4447a27b4bec0fb9a864",
            "cfdb00743e124d39b7a8d5be7fffeee1",
            "f2e6c66d92944e9989316256f04f9a9e",
            "a66608c21b5443cfb672fa81b4a11e50",
            "686327c623154e58af8a91ea7f5f2797",
            "00482ee32bbd472d9a2e9cad52eb11f5",
            "07cec35edc934cfab7bbfee41dd5a2eb",
            "8e8ce7b65832434388b6ceffe6e75402",
            "bc448e27425f45e883173b337f954940",
            "64c10a30da584af6a67a80f0e27b1881",
            "48de4ac9ead04bc0840716fff19e6cb4",
            "1e226b3be4964ea68f0e926d21541509",
            "6716ab6e46754428be94c49de4162fb1",
            "789d853887a84ef791a770e97bfcc91f",
            "00c632d577ee463d914df148ee542332",
            "b26cf7c08f5a4a44bddf8b5083abd93a",
            "a1e93086d0f84b558ea8a633b3a052da",
            "03c9cc47a7f34832843f4d1de188bab3",
            "ca1341da233d4447bdd8a0aa0dc1c302",
            "70f241082ecf4760863b508265b0f6d7",
            "b24ed46c5e3a4fa99d754971bd93b74f",
            "607702a4384c4acaa2aa8a571a4f858b",
            "213b1dc9bd324f15881e819dff1e8f2b",
            "7b4846da264f404590b778601c2652cd",
            "e7e42dae41734aed917924e7e19cb17a",
            "497279c6e28c4fc18d3bf7108f81e2aa",
            "97fa0409803c402bbd8844151c39fe95",
            "60f2c6bdeb704afb8774cbd2a0fd63fe",
            "42148471a2364b68bda948d3e6eaa6c0",
            "d3943eea89db475f999a188501f3fdb6",
            "c81dc65af69148ae84e70ebf36b70d52",
            "eaceeb12c2564b1d9fbe6d8dfaca2381",
            "6696e41c3e7e4a50aa77532c7c4ecf43",
            "219ae4e0a3ac4b3bb18866f4d3e1ac42",
            "c4af20901bae462aa99d8cf7592cce10",
            "40a9293a96594591a199775320c93329",
            "772cfb18103a44b08f00d7eb1c4a4bc2",
            "7c8f63d642f145e1a93004512f5525af",
            "d33f6a7de3c94c17b4ec447286b08586",
            "2968628513d6435698586df943e9adcc",
            "f773f6d0e446410099cfe42632a500e4",
            "696f93fc913b4fdfb0c2e6b62e77b3d9",
            "41b703dc01804f2a887d5093dda7e149",
            "f8b9fa3fe0e64bde9141423145f58ed2",
            "c6b635ac3806485892fe36c1315bb9ee",
            "f0966fedc6b14a75a93fe8148457a08a",
            "b199884cb73446d695dcd393e64c8b61",
            "a4979d38c5e1485a9aea58cf73740723",
            "693d65f9f74645b290153961211fc891",
            "6ce031a1f28e4f9e81f05c8e3ca44216",
            "b26b0ef776b44647b0826775df440f95",
            "9313c5039b3744d1b19578c4e5d49108",
            "ef59e276ccdc413ebbb7442afdf07b4f",
            "b410886b136840bdbd6f54fc4caf1620",
            "1181db451d9c44d982b19496c22aa56b",
            "90c6d282a94b4887a234a2dc1580b9b4",
            "fcce2c096fad4bafa36186e0157b8b87",
            "edb6783c493749bbbdf78ea1264cd729",
            "f9a7d79207c84038ad558195306517ea",
            "98cc54e85aa148a79d420f0d96574673",
            "ad27412d96724a459b97cda72d00822f",
            "4f655aeab20041098e479197a3a7b824",
            "254692de1e134534adb7cd98a0d336d2",
            "ddecd8b021004a3785de093d07cfc13f",
            "8f38a8959ae04a90b36e1f0fe5b7b1a8",
            "baac3a8ce1c4467898f1f89cf4fbffa0",
            "751c5a8ddd1d4471b219ba74a3db2360",
            "562c8870176d4716baee250612994654",
            "79e5002a8ffc4147bdeaab5ee4c28238",
            "d5cd5bedd3d946ae85c133598d6b891d",
            "acddf93885d348d69689ccdfaf83c86c",
            "7e03c476f77e4295a56777dfed3b9c09",
            "01971d4db9c6498b94f7a04eab02c17c",
            "d97195ff27ba41329f7c4f86e4a0ee2b",
            "8be7e5a832264a66b7e4340585d21f75",
            "5325ec76c54b4c83bd038e60b870527f",
            "5679fb7a768a43c3b3c66e01838a8bdd",
            "909b007c7c1a488a95a9a9981d65c906",
            "d0218eee5cb24738ad2b6c6453fbf8fe",
            "7f44045c45bb42fdb96aac625c516b64",
            "6c0b24d6022945f091a85579eb92c7ce",
            "2fb4d9dd0af84bf7b2eed9de815134a1",
            "11a567267378410ab3f92117d3316ea3",
            "5c6300055ba64a2985a00f166fd54d7f",
            "ab0b6e5523e8451ebf73512ce373a191",
            "7068cdd5d53d40a7a811eab9952ee3f1",
            "4c209134c3964acd8dc1d43362d8741a",
            "914c16e314b94e629923d5629918f3b8",
            "3558485695064a36954f760b59ef6ee7",
            "caec8fe5ead6466187248222049dc868",
            "fd3f7dc7cf2e4332b40b73715aa8ede2",
            "a2adf85527744161a677edee83896c6e"
          ]
        },
        "id": "VDqSTwjJilGA",
        "outputId": "75acb47f-28ba-4e86-ef56-dc18fea0dc84",
        "collapsed": true
      },
      "execution_count": 5,
      "outputs": [
        {
          "output_type": "stream",
          "name": "stderr",
          "text": [
            "/usr/local/lib/python3.10/dist-packages/huggingface_hub/utils/_auth.py:94: UserWarning: \n",
            "The secret `HF_TOKEN` does not exist in your Colab secrets.\n",
            "To authenticate with the Hugging Face Hub, create a token in your settings tab (https://huggingface.co/settings/tokens), set it as secret in your Google Colab and restart your session.\n",
            "You will be able to reuse this secret in all of your notebooks.\n",
            "Please note that authentication is recommended but still optional to access public models or datasets.\n",
            "  warnings.warn(\n"
          ]
        },
        {
          "output_type": "display_data",
          "data": {
            "text/plain": [
              "README.md:   0%|          | 0.00/35.3k [00:00<?, ?B/s]"
            ],
            "application/vnd.jupyter.widget-view+json": {
              "version_major": 2,
              "version_minor": 0,
              "model_id": "b4c5540088334bc387f818e5c3ad85a8"
            }
          },
          "metadata": {}
        },
        {
          "output_type": "display_data",
          "data": {
            "text/plain": [
              "train-00000-of-00001.parquet:   0%|          | 0.00/649k [00:00<?, ?B/s]"
            ],
            "application/vnd.jupyter.widget-view+json": {
              "version_major": 2,
              "version_minor": 0,
              "model_id": "06092b3c4cdc41a29ad263c5e997d331"
            }
          },
          "metadata": {}
        },
        {
          "output_type": "display_data",
          "data": {
            "text/plain": [
              "validation-00000-of-00001.parquet:   0%|          | 0.00/75.7k [00:00<?, ?B/s]"
            ],
            "application/vnd.jupyter.widget-view+json": {
              "version_major": 2,
              "version_minor": 0,
              "model_id": "57b266c40de149ccaa3555960672764e"
            }
          },
          "metadata": {}
        },
        {
          "output_type": "display_data",
          "data": {
            "text/plain": [
              "test-00000-of-00001.parquet:   0%|          | 0.00/308k [00:00<?, ?B/s]"
            ],
            "application/vnd.jupyter.widget-view+json": {
              "version_major": 2,
              "version_minor": 0,
              "model_id": "1b93b28db208461eb152075353d85cb5"
            }
          },
          "metadata": {}
        },
        {
          "output_type": "display_data",
          "data": {
            "text/plain": [
              "Generating train split:   0%|          | 0/3668 [00:00<?, ? examples/s]"
            ],
            "application/vnd.jupyter.widget-view+json": {
              "version_major": 2,
              "version_minor": 0,
              "model_id": "686327c623154e58af8a91ea7f5f2797"
            }
          },
          "metadata": {}
        },
        {
          "output_type": "display_data",
          "data": {
            "text/plain": [
              "Generating validation split:   0%|          | 0/408 [00:00<?, ? examples/s]"
            ],
            "application/vnd.jupyter.widget-view+json": {
              "version_major": 2,
              "version_minor": 0,
              "model_id": "b26cf7c08f5a4a44bddf8b5083abd93a"
            }
          },
          "metadata": {}
        },
        {
          "output_type": "display_data",
          "data": {
            "text/plain": [
              "Generating test split:   0%|          | 0/1725 [00:00<?, ? examples/s]"
            ],
            "application/vnd.jupyter.widget-view+json": {
              "version_major": 2,
              "version_minor": 0,
              "model_id": "97fa0409803c402bbd8844151c39fe95"
            }
          },
          "metadata": {}
        },
        {
          "output_type": "display_data",
          "data": {
            "text/plain": [
              "config.json:   0%|          | 0.00/285 [00:00<?, ?B/s]"
            ],
            "application/vnd.jupyter.widget-view+json": {
              "version_major": 2,
              "version_minor": 0,
              "model_id": "7c8f63d642f145e1a93004512f5525af"
            }
          },
          "metadata": {}
        },
        {
          "output_type": "display_data",
          "data": {
            "text/plain": [
              "vocab.txt:   0%|          | 0.00/232k [00:00<?, ?B/s]"
            ],
            "application/vnd.jupyter.widget-view+json": {
              "version_major": 2,
              "version_minor": 0,
              "model_id": "693d65f9f74645b290153961211fc891"
            }
          },
          "metadata": {}
        },
        {
          "output_type": "display_data",
          "data": {
            "text/plain": [
              "Map:   0%|          | 0/3668 [00:00<?, ? examples/s]"
            ],
            "application/vnd.jupyter.widget-view+json": {
              "version_major": 2,
              "version_minor": 0,
              "model_id": "98cc54e85aa148a79d420f0d96574673"
            }
          },
          "metadata": {}
        },
        {
          "output_type": "stream",
          "name": "stderr",
          "text": [
            "Asking to truncate to max_length but no maximum length is provided and the model has no predefined maximum length. Default to no truncation.\n"
          ]
        },
        {
          "output_type": "display_data",
          "data": {
            "text/plain": [
              "Map:   0%|          | 0/408 [00:00<?, ? examples/s]"
            ],
            "application/vnd.jupyter.widget-view+json": {
              "version_major": 2,
              "version_minor": 0,
              "model_id": "acddf93885d348d69689ccdfaf83c86c"
            }
          },
          "metadata": {}
        },
        {
          "output_type": "display_data",
          "data": {
            "text/plain": [
              "Map:   0%|          | 0/1725 [00:00<?, ? examples/s]"
            ],
            "application/vnd.jupyter.widget-view+json": {
              "version_major": 2,
              "version_minor": 0,
              "model_id": "2fb4d9dd0af84bf7b2eed9de815134a1"
            }
          },
          "metadata": {}
        }
      ]
    },
    {
      "cell_type": "code",
      "source": [
        "import evaluate\n",
        "\n",
        "def compute_metrics(eval_preds):\n",
        "    metric = evaluate.load(\"glue\", \"mrpc\")\n",
        "    logits, labels = eval_preds\n",
        "    predictions = np.argmax(logits, axis=-1)\n",
        "    return metric.compute(predictions=predictions, references=labels)"
      ],
      "metadata": {
        "id": "Nogjf_bmjS1_"
      },
      "execution_count": 6,
      "outputs": []
    },
    {
      "cell_type": "code",
      "source": [
        "num_runs = 5"
      ],
      "metadata": {
        "id": "xiqIwicGh6Ab"
      },
      "execution_count": 7,
      "outputs": []
    },
    {
      "cell_type": "markdown",
      "source": [
        "Hyperparameters from [google-research/bert](https://github.com/google-research/bert):\n",
        "\n",
        "\n",
        "\n",
        "> For each task, we selected the best fine-tuning hyperparameters from the lists below, and trained for 4 epochs:\n",
        "> * batch sizes: 8, 16, 32, 64, 128\n",
        "> * learning rates: 3e-4, 1e-4, 5e-5, 3e-5\n",
        "\n"
      ],
      "metadata": {
        "id": "aZnBuTehsapX"
      }
    },
    {
      "cell_type": "code",
      "source": [
        "epochs = 4\n",
        "batch_sizes = [8, 16, 32, 64, 128]\n",
        "learning_rates = [3e-4, 1e-4, 5e-5, 3e-5]"
      ],
      "metadata": {
        "id": "62XZoxhusMhO"
      },
      "execution_count": 8,
      "outputs": []
    },
    {
      "cell_type": "markdown",
      "source": [
        "# Full Fine-Tuning\n",
        "\n"
      ],
      "metadata": {
        "id": "6pdjddZVsbQN"
      }
    },
    {
      "cell_type": "code",
      "source": [
        "from transformers import AutoModelForSequenceClassification\n",
        "\n",
        "ft_model = AutoModelForSequenceClassification.from_pretrained(checkpoint, num_labels=2).to(device)"
      ],
      "metadata": {
        "id": "cmkwN2WtjKGn",
        "collapsed": true,
        "colab": {
          "base_uri": "https://localhost:8080/",
          "height": 104,
          "referenced_widgets": [
            "34caf11a545343ec8961c206c6aca492",
            "e5c250c672f6491db71f36f5a9c1b068",
            "93ee27a05bee4dcab402c155e591d0ab",
            "0b8b75bf6afd42238df2df027f044586",
            "a1e8b076d9cd4a639fd38d5096cb5be4",
            "dce6e82dd09d41a78342734f8f1dea92",
            "593b2c0e204d405cb6d48ac5118768bc",
            "49e70d2df42e4398aaa3ffb8d35c177e",
            "8f575a2e565e466095a1b0dd6d4976c3",
            "060c83a01836445d87482f27cc7e2284",
            "8c6e6e5a2f2d4527b504b08685646205"
          ]
        },
        "outputId": "bdf4be91-1bb2-4840-cd44-81acc649f31f"
      },
      "execution_count": 9,
      "outputs": [
        {
          "output_type": "display_data",
          "data": {
            "text/plain": [
              "pytorch_model.bin:   0%|          | 0.00/17.8M [00:00<?, ?B/s]"
            ],
            "application/vnd.jupyter.widget-view+json": {
              "version_major": 2,
              "version_minor": 0,
              "model_id": "34caf11a545343ec8961c206c6aca492"
            }
          },
          "metadata": {}
        },
        {
          "output_type": "stream",
          "name": "stderr",
          "text": [
            "Some weights of BertForSequenceClassification were not initialized from the model checkpoint at prajjwal1/bert-tiny and are newly initialized: ['classifier.bias', 'classifier.weight']\n",
            "You should probably TRAIN this model on a down-stream task to be able to use it for predictions and inference.\n"
          ]
        }
      ]
    },
    {
      "cell_type": "code",
      "source": [
        "from transformers import Trainer, TrainingArguments, AutoModelForSequenceClassification\n",
        "import time\n",
        "\n",
        "start_time = time.time()\n",
        "\n",
        "ft_results = []\n",
        "iterations = len(batch_sizes)*len(learning_rates)*num_runs\n",
        "progress = 0\n",
        "for run in range(1, num_runs+1):\n",
        "  for size in batch_sizes:\n",
        "    for rate in learning_rates:\n",
        "      progress += 1\n",
        "      print(f\"Progress: {progress}/{iterations}\")\n",
        "      ft_result = {\"run\":run, \"batch_size\": size, \"learning_rate\": rate}\n",
        "\n",
        "      ft_model = AutoModelForSequenceClassification.from_pretrained(checkpoint, num_labels=2).to(device)\n",
        "\n",
        "      training_args = TrainingArguments(\n",
        "          \"ft-trainer\",\n",
        "          eval_strategy=\"epoch\",\n",
        "          per_device_eval_batch_size=size,\n",
        "          per_device_train_batch_size=size,\n",
        "          num_train_epochs=epochs,\n",
        "          learning_rate=rate,\n",
        "          disable_tqdm=True,\n",
        "          report_to=\"none\"\n",
        "      )\n",
        "\n",
        "      trainer = Trainer(\n",
        "          ft_model,\n",
        "          training_args,\n",
        "          train_dataset=tokenized_datasets[\"train\"],\n",
        "          eval_dataset=tokenized_datasets[\"validation\"],\n",
        "          data_collator=data_collator,\n",
        "          processing_class=tokenizer,\n",
        "          compute_metrics=compute_metrics\n",
        "      )\n",
        "\n",
        "      ft_result = ft_result | trainer.train().metrics | trainer.evaluate()\n",
        "      ft_results.append(ft_result)\n",
        "\n",
        "end_time = time.time()\n",
        "\n",
        "runtime_seconds = end_time - start_time\n",
        "runtime_minutes = runtime_seconds / 60\n",
        "\n",
        "ft_max = ft_results[0]\n",
        "for i, result in enumerate(ft_results):\n",
        "  if result['eval_f1'] > ft_max['eval_f1']:\n",
        "    ft_max = result\n",
        "\n",
        "print(f'\\n================ \\\n",
        "        \\nRuntime: {runtime_minutes} minutes \\\n",
        "        \\nBest Result: \\\n",
        "        \\nbatch_size={ft_max[\"batch_size\"]}, \\\n",
        "        \\nlearning_rate={ft_max[\"learning_rate\"]}, \\\n",
        "        \\neval_f1={ft_max[\"eval_f1\"]}')\n",
        "\n",
        "import csv\n",
        "\n",
        "with open('/content/drive/MyDrive/lora-bert-tiny/ft-results.csv', 'w', newline='') as csvfile:\n",
        "    writer = csv.DictWriter(csvfile, fieldnames=list(ft_results[0].keys()))\n",
        "\n",
        "    writer.writeheader()\n",
        "    for result in ft_results:\n",
        "      writer.writerow(result)"
      ],
      "metadata": {
        "id": "R0rtaL56jMN3",
        "colab": {
          "base_uri": "https://localhost:8080/",
          "height": 1000,
          "referenced_widgets": [
            "6f599039b82f43b3ac3e3d6ea448b6fd",
            "039d7a70d2d84aad8b959f9e4e48b30d",
            "674bdb8a33f94ada903b53faa8588c15",
            "00d4df6f14074315904f0ef44e05833c",
            "afbf2a2a6aa04cdcba2ca6c9e138ffb8",
            "ac5d7035f98544bab6bae5ca5085e208",
            "54e69d974dbf445bb7521601d334fa80",
            "a0770309283c4c8d988937d5d0f0f1b7",
            "423b6158a5534024b599eb4b2b7ed2de",
            "c9d108bc790840c6b2587a07bd5fe529",
            "62d015325c9b4aaf81ea6c0627c4013d",
            "67adf62c05b2441b8bc60f956b7caf8a",
            "4487eba307e74a969b8e459a694b3ca1",
            "a065218d9cf142038687d4dca21729dd",
            "8eba1689e14345aa90330866078fc79f",
            "fed872cc2ec14e4d87a94462c61eec61",
            "31d079c9b39741958cab7910b739c49e",
            "4cfcf0964a9048f5a970601252c274b2",
            "ca9facc8c6fa4e79b5d1ead54fa949f8",
            "e3dfcd61c419412c9b2d2c99d1c1e525",
            "5f61f672a750437fa6000a2156d7bcff",
            "960d3c6041084a5daa14303f3c1b45c7"
          ]
        },
        "outputId": "087161b0-c06c-4b52-921a-4db0c955ff07"
      },
      "execution_count": 10,
      "outputs": [
        {
          "output_type": "stream",
          "name": "stdout",
          "text": [
            "Progress: 1/100\n"
          ]
        },
        {
          "output_type": "stream",
          "name": "stderr",
          "text": [
            "Some weights of BertForSequenceClassification were not initialized from the model checkpoint at prajjwal1/bert-tiny and are newly initialized: ['classifier.bias', 'classifier.weight']\n",
            "You should probably TRAIN this model on a down-stream task to be able to use it for predictions and inference.\n"
          ]
        },
        {
          "output_type": "display_data",
          "data": {
            "text/plain": [
              "model.safetensors:   0%|          | 0.00/17.7M [00:00<?, ?B/s]"
            ],
            "application/vnd.jupyter.widget-view+json": {
              "version_major": 2,
              "version_minor": 0,
              "model_id": "6f599039b82f43b3ac3e3d6ea448b6fd"
            }
          },
          "metadata": {}
        },
        {
          "output_type": "display_data",
          "data": {
            "text/plain": [
              "Downloading builder script:   0%|          | 0.00/5.75k [00:00<?, ?B/s]"
            ],
            "application/vnd.jupyter.widget-view+json": {
              "version_major": 2,
              "version_minor": 0,
              "model_id": "67adf62c05b2441b8bc60f956b7caf8a"
            }
          },
          "metadata": {}
        },
        {
          "output_type": "stream",
          "name": "stdout",
          "text": [
            "{'eval_loss': 0.5835773944854736, 'eval_accuracy': 0.7181372549019608, 'eval_f1': 0.8275862068965517, 'eval_runtime': 1.9178, 'eval_samples_per_second': 212.741, 'eval_steps_per_second': 26.593, 'epoch': 1.0}\n",
            "{'loss': 0.5911, 'grad_norm': 3.7462449073791504, 'learning_rate': 0.00021830065359477123, 'epoch': 1.0893246187363834}\n",
            "{'eval_loss': 0.5930801630020142, 'eval_accuracy': 0.7132352941176471, 'eval_f1': 0.8163265306122449, 'eval_runtime': 1.93, 'eval_samples_per_second': 211.399, 'eval_steps_per_second': 26.425, 'epoch': 2.0}\n",
            "{'loss': 0.4593, 'grad_norm': 22.534181594848633, 'learning_rate': 0.00013660130718954247, 'epoch': 2.178649237472767}\n",
            "{'eval_loss': 0.8781757950782776, 'eval_accuracy': 0.696078431372549, 'eval_f1': 0.7905405405405406, 'eval_runtime': 1.6061, 'eval_samples_per_second': 254.031, 'eval_steps_per_second': 31.754, 'epoch': 3.0}\n",
            "{'loss': 0.283, 'grad_norm': 0.7782564163208008, 'learning_rate': 5.4901960784313716e-05, 'epoch': 3.2679738562091503}\n",
            "{'eval_loss': 1.1398804187774658, 'eval_accuracy': 0.7034313725490197, 'eval_f1': 0.800658978583196, 'eval_runtime': 1.6124, 'eval_samples_per_second': 253.039, 'eval_steps_per_second': 31.63, 'epoch': 4.0}\n",
            "{'train_runtime': 29.1679, 'train_samples_per_second': 503.018, 'train_steps_per_second': 62.946, 'train_loss': 0.404075701512023, 'epoch': 4.0}\n",
            "{'eval_loss': 1.1398804187774658, 'eval_accuracy': 0.7034313725490197, 'eval_f1': 0.800658978583196, 'eval_runtime': 1.2568, 'eval_samples_per_second': 324.644, 'eval_steps_per_second': 40.581, 'epoch': 4.0}\n",
            "Progress: 2/100\n"
          ]
        },
        {
          "output_type": "stream",
          "name": "stderr",
          "text": [
            "Some weights of BertForSequenceClassification were not initialized from the model checkpoint at prajjwal1/bert-tiny and are newly initialized: ['classifier.bias', 'classifier.weight']\n",
            "You should probably TRAIN this model on a down-stream task to be able to use it for predictions and inference.\n"
          ]
        },
        {
          "output_type": "stream",
          "name": "stdout",
          "text": [
            "{'eval_loss': 0.571905791759491, 'eval_accuracy': 0.7034313725490197, 'eval_f1': 0.8169440242057489, 'eval_runtime': 1.2731, 'eval_samples_per_second': 320.467, 'eval_steps_per_second': 40.058, 'epoch': 1.0}\n",
            "{'loss': 0.5884, 'grad_norm': 4.293759822845459, 'learning_rate': 7.276688453159042e-05, 'epoch': 1.0893246187363834}\n",
            "{'eval_loss': 0.5654860734939575, 'eval_accuracy': 0.7352941176470589, 'eval_f1': 0.8285714285714286, 'eval_runtime': 1.2455, 'eval_samples_per_second': 327.588, 'eval_steps_per_second': 40.949, 'epoch': 2.0}\n",
            "{'loss': 0.4993, 'grad_norm': 8.675013542175293, 'learning_rate': 4.5533769063180834e-05, 'epoch': 2.178649237472767}\n",
            "{'eval_loss': 0.6270501613616943, 'eval_accuracy': 0.7352941176470589, 'eval_f1': 0.8296529968454258, 'eval_runtime': 1.2502, 'eval_samples_per_second': 326.345, 'eval_steps_per_second': 40.793, 'epoch': 3.0}\n",
            "{'loss': 0.4045, 'grad_norm': 26.807472229003906, 'learning_rate': 1.8300653594771242e-05, 'epoch': 3.2679738562091503}\n",
            "{'eval_loss': 0.6656573414802551, 'eval_accuracy': 0.7377450980392157, 'eval_f1': 0.8325508607198748, 'eval_runtime': 1.6263, 'eval_samples_per_second': 250.87, 'eval_steps_per_second': 31.359, 'epoch': 4.0}\n",
            "{'train_runtime': 26.4746, 'train_samples_per_second': 554.192, 'train_steps_per_second': 69.349, 'train_loss': 0.47345523792674077, 'epoch': 4.0}\n",
            "{'eval_loss': 0.6656573414802551, 'eval_accuracy': 0.7377450980392157, 'eval_f1': 0.8325508607198748, 'eval_runtime': 1.6316, 'eval_samples_per_second': 250.058, 'eval_steps_per_second': 31.257, 'epoch': 4.0}\n",
            "Progress: 3/100\n"
          ]
        },
        {
          "output_type": "stream",
          "name": "stderr",
          "text": [
            "Some weights of BertForSequenceClassification were not initialized from the model checkpoint at prajjwal1/bert-tiny and are newly initialized: ['classifier.bias', 'classifier.weight']\n",
            "You should probably TRAIN this model on a down-stream task to be able to use it for predictions and inference.\n"
          ]
        },
        {
          "output_type": "stream",
          "name": "stdout",
          "text": [
            "{'eval_loss': 0.5733863711357117, 'eval_accuracy': 0.7009803921568627, 'eval_f1': 0.8134556574923547, 'eval_runtime': 1.6835, 'eval_samples_per_second': 242.346, 'eval_steps_per_second': 30.293, 'epoch': 1.0}\n",
            "{'loss': 0.6013, 'grad_norm': 4.323869228363037, 'learning_rate': 3.638344226579521e-05, 'epoch': 1.0893246187363834}\n",
            "{'eval_loss': 0.5774785876274109, 'eval_accuracy': 0.7083333333333334, 'eval_f1': 0.8194233687405159, 'eval_runtime': 1.2403, 'eval_samples_per_second': 328.944, 'eval_steps_per_second': 41.118, 'epoch': 2.0}\n",
            "{'loss': 0.5438, 'grad_norm': 5.283394813537598, 'learning_rate': 2.2766884531590417e-05, 'epoch': 2.178649237472767}\n",
            "{'eval_loss': 0.5611313581466675, 'eval_accuracy': 0.7279411764705882, 'eval_f1': 0.8246445497630331, 'eval_runtime': 1.2657, 'eval_samples_per_second': 322.354, 'eval_steps_per_second': 40.294, 'epoch': 3.0}\n",
            "{'loss': 0.4849, 'grad_norm': 14.096569061279297, 'learning_rate': 9.150326797385621e-06, 'epoch': 3.2679738562091503}\n",
            "{'eval_loss': 0.587859570980072, 'eval_accuracy': 0.7279411764705882, 'eval_f1': 0.8268330733229329, 'eval_runtime': 1.2581, 'eval_samples_per_second': 324.307, 'eval_steps_per_second': 40.538, 'epoch': 4.0}\n",
            "{'train_runtime': 27.1184, 'train_samples_per_second': 541.035, 'train_steps_per_second': 67.703, 'train_loss': 0.5309766798497285, 'epoch': 4.0}\n",
            "{'eval_loss': 0.587859570980072, 'eval_accuracy': 0.7279411764705882, 'eval_f1': 0.8268330733229329, 'eval_runtime': 1.6051, 'eval_samples_per_second': 254.192, 'eval_steps_per_second': 31.774, 'epoch': 4.0}\n",
            "Progress: 4/100\n"
          ]
        },
        {
          "output_type": "stream",
          "name": "stderr",
          "text": [
            "Some weights of BertForSequenceClassification were not initialized from the model checkpoint at prajjwal1/bert-tiny and are newly initialized: ['classifier.bias', 'classifier.weight']\n",
            "You should probably TRAIN this model on a down-stream task to be able to use it for predictions and inference.\n"
          ]
        },
        {
          "output_type": "stream",
          "name": "stdout",
          "text": [
            "{'eval_loss': 0.5838139653205872, 'eval_accuracy': 0.7009803921568627, 'eval_f1': 0.8184523809523809, 'eval_runtime': 1.6341, 'eval_samples_per_second': 249.671, 'eval_steps_per_second': 31.209, 'epoch': 1.0}\n",
            "{'loss': 0.6134, 'grad_norm': 2.5178942680358887, 'learning_rate': 2.1830065359477124e-05, 'epoch': 1.0893246187363834}\n",
            "{'eval_loss': 0.5830901861190796, 'eval_accuracy': 0.7034313725490197, 'eval_f1': 0.8180451127819549, 'eval_runtime': 1.6177, 'eval_samples_per_second': 252.207, 'eval_steps_per_second': 31.526, 'epoch': 2.0}\n",
            "{'loss': 0.5689, 'grad_norm': 4.079008102416992, 'learning_rate': 1.366013071895425e-05, 'epoch': 2.178649237472767}\n",
            "{'eval_loss': 0.568699836730957, 'eval_accuracy': 0.7132352941176471, 'eval_f1': 0.8197226502311248, 'eval_runtime': 1.3182, 'eval_samples_per_second': 309.516, 'eval_steps_per_second': 38.69, 'epoch': 3.0}\n",
            "{'loss': 0.5302, 'grad_norm': 6.041450023651123, 'learning_rate': 5.490196078431373e-06, 'epoch': 3.2679738562091503}\n",
            "{'eval_loss': 0.5771942734718323, 'eval_accuracy': 0.7107843137254902, 'eval_f1': 0.8195718654434251, 'eval_runtime': 1.2688, 'eval_samples_per_second': 321.565, 'eval_steps_per_second': 40.196, 'epoch': 4.0}\n",
            "{'train_runtime': 26.3292, 'train_samples_per_second': 557.252, 'train_steps_per_second': 69.733, 'train_loss': 0.5637553262814458, 'epoch': 4.0}\n",
            "{'eval_loss': 0.5771942734718323, 'eval_accuracy': 0.7107843137254902, 'eval_f1': 0.8195718654434251, 'eval_runtime': 1.6031, 'eval_samples_per_second': 254.502, 'eval_steps_per_second': 31.813, 'epoch': 4.0}\n",
            "Progress: 5/100\n"
          ]
        },
        {
          "output_type": "stream",
          "name": "stderr",
          "text": [
            "Some weights of BertForSequenceClassification were not initialized from the model checkpoint at prajjwal1/bert-tiny and are newly initialized: ['classifier.bias', 'classifier.weight']\n",
            "You should probably TRAIN this model on a down-stream task to be able to use it for predictions and inference.\n"
          ]
        },
        {
          "output_type": "stream",
          "name": "stdout",
          "text": [
            "{'eval_loss': 0.5624045133590698, 'eval_accuracy': 0.7230392156862745, 'eval_f1': 0.8231611893583725, 'eval_runtime': 1.1733, 'eval_samples_per_second': 347.724, 'eval_steps_per_second': 22.159, 'epoch': 1.0}\n",
            "{'eval_loss': 0.5531349778175354, 'eval_accuracy': 0.7328431372549019, 'eval_f1': 0.8256, 'eval_runtime': 1.1823, 'eval_samples_per_second': 345.096, 'eval_steps_per_second': 21.991, 'epoch': 2.0}\n",
            "{'loss': 0.5239, 'grad_norm': 15.012598991394043, 'learning_rate': 0.00013695652173913042, 'epoch': 2.1739130434782608}\n",
            "{'eval_loss': 0.590812087059021, 'eval_accuracy': 0.7401960784313726, 'eval_f1': 0.8221476510067114, 'eval_runtime': 1.8723, 'eval_samples_per_second': 217.912, 'eval_steps_per_second': 13.887, 'epoch': 3.0}\n",
            "{'eval_loss': 0.7519146800041199, 'eval_accuracy': 0.7377450980392157, 'eval_f1': 0.8243021346469622, 'eval_runtime': 1.1662, 'eval_samples_per_second': 349.854, 'eval_steps_per_second': 22.295, 'epoch': 4.0}\n",
            "{'train_runtime': 16.887, 'train_samples_per_second': 868.836, 'train_steps_per_second': 54.48, 'train_loss': 0.40669037362803584, 'epoch': 4.0}\n",
            "{'eval_loss': 0.7519146800041199, 'eval_accuracy': 0.7377450980392157, 'eval_f1': 0.8243021346469622, 'eval_runtime': 1.5103, 'eval_samples_per_second': 270.14, 'eval_steps_per_second': 17.215, 'epoch': 4.0}\n",
            "Progress: 6/100\n"
          ]
        },
        {
          "output_type": "stream",
          "name": "stderr",
          "text": [
            "Some weights of BertForSequenceClassification were not initialized from the model checkpoint at prajjwal1/bert-tiny and are newly initialized: ['classifier.bias', 'classifier.weight']\n",
            "You should probably TRAIN this model on a down-stream task to be able to use it for predictions and inference.\n"
          ]
        },
        {
          "output_type": "stream",
          "name": "stdout",
          "text": [
            "{'eval_loss': 0.564354419708252, 'eval_accuracy': 0.7132352941176471, 'eval_f1': 0.8180404354587869, 'eval_runtime': 1.1652, 'eval_samples_per_second': 350.159, 'eval_steps_per_second': 22.314, 'epoch': 1.0}\n",
            "{'eval_loss': 0.5474852919578552, 'eval_accuracy': 0.7377450980392157, 'eval_f1': 0.831496062992126, 'eval_runtime': 1.5547, 'eval_samples_per_second': 262.424, 'eval_steps_per_second': 16.723, 'epoch': 2.0}\n",
            "{'loss': 0.5577, 'grad_norm': 6.763742923736572, 'learning_rate': 4.565217391304348e-05, 'epoch': 2.1739130434782608}\n",
            "{'eval_loss': 0.5569795966148376, 'eval_accuracy': 0.7426470588235294, 'eval_f1': 0.8330683624801272, 'eval_runtime': 1.8603, 'eval_samples_per_second': 219.315, 'eval_steps_per_second': 13.976, 'epoch': 3.0}\n",
            "{'eval_loss': 0.5896832346916199, 'eval_accuracy': 0.7328431372549019, 'eval_f1': 0.8299531981279251, 'eval_runtime': 1.8691, 'eval_samples_per_second': 218.288, 'eval_steps_per_second': 13.911, 'epoch': 4.0}\n",
            "{'train_runtime': 17.9, 'train_samples_per_second': 819.663, 'train_steps_per_second': 51.397, 'train_loss': 0.5020559891410495, 'epoch': 4.0}\n",
            "{'eval_loss': 0.5896832346916199, 'eval_accuracy': 0.7328431372549019, 'eval_f1': 0.8299531981279251, 'eval_runtime': 1.5189, 'eval_samples_per_second': 268.617, 'eval_steps_per_second': 17.118, 'epoch': 4.0}\n",
            "Progress: 7/100\n"
          ]
        },
        {
          "output_type": "stream",
          "name": "stderr",
          "text": [
            "Some weights of BertForSequenceClassification were not initialized from the model checkpoint at prajjwal1/bert-tiny and are newly initialized: ['classifier.bias', 'classifier.weight']\n",
            "You should probably TRAIN this model on a down-stream task to be able to use it for predictions and inference.\n"
          ]
        },
        {
          "output_type": "stream",
          "name": "stdout",
          "text": [
            "{'eval_loss': 0.5816411972045898, 'eval_accuracy': 0.6887254901960784, 'eval_f1': 0.8095952023988006, 'eval_runtime': 1.1835, 'eval_samples_per_second': 344.752, 'eval_steps_per_second': 21.97, 'epoch': 1.0}\n",
            "{'eval_loss': 0.5781240463256836, 'eval_accuracy': 0.7034313725490197, 'eval_f1': 0.8185907046476761, 'eval_runtime': 1.1648, 'eval_samples_per_second': 350.286, 'eval_steps_per_second': 22.322, 'epoch': 2.0}\n",
            "{'loss': 0.5845, 'grad_norm': 4.170251846313477, 'learning_rate': 2.282608695652174e-05, 'epoch': 2.1739130434782608}\n",
            "{'eval_loss': 0.568314790725708, 'eval_accuracy': 0.7083333333333334, 'eval_f1': 0.8183206106870229, 'eval_runtime': 1.1615, 'eval_samples_per_second': 351.261, 'eval_steps_per_second': 22.384, 'epoch': 3.0}\n",
            "{'eval_loss': 0.568650484085083, 'eval_accuracy': 0.7205882352941176, 'eval_f1': 0.8246153846153846, 'eval_runtime': 1.5331, 'eval_samples_per_second': 266.132, 'eval_steps_per_second': 16.959, 'epoch': 4.0}\n",
            "{'train_runtime': 16.3841, 'train_samples_per_second': 895.501, 'train_steps_per_second': 56.152, 'train_loss': 0.5531564961309018, 'epoch': 4.0}\n",
            "{'eval_loss': 0.568650484085083, 'eval_accuracy': 0.7205882352941176, 'eval_f1': 0.8246153846153846, 'eval_runtime': 1.8621, 'eval_samples_per_second': 219.109, 'eval_steps_per_second': 13.963, 'epoch': 4.0}\n",
            "Progress: 8/100\n"
          ]
        },
        {
          "output_type": "stream",
          "name": "stderr",
          "text": [
            "Some weights of BertForSequenceClassification were not initialized from the model checkpoint at prajjwal1/bert-tiny and are newly initialized: ['classifier.bias', 'classifier.weight']\n",
            "You should probably TRAIN this model on a down-stream task to be able to use it for predictions and inference.\n"
          ]
        },
        {
          "output_type": "stream",
          "name": "stdout",
          "text": [
            "{'eval_loss': 0.5934128761291504, 'eval_accuracy': 0.6985294117647058, 'eval_f1': 0.8193832599118943, 'eval_runtime': 1.8718, 'eval_samples_per_second': 217.973, 'eval_steps_per_second': 13.89, 'epoch': 1.0}\n",
            "{'eval_loss': 0.5834196209907532, 'eval_accuracy': 0.6985294117647058, 'eval_f1': 0.8161434977578476, 'eval_runtime': 1.5146, 'eval_samples_per_second': 269.387, 'eval_steps_per_second': 17.167, 'epoch': 2.0}\n",
            "{'loss': 0.6021, 'grad_norm': 2.227717161178589, 'learning_rate': 1.3695652173913042e-05, 'epoch': 2.1739130434782608}\n",
            "{'eval_loss': 0.574123740196228, 'eval_accuracy': 0.6936274509803921, 'eval_f1': 0.8114630467571644, 'eval_runtime': 1.8512, 'eval_samples_per_second': 220.403, 'eval_steps_per_second': 14.045, 'epoch': 3.0}\n",
            "{'eval_loss': 0.5735155940055847, 'eval_accuracy': 0.696078431372549, 'eval_f1': 0.8126888217522659, 'eval_runtime': 1.8848, 'eval_samples_per_second': 216.465, 'eval_steps_per_second': 13.794, 'epoch': 4.0}\n",
            "{'train_runtime': 18.5524, 'train_samples_per_second': 790.84, 'train_steps_per_second': 49.589, 'train_loss': 0.580059698353643, 'epoch': 4.0}\n",
            "{'eval_loss': 0.5735155940055847, 'eval_accuracy': 0.696078431372549, 'eval_f1': 0.8126888217522659, 'eval_runtime': 1.1484, 'eval_samples_per_second': 355.266, 'eval_steps_per_second': 22.64, 'epoch': 4.0}\n",
            "Progress: 9/100\n"
          ]
        },
        {
          "output_type": "stream",
          "name": "stderr",
          "text": [
            "Some weights of BertForSequenceClassification were not initialized from the model checkpoint at prajjwal1/bert-tiny and are newly initialized: ['classifier.bias', 'classifier.weight']\n",
            "You should probably TRAIN this model on a down-stream task to be able to use it for predictions and inference.\n"
          ]
        },
        {
          "output_type": "stream",
          "name": "stdout",
          "text": [
            "{'eval_loss': 0.5496113896369934, 'eval_accuracy': 0.7377450980392157, 'eval_f1': 0.831496062992126, 'eval_runtime': 1.4772, 'eval_samples_per_second': 276.202, 'eval_steps_per_second': 8.801, 'epoch': 1.0}\n",
            "{'eval_loss': 0.552695095539093, 'eval_accuracy': 0.7377450980392157, 'eval_f1': 0.8309636650868878, 'eval_runtime': 1.4675, 'eval_samples_per_second': 278.016, 'eval_steps_per_second': 8.858, 'epoch': 2.0}\n",
            "{'eval_loss': 0.6253054141998291, 'eval_accuracy': 0.7450980392156863, 'eval_f1': 0.8354430379746836, 'eval_runtime': 1.1331, 'eval_samples_per_second': 360.072, 'eval_steps_per_second': 11.473, 'epoch': 3.0}\n",
            "{'eval_loss': 0.6537364721298218, 'eval_accuracy': 0.7377450980392157, 'eval_f1': 0.8304278922345484, 'eval_runtime': 1.1495, 'eval_samples_per_second': 354.936, 'eval_steps_per_second': 11.309, 'epoch': 4.0}\n",
            "{'train_runtime': 12.5313, 'train_samples_per_second': 1170.827, 'train_steps_per_second': 36.708, 'train_loss': 0.43501543791397757, 'epoch': 4.0}\n",
            "{'eval_loss': 0.6537364721298218, 'eval_accuracy': 0.7377450980392157, 'eval_f1': 0.8304278922345484, 'eval_runtime': 1.1177, 'eval_samples_per_second': 365.033, 'eval_steps_per_second': 11.631, 'epoch': 4.0}\n",
            "Progress: 10/100\n"
          ]
        },
        {
          "output_type": "stream",
          "name": "stderr",
          "text": [
            "Some weights of BertForSequenceClassification were not initialized from the model checkpoint at prajjwal1/bert-tiny and are newly initialized: ['classifier.bias', 'classifier.weight']\n",
            "You should probably TRAIN this model on a down-stream task to be able to use it for predictions and inference.\n"
          ]
        },
        {
          "output_type": "stream",
          "name": "stdout",
          "text": [
            "{'eval_loss': 0.585704505443573, 'eval_accuracy': 0.6936274509803921, 'eval_f1': 0.81089258698941, 'eval_runtime': 1.4804, 'eval_samples_per_second': 275.604, 'eval_steps_per_second': 8.782, 'epoch': 1.0}\n",
            "{'eval_loss': 0.5598652958869934, 'eval_accuracy': 0.7181372549019608, 'eval_f1': 0.8205928237129485, 'eval_runtime': 1.8383, 'eval_samples_per_second': 221.95, 'eval_steps_per_second': 7.072, 'epoch': 2.0}\n",
            "{'eval_loss': 0.5700249075889587, 'eval_accuracy': 0.7132352941176471, 'eval_f1': 0.8186046511627907, 'eval_runtime': 1.1312, 'eval_samples_per_second': 360.673, 'eval_steps_per_second': 11.492, 'epoch': 3.0}\n",
            "{'eval_loss': 0.5717409253120422, 'eval_accuracy': 0.7254901960784313, 'eval_f1': 0.8255451713395638, 'eval_runtime': 1.4702, 'eval_samples_per_second': 277.515, 'eval_steps_per_second': 8.842, 'epoch': 4.0}\n",
            "{'train_runtime': 13.1953, 'train_samples_per_second': 1111.915, 'train_steps_per_second': 34.861, 'train_loss': 0.5322120666503907, 'epoch': 4.0}\n",
            "{'eval_loss': 0.5717409253120422, 'eval_accuracy': 0.7254901960784313, 'eval_f1': 0.8255451713395638, 'eval_runtime': 1.4655, 'eval_samples_per_second': 278.409, 'eval_steps_per_second': 8.871, 'epoch': 4.0}\n",
            "Progress: 11/100\n"
          ]
        },
        {
          "output_type": "stream",
          "name": "stderr",
          "text": [
            "Some weights of BertForSequenceClassification were not initialized from the model checkpoint at prajjwal1/bert-tiny and are newly initialized: ['classifier.bias', 'classifier.weight']\n",
            "You should probably TRAIN this model on a down-stream task to be able to use it for predictions and inference.\n"
          ]
        },
        {
          "output_type": "stream",
          "name": "stdout",
          "text": [
            "{'eval_loss': 0.5961236953735352, 'eval_accuracy': 0.6936274509803921, 'eval_f1': 0.8169838945827232, 'eval_runtime': 1.5284, 'eval_samples_per_second': 266.947, 'eval_steps_per_second': 8.506, 'epoch': 1.0}\n",
            "{'eval_loss': 0.5710234045982361, 'eval_accuracy': 0.7058823529411765, 'eval_f1': 0.817629179331307, 'eval_runtime': 1.1157, 'eval_samples_per_second': 365.7, 'eval_steps_per_second': 11.652, 'epoch': 2.0}\n",
            "{'eval_loss': 0.5729517340660095, 'eval_accuracy': 0.7083333333333334, 'eval_f1': 0.8199697428139183, 'eval_runtime': 1.1276, 'eval_samples_per_second': 361.82, 'eval_steps_per_second': 11.529, 'epoch': 3.0}\n",
            "{'eval_loss': 0.56805819272995, 'eval_accuracy': 0.7107843137254902, 'eval_f1': 0.8201219512195121, 'eval_runtime': 1.2153, 'eval_samples_per_second': 335.732, 'eval_steps_per_second': 10.697, 'epoch': 4.0}\n",
            "{'train_runtime': 12.1528, 'train_samples_per_second': 1207.296, 'train_steps_per_second': 37.851, 'train_loss': 0.5740605893342391, 'epoch': 4.0}\n",
            "{'eval_loss': 0.56805819272995, 'eval_accuracy': 0.7107843137254902, 'eval_f1': 0.8201219512195121, 'eval_runtime': 1.8364, 'eval_samples_per_second': 222.175, 'eval_steps_per_second': 7.079, 'epoch': 4.0}\n",
            "Progress: 12/100\n"
          ]
        },
        {
          "output_type": "stream",
          "name": "stderr",
          "text": [
            "Some weights of BertForSequenceClassification were not initialized from the model checkpoint at prajjwal1/bert-tiny and are newly initialized: ['classifier.bias', 'classifier.weight']\n",
            "You should probably TRAIN this model on a down-stream task to be able to use it for predictions and inference.\n"
          ]
        },
        {
          "output_type": "stream",
          "name": "stdout",
          "text": [
            "{'eval_loss': 0.6053450703620911, 'eval_accuracy': 0.6838235294117647, 'eval_f1': 0.8122270742358079, 'eval_runtime': 1.1213, 'eval_samples_per_second': 363.852, 'eval_steps_per_second': 11.593, 'epoch': 1.0}\n",
            "{'eval_loss': 0.5885691046714783, 'eval_accuracy': 0.7034313725490197, 'eval_f1': 0.8212703101920237, 'eval_runtime': 1.4857, 'eval_samples_per_second': 274.617, 'eval_steps_per_second': 8.75, 'epoch': 2.0}\n",
            "{'eval_loss': 0.5840325355529785, 'eval_accuracy': 0.6985294117647058, 'eval_f1': 0.8166915052160953, 'eval_runtime': 1.4523, 'eval_samples_per_second': 280.932, 'eval_steps_per_second': 8.951, 'epoch': 3.0}\n",
            "{'eval_loss': 0.5790587663650513, 'eval_accuracy': 0.696078431372549, 'eval_f1': 0.8138138138138138, 'eval_runtime': 1.5174, 'eval_samples_per_second': 268.88, 'eval_steps_per_second': 8.567, 'epoch': 4.0}\n",
            "{'train_runtime': 12.7364, 'train_samples_per_second': 1151.978, 'train_steps_per_second': 36.117, 'train_loss': 0.5975138125212296, 'epoch': 4.0}\n",
            "{'eval_loss': 0.5790587663650513, 'eval_accuracy': 0.696078431372549, 'eval_f1': 0.8138138138138138, 'eval_runtime': 1.4661, 'eval_samples_per_second': 278.283, 'eval_steps_per_second': 8.867, 'epoch': 4.0}\n",
            "Progress: 13/100\n"
          ]
        },
        {
          "output_type": "stream",
          "name": "stderr",
          "text": [
            "Some weights of BertForSequenceClassification were not initialized from the model checkpoint at prajjwal1/bert-tiny and are newly initialized: ['classifier.bias', 'classifier.weight']\n",
            "You should probably TRAIN this model on a down-stream task to be able to use it for predictions and inference.\n"
          ]
        },
        {
          "output_type": "stream",
          "name": "stdout",
          "text": [
            "{'eval_loss': 0.5753757357597351, 'eval_accuracy': 0.696078431372549, 'eval_f1': 0.8132530120481928, 'eval_runtime': 1.1057, 'eval_samples_per_second': 368.985, 'eval_steps_per_second': 6.331, 'epoch': 1.0}\n",
            "{'eval_loss': 0.550995409488678, 'eval_accuracy': 0.7328431372549019, 'eval_f1': 0.8304821150855366, 'eval_runtime': 1.4744, 'eval_samples_per_second': 276.718, 'eval_steps_per_second': 4.748, 'epoch': 2.0}\n",
            "{'eval_loss': 0.5720232129096985, 'eval_accuracy': 0.7598039215686274, 'eval_f1': 0.8434504792332268, 'eval_runtime': 1.1007, 'eval_samples_per_second': 370.672, 'eval_steps_per_second': 6.36, 'epoch': 3.0}\n",
            "{'eval_loss': 0.5971444249153137, 'eval_accuracy': 0.75, 'eval_f1': 0.8386075949367089, 'eval_runtime': 1.1127, 'eval_samples_per_second': 366.669, 'eval_steps_per_second': 6.291, 'epoch': 4.0}\n",
            "{'train_runtime': 9.8401, 'train_samples_per_second': 1491.045, 'train_steps_per_second': 23.577, 'train_loss': 0.4707464020827721, 'epoch': 4.0}\n",
            "{'eval_loss': 0.5971444249153137, 'eval_accuracy': 0.75, 'eval_f1': 0.8386075949367089, 'eval_runtime': 1.4451, 'eval_samples_per_second': 282.329, 'eval_steps_per_second': 4.844, 'epoch': 4.0}\n",
            "Progress: 14/100\n"
          ]
        },
        {
          "output_type": "stream",
          "name": "stderr",
          "text": [
            "Some weights of BertForSequenceClassification were not initialized from the model checkpoint at prajjwal1/bert-tiny and are newly initialized: ['classifier.bias', 'classifier.weight']\n",
            "You should probably TRAIN this model on a down-stream task to be able to use it for predictions and inference.\n"
          ]
        },
        {
          "output_type": "stream",
          "name": "stdout",
          "text": [
            "{'eval_loss': 0.594853937625885, 'eval_accuracy': 0.6936274509803921, 'eval_f1': 0.8169838945827232, 'eval_runtime': 1.4591, 'eval_samples_per_second': 279.632, 'eval_steps_per_second': 4.798, 'epoch': 1.0}\n",
            "{'eval_loss': 0.5708560943603516, 'eval_accuracy': 0.7009803921568627, 'eval_f1': 0.8117283950617284, 'eval_runtime': 1.0993, 'eval_samples_per_second': 371.16, 'eval_steps_per_second': 6.368, 'epoch': 2.0}\n",
            "{'eval_loss': 0.5739648938179016, 'eval_accuracy': 0.7230392156862745, 'eval_f1': 0.8269525267993875, 'eval_runtime': 1.0979, 'eval_samples_per_second': 371.626, 'eval_steps_per_second': 6.376, 'epoch': 3.0}\n",
            "{'eval_loss': 0.5612186193466187, 'eval_accuracy': 0.7303921568627451, 'eval_f1': 0.8297213622291022, 'eval_runtime': 1.4504, 'eval_samples_per_second': 281.305, 'eval_steps_per_second': 4.826, 'epoch': 4.0}\n",
            "{'train_runtime': 10.1872, 'train_samples_per_second': 1440.239, 'train_steps_per_second': 22.774, 'train_loss': 0.5603954052102977, 'epoch': 4.0}\n",
            "{'eval_loss': 0.5612186193466187, 'eval_accuracy': 0.7303921568627451, 'eval_f1': 0.8297213622291022, 'eval_runtime': 1.8101, 'eval_samples_per_second': 225.398, 'eval_steps_per_second': 3.867, 'epoch': 4.0}\n",
            "Progress: 15/100\n"
          ]
        },
        {
          "output_type": "stream",
          "name": "stderr",
          "text": [
            "Some weights of BertForSequenceClassification were not initialized from the model checkpoint at prajjwal1/bert-tiny and are newly initialized: ['classifier.bias', 'classifier.weight']\n",
            "You should probably TRAIN this model on a down-stream task to be able to use it for predictions and inference.\n"
          ]
        },
        {
          "output_type": "stream",
          "name": "stdout",
          "text": [
            "{'eval_loss': 0.6062899231910706, 'eval_accuracy': 0.6838235294117647, 'eval_f1': 0.8122270742358079, 'eval_runtime': 1.4486, 'eval_samples_per_second': 281.657, 'eval_steps_per_second': 4.832, 'epoch': 1.0}\n",
            "{'eval_loss': 0.590184211730957, 'eval_accuracy': 0.7034313725490197, 'eval_f1': 0.8212703101920237, 'eval_runtime': 1.2186, 'eval_samples_per_second': 334.82, 'eval_steps_per_second': 5.744, 'epoch': 2.0}\n",
            "{'eval_loss': 0.5828689932823181, 'eval_accuracy': 0.696078431372549, 'eval_f1': 0.8143712574850299, 'eval_runtime': 1.4734, 'eval_samples_per_second': 276.904, 'eval_steps_per_second': 4.751, 'epoch': 3.0}\n",
            "{'eval_loss': 0.5777505040168762, 'eval_accuracy': 0.6887254901960784, 'eval_f1': 0.8078668683812406, 'eval_runtime': 1.4672, 'eval_samples_per_second': 278.081, 'eval_steps_per_second': 4.771, 'epoch': 4.0}\n",
            "{'train_runtime': 10.7354, 'train_samples_per_second': 1366.691, 'train_steps_per_second': 21.611, 'train_loss': 0.5961887096536571, 'epoch': 4.0}\n",
            "{'eval_loss': 0.5777505040168762, 'eval_accuracy': 0.6887254901960784, 'eval_f1': 0.8078668683812406, 'eval_runtime': 1.4549, 'eval_samples_per_second': 280.426, 'eval_steps_per_second': 4.811, 'epoch': 4.0}\n",
            "Progress: 16/100\n"
          ]
        },
        {
          "output_type": "stream",
          "name": "stderr",
          "text": [
            "Some weights of BertForSequenceClassification were not initialized from the model checkpoint at prajjwal1/bert-tiny and are newly initialized: ['classifier.bias', 'classifier.weight']\n",
            "You should probably TRAIN this model on a down-stream task to be able to use it for predictions and inference.\n"
          ]
        },
        {
          "output_type": "stream",
          "name": "stdout",
          "text": [
            "{'eval_loss': 0.6178915500640869, 'eval_accuracy': 0.6838235294117647, 'eval_f1': 0.8122270742358079, 'eval_runtime': 1.4666, 'eval_samples_per_second': 278.197, 'eval_steps_per_second': 4.773, 'epoch': 1.0}\n",
            "{'eval_loss': 0.6015655398368835, 'eval_accuracy': 0.6838235294117647, 'eval_f1': 0.8122270742358079, 'eval_runtime': 1.0991, 'eval_samples_per_second': 371.199, 'eval_steps_per_second': 6.369, 'epoch': 2.0}\n",
            "{'eval_loss': 0.5944027900695801, 'eval_accuracy': 0.696078431372549, 'eval_f1': 0.8181818181818182, 'eval_runtime': 1.4691, 'eval_samples_per_second': 277.719, 'eval_steps_per_second': 4.765, 'epoch': 3.0}\n",
            "{'eval_loss': 0.5916686058044434, 'eval_accuracy': 0.7034313725490197, 'eval_f1': 0.8217967599410898, 'eval_runtime': 1.4496, 'eval_samples_per_second': 281.451, 'eval_steps_per_second': 4.829, 'epoch': 4.0}\n",
            "{'train_runtime': 10.6073, 'train_samples_per_second': 1383.2, 'train_steps_per_second': 21.872, 'train_loss': 0.6165741229879445, 'epoch': 4.0}\n",
            "{'eval_loss': 0.5916686058044434, 'eval_accuracy': 0.7034313725490197, 'eval_f1': 0.8217967599410898, 'eval_runtime': 1.4695, 'eval_samples_per_second': 277.641, 'eval_steps_per_second': 4.763, 'epoch': 4.0}\n",
            "Progress: 17/100\n"
          ]
        },
        {
          "output_type": "stream",
          "name": "stderr",
          "text": [
            "Some weights of BertForSequenceClassification were not initialized from the model checkpoint at prajjwal1/bert-tiny and are newly initialized: ['classifier.bias', 'classifier.weight']\n",
            "You should probably TRAIN this model on a down-stream task to be able to use it for predictions and inference.\n"
          ]
        },
        {
          "output_type": "stream",
          "name": "stdout",
          "text": [
            "{'eval_loss': 0.6026797890663147, 'eval_accuracy': 0.6887254901960784, 'eval_f1': 0.808446455505279, 'eval_runtime': 1.4706, 'eval_samples_per_second': 277.444, 'eval_steps_per_second': 2.72, 'epoch': 1.0}\n",
            "{'eval_loss': 0.5666956901550293, 'eval_accuracy': 0.7205882352941176, 'eval_f1': 0.821875, 'eval_runtime': 1.7941, 'eval_samples_per_second': 227.416, 'eval_steps_per_second': 2.23, 'epoch': 2.0}\n",
            "{'eval_loss': 0.5767462253570557, 'eval_accuracy': 0.7279411764705882, 'eval_f1': 0.8262910798122066, 'eval_runtime': 1.4859, 'eval_samples_per_second': 274.587, 'eval_steps_per_second': 2.692, 'epoch': 3.0}\n",
            "{'eval_loss': 0.5759289264678955, 'eval_accuracy': 0.7352941176470589, 'eval_f1': 0.8291139240506329, 'eval_runtime': 1.0972, 'eval_samples_per_second': 371.84, 'eval_steps_per_second': 3.645, 'epoch': 4.0}\n",
            "{'train_runtime': 10.3288, 'train_samples_per_second': 1420.497, 'train_steps_per_second': 11.231, 'train_loss': 0.5189324411852606, 'epoch': 4.0}\n",
            "{'eval_loss': 0.5759289264678955, 'eval_accuracy': 0.7352941176470589, 'eval_f1': 0.8291139240506329, 'eval_runtime': 1.4705, 'eval_samples_per_second': 277.453, 'eval_steps_per_second': 2.72, 'epoch': 4.0}\n",
            "Progress: 18/100\n"
          ]
        },
        {
          "output_type": "stream",
          "name": "stderr",
          "text": [
            "Some weights of BertForSequenceClassification were not initialized from the model checkpoint at prajjwal1/bert-tiny and are newly initialized: ['classifier.bias', 'classifier.weight']\n",
            "You should probably TRAIN this model on a down-stream task to be able to use it for predictions and inference.\n"
          ]
        },
        {
          "output_type": "stream",
          "name": "stdout",
          "text": [
            "{'eval_loss': 0.6038169264793396, 'eval_accuracy': 0.6838235294117647, 'eval_f1': 0.8122270742358079, 'eval_runtime': 1.4485, 'eval_samples_per_second': 281.67, 'eval_steps_per_second': 2.761, 'epoch': 1.0}\n",
            "{'eval_loss': 0.5951903462409973, 'eval_accuracy': 0.7058823529411765, 'eval_f1': 0.8224852071005917, 'eval_runtime': 1.4725, 'eval_samples_per_second': 277.088, 'eval_steps_per_second': 2.717, 'epoch': 2.0}\n",
            "{'eval_loss': 0.579287052154541, 'eval_accuracy': 0.6911764705882353, 'eval_f1': 0.8090909090909091, 'eval_runtime': 1.4357, 'eval_samples_per_second': 284.183, 'eval_steps_per_second': 2.786, 'epoch': 3.0}\n",
            "{'eval_loss': 0.5748432874679565, 'eval_accuracy': 0.6911764705882353, 'eval_f1': 0.8073394495412844, 'eval_runtime': 1.4473, 'eval_samples_per_second': 281.906, 'eval_steps_per_second': 2.764, 'epoch': 4.0}\n",
            "{'train_runtime': 10.3801, 'train_samples_per_second': 1413.469, 'train_steps_per_second': 11.175, 'train_loss': 0.5897226004764952, 'epoch': 4.0}\n",
            "{'eval_loss': 0.5748432874679565, 'eval_accuracy': 0.6911764705882353, 'eval_f1': 0.8073394495412844, 'eval_runtime': 1.4753, 'eval_samples_per_second': 276.547, 'eval_steps_per_second': 2.711, 'epoch': 4.0}\n",
            "Progress: 19/100\n"
          ]
        },
        {
          "output_type": "stream",
          "name": "stderr",
          "text": [
            "Some weights of BertForSequenceClassification were not initialized from the model checkpoint at prajjwal1/bert-tiny and are newly initialized: ['classifier.bias', 'classifier.weight']\n",
            "You should probably TRAIN this model on a down-stream task to be able to use it for predictions and inference.\n"
          ]
        },
        {
          "output_type": "stream",
          "name": "stdout",
          "text": [
            "{'eval_loss': 0.6207587718963623, 'eval_accuracy': 0.6838235294117647, 'eval_f1': 0.8122270742358079, 'eval_runtime': 1.0953, 'eval_samples_per_second': 372.494, 'eval_steps_per_second': 3.652, 'epoch': 1.0}\n",
            "{'eval_loss': 0.6050003170967102, 'eval_accuracy': 0.6838235294117647, 'eval_f1': 0.8122270742358079, 'eval_runtime': 1.1214, 'eval_samples_per_second': 363.824, 'eval_steps_per_second': 3.567, 'epoch': 2.0}\n",
            "{'eval_loss': 0.5970742106437683, 'eval_accuracy': 0.6887254901960784, 'eval_f1': 0.8145985401459854, 'eval_runtime': 1.1002, 'eval_samples_per_second': 370.852, 'eval_steps_per_second': 3.636, 'epoch': 3.0}\n",
            "{'eval_loss': 0.5952083468437195, 'eval_accuracy': 0.6936274509803921, 'eval_f1': 0.8169838945827232, 'eval_runtime': 1.4666, 'eval_samples_per_second': 278.202, 'eval_steps_per_second': 2.727, 'epoch': 4.0}\n",
            "{'train_runtime': 9.2888, 'train_samples_per_second': 1579.543, 'train_steps_per_second': 12.488, 'train_loss': 0.6204661007585197, 'epoch': 4.0}\n",
            "{'eval_loss': 0.5952083468437195, 'eval_accuracy': 0.6936274509803921, 'eval_f1': 0.8169838945827232, 'eval_runtime': 1.7793, 'eval_samples_per_second': 229.297, 'eval_steps_per_second': 2.248, 'epoch': 4.0}\n",
            "Progress: 20/100\n"
          ]
        },
        {
          "output_type": "stream",
          "name": "stderr",
          "text": [
            "Some weights of BertForSequenceClassification were not initialized from the model checkpoint at prajjwal1/bert-tiny and are newly initialized: ['classifier.bias', 'classifier.weight']\n",
            "You should probably TRAIN this model on a down-stream task to be able to use it for predictions and inference.\n"
          ]
        },
        {
          "output_type": "stream",
          "name": "stdout",
          "text": [
            "{'eval_loss': 0.6439599990844727, 'eval_accuracy': 0.6838235294117647, 'eval_f1': 0.8122270742358079, 'eval_runtime': 1.1333, 'eval_samples_per_second': 360.006, 'eval_steps_per_second': 3.529, 'epoch': 1.0}\n",
            "{'eval_loss': 0.6185536980628967, 'eval_accuracy': 0.6838235294117647, 'eval_f1': 0.8122270742358079, 'eval_runtime': 1.7957, 'eval_samples_per_second': 227.211, 'eval_steps_per_second': 2.228, 'epoch': 2.0}\n",
            "{'eval_loss': 0.6116704344749451, 'eval_accuracy': 0.6838235294117647, 'eval_f1': 0.8122270742358079, 'eval_runtime': 1.8101, 'eval_samples_per_second': 225.402, 'eval_steps_per_second': 2.21, 'epoch': 3.0}\n",
            "{'eval_loss': 0.609874427318573, 'eval_accuracy': 0.6838235294117647, 'eval_f1': 0.8122270742358079, 'eval_runtime': 1.0917, 'eval_samples_per_second': 373.738, 'eval_steps_per_second': 3.664, 'epoch': 4.0}\n",
            "{'train_runtime': 10.4892, 'train_samples_per_second': 1398.768, 'train_steps_per_second': 11.059, 'train_loss': 0.6398460125101024, 'epoch': 4.0}\n",
            "{'eval_loss': 0.609874427318573, 'eval_accuracy': 0.6838235294117647, 'eval_f1': 0.8122270742358079, 'eval_runtime': 1.099, 'eval_samples_per_second': 371.242, 'eval_steps_per_second': 3.64, 'epoch': 4.0}\n",
            "Progress: 21/100\n"
          ]
        },
        {
          "output_type": "stream",
          "name": "stderr",
          "text": [
            "Some weights of BertForSequenceClassification were not initialized from the model checkpoint at prajjwal1/bert-tiny and are newly initialized: ['classifier.bias', 'classifier.weight']\n",
            "You should probably TRAIN this model on a down-stream task to be able to use it for predictions and inference.\n"
          ]
        },
        {
          "output_type": "stream",
          "name": "stdout",
          "text": [
            "{'eval_loss': 0.5735582113265991, 'eval_accuracy': 0.7083333333333334, 'eval_f1': 0.8155038759689922, 'eval_runtime': 1.2385, 'eval_samples_per_second': 329.418, 'eval_steps_per_second': 41.177, 'epoch': 1.0}\n",
            "{'loss': 0.5946, 'grad_norm': 4.331884384155273, 'learning_rate': 0.00021830065359477123, 'epoch': 1.0893246187363834}\n",
            "{'eval_loss': 0.59549880027771, 'eval_accuracy': 0.7107843137254902, 'eval_f1': 0.8138801261829653, 'eval_runtime': 1.9507, 'eval_samples_per_second': 209.155, 'eval_steps_per_second': 26.144, 'epoch': 2.0}\n",
            "{'loss': 0.4682, 'grad_norm': 38.01247024536133, 'learning_rate': 0.00013660130718954247, 'epoch': 2.178649237472767}\n",
            "{'eval_loss': 0.7907573580741882, 'eval_accuracy': 0.7132352941176471, 'eval_f1': 0.8020304568527918, 'eval_runtime': 1.6253, 'eval_samples_per_second': 251.025, 'eval_steps_per_second': 31.378, 'epoch': 3.0}\n",
            "{'loss': 0.2993, 'grad_norm': 5.858227252960205, 'learning_rate': 5.4901960784313716e-05, 'epoch': 3.2679738562091503}\n",
            "{'eval_loss': 1.0637654066085815, 'eval_accuracy': 0.7132352941176471, 'eval_f1': 0.8059701492537313, 'eval_runtime': 1.9409, 'eval_samples_per_second': 210.209, 'eval_steps_per_second': 26.276, 'epoch': 4.0}\n",
            "{'train_runtime': 27.2132, 'train_samples_per_second': 539.149, 'train_steps_per_second': 67.467, 'train_loss': 0.4129647107425598, 'epoch': 4.0}\n",
            "{'eval_loss': 1.0637654066085815, 'eval_accuracy': 0.7132352941176471, 'eval_f1': 0.8059701492537313, 'eval_runtime': 1.2326, 'eval_samples_per_second': 331.018, 'eval_steps_per_second': 41.377, 'epoch': 4.0}\n",
            "Progress: 22/100\n"
          ]
        },
        {
          "output_type": "stream",
          "name": "stderr",
          "text": [
            "Some weights of BertForSequenceClassification were not initialized from the model checkpoint at prajjwal1/bert-tiny and are newly initialized: ['classifier.bias', 'classifier.weight']\n",
            "You should probably TRAIN this model on a down-stream task to be able to use it for predictions and inference.\n"
          ]
        },
        {
          "output_type": "stream",
          "name": "stdout",
          "text": [
            "{'eval_loss': 0.571905791759491, 'eval_accuracy': 0.7034313725490197, 'eval_f1': 0.8169440242057489, 'eval_runtime': 1.2707, 'eval_samples_per_second': 321.091, 'eval_steps_per_second': 40.136, 'epoch': 1.0}\n",
            "{'loss': 0.5884, 'grad_norm': 4.293759822845459, 'learning_rate': 7.276688453159042e-05, 'epoch': 1.0893246187363834}\n",
            "{'eval_loss': 0.5654860734939575, 'eval_accuracy': 0.7352941176470589, 'eval_f1': 0.8285714285714286, 'eval_runtime': 1.2513, 'eval_samples_per_second': 326.057, 'eval_steps_per_second': 40.757, 'epoch': 2.0}\n",
            "{'loss': 0.4993, 'grad_norm': 8.675013542175293, 'learning_rate': 4.5533769063180834e-05, 'epoch': 2.178649237472767}\n",
            "{'eval_loss': 0.6270501613616943, 'eval_accuracy': 0.7352941176470589, 'eval_f1': 0.8296529968454258, 'eval_runtime': 2.5256, 'eval_samples_per_second': 161.544, 'eval_steps_per_second': 20.193, 'epoch': 3.0}\n",
            "{'loss': 0.4045, 'grad_norm': 26.807472229003906, 'learning_rate': 1.8300653594771242e-05, 'epoch': 3.2679738562091503}\n",
            "{'eval_loss': 0.6656573414802551, 'eval_accuracy': 0.7377450980392157, 'eval_f1': 0.8325508607198748, 'eval_runtime': 1.5934, 'eval_samples_per_second': 256.061, 'eval_steps_per_second': 32.008, 'epoch': 4.0}\n",
            "{'train_runtime': 27.0584, 'train_samples_per_second': 542.235, 'train_steps_per_second': 67.853, 'train_loss': 0.47345523792674077, 'epoch': 4.0}\n",
            "{'eval_loss': 0.6656573414802551, 'eval_accuracy': 0.7377450980392157, 'eval_f1': 0.8325508607198748, 'eval_runtime': 1.2566, 'eval_samples_per_second': 324.698, 'eval_steps_per_second': 40.587, 'epoch': 4.0}\n",
            "Progress: 23/100\n"
          ]
        },
        {
          "output_type": "stream",
          "name": "stderr",
          "text": [
            "Some weights of BertForSequenceClassification were not initialized from the model checkpoint at prajjwal1/bert-tiny and are newly initialized: ['classifier.bias', 'classifier.weight']\n",
            "You should probably TRAIN this model on a down-stream task to be able to use it for predictions and inference.\n"
          ]
        },
        {
          "output_type": "stream",
          "name": "stdout",
          "text": [
            "{'eval_loss': 0.5733863711357117, 'eval_accuracy': 0.7009803921568627, 'eval_f1': 0.8134556574923547, 'eval_runtime': 1.5912, 'eval_samples_per_second': 256.407, 'eval_steps_per_second': 32.051, 'epoch': 1.0}\n",
            "{'loss': 0.6013, 'grad_norm': 4.323869228363037, 'learning_rate': 3.638344226579521e-05, 'epoch': 1.0893246187363834}\n",
            "{'eval_loss': 0.5774785876274109, 'eval_accuracy': 0.7083333333333334, 'eval_f1': 0.8194233687405159, 'eval_runtime': 1.9673, 'eval_samples_per_second': 207.392, 'eval_steps_per_second': 25.924, 'epoch': 2.0}\n",
            "{'loss': 0.5438, 'grad_norm': 5.283394813537598, 'learning_rate': 2.2766884531590417e-05, 'epoch': 2.178649237472767}\n",
            "{'eval_loss': 0.5611313581466675, 'eval_accuracy': 0.7279411764705882, 'eval_f1': 0.8246445497630331, 'eval_runtime': 1.6174, 'eval_samples_per_second': 252.255, 'eval_steps_per_second': 31.532, 'epoch': 3.0}\n",
            "{'loss': 0.4849, 'grad_norm': 14.096569061279297, 'learning_rate': 9.150326797385621e-06, 'epoch': 3.2679738562091503}\n",
            "{'eval_loss': 0.587859570980072, 'eval_accuracy': 0.7279411764705882, 'eval_f1': 0.8268330733229329, 'eval_runtime': 1.6154, 'eval_samples_per_second': 252.572, 'eval_steps_per_second': 31.571, 'epoch': 4.0}\n",
            "{'train_runtime': 27.31, 'train_samples_per_second': 537.239, 'train_steps_per_second': 67.228, 'train_loss': 0.5309766798497285, 'epoch': 4.0}\n",
            "{'eval_loss': 0.587859570980072, 'eval_accuracy': 0.7279411764705882, 'eval_f1': 0.8268330733229329, 'eval_runtime': 1.6188, 'eval_samples_per_second': 252.045, 'eval_steps_per_second': 31.506, 'epoch': 4.0}\n",
            "Progress: 24/100\n"
          ]
        },
        {
          "output_type": "stream",
          "name": "stderr",
          "text": [
            "Some weights of BertForSequenceClassification were not initialized from the model checkpoint at prajjwal1/bert-tiny and are newly initialized: ['classifier.bias', 'classifier.weight']\n",
            "You should probably TRAIN this model on a down-stream task to be able to use it for predictions and inference.\n"
          ]
        },
        {
          "output_type": "stream",
          "name": "stdout",
          "text": [
            "{'eval_loss': 0.5838139653205872, 'eval_accuracy': 0.7009803921568627, 'eval_f1': 0.8184523809523809, 'eval_runtime': 1.261, 'eval_samples_per_second': 323.554, 'eval_steps_per_second': 40.444, 'epoch': 1.0}\n",
            "{'loss': 0.6134, 'grad_norm': 2.5178942680358887, 'learning_rate': 2.1830065359477124e-05, 'epoch': 1.0893246187363834}\n",
            "{'eval_loss': 0.5830901861190796, 'eval_accuracy': 0.7034313725490197, 'eval_f1': 0.8180451127819549, 'eval_runtime': 1.659, 'eval_samples_per_second': 245.935, 'eval_steps_per_second': 30.742, 'epoch': 2.0}\n",
            "{'loss': 0.5689, 'grad_norm': 4.079008102416992, 'learning_rate': 1.366013071895425e-05, 'epoch': 2.178649237472767}\n",
            "{'eval_loss': 0.568699836730957, 'eval_accuracy': 0.7132352941176471, 'eval_f1': 0.8197226502311248, 'eval_runtime': 1.6196, 'eval_samples_per_second': 251.914, 'eval_steps_per_second': 31.489, 'epoch': 3.0}\n",
            "{'loss': 0.5302, 'grad_norm': 6.041450023651123, 'learning_rate': 5.490196078431373e-06, 'epoch': 3.2679738562091503}\n",
            "{'eval_loss': 0.5771942734718323, 'eval_accuracy': 0.7107843137254902, 'eval_f1': 0.8195718654434251, 'eval_runtime': 1.2426, 'eval_samples_per_second': 328.348, 'eval_steps_per_second': 41.044, 'epoch': 4.0}\n",
            "{'train_runtime': 26.2001, 'train_samples_per_second': 559.999, 'train_steps_per_second': 70.076, 'train_loss': 0.5637553262814458, 'epoch': 4.0}\n",
            "{'eval_loss': 0.5771942734718323, 'eval_accuracy': 0.7107843137254902, 'eval_f1': 0.8195718654434251, 'eval_runtime': 1.5824, 'eval_samples_per_second': 257.829, 'eval_steps_per_second': 32.229, 'epoch': 4.0}\n",
            "Progress: 25/100\n"
          ]
        },
        {
          "output_type": "stream",
          "name": "stderr",
          "text": [
            "Some weights of BertForSequenceClassification were not initialized from the model checkpoint at prajjwal1/bert-tiny and are newly initialized: ['classifier.bias', 'classifier.weight']\n",
            "You should probably TRAIN this model on a down-stream task to be able to use it for predictions and inference.\n"
          ]
        },
        {
          "output_type": "stream",
          "name": "stdout",
          "text": [
            "{'eval_loss': 0.5624045133590698, 'eval_accuracy': 0.7230392156862745, 'eval_f1': 0.8231611893583725, 'eval_runtime': 1.9657, 'eval_samples_per_second': 207.555, 'eval_steps_per_second': 13.227, 'epoch': 1.0}\n",
            "{'eval_loss': 0.5531349778175354, 'eval_accuracy': 0.7328431372549019, 'eval_f1': 0.8256, 'eval_runtime': 1.1746, 'eval_samples_per_second': 347.344, 'eval_steps_per_second': 22.135, 'epoch': 2.0}\n",
            "{'loss': 0.5239, 'grad_norm': 15.012598991394043, 'learning_rate': 0.00013695652173913042, 'epoch': 2.1739130434782608}\n",
            "{'eval_loss': 0.590812087059021, 'eval_accuracy': 0.7401960784313726, 'eval_f1': 0.8221476510067114, 'eval_runtime': 1.1533, 'eval_samples_per_second': 353.755, 'eval_steps_per_second': 22.543, 'epoch': 3.0}\n",
            "{'eval_loss': 0.7519146800041199, 'eval_accuracy': 0.7377450980392157, 'eval_f1': 0.8243021346469622, 'eval_runtime': 1.2112, 'eval_samples_per_second': 336.85, 'eval_steps_per_second': 21.466, 'epoch': 4.0}\n",
            "{'train_runtime': 17.032, 'train_samples_per_second': 861.439, 'train_steps_per_second': 54.016, 'train_loss': 0.40669037362803584, 'epoch': 4.0}\n",
            "{'eval_loss': 0.7519146800041199, 'eval_accuracy': 0.7377450980392157, 'eval_f1': 0.8243021346469622, 'eval_runtime': 1.5133, 'eval_samples_per_second': 269.615, 'eval_steps_per_second': 17.181, 'epoch': 4.0}\n",
            "Progress: 26/100\n"
          ]
        },
        {
          "output_type": "stream",
          "name": "stderr",
          "text": [
            "Some weights of BertForSequenceClassification were not initialized from the model checkpoint at prajjwal1/bert-tiny and are newly initialized: ['classifier.bias', 'classifier.weight']\n",
            "You should probably TRAIN this model on a down-stream task to be able to use it for predictions and inference.\n"
          ]
        },
        {
          "output_type": "stream",
          "name": "stdout",
          "text": [
            "{'eval_loss': 0.564354419708252, 'eval_accuracy': 0.7132352941176471, 'eval_f1': 0.8180404354587869, 'eval_runtime': 1.5579, 'eval_samples_per_second': 261.892, 'eval_steps_per_second': 16.689, 'epoch': 1.0}\n",
            "{'eval_loss': 0.5474852919578552, 'eval_accuracy': 0.7377450980392157, 'eval_f1': 0.831496062992126, 'eval_runtime': 1.1713, 'eval_samples_per_second': 348.322, 'eval_steps_per_second': 22.197, 'epoch': 2.0}\n",
            "{'loss': 0.5577, 'grad_norm': 6.763742923736572, 'learning_rate': 4.565217391304348e-05, 'epoch': 2.1739130434782608}\n",
            "{'eval_loss': 0.5569795966148376, 'eval_accuracy': 0.7426470588235294, 'eval_f1': 0.8330683624801272, 'eval_runtime': 1.8457, 'eval_samples_per_second': 221.058, 'eval_steps_per_second': 14.087, 'epoch': 3.0}\n",
            "{'eval_loss': 0.5896832346916199, 'eval_accuracy': 0.7328431372549019, 'eval_f1': 0.8299531981279251, 'eval_runtime': 1.5311, 'eval_samples_per_second': 266.476, 'eval_steps_per_second': 16.981, 'epoch': 4.0}\n",
            "{'train_runtime': 17.631, 'train_samples_per_second': 832.172, 'train_steps_per_second': 52.181, 'train_loss': 0.5020559891410495, 'epoch': 4.0}\n",
            "{'eval_loss': 0.5896832346916199, 'eval_accuracy': 0.7328431372549019, 'eval_f1': 0.8299531981279251, 'eval_runtime': 1.5196, 'eval_samples_per_second': 268.49, 'eval_steps_per_second': 17.11, 'epoch': 4.0}\n",
            "Progress: 27/100\n"
          ]
        },
        {
          "output_type": "stream",
          "name": "stderr",
          "text": [
            "Some weights of BertForSequenceClassification were not initialized from the model checkpoint at prajjwal1/bert-tiny and are newly initialized: ['classifier.bias', 'classifier.weight']\n",
            "You should probably TRAIN this model on a down-stream task to be able to use it for predictions and inference.\n"
          ]
        },
        {
          "output_type": "stream",
          "name": "stdout",
          "text": [
            "{'eval_loss': 0.5816411972045898, 'eval_accuracy': 0.6887254901960784, 'eval_f1': 0.8095952023988006, 'eval_runtime': 1.5193, 'eval_samples_per_second': 268.552, 'eval_steps_per_second': 17.114, 'epoch': 1.0}\n",
            "{'eval_loss': 0.5781240463256836, 'eval_accuracy': 0.7034313725490197, 'eval_f1': 0.8185907046476761, 'eval_runtime': 1.8848, 'eval_samples_per_second': 216.468, 'eval_steps_per_second': 13.795, 'epoch': 2.0}\n",
            "{'loss': 0.5845, 'grad_norm': 4.170251846313477, 'learning_rate': 2.282608695652174e-05, 'epoch': 2.1739130434782608}\n",
            "{'eval_loss': 0.568314790725708, 'eval_accuracy': 0.7083333333333334, 'eval_f1': 0.8183206106870229, 'eval_runtime': 1.8911, 'eval_samples_per_second': 215.748, 'eval_steps_per_second': 13.749, 'epoch': 3.0}\n",
            "{'eval_loss': 0.568650484085083, 'eval_accuracy': 0.7205882352941176, 'eval_f1': 0.8246153846153846, 'eval_runtime': 1.1692, 'eval_samples_per_second': 348.944, 'eval_steps_per_second': 22.237, 'epoch': 4.0}\n",
            "{'train_runtime': 18.0336, 'train_samples_per_second': 813.593, 'train_steps_per_second': 51.016, 'train_loss': 0.5531564961309018, 'epoch': 4.0}\n",
            "{'eval_loss': 0.568650484085083, 'eval_accuracy': 0.7205882352941176, 'eval_f1': 0.8246153846153846, 'eval_runtime': 1.5195, 'eval_samples_per_second': 268.506, 'eval_steps_per_second': 17.111, 'epoch': 4.0}\n",
            "Progress: 28/100\n"
          ]
        },
        {
          "output_type": "stream",
          "name": "stderr",
          "text": [
            "Some weights of BertForSequenceClassification were not initialized from the model checkpoint at prajjwal1/bert-tiny and are newly initialized: ['classifier.bias', 'classifier.weight']\n",
            "You should probably TRAIN this model on a down-stream task to be able to use it for predictions and inference.\n"
          ]
        },
        {
          "output_type": "stream",
          "name": "stdout",
          "text": [
            "{'eval_loss': 0.5934128761291504, 'eval_accuracy': 0.6985294117647058, 'eval_f1': 0.8193832599118943, 'eval_runtime': 1.1498, 'eval_samples_per_second': 354.829, 'eval_steps_per_second': 22.612, 'epoch': 1.0}\n",
            "{'eval_loss': 0.5834196209907532, 'eval_accuracy': 0.6985294117647058, 'eval_f1': 0.8161434977578476, 'eval_runtime': 1.5106, 'eval_samples_per_second': 270.088, 'eval_steps_per_second': 17.211, 'epoch': 2.0}\n",
            "{'loss': 0.6021, 'grad_norm': 2.227717161178589, 'learning_rate': 1.3695652173913042e-05, 'epoch': 2.1739130434782608}\n",
            "{'eval_loss': 0.574123740196228, 'eval_accuracy': 0.6936274509803921, 'eval_f1': 0.8114630467571644, 'eval_runtime': 1.5412, 'eval_samples_per_second': 264.721, 'eval_steps_per_second': 16.869, 'epoch': 3.0}\n",
            "{'eval_loss': 0.5735155940055847, 'eval_accuracy': 0.696078431372549, 'eval_f1': 0.8126888217522659, 'eval_runtime': 1.1848, 'eval_samples_per_second': 344.368, 'eval_steps_per_second': 21.945, 'epoch': 4.0}\n",
            "{'train_runtime': 16.8586, 'train_samples_per_second': 870.297, 'train_steps_per_second': 54.572, 'train_loss': 0.580059698353643, 'epoch': 4.0}\n",
            "{'eval_loss': 0.5735155940055847, 'eval_accuracy': 0.696078431372549, 'eval_f1': 0.8126888217522659, 'eval_runtime': 1.4966, 'eval_samples_per_second': 272.613, 'eval_steps_per_second': 17.372, 'epoch': 4.0}\n",
            "Progress: 29/100\n"
          ]
        },
        {
          "output_type": "stream",
          "name": "stderr",
          "text": [
            "Some weights of BertForSequenceClassification were not initialized from the model checkpoint at prajjwal1/bert-tiny and are newly initialized: ['classifier.bias', 'classifier.weight']\n",
            "You should probably TRAIN this model on a down-stream task to be able to use it for predictions and inference.\n"
          ]
        },
        {
          "output_type": "stream",
          "name": "stdout",
          "text": [
            "{'eval_loss': 0.5496113896369934, 'eval_accuracy': 0.7377450980392157, 'eval_f1': 0.831496062992126, 'eval_runtime': 1.5297, 'eval_samples_per_second': 266.726, 'eval_steps_per_second': 8.499, 'epoch': 1.0}\n",
            "{'eval_loss': 0.552695095539093, 'eval_accuracy': 0.7377450980392157, 'eval_f1': 0.8309636650868878, 'eval_runtime': 1.4685, 'eval_samples_per_second': 277.831, 'eval_steps_per_second': 8.852, 'epoch': 2.0}\n",
            "{'eval_loss': 0.6253054141998291, 'eval_accuracy': 0.7450980392156863, 'eval_f1': 0.8354430379746836, 'eval_runtime': 1.1348, 'eval_samples_per_second': 359.543, 'eval_steps_per_second': 11.456, 'epoch': 3.0}\n",
            "{'eval_loss': 0.6537364721298218, 'eval_accuracy': 0.7377450980392157, 'eval_f1': 0.8304278922345484, 'eval_runtime': 1.4741, 'eval_samples_per_second': 276.781, 'eval_steps_per_second': 8.819, 'epoch': 4.0}\n",
            "{'train_runtime': 12.7963, 'train_samples_per_second': 1146.581, 'train_steps_per_second': 35.948, 'train_loss': 0.43501543791397757, 'epoch': 4.0}\n",
            "{'eval_loss': 0.6537364721298218, 'eval_accuracy': 0.7377450980392157, 'eval_f1': 0.8304278922345484, 'eval_runtime': 1.1255, 'eval_samples_per_second': 362.497, 'eval_steps_per_second': 11.55, 'epoch': 4.0}\n",
            "Progress: 30/100\n"
          ]
        },
        {
          "output_type": "stream",
          "name": "stderr",
          "text": [
            "Some weights of BertForSequenceClassification were not initialized from the model checkpoint at prajjwal1/bert-tiny and are newly initialized: ['classifier.bias', 'classifier.weight']\n",
            "You should probably TRAIN this model on a down-stream task to be able to use it for predictions and inference.\n"
          ]
        },
        {
          "output_type": "stream",
          "name": "stdout",
          "text": [
            "{'eval_loss': 0.585704505443573, 'eval_accuracy': 0.6936274509803921, 'eval_f1': 0.81089258698941, 'eval_runtime': 1.5132, 'eval_samples_per_second': 269.627, 'eval_steps_per_second': 8.591, 'epoch': 1.0}\n",
            "{'eval_loss': 0.5598652958869934, 'eval_accuracy': 0.7181372549019608, 'eval_f1': 0.8205928237129485, 'eval_runtime': 1.1315, 'eval_samples_per_second': 360.594, 'eval_steps_per_second': 11.49, 'epoch': 2.0}\n",
            "{'eval_loss': 0.5700249075889587, 'eval_accuracy': 0.7132352941176471, 'eval_f1': 0.8186046511627907, 'eval_runtime': 1.116, 'eval_samples_per_second': 365.6, 'eval_steps_per_second': 11.649, 'epoch': 3.0}\n",
            "{'eval_loss': 0.5717409253120422, 'eval_accuracy': 0.7254901960784313, 'eval_f1': 0.8255451713395638, 'eval_runtime': 1.8404, 'eval_samples_per_second': 221.692, 'eval_steps_per_second': 7.064, 'epoch': 4.0}\n",
            "{'train_runtime': 12.8349, 'train_samples_per_second': 1143.13, 'train_steps_per_second': 35.84, 'train_loss': 0.5322120666503907, 'epoch': 4.0}\n",
            "{'eval_loss': 0.5717409253120422, 'eval_accuracy': 0.7254901960784313, 'eval_f1': 0.8255451713395638, 'eval_runtime': 1.4678, 'eval_samples_per_second': 277.959, 'eval_steps_per_second': 8.857, 'epoch': 4.0}\n",
            "Progress: 31/100\n"
          ]
        },
        {
          "output_type": "stream",
          "name": "stderr",
          "text": [
            "Some weights of BertForSequenceClassification were not initialized from the model checkpoint at prajjwal1/bert-tiny and are newly initialized: ['classifier.bias', 'classifier.weight']\n",
            "You should probably TRAIN this model on a down-stream task to be able to use it for predictions and inference.\n"
          ]
        },
        {
          "output_type": "stream",
          "name": "stdout",
          "text": [
            "{'eval_loss': 0.5961236953735352, 'eval_accuracy': 0.6936274509803921, 'eval_f1': 0.8169838945827232, 'eval_runtime': 1.5021, 'eval_samples_per_second': 271.628, 'eval_steps_per_second': 8.655, 'epoch': 1.0}\n",
            "{'eval_loss': 0.5710234045982361, 'eval_accuracy': 0.7058823529411765, 'eval_f1': 0.817629179331307, 'eval_runtime': 1.1047, 'eval_samples_per_second': 369.342, 'eval_steps_per_second': 11.768, 'epoch': 2.0}\n",
            "{'eval_loss': 0.5729517340660095, 'eval_accuracy': 0.7083333333333334, 'eval_f1': 0.8199697428139183, 'eval_runtime': 1.8246, 'eval_samples_per_second': 223.606, 'eval_steps_per_second': 7.125, 'epoch': 3.0}\n",
            "{'eval_loss': 0.56805819272995, 'eval_accuracy': 0.7107843137254902, 'eval_f1': 0.8201219512195121, 'eval_runtime': 1.4887, 'eval_samples_per_second': 274.057, 'eval_steps_per_second': 8.732, 'epoch': 4.0}\n",
            "{'train_runtime': 13.1534, 'train_samples_per_second': 1115.449, 'train_steps_per_second': 34.972, 'train_loss': 0.5740605893342391, 'epoch': 4.0}\n",
            "{'eval_loss': 0.56805819272995, 'eval_accuracy': 0.7107843137254902, 'eval_f1': 0.8201219512195121, 'eval_runtime': 1.4789, 'eval_samples_per_second': 275.874, 'eval_steps_per_second': 8.79, 'epoch': 4.0}\n",
            "Progress: 32/100\n"
          ]
        },
        {
          "output_type": "stream",
          "name": "stderr",
          "text": [
            "Some weights of BertForSequenceClassification were not initialized from the model checkpoint at prajjwal1/bert-tiny and are newly initialized: ['classifier.bias', 'classifier.weight']\n",
            "You should probably TRAIN this model on a down-stream task to be able to use it for predictions and inference.\n"
          ]
        },
        {
          "output_type": "stream",
          "name": "stdout",
          "text": [
            "{'eval_loss': 0.6053450703620911, 'eval_accuracy': 0.6838235294117647, 'eval_f1': 0.8122270742358079, 'eval_runtime': 1.8208, 'eval_samples_per_second': 224.074, 'eval_steps_per_second': 7.14, 'epoch': 1.0}\n",
            "{'eval_loss': 0.5885691046714783, 'eval_accuracy': 0.7034313725490197, 'eval_f1': 0.8212703101920237, 'eval_runtime': 1.1593, 'eval_samples_per_second': 351.937, 'eval_steps_per_second': 11.214, 'epoch': 2.0}\n",
            "{'eval_loss': 0.5840325355529785, 'eval_accuracy': 0.6985294117647058, 'eval_f1': 0.8166915052160953, 'eval_runtime': 1.1407, 'eval_samples_per_second': 357.684, 'eval_steps_per_second': 11.397, 'epoch': 3.0}\n",
            "{'eval_loss': 0.5790587663650513, 'eval_accuracy': 0.696078431372549, 'eval_f1': 0.8138138138138138, 'eval_runtime': 1.8451, 'eval_samples_per_second': 221.124, 'eval_steps_per_second': 7.046, 'epoch': 4.0}\n",
            "{'train_runtime': 13.0785, 'train_samples_per_second': 1121.84, 'train_steps_per_second': 35.172, 'train_loss': 0.5975138125212296, 'epoch': 4.0}\n",
            "{'eval_loss': 0.5790587663650513, 'eval_accuracy': 0.696078431372549, 'eval_f1': 0.8138138138138138, 'eval_runtime': 1.8819, 'eval_samples_per_second': 216.806, 'eval_steps_per_second': 6.908, 'epoch': 4.0}\n",
            "Progress: 33/100\n"
          ]
        },
        {
          "output_type": "stream",
          "name": "stderr",
          "text": [
            "Some weights of BertForSequenceClassification were not initialized from the model checkpoint at prajjwal1/bert-tiny and are newly initialized: ['classifier.bias', 'classifier.weight']\n",
            "You should probably TRAIN this model on a down-stream task to be able to use it for predictions and inference.\n"
          ]
        },
        {
          "output_type": "stream",
          "name": "stdout",
          "text": [
            "{'eval_loss': 0.5753757357597351, 'eval_accuracy': 0.696078431372549, 'eval_f1': 0.8132530120481928, 'eval_runtime': 1.1095, 'eval_samples_per_second': 367.732, 'eval_steps_per_second': 6.309, 'epoch': 1.0}\n",
            "{'eval_loss': 0.550995409488678, 'eval_accuracy': 0.7328431372549019, 'eval_f1': 0.8304821150855366, 'eval_runtime': 1.4687, 'eval_samples_per_second': 277.788, 'eval_steps_per_second': 4.766, 'epoch': 2.0}\n",
            "{'eval_loss': 0.5720232129096985, 'eval_accuracy': 0.7598039215686274, 'eval_f1': 0.8434504792332268, 'eval_runtime': 1.1069, 'eval_samples_per_second': 368.586, 'eval_steps_per_second': 6.324, 'epoch': 3.0}\n",
            "{'eval_loss': 0.5971444249153137, 'eval_accuracy': 0.75, 'eval_f1': 0.8386075949367089, 'eval_runtime': 1.1146, 'eval_samples_per_second': 366.048, 'eval_steps_per_second': 6.28, 'epoch': 4.0}\n",
            "{'train_runtime': 10.0268, 'train_samples_per_second': 1463.278, 'train_steps_per_second': 23.138, 'train_loss': 0.4707464020827721, 'epoch': 4.0}\n",
            "{'eval_loss': 0.5971444249153137, 'eval_accuracy': 0.75, 'eval_f1': 0.8386075949367089, 'eval_runtime': 1.4599, 'eval_samples_per_second': 279.477, 'eval_steps_per_second': 4.795, 'epoch': 4.0}\n",
            "Progress: 34/100\n"
          ]
        },
        {
          "output_type": "stream",
          "name": "stderr",
          "text": [
            "Some weights of BertForSequenceClassification were not initialized from the model checkpoint at prajjwal1/bert-tiny and are newly initialized: ['classifier.bias', 'classifier.weight']\n",
            "You should probably TRAIN this model on a down-stream task to be able to use it for predictions and inference.\n"
          ]
        },
        {
          "output_type": "stream",
          "name": "stdout",
          "text": [
            "{'eval_loss': 0.594853937625885, 'eval_accuracy': 0.6936274509803921, 'eval_f1': 0.8169838945827232, 'eval_runtime': 1.4822, 'eval_samples_per_second': 275.271, 'eval_steps_per_second': 4.723, 'epoch': 1.0}\n",
            "{'eval_loss': 0.5708560943603516, 'eval_accuracy': 0.7009803921568627, 'eval_f1': 0.8117283950617284, 'eval_runtime': 1.4625, 'eval_samples_per_second': 278.973, 'eval_steps_per_second': 4.786, 'epoch': 2.0}\n",
            "{'eval_loss': 0.5739648938179016, 'eval_accuracy': 0.7230392156862745, 'eval_f1': 0.8269525267993875, 'eval_runtime': 1.8504, 'eval_samples_per_second': 220.488, 'eval_steps_per_second': 3.783, 'epoch': 3.0}\n",
            "{'eval_loss': 0.5612186193466187, 'eval_accuracy': 0.7303921568627451, 'eval_f1': 0.8297213622291022, 'eval_runtime': 1.1163, 'eval_samples_per_second': 365.494, 'eval_steps_per_second': 6.271, 'epoch': 4.0}\n",
            "{'train_runtime': 11.2262, 'train_samples_per_second': 1306.943, 'train_steps_per_second': 20.666, 'train_loss': 0.5603954052102977, 'epoch': 4.0}\n",
            "{'eval_loss': 0.5612186193466187, 'eval_accuracy': 0.7303921568627451, 'eval_f1': 0.8297213622291022, 'eval_runtime': 1.474, 'eval_samples_per_second': 276.806, 'eval_steps_per_second': 4.749, 'epoch': 4.0}\n",
            "Progress: 35/100\n"
          ]
        },
        {
          "output_type": "stream",
          "name": "stderr",
          "text": [
            "Some weights of BertForSequenceClassification were not initialized from the model checkpoint at prajjwal1/bert-tiny and are newly initialized: ['classifier.bias', 'classifier.weight']\n",
            "You should probably TRAIN this model on a down-stream task to be able to use it for predictions and inference.\n"
          ]
        },
        {
          "output_type": "stream",
          "name": "stdout",
          "text": [
            "{'eval_loss': 0.6062899231910706, 'eval_accuracy': 0.6838235294117647, 'eval_f1': 0.8122270742358079, 'eval_runtime': 1.1046, 'eval_samples_per_second': 369.357, 'eval_steps_per_second': 6.337, 'epoch': 1.0}\n",
            "{'eval_loss': 0.590184211730957, 'eval_accuracy': 0.7034313725490197, 'eval_f1': 0.8212703101920237, 'eval_runtime': 1.1031, 'eval_samples_per_second': 369.864, 'eval_steps_per_second': 6.346, 'epoch': 2.0}\n",
            "{'eval_loss': 0.5828689932823181, 'eval_accuracy': 0.696078431372549, 'eval_f1': 0.8143712574850299, 'eval_runtime': 1.104, 'eval_samples_per_second': 369.56, 'eval_steps_per_second': 6.34, 'epoch': 3.0}\n",
            "{'eval_loss': 0.5777505040168762, 'eval_accuracy': 0.6887254901960784, 'eval_f1': 0.8078668683812406, 'eval_runtime': 1.1082, 'eval_samples_per_second': 368.172, 'eval_steps_per_second': 6.317, 'epoch': 4.0}\n",
            "{'train_runtime': 9.6136, 'train_samples_per_second': 1526.173, 'train_steps_per_second': 24.133, 'train_loss': 0.5961887096536571, 'epoch': 4.0}\n",
            "{'eval_loss': 0.5777505040168762, 'eval_accuracy': 0.6887254901960784, 'eval_f1': 0.8078668683812406, 'eval_runtime': 1.1139, 'eval_samples_per_second': 366.269, 'eval_steps_per_second': 6.284, 'epoch': 4.0}\n",
            "Progress: 36/100\n"
          ]
        },
        {
          "output_type": "stream",
          "name": "stderr",
          "text": [
            "Some weights of BertForSequenceClassification were not initialized from the model checkpoint at prajjwal1/bert-tiny and are newly initialized: ['classifier.bias', 'classifier.weight']\n",
            "You should probably TRAIN this model on a down-stream task to be able to use it for predictions and inference.\n"
          ]
        },
        {
          "output_type": "stream",
          "name": "stdout",
          "text": [
            "{'eval_loss': 0.6178915500640869, 'eval_accuracy': 0.6838235294117647, 'eval_f1': 0.8122270742358079, 'eval_runtime': 1.112, 'eval_samples_per_second': 366.902, 'eval_steps_per_second': 6.295, 'epoch': 1.0}\n",
            "{'eval_loss': 0.6015655398368835, 'eval_accuracy': 0.6838235294117647, 'eval_f1': 0.8122270742358079, 'eval_runtime': 1.1173, 'eval_samples_per_second': 365.159, 'eval_steps_per_second': 6.265, 'epoch': 2.0}\n",
            "{'eval_loss': 0.5944027900695801, 'eval_accuracy': 0.696078431372549, 'eval_f1': 0.8181818181818182, 'eval_runtime': 1.5058, 'eval_samples_per_second': 270.95, 'eval_steps_per_second': 4.649, 'epoch': 3.0}\n",
            "{'eval_loss': 0.5916686058044434, 'eval_accuracy': 0.7034313725490197, 'eval_f1': 0.8217967599410898, 'eval_runtime': 1.4615, 'eval_samples_per_second': 279.173, 'eval_steps_per_second': 4.79, 'epoch': 4.0}\n",
            "{'train_runtime': 10.3927, 'train_samples_per_second': 1411.76, 'train_steps_per_second': 22.323, 'train_loss': 0.6165741229879445, 'epoch': 4.0}\n",
            "{'eval_loss': 0.5916686058044434, 'eval_accuracy': 0.7034313725490197, 'eval_f1': 0.8217967599410898, 'eval_runtime': 1.1287, 'eval_samples_per_second': 361.477, 'eval_steps_per_second': 6.202, 'epoch': 4.0}\n",
            "Progress: 37/100\n"
          ]
        },
        {
          "output_type": "stream",
          "name": "stderr",
          "text": [
            "Some weights of BertForSequenceClassification were not initialized from the model checkpoint at prajjwal1/bert-tiny and are newly initialized: ['classifier.bias', 'classifier.weight']\n",
            "You should probably TRAIN this model on a down-stream task to be able to use it for predictions and inference.\n"
          ]
        },
        {
          "output_type": "stream",
          "name": "stdout",
          "text": [
            "{'eval_loss': 0.6026797890663147, 'eval_accuracy': 0.6887254901960784, 'eval_f1': 0.808446455505279, 'eval_runtime': 1.464, 'eval_samples_per_second': 278.689, 'eval_steps_per_second': 2.732, 'epoch': 1.0}\n",
            "{'eval_loss': 0.5666956901550293, 'eval_accuracy': 0.7205882352941176, 'eval_f1': 0.821875, 'eval_runtime': 1.091, 'eval_samples_per_second': 373.975, 'eval_steps_per_second': 3.666, 'epoch': 2.0}\n",
            "{'eval_loss': 0.5767462253570557, 'eval_accuracy': 0.7279411764705882, 'eval_f1': 0.8262910798122066, 'eval_runtime': 1.1001, 'eval_samples_per_second': 370.87, 'eval_steps_per_second': 3.636, 'epoch': 3.0}\n",
            "{'eval_loss': 0.5759289264678955, 'eval_accuracy': 0.7352941176470589, 'eval_f1': 0.8291139240506329, 'eval_runtime': 1.8459, 'eval_samples_per_second': 221.026, 'eval_steps_per_second': 2.167, 'epoch': 4.0}\n",
            "{'train_runtime': 9.9892, 'train_samples_per_second': 1468.78, 'train_steps_per_second': 11.612, 'train_loss': 0.5189324411852606, 'epoch': 4.0}\n",
            "{'eval_loss': 0.5759289264678955, 'eval_accuracy': 0.7352941176470589, 'eval_f1': 0.8291139240506329, 'eval_runtime': 1.1353, 'eval_samples_per_second': 359.375, 'eval_steps_per_second': 3.523, 'epoch': 4.0}\n",
            "Progress: 38/100\n"
          ]
        },
        {
          "output_type": "stream",
          "name": "stderr",
          "text": [
            "Some weights of BertForSequenceClassification were not initialized from the model checkpoint at prajjwal1/bert-tiny and are newly initialized: ['classifier.bias', 'classifier.weight']\n",
            "You should probably TRAIN this model on a down-stream task to be able to use it for predictions and inference.\n"
          ]
        },
        {
          "output_type": "stream",
          "name": "stdout",
          "text": [
            "{'eval_loss': 0.6038169264793396, 'eval_accuracy': 0.6838235294117647, 'eval_f1': 0.8122270742358079, 'eval_runtime': 1.1133, 'eval_samples_per_second': 366.49, 'eval_steps_per_second': 3.593, 'epoch': 1.0}\n",
            "{'eval_loss': 0.5951903462409973, 'eval_accuracy': 0.7058823529411765, 'eval_f1': 0.8224852071005917, 'eval_runtime': 1.4726, 'eval_samples_per_second': 277.054, 'eval_steps_per_second': 2.716, 'epoch': 2.0}\n",
            "{'eval_loss': 0.579287052154541, 'eval_accuracy': 0.6911764705882353, 'eval_f1': 0.8090909090909091, 'eval_runtime': 1.4461, 'eval_samples_per_second': 282.147, 'eval_steps_per_second': 2.766, 'epoch': 3.0}\n",
            "{'eval_loss': 0.5748432874679565, 'eval_accuracy': 0.6911764705882353, 'eval_f1': 0.8073394495412844, 'eval_runtime': 1.599, 'eval_samples_per_second': 255.16, 'eval_steps_per_second': 2.502, 'epoch': 4.0}\n",
            "{'train_runtime': 10.1504, 'train_samples_per_second': 1445.454, 'train_steps_per_second': 11.428, 'train_loss': 0.5897226004764952, 'epoch': 4.0}\n",
            "{'eval_loss': 0.5748432874679565, 'eval_accuracy': 0.6911764705882353, 'eval_f1': 0.8073394495412844, 'eval_runtime': 1.6936, 'eval_samples_per_second': 240.911, 'eval_steps_per_second': 2.362, 'epoch': 4.0}\n",
            "Progress: 39/100\n"
          ]
        },
        {
          "output_type": "stream",
          "name": "stderr",
          "text": [
            "Some weights of BertForSequenceClassification were not initialized from the model checkpoint at prajjwal1/bert-tiny and are newly initialized: ['classifier.bias', 'classifier.weight']\n",
            "You should probably TRAIN this model on a down-stream task to be able to use it for predictions and inference.\n"
          ]
        },
        {
          "output_type": "stream",
          "name": "stdout",
          "text": [
            "{'eval_loss': 0.6207587718963623, 'eval_accuracy': 0.6838235294117647, 'eval_f1': 0.8122270742358079, 'eval_runtime': 1.5387, 'eval_samples_per_second': 265.157, 'eval_steps_per_second': 2.6, 'epoch': 1.0}\n",
            "{'eval_loss': 0.6050003170967102, 'eval_accuracy': 0.6838235294117647, 'eval_f1': 0.8122270742358079, 'eval_runtime': 1.4377, 'eval_samples_per_second': 283.795, 'eval_steps_per_second': 2.782, 'epoch': 2.0}\n",
            "{'eval_loss': 0.5970742106437683, 'eval_accuracy': 0.6887254901960784, 'eval_f1': 0.8145985401459854, 'eval_runtime': 1.1217, 'eval_samples_per_second': 363.743, 'eval_steps_per_second': 3.566, 'epoch': 3.0}\n",
            "{'eval_loss': 0.5952083468437195, 'eval_accuracy': 0.6936274509803921, 'eval_f1': 0.8169838945827232, 'eval_runtime': 1.125, 'eval_samples_per_second': 362.678, 'eval_steps_per_second': 3.556, 'epoch': 4.0}\n",
            "{'train_runtime': 9.6534, 'train_samples_per_second': 1519.878, 'train_steps_per_second': 12.016, 'train_loss': 0.6204661007585197, 'epoch': 4.0}\n",
            "{'eval_loss': 0.5952083468437195, 'eval_accuracy': 0.6936274509803921, 'eval_f1': 0.8169838945827232, 'eval_runtime': 1.5803, 'eval_samples_per_second': 258.177, 'eval_steps_per_second': 2.531, 'epoch': 4.0}\n",
            "Progress: 40/100\n"
          ]
        },
        {
          "output_type": "stream",
          "name": "stderr",
          "text": [
            "Some weights of BertForSequenceClassification were not initialized from the model checkpoint at prajjwal1/bert-tiny and are newly initialized: ['classifier.bias', 'classifier.weight']\n",
            "You should probably TRAIN this model on a down-stream task to be able to use it for predictions and inference.\n"
          ]
        },
        {
          "output_type": "stream",
          "name": "stdout",
          "text": [
            "{'eval_loss': 0.6439599990844727, 'eval_accuracy': 0.6838235294117647, 'eval_f1': 0.8122270742358079, 'eval_runtime': 1.1232, 'eval_samples_per_second': 363.241, 'eval_steps_per_second': 3.561, 'epoch': 1.0}\n",
            "{'eval_loss': 0.6185536980628967, 'eval_accuracy': 0.6838235294117647, 'eval_f1': 0.8122270742358079, 'eval_runtime': 1.0893, 'eval_samples_per_second': 374.551, 'eval_steps_per_second': 3.672, 'epoch': 2.0}\n",
            "{'eval_loss': 0.6116704344749451, 'eval_accuracy': 0.6838235294117647, 'eval_f1': 0.8122270742358079, 'eval_runtime': 1.4504, 'eval_samples_per_second': 281.3, 'eval_steps_per_second': 2.758, 'epoch': 3.0}\n",
            "{'eval_loss': 0.609874427318573, 'eval_accuracy': 0.6838235294117647, 'eval_f1': 0.8122270742358079, 'eval_runtime': 1.0996, 'eval_samples_per_second': 371.041, 'eval_steps_per_second': 3.638, 'epoch': 4.0}\n",
            "{'train_runtime': 9.1838, 'train_samples_per_second': 1597.593, 'train_steps_per_second': 12.631, 'train_loss': 0.6398460125101024, 'epoch': 4.0}\n",
            "{'eval_loss': 0.609874427318573, 'eval_accuracy': 0.6838235294117647, 'eval_f1': 0.8122270742358079, 'eval_runtime': 1.7959, 'eval_samples_per_second': 227.181, 'eval_steps_per_second': 2.227, 'epoch': 4.0}\n",
            "Progress: 41/100\n"
          ]
        },
        {
          "output_type": "stream",
          "name": "stderr",
          "text": [
            "Some weights of BertForSequenceClassification were not initialized from the model checkpoint at prajjwal1/bert-tiny and are newly initialized: ['classifier.bias', 'classifier.weight']\n",
            "You should probably TRAIN this model on a down-stream task to be able to use it for predictions and inference.\n"
          ]
        },
        {
          "output_type": "stream",
          "name": "stdout",
          "text": [
            "{'eval_loss': 0.5735582113265991, 'eval_accuracy': 0.7083333333333334, 'eval_f1': 0.8155038759689922, 'eval_runtime': 1.9598, 'eval_samples_per_second': 208.181, 'eval_steps_per_second': 26.023, 'epoch': 1.0}\n",
            "{'loss': 0.5946, 'grad_norm': 4.331884384155273, 'learning_rate': 0.00021830065359477123, 'epoch': 1.0893246187363834}\n",
            "{'eval_loss': 0.59549880027771, 'eval_accuracy': 0.7107843137254902, 'eval_f1': 0.8138801261829653, 'eval_runtime': 1.2419, 'eval_samples_per_second': 328.53, 'eval_steps_per_second': 41.066, 'epoch': 2.0}\n",
            "{'loss': 0.4682, 'grad_norm': 38.01247024536133, 'learning_rate': 0.00013660130718954247, 'epoch': 2.178649237472767}\n",
            "{'eval_loss': 0.7907573580741882, 'eval_accuracy': 0.7132352941176471, 'eval_f1': 0.8020304568527918, 'eval_runtime': 1.5856, 'eval_samples_per_second': 257.317, 'eval_steps_per_second': 32.165, 'epoch': 3.0}\n",
            "{'loss': 0.2993, 'grad_norm': 5.858227252960205, 'learning_rate': 5.4901960784313716e-05, 'epoch': 3.2679738562091503}\n",
            "{'eval_loss': 1.0637654066085815, 'eval_accuracy': 0.7132352941176471, 'eval_f1': 0.8059701492537313, 'eval_runtime': 1.2398, 'eval_samples_per_second': 329.094, 'eval_steps_per_second': 41.137, 'epoch': 4.0}\n",
            "{'train_runtime': 26.3373, 'train_samples_per_second': 557.08, 'train_steps_per_second': 69.711, 'train_loss': 0.4129647107425598, 'epoch': 4.0}\n",
            "{'eval_loss': 1.0637654066085815, 'eval_accuracy': 0.7132352941176471, 'eval_f1': 0.8059701492537313, 'eval_runtime': 1.2428, 'eval_samples_per_second': 328.286, 'eval_steps_per_second': 41.036, 'epoch': 4.0}\n",
            "Progress: 42/100\n"
          ]
        },
        {
          "output_type": "stream",
          "name": "stderr",
          "text": [
            "Some weights of BertForSequenceClassification were not initialized from the model checkpoint at prajjwal1/bert-tiny and are newly initialized: ['classifier.bias', 'classifier.weight']\n",
            "You should probably TRAIN this model on a down-stream task to be able to use it for predictions and inference.\n"
          ]
        },
        {
          "output_type": "stream",
          "name": "stdout",
          "text": [
            "{'eval_loss': 0.571905791759491, 'eval_accuracy': 0.7034313725490197, 'eval_f1': 0.8169440242057489, 'eval_runtime': 1.5914, 'eval_samples_per_second': 256.382, 'eval_steps_per_second': 32.048, 'epoch': 1.0}\n",
            "{'loss': 0.5884, 'grad_norm': 4.293759822845459, 'learning_rate': 7.276688453159042e-05, 'epoch': 1.0893246187363834}\n",
            "{'eval_loss': 0.5654860734939575, 'eval_accuracy': 0.7352941176470589, 'eval_f1': 0.8285714285714286, 'eval_runtime': 1.6012, 'eval_samples_per_second': 254.815, 'eval_steps_per_second': 31.852, 'epoch': 2.0}\n",
            "{'loss': 0.4993, 'grad_norm': 8.675013542175293, 'learning_rate': 4.5533769063180834e-05, 'epoch': 2.178649237472767}\n",
            "{'eval_loss': 0.6270501613616943, 'eval_accuracy': 0.7352941176470589, 'eval_f1': 0.8296529968454258, 'eval_runtime': 1.6119, 'eval_samples_per_second': 253.115, 'eval_steps_per_second': 31.639, 'epoch': 3.0}\n",
            "{'loss': 0.4045, 'grad_norm': 26.807472229003906, 'learning_rate': 1.8300653594771242e-05, 'epoch': 3.2679738562091503}\n",
            "{'eval_loss': 0.6656573414802551, 'eval_accuracy': 0.7377450980392157, 'eval_f1': 0.8325508607198748, 'eval_runtime': 1.2648, 'eval_samples_per_second': 322.576, 'eval_steps_per_second': 40.322, 'epoch': 4.0}\n",
            "{'train_runtime': 26.4614, 'train_samples_per_second': 554.467, 'train_steps_per_second': 69.384, 'train_loss': 0.47345523792674077, 'epoch': 4.0}\n",
            "{'eval_loss': 0.6656573414802551, 'eval_accuracy': 0.7377450980392157, 'eval_f1': 0.8325508607198748, 'eval_runtime': 1.5885, 'eval_samples_per_second': 256.841, 'eval_steps_per_second': 32.105, 'epoch': 4.0}\n",
            "Progress: 43/100\n"
          ]
        },
        {
          "output_type": "stream",
          "name": "stderr",
          "text": [
            "Some weights of BertForSequenceClassification were not initialized from the model checkpoint at prajjwal1/bert-tiny and are newly initialized: ['classifier.bias', 'classifier.weight']\n",
            "You should probably TRAIN this model on a down-stream task to be able to use it for predictions and inference.\n"
          ]
        },
        {
          "output_type": "stream",
          "name": "stdout",
          "text": [
            "{'eval_loss': 0.5733863711357117, 'eval_accuracy': 0.7009803921568627, 'eval_f1': 0.8134556574923547, 'eval_runtime': 1.2357, 'eval_samples_per_second': 330.166, 'eval_steps_per_second': 41.271, 'epoch': 1.0}\n",
            "{'loss': 0.6013, 'grad_norm': 4.323869228363037, 'learning_rate': 3.638344226579521e-05, 'epoch': 1.0893246187363834}\n",
            "{'eval_loss': 0.5774785876274109, 'eval_accuracy': 0.7083333333333334, 'eval_f1': 0.8194233687405159, 'eval_runtime': 1.6252, 'eval_samples_per_second': 251.046, 'eval_steps_per_second': 31.381, 'epoch': 2.0}\n",
            "{'loss': 0.5438, 'grad_norm': 5.283394813537598, 'learning_rate': 2.2766884531590417e-05, 'epoch': 2.178649237472767}\n",
            "{'eval_loss': 0.5611313581466675, 'eval_accuracy': 0.7279411764705882, 'eval_f1': 0.8246445497630331, 'eval_runtime': 1.2279, 'eval_samples_per_second': 332.264, 'eval_steps_per_second': 41.533, 'epoch': 3.0}\n",
            "{'loss': 0.4849, 'grad_norm': 14.096569061279297, 'learning_rate': 9.150326797385621e-06, 'epoch': 3.2679738562091503}\n",
            "{'eval_loss': 0.587859570980072, 'eval_accuracy': 0.7279411764705882, 'eval_f1': 0.8268330733229329, 'eval_runtime': 1.2571, 'eval_samples_per_second': 324.564, 'eval_steps_per_second': 40.57, 'epoch': 4.0}\n",
            "{'train_runtime': 25.5349, 'train_samples_per_second': 574.585, 'train_steps_per_second': 71.902, 'train_loss': 0.5309766798497285, 'epoch': 4.0}\n",
            "{'eval_loss': 0.587859570980072, 'eval_accuracy': 0.7279411764705882, 'eval_f1': 0.8268330733229329, 'eval_runtime': 1.6075, 'eval_samples_per_second': 253.813, 'eval_steps_per_second': 31.727, 'epoch': 4.0}\n",
            "Progress: 44/100\n"
          ]
        },
        {
          "output_type": "stream",
          "name": "stderr",
          "text": [
            "Some weights of BertForSequenceClassification were not initialized from the model checkpoint at prajjwal1/bert-tiny and are newly initialized: ['classifier.bias', 'classifier.weight']\n",
            "You should probably TRAIN this model on a down-stream task to be able to use it for predictions and inference.\n"
          ]
        },
        {
          "output_type": "stream",
          "name": "stdout",
          "text": [
            "{'eval_loss': 0.5838139653205872, 'eval_accuracy': 0.7009803921568627, 'eval_f1': 0.8184523809523809, 'eval_runtime': 1.9523, 'eval_samples_per_second': 208.988, 'eval_steps_per_second': 26.123, 'epoch': 1.0}\n",
            "{'loss': 0.6134, 'grad_norm': 2.5178942680358887, 'learning_rate': 2.1830065359477124e-05, 'epoch': 1.0893246187363834}\n",
            "{'eval_loss': 0.5830901861190796, 'eval_accuracy': 0.7034313725490197, 'eval_f1': 0.8180451127819549, 'eval_runtime': 1.9589, 'eval_samples_per_second': 208.285, 'eval_steps_per_second': 26.036, 'epoch': 2.0}\n",
            "{'loss': 0.5689, 'grad_norm': 4.079008102416992, 'learning_rate': 1.366013071895425e-05, 'epoch': 2.178649237472767}\n",
            "{'eval_loss': 0.568699836730957, 'eval_accuracy': 0.7132352941176471, 'eval_f1': 0.8197226502311248, 'eval_runtime': 1.2956, 'eval_samples_per_second': 314.922, 'eval_steps_per_second': 39.365, 'epoch': 3.0}\n",
            "{'loss': 0.5302, 'grad_norm': 6.041450023651123, 'learning_rate': 5.490196078431373e-06, 'epoch': 3.2679738562091503}\n",
            "{'eval_loss': 0.5771942734718323, 'eval_accuracy': 0.7107843137254902, 'eval_f1': 0.8195718654434251, 'eval_runtime': 1.248, 'eval_samples_per_second': 326.934, 'eval_steps_per_second': 40.867, 'epoch': 4.0}\n",
            "{'train_runtime': 26.6924, 'train_samples_per_second': 549.669, 'train_steps_per_second': 68.784, 'train_loss': 0.5637553262814458, 'epoch': 4.0}\n",
            "{'eval_loss': 0.5771942734718323, 'eval_accuracy': 0.7107843137254902, 'eval_f1': 0.8195718654434251, 'eval_runtime': 1.5989, 'eval_samples_per_second': 255.18, 'eval_steps_per_second': 31.897, 'epoch': 4.0}\n",
            "Progress: 45/100\n"
          ]
        },
        {
          "output_type": "stream",
          "name": "stderr",
          "text": [
            "Some weights of BertForSequenceClassification were not initialized from the model checkpoint at prajjwal1/bert-tiny and are newly initialized: ['classifier.bias', 'classifier.weight']\n",
            "You should probably TRAIN this model on a down-stream task to be able to use it for predictions and inference.\n"
          ]
        },
        {
          "output_type": "stream",
          "name": "stdout",
          "text": [
            "{'eval_loss': 0.5624045133590698, 'eval_accuracy': 0.7230392156862745, 'eval_f1': 0.8231611893583725, 'eval_runtime': 1.5144, 'eval_samples_per_second': 269.413, 'eval_steps_per_second': 17.169, 'epoch': 1.0}\n",
            "{'eval_loss': 0.5531349778175354, 'eval_accuracy': 0.7328431372549019, 'eval_f1': 0.8256, 'eval_runtime': 1.1673, 'eval_samples_per_second': 349.513, 'eval_steps_per_second': 22.273, 'epoch': 2.0}\n",
            "{'loss': 0.5239, 'grad_norm': 15.012598991394043, 'learning_rate': 0.00013695652173913042, 'epoch': 2.1739130434782608}\n",
            "{'eval_loss': 0.590812087059021, 'eval_accuracy': 0.7401960784313726, 'eval_f1': 0.8221476510067114, 'eval_runtime': 1.5317, 'eval_samples_per_second': 266.372, 'eval_steps_per_second': 16.975, 'epoch': 3.0}\n",
            "{'eval_loss': 0.7519146800041199, 'eval_accuracy': 0.7377450980392157, 'eval_f1': 0.8243021346469622, 'eval_runtime': 1.5287, 'eval_samples_per_second': 266.887, 'eval_steps_per_second': 17.008, 'epoch': 4.0}\n",
            "{'train_runtime': 17.1028, 'train_samples_per_second': 857.872, 'train_steps_per_second': 53.792, 'train_loss': 0.40669037362803584, 'epoch': 4.0}\n",
            "{'eval_loss': 0.7519146800041199, 'eval_accuracy': 0.7377450980392157, 'eval_f1': 0.8243021346469622, 'eval_runtime': 1.5261, 'eval_samples_per_second': 267.35, 'eval_steps_per_second': 17.037, 'epoch': 4.0}\n",
            "Progress: 46/100\n"
          ]
        },
        {
          "output_type": "stream",
          "name": "stderr",
          "text": [
            "Some weights of BertForSequenceClassification were not initialized from the model checkpoint at prajjwal1/bert-tiny and are newly initialized: ['classifier.bias', 'classifier.weight']\n",
            "You should probably TRAIN this model on a down-stream task to be able to use it for predictions and inference.\n"
          ]
        },
        {
          "output_type": "stream",
          "name": "stdout",
          "text": [
            "{'eval_loss': 0.564354419708252, 'eval_accuracy': 0.7132352941176471, 'eval_f1': 0.8180404354587869, 'eval_runtime': 1.1749, 'eval_samples_per_second': 347.271, 'eval_steps_per_second': 22.13, 'epoch': 1.0}\n",
            "{'eval_loss': 0.5474852919578552, 'eval_accuracy': 0.7377450980392157, 'eval_f1': 0.831496062992126, 'eval_runtime': 1.5049, 'eval_samples_per_second': 271.118, 'eval_steps_per_second': 17.277, 'epoch': 2.0}\n",
            "{'loss': 0.5577, 'grad_norm': 6.763742923736572, 'learning_rate': 4.565217391304348e-05, 'epoch': 2.1739130434782608}\n",
            "{'eval_loss': 0.5569795966148376, 'eval_accuracy': 0.7426470588235294, 'eval_f1': 0.8330683624801272, 'eval_runtime': 1.163, 'eval_samples_per_second': 350.819, 'eval_steps_per_second': 22.356, 'epoch': 3.0}\n",
            "{'eval_loss': 0.5896832346916199, 'eval_accuracy': 0.7328431372549019, 'eval_f1': 0.8299531981279251, 'eval_runtime': 1.5264, 'eval_samples_per_second': 267.289, 'eval_steps_per_second': 17.033, 'epoch': 4.0}\n",
            "{'train_runtime': 16.9518, 'train_samples_per_second': 865.515, 'train_steps_per_second': 54.272, 'train_loss': 0.5020559891410495, 'epoch': 4.0}\n",
            "{'eval_loss': 0.5896832346916199, 'eval_accuracy': 0.7328431372549019, 'eval_f1': 0.8299531981279251, 'eval_runtime': 1.5351, 'eval_samples_per_second': 265.779, 'eval_steps_per_second': 16.937, 'epoch': 4.0}\n",
            "Progress: 47/100\n"
          ]
        },
        {
          "output_type": "stream",
          "name": "stderr",
          "text": [
            "Some weights of BertForSequenceClassification were not initialized from the model checkpoint at prajjwal1/bert-tiny and are newly initialized: ['classifier.bias', 'classifier.weight']\n",
            "You should probably TRAIN this model on a down-stream task to be able to use it for predictions and inference.\n"
          ]
        },
        {
          "output_type": "stream",
          "name": "stdout",
          "text": [
            "{'eval_loss': 0.5816411972045898, 'eval_accuracy': 0.6887254901960784, 'eval_f1': 0.8095952023988006, 'eval_runtime': 1.1776, 'eval_samples_per_second': 346.454, 'eval_steps_per_second': 22.078, 'epoch': 1.0}\n",
            "{'eval_loss': 0.5781240463256836, 'eval_accuracy': 0.7034313725490197, 'eval_f1': 0.8185907046476761, 'eval_runtime': 1.5131, 'eval_samples_per_second': 269.642, 'eval_steps_per_second': 17.183, 'epoch': 2.0}\n",
            "{'loss': 0.5845, 'grad_norm': 4.170251846313477, 'learning_rate': 2.282608695652174e-05, 'epoch': 2.1739130434782608}\n",
            "{'eval_loss': 0.568314790725708, 'eval_accuracy': 0.7083333333333334, 'eval_f1': 0.8183206106870229, 'eval_runtime': 1.1633, 'eval_samples_per_second': 350.731, 'eval_steps_per_second': 22.351, 'epoch': 3.0}\n",
            "{'eval_loss': 0.568650484085083, 'eval_accuracy': 0.7205882352941176, 'eval_f1': 0.8246153846153846, 'eval_runtime': 1.1925, 'eval_samples_per_second': 342.145, 'eval_steps_per_second': 21.803, 'epoch': 4.0}\n",
            "{'train_runtime': 16.5789, 'train_samples_per_second': 884.979, 'train_steps_per_second': 55.492, 'train_loss': 0.5531564961309018, 'epoch': 4.0}\n",
            "{'eval_loss': 0.568650484085083, 'eval_accuracy': 0.7205882352941176, 'eval_f1': 0.8246153846153846, 'eval_runtime': 1.5097, 'eval_samples_per_second': 270.259, 'eval_steps_per_second': 17.222, 'epoch': 4.0}\n",
            "Progress: 48/100\n"
          ]
        },
        {
          "output_type": "stream",
          "name": "stderr",
          "text": [
            "Some weights of BertForSequenceClassification were not initialized from the model checkpoint at prajjwal1/bert-tiny and are newly initialized: ['classifier.bias', 'classifier.weight']\n",
            "You should probably TRAIN this model on a down-stream task to be able to use it for predictions and inference.\n"
          ]
        },
        {
          "output_type": "stream",
          "name": "stdout",
          "text": [
            "{'eval_loss': 0.5934128761291504, 'eval_accuracy': 0.6985294117647058, 'eval_f1': 0.8193832599118943, 'eval_runtime': 1.518, 'eval_samples_per_second': 268.781, 'eval_steps_per_second': 17.128, 'epoch': 1.0}\n",
            "{'eval_loss': 0.5834196209907532, 'eval_accuracy': 0.6985294117647058, 'eval_f1': 0.8161434977578476, 'eval_runtime': 1.9481, 'eval_samples_per_second': 209.437, 'eval_steps_per_second': 13.346, 'epoch': 2.0}\n",
            "{'loss': 0.6021, 'grad_norm': 2.227717161178589, 'learning_rate': 1.3695652173913042e-05, 'epoch': 2.1739130434782608}\n",
            "{'eval_loss': 0.574123740196228, 'eval_accuracy': 0.6936274509803921, 'eval_f1': 0.8114630467571644, 'eval_runtime': 1.5162, 'eval_samples_per_second': 269.096, 'eval_steps_per_second': 17.148, 'epoch': 3.0}\n",
            "{'eval_loss': 0.5735155940055847, 'eval_accuracy': 0.696078431372549, 'eval_f1': 0.8126888217522659, 'eval_runtime': 1.531, 'eval_samples_per_second': 266.498, 'eval_steps_per_second': 16.983, 'epoch': 4.0}\n",
            "{'train_runtime': 17.9957, 'train_samples_per_second': 815.305, 'train_steps_per_second': 51.123, 'train_loss': 0.580059698353643, 'epoch': 4.0}\n",
            "{'eval_loss': 0.5735155940055847, 'eval_accuracy': 0.696078431372549, 'eval_f1': 0.8126888217522659, 'eval_runtime': 1.1791, 'eval_samples_per_second': 346.018, 'eval_steps_per_second': 22.05, 'epoch': 4.0}\n",
            "Progress: 49/100\n"
          ]
        },
        {
          "output_type": "stream",
          "name": "stderr",
          "text": [
            "Some weights of BertForSequenceClassification were not initialized from the model checkpoint at prajjwal1/bert-tiny and are newly initialized: ['classifier.bias', 'classifier.weight']\n",
            "You should probably TRAIN this model on a down-stream task to be able to use it for predictions and inference.\n"
          ]
        },
        {
          "output_type": "stream",
          "name": "stdout",
          "text": [
            "{'eval_loss': 0.5496113896369934, 'eval_accuracy': 0.7377450980392157, 'eval_f1': 0.831496062992126, 'eval_runtime': 1.123, 'eval_samples_per_second': 363.327, 'eval_steps_per_second': 11.577, 'epoch': 1.0}\n",
            "{'eval_loss': 0.552695095539093, 'eval_accuracy': 0.7377450980392157, 'eval_f1': 0.8309636650868878, 'eval_runtime': 1.1461, 'eval_samples_per_second': 355.999, 'eval_steps_per_second': 11.343, 'epoch': 2.0}\n",
            "{'eval_loss': 0.6253054141998291, 'eval_accuracy': 0.7450980392156863, 'eval_f1': 0.8354430379746836, 'eval_runtime': 1.4708, 'eval_samples_per_second': 277.396, 'eval_steps_per_second': 8.839, 'epoch': 3.0}\n",
            "{'eval_loss': 0.6537364721298218, 'eval_accuracy': 0.7377450980392157, 'eval_f1': 0.8304278922345484, 'eval_runtime': 1.4936, 'eval_samples_per_second': 273.171, 'eval_steps_per_second': 8.704, 'epoch': 4.0}\n",
            "{'train_runtime': 12.4951, 'train_samples_per_second': 1174.224, 'train_steps_per_second': 36.815, 'train_loss': 0.43501543791397757, 'epoch': 4.0}\n",
            "{'eval_loss': 0.6537364721298218, 'eval_accuracy': 0.7377450980392157, 'eval_f1': 0.8304278922345484, 'eval_runtime': 1.5113, 'eval_samples_per_second': 269.966, 'eval_steps_per_second': 8.602, 'epoch': 4.0}\n",
            "Progress: 50/100\n"
          ]
        },
        {
          "output_type": "stream",
          "name": "stderr",
          "text": [
            "Some weights of BertForSequenceClassification were not initialized from the model checkpoint at prajjwal1/bert-tiny and are newly initialized: ['classifier.bias', 'classifier.weight']\n",
            "You should probably TRAIN this model on a down-stream task to be able to use it for predictions and inference.\n"
          ]
        },
        {
          "output_type": "stream",
          "name": "stdout",
          "text": [
            "{'eval_loss': 0.585704505443573, 'eval_accuracy': 0.6936274509803921, 'eval_f1': 0.81089258698941, 'eval_runtime': 1.1259, 'eval_samples_per_second': 362.364, 'eval_steps_per_second': 11.546, 'epoch': 1.0}\n",
            "{'eval_loss': 0.5598652958869934, 'eval_accuracy': 0.7181372549019608, 'eval_f1': 0.8205928237129485, 'eval_runtime': 1.8263, 'eval_samples_per_second': 223.397, 'eval_steps_per_second': 7.118, 'epoch': 2.0}\n",
            "{'eval_loss': 0.5700249075889587, 'eval_accuracy': 0.7132352941176471, 'eval_f1': 0.8186046511627907, 'eval_runtime': 1.4838, 'eval_samples_per_second': 274.963, 'eval_steps_per_second': 8.761, 'epoch': 3.0}\n",
            "{'eval_loss': 0.5717409253120422, 'eval_accuracy': 0.7254901960784313, 'eval_f1': 0.8255451713395638, 'eval_runtime': 1.485, 'eval_samples_per_second': 274.748, 'eval_steps_per_second': 8.754, 'epoch': 4.0}\n",
            "{'train_runtime': 13.1329, 'train_samples_per_second': 1117.193, 'train_steps_per_second': 35.026, 'train_loss': 0.5322120666503907, 'epoch': 4.0}\n",
            "{'eval_loss': 0.5717409253120422, 'eval_accuracy': 0.7254901960784313, 'eval_f1': 0.8255451713395638, 'eval_runtime': 1.4873, 'eval_samples_per_second': 274.32, 'eval_steps_per_second': 8.741, 'epoch': 4.0}\n",
            "Progress: 51/100\n"
          ]
        },
        {
          "output_type": "stream",
          "name": "stderr",
          "text": [
            "Some weights of BertForSequenceClassification were not initialized from the model checkpoint at prajjwal1/bert-tiny and are newly initialized: ['classifier.bias', 'classifier.weight']\n",
            "You should probably TRAIN this model on a down-stream task to be able to use it for predictions and inference.\n"
          ]
        },
        {
          "output_type": "stream",
          "name": "stdout",
          "text": [
            "{'eval_loss': 0.5961236953735352, 'eval_accuracy': 0.6936274509803921, 'eval_f1': 0.8169838945827232, 'eval_runtime': 1.525, 'eval_samples_per_second': 267.542, 'eval_steps_per_second': 8.525, 'epoch': 1.0}\n",
            "{'eval_loss': 0.5710234045982361, 'eval_accuracy': 0.7058823529411765, 'eval_f1': 0.817629179331307, 'eval_runtime': 1.4892, 'eval_samples_per_second': 273.977, 'eval_steps_per_second': 8.73, 'epoch': 2.0}\n",
            "{'eval_loss': 0.5729517340660095, 'eval_accuracy': 0.7083333333333334, 'eval_f1': 0.8199697428139183, 'eval_runtime': 1.4883, 'eval_samples_per_second': 274.129, 'eval_steps_per_second': 8.735, 'epoch': 3.0}\n",
            "{'eval_loss': 0.56805819272995, 'eval_accuracy': 0.7107843137254902, 'eval_f1': 0.8201219512195121, 'eval_runtime': 1.8125, 'eval_samples_per_second': 225.1, 'eval_steps_per_second': 7.172, 'epoch': 4.0}\n",
            "{'train_runtime': 13.6335, 'train_samples_per_second': 1076.174, 'train_steps_per_second': 33.74, 'train_loss': 0.5740605893342391, 'epoch': 4.0}\n",
            "{'eval_loss': 0.56805819272995, 'eval_accuracy': 0.7107843137254902, 'eval_f1': 0.8201219512195121, 'eval_runtime': 1.8267, 'eval_samples_per_second': 223.359, 'eval_steps_per_second': 7.117, 'epoch': 4.0}\n",
            "Progress: 52/100\n"
          ]
        },
        {
          "output_type": "stream",
          "name": "stderr",
          "text": [
            "Some weights of BertForSequenceClassification were not initialized from the model checkpoint at prajjwal1/bert-tiny and are newly initialized: ['classifier.bias', 'classifier.weight']\n",
            "You should probably TRAIN this model on a down-stream task to be able to use it for predictions and inference.\n"
          ]
        },
        {
          "output_type": "stream",
          "name": "stdout",
          "text": [
            "{'eval_loss': 0.6053450703620911, 'eval_accuracy': 0.6838235294117647, 'eval_f1': 0.8122270742358079, 'eval_runtime': 1.1296, 'eval_samples_per_second': 361.19, 'eval_steps_per_second': 11.509, 'epoch': 1.0}\n",
            "{'eval_loss': 0.5885691046714783, 'eval_accuracy': 0.7034313725490197, 'eval_f1': 0.8212703101920237, 'eval_runtime': 1.4783, 'eval_samples_per_second': 276.0, 'eval_steps_per_second': 8.794, 'epoch': 2.0}\n",
            "{'eval_loss': 0.5840325355529785, 'eval_accuracy': 0.6985294117647058, 'eval_f1': 0.8166915052160953, 'eval_runtime': 1.1397, 'eval_samples_per_second': 357.979, 'eval_steps_per_second': 11.406, 'epoch': 3.0}\n",
            "{'eval_loss': 0.5790587663650513, 'eval_accuracy': 0.696078431372549, 'eval_f1': 0.8138138138138138, 'eval_runtime': 1.462, 'eval_samples_per_second': 279.075, 'eval_steps_per_second': 8.892, 'epoch': 4.0}\n",
            "{'train_runtime': 12.4616, 'train_samples_per_second': 1177.379, 'train_steps_per_second': 36.913, 'train_loss': 0.5975138125212296, 'epoch': 4.0}\n",
            "{'eval_loss': 0.5790587663650513, 'eval_accuracy': 0.696078431372549, 'eval_f1': 0.8138138138138138, 'eval_runtime': 1.1277, 'eval_samples_per_second': 361.793, 'eval_steps_per_second': 11.528, 'epoch': 4.0}\n",
            "Progress: 53/100\n"
          ]
        },
        {
          "output_type": "stream",
          "name": "stderr",
          "text": [
            "Some weights of BertForSequenceClassification were not initialized from the model checkpoint at prajjwal1/bert-tiny and are newly initialized: ['classifier.bias', 'classifier.weight']\n",
            "You should probably TRAIN this model on a down-stream task to be able to use it for predictions and inference.\n"
          ]
        },
        {
          "output_type": "stream",
          "name": "stdout",
          "text": [
            "{'eval_loss': 0.5753757357597351, 'eval_accuracy': 0.696078431372549, 'eval_f1': 0.8132530120481928, 'eval_runtime': 1.4588, 'eval_samples_per_second': 279.689, 'eval_steps_per_second': 4.799, 'epoch': 1.0}\n",
            "{'eval_loss': 0.550995409488678, 'eval_accuracy': 0.7328431372549019, 'eval_f1': 0.8304821150855366, 'eval_runtime': 1.8297, 'eval_samples_per_second': 222.987, 'eval_steps_per_second': 3.826, 'epoch': 2.0}\n",
            "{'eval_loss': 0.5720232129096985, 'eval_accuracy': 0.7598039215686274, 'eval_f1': 0.8434504792332268, 'eval_runtime': 1.8033, 'eval_samples_per_second': 226.25, 'eval_steps_per_second': 3.882, 'epoch': 3.0}\n",
            "{'eval_loss': 0.5971444249153137, 'eval_accuracy': 0.75, 'eval_f1': 0.8386075949367089, 'eval_runtime': 1.1149, 'eval_samples_per_second': 365.954, 'eval_steps_per_second': 6.279, 'epoch': 4.0}\n",
            "{'train_runtime': 11.6014, 'train_samples_per_second': 1264.678, 'train_steps_per_second': 19.998, 'train_loss': 0.4707464020827721, 'epoch': 4.0}\n",
            "{'eval_loss': 0.5971444249153137, 'eval_accuracy': 0.75, 'eval_f1': 0.8386075949367089, 'eval_runtime': 1.1514, 'eval_samples_per_second': 354.362, 'eval_steps_per_second': 6.08, 'epoch': 4.0}\n",
            "Progress: 54/100\n"
          ]
        },
        {
          "output_type": "stream",
          "name": "stderr",
          "text": [
            "Some weights of BertForSequenceClassification were not initialized from the model checkpoint at prajjwal1/bert-tiny and are newly initialized: ['classifier.bias', 'classifier.weight']\n",
            "You should probably TRAIN this model on a down-stream task to be able to use it for predictions and inference.\n"
          ]
        },
        {
          "output_type": "stream",
          "name": "stdout",
          "text": [
            "{'eval_loss': 0.594853937625885, 'eval_accuracy': 0.6936274509803921, 'eval_f1': 0.8169838945827232, 'eval_runtime': 1.8242, 'eval_samples_per_second': 223.661, 'eval_steps_per_second': 3.837, 'epoch': 1.0}\n",
            "{'eval_loss': 0.5708560943603516, 'eval_accuracy': 0.7009803921568627, 'eval_f1': 0.8117283950617284, 'eval_runtime': 1.804, 'eval_samples_per_second': 226.167, 'eval_steps_per_second': 3.88, 'epoch': 2.0}\n",
            "{'eval_loss': 0.5739648938179016, 'eval_accuracy': 0.7230392156862745, 'eval_f1': 0.8269525267993875, 'eval_runtime': 1.4492, 'eval_samples_per_second': 281.535, 'eval_steps_per_second': 4.83, 'epoch': 3.0}\n",
            "{'eval_loss': 0.5612186193466187, 'eval_accuracy': 0.7303921568627451, 'eval_f1': 0.8297213622291022, 'eval_runtime': 1.1767, 'eval_samples_per_second': 346.744, 'eval_steps_per_second': 5.949, 'epoch': 4.0}\n",
            "{'train_runtime': 11.7044, 'train_samples_per_second': 1253.542, 'train_steps_per_second': 19.822, 'train_loss': 0.5603954052102977, 'epoch': 4.0}\n",
            "{'eval_loss': 0.5612186193466187, 'eval_accuracy': 0.7303921568627451, 'eval_f1': 0.8297213622291022, 'eval_runtime': 1.1031, 'eval_samples_per_second': 369.859, 'eval_steps_per_second': 6.346, 'epoch': 4.0}\n",
            "Progress: 55/100\n"
          ]
        },
        {
          "output_type": "stream",
          "name": "stderr",
          "text": [
            "Some weights of BertForSequenceClassification were not initialized from the model checkpoint at prajjwal1/bert-tiny and are newly initialized: ['classifier.bias', 'classifier.weight']\n",
            "You should probably TRAIN this model on a down-stream task to be able to use it for predictions and inference.\n"
          ]
        },
        {
          "output_type": "stream",
          "name": "stdout",
          "text": [
            "{'eval_loss': 0.6062899231910706, 'eval_accuracy': 0.6838235294117647, 'eval_f1': 0.8122270742358079, 'eval_runtime': 1.4576, 'eval_samples_per_second': 279.916, 'eval_steps_per_second': 4.802, 'epoch': 1.0}\n",
            "{'eval_loss': 0.590184211730957, 'eval_accuracy': 0.7034313725490197, 'eval_f1': 0.8212703101920237, 'eval_runtime': 1.102, 'eval_samples_per_second': 370.248, 'eval_steps_per_second': 6.352, 'epoch': 2.0}\n",
            "{'eval_loss': 0.5828689932823181, 'eval_accuracy': 0.696078431372549, 'eval_f1': 0.8143712574850299, 'eval_runtime': 1.1166, 'eval_samples_per_second': 365.4, 'eval_steps_per_second': 6.269, 'epoch': 3.0}\n",
            "{'eval_loss': 0.5777505040168762, 'eval_accuracy': 0.6887254901960784, 'eval_f1': 0.8078668683812406, 'eval_runtime': 1.8016, 'eval_samples_per_second': 226.463, 'eval_steps_per_second': 3.885, 'epoch': 4.0}\n",
            "{'train_runtime': 10.61, 'train_samples_per_second': 1382.85, 'train_steps_per_second': 21.866, 'train_loss': 0.5961887096536571, 'epoch': 4.0}\n",
            "{'eval_loss': 0.5777505040168762, 'eval_accuracy': 0.6887254901960784, 'eval_f1': 0.8078668683812406, 'eval_runtime': 1.475, 'eval_samples_per_second': 276.606, 'eval_steps_per_second': 4.746, 'epoch': 4.0}\n",
            "Progress: 56/100\n"
          ]
        },
        {
          "output_type": "stream",
          "name": "stderr",
          "text": [
            "Some weights of BertForSequenceClassification were not initialized from the model checkpoint at prajjwal1/bert-tiny and are newly initialized: ['classifier.bias', 'classifier.weight']\n",
            "You should probably TRAIN this model on a down-stream task to be able to use it for predictions and inference.\n"
          ]
        },
        {
          "output_type": "stream",
          "name": "stdout",
          "text": [
            "{'eval_loss': 0.6178915500640869, 'eval_accuracy': 0.6838235294117647, 'eval_f1': 0.8122270742358079, 'eval_runtime': 1.4464, 'eval_samples_per_second': 282.079, 'eval_steps_per_second': 4.84, 'epoch': 1.0}\n",
            "{'eval_loss': 0.6015655398368835, 'eval_accuracy': 0.6838235294117647, 'eval_f1': 0.8122270742358079, 'eval_runtime': 1.104, 'eval_samples_per_second': 369.581, 'eval_steps_per_second': 6.341, 'epoch': 2.0}\n",
            "{'eval_loss': 0.5944027900695801, 'eval_accuracy': 0.696078431372549, 'eval_f1': 0.8181818181818182, 'eval_runtime': 1.4613, 'eval_samples_per_second': 279.197, 'eval_steps_per_second': 4.79, 'epoch': 3.0}\n",
            "{'eval_loss': 0.5916686058044434, 'eval_accuracy': 0.7034313725490197, 'eval_f1': 0.8217967599410898, 'eval_runtime': 1.206, 'eval_samples_per_second': 338.316, 'eval_steps_per_second': 5.804, 'epoch': 4.0}\n",
            "{'train_runtime': 10.2825, 'train_samples_per_second': 1426.89, 'train_steps_per_second': 22.563, 'train_loss': 0.6165741229879445, 'epoch': 4.0}\n",
            "{'eval_loss': 0.5916686058044434, 'eval_accuracy': 0.7034313725490197, 'eval_f1': 0.8217967599410898, 'eval_runtime': 1.4941, 'eval_samples_per_second': 273.083, 'eval_steps_per_second': 4.685, 'epoch': 4.0}\n",
            "Progress: 57/100\n"
          ]
        },
        {
          "output_type": "stream",
          "name": "stderr",
          "text": [
            "Some weights of BertForSequenceClassification were not initialized from the model checkpoint at prajjwal1/bert-tiny and are newly initialized: ['classifier.bias', 'classifier.weight']\n",
            "You should probably TRAIN this model on a down-stream task to be able to use it for predictions and inference.\n"
          ]
        },
        {
          "output_type": "stream",
          "name": "stdout",
          "text": [
            "{'eval_loss': 0.6026797890663147, 'eval_accuracy': 0.6887254901960784, 'eval_f1': 0.808446455505279, 'eval_runtime': 1.1114, 'eval_samples_per_second': 367.103, 'eval_steps_per_second': 3.599, 'epoch': 1.0}\n",
            "{'eval_loss': 0.5666956901550293, 'eval_accuracy': 0.7205882352941176, 'eval_f1': 0.821875, 'eval_runtime': 1.4687, 'eval_samples_per_second': 277.793, 'eval_steps_per_second': 2.723, 'epoch': 2.0}\n",
            "{'eval_loss': 0.5767462253570557, 'eval_accuracy': 0.7279411764705882, 'eval_f1': 0.8262910798122066, 'eval_runtime': 1.0952, 'eval_samples_per_second': 372.547, 'eval_steps_per_second': 3.652, 'epoch': 3.0}\n",
            "{'eval_loss': 0.5759289264678955, 'eval_accuracy': 0.7352941176470589, 'eval_f1': 0.8291139240506329, 'eval_runtime': 1.4492, 'eval_samples_per_second': 281.536, 'eval_steps_per_second': 2.76, 'epoch': 4.0}\n",
            "{'train_runtime': 9.4967, 'train_samples_per_second': 1544.956, 'train_steps_per_second': 12.215, 'train_loss': 0.5189324411852606, 'epoch': 4.0}\n",
            "{'eval_loss': 0.5759289264678955, 'eval_accuracy': 0.7352941176470589, 'eval_f1': 0.8291139240506329, 'eval_runtime': 1.4426, 'eval_samples_per_second': 282.827, 'eval_steps_per_second': 2.773, 'epoch': 4.0}\n",
            "Progress: 58/100\n"
          ]
        },
        {
          "output_type": "stream",
          "name": "stderr",
          "text": [
            "Some weights of BertForSequenceClassification were not initialized from the model checkpoint at prajjwal1/bert-tiny and are newly initialized: ['classifier.bias', 'classifier.weight']\n",
            "You should probably TRAIN this model on a down-stream task to be able to use it for predictions and inference.\n"
          ]
        },
        {
          "output_type": "stream",
          "name": "stdout",
          "text": [
            "{'eval_loss': 0.6038169264793396, 'eval_accuracy': 0.6838235294117647, 'eval_f1': 0.8122270742358079, 'eval_runtime': 1.5063, 'eval_samples_per_second': 270.867, 'eval_steps_per_second': 2.656, 'epoch': 1.0}\n",
            "{'eval_loss': 0.5951903462409973, 'eval_accuracy': 0.7058823529411765, 'eval_f1': 0.8224852071005917, 'eval_runtime': 1.1117, 'eval_samples_per_second': 366.993, 'eval_steps_per_second': 3.598, 'epoch': 2.0}\n",
            "{'eval_loss': 0.579287052154541, 'eval_accuracy': 0.6911764705882353, 'eval_f1': 0.8090909090909091, 'eval_runtime': 1.0989, 'eval_samples_per_second': 371.288, 'eval_steps_per_second': 3.64, 'epoch': 3.0}\n",
            "{'eval_loss': 0.5748432874679565, 'eval_accuracy': 0.6911764705882353, 'eval_f1': 0.8073394495412844, 'eval_runtime': 1.4439, 'eval_samples_per_second': 282.571, 'eval_steps_per_second': 2.77, 'epoch': 4.0}\n",
            "{'train_runtime': 9.5692, 'train_samples_per_second': 1533.257, 'train_steps_per_second': 12.122, 'train_loss': 0.5897226004764952, 'epoch': 4.0}\n",
            "{'eval_loss': 0.5748432874679565, 'eval_accuracy': 0.6911764705882353, 'eval_f1': 0.8073394495412844, 'eval_runtime': 1.0872, 'eval_samples_per_second': 375.285, 'eval_steps_per_second': 3.679, 'epoch': 4.0}\n",
            "Progress: 59/100\n"
          ]
        },
        {
          "output_type": "stream",
          "name": "stderr",
          "text": [
            "Some weights of BertForSequenceClassification were not initialized from the model checkpoint at prajjwal1/bert-tiny and are newly initialized: ['classifier.bias', 'classifier.weight']\n",
            "You should probably TRAIN this model on a down-stream task to be able to use it for predictions and inference.\n"
          ]
        },
        {
          "output_type": "stream",
          "name": "stdout",
          "text": [
            "{'eval_loss': 0.6207587718963623, 'eval_accuracy': 0.6838235294117647, 'eval_f1': 0.8122270742358079, 'eval_runtime': 1.8439, 'eval_samples_per_second': 221.273, 'eval_steps_per_second': 2.169, 'epoch': 1.0}\n",
            "{'eval_loss': 0.6050003170967102, 'eval_accuracy': 0.6838235294117647, 'eval_f1': 0.8122270742358079, 'eval_runtime': 1.4541, 'eval_samples_per_second': 280.588, 'eval_steps_per_second': 2.751, 'epoch': 2.0}\n",
            "{'eval_loss': 0.5970742106437683, 'eval_accuracy': 0.6887254901960784, 'eval_f1': 0.8145985401459854, 'eval_runtime': 1.1759, 'eval_samples_per_second': 346.96, 'eval_steps_per_second': 3.402, 'epoch': 3.0}\n",
            "{'eval_loss': 0.5952083468437195, 'eval_accuracy': 0.6936274509803921, 'eval_f1': 0.8169838945827232, 'eval_runtime': 1.0967, 'eval_samples_per_second': 372.035, 'eval_steps_per_second': 3.647, 'epoch': 4.0}\n",
            "{'train_runtime': 10.1133, 'train_samples_per_second': 1450.766, 'train_steps_per_second': 11.47, 'train_loss': 0.6204661007585197, 'epoch': 4.0}\n",
            "{'eval_loss': 0.5952083468437195, 'eval_accuracy': 0.6936274509803921, 'eval_f1': 0.8169838945827232, 'eval_runtime': 1.101, 'eval_samples_per_second': 370.573, 'eval_steps_per_second': 3.633, 'epoch': 4.0}\n",
            "Progress: 60/100\n"
          ]
        },
        {
          "output_type": "stream",
          "name": "stderr",
          "text": [
            "Some weights of BertForSequenceClassification were not initialized from the model checkpoint at prajjwal1/bert-tiny and are newly initialized: ['classifier.bias', 'classifier.weight']\n",
            "You should probably TRAIN this model on a down-stream task to be able to use it for predictions and inference.\n"
          ]
        },
        {
          "output_type": "stream",
          "name": "stdout",
          "text": [
            "{'eval_loss': 0.6439599990844727, 'eval_accuracy': 0.6838235294117647, 'eval_f1': 0.8122270742358079, 'eval_runtime': 1.1221, 'eval_samples_per_second': 363.608, 'eval_steps_per_second': 3.565, 'epoch': 1.0}\n",
            "{'eval_loss': 0.6185536980628967, 'eval_accuracy': 0.6838235294117647, 'eval_f1': 0.8122270742358079, 'eval_runtime': 1.9287, 'eval_samples_per_second': 211.537, 'eval_steps_per_second': 2.074, 'epoch': 2.0}\n",
            "{'eval_loss': 0.6116704344749451, 'eval_accuracy': 0.6838235294117647, 'eval_f1': 0.8122270742358079, 'eval_runtime': 1.4515, 'eval_samples_per_second': 281.084, 'eval_steps_per_second': 2.756, 'epoch': 3.0}\n",
            "{'eval_loss': 0.609874427318573, 'eval_accuracy': 0.6838235294117647, 'eval_f1': 0.8122270742358079, 'eval_runtime': 1.1779, 'eval_samples_per_second': 346.37, 'eval_steps_per_second': 3.396, 'epoch': 4.0}\n",
            "{'train_runtime': 10.2757, 'train_samples_per_second': 1427.831, 'train_steps_per_second': 11.289, 'train_loss': 0.6398460125101024, 'epoch': 4.0}\n",
            "{'eval_loss': 0.609874427318573, 'eval_accuracy': 0.6838235294117647, 'eval_f1': 0.8122270742358079, 'eval_runtime': 1.805, 'eval_samples_per_second': 226.045, 'eval_steps_per_second': 2.216, 'epoch': 4.0}\n",
            "Progress: 61/100\n"
          ]
        },
        {
          "output_type": "stream",
          "name": "stderr",
          "text": [
            "Some weights of BertForSequenceClassification were not initialized from the model checkpoint at prajjwal1/bert-tiny and are newly initialized: ['classifier.bias', 'classifier.weight']\n",
            "You should probably TRAIN this model on a down-stream task to be able to use it for predictions and inference.\n"
          ]
        },
        {
          "output_type": "stream",
          "name": "stdout",
          "text": [
            "{'eval_loss': 0.5735582113265991, 'eval_accuracy': 0.7083333333333334, 'eval_f1': 0.8155038759689922, 'eval_runtime': 1.2628, 'eval_samples_per_second': 323.092, 'eval_steps_per_second': 40.387, 'epoch': 1.0}\n",
            "{'loss': 0.5946, 'grad_norm': 4.331884384155273, 'learning_rate': 0.00021830065359477123, 'epoch': 1.0893246187363834}\n",
            "{'eval_loss': 0.59549880027771, 'eval_accuracy': 0.7107843137254902, 'eval_f1': 0.8138801261829653, 'eval_runtime': 1.2958, 'eval_samples_per_second': 314.858, 'eval_steps_per_second': 39.357, 'epoch': 2.0}\n",
            "{'loss': 0.4682, 'grad_norm': 38.01247024536133, 'learning_rate': 0.00013660130718954247, 'epoch': 2.178649237472767}\n",
            "{'eval_loss': 0.7907573580741882, 'eval_accuracy': 0.7132352941176471, 'eval_f1': 0.8020304568527918, 'eval_runtime': 1.9658, 'eval_samples_per_second': 207.546, 'eval_steps_per_second': 25.943, 'epoch': 3.0}\n",
            "{'loss': 0.2993, 'grad_norm': 5.858227252960205, 'learning_rate': 5.4901960784313716e-05, 'epoch': 3.2679738562091503}\n",
            "{'eval_loss': 1.0637654066085815, 'eval_accuracy': 0.7132352941176471, 'eval_f1': 0.8059701492537313, 'eval_runtime': 2.0133, 'eval_samples_per_second': 202.65, 'eval_steps_per_second': 25.331, 'epoch': 4.0}\n",
            "{'train_runtime': 27.1411, 'train_samples_per_second': 540.582, 'train_steps_per_second': 67.646, 'train_loss': 0.4129647107425598, 'epoch': 4.0}\n",
            "{'eval_loss': 1.0637654066085815, 'eval_accuracy': 0.7132352941176471, 'eval_f1': 0.8059701492537313, 'eval_runtime': 1.6068, 'eval_samples_per_second': 253.926, 'eval_steps_per_second': 31.741, 'epoch': 4.0}\n",
            "Progress: 62/100\n"
          ]
        },
        {
          "output_type": "stream",
          "name": "stderr",
          "text": [
            "Some weights of BertForSequenceClassification were not initialized from the model checkpoint at prajjwal1/bert-tiny and are newly initialized: ['classifier.bias', 'classifier.weight']\n",
            "You should probably TRAIN this model on a down-stream task to be able to use it for predictions and inference.\n"
          ]
        },
        {
          "output_type": "stream",
          "name": "stdout",
          "text": [
            "{'eval_loss': 0.571905791759491, 'eval_accuracy': 0.7034313725490197, 'eval_f1': 0.8169440242057489, 'eval_runtime': 1.9492, 'eval_samples_per_second': 209.315, 'eval_steps_per_second': 26.164, 'epoch': 1.0}\n",
            "{'loss': 0.5884, 'grad_norm': 4.293759822845459, 'learning_rate': 7.276688453159042e-05, 'epoch': 1.0893246187363834}\n",
            "{'eval_loss': 0.5654860734939575, 'eval_accuracy': 0.7352941176470589, 'eval_f1': 0.8285714285714286, 'eval_runtime': 1.2409, 'eval_samples_per_second': 328.79, 'eval_steps_per_second': 41.099, 'epoch': 2.0}\n",
            "{'loss': 0.4993, 'grad_norm': 8.675013542175293, 'learning_rate': 4.5533769063180834e-05, 'epoch': 2.178649237472767}\n",
            "{'eval_loss': 0.6270501613616943, 'eval_accuracy': 0.7352941176470589, 'eval_f1': 0.8296529968454258, 'eval_runtime': 1.2726, 'eval_samples_per_second': 320.595, 'eval_steps_per_second': 40.074, 'epoch': 3.0}\n",
            "{'loss': 0.4045, 'grad_norm': 26.807472229003906, 'learning_rate': 1.8300653594771242e-05, 'epoch': 3.2679738562091503}\n",
            "{'eval_loss': 0.6656573414802551, 'eval_accuracy': 0.7377450980392157, 'eval_f1': 0.8325508607198748, 'eval_runtime': 1.598, 'eval_samples_per_second': 255.313, 'eval_steps_per_second': 31.914, 'epoch': 4.0}\n",
            "{'train_runtime': 26.4772, 'train_samples_per_second': 554.137, 'train_steps_per_second': 69.343, 'train_loss': 0.47345523792674077, 'epoch': 4.0}\n",
            "{'eval_loss': 0.6656573414802551, 'eval_accuracy': 0.7377450980392157, 'eval_f1': 0.8325508607198748, 'eval_runtime': 1.2577, 'eval_samples_per_second': 324.409, 'eval_steps_per_second': 40.551, 'epoch': 4.0}\n",
            "Progress: 63/100\n"
          ]
        },
        {
          "output_type": "stream",
          "name": "stderr",
          "text": [
            "Some weights of BertForSequenceClassification were not initialized from the model checkpoint at prajjwal1/bert-tiny and are newly initialized: ['classifier.bias', 'classifier.weight']\n",
            "You should probably TRAIN this model on a down-stream task to be able to use it for predictions and inference.\n"
          ]
        },
        {
          "output_type": "stream",
          "name": "stdout",
          "text": [
            "{'eval_loss': 0.5733863711357117, 'eval_accuracy': 0.7009803921568627, 'eval_f1': 0.8134556574923547, 'eval_runtime': 1.5937, 'eval_samples_per_second': 256.009, 'eval_steps_per_second': 32.001, 'epoch': 1.0}\n",
            "{'loss': 0.6013, 'grad_norm': 4.323869228363037, 'learning_rate': 3.638344226579521e-05, 'epoch': 1.0893246187363834}\n",
            "{'eval_loss': 0.5774785876274109, 'eval_accuracy': 0.7083333333333334, 'eval_f1': 0.8194233687405159, 'eval_runtime': 1.9468, 'eval_samples_per_second': 209.578, 'eval_steps_per_second': 26.197, 'epoch': 2.0}\n",
            "{'loss': 0.5438, 'grad_norm': 5.283394813537598, 'learning_rate': 2.2766884531590417e-05, 'epoch': 2.178649237472767}\n",
            "{'eval_loss': 0.5611313581466675, 'eval_accuracy': 0.7279411764705882, 'eval_f1': 0.8246445497630331, 'eval_runtime': 1.9704, 'eval_samples_per_second': 207.063, 'eval_steps_per_second': 25.883, 'epoch': 3.0}\n",
            "{'loss': 0.4849, 'grad_norm': 14.096569061279297, 'learning_rate': 9.150326797385621e-06, 'epoch': 3.2679738562091503}\n",
            "{'eval_loss': 0.587859570980072, 'eval_accuracy': 0.7279411764705882, 'eval_f1': 0.8268330733229329, 'eval_runtime': 1.2724, 'eval_samples_per_second': 320.643, 'eval_steps_per_second': 40.08, 'epoch': 4.0}\n",
            "{'train_runtime': 27.1775, 'train_samples_per_second': 539.859, 'train_steps_per_second': 67.556, 'train_loss': 0.5309766798497285, 'epoch': 4.0}\n",
            "{'eval_loss': 0.587859570980072, 'eval_accuracy': 0.7279411764705882, 'eval_f1': 0.8268330733229329, 'eval_runtime': 1.9606, 'eval_samples_per_second': 208.101, 'eval_steps_per_second': 26.013, 'epoch': 4.0}\n",
            "Progress: 64/100\n"
          ]
        },
        {
          "output_type": "stream",
          "name": "stderr",
          "text": [
            "Some weights of BertForSequenceClassification were not initialized from the model checkpoint at prajjwal1/bert-tiny and are newly initialized: ['classifier.bias', 'classifier.weight']\n",
            "You should probably TRAIN this model on a down-stream task to be able to use it for predictions and inference.\n"
          ]
        },
        {
          "output_type": "stream",
          "name": "stdout",
          "text": [
            "{'eval_loss': 0.5838139653205872, 'eval_accuracy': 0.7009803921568627, 'eval_f1': 0.8184523809523809, 'eval_runtime': 1.5907, 'eval_samples_per_second': 256.484, 'eval_steps_per_second': 32.061, 'epoch': 1.0}\n",
            "{'loss': 0.6134, 'grad_norm': 2.5178942680358887, 'learning_rate': 2.1830065359477124e-05, 'epoch': 1.0893246187363834}\n",
            "{'eval_loss': 0.5830901861190796, 'eval_accuracy': 0.7034313725490197, 'eval_f1': 0.8180451127819549, 'eval_runtime': 1.9501, 'eval_samples_per_second': 209.224, 'eval_steps_per_second': 26.153, 'epoch': 2.0}\n",
            "{'loss': 0.5689, 'grad_norm': 4.079008102416992, 'learning_rate': 1.366013071895425e-05, 'epoch': 2.178649237472767}\n",
            "{'eval_loss': 0.568699836730957, 'eval_accuracy': 0.7132352941176471, 'eval_f1': 0.8197226502311248, 'eval_runtime': 1.6232, 'eval_samples_per_second': 251.349, 'eval_steps_per_second': 31.419, 'epoch': 3.0}\n",
            "{'loss': 0.5302, 'grad_norm': 6.041450023651123, 'learning_rate': 5.490196078431373e-06, 'epoch': 3.2679738562091503}\n",
            "{'eval_loss': 0.5771942734718323, 'eval_accuracy': 0.7107843137254902, 'eval_f1': 0.8195718654434251, 'eval_runtime': 1.648, 'eval_samples_per_second': 247.573, 'eval_steps_per_second': 30.947, 'epoch': 4.0}\n",
            "{'train_runtime': 27.2503, 'train_samples_per_second': 538.417, 'train_steps_per_second': 67.375, 'train_loss': 0.5637553262814458, 'epoch': 4.0}\n",
            "{'eval_loss': 0.5771942734718323, 'eval_accuracy': 0.7107843137254902, 'eval_f1': 0.8195718654434251, 'eval_runtime': 1.262, 'eval_samples_per_second': 323.289, 'eval_steps_per_second': 40.411, 'epoch': 4.0}\n",
            "Progress: 65/100\n"
          ]
        },
        {
          "output_type": "stream",
          "name": "stderr",
          "text": [
            "Some weights of BertForSequenceClassification were not initialized from the model checkpoint at prajjwal1/bert-tiny and are newly initialized: ['classifier.bias', 'classifier.weight']\n",
            "You should probably TRAIN this model on a down-stream task to be able to use it for predictions and inference.\n"
          ]
        },
        {
          "output_type": "stream",
          "name": "stdout",
          "text": [
            "{'eval_loss': 0.5624045133590698, 'eval_accuracy': 0.7230392156862745, 'eval_f1': 0.8231611893583725, 'eval_runtime': 1.1593, 'eval_samples_per_second': 351.935, 'eval_steps_per_second': 22.427, 'epoch': 1.0}\n",
            "{'eval_loss': 0.5531349778175354, 'eval_accuracy': 0.7328431372549019, 'eval_f1': 0.8256, 'eval_runtime': 1.8707, 'eval_samples_per_second': 218.098, 'eval_steps_per_second': 13.898, 'epoch': 2.0}\n",
            "{'loss': 0.5239, 'grad_norm': 15.012598991394043, 'learning_rate': 0.00013695652173913042, 'epoch': 2.1739130434782608}\n",
            "{'eval_loss': 0.590812087059021, 'eval_accuracy': 0.7401960784313726, 'eval_f1': 0.8221476510067114, 'eval_runtime': 1.5932, 'eval_samples_per_second': 256.081, 'eval_steps_per_second': 16.319, 'epoch': 3.0}\n",
            "{'eval_loss': 0.7519146800041199, 'eval_accuracy': 0.7377450980392157, 'eval_f1': 0.8243021346469622, 'eval_runtime': 1.873, 'eval_samples_per_second': 217.829, 'eval_steps_per_second': 13.881, 'epoch': 4.0}\n",
            "{'train_runtime': 17.7831, 'train_samples_per_second': 825.052, 'train_steps_per_second': 51.734, 'train_loss': 0.40669037362803584, 'epoch': 4.0}\n",
            "{'eval_loss': 0.7519146800041199, 'eval_accuracy': 0.7377450980392157, 'eval_f1': 0.8243021346469622, 'eval_runtime': 1.1712, 'eval_samples_per_second': 348.367, 'eval_steps_per_second': 22.2, 'epoch': 4.0}\n",
            "Progress: 66/100\n"
          ]
        },
        {
          "output_type": "stream",
          "name": "stderr",
          "text": [
            "Some weights of BertForSequenceClassification were not initialized from the model checkpoint at prajjwal1/bert-tiny and are newly initialized: ['classifier.bias', 'classifier.weight']\n",
            "You should probably TRAIN this model on a down-stream task to be able to use it for predictions and inference.\n"
          ]
        },
        {
          "output_type": "stream",
          "name": "stdout",
          "text": [
            "{'eval_loss': 0.564354419708252, 'eval_accuracy': 0.7132352941176471, 'eval_f1': 0.8180404354587869, 'eval_runtime': 1.1731, 'eval_samples_per_second': 347.811, 'eval_steps_per_second': 22.164, 'epoch': 1.0}\n",
            "{'eval_loss': 0.5474852919578552, 'eval_accuracy': 0.7377450980392157, 'eval_f1': 0.831496062992126, 'eval_runtime': 1.1546, 'eval_samples_per_second': 353.357, 'eval_steps_per_second': 22.518, 'epoch': 2.0}\n",
            "{'loss': 0.5577, 'grad_norm': 6.763742923736572, 'learning_rate': 4.565217391304348e-05, 'epoch': 2.1739130434782608}\n",
            "{'eval_loss': 0.5569795966148376, 'eval_accuracy': 0.7426470588235294, 'eval_f1': 0.8330683624801272, 'eval_runtime': 1.1881, 'eval_samples_per_second': 343.395, 'eval_steps_per_second': 21.883, 'epoch': 3.0}\n",
            "{'eval_loss': 0.5896832346916199, 'eval_accuracy': 0.7328431372549019, 'eval_f1': 0.8299531981279251, 'eval_runtime': 1.8761, 'eval_samples_per_second': 217.468, 'eval_steps_per_second': 13.858, 'epoch': 4.0}\n",
            "{'train_runtime': 16.644, 'train_samples_per_second': 881.517, 'train_steps_per_second': 55.275, 'train_loss': 0.5020559891410495, 'epoch': 4.0}\n",
            "{'eval_loss': 0.5896832346916199, 'eval_accuracy': 0.7328431372549019, 'eval_f1': 0.8299531981279251, 'eval_runtime': 1.5215, 'eval_samples_per_second': 268.164, 'eval_steps_per_second': 17.089, 'epoch': 4.0}\n",
            "Progress: 67/100\n"
          ]
        },
        {
          "output_type": "stream",
          "name": "stderr",
          "text": [
            "Some weights of BertForSequenceClassification were not initialized from the model checkpoint at prajjwal1/bert-tiny and are newly initialized: ['classifier.bias', 'classifier.weight']\n",
            "You should probably TRAIN this model on a down-stream task to be able to use it for predictions and inference.\n"
          ]
        },
        {
          "output_type": "stream",
          "name": "stdout",
          "text": [
            "{'eval_loss': 0.5816411972045898, 'eval_accuracy': 0.6887254901960784, 'eval_f1': 0.8095952023988006, 'eval_runtime': 1.8743, 'eval_samples_per_second': 217.678, 'eval_steps_per_second': 13.872, 'epoch': 1.0}\n",
            "{'eval_loss': 0.5781240463256836, 'eval_accuracy': 0.7034313725490197, 'eval_f1': 0.8185907046476761, 'eval_runtime': 1.5084, 'eval_samples_per_second': 270.488, 'eval_steps_per_second': 17.237, 'epoch': 2.0}\n",
            "{'loss': 0.5845, 'grad_norm': 4.170251846313477, 'learning_rate': 2.282608695652174e-05, 'epoch': 2.1739130434782608}\n",
            "{'eval_loss': 0.568314790725708, 'eval_accuracy': 0.7083333333333334, 'eval_f1': 0.8183206106870229, 'eval_runtime': 1.5475, 'eval_samples_per_second': 263.648, 'eval_steps_per_second': 16.801, 'epoch': 3.0}\n",
            "{'eval_loss': 0.568650484085083, 'eval_accuracy': 0.7205882352941176, 'eval_f1': 0.8246153846153846, 'eval_runtime': 1.5156, 'eval_samples_per_second': 269.198, 'eval_steps_per_second': 17.155, 'epoch': 4.0}\n",
            "{'train_runtime': 17.8182, 'train_samples_per_second': 823.429, 'train_steps_per_second': 51.633, 'train_loss': 0.5531564961309018, 'epoch': 4.0}\n",
            "{'eval_loss': 0.568650484085083, 'eval_accuracy': 0.7205882352941176, 'eval_f1': 0.8246153846153846, 'eval_runtime': 1.5246, 'eval_samples_per_second': 267.616, 'eval_steps_per_second': 17.054, 'epoch': 4.0}\n",
            "Progress: 68/100\n"
          ]
        },
        {
          "output_type": "stream",
          "name": "stderr",
          "text": [
            "Some weights of BertForSequenceClassification were not initialized from the model checkpoint at prajjwal1/bert-tiny and are newly initialized: ['classifier.bias', 'classifier.weight']\n",
            "You should probably TRAIN this model on a down-stream task to be able to use it for predictions and inference.\n"
          ]
        },
        {
          "output_type": "stream",
          "name": "stdout",
          "text": [
            "{'eval_loss': 0.5934128761291504, 'eval_accuracy': 0.6985294117647058, 'eval_f1': 0.8193832599118943, 'eval_runtime': 1.1603, 'eval_samples_per_second': 351.636, 'eval_steps_per_second': 22.408, 'epoch': 1.0}\n",
            "{'eval_loss': 0.5834196209907532, 'eval_accuracy': 0.6985294117647058, 'eval_f1': 0.8161434977578476, 'eval_runtime': 1.1644, 'eval_samples_per_second': 350.392, 'eval_steps_per_second': 22.329, 'epoch': 2.0}\n",
            "{'loss': 0.6021, 'grad_norm': 2.227717161178589, 'learning_rate': 1.3695652173913042e-05, 'epoch': 2.1739130434782608}\n",
            "{'eval_loss': 0.574123740196228, 'eval_accuracy': 0.6936274509803921, 'eval_f1': 0.8114630467571644, 'eval_runtime': 1.1524, 'eval_samples_per_second': 354.056, 'eval_steps_per_second': 22.562, 'epoch': 3.0}\n",
            "{'eval_loss': 0.5735155940055847, 'eval_accuracy': 0.696078431372549, 'eval_f1': 0.8126888217522659, 'eval_runtime': 1.5183, 'eval_samples_per_second': 268.717, 'eval_steps_per_second': 17.124, 'epoch': 4.0}\n",
            "{'train_runtime': 16.3877, 'train_samples_per_second': 895.306, 'train_steps_per_second': 56.14, 'train_loss': 0.580059698353643, 'epoch': 4.0}\n",
            "{'eval_loss': 0.5735155940055847, 'eval_accuracy': 0.696078431372549, 'eval_f1': 0.8126888217522659, 'eval_runtime': 1.8922, 'eval_samples_per_second': 215.617, 'eval_steps_per_second': 13.74, 'epoch': 4.0}\n",
            "Progress: 69/100\n"
          ]
        },
        {
          "output_type": "stream",
          "name": "stderr",
          "text": [
            "Some weights of BertForSequenceClassification were not initialized from the model checkpoint at prajjwal1/bert-tiny and are newly initialized: ['classifier.bias', 'classifier.weight']\n",
            "You should probably TRAIN this model on a down-stream task to be able to use it for predictions and inference.\n"
          ]
        },
        {
          "output_type": "stream",
          "name": "stdout",
          "text": [
            "{'eval_loss': 0.5496113896369934, 'eval_accuracy': 0.7377450980392157, 'eval_f1': 0.831496062992126, 'eval_runtime': 1.1202, 'eval_samples_per_second': 364.229, 'eval_steps_per_second': 11.605, 'epoch': 1.0}\n",
            "{'eval_loss': 0.552695095539093, 'eval_accuracy': 0.7377450980392157, 'eval_f1': 0.8309636650868878, 'eval_runtime': 1.8032, 'eval_samples_per_second': 226.268, 'eval_steps_per_second': 7.21, 'epoch': 2.0}\n",
            "{'eval_loss': 0.6253054141998291, 'eval_accuracy': 0.7450980392156863, 'eval_f1': 0.8354430379746836, 'eval_runtime': 1.4685, 'eval_samples_per_second': 277.836, 'eval_steps_per_second': 8.853, 'epoch': 3.0}\n",
            "{'eval_loss': 0.6537364721298218, 'eval_accuracy': 0.7377450980392157, 'eval_f1': 0.8304278922345484, 'eval_runtime': 1.4953, 'eval_samples_per_second': 272.86, 'eval_steps_per_second': 8.694, 'epoch': 4.0}\n",
            "{'train_runtime': 12.9739, 'train_samples_per_second': 1130.884, 'train_steps_per_second': 35.456, 'train_loss': 0.43501543791397757, 'epoch': 4.0}\n",
            "{'eval_loss': 0.6537364721298218, 'eval_accuracy': 0.7377450980392157, 'eval_f1': 0.8304278922345484, 'eval_runtime': 1.1263, 'eval_samples_per_second': 362.26, 'eval_steps_per_second': 11.543, 'epoch': 4.0}\n",
            "Progress: 70/100\n"
          ]
        },
        {
          "output_type": "stream",
          "name": "stderr",
          "text": [
            "Some weights of BertForSequenceClassification were not initialized from the model checkpoint at prajjwal1/bert-tiny and are newly initialized: ['classifier.bias', 'classifier.weight']\n",
            "You should probably TRAIN this model on a down-stream task to be able to use it for predictions and inference.\n"
          ]
        },
        {
          "output_type": "stream",
          "name": "stdout",
          "text": [
            "{'eval_loss': 0.585704505443573, 'eval_accuracy': 0.6936274509803921, 'eval_f1': 0.81089258698941, 'eval_runtime': 1.1185, 'eval_samples_per_second': 364.783, 'eval_steps_per_second': 11.623, 'epoch': 1.0}\n",
            "{'eval_loss': 0.5598652958869934, 'eval_accuracy': 0.7181372549019608, 'eval_f1': 0.8205928237129485, 'eval_runtime': 1.472, 'eval_samples_per_second': 277.177, 'eval_steps_per_second': 8.832, 'epoch': 2.0}\n",
            "{'eval_loss': 0.5700249075889587, 'eval_accuracy': 0.7132352941176471, 'eval_f1': 0.8186046511627907, 'eval_runtime': 1.1462, 'eval_samples_per_second': 355.952, 'eval_steps_per_second': 11.342, 'epoch': 3.0}\n",
            "{'eval_loss': 0.5717409253120422, 'eval_accuracy': 0.7254901960784313, 'eval_f1': 0.8255451713395638, 'eval_runtime': 1.8323, 'eval_samples_per_second': 222.672, 'eval_steps_per_second': 7.095, 'epoch': 4.0}\n",
            "{'train_runtime': 12.6276, 'train_samples_per_second': 1161.899, 'train_steps_per_second': 36.428, 'train_loss': 0.5322120666503907, 'epoch': 4.0}\n",
            "{'eval_loss': 0.5717409253120422, 'eval_accuracy': 0.7254901960784313, 'eval_f1': 0.8255451713395638, 'eval_runtime': 1.4734, 'eval_samples_per_second': 276.905, 'eval_steps_per_second': 8.823, 'epoch': 4.0}\n",
            "Progress: 71/100\n"
          ]
        },
        {
          "output_type": "stream",
          "name": "stderr",
          "text": [
            "Some weights of BertForSequenceClassification were not initialized from the model checkpoint at prajjwal1/bert-tiny and are newly initialized: ['classifier.bias', 'classifier.weight']\n",
            "You should probably TRAIN this model on a down-stream task to be able to use it for predictions and inference.\n"
          ]
        },
        {
          "output_type": "stream",
          "name": "stdout",
          "text": [
            "{'eval_loss': 0.5961236953735352, 'eval_accuracy': 0.6936274509803921, 'eval_f1': 0.8169838945827232, 'eval_runtime': 1.4628, 'eval_samples_per_second': 278.916, 'eval_steps_per_second': 8.887, 'epoch': 1.0}\n",
            "{'eval_loss': 0.5710234045982361, 'eval_accuracy': 0.7058823529411765, 'eval_f1': 0.817629179331307, 'eval_runtime': 1.4625, 'eval_samples_per_second': 278.978, 'eval_steps_per_second': 8.889, 'epoch': 2.0}\n",
            "{'eval_loss': 0.5729517340660095, 'eval_accuracy': 0.7083333333333334, 'eval_f1': 0.8199697428139183, 'eval_runtime': 1.8191, 'eval_samples_per_second': 224.291, 'eval_steps_per_second': 7.147, 'epoch': 3.0}\n",
            "{'eval_loss': 0.56805819272995, 'eval_accuracy': 0.7107843137254902, 'eval_f1': 0.8201219512195121, 'eval_runtime': 1.1147, 'eval_samples_per_second': 366.027, 'eval_steps_per_second': 11.663, 'epoch': 4.0}\n",
            "{'train_runtime': 12.9778, 'train_samples_per_second': 1130.542, 'train_steps_per_second': 35.445, 'train_loss': 0.5740605893342391, 'epoch': 4.0}\n",
            "{'eval_loss': 0.56805819272995, 'eval_accuracy': 0.7107843137254902, 'eval_f1': 0.8201219512195121, 'eval_runtime': 1.5132, 'eval_samples_per_second': 269.629, 'eval_steps_per_second': 8.591, 'epoch': 4.0}\n",
            "Progress: 72/100\n"
          ]
        },
        {
          "output_type": "stream",
          "name": "stderr",
          "text": [
            "Some weights of BertForSequenceClassification were not initialized from the model checkpoint at prajjwal1/bert-tiny and are newly initialized: ['classifier.bias', 'classifier.weight']\n",
            "You should probably TRAIN this model on a down-stream task to be able to use it for predictions and inference.\n"
          ]
        },
        {
          "output_type": "stream",
          "name": "stdout",
          "text": [
            "{'eval_loss': 0.6053450703620911, 'eval_accuracy': 0.6838235294117647, 'eval_f1': 0.8122270742358079, 'eval_runtime': 1.8168, 'eval_samples_per_second': 224.568, 'eval_steps_per_second': 7.155, 'epoch': 1.0}\n",
            "{'eval_loss': 0.5885691046714783, 'eval_accuracy': 0.7034313725490197, 'eval_f1': 0.8212703101920237, 'eval_runtime': 1.8164, 'eval_samples_per_second': 224.626, 'eval_steps_per_second': 7.157, 'epoch': 2.0}\n",
            "{'eval_loss': 0.5840325355529785, 'eval_accuracy': 0.6985294117647058, 'eval_f1': 0.8166915052160953, 'eval_runtime': 1.4627, 'eval_samples_per_second': 278.936, 'eval_steps_per_second': 8.888, 'epoch': 3.0}\n",
            "{'eval_loss': 0.5790587663650513, 'eval_accuracy': 0.696078431372549, 'eval_f1': 0.8138138138138138, 'eval_runtime': 1.5023, 'eval_samples_per_second': 271.59, 'eval_steps_per_second': 8.654, 'epoch': 4.0}\n",
            "{'train_runtime': 13.7486, 'train_samples_per_second': 1067.16, 'train_steps_per_second': 33.458, 'train_loss': 0.5975138125212296, 'epoch': 4.0}\n",
            "{'eval_loss': 0.5790587663650513, 'eval_accuracy': 0.696078431372549, 'eval_f1': 0.8138138138138138, 'eval_runtime': 1.461, 'eval_samples_per_second': 279.263, 'eval_steps_per_second': 8.898, 'epoch': 4.0}\n",
            "Progress: 73/100\n"
          ]
        },
        {
          "output_type": "stream",
          "name": "stderr",
          "text": [
            "Some weights of BertForSequenceClassification were not initialized from the model checkpoint at prajjwal1/bert-tiny and are newly initialized: ['classifier.bias', 'classifier.weight']\n",
            "You should probably TRAIN this model on a down-stream task to be able to use it for predictions and inference.\n"
          ]
        },
        {
          "output_type": "stream",
          "name": "stdout",
          "text": [
            "{'eval_loss': 0.5753757357597351, 'eval_accuracy': 0.696078431372549, 'eval_f1': 0.8132530120481928, 'eval_runtime': 1.4564, 'eval_samples_per_second': 280.15, 'eval_steps_per_second': 4.806, 'epoch': 1.0}\n",
            "{'eval_loss': 0.550995409488678, 'eval_accuracy': 0.7328431372549019, 'eval_f1': 0.8304821150855366, 'eval_runtime': 1.4478, 'eval_samples_per_second': 281.814, 'eval_steps_per_second': 4.835, 'epoch': 2.0}\n",
            "{'eval_loss': 0.5720232129096985, 'eval_accuracy': 0.7598039215686274, 'eval_f1': 0.8434504792332268, 'eval_runtime': 1.4658, 'eval_samples_per_second': 278.342, 'eval_steps_per_second': 4.775, 'epoch': 3.0}\n",
            "{'eval_loss': 0.5971444249153137, 'eval_accuracy': 0.75, 'eval_f1': 0.8386075949367089, 'eval_runtime': 1.0953, 'eval_samples_per_second': 372.486, 'eval_steps_per_second': 6.391, 'epoch': 4.0}\n",
            "{'train_runtime': 10.6546, 'train_samples_per_second': 1377.056, 'train_steps_per_second': 21.775, 'train_loss': 0.4707464020827721, 'epoch': 4.0}\n",
            "{'eval_loss': 0.5971444249153137, 'eval_accuracy': 0.75, 'eval_f1': 0.8386075949367089, 'eval_runtime': 1.8052, 'eval_samples_per_second': 226.017, 'eval_steps_per_second': 3.878, 'epoch': 4.0}\n",
            "Progress: 74/100\n"
          ]
        },
        {
          "output_type": "stream",
          "name": "stderr",
          "text": [
            "Some weights of BertForSequenceClassification were not initialized from the model checkpoint at prajjwal1/bert-tiny and are newly initialized: ['classifier.bias', 'classifier.weight']\n",
            "You should probably TRAIN this model on a down-stream task to be able to use it for predictions and inference.\n"
          ]
        },
        {
          "output_type": "stream",
          "name": "stdout",
          "text": [
            "{'eval_loss': 0.594853937625885, 'eval_accuracy': 0.6936274509803921, 'eval_f1': 0.8169838945827232, 'eval_runtime': 1.4664, 'eval_samples_per_second': 278.223, 'eval_steps_per_second': 4.773, 'epoch': 1.0}\n",
            "{'eval_loss': 0.5708560943603516, 'eval_accuracy': 0.7009803921568627, 'eval_f1': 0.8117283950617284, 'eval_runtime': 1.8015, 'eval_samples_per_second': 226.483, 'eval_steps_per_second': 3.886, 'epoch': 2.0}\n",
            "{'eval_loss': 0.5739648938179016, 'eval_accuracy': 0.7230392156862745, 'eval_f1': 0.8269525267993875, 'eval_runtime': 1.4489, 'eval_samples_per_second': 281.587, 'eval_steps_per_second': 4.831, 'epoch': 3.0}\n",
            "{'eval_loss': 0.5612186193466187, 'eval_accuracy': 0.7303921568627451, 'eval_f1': 0.8297213622291022, 'eval_runtime': 1.833, 'eval_samples_per_second': 222.591, 'eval_steps_per_second': 3.819, 'epoch': 4.0}\n",
            "{'train_runtime': 11.783, 'train_samples_per_second': 1245.182, 'train_steps_per_second': 19.689, 'train_loss': 0.5603954052102977, 'epoch': 4.0}\n",
            "{'eval_loss': 0.5612186193466187, 'eval_accuracy': 0.7303921568627451, 'eval_f1': 0.8297213622291022, 'eval_runtime': 1.1108, 'eval_samples_per_second': 367.293, 'eval_steps_per_second': 6.302, 'epoch': 4.0}\n",
            "Progress: 75/100\n"
          ]
        },
        {
          "output_type": "stream",
          "name": "stderr",
          "text": [
            "Some weights of BertForSequenceClassification were not initialized from the model checkpoint at prajjwal1/bert-tiny and are newly initialized: ['classifier.bias', 'classifier.weight']\n",
            "You should probably TRAIN this model on a down-stream task to be able to use it for predictions and inference.\n"
          ]
        },
        {
          "output_type": "stream",
          "name": "stdout",
          "text": [
            "{'eval_loss': 0.6062899231910706, 'eval_accuracy': 0.6838235294117647, 'eval_f1': 0.8122270742358079, 'eval_runtime': 1.8225, 'eval_samples_per_second': 223.864, 'eval_steps_per_second': 3.841, 'epoch': 1.0}\n",
            "{'eval_loss': 0.590184211730957, 'eval_accuracy': 0.7034313725490197, 'eval_f1': 0.8212703101920237, 'eval_runtime': 1.4502, 'eval_samples_per_second': 281.337, 'eval_steps_per_second': 4.827, 'epoch': 2.0}\n",
            "{'eval_loss': 0.5828689932823181, 'eval_accuracy': 0.696078431372549, 'eval_f1': 0.8143712574850299, 'eval_runtime': 1.4509, 'eval_samples_per_second': 281.208, 'eval_steps_per_second': 4.825, 'epoch': 3.0}\n",
            "{'eval_loss': 0.5777505040168762, 'eval_accuracy': 0.6887254901960784, 'eval_f1': 0.8078668683812406, 'eval_runtime': 1.9084, 'eval_samples_per_second': 213.792, 'eval_steps_per_second': 3.668, 'epoch': 4.0}\n",
            "{'train_runtime': 11.8332, 'train_samples_per_second': 1239.905, 'train_steps_per_second': 19.606, 'train_loss': 0.5961887096536571, 'epoch': 4.0}\n",
            "{'eval_loss': 0.5777505040168762, 'eval_accuracy': 0.6887254901960784, 'eval_f1': 0.8078668683812406, 'eval_runtime': 1.109, 'eval_samples_per_second': 367.891, 'eval_steps_per_second': 6.312, 'epoch': 4.0}\n",
            "Progress: 76/100\n"
          ]
        },
        {
          "output_type": "stream",
          "name": "stderr",
          "text": [
            "Some weights of BertForSequenceClassification were not initialized from the model checkpoint at prajjwal1/bert-tiny and are newly initialized: ['classifier.bias', 'classifier.weight']\n",
            "You should probably TRAIN this model on a down-stream task to be able to use it for predictions and inference.\n"
          ]
        },
        {
          "output_type": "stream",
          "name": "stdout",
          "text": [
            "{'eval_loss': 0.6178915500640869, 'eval_accuracy': 0.6838235294117647, 'eval_f1': 0.8122270742358079, 'eval_runtime': 1.0973, 'eval_samples_per_second': 371.815, 'eval_steps_per_second': 6.379, 'epoch': 1.0}\n",
            "{'eval_loss': 0.6015655398368835, 'eval_accuracy': 0.6838235294117647, 'eval_f1': 0.8122270742358079, 'eval_runtime': 1.4839, 'eval_samples_per_second': 274.958, 'eval_steps_per_second': 4.717, 'epoch': 2.0}\n",
            "{'eval_loss': 0.5944027900695801, 'eval_accuracy': 0.696078431372549, 'eval_f1': 0.8181818181818182, 'eval_runtime': 1.794, 'eval_samples_per_second': 227.43, 'eval_steps_per_second': 3.902, 'epoch': 3.0}\n",
            "{'eval_loss': 0.5916686058044434, 'eval_accuracy': 0.7034313725490197, 'eval_f1': 0.8217967599410898, 'eval_runtime': 1.4897, 'eval_samples_per_second': 273.875, 'eval_steps_per_second': 4.699, 'epoch': 4.0}\n",
            "{'train_runtime': 11.0675, 'train_samples_per_second': 1325.684, 'train_steps_per_second': 20.962, 'train_loss': 0.6165741229879445, 'epoch': 4.0}\n",
            "{'eval_loss': 0.5916686058044434, 'eval_accuracy': 0.7034313725490197, 'eval_f1': 0.8217967599410898, 'eval_runtime': 1.1002, 'eval_samples_per_second': 370.838, 'eval_steps_per_second': 6.362, 'epoch': 4.0}\n",
            "Progress: 77/100\n"
          ]
        },
        {
          "output_type": "stream",
          "name": "stderr",
          "text": [
            "Some weights of BertForSequenceClassification were not initialized from the model checkpoint at prajjwal1/bert-tiny and are newly initialized: ['classifier.bias', 'classifier.weight']\n",
            "You should probably TRAIN this model on a down-stream task to be able to use it for predictions and inference.\n"
          ]
        },
        {
          "output_type": "stream",
          "name": "stdout",
          "text": [
            "{'eval_loss': 0.6026797890663147, 'eval_accuracy': 0.6887254901960784, 'eval_f1': 0.808446455505279, 'eval_runtime': 1.8555, 'eval_samples_per_second': 219.882, 'eval_steps_per_second': 2.156, 'epoch': 1.0}\n",
            "{'eval_loss': 0.5666956901550293, 'eval_accuracy': 0.7205882352941176, 'eval_f1': 0.821875, 'eval_runtime': 1.0954, 'eval_samples_per_second': 372.462, 'eval_steps_per_second': 3.652, 'epoch': 2.0}\n",
            "{'eval_loss': 0.5767462253570557, 'eval_accuracy': 0.7279411764705882, 'eval_f1': 0.8262910798122066, 'eval_runtime': 1.4623, 'eval_samples_per_second': 279.007, 'eval_steps_per_second': 2.735, 'epoch': 3.0}\n",
            "{'eval_loss': 0.5759289264678955, 'eval_accuracy': 0.7352941176470589, 'eval_f1': 0.8291139240506329, 'eval_runtime': 1.0885, 'eval_samples_per_second': 374.831, 'eval_steps_per_second': 3.675, 'epoch': 4.0}\n",
            "{'train_runtime': 10.041, 'train_samples_per_second': 1461.21, 'train_steps_per_second': 11.553, 'train_loss': 0.5189324411852606, 'epoch': 4.0}\n",
            "{'eval_loss': 0.5759289264678955, 'eval_accuracy': 0.7352941176470589, 'eval_f1': 0.8291139240506329, 'eval_runtime': 1.4524, 'eval_samples_per_second': 280.918, 'eval_steps_per_second': 2.754, 'epoch': 4.0}\n",
            "Progress: 78/100\n"
          ]
        },
        {
          "output_type": "stream",
          "name": "stderr",
          "text": [
            "Some weights of BertForSequenceClassification were not initialized from the model checkpoint at prajjwal1/bert-tiny and are newly initialized: ['classifier.bias', 'classifier.weight']\n",
            "You should probably TRAIN this model on a down-stream task to be able to use it for predictions and inference.\n"
          ]
        },
        {
          "output_type": "stream",
          "name": "stdout",
          "text": [
            "{'eval_loss': 0.6038169264793396, 'eval_accuracy': 0.6838235294117647, 'eval_f1': 0.8122270742358079, 'eval_runtime': 1.1102, 'eval_samples_per_second': 367.489, 'eval_steps_per_second': 3.603, 'epoch': 1.0}\n",
            "{'eval_loss': 0.5951903462409973, 'eval_accuracy': 0.7058823529411765, 'eval_f1': 0.8224852071005917, 'eval_runtime': 1.0958, 'eval_samples_per_second': 372.32, 'eval_steps_per_second': 3.65, 'epoch': 2.0}\n",
            "{'eval_loss': 0.579287052154541, 'eval_accuracy': 0.6911764705882353, 'eval_f1': 0.8090909090909091, 'eval_runtime': 1.0877, 'eval_samples_per_second': 375.109, 'eval_steps_per_second': 3.678, 'epoch': 3.0}\n",
            "{'eval_loss': 0.5748432874679565, 'eval_accuracy': 0.6911764705882353, 'eval_f1': 0.8073394495412844, 'eval_runtime': 1.8341, 'eval_samples_per_second': 222.454, 'eval_steps_per_second': 2.181, 'epoch': 4.0}\n",
            "{'train_runtime': 9.5918, 'train_samples_per_second': 1529.638, 'train_steps_per_second': 12.094, 'train_loss': 0.5897226004764952, 'epoch': 4.0}\n",
            "{'eval_loss': 0.5748432874679565, 'eval_accuracy': 0.6911764705882353, 'eval_f1': 0.8073394495412844, 'eval_runtime': 1.1, 'eval_samples_per_second': 370.9, 'eval_steps_per_second': 3.636, 'epoch': 4.0}\n",
            "Progress: 79/100\n"
          ]
        },
        {
          "output_type": "stream",
          "name": "stderr",
          "text": [
            "Some weights of BertForSequenceClassification were not initialized from the model checkpoint at prajjwal1/bert-tiny and are newly initialized: ['classifier.bias', 'classifier.weight']\n",
            "You should probably TRAIN this model on a down-stream task to be able to use it for predictions and inference.\n"
          ]
        },
        {
          "output_type": "stream",
          "name": "stdout",
          "text": [
            "{'eval_loss': 0.6207587718963623, 'eval_accuracy': 0.6838235294117647, 'eval_f1': 0.8122270742358079, 'eval_runtime': 1.4421, 'eval_samples_per_second': 282.918, 'eval_steps_per_second': 2.774, 'epoch': 1.0}\n",
            "{'eval_loss': 0.6050003170967102, 'eval_accuracy': 0.6838235294117647, 'eval_f1': 0.8122270742358079, 'eval_runtime': 1.0988, 'eval_samples_per_second': 371.308, 'eval_steps_per_second': 3.64, 'epoch': 2.0}\n",
            "{'eval_loss': 0.5970742106437683, 'eval_accuracy': 0.6887254901960784, 'eval_f1': 0.8145985401459854, 'eval_runtime': 1.4495, 'eval_samples_per_second': 281.474, 'eval_steps_per_second': 2.76, 'epoch': 3.0}\n",
            "{'eval_loss': 0.5952083468437195, 'eval_accuracy': 0.6936274509803921, 'eval_f1': 0.8169838945827232, 'eval_runtime': 1.0969, 'eval_samples_per_second': 371.969, 'eval_steps_per_second': 3.647, 'epoch': 4.0}\n",
            "{'train_runtime': 9.5497, 'train_samples_per_second': 1536.381, 'train_steps_per_second': 12.147, 'train_loss': 0.6204661007585197, 'epoch': 4.0}\n",
            "{'eval_loss': 0.5952083468437195, 'eval_accuracy': 0.6936274509803921, 'eval_f1': 0.8169838945827232, 'eval_runtime': 1.0917, 'eval_samples_per_second': 373.715, 'eval_steps_per_second': 3.664, 'epoch': 4.0}\n",
            "Progress: 80/100\n"
          ]
        },
        {
          "output_type": "stream",
          "name": "stderr",
          "text": [
            "Some weights of BertForSequenceClassification were not initialized from the model checkpoint at prajjwal1/bert-tiny and are newly initialized: ['classifier.bias', 'classifier.weight']\n",
            "You should probably TRAIN this model on a down-stream task to be able to use it for predictions and inference.\n"
          ]
        },
        {
          "output_type": "stream",
          "name": "stdout",
          "text": [
            "{'eval_loss': 0.6439599990844727, 'eval_accuracy': 0.6838235294117647, 'eval_f1': 0.8122270742358079, 'eval_runtime': 1.4371, 'eval_samples_per_second': 283.896, 'eval_steps_per_second': 2.783, 'epoch': 1.0}\n",
            "{'eval_loss': 0.6185536980628967, 'eval_accuracy': 0.6838235294117647, 'eval_f1': 0.8122270742358079, 'eval_runtime': 1.1329, 'eval_samples_per_second': 360.125, 'eval_steps_per_second': 3.531, 'epoch': 2.0}\n",
            "{'eval_loss': 0.6116704344749451, 'eval_accuracy': 0.6838235294117647, 'eval_f1': 0.8122270742358079, 'eval_runtime': 1.4405, 'eval_samples_per_second': 283.237, 'eval_steps_per_second': 2.777, 'epoch': 3.0}\n",
            "{'eval_loss': 0.609874427318573, 'eval_accuracy': 0.6838235294117647, 'eval_f1': 0.8122270742358079, 'eval_runtime': 1.8086, 'eval_samples_per_second': 225.583, 'eval_steps_per_second': 2.212, 'epoch': 4.0}\n",
            "{'train_runtime': 10.2547, 'train_samples_per_second': 1430.764, 'train_steps_per_second': 11.312, 'train_loss': 0.6398460125101024, 'epoch': 4.0}\n",
            "{'eval_loss': 0.609874427318573, 'eval_accuracy': 0.6838235294117647, 'eval_f1': 0.8122270742358079, 'eval_runtime': 1.1125, 'eval_samples_per_second': 366.737, 'eval_steps_per_second': 3.595, 'epoch': 4.0}\n",
            "Progress: 81/100\n"
          ]
        },
        {
          "output_type": "stream",
          "name": "stderr",
          "text": [
            "Some weights of BertForSequenceClassification were not initialized from the model checkpoint at prajjwal1/bert-tiny and are newly initialized: ['classifier.bias', 'classifier.weight']\n",
            "You should probably TRAIN this model on a down-stream task to be able to use it for predictions and inference.\n"
          ]
        },
        {
          "output_type": "stream",
          "name": "stdout",
          "text": [
            "{'eval_loss': 0.5735582113265991, 'eval_accuracy': 0.7083333333333334, 'eval_f1': 0.8155038759689922, 'eval_runtime': 1.6257, 'eval_samples_per_second': 250.973, 'eval_steps_per_second': 31.372, 'epoch': 1.0}\n",
            "{'loss': 0.5946, 'grad_norm': 4.331884384155273, 'learning_rate': 0.00021830065359477123, 'epoch': 1.0893246187363834}\n",
            "{'eval_loss': 0.59549880027771, 'eval_accuracy': 0.7107843137254902, 'eval_f1': 0.8138801261829653, 'eval_runtime': 1.9635, 'eval_samples_per_second': 207.787, 'eval_steps_per_second': 25.973, 'epoch': 2.0}\n",
            "{'loss': 0.4682, 'grad_norm': 38.01247024536133, 'learning_rate': 0.00013660130718954247, 'epoch': 2.178649237472767}\n",
            "{'eval_loss': 0.7907573580741882, 'eval_accuracy': 0.7132352941176471, 'eval_f1': 0.8020304568527918, 'eval_runtime': 1.6257, 'eval_samples_per_second': 250.966, 'eval_steps_per_second': 31.371, 'epoch': 3.0}\n",
            "{'loss': 0.2993, 'grad_norm': 5.858227252960205, 'learning_rate': 5.4901960784313716e-05, 'epoch': 3.2679738562091503}\n",
            "{'eval_loss': 1.0637654066085815, 'eval_accuracy': 0.7132352941176471, 'eval_f1': 0.8059701492537313, 'eval_runtime': 1.606, 'eval_samples_per_second': 254.051, 'eval_steps_per_second': 31.756, 'epoch': 4.0}\n",
            "{'train_runtime': 27.3541, 'train_samples_per_second': 536.373, 'train_steps_per_second': 67.12, 'train_loss': 0.4129647107425598, 'epoch': 4.0}\n",
            "{'eval_loss': 1.0637654066085815, 'eval_accuracy': 0.7132352941176471, 'eval_f1': 0.8059701492537313, 'eval_runtime': 1.6041, 'eval_samples_per_second': 254.344, 'eval_steps_per_second': 31.793, 'epoch': 4.0}\n",
            "Progress: 82/100\n"
          ]
        },
        {
          "output_type": "stream",
          "name": "stderr",
          "text": [
            "Some weights of BertForSequenceClassification were not initialized from the model checkpoint at prajjwal1/bert-tiny and are newly initialized: ['classifier.bias', 'classifier.weight']\n",
            "You should probably TRAIN this model on a down-stream task to be able to use it for predictions and inference.\n"
          ]
        },
        {
          "output_type": "stream",
          "name": "stdout",
          "text": [
            "{'eval_loss': 0.571905791759491, 'eval_accuracy': 0.7034313725490197, 'eval_f1': 0.8169440242057489, 'eval_runtime': 1.6146, 'eval_samples_per_second': 252.687, 'eval_steps_per_second': 31.586, 'epoch': 1.0}\n",
            "{'loss': 0.5884, 'grad_norm': 4.293759822845459, 'learning_rate': 7.276688453159042e-05, 'epoch': 1.0893246187363834}\n",
            "{'eval_loss': 0.5654860734939575, 'eval_accuracy': 0.7352941176470589, 'eval_f1': 0.8285714285714286, 'eval_runtime': 1.2658, 'eval_samples_per_second': 322.32, 'eval_steps_per_second': 40.29, 'epoch': 2.0}\n",
            "{'loss': 0.4993, 'grad_norm': 8.675013542175293, 'learning_rate': 4.5533769063180834e-05, 'epoch': 2.178649237472767}\n",
            "{'eval_loss': 0.6270501613616943, 'eval_accuracy': 0.7352941176470589, 'eval_f1': 0.8296529968454258, 'eval_runtime': 1.5913, 'eval_samples_per_second': 256.401, 'eval_steps_per_second': 32.05, 'epoch': 3.0}\n",
            "{'loss': 0.4045, 'grad_norm': 26.807472229003906, 'learning_rate': 1.8300653594771242e-05, 'epoch': 3.2679738562091503}\n",
            "{'eval_loss': 0.6656573414802551, 'eval_accuracy': 0.7377450980392157, 'eval_f1': 0.8325508607198748, 'eval_runtime': 1.6046, 'eval_samples_per_second': 254.263, 'eval_steps_per_second': 31.783, 'epoch': 4.0}\n",
            "{'train_runtime': 26.4946, 'train_samples_per_second': 553.773, 'train_steps_per_second': 69.297, 'train_loss': 0.47345523792674077, 'epoch': 4.0}\n",
            "{'eval_loss': 0.6656573414802551, 'eval_accuracy': 0.7377450980392157, 'eval_f1': 0.8325508607198748, 'eval_runtime': 1.589, 'eval_samples_per_second': 256.772, 'eval_steps_per_second': 32.097, 'epoch': 4.0}\n",
            "Progress: 83/100\n"
          ]
        },
        {
          "output_type": "stream",
          "name": "stderr",
          "text": [
            "Some weights of BertForSequenceClassification were not initialized from the model checkpoint at prajjwal1/bert-tiny and are newly initialized: ['classifier.bias', 'classifier.weight']\n",
            "You should probably TRAIN this model on a down-stream task to be able to use it for predictions and inference.\n"
          ]
        },
        {
          "output_type": "stream",
          "name": "stdout",
          "text": [
            "{'eval_loss': 0.5733863711357117, 'eval_accuracy': 0.7009803921568627, 'eval_f1': 0.8134556574923547, 'eval_runtime': 1.238, 'eval_samples_per_second': 329.566, 'eval_steps_per_second': 41.196, 'epoch': 1.0}\n",
            "{'loss': 0.6013, 'grad_norm': 4.323869228363037, 'learning_rate': 3.638344226579521e-05, 'epoch': 1.0893246187363834}\n",
            "{'eval_loss': 0.5774785876274109, 'eval_accuracy': 0.7083333333333334, 'eval_f1': 0.8194233687405159, 'eval_runtime': 1.2523, 'eval_samples_per_second': 325.8, 'eval_steps_per_second': 40.725, 'epoch': 2.0}\n",
            "{'loss': 0.5438, 'grad_norm': 5.283394813537598, 'learning_rate': 2.2766884531590417e-05, 'epoch': 2.178649237472767}\n",
            "{'eval_loss': 0.5611313581466675, 'eval_accuracy': 0.7279411764705882, 'eval_f1': 0.8246445497630331, 'eval_runtime': 1.6303, 'eval_samples_per_second': 250.26, 'eval_steps_per_second': 31.283, 'epoch': 3.0}\n",
            "{'loss': 0.4849, 'grad_norm': 14.096569061279297, 'learning_rate': 9.150326797385621e-06, 'epoch': 3.2679738562091503}\n",
            "{'eval_loss': 0.587859570980072, 'eval_accuracy': 0.7279411764705882, 'eval_f1': 0.8268330733229329, 'eval_runtime': 1.3634, 'eval_samples_per_second': 299.258, 'eval_steps_per_second': 37.407, 'epoch': 4.0}\n",
            "{'train_runtime': 26.3192, 'train_samples_per_second': 557.464, 'train_steps_per_second': 69.759, 'train_loss': 0.5309766798497285, 'epoch': 4.0}\n",
            "{'eval_loss': 0.587859570980072, 'eval_accuracy': 0.7279411764705882, 'eval_f1': 0.8268330733229329, 'eval_runtime': 1.59, 'eval_samples_per_second': 256.598, 'eval_steps_per_second': 32.075, 'epoch': 4.0}\n",
            "Progress: 84/100\n"
          ]
        },
        {
          "output_type": "stream",
          "name": "stderr",
          "text": [
            "Some weights of BertForSequenceClassification were not initialized from the model checkpoint at prajjwal1/bert-tiny and are newly initialized: ['classifier.bias', 'classifier.weight']\n",
            "You should probably TRAIN this model on a down-stream task to be able to use it for predictions and inference.\n"
          ]
        },
        {
          "output_type": "stream",
          "name": "stdout",
          "text": [
            "{'eval_loss': 0.5838139653205872, 'eval_accuracy': 0.7009803921568627, 'eval_f1': 0.8184523809523809, 'eval_runtime': 1.5928, 'eval_samples_per_second': 256.156, 'eval_steps_per_second': 32.019, 'epoch': 1.0}\n",
            "{'loss': 0.6134, 'grad_norm': 2.5178942680358887, 'learning_rate': 2.1830065359477124e-05, 'epoch': 1.0893246187363834}\n",
            "{'eval_loss': 0.5830901861190796, 'eval_accuracy': 0.7034313725490197, 'eval_f1': 0.8180451127819549, 'eval_runtime': 1.6114, 'eval_samples_per_second': 253.195, 'eval_steps_per_second': 31.649, 'epoch': 2.0}\n",
            "{'loss': 0.5689, 'grad_norm': 4.079008102416992, 'learning_rate': 1.366013071895425e-05, 'epoch': 2.178649237472767}\n",
            "{'eval_loss': 0.568699836730957, 'eval_accuracy': 0.7132352941176471, 'eval_f1': 0.8197226502311248, 'eval_runtime': 1.312, 'eval_samples_per_second': 310.965, 'eval_steps_per_second': 38.871, 'epoch': 3.0}\n",
            "{'loss': 0.5302, 'grad_norm': 6.041450023651123, 'learning_rate': 5.490196078431373e-06, 'epoch': 3.2679738562091503}\n",
            "{'eval_loss': 0.5771942734718323, 'eval_accuracy': 0.7107843137254902, 'eval_f1': 0.8195718654434251, 'eval_runtime': 1.9712, 'eval_samples_per_second': 206.979, 'eval_steps_per_second': 25.872, 'epoch': 4.0}\n",
            "{'train_runtime': 27.3909, 'train_samples_per_second': 535.653, 'train_steps_per_second': 67.03, 'train_loss': 0.5637553262814458, 'epoch': 4.0}\n",
            "{'eval_loss': 0.5771942734718323, 'eval_accuracy': 0.7107843137254902, 'eval_f1': 0.8195718654434251, 'eval_runtime': 1.6247, 'eval_samples_per_second': 251.117, 'eval_steps_per_second': 31.39, 'epoch': 4.0}\n",
            "Progress: 85/100\n"
          ]
        },
        {
          "output_type": "stream",
          "name": "stderr",
          "text": [
            "Some weights of BertForSequenceClassification were not initialized from the model checkpoint at prajjwal1/bert-tiny and are newly initialized: ['classifier.bias', 'classifier.weight']\n",
            "You should probably TRAIN this model on a down-stream task to be able to use it for predictions and inference.\n"
          ]
        },
        {
          "output_type": "stream",
          "name": "stdout",
          "text": [
            "{'eval_loss': 0.5624045133590698, 'eval_accuracy': 0.7230392156862745, 'eval_f1': 0.8231611893583725, 'eval_runtime': 1.1951, 'eval_samples_per_second': 341.389, 'eval_steps_per_second': 21.755, 'epoch': 1.0}\n",
            "{'eval_loss': 0.5531349778175354, 'eval_accuracy': 0.7328431372549019, 'eval_f1': 0.8256, 'eval_runtime': 1.1483, 'eval_samples_per_second': 355.296, 'eval_steps_per_second': 22.641, 'epoch': 2.0}\n",
            "{'loss': 0.5239, 'grad_norm': 15.012598991394043, 'learning_rate': 0.00013695652173913042, 'epoch': 2.1739130434782608}\n",
            "{'eval_loss': 0.590812087059021, 'eval_accuracy': 0.7401960784313726, 'eval_f1': 0.8221476510067114, 'eval_runtime': 1.5656, 'eval_samples_per_second': 260.608, 'eval_steps_per_second': 16.607, 'epoch': 3.0}\n",
            "{'eval_loss': 0.7519146800041199, 'eval_accuracy': 0.7377450980392157, 'eval_f1': 0.8243021346469622, 'eval_runtime': 1.1753, 'eval_samples_per_second': 347.157, 'eval_steps_per_second': 22.123, 'epoch': 4.0}\n",
            "{'train_runtime': 16.8479, 'train_samples_per_second': 870.851, 'train_steps_per_second': 54.606, 'train_loss': 0.40669037362803584, 'epoch': 4.0}\n",
            "{'eval_loss': 0.7519146800041199, 'eval_accuracy': 0.7377450980392157, 'eval_f1': 0.8243021346469622, 'eval_runtime': 1.8683, 'eval_samples_per_second': 218.386, 'eval_steps_per_second': 13.917, 'epoch': 4.0}\n",
            "Progress: 86/100\n"
          ]
        },
        {
          "output_type": "stream",
          "name": "stderr",
          "text": [
            "Some weights of BertForSequenceClassification were not initialized from the model checkpoint at prajjwal1/bert-tiny and are newly initialized: ['classifier.bias', 'classifier.weight']\n",
            "You should probably TRAIN this model on a down-stream task to be able to use it for predictions and inference.\n"
          ]
        },
        {
          "output_type": "stream",
          "name": "stdout",
          "text": [
            "{'eval_loss': 0.564354419708252, 'eval_accuracy': 0.7132352941176471, 'eval_f1': 0.8180404354587869, 'eval_runtime': 1.5317, 'eval_samples_per_second': 266.373, 'eval_steps_per_second': 16.975, 'epoch': 1.0}\n",
            "{'eval_loss': 0.5474852919578552, 'eval_accuracy': 0.7377450980392157, 'eval_f1': 0.831496062992126, 'eval_runtime': 1.1642, 'eval_samples_per_second': 350.461, 'eval_steps_per_second': 22.333, 'epoch': 2.0}\n",
            "{'loss': 0.5577, 'grad_norm': 6.763742923736572, 'learning_rate': 4.565217391304348e-05, 'epoch': 2.1739130434782608}\n",
            "{'eval_loss': 0.5569795966148376, 'eval_accuracy': 0.7426470588235294, 'eval_f1': 0.8330683624801272, 'eval_runtime': 1.8956, 'eval_samples_per_second': 215.238, 'eval_steps_per_second': 13.716, 'epoch': 3.0}\n",
            "{'eval_loss': 0.5896832346916199, 'eval_accuracy': 0.7328431372549019, 'eval_f1': 0.8299531981279251, 'eval_runtime': 1.1554, 'eval_samples_per_second': 353.124, 'eval_steps_per_second': 22.503, 'epoch': 4.0}\n",
            "{'train_runtime': 17.2268, 'train_samples_per_second': 851.695, 'train_steps_per_second': 53.405, 'train_loss': 0.5020559891410495, 'epoch': 4.0}\n",
            "{'eval_loss': 0.5896832346916199, 'eval_accuracy': 0.7328431372549019, 'eval_f1': 0.8299531981279251, 'eval_runtime': 1.5127, 'eval_samples_per_second': 269.71, 'eval_steps_per_second': 17.187, 'epoch': 4.0}\n",
            "Progress: 87/100\n"
          ]
        },
        {
          "output_type": "stream",
          "name": "stderr",
          "text": [
            "Some weights of BertForSequenceClassification were not initialized from the model checkpoint at prajjwal1/bert-tiny and are newly initialized: ['classifier.bias', 'classifier.weight']\n",
            "You should probably TRAIN this model on a down-stream task to be able to use it for predictions and inference.\n"
          ]
        },
        {
          "output_type": "stream",
          "name": "stdout",
          "text": [
            "{'eval_loss': 0.5816411972045898, 'eval_accuracy': 0.6887254901960784, 'eval_f1': 0.8095952023988006, 'eval_runtime': 1.1729, 'eval_samples_per_second': 347.864, 'eval_steps_per_second': 22.168, 'epoch': 1.0}\n",
            "{'eval_loss': 0.5781240463256836, 'eval_accuracy': 0.7034313725490197, 'eval_f1': 0.8185907046476761, 'eval_runtime': 1.1839, 'eval_samples_per_second': 344.626, 'eval_steps_per_second': 21.961, 'epoch': 2.0}\n",
            "{'loss': 0.5845, 'grad_norm': 4.170251846313477, 'learning_rate': 2.282608695652174e-05, 'epoch': 2.1739130434782608}\n",
            "{'eval_loss': 0.568314790725708, 'eval_accuracy': 0.7083333333333334, 'eval_f1': 0.8183206106870229, 'eval_runtime': 1.1545, 'eval_samples_per_second': 353.396, 'eval_steps_per_second': 22.52, 'epoch': 3.0}\n",
            "{'eval_loss': 0.568650484085083, 'eval_accuracy': 0.7205882352941176, 'eval_f1': 0.8246153846153846, 'eval_runtime': 1.5231, 'eval_samples_per_second': 267.874, 'eval_steps_per_second': 17.07, 'epoch': 4.0}\n",
            "{'train_runtime': 16.5667, 'train_samples_per_second': 885.631, 'train_steps_per_second': 55.533, 'train_loss': 0.5531564961309018, 'epoch': 4.0}\n",
            "{'eval_loss': 0.568650484085083, 'eval_accuracy': 0.7205882352941176, 'eval_f1': 0.8246153846153846, 'eval_runtime': 1.8503, 'eval_samples_per_second': 220.508, 'eval_steps_per_second': 14.052, 'epoch': 4.0}\n",
            "Progress: 88/100\n"
          ]
        },
        {
          "output_type": "stream",
          "name": "stderr",
          "text": [
            "Some weights of BertForSequenceClassification were not initialized from the model checkpoint at prajjwal1/bert-tiny and are newly initialized: ['classifier.bias', 'classifier.weight']\n",
            "You should probably TRAIN this model on a down-stream task to be able to use it for predictions and inference.\n"
          ]
        },
        {
          "output_type": "stream",
          "name": "stdout",
          "text": [
            "{'eval_loss': 0.5934128761291504, 'eval_accuracy': 0.6985294117647058, 'eval_f1': 0.8193832599118943, 'eval_runtime': 1.1958, 'eval_samples_per_second': 341.191, 'eval_steps_per_second': 21.743, 'epoch': 1.0}\n",
            "{'eval_loss': 0.5834196209907532, 'eval_accuracy': 0.6985294117647058, 'eval_f1': 0.8161434977578476, 'eval_runtime': 1.5344, 'eval_samples_per_second': 265.907, 'eval_steps_per_second': 16.945, 'epoch': 2.0}\n",
            "{'loss': 0.6021, 'grad_norm': 2.227717161178589, 'learning_rate': 1.3695652173913042e-05, 'epoch': 2.1739130434782608}\n",
            "{'eval_loss': 0.574123740196228, 'eval_accuracy': 0.6936274509803921, 'eval_f1': 0.8114630467571644, 'eval_runtime': 1.1771, 'eval_samples_per_second': 346.602, 'eval_steps_per_second': 22.087, 'epoch': 3.0}\n",
            "{'eval_loss': 0.5735155940055847, 'eval_accuracy': 0.696078431372549, 'eval_f1': 0.8126888217522659, 'eval_runtime': 1.1749, 'eval_samples_per_second': 347.249, 'eval_steps_per_second': 22.129, 'epoch': 4.0}\n",
            "{'train_runtime': 16.4738, 'train_samples_per_second': 890.624, 'train_steps_per_second': 55.846, 'train_loss': 0.580059698353643, 'epoch': 4.0}\n",
            "{'eval_loss': 0.5735155940055847, 'eval_accuracy': 0.696078431372549, 'eval_f1': 0.8126888217522659, 'eval_runtime': 1.8733, 'eval_samples_per_second': 217.802, 'eval_steps_per_second': 13.88, 'epoch': 4.0}\n",
            "Progress: 89/100\n"
          ]
        },
        {
          "output_type": "stream",
          "name": "stderr",
          "text": [
            "Some weights of BertForSequenceClassification were not initialized from the model checkpoint at prajjwal1/bert-tiny and are newly initialized: ['classifier.bias', 'classifier.weight']\n",
            "You should probably TRAIN this model on a down-stream task to be able to use it for predictions and inference.\n"
          ]
        },
        {
          "output_type": "stream",
          "name": "stdout",
          "text": [
            "{'eval_loss': 0.5496113896369934, 'eval_accuracy': 0.7377450980392157, 'eval_f1': 0.831496062992126, 'eval_runtime': 1.1449, 'eval_samples_per_second': 356.353, 'eval_steps_per_second': 11.354, 'epoch': 1.0}\n",
            "{'eval_loss': 0.552695095539093, 'eval_accuracy': 0.7377450980392157, 'eval_f1': 0.8309636650868878, 'eval_runtime': 1.1316, 'eval_samples_per_second': 360.545, 'eval_steps_per_second': 11.488, 'epoch': 2.0}\n",
            "{'eval_loss': 0.6253054141998291, 'eval_accuracy': 0.7450980392156863, 'eval_f1': 0.8354430379746836, 'eval_runtime': 1.1242, 'eval_samples_per_second': 362.911, 'eval_steps_per_second': 11.563, 'epoch': 3.0}\n",
            "{'eval_loss': 0.6537364721298218, 'eval_accuracy': 0.7377450980392157, 'eval_f1': 0.8304278922345484, 'eval_runtime': 1.8349, 'eval_samples_per_second': 222.356, 'eval_steps_per_second': 7.085, 'epoch': 4.0}\n",
            "{'train_runtime': 12.1949, 'train_samples_per_second': 1203.121, 'train_steps_per_second': 37.721, 'train_loss': 0.43501543791397757, 'epoch': 4.0}\n",
            "{'eval_loss': 0.6537364721298218, 'eval_accuracy': 0.7377450980392157, 'eval_f1': 0.8304278922345484, 'eval_runtime': 1.1464, 'eval_samples_per_second': 355.899, 'eval_steps_per_second': 11.34, 'epoch': 4.0}\n",
            "Progress: 90/100\n"
          ]
        },
        {
          "output_type": "stream",
          "name": "stderr",
          "text": [
            "Some weights of BertForSequenceClassification were not initialized from the model checkpoint at prajjwal1/bert-tiny and are newly initialized: ['classifier.bias', 'classifier.weight']\n",
            "You should probably TRAIN this model on a down-stream task to be able to use it for predictions and inference.\n"
          ]
        },
        {
          "output_type": "stream",
          "name": "stdout",
          "text": [
            "{'eval_loss': 0.585704505443573, 'eval_accuracy': 0.6936274509803921, 'eval_f1': 0.81089258698941, 'eval_runtime': 1.4793, 'eval_samples_per_second': 275.813, 'eval_steps_per_second': 8.788, 'epoch': 1.0}\n",
            "{'eval_loss': 0.5598652958869934, 'eval_accuracy': 0.7181372549019608, 'eval_f1': 0.8205928237129485, 'eval_runtime': 1.4668, 'eval_samples_per_second': 278.162, 'eval_steps_per_second': 8.863, 'epoch': 2.0}\n",
            "{'eval_loss': 0.5700249075889587, 'eval_accuracy': 0.7132352941176471, 'eval_f1': 0.8186046511627907, 'eval_runtime': 1.4796, 'eval_samples_per_second': 275.745, 'eval_steps_per_second': 8.786, 'epoch': 3.0}\n",
            "{'eval_loss': 0.5717409253120422, 'eval_accuracy': 0.7254901960784313, 'eval_f1': 0.8255451713395638, 'eval_runtime': 1.4899, 'eval_samples_per_second': 273.841, 'eval_steps_per_second': 8.725, 'epoch': 4.0}\n",
            "{'train_runtime': 12.9783, 'train_samples_per_second': 1130.5, 'train_steps_per_second': 35.444, 'train_loss': 0.5322120666503907, 'epoch': 4.0}\n",
            "{'eval_loss': 0.5717409253120422, 'eval_accuracy': 0.7254901960784313, 'eval_f1': 0.8255451713395638, 'eval_runtime': 1.1314, 'eval_samples_per_second': 360.623, 'eval_steps_per_second': 11.49, 'epoch': 4.0}\n",
            "Progress: 91/100\n"
          ]
        },
        {
          "output_type": "stream",
          "name": "stderr",
          "text": [
            "Some weights of BertForSequenceClassification were not initialized from the model checkpoint at prajjwal1/bert-tiny and are newly initialized: ['classifier.bias', 'classifier.weight']\n",
            "You should probably TRAIN this model on a down-stream task to be able to use it for predictions and inference.\n"
          ]
        },
        {
          "output_type": "stream",
          "name": "stdout",
          "text": [
            "{'eval_loss': 0.5961236953735352, 'eval_accuracy': 0.6936274509803921, 'eval_f1': 0.8169838945827232, 'eval_runtime': 1.1334, 'eval_samples_per_second': 359.992, 'eval_steps_per_second': 11.47, 'epoch': 1.0}\n",
            "{'eval_loss': 0.5710234045982361, 'eval_accuracy': 0.7058823529411765, 'eval_f1': 0.817629179331307, 'eval_runtime': 1.1253, 'eval_samples_per_second': 362.582, 'eval_steps_per_second': 11.553, 'epoch': 2.0}\n",
            "{'eval_loss': 0.5729517340660095, 'eval_accuracy': 0.7083333333333334, 'eval_f1': 0.8199697428139183, 'eval_runtime': 1.1259, 'eval_samples_per_second': 362.386, 'eval_steps_per_second': 11.547, 'epoch': 3.0}\n",
            "{'eval_loss': 0.56805819272995, 'eval_accuracy': 0.7107843137254902, 'eval_f1': 0.8201219512195121, 'eval_runtime': 1.8768, 'eval_samples_per_second': 217.393, 'eval_steps_per_second': 6.927, 'epoch': 4.0}\n",
            "{'train_runtime': 12.3147, 'train_samples_per_second': 1191.426, 'train_steps_per_second': 37.354, 'train_loss': 0.5740605893342391, 'epoch': 4.0}\n",
            "{'eval_loss': 0.56805819272995, 'eval_accuracy': 0.7107843137254902, 'eval_f1': 0.8201219512195121, 'eval_runtime': 1.869, 'eval_samples_per_second': 218.303, 'eval_steps_per_second': 6.956, 'epoch': 4.0}\n",
            "Progress: 92/100\n"
          ]
        },
        {
          "output_type": "stream",
          "name": "stderr",
          "text": [
            "Some weights of BertForSequenceClassification were not initialized from the model checkpoint at prajjwal1/bert-tiny and are newly initialized: ['classifier.bias', 'classifier.weight']\n",
            "You should probably TRAIN this model on a down-stream task to be able to use it for predictions and inference.\n"
          ]
        },
        {
          "output_type": "stream",
          "name": "stdout",
          "text": [
            "{'eval_loss': 0.6053450703620911, 'eval_accuracy': 0.6838235294117647, 'eval_f1': 0.8122270742358079, 'eval_runtime': 1.4718, 'eval_samples_per_second': 277.206, 'eval_steps_per_second': 8.833, 'epoch': 1.0}\n",
            "{'eval_loss': 0.5885691046714783, 'eval_accuracy': 0.7034313725490197, 'eval_f1': 0.8212703101920237, 'eval_runtime': 1.1207, 'eval_samples_per_second': 364.068, 'eval_steps_per_second': 11.6, 'epoch': 2.0}\n",
            "{'eval_loss': 0.5840325355529785, 'eval_accuracy': 0.6985294117647058, 'eval_f1': 0.8166915052160953, 'eval_runtime': 1.838, 'eval_samples_per_second': 221.976, 'eval_steps_per_second': 7.073, 'epoch': 3.0}\n",
            "{'eval_loss': 0.5790587663650513, 'eval_accuracy': 0.696078431372549, 'eval_f1': 0.8138138138138138, 'eval_runtime': 1.4715, 'eval_samples_per_second': 277.275, 'eval_steps_per_second': 8.835, 'epoch': 4.0}\n",
            "{'train_runtime': 13.0329, 'train_samples_per_second': 1125.763, 'train_steps_per_second': 35.295, 'train_loss': 0.5975138125212296, 'epoch': 4.0}\n",
            "{'eval_loss': 0.5790587663650513, 'eval_accuracy': 0.696078431372549, 'eval_f1': 0.8138138138138138, 'eval_runtime': 1.4712, 'eval_samples_per_second': 277.332, 'eval_steps_per_second': 8.837, 'epoch': 4.0}\n",
            "Progress: 93/100\n"
          ]
        },
        {
          "output_type": "stream",
          "name": "stderr",
          "text": [
            "Some weights of BertForSequenceClassification were not initialized from the model checkpoint at prajjwal1/bert-tiny and are newly initialized: ['classifier.bias', 'classifier.weight']\n",
            "You should probably TRAIN this model on a down-stream task to be able to use it for predictions and inference.\n"
          ]
        },
        {
          "output_type": "stream",
          "name": "stdout",
          "text": [
            "{'eval_loss': 0.5753757357597351, 'eval_accuracy': 0.696078431372549, 'eval_f1': 0.8132530120481928, 'eval_runtime': 1.832, 'eval_samples_per_second': 222.708, 'eval_steps_per_second': 3.821, 'epoch': 1.0}\n",
            "{'eval_loss': 0.550995409488678, 'eval_accuracy': 0.7328431372549019, 'eval_f1': 0.8304821150855366, 'eval_runtime': 1.4696, 'eval_samples_per_second': 277.621, 'eval_steps_per_second': 4.763, 'epoch': 2.0}\n",
            "{'eval_loss': 0.5720232129096985, 'eval_accuracy': 0.7598039215686274, 'eval_f1': 0.8434504792332268, 'eval_runtime': 1.4831, 'eval_samples_per_second': 275.108, 'eval_steps_per_second': 4.72, 'epoch': 3.0}\n",
            "{'eval_loss': 0.5971444249153137, 'eval_accuracy': 0.75, 'eval_f1': 0.8386075949367089, 'eval_runtime': 1.8075, 'eval_samples_per_second': 225.726, 'eval_steps_per_second': 3.873, 'epoch': 4.0}\n",
            "{'train_runtime': 11.9298, 'train_samples_per_second': 1229.86, 'train_steps_per_second': 19.447, 'train_loss': 0.4707464020827721, 'epoch': 4.0}\n",
            "{'eval_loss': 0.5971444249153137, 'eval_accuracy': 0.75, 'eval_f1': 0.8386075949367089, 'eval_runtime': 1.4679, 'eval_samples_per_second': 277.943, 'eval_steps_per_second': 4.769, 'epoch': 4.0}\n",
            "Progress: 94/100\n"
          ]
        },
        {
          "output_type": "stream",
          "name": "stderr",
          "text": [
            "Some weights of BertForSequenceClassification were not initialized from the model checkpoint at prajjwal1/bert-tiny and are newly initialized: ['classifier.bias', 'classifier.weight']\n",
            "You should probably TRAIN this model on a down-stream task to be able to use it for predictions and inference.\n"
          ]
        },
        {
          "output_type": "stream",
          "name": "stdout",
          "text": [
            "{'eval_loss': 0.594853937625885, 'eval_accuracy': 0.6936274509803921, 'eval_f1': 0.8169838945827232, 'eval_runtime': 1.8022, 'eval_samples_per_second': 226.39, 'eval_steps_per_second': 3.884, 'epoch': 1.0}\n",
            "{'eval_loss': 0.5708560943603516, 'eval_accuracy': 0.7009803921568627, 'eval_f1': 0.8117283950617284, 'eval_runtime': 1.4592, 'eval_samples_per_second': 279.612, 'eval_steps_per_second': 4.797, 'epoch': 2.0}\n",
            "{'eval_loss': 0.5739648938179016, 'eval_accuracy': 0.7230392156862745, 'eval_f1': 0.8269525267993875, 'eval_runtime': 1.0999, 'eval_samples_per_second': 370.951, 'eval_steps_per_second': 6.364, 'epoch': 3.0}\n",
            "{'eval_loss': 0.5612186193466187, 'eval_accuracy': 0.7303921568627451, 'eval_f1': 0.8297213622291022, 'eval_runtime': 1.4837, 'eval_samples_per_second': 274.99, 'eval_steps_per_second': 4.718, 'epoch': 4.0}\n",
            "{'train_runtime': 11.0824, 'train_samples_per_second': 1323.897, 'train_steps_per_second': 20.934, 'train_loss': 0.5603954052102977, 'epoch': 4.0}\n",
            "{'eval_loss': 0.5612186193466187, 'eval_accuracy': 0.7303921568627451, 'eval_f1': 0.8297213622291022, 'eval_runtime': 1.4475, 'eval_samples_per_second': 281.864, 'eval_steps_per_second': 4.836, 'epoch': 4.0}\n",
            "Progress: 95/100\n"
          ]
        },
        {
          "output_type": "stream",
          "name": "stderr",
          "text": [
            "Some weights of BertForSequenceClassification were not initialized from the model checkpoint at prajjwal1/bert-tiny and are newly initialized: ['classifier.bias', 'classifier.weight']\n",
            "You should probably TRAIN this model on a down-stream task to be able to use it for predictions and inference.\n"
          ]
        },
        {
          "output_type": "stream",
          "name": "stdout",
          "text": [
            "{'eval_loss': 0.6062899231910706, 'eval_accuracy': 0.6838235294117647, 'eval_f1': 0.8122270742358079, 'eval_runtime': 1.4668, 'eval_samples_per_second': 278.162, 'eval_steps_per_second': 4.772, 'epoch': 1.0}\n",
            "{'eval_loss': 0.590184211730957, 'eval_accuracy': 0.7034313725490197, 'eval_f1': 0.8212703101920237, 'eval_runtime': 1.808, 'eval_samples_per_second': 225.663, 'eval_steps_per_second': 3.872, 'epoch': 2.0}\n",
            "{'eval_loss': 0.5828689932823181, 'eval_accuracy': 0.696078431372549, 'eval_f1': 0.8143712574850299, 'eval_runtime': 1.4493, 'eval_samples_per_second': 281.523, 'eval_steps_per_second': 4.83, 'epoch': 3.0}\n",
            "{'eval_loss': 0.5777505040168762, 'eval_accuracy': 0.6887254901960784, 'eval_f1': 0.8078668683812406, 'eval_runtime': 1.4909, 'eval_samples_per_second': 273.657, 'eval_steps_per_second': 4.695, 'epoch': 4.0}\n",
            "{'train_runtime': 11.4954, 'train_samples_per_second': 1276.333, 'train_steps_per_second': 20.182, 'train_loss': 0.5961887096536571, 'epoch': 4.0}\n",
            "{'eval_loss': 0.5777505040168762, 'eval_accuracy': 0.6887254901960784, 'eval_f1': 0.8078668683812406, 'eval_runtime': 1.8253, 'eval_samples_per_second': 223.522, 'eval_steps_per_second': 3.835, 'epoch': 4.0}\n",
            "Progress: 96/100\n"
          ]
        },
        {
          "output_type": "stream",
          "name": "stderr",
          "text": [
            "Some weights of BertForSequenceClassification were not initialized from the model checkpoint at prajjwal1/bert-tiny and are newly initialized: ['classifier.bias', 'classifier.weight']\n",
            "You should probably TRAIN this model on a down-stream task to be able to use it for predictions and inference.\n"
          ]
        },
        {
          "output_type": "stream",
          "name": "stdout",
          "text": [
            "{'eval_loss': 0.6178915500640869, 'eval_accuracy': 0.6838235294117647, 'eval_f1': 0.8122270742358079, 'eval_runtime': 1.1007, 'eval_samples_per_second': 370.66, 'eval_steps_per_second': 6.359, 'epoch': 1.0}\n",
            "{'eval_loss': 0.6015655398368835, 'eval_accuracy': 0.6838235294117647, 'eval_f1': 0.8122270742358079, 'eval_runtime': 1.0953, 'eval_samples_per_second': 372.493, 'eval_steps_per_second': 6.391, 'epoch': 2.0}\n",
            "{'eval_loss': 0.5944027900695801, 'eval_accuracy': 0.696078431372549, 'eval_f1': 0.8181818181818182, 'eval_runtime': 1.094, 'eval_samples_per_second': 372.945, 'eval_steps_per_second': 6.399, 'epoch': 3.0}\n",
            "{'eval_loss': 0.5916686058044434, 'eval_accuracy': 0.7034313725490197, 'eval_f1': 0.8217967599410898, 'eval_runtime': 1.4763, 'eval_samples_per_second': 276.359, 'eval_steps_per_second': 4.741, 'epoch': 4.0}\n",
            "{'train_runtime': 9.871, 'train_samples_per_second': 1486.372, 'train_steps_per_second': 23.503, 'train_loss': 0.6165741229879445, 'epoch': 4.0}\n",
            "{'eval_loss': 0.5916686058044434, 'eval_accuracy': 0.7034313725490197, 'eval_f1': 0.8217967599410898, 'eval_runtime': 1.9486, 'eval_samples_per_second': 209.383, 'eval_steps_per_second': 3.592, 'epoch': 4.0}\n",
            "Progress: 97/100\n"
          ]
        },
        {
          "output_type": "stream",
          "name": "stderr",
          "text": [
            "Some weights of BertForSequenceClassification were not initialized from the model checkpoint at prajjwal1/bert-tiny and are newly initialized: ['classifier.bias', 'classifier.weight']\n",
            "You should probably TRAIN this model on a down-stream task to be able to use it for predictions and inference.\n"
          ]
        },
        {
          "output_type": "stream",
          "name": "stdout",
          "text": [
            "{'eval_loss': 0.6026797890663147, 'eval_accuracy': 0.6887254901960784, 'eval_f1': 0.808446455505279, 'eval_runtime': 1.1236, 'eval_samples_per_second': 363.115, 'eval_steps_per_second': 3.56, 'epoch': 1.0}\n",
            "{'eval_loss': 0.5666956901550293, 'eval_accuracy': 0.7205882352941176, 'eval_f1': 0.821875, 'eval_runtime': 1.4545, 'eval_samples_per_second': 280.517, 'eval_steps_per_second': 2.75, 'epoch': 2.0}\n",
            "{'eval_loss': 0.5767462253570557, 'eval_accuracy': 0.7279411764705882, 'eval_f1': 0.8262910798122066, 'eval_runtime': 1.4602, 'eval_samples_per_second': 279.418, 'eval_steps_per_second': 2.739, 'epoch': 3.0}\n",
            "{'eval_loss': 0.5759289264678955, 'eval_accuracy': 0.7352941176470589, 'eval_f1': 0.8291139240506329, 'eval_runtime': 1.4635, 'eval_samples_per_second': 278.782, 'eval_steps_per_second': 2.733, 'epoch': 4.0}\n",
            "{'train_runtime': 9.9364, 'train_samples_per_second': 1476.59, 'train_steps_per_second': 11.674, 'train_loss': 0.5189324411852606, 'epoch': 4.0}\n",
            "{'eval_loss': 0.5759289264678955, 'eval_accuracy': 0.7352941176470589, 'eval_f1': 0.8291139240506329, 'eval_runtime': 1.4657, 'eval_samples_per_second': 278.358, 'eval_steps_per_second': 2.729, 'epoch': 4.0}\n",
            "Progress: 98/100\n"
          ]
        },
        {
          "output_type": "stream",
          "name": "stderr",
          "text": [
            "Some weights of BertForSequenceClassification were not initialized from the model checkpoint at prajjwal1/bert-tiny and are newly initialized: ['classifier.bias', 'classifier.weight']\n",
            "You should probably TRAIN this model on a down-stream task to be able to use it for predictions and inference.\n"
          ]
        },
        {
          "output_type": "stream",
          "name": "stdout",
          "text": [
            "{'eval_loss': 0.6038169264793396, 'eval_accuracy': 0.6838235294117647, 'eval_f1': 0.8122270742358079, 'eval_runtime': 1.0907, 'eval_samples_per_second': 374.065, 'eval_steps_per_second': 3.667, 'epoch': 1.0}\n",
            "{'eval_loss': 0.5951903462409973, 'eval_accuracy': 0.7058823529411765, 'eval_f1': 0.8224852071005917, 'eval_runtime': 1.7958, 'eval_samples_per_second': 227.198, 'eval_steps_per_second': 2.227, 'epoch': 2.0}\n",
            "{'eval_loss': 0.579287052154541, 'eval_accuracy': 0.6911764705882353, 'eval_f1': 0.8090909090909091, 'eval_runtime': 1.1019, 'eval_samples_per_second': 370.265, 'eval_steps_per_second': 3.63, 'epoch': 3.0}\n",
            "{'eval_loss': 0.5748432874679565, 'eval_accuracy': 0.6911764705882353, 'eval_f1': 0.8073394495412844, 'eval_runtime': 1.104, 'eval_samples_per_second': 369.581, 'eval_steps_per_second': 3.623, 'epoch': 4.0}\n",
            "{'train_runtime': 9.6994, 'train_samples_per_second': 1512.668, 'train_steps_per_second': 11.959, 'train_loss': 0.5897226004764952, 'epoch': 4.0}\n",
            "{'eval_loss': 0.5748432874679565, 'eval_accuracy': 0.6911764705882353, 'eval_f1': 0.8073394495412844, 'eval_runtime': 1.4498, 'eval_samples_per_second': 281.418, 'eval_steps_per_second': 2.759, 'epoch': 4.0}\n",
            "Progress: 99/100\n"
          ]
        },
        {
          "output_type": "stream",
          "name": "stderr",
          "text": [
            "Some weights of BertForSequenceClassification were not initialized from the model checkpoint at prajjwal1/bert-tiny and are newly initialized: ['classifier.bias', 'classifier.weight']\n",
            "You should probably TRAIN this model on a down-stream task to be able to use it for predictions and inference.\n"
          ]
        },
        {
          "output_type": "stream",
          "name": "stdout",
          "text": [
            "{'eval_loss': 0.6207587718963623, 'eval_accuracy': 0.6838235294117647, 'eval_f1': 0.8122270742358079, 'eval_runtime': 1.4429, 'eval_samples_per_second': 282.764, 'eval_steps_per_second': 2.772, 'epoch': 1.0}\n",
            "{'eval_loss': 0.6050003170967102, 'eval_accuracy': 0.6838235294117647, 'eval_f1': 0.8122270742358079, 'eval_runtime': 1.4344, 'eval_samples_per_second': 284.439, 'eval_steps_per_second': 2.789, 'epoch': 2.0}\n",
            "{'eval_loss': 0.5970742106437683, 'eval_accuracy': 0.6887254901960784, 'eval_f1': 0.8145985401459854, 'eval_runtime': 1.1113, 'eval_samples_per_second': 367.134, 'eval_steps_per_second': 3.599, 'epoch': 3.0}\n",
            "{'eval_loss': 0.5952083468437195, 'eval_accuracy': 0.6936274509803921, 'eval_f1': 0.8169838945827232, 'eval_runtime': 1.8137, 'eval_samples_per_second': 224.958, 'eval_steps_per_second': 2.205, 'epoch': 4.0}\n",
            "{'train_runtime': 10.2718, 'train_samples_per_second': 1428.375, 'train_steps_per_second': 11.293, 'train_loss': 0.6204661007585197, 'epoch': 4.0}\n",
            "{'eval_loss': 0.5952083468437195, 'eval_accuracy': 0.6936274509803921, 'eval_f1': 0.8169838945827232, 'eval_runtime': 1.4597, 'eval_samples_per_second': 279.502, 'eval_steps_per_second': 2.74, 'epoch': 4.0}\n",
            "Progress: 100/100\n"
          ]
        },
        {
          "output_type": "stream",
          "name": "stderr",
          "text": [
            "Some weights of BertForSequenceClassification were not initialized from the model checkpoint at prajjwal1/bert-tiny and are newly initialized: ['classifier.bias', 'classifier.weight']\n",
            "You should probably TRAIN this model on a down-stream task to be able to use it for predictions and inference.\n"
          ]
        },
        {
          "output_type": "stream",
          "name": "stdout",
          "text": [
            "{'eval_loss': 0.6439599990844727, 'eval_accuracy': 0.6838235294117647, 'eval_f1': 0.8122270742358079, 'eval_runtime': 1.4885, 'eval_samples_per_second': 274.093, 'eval_steps_per_second': 2.687, 'epoch': 1.0}\n",
            "{'eval_loss': 0.6185536980628967, 'eval_accuracy': 0.6838235294117647, 'eval_f1': 0.8122270742358079, 'eval_runtime': 1.1915, 'eval_samples_per_second': 342.418, 'eval_steps_per_second': 3.357, 'epoch': 2.0}\n",
            "{'eval_loss': 0.6116704344749451, 'eval_accuracy': 0.6838235294117647, 'eval_f1': 0.8122270742358079, 'eval_runtime': 1.1037, 'eval_samples_per_second': 369.669, 'eval_steps_per_second': 3.624, 'epoch': 3.0}\n",
            "{'eval_loss': 0.609874427318573, 'eval_accuracy': 0.6838235294117647, 'eval_f1': 0.8122270742358079, 'eval_runtime': 1.1322, 'eval_samples_per_second': 360.348, 'eval_steps_per_second': 3.533, 'epoch': 4.0}\n",
            "{'train_runtime': 9.3947, 'train_samples_per_second': 1561.729, 'train_steps_per_second': 12.347, 'train_loss': 0.6398460125101024, 'epoch': 4.0}\n",
            "{'eval_loss': 0.609874427318573, 'eval_accuracy': 0.6838235294117647, 'eval_f1': 0.8122270742358079, 'eval_runtime': 1.1321, 'eval_samples_per_second': 360.385, 'eval_steps_per_second': 3.533, 'epoch': 4.0}\n",
            "\n",
            "================         \n",
            "Runtime: 29.648666723569235 minutes         \n",
            "Best Result:         \n",
            "batch_size=64,         \n",
            "learning_rate=0.0003,         \n",
            "eval_f1=0.8386075949367089\n"
          ]
        }
      ]
    },
    {
      "cell_type": "markdown",
      "source": [
        "# Low-Rank Adaptation (LoRA)"
      ],
      "metadata": {
        "id": "fn2hce2EzI11"
      }
    },
    {
      "cell_type": "code",
      "execution_count": 11,
      "metadata": {
        "id": "MivaCxsh7UKy"
      },
      "outputs": [],
      "source": [
        "class LoraModule(nn.Module):\n",
        "  def __init__(self, in_features, out_features, rank, alpha):\n",
        "    super().__init__()\n",
        "    self.scale = alpha / rank\n",
        "    self.A = nn.Parameter(torch.randn(in_features, rank))\n",
        "    self.B = nn.Parameter(torch.zeros(rank, out_features))\n",
        "\n",
        "  def forward(self, x):\n",
        "    return (self.scale * (x @ self.A @ self.B))\n",
        "\n",
        "class LoraLinear(nn.Module):\n",
        "  def __init__(self, linear, rank, alpha):\n",
        "    super().__init__()\n",
        "    if (isinstance(linear, LoraLinear)):\n",
        "      self.linear = linear.linear\n",
        "      self.lora = LoraModule(self.linear.in_features, self.linear.out_features, rank, alpha)\n",
        "\n",
        "    else:\n",
        "      self.linear = linear\n",
        "      self.lora = LoraModule(self.linear.in_features, self.linear.out_features, rank, alpha)\n",
        "\n",
        "  def forward(self, x):\n",
        "    return self.linear(x) + self.lora(x)"
      ]
    },
    {
      "cell_type": "code",
      "execution_count": 12,
      "metadata": {
        "id": "dnum5mxHf-MI"
      },
      "outputs": [],
      "source": [
        "def get_trainable_parameters(model):\n",
        "  trainable_parameters = 0\n",
        "  parameters = 0\n",
        "  for param in model.parameters():\n",
        "    parameters += param.numel()\n",
        "    if param.requires_grad:\n",
        "      trainable_parameters += param.numel()\n",
        "  return parameters, trainable_parameters"
      ]
    },
    {
      "cell_type": "code",
      "source": [
        "def configure_lora_model(model, rank, alpha):\n",
        "  for i, layer in enumerate(model.bert.encoder.layer):\n",
        "    s = layer.attention.self\n",
        "    s.query = LoraLinear(s.query, rank, alpha)\n",
        "    s.value = LoraLinear(s.value, rank, alpha)\n",
        "\n",
        "  for name, param in model.named_parameters():\n",
        "    if 'A' in name or 'B' in name:\n",
        "      param.requires_grad = True\n",
        "    else:\n",
        "      param.requires_grad = False\n",
        "  params, trainable_params = get_trainable_parameters(model)\n",
        "  print(f\"Total Parameters={params}, Trainable Parameters={trainable_params}\")\n",
        "\n",
        "  return (params, trainable_params)"
      ],
      "metadata": {
        "id": "2dAR1xyMGGMT"
      },
      "execution_count": 13,
      "outputs": []
    },
    {
      "cell_type": "code",
      "source": [
        "from transformers import AutoModelForSequenceClassification\n",
        "\n",
        "lora_model = AutoModelForSequenceClassification.from_pretrained(checkpoint, num_labels=2).to(device)"
      ],
      "metadata": {
        "id": "HeNFNs4QzF7t",
        "colab": {
          "base_uri": "https://localhost:8080/"
        },
        "outputId": "5d644ac6-fbdd-43d5-d516-17ff785a737d"
      },
      "execution_count": 14,
      "outputs": [
        {
          "output_type": "stream",
          "name": "stderr",
          "text": [
            "Some weights of BertForSequenceClassification were not initialized from the model checkpoint at prajjwal1/bert-tiny and are newly initialized: ['classifier.bias', 'classifier.weight']\n",
            "You should probably TRAIN this model on a down-stream task to be able to use it for predictions and inference.\n"
          ]
        }
      ]
    },
    {
      "cell_type": "code",
      "source": [
        "ranks = [1, 2, 4, 8, 16]\n",
        "alphas = [1, 2, 4, 8, 16]"
      ],
      "metadata": {
        "id": "niceYTIvGnz2"
      },
      "execution_count": 15,
      "outputs": []
    },
    {
      "cell_type": "code",
      "source": [
        "from transformers import Trainer, TrainingArguments\n",
        "import time\n",
        "\n",
        "start_time = time.time()\n",
        "\n",
        "results = []\n",
        "iterations = len(batch_sizes)*len(learning_rates)*len(ranks)*len(alphas)*num_runs\n",
        "progress = 0\n",
        "for run in range(1, num_runs+1):\n",
        "  for rank in ranks:\n",
        "    for alpha in alphas:\n",
        "      for size in batch_sizes:\n",
        "        for rate in learning_rates:\n",
        "          progress += 1\n",
        "          print(f\"Progress: {progress}/{iterations}\")\n",
        "          result = {\"run\": run, \"rank\": rank, \"alpha\": alpha, \"batch_size\": size, \"learning_rate\": rate}\n",
        "\n",
        "          params, trainable_params = configure_lora_model(lora_model, rank, alpha)\n",
        "          result[\"parameters\"] = params\n",
        "          result[\"trainable_parameters\"] = trainable_params\n",
        "\n",
        "          training_args = TrainingArguments(\n",
        "              \"lora-trainer\",\n",
        "              eval_strategy=\"epoch\",\n",
        "              per_device_eval_batch_size=size,\n",
        "              per_device_train_batch_size=size,\n",
        "              num_train_epochs=epochs,\n",
        "              learning_rate=rate,\n",
        "              disable_tqdm=True,\n",
        "              report_to=\"none\"\n",
        "          )\n",
        "\n",
        "          trainer = Trainer(\n",
        "              lora_model,\n",
        "              training_args,\n",
        "              train_dataset=tokenized_datasets[\"train\"],\n",
        "              eval_dataset=tokenized_datasets[\"validation\"],\n",
        "              data_collator=data_collator,\n",
        "              processing_class=tokenizer,\n",
        "              compute_metrics=compute_metrics\n",
        "          )\n",
        "\n",
        "          result = result | trainer.train().metrics | trainer.evaluate()\n",
        "          results.append(result)\n",
        "\n",
        "end_time = time.time()\n",
        "\n",
        "runtime_seconds = end_time - start_time\n",
        "runtime_hours = runtime_seconds / 3600\n",
        "\n",
        "max = results[0]\n",
        "for i, result in enumerate(results):\n",
        "  if result['eval_f1'] > max['eval_f1']:\n",
        "    max = result\n",
        "\n",
        "print(f'\\n================ \\\n",
        "        \\nRuntime: {runtime_hours} hours \\\n",
        "        \\nBest Result: \\\n",
        "        \\nrank={max[\"rank\"]}, \\\n",
        "        \\nalpha={max[\"alpha\"]}, \\\n",
        "        \\nparameters={max[\"parameters\"]}, \\\n",
        "        \\ntrainable_parameters={max[\"trainable_parameters\"]}, \\\n",
        "        \\nbatch_size={max[\"batch_size\"]}, \\\n",
        "        \\nlearning_rate={max[\"learning_rate\"]}, \\\n",
        "        \\neval_f1={max[\"eval_f1\"]}')\n",
        "\n",
        "import csv\n",
        "\n",
        "with open('/content/drive/MyDrive/lora-bert-tiny/lora-results.csv', 'w', newline='') as csvfile:\n",
        "    writer = csv.DictWriter(csvfile, fieldnames=list(results[0].keys()))\n",
        "\n",
        "    writer.writeheader()\n",
        "    for result in results:\n",
        "      writer.writerow(result)"
      ],
      "metadata": {
        "id": "2sRCUocTD3eo",
        "colab": {
          "base_uri": "https://localhost:8080/"
        },
        "outputId": "bd562d4a-7bcd-4ac9-847d-e22df5e8d77b"
      },
      "execution_count": null,
      "outputs": [
        {
          "output_type": "stream",
          "name": "stdout",
          "text": [
            "Progress: 1/2500\n",
            "Total Parameters=4387202, Trainable Parameters=1024\n",
            "{'eval_loss': 0.6257390975952148, 'eval_accuracy': 0.6813725490196079, 'eval_f1': 0.8104956268221575, 'eval_runtime': 1.269, 'eval_samples_per_second': 321.519, 'eval_steps_per_second': 40.19, 'epoch': 1.0}\n",
            "{'loss': 0.663, 'grad_norm': 0.46347522735595703, 'learning_rate': 0.00021830065359477123, 'epoch': 1.0893246187363834}\n",
            "{'eval_loss': 0.6210986375808716, 'eval_accuracy': 0.6838235294117647, 'eval_f1': 0.8122270742358079, 'eval_runtime': 1.6279, 'eval_samples_per_second': 250.636, 'eval_steps_per_second': 31.33, 'epoch': 2.0}\n",
            "{'loss': 0.6298, 'grad_norm': 0.40943172574043274, 'learning_rate': 0.00013660130718954247, 'epoch': 2.178649237472767}\n",
            "{'eval_loss': 0.6197056770324707, 'eval_accuracy': 0.6838235294117647, 'eval_f1': 0.8122270742358079, 'eval_runtime': 1.3007, 'eval_samples_per_second': 313.686, 'eval_steps_per_second': 39.211, 'epoch': 3.0}\n",
            "{'loss': 0.6246, 'grad_norm': 0.42999500036239624, 'learning_rate': 5.4901960784313716e-05, 'epoch': 3.2679738562091503}\n",
            "{'eval_loss': 0.619658350944519, 'eval_accuracy': 0.6838235294117647, 'eval_f1': 0.8122270742358079, 'eval_runtime': 1.6526, 'eval_samples_per_second': 246.886, 'eval_steps_per_second': 30.861, 'epoch': 4.0}\n",
            "{'train_runtime': 23.6563, 'train_samples_per_second': 620.215, 'train_steps_per_second': 77.611, 'train_loss': 0.6382766175114252, 'epoch': 4.0}\n",
            "{'eval_loss': 0.619658350944519, 'eval_accuracy': 0.6838235294117647, 'eval_f1': 0.8122270742358079, 'eval_runtime': 1.6451, 'eval_samples_per_second': 248.01, 'eval_steps_per_second': 31.001, 'epoch': 4.0}\n",
            "Progress: 2/2500\n",
            "Total Parameters=4387202, Trainable Parameters=1024\n",
            "{'eval_loss': 0.6730965375900269, 'eval_accuracy': 0.6470588235294118, 'eval_f1': 0.7534246575342466, 'eval_runtime': 1.6259, 'eval_samples_per_second': 250.944, 'eval_steps_per_second': 31.368, 'epoch': 1.0}\n",
            "{'loss': 0.7085, 'grad_norm': 0.3521327078342438, 'learning_rate': 7.276688453159042e-05, 'epoch': 1.0893246187363834}\n",
            "{'eval_loss': 0.6384305953979492, 'eval_accuracy': 0.6887254901960784, 'eval_f1': 0.8107302533532041, 'eval_runtime': 1.636, 'eval_samples_per_second': 249.388, 'eval_steps_per_second': 31.174, 'epoch': 2.0}\n",
            "{'loss': 0.6512, 'grad_norm': 0.4592481851577759, 'learning_rate': 4.5533769063180834e-05, 'epoch': 2.178649237472767}\n",
            "{'eval_loss': 0.6301237940788269, 'eval_accuracy': 0.6862745098039216, 'eval_f1': 0.8112094395280236, 'eval_runtime': 1.6844, 'eval_samples_per_second': 242.227, 'eval_steps_per_second': 30.278, 'epoch': 3.0}\n",
            "{'loss': 0.632, 'grad_norm': 0.5441040396690369, 'learning_rate': 1.8300653594771242e-05, 'epoch': 3.2679738562091503}\n",
            "{'eval_loss': 0.6279606819152832, 'eval_accuracy': 0.6887254901960784, 'eval_f1': 0.812960235640648, 'eval_runtime': 1.9906, 'eval_samples_per_second': 204.959, 'eval_steps_per_second': 25.62, 'epoch': 4.0}\n",
            "{'train_runtime': 24.9832, 'train_samples_per_second': 587.274, 'train_steps_per_second': 73.489, 'train_loss': 0.6589283413357205, 'epoch': 4.0}\n",
            "{'eval_loss': 0.6279606819152832, 'eval_accuracy': 0.6887254901960784, 'eval_f1': 0.812960235640648, 'eval_runtime': 1.6091, 'eval_samples_per_second': 253.553, 'eval_steps_per_second': 31.694, 'epoch': 4.0}\n",
            "Progress: 3/2500\n",
            "Total Parameters=4387202, Trainable Parameters=1024\n",
            "{'eval_loss': 0.7177466750144958, 'eval_accuracy': 0.32107843137254904, 'eval_f1': 0.061016949152542375, 'eval_runtime': 1.2906, 'eval_samples_per_second': 316.133, 'eval_steps_per_second': 39.517, 'epoch': 1.0}\n",
            "{'loss': 0.7322, 'grad_norm': 0.3813965320587158, 'learning_rate': 3.638344226579521e-05, 'epoch': 1.0893246187363834}\n",
            "{'eval_loss': 0.6852342486381531, 'eval_accuracy': 0.5735294117647058, 'eval_f1': 0.6627906976744186, 'eval_runtime': 1.2638, 'eval_samples_per_second': 322.826, 'eval_steps_per_second': 40.353, 'epoch': 2.0}\n",
            "{'loss': 0.6951, 'grad_norm': 0.6395981907844543, 'learning_rate': 2.2766884531590417e-05, 'epoch': 2.178649237472767}\n",
            "{'eval_loss': 0.6690717339515686, 'eval_accuracy': 0.6544117647058824, 'eval_f1': 0.7669421487603306, 'eval_runtime': 1.6545, 'eval_samples_per_second': 246.595, 'eval_steps_per_second': 30.824, 'epoch': 3.0}\n",
            "{'loss': 0.6713, 'grad_norm': 0.38888677954673767, 'learning_rate': 9.150326797385621e-06, 'epoch': 3.2679738562091503}\n",
            "{'eval_loss': 0.6646168828010559, 'eval_accuracy': 0.6617647058823529, 'eval_f1': 0.7766990291262136, 'eval_runtime': 1.9689, 'eval_samples_per_second': 207.218, 'eval_steps_per_second': 25.902, 'epoch': 4.0}\n",
            "{'train_runtime': 24.156, 'train_samples_per_second': 607.384, 'train_steps_per_second': 76.006, 'train_loss': 0.6939592299118541, 'epoch': 4.0}\n",
            "{'eval_loss': 0.6646168828010559, 'eval_accuracy': 0.6617647058823529, 'eval_f1': 0.7766990291262136, 'eval_runtime': 1.6151, 'eval_samples_per_second': 252.612, 'eval_steps_per_second': 31.576, 'epoch': 4.0}\n",
            "Progress: 4/2500\n",
            "Total Parameters=4387202, Trainable Parameters=1024\n",
            "{'eval_loss': 0.7343876957893372, 'eval_accuracy': 0.3161764705882353, 'eval_f1': 0.0, 'eval_runtime': 1.6763, 'eval_samples_per_second': 243.4, 'eval_steps_per_second': 30.425, 'epoch': 1.0}\n",
            "{'loss': 0.7411, 'grad_norm': 0.38866573572158813, 'learning_rate': 2.1830065359477124e-05, 'epoch': 1.0893246187363834}\n",
            "{'eval_loss': 0.7162315249443054, 'eval_accuracy': 0.33088235294117646, 'eval_f1': 0.09302325581395349, 'eval_runtime': 1.9705, 'eval_samples_per_second': 207.055, 'eval_steps_per_second': 25.882, 'epoch': 2.0}\n",
            "{'loss': 0.7206, 'grad_norm': 0.5770863890647888, 'learning_rate': 1.366013071895425e-05, 'epoch': 2.178649237472767}\n",
            "{'eval_loss': 0.704820454120636, 'eval_accuracy': 0.3946078431372549, 'eval_f1': 0.32697547683923706, 'eval_runtime': 1.6253, 'eval_samples_per_second': 251.037, 'eval_steps_per_second': 31.38, 'epoch': 3.0}\n",
            "{'loss': 0.7048, 'grad_norm': 0.36168649792671204, 'learning_rate': 5.490196078431373e-06, 'epoch': 3.2679738562091503}\n",
            "{'eval_loss': 0.7010163068771362, 'eval_accuracy': 0.4362745098039216, 'eval_f1': 0.41624365482233505, 'eval_runtime': 1.6194, 'eval_samples_per_second': 251.937, 'eval_steps_per_second': 31.492, 'epoch': 4.0}\n",
            "{'train_runtime': 24.7353, 'train_samples_per_second': 593.161, 'train_steps_per_second': 74.226, 'train_loss': 0.7182109890939883, 'epoch': 4.0}\n",
            "{'eval_loss': 0.7010163068771362, 'eval_accuracy': 0.4362745098039216, 'eval_f1': 0.41624365482233505, 'eval_runtime': 1.2778, 'eval_samples_per_second': 319.306, 'eval_steps_per_second': 39.913, 'epoch': 4.0}\n",
            "Progress: 5/2500\n",
            "Total Parameters=4387202, Trainable Parameters=1024\n",
            "{'eval_loss': 0.6345610618591309, 'eval_accuracy': 0.6862745098039216, 'eval_f1': 0.8112094395280236, 'eval_runtime': 1.5654, 'eval_samples_per_second': 260.641, 'eval_steps_per_second': 16.609, 'epoch': 1.0}\n",
            "{'eval_loss': 0.622128427028656, 'eval_accuracy': 0.6862745098039216, 'eval_f1': 0.8123167155425219, 'eval_runtime': 1.184, 'eval_samples_per_second': 344.599, 'eval_steps_per_second': 21.96, 'epoch': 2.0}\n",
            "{'loss': 0.6546, 'grad_norm': 0.23238064348697662, 'learning_rate': 0.00013695652173913042, 'epoch': 2.1739130434782608}\n",
            "{'eval_loss': 0.6207221746444702, 'eval_accuracy': 0.6887254901960784, 'eval_f1': 0.8140556368960469, 'eval_runtime': 1.531, 'eval_samples_per_second': 266.491, 'eval_steps_per_second': 16.982, 'epoch': 3.0}\n",
            "{'eval_loss': 0.620145320892334, 'eval_accuracy': 0.6887254901960784, 'eval_f1': 0.8140556368960469, 'eval_runtime': 1.1783, 'eval_samples_per_second': 346.271, 'eval_steps_per_second': 22.066, 'epoch': 4.0}\n",
            "{'train_runtime': 15.3637, 'train_samples_per_second': 954.981, 'train_steps_per_second': 59.882, 'train_loss': 0.6401053387185801, 'epoch': 4.0}\n",
            "{'eval_loss': 0.620145320892334, 'eval_accuracy': 0.6887254901960784, 'eval_f1': 0.8140556368960469, 'eval_runtime': 1.1699, 'eval_samples_per_second': 348.738, 'eval_steps_per_second': 22.224, 'epoch': 4.0}\n",
            "Progress: 6/2500\n",
            "Total Parameters=4387202, Trainable Parameters=1024\n",
            "{'eval_loss': 0.7089972496032715, 'eval_accuracy': 0.3872549019607843, 'eval_f1': 0.2603550295857988, 'eval_runtime': 1.1731, 'eval_samples_per_second': 347.786, 'eval_steps_per_second': 22.163, 'epoch': 1.0}\n",
            "{'eval_loss': 0.6713041663169861, 'eval_accuracy': 0.6519607843137255, 'eval_f1': 0.7625418060200669, 'eval_runtime': 1.5205, 'eval_samples_per_second': 268.334, 'eval_steps_per_second': 17.1, 'epoch': 2.0}\n",
            "{'loss': 0.7052, 'grad_norm': 0.2465394139289856, 'learning_rate': 4.565217391304348e-05, 'epoch': 2.1739130434782608}\n",
            "{'eval_loss': 0.6552615165710449, 'eval_accuracy': 0.6715686274509803, 'eval_f1': 0.7932098765432098, 'eval_runtime': 1.5785, 'eval_samples_per_second': 258.473, 'eval_steps_per_second': 16.471, 'epoch': 3.0}\n",
            "{'eval_loss': 0.650761604309082, 'eval_accuracy': 0.6764705882352942, 'eval_f1': 0.7975460122699386, 'eval_runtime': 1.563, 'eval_samples_per_second': 261.036, 'eval_steps_per_second': 16.635, 'epoch': 4.0}\n",
            "{'train_runtime': 15.7725, 'train_samples_per_second': 930.227, 'train_steps_per_second': 58.329, 'train_loss': 0.6834866067637568, 'epoch': 4.0}\n",
            "{'eval_loss': 0.650761604309082, 'eval_accuracy': 0.6764705882352942, 'eval_f1': 0.7975460122699386, 'eval_runtime': 1.5261, 'eval_samples_per_second': 267.347, 'eval_steps_per_second': 17.037, 'epoch': 4.0}\n",
            "Progress: 7/2500\n",
            "Total Parameters=4387202, Trainable Parameters=1024\n",
            "{'eval_loss': 0.7345554232597351, 'eval_accuracy': 0.3161764705882353, 'eval_f1': 0.0, 'eval_runtime': 1.5368, 'eval_samples_per_second': 265.482, 'eval_steps_per_second': 16.918, 'epoch': 1.0}\n",
            "{'eval_loss': 0.7164990305900574, 'eval_accuracy': 0.3284313725490196, 'eval_f1': 0.08053691275167785, 'eval_runtime': 1.896, 'eval_samples_per_second': 215.192, 'eval_steps_per_second': 13.713, 'epoch': 2.0}\n",
            "{'loss': 0.7305, 'grad_norm': 0.310889333486557, 'learning_rate': 2.282608695652174e-05, 'epoch': 2.1739130434782608}\n",
            "{'eval_loss': 0.7049254775047302, 'eval_accuracy': 0.3946078431372549, 'eval_f1': 0.32697547683923706, 'eval_runtime': 1.5287, 'eval_samples_per_second': 266.894, 'eval_steps_per_second': 17.008, 'epoch': 3.0}\n",
            "{'eval_loss': 0.7010124921798706, 'eval_accuracy': 0.4338235294117647, 'eval_f1': 0.4151898734177215, 'eval_runtime': 1.1942, 'eval_samples_per_second': 341.653, 'eval_steps_per_second': 21.772, 'epoch': 4.0}\n",
            "{'train_runtime': 16.1222, 'train_samples_per_second': 910.049, 'train_steps_per_second': 57.064, 'train_loss': 0.7181151680324389, 'epoch': 4.0}\n",
            "{'eval_loss': 0.7010124921798706, 'eval_accuracy': 0.4338235294117647, 'eval_f1': 0.4151898734177215, 'eval_runtime': 1.8735, 'eval_samples_per_second': 217.776, 'eval_steps_per_second': 13.878, 'epoch': 4.0}\n",
            "Progress: 8/2500\n",
            "Total Parameters=4387202, Trainable Parameters=1024\n",
            "{'eval_loss': 0.7433072328567505, 'eval_accuracy': 0.3161764705882353, 'eval_f1': 0.0, 'eval_runtime': 1.5496, 'eval_samples_per_second': 263.295, 'eval_steps_per_second': 16.779, 'epoch': 1.0}\n",
            "{'eval_loss': 0.733747124671936, 'eval_accuracy': 0.31862745098039214, 'eval_f1': 0.007142857142857143, 'eval_runtime': 1.5244, 'eval_samples_per_second': 267.653, 'eval_steps_per_second': 17.056, 'epoch': 2.0}\n",
            "{'loss': 0.7402, 'grad_norm': 0.31184670329093933, 'learning_rate': 1.3695652173913042e-05, 'epoch': 2.1739130434782608}\n",
            "{'eval_loss': 0.727674126625061, 'eval_accuracy': 0.31862745098039214, 'eval_f1': 0.014184397163120567, 'eval_runtime': 1.5365, 'eval_samples_per_second': 265.537, 'eval_steps_per_second': 16.921, 'epoch': 3.0}\n",
            "{'eval_loss': 0.7255455255508423, 'eval_accuracy': 0.3161764705882353, 'eval_f1': 0.014134275618374558, 'eval_runtime': 1.5223, 'eval_samples_per_second': 268.011, 'eval_steps_per_second': 17.079, 'epoch': 4.0}\n",
            "{'train_runtime': 16.0873, 'train_samples_per_second': 912.022, 'train_steps_per_second': 57.188, 'train_loss': 0.7334772856339165, 'epoch': 4.0}\n",
            "{'eval_loss': 0.7255455255508423, 'eval_accuracy': 0.3161764705882353, 'eval_f1': 0.014134275618374558, 'eval_runtime': 1.175, 'eval_samples_per_second': 347.239, 'eval_steps_per_second': 22.128, 'epoch': 4.0}\n",
            "Progress: 9/2500\n",
            "Total Parameters=4387202, Trainable Parameters=1024\n",
            "{'eval_loss': 0.6727752089500427, 'eval_accuracy': 0.6397058823529411, 'eval_f1': 0.7495741056218058, 'eval_runtime': 1.8229, 'eval_samples_per_second': 223.814, 'eval_steps_per_second': 7.131, 'epoch': 1.0}\n",
            "{'eval_loss': 0.6352618932723999, 'eval_accuracy': 0.6911764705882353, 'eval_f1': 0.8136094674556213, 'eval_runtime': 1.1399, 'eval_samples_per_second': 357.917, 'eval_steps_per_second': 11.404, 'epoch': 2.0}\n",
            "{'eval_loss': 0.6273951530456543, 'eval_accuracy': 0.6862745098039216, 'eval_f1': 0.8123167155425219, 'eval_runtime': 1.4671, 'eval_samples_per_second': 278.098, 'eval_steps_per_second': 8.861, 'epoch': 3.0}\n",
            "{'eval_loss': 0.6257346868515015, 'eval_accuracy': 0.6862745098039216, 'eval_f1': 0.8123167155425219, 'eval_runtime': 1.5065, 'eval_samples_per_second': 270.822, 'eval_steps_per_second': 8.629, 'epoch': 4.0}\n",
            "{'train_runtime': 12.5293, 'train_samples_per_second': 1171.014, 'train_steps_per_second': 36.714, 'train_loss': 0.6578729380731997, 'epoch': 4.0}\n",
            "{'eval_loss': 0.6257346868515015, 'eval_accuracy': 0.6862745098039216, 'eval_f1': 0.8123167155425219, 'eval_runtime': 1.473, 'eval_samples_per_second': 276.978, 'eval_steps_per_second': 8.825, 'epoch': 4.0}\n",
            "Progress: 10/2500\n",
            "Total Parameters=4387202, Trainable Parameters=1024\n",
            "{'eval_loss': 0.7316310405731201, 'eval_accuracy': 0.31862745098039214, 'eval_f1': 0.007142857142857143, 'eval_runtime': 1.484, 'eval_samples_per_second': 274.928, 'eval_steps_per_second': 8.76, 'epoch': 1.0}\n",
            "{'eval_loss': 0.7107211947441101, 'eval_accuracy': 0.37254901960784315, 'eval_f1': 0.22424242424242424, 'eval_runtime': 1.4816, 'eval_samples_per_second': 275.387, 'eval_steps_per_second': 8.775, 'epoch': 2.0}\n",
            "{'eval_loss': 0.6969713568687439, 'eval_accuracy': 0.48284313725490197, 'eval_f1': 0.5127020785219399, 'eval_runtime': 1.4791, 'eval_samples_per_second': 275.838, 'eval_steps_per_second': 8.789, 'epoch': 3.0}\n",
            "{'eval_loss': 0.6924538612365723, 'eval_accuracy': 0.5245098039215687, 'eval_f1': 0.5872340425531914, 'eval_runtime': 1.1509, 'eval_samples_per_second': 354.519, 'eval_steps_per_second': 11.296, 'epoch': 4.0}\n",
            "{'train_runtime': 12.1415, 'train_samples_per_second': 1208.42, 'train_steps_per_second': 37.887, 'train_loss': 0.7137894340183424, 'epoch': 4.0}\n",
            "{'eval_loss': 0.6924538612365723, 'eval_accuracy': 0.5245098039215687, 'eval_f1': 0.5872340425531914, 'eval_runtime': 1.4969, 'eval_samples_per_second': 272.572, 'eval_steps_per_second': 8.685, 'epoch': 4.0}\n",
            "Progress: 11/2500\n",
            "Total Parameters=4387202, Trainable Parameters=1024\n",
            "{'eval_loss': 0.7439378499984741, 'eval_accuracy': 0.3161764705882353, 'eval_f1': 0.0, 'eval_runtime': 1.5033, 'eval_samples_per_second': 271.407, 'eval_steps_per_second': 8.648, 'epoch': 1.0}\n",
            "{'eval_loss': 0.7352198958396912, 'eval_accuracy': 0.3161764705882353, 'eval_f1': 0.0, 'eval_runtime': 1.8274, 'eval_samples_per_second': 223.265, 'eval_steps_per_second': 7.114, 'epoch': 2.0}\n",
            "{'eval_loss': 0.7295425534248352, 'eval_accuracy': 0.31862745098039214, 'eval_f1': 0.014184397163120567, 'eval_runtime': 1.8414, 'eval_samples_per_second': 221.565, 'eval_steps_per_second': 7.06, 'epoch': 3.0}\n",
            "{'eval_loss': 0.7275199294090271, 'eval_accuracy': 0.31862745098039214, 'eval_f1': 0.014184397163120567, 'eval_runtime': 1.4694, 'eval_samples_per_second': 277.661, 'eval_steps_per_second': 8.847, 'epoch': 4.0}\n",
            "{'train_runtime': 13.1427, 'train_samples_per_second': 1116.359, 'train_steps_per_second': 35.0, 'train_loss': 0.7354321023692255, 'epoch': 4.0}\n",
            "{'eval_loss': 0.7275199294090271, 'eval_accuracy': 0.31862745098039214, 'eval_f1': 0.014184397163120567, 'eval_runtime': 1.1394, 'eval_samples_per_second': 358.096, 'eval_steps_per_second': 11.41, 'epoch': 4.0}\n",
            "Progress: 12/2500\n",
            "Total Parameters=4387202, Trainable Parameters=1024\n",
            "{'eval_loss': 0.7484992742538452, 'eval_accuracy': 0.3161764705882353, 'eval_f1': 0.0, 'eval_runtime': 1.4694, 'eval_samples_per_second': 277.657, 'eval_steps_per_second': 8.847, 'epoch': 1.0}\n",
            "{'eval_loss': 0.74362713098526, 'eval_accuracy': 0.3161764705882353, 'eval_f1': 0.0, 'eval_runtime': 1.1374, 'eval_samples_per_second': 358.703, 'eval_steps_per_second': 11.429, 'epoch': 2.0}\n",
            "{'eval_loss': 0.7405650019645691, 'eval_accuracy': 0.3161764705882353, 'eval_f1': 0.0, 'eval_runtime': 1.4697, 'eval_samples_per_second': 277.601, 'eval_steps_per_second': 8.845, 'epoch': 3.0}\n",
            "{'eval_loss': 0.7394840121269226, 'eval_accuracy': 0.3161764705882353, 'eval_f1': 0.0, 'eval_runtime': 1.4869, 'eval_samples_per_second': 274.391, 'eval_steps_per_second': 8.743, 'epoch': 4.0}\n",
            "{'train_runtime': 12.1845, 'train_samples_per_second': 1204.151, 'train_steps_per_second': 37.753, 'train_loss': 0.7433099497919498, 'epoch': 4.0}\n",
            "{'eval_loss': 0.7394840121269226, 'eval_accuracy': 0.3161764705882353, 'eval_f1': 0.0, 'eval_runtime': 1.8376, 'eval_samples_per_second': 222.03, 'eval_steps_per_second': 7.074, 'epoch': 4.0}\n",
            "Progress: 13/2500\n",
            "Total Parameters=4387202, Trainable Parameters=1024\n",
            "{'eval_loss': 0.7153947353363037, 'eval_accuracy': 0.3382352941176471, 'eval_f1': 0.11764705882352941, 'eval_runtime': 1.4484, 'eval_samples_per_second': 281.689, 'eval_steps_per_second': 4.833, 'epoch': 1.0}\n",
            "{'eval_loss': 0.6780186295509338, 'eval_accuracy': 0.6225490196078431, 'eval_f1': 0.7230215827338129, 'eval_runtime': 1.1141, 'eval_samples_per_second': 366.199, 'eval_steps_per_second': 6.283, 'epoch': 2.0}\n",
            "{'eval_loss': 0.659702479839325, 'eval_accuracy': 0.6764705882352942, 'eval_f1': 0.7917981072555205, 'eval_runtime': 1.7988, 'eval_samples_per_second': 226.817, 'eval_steps_per_second': 3.891, 'epoch': 3.0}\n",
            "{'eval_loss': 0.6545944809913635, 'eval_accuracy': 0.6740196078431373, 'eval_f1': 0.794435857805255, 'eval_runtime': 1.8293, 'eval_samples_per_second': 223.041, 'eval_steps_per_second': 3.827, 'epoch': 4.0}\n",
            "{'train_runtime': 10.9618, 'train_samples_per_second': 1338.468, 'train_steps_per_second': 21.164, 'train_loss': 0.6889614894472319, 'epoch': 4.0}\n",
            "{'eval_loss': 0.6545944809913635, 'eval_accuracy': 0.6740196078431373, 'eval_f1': 0.794435857805255, 'eval_runtime': 1.4594, 'eval_samples_per_second': 279.567, 'eval_steps_per_second': 4.796, 'epoch': 4.0}\n",
            "Progress: 14/2500\n",
            "Total Parameters=4387202, Trainable Parameters=1024\n",
            "{'eval_loss': 0.7431542873382568, 'eval_accuracy': 0.3161764705882353, 'eval_f1': 0.0, 'eval_runtime': 1.5008, 'eval_samples_per_second': 271.855, 'eval_steps_per_second': 4.664, 'epoch': 1.0}\n",
            "{'eval_loss': 0.7332796454429626, 'eval_accuracy': 0.31862745098039214, 'eval_f1': 0.007142857142857143, 'eval_runtime': 1.4569, 'eval_samples_per_second': 280.037, 'eval_steps_per_second': 4.805, 'epoch': 2.0}\n",
            "{'eval_loss': 0.7269538640975952, 'eval_accuracy': 0.31862745098039214, 'eval_f1': 0.014184397163120567, 'eval_runtime': 1.1601, 'eval_samples_per_second': 351.708, 'eval_steps_per_second': 6.034, 'epoch': 3.0}\n",
            "{'eval_loss': 0.724665105342865, 'eval_accuracy': 0.31862745098039214, 'eval_f1': 0.02112676056338028, 'eval_runtime': 1.4749, 'eval_samples_per_second': 276.634, 'eval_steps_per_second': 4.746, 'epoch': 4.0}\n",
            "{'train_runtime': 10.4354, 'train_samples_per_second': 1405.984, 'train_steps_per_second': 22.232, 'train_loss': 0.7337018374739022, 'epoch': 4.0}\n",
            "{'eval_loss': 0.724665105342865, 'eval_accuracy': 0.31862745098039214, 'eval_f1': 0.02112676056338028, 'eval_runtime': 1.4528, 'eval_samples_per_second': 280.835, 'eval_steps_per_second': 4.818, 'epoch': 4.0}\n",
            "Progress: 15/2500\n",
            "Total Parameters=4387202, Trainable Parameters=1024\n",
            "{'eval_loss': 0.7492170929908752, 'eval_accuracy': 0.3161764705882353, 'eval_f1': 0.0, 'eval_runtime': 1.8145, 'eval_samples_per_second': 224.855, 'eval_steps_per_second': 3.858, 'epoch': 1.0}\n",
            "{'eval_loss': 0.7447175979614258, 'eval_accuracy': 0.3161764705882353, 'eval_f1': 0.0, 'eval_runtime': 1.4536, 'eval_samples_per_second': 280.688, 'eval_steps_per_second': 4.816, 'epoch': 2.0}\n",
            "{'eval_loss': 0.7419718503952026, 'eval_accuracy': 0.3161764705882353, 'eval_f1': 0.0, 'eval_runtime': 1.4797, 'eval_samples_per_second': 275.737, 'eval_steps_per_second': 4.731, 'epoch': 3.0}\n",
            "{'eval_loss': 0.7409998774528503, 'eval_accuracy': 0.3161764705882353, 'eval_f1': 0.0, 'eval_runtime': 1.0977, 'eval_samples_per_second': 371.69, 'eval_steps_per_second': 6.377, 'epoch': 4.0}\n",
            "{'train_runtime': 10.6741, 'train_samples_per_second': 1374.538, 'train_steps_per_second': 21.735, 'train_loss': 0.7443611539643387, 'epoch': 4.0}\n",
            "{'eval_loss': 0.7409998774528503, 'eval_accuracy': 0.3161764705882353, 'eval_f1': 0.0, 'eval_runtime': 1.4449, 'eval_samples_per_second': 282.38, 'eval_steps_per_second': 4.845, 'epoch': 4.0}\n",
            "Progress: 16/2500\n",
            "Total Parameters=4387202, Trainable Parameters=1024\n",
            "{'eval_loss': 0.7515774965286255, 'eval_accuracy': 0.3161764705882353, 'eval_f1': 0.0, 'eval_runtime': 1.4615, 'eval_samples_per_second': 279.163, 'eval_steps_per_second': 4.79, 'epoch': 1.0}\n",
            "{'eval_loss': 0.7489610314369202, 'eval_accuracy': 0.3161764705882353, 'eval_f1': 0.0, 'eval_runtime': 1.8162, 'eval_samples_per_second': 224.651, 'eval_steps_per_second': 3.854, 'epoch': 2.0}\n",
            "{'eval_loss': 0.7473921179771423, 'eval_accuracy': 0.3161764705882353, 'eval_f1': 0.0, 'eval_runtime': 1.4507, 'eval_samples_per_second': 281.244, 'eval_steps_per_second': 4.825, 'epoch': 3.0}\n",
            "{'eval_loss': 0.7468426823616028, 'eval_accuracy': 0.3161764705882353, 'eval_f1': 0.0, 'eval_runtime': 1.5326, 'eval_samples_per_second': 266.217, 'eval_steps_per_second': 4.567, 'epoch': 4.0}\n",
            "{'train_runtime': 11.0975, 'train_samples_per_second': 1322.103, 'train_steps_per_second': 20.906, 'train_loss': 0.7483966432768723, 'epoch': 4.0}\n",
            "{'eval_loss': 0.7468426823616028, 'eval_accuracy': 0.3161764705882353, 'eval_f1': 0.0, 'eval_runtime': 1.4514, 'eval_samples_per_second': 281.115, 'eval_steps_per_second': 4.823, 'epoch': 4.0}\n",
            "Progress: 17/2500\n",
            "Total Parameters=4387202, Trainable Parameters=1024\n",
            "{'eval_loss': 0.7358329892158508, 'eval_accuracy': 0.3161764705882353, 'eval_f1': 0.0, 'eval_runtime': 1.4529, 'eval_samples_per_second': 280.819, 'eval_steps_per_second': 2.753, 'epoch': 1.0}\n",
            "{'eval_loss': 0.7193669080734253, 'eval_accuracy': 0.31862745098039214, 'eval_f1': 0.04794520547945205, 'eval_runtime': 1.1051, 'eval_samples_per_second': 369.181, 'eval_steps_per_second': 3.619, 'epoch': 2.0}\n",
            "{'eval_loss': 0.7078405618667603, 'eval_accuracy': 0.3897058823529412, 'eval_f1': 0.2824207492795389, 'eval_runtime': 1.1099, 'eval_samples_per_second': 367.606, 'eval_steps_per_second': 3.604, 'epoch': 3.0}\n",
            "{'eval_loss': 0.7036358714103699, 'eval_accuracy': 0.40441176470588236, 'eval_f1': 0.352, 'eval_runtime': 1.4571, 'eval_samples_per_second': 280.008, 'eval_steps_per_second': 2.745, 'epoch': 4.0}\n",
            "{'train_runtime': 9.441, 'train_samples_per_second': 1554.077, 'train_steps_per_second': 12.287, 'train_loss': 0.7210499335979593, 'epoch': 4.0}\n",
            "{'eval_loss': 0.7036358714103699, 'eval_accuracy': 0.40441176470588236, 'eval_f1': 0.352, 'eval_runtime': 1.1811, 'eval_samples_per_second': 345.431, 'eval_steps_per_second': 3.387, 'epoch': 4.0}\n",
            "Progress: 18/2500\n",
            "Total Parameters=4387202, Trainable Parameters=1024\n",
            "{'eval_loss': 0.7488572597503662, 'eval_accuracy': 0.3161764705882353, 'eval_f1': 0.0, 'eval_runtime': 1.4683, 'eval_samples_per_second': 277.876, 'eval_steps_per_second': 2.724, 'epoch': 1.0}\n",
            "{'eval_loss': 0.7442406415939331, 'eval_accuracy': 0.3161764705882353, 'eval_f1': 0.0, 'eval_runtime': 1.446, 'eval_samples_per_second': 282.167, 'eval_steps_per_second': 2.766, 'epoch': 2.0}\n",
            "{'eval_loss': 0.7413560748100281, 'eval_accuracy': 0.3161764705882353, 'eval_f1': 0.0, 'eval_runtime': 1.1241, 'eval_samples_per_second': 362.945, 'eval_steps_per_second': 3.558, 'epoch': 3.0}\n",
            "{'eval_loss': 0.740304708480835, 'eval_accuracy': 0.3161764705882353, 'eval_f1': 0.0, 'eval_runtime': 1.8336, 'eval_samples_per_second': 222.512, 'eval_steps_per_second': 2.181, 'epoch': 4.0}\n",
            "{'train_runtime': 10.1294, 'train_samples_per_second': 1448.461, 'train_steps_per_second': 11.452, 'train_loss': 0.7438641909895272, 'epoch': 4.0}\n",
            "{'eval_loss': 0.740304708480835, 'eval_accuracy': 0.3161764705882353, 'eval_f1': 0.0, 'eval_runtime': 1.1164, 'eval_samples_per_second': 365.459, 'eval_steps_per_second': 3.583, 'epoch': 4.0}\n",
            "Progress: 19/2500\n",
            "Total Parameters=4387202, Trainable Parameters=1024\n",
            "{'eval_loss': 0.7519798278808594, 'eval_accuracy': 0.3161764705882353, 'eval_f1': 0.0, 'eval_runtime': 1.4711, 'eval_samples_per_second': 277.351, 'eval_steps_per_second': 2.719, 'epoch': 1.0}\n",
            "{'eval_loss': 0.7497408986091614, 'eval_accuracy': 0.3161764705882353, 'eval_f1': 0.0, 'eval_runtime': 1.814, 'eval_samples_per_second': 224.923, 'eval_steps_per_second': 2.205, 'epoch': 2.0}\n",
            "{'eval_loss': 0.7483837008476257, 'eval_accuracy': 0.3161764705882353, 'eval_f1': 0.0, 'eval_runtime': 1.1078, 'eval_samples_per_second': 368.314, 'eval_steps_per_second': 3.611, 'epoch': 3.0}\n",
            "{'eval_loss': 0.7478960752487183, 'eval_accuracy': 0.3161764705882353, 'eval_f1': 0.0, 'eval_runtime': 1.7999, 'eval_samples_per_second': 226.675, 'eval_steps_per_second': 2.222, 'epoch': 4.0}\n",
            "{'train_runtime': 10.4728, 'train_samples_per_second': 1400.967, 'train_steps_per_second': 11.076, 'train_loss': 0.7490791452342066, 'epoch': 4.0}\n",
            "{'eval_loss': 0.7478960752487183, 'eval_accuracy': 0.3161764705882353, 'eval_f1': 0.0, 'eval_runtime': 1.457, 'eval_samples_per_second': 280.026, 'eval_steps_per_second': 2.745, 'epoch': 4.0}\n",
            "Progress: 20/2500\n",
            "Total Parameters=4387202, Trainable Parameters=1024\n",
            "{'eval_loss': 0.7532194256782532, 'eval_accuracy': 0.3161764705882353, 'eval_f1': 0.0, 'eval_runtime': 1.4506, 'eval_samples_per_second': 281.261, 'eval_steps_per_second': 2.757, 'epoch': 1.0}\n",
            "{'eval_loss': 0.7518888711929321, 'eval_accuracy': 0.3161764705882353, 'eval_f1': 0.0, 'eval_runtime': 1.4444, 'eval_samples_per_second': 282.462, 'eval_steps_per_second': 2.769, 'epoch': 2.0}\n",
            "{'eval_loss': 0.7510896325111389, 'eval_accuracy': 0.3161764705882353, 'eval_f1': 0.0, 'eval_runtime': 1.4643, 'eval_samples_per_second': 278.627, 'eval_steps_per_second': 2.732, 'epoch': 3.0}\n",
            "{'eval_loss': 0.7508041262626648, 'eval_accuracy': 0.3161764705882353, 'eval_f1': 0.0, 'eval_runtime': 1.453, 'eval_samples_per_second': 280.791, 'eval_steps_per_second': 2.753, 'epoch': 4.0}\n",
            "{'train_runtime': 10.0366, 'train_samples_per_second': 1461.849, 'train_steps_per_second': 11.558, 'train_loss': 0.7511340174181708, 'epoch': 4.0}\n",
            "{'eval_loss': 0.7508041262626648, 'eval_accuracy': 0.3161764705882353, 'eval_f1': 0.0, 'eval_runtime': 1.1008, 'eval_samples_per_second': 370.645, 'eval_steps_per_second': 3.634, 'epoch': 4.0}\n",
            "Progress: 21/2500\n",
            "Total Parameters=4387202, Trainable Parameters=1024\n",
            "{'eval_loss': 0.620581328868866, 'eval_accuracy': 0.6887254901960784, 'eval_f1': 0.8135095447870778, 'eval_runtime': 1.6189, 'eval_samples_per_second': 252.016, 'eval_steps_per_second': 31.502, 'epoch': 1.0}\n",
            "{'loss': 0.6417, 'grad_norm': 0.7228365540504456, 'learning_rate': 0.00021830065359477123, 'epoch': 1.0893246187363834}\n",
            "{'eval_loss': 0.6148348450660706, 'eval_accuracy': 0.6911764705882353, 'eval_f1': 0.8141592920353983, 'eval_runtime': 1.6345, 'eval_samples_per_second': 249.614, 'eval_steps_per_second': 31.202, 'epoch': 2.0}\n",
            "{'loss': 0.6198, 'grad_norm': 0.7672398686408997, 'learning_rate': 0.00013660130718954247, 'epoch': 2.178649237472767}\n",
            "{'eval_loss': 0.6140172481536865, 'eval_accuracy': 0.6985294117647058, 'eval_f1': 0.8177777777777778, 'eval_runtime': 1.6154, 'eval_samples_per_second': 252.564, 'eval_steps_per_second': 31.57, 'epoch': 3.0}\n",
            "{'loss': 0.6106, 'grad_norm': 0.7074764370918274, 'learning_rate': 5.4901960784313716e-05, 'epoch': 3.2679738562091503}\n",
            "{'eval_loss': 0.6139556169509888, 'eval_accuracy': 0.696078431372549, 'eval_f1': 0.8154761904761905, 'eval_runtime': 1.2639, 'eval_samples_per_second': 322.801, 'eval_steps_per_second': 40.35, 'epoch': 4.0}\n",
            "{'train_runtime': 24.2136, 'train_samples_per_second': 605.94, 'train_steps_per_second': 75.825, 'train_loss': 0.6238495820488026, 'epoch': 4.0}\n",
            "{'eval_loss': 0.6139556169509888, 'eval_accuracy': 0.696078431372549, 'eval_f1': 0.8154761904761905, 'eval_runtime': 1.9538, 'eval_samples_per_second': 208.828, 'eval_steps_per_second': 26.104, 'epoch': 4.0}\n",
            "Progress: 22/2500\n",
            "Total Parameters=4387202, Trainable Parameters=1024\n",
            "{'eval_loss': 0.6381560564041138, 'eval_accuracy': 0.6813725490196079, 'eval_f1': 0.8036253776435045, 'eval_runtime': 1.6211, 'eval_samples_per_second': 251.685, 'eval_steps_per_second': 31.461, 'epoch': 1.0}\n",
            "{'loss': 0.6803, 'grad_norm': 0.706214189529419, 'learning_rate': 7.276688453159042e-05, 'epoch': 1.0893246187363834}\n",
            "{'eval_loss': 0.624259889125824, 'eval_accuracy': 0.6862745098039216, 'eval_f1': 0.8117647058823529, 'eval_runtime': 1.6595, 'eval_samples_per_second': 245.853, 'eval_steps_per_second': 30.732, 'epoch': 2.0}\n",
            "{'loss': 0.6306, 'grad_norm': 0.6401734948158264, 'learning_rate': 4.5533769063180834e-05, 'epoch': 2.178649237472767}\n",
            "{'eval_loss': 0.6227477788925171, 'eval_accuracy': 0.6862745098039216, 'eval_f1': 0.8117647058823529, 'eval_runtime': 1.2729, 'eval_samples_per_second': 320.518, 'eval_steps_per_second': 40.065, 'epoch': 3.0}\n",
            "{'loss': 0.6215, 'grad_norm': 0.8160832524299622, 'learning_rate': 1.8300653594771242e-05, 'epoch': 3.2679738562091503}\n",
            "{'eval_loss': 0.6221415400505066, 'eval_accuracy': 0.6862745098039216, 'eval_f1': 0.8117647058823529, 'eval_runtime': 1.6235, 'eval_samples_per_second': 251.308, 'eval_steps_per_second': 31.414, 'epoch': 4.0}\n",
            "{'train_runtime': 23.8699, 'train_samples_per_second': 614.665, 'train_steps_per_second': 76.917, 'train_loss': 0.6415040093050024, 'epoch': 4.0}\n",
            "{'eval_loss': 0.6221415400505066, 'eval_accuracy': 0.6862745098039216, 'eval_f1': 0.8117647058823529, 'eval_runtime': 1.272, 'eval_samples_per_second': 320.756, 'eval_steps_per_second': 40.095, 'epoch': 4.0}\n",
            "Progress: 23/2500\n",
            "Total Parameters=4387202, Trainable Parameters=1024\n",
            "{'eval_loss': 0.682157576084137, 'eval_accuracy': 0.5906862745098039, 'eval_f1': 0.6843100189035917, 'eval_runtime': 1.6153, 'eval_samples_per_second': 252.592, 'eval_steps_per_second': 31.574, 'epoch': 1.0}\n",
            "{'loss': 0.7126, 'grad_norm': 0.654570460319519, 'learning_rate': 3.638344226579521e-05, 'epoch': 1.0893246187363834}\n",
            "{'eval_loss': 0.647083580493927, 'eval_accuracy': 0.6813725490196079, 'eval_f1': 0.8012232415902141, 'eval_runtime': 2.0578, 'eval_samples_per_second': 198.267, 'eval_steps_per_second': 24.783, 'epoch': 2.0}\n",
            "{'loss': 0.6594, 'grad_norm': 0.9191074371337891, 'learning_rate': 2.2766884531590417e-05, 'epoch': 2.178649237472767}\n",
            "{'eval_loss': 0.6365296840667725, 'eval_accuracy': 0.6838235294117647, 'eval_f1': 0.8054298642533937, 'eval_runtime': 2.0664, 'eval_samples_per_second': 197.446, 'eval_steps_per_second': 24.681, 'epoch': 3.0}\n",
            "{'loss': 0.6381, 'grad_norm': 1.013505220413208, 'learning_rate': 9.150326797385621e-06, 'epoch': 3.2679738562091503}\n",
            "{'eval_loss': 0.6337307691574097, 'eval_accuracy': 0.6838235294117647, 'eval_f1': 0.8054298642533937, 'eval_runtime': 1.272, 'eval_samples_per_second': 320.75, 'eval_steps_per_second': 40.094, 'epoch': 4.0}\n",
            "{'train_runtime': 24.728, 'train_samples_per_second': 593.335, 'train_steps_per_second': 74.248, 'train_loss': 0.6648042799340873, 'epoch': 4.0}\n",
            "{'eval_loss': 0.6337307691574097, 'eval_accuracy': 0.6838235294117647, 'eval_f1': 0.8054298642533937, 'eval_runtime': 1.7133, 'eval_samples_per_second': 238.131, 'eval_steps_per_second': 29.766, 'epoch': 4.0}\n",
            "Progress: 24/2500\n",
            "Total Parameters=4387202, Trainable Parameters=1024\n",
            "{'eval_loss': 0.7131109833717346, 'eval_accuracy': 0.3627450980392157, 'eval_f1': 0.1875, 'eval_runtime': 1.2644, 'eval_samples_per_second': 322.672, 'eval_steps_per_second': 40.334, 'epoch': 1.0}\n",
            "{'loss': 0.7292, 'grad_norm': 0.7092527747154236, 'learning_rate': 2.1830065359477124e-05, 'epoch': 1.0893246187363834}\n",
            "{'eval_loss': 0.681006133556366, 'eval_accuracy': 0.6053921568627451, 'eval_f1': 0.6990654205607477, 'eval_runtime': 1.2659, 'eval_samples_per_second': 322.29, 'eval_steps_per_second': 40.286, 'epoch': 2.0}\n",
            "{'loss': 0.6908, 'grad_norm': 1.20039963722229, 'learning_rate': 1.366013071895425e-05, 'epoch': 2.178649237472767}\n",
            "{'eval_loss': 0.6656765937805176, 'eval_accuracy': 0.6519607843137255, 'eval_f1': 0.7656765676567657, 'eval_runtime': 1.9585, 'eval_samples_per_second': 208.327, 'eval_steps_per_second': 26.041, 'epoch': 3.0}\n",
            "{'loss': 0.6677, 'grad_norm': 0.753052294254303, 'learning_rate': 5.490196078431373e-06, 'epoch': 3.2679738562091503}\n",
            "{'eval_loss': 0.6615055799484253, 'eval_accuracy': 0.6617647058823529, 'eval_f1': 0.775974025974026, 'eval_runtime': 1.6435, 'eval_samples_per_second': 248.251, 'eval_steps_per_second': 31.031, 'epoch': 4.0}\n",
            "{'train_runtime': 23.7551, 'train_samples_per_second': 617.635, 'train_steps_per_second': 77.289, 'train_loss': 0.6904817635197525, 'epoch': 4.0}\n",
            "{'eval_loss': 0.6615055799484253, 'eval_accuracy': 0.6617647058823529, 'eval_f1': 0.775974025974026, 'eval_runtime': 1.6187, 'eval_samples_per_second': 252.061, 'eval_steps_per_second': 31.508, 'epoch': 4.0}\n",
            "Progress: 25/2500\n",
            "Total Parameters=4387202, Trainable Parameters=1024\n"
          ]
        }
      ]
    }
  ],
  "metadata": {
    "accelerator": "GPU",
    "colab": {
      "gpuType": "T4",
      "machine_shape": "hm",
      "provenance": [],
      "authorship_tag": "ABX9TyPRaijnEqq4U0ImW75Mfbqv",
      "include_colab_link": true
    },
    "kernelspec": {
      "display_name": "Python 3",
      "name": "python3"
    },
    "language_info": {
      "name": "python"
    },
    "widgets": {
      "application/vnd.jupyter.widget-state+json": {
        "b4c5540088334bc387f818e5c3ad85a8": {
          "model_module": "@jupyter-widgets/controls",
          "model_name": "HBoxModel",
          "model_module_version": "1.5.0",
          "state": {
            "_dom_classes": [],
            "_model_module": "@jupyter-widgets/controls",
            "_model_module_version": "1.5.0",
            "_model_name": "HBoxModel",
            "_view_count": null,
            "_view_module": "@jupyter-widgets/controls",
            "_view_module_version": "1.5.0",
            "_view_name": "HBoxView",
            "box_style": "",
            "children": [
              "IPY_MODEL_89fd1ae95c5a48c0b1939029d5902f2c",
              "IPY_MODEL_af666d52aca947e2913059bf51267a15",
              "IPY_MODEL_50968370ab394ef7971dd6b3a22b6c21"
            ],
            "layout": "IPY_MODEL_a5be4c3603e045cf85435bb2b1d784f6"
          }
        },
        "89fd1ae95c5a48c0b1939029d5902f2c": {
          "model_module": "@jupyter-widgets/controls",
          "model_name": "HTMLModel",
          "model_module_version": "1.5.0",
          "state": {
            "_dom_classes": [],
            "_model_module": "@jupyter-widgets/controls",
            "_model_module_version": "1.5.0",
            "_model_name": "HTMLModel",
            "_view_count": null,
            "_view_module": "@jupyter-widgets/controls",
            "_view_module_version": "1.5.0",
            "_view_name": "HTMLView",
            "description": "",
            "description_tooltip": null,
            "layout": "IPY_MODEL_cc34bf039304416dbdaba6f0a9c6defb",
            "placeholder": "​",
            "style": "IPY_MODEL_cbc8179242cf4d858cf8c4f3c3c55ae4",
            "value": "README.md: 100%"
          }
        },
        "af666d52aca947e2913059bf51267a15": {
          "model_module": "@jupyter-widgets/controls",
          "model_name": "FloatProgressModel",
          "model_module_version": "1.5.0",
          "state": {
            "_dom_classes": [],
            "_model_module": "@jupyter-widgets/controls",
            "_model_module_version": "1.5.0",
            "_model_name": "FloatProgressModel",
            "_view_count": null,
            "_view_module": "@jupyter-widgets/controls",
            "_view_module_version": "1.5.0",
            "_view_name": "ProgressView",
            "bar_style": "success",
            "description": "",
            "description_tooltip": null,
            "layout": "IPY_MODEL_31c2bca1ed1845a48afb4c85eef2c3a9",
            "max": 35296,
            "min": 0,
            "orientation": "horizontal",
            "style": "IPY_MODEL_46b7170428ae455e8633eb263535830a",
            "value": 35296
          }
        },
        "50968370ab394ef7971dd6b3a22b6c21": {
          "model_module": "@jupyter-widgets/controls",
          "model_name": "HTMLModel",
          "model_module_version": "1.5.0",
          "state": {
            "_dom_classes": [],
            "_model_module": "@jupyter-widgets/controls",
            "_model_module_version": "1.5.0",
            "_model_name": "HTMLModel",
            "_view_count": null,
            "_view_module": "@jupyter-widgets/controls",
            "_view_module_version": "1.5.0",
            "_view_name": "HTMLView",
            "description": "",
            "description_tooltip": null,
            "layout": "IPY_MODEL_da6e187808394d70acdebb71925bbb5a",
            "placeholder": "​",
            "style": "IPY_MODEL_0883b747a7a14edcada394ac4a59eb62",
            "value": " 35.3k/35.3k [00:00&lt;00:00, 1.99MB/s]"
          }
        },
        "a5be4c3603e045cf85435bb2b1d784f6": {
          "model_module": "@jupyter-widgets/base",
          "model_name": "LayoutModel",
          "model_module_version": "1.2.0",
          "state": {
            "_model_module": "@jupyter-widgets/base",
            "_model_module_version": "1.2.0",
            "_model_name": "LayoutModel",
            "_view_count": null,
            "_view_module": "@jupyter-widgets/base",
            "_view_module_version": "1.2.0",
            "_view_name": "LayoutView",
            "align_content": null,
            "align_items": null,
            "align_self": null,
            "border": null,
            "bottom": null,
            "display": null,
            "flex": null,
            "flex_flow": null,
            "grid_area": null,
            "grid_auto_columns": null,
            "grid_auto_flow": null,
            "grid_auto_rows": null,
            "grid_column": null,
            "grid_gap": null,
            "grid_row": null,
            "grid_template_areas": null,
            "grid_template_columns": null,
            "grid_template_rows": null,
            "height": null,
            "justify_content": null,
            "justify_items": null,
            "left": null,
            "margin": null,
            "max_height": null,
            "max_width": null,
            "min_height": null,
            "min_width": null,
            "object_fit": null,
            "object_position": null,
            "order": null,
            "overflow": null,
            "overflow_x": null,
            "overflow_y": null,
            "padding": null,
            "right": null,
            "top": null,
            "visibility": null,
            "width": null
          }
        },
        "cc34bf039304416dbdaba6f0a9c6defb": {
          "model_module": "@jupyter-widgets/base",
          "model_name": "LayoutModel",
          "model_module_version": "1.2.0",
          "state": {
            "_model_module": "@jupyter-widgets/base",
            "_model_module_version": "1.2.0",
            "_model_name": "LayoutModel",
            "_view_count": null,
            "_view_module": "@jupyter-widgets/base",
            "_view_module_version": "1.2.0",
            "_view_name": "LayoutView",
            "align_content": null,
            "align_items": null,
            "align_self": null,
            "border": null,
            "bottom": null,
            "display": null,
            "flex": null,
            "flex_flow": null,
            "grid_area": null,
            "grid_auto_columns": null,
            "grid_auto_flow": null,
            "grid_auto_rows": null,
            "grid_column": null,
            "grid_gap": null,
            "grid_row": null,
            "grid_template_areas": null,
            "grid_template_columns": null,
            "grid_template_rows": null,
            "height": null,
            "justify_content": null,
            "justify_items": null,
            "left": null,
            "margin": null,
            "max_height": null,
            "max_width": null,
            "min_height": null,
            "min_width": null,
            "object_fit": null,
            "object_position": null,
            "order": null,
            "overflow": null,
            "overflow_x": null,
            "overflow_y": null,
            "padding": null,
            "right": null,
            "top": null,
            "visibility": null,
            "width": null
          }
        },
        "cbc8179242cf4d858cf8c4f3c3c55ae4": {
          "model_module": "@jupyter-widgets/controls",
          "model_name": "DescriptionStyleModel",
          "model_module_version": "1.5.0",
          "state": {
            "_model_module": "@jupyter-widgets/controls",
            "_model_module_version": "1.5.0",
            "_model_name": "DescriptionStyleModel",
            "_view_count": null,
            "_view_module": "@jupyter-widgets/base",
            "_view_module_version": "1.2.0",
            "_view_name": "StyleView",
            "description_width": ""
          }
        },
        "31c2bca1ed1845a48afb4c85eef2c3a9": {
          "model_module": "@jupyter-widgets/base",
          "model_name": "LayoutModel",
          "model_module_version": "1.2.0",
          "state": {
            "_model_module": "@jupyter-widgets/base",
            "_model_module_version": "1.2.0",
            "_model_name": "LayoutModel",
            "_view_count": null,
            "_view_module": "@jupyter-widgets/base",
            "_view_module_version": "1.2.0",
            "_view_name": "LayoutView",
            "align_content": null,
            "align_items": null,
            "align_self": null,
            "border": null,
            "bottom": null,
            "display": null,
            "flex": null,
            "flex_flow": null,
            "grid_area": null,
            "grid_auto_columns": null,
            "grid_auto_flow": null,
            "grid_auto_rows": null,
            "grid_column": null,
            "grid_gap": null,
            "grid_row": null,
            "grid_template_areas": null,
            "grid_template_columns": null,
            "grid_template_rows": null,
            "height": null,
            "justify_content": null,
            "justify_items": null,
            "left": null,
            "margin": null,
            "max_height": null,
            "max_width": null,
            "min_height": null,
            "min_width": null,
            "object_fit": null,
            "object_position": null,
            "order": null,
            "overflow": null,
            "overflow_x": null,
            "overflow_y": null,
            "padding": null,
            "right": null,
            "top": null,
            "visibility": null,
            "width": null
          }
        },
        "46b7170428ae455e8633eb263535830a": {
          "model_module": "@jupyter-widgets/controls",
          "model_name": "ProgressStyleModel",
          "model_module_version": "1.5.0",
          "state": {
            "_model_module": "@jupyter-widgets/controls",
            "_model_module_version": "1.5.0",
            "_model_name": "ProgressStyleModel",
            "_view_count": null,
            "_view_module": "@jupyter-widgets/base",
            "_view_module_version": "1.2.0",
            "_view_name": "StyleView",
            "bar_color": null,
            "description_width": ""
          }
        },
        "da6e187808394d70acdebb71925bbb5a": {
          "model_module": "@jupyter-widgets/base",
          "model_name": "LayoutModel",
          "model_module_version": "1.2.0",
          "state": {
            "_model_module": "@jupyter-widgets/base",
            "_model_module_version": "1.2.0",
            "_model_name": "LayoutModel",
            "_view_count": null,
            "_view_module": "@jupyter-widgets/base",
            "_view_module_version": "1.2.0",
            "_view_name": "LayoutView",
            "align_content": null,
            "align_items": null,
            "align_self": null,
            "border": null,
            "bottom": null,
            "display": null,
            "flex": null,
            "flex_flow": null,
            "grid_area": null,
            "grid_auto_columns": null,
            "grid_auto_flow": null,
            "grid_auto_rows": null,
            "grid_column": null,
            "grid_gap": null,
            "grid_row": null,
            "grid_template_areas": null,
            "grid_template_columns": null,
            "grid_template_rows": null,
            "height": null,
            "justify_content": null,
            "justify_items": null,
            "left": null,
            "margin": null,
            "max_height": null,
            "max_width": null,
            "min_height": null,
            "min_width": null,
            "object_fit": null,
            "object_position": null,
            "order": null,
            "overflow": null,
            "overflow_x": null,
            "overflow_y": null,
            "padding": null,
            "right": null,
            "top": null,
            "visibility": null,
            "width": null
          }
        },
        "0883b747a7a14edcada394ac4a59eb62": {
          "model_module": "@jupyter-widgets/controls",
          "model_name": "DescriptionStyleModel",
          "model_module_version": "1.5.0",
          "state": {
            "_model_module": "@jupyter-widgets/controls",
            "_model_module_version": "1.5.0",
            "_model_name": "DescriptionStyleModel",
            "_view_count": null,
            "_view_module": "@jupyter-widgets/base",
            "_view_module_version": "1.2.0",
            "_view_name": "StyleView",
            "description_width": ""
          }
        },
        "06092b3c4cdc41a29ad263c5e997d331": {
          "model_module": "@jupyter-widgets/controls",
          "model_name": "HBoxModel",
          "model_module_version": "1.5.0",
          "state": {
            "_dom_classes": [],
            "_model_module": "@jupyter-widgets/controls",
            "_model_module_version": "1.5.0",
            "_model_name": "HBoxModel",
            "_view_count": null,
            "_view_module": "@jupyter-widgets/controls",
            "_view_module_version": "1.5.0",
            "_view_name": "HBoxView",
            "box_style": "",
            "children": [
              "IPY_MODEL_6bc8ffadf9e94c29bc0e6a5fc859bff2",
              "IPY_MODEL_d4fbf35fea2740879c8a097ee7312690",
              "IPY_MODEL_4a785155ce7248eb8e9b9c7a724400bf"
            ],
            "layout": "IPY_MODEL_ce440cc2f6154748be8d4eeea70f7d5b"
          }
        },
        "6bc8ffadf9e94c29bc0e6a5fc859bff2": {
          "model_module": "@jupyter-widgets/controls",
          "model_name": "HTMLModel",
          "model_module_version": "1.5.0",
          "state": {
            "_dom_classes": [],
            "_model_module": "@jupyter-widgets/controls",
            "_model_module_version": "1.5.0",
            "_model_name": "HTMLModel",
            "_view_count": null,
            "_view_module": "@jupyter-widgets/controls",
            "_view_module_version": "1.5.0",
            "_view_name": "HTMLView",
            "description": "",
            "description_tooltip": null,
            "layout": "IPY_MODEL_827818eb077a42d8a49cb3a54c4d2b5e",
            "placeholder": "​",
            "style": "IPY_MODEL_a762d2e1728a48d1880f14f2f1c8adce",
            "value": "train-00000-of-00001.parquet: 100%"
          }
        },
        "d4fbf35fea2740879c8a097ee7312690": {
          "model_module": "@jupyter-widgets/controls",
          "model_name": "FloatProgressModel",
          "model_module_version": "1.5.0",
          "state": {
            "_dom_classes": [],
            "_model_module": "@jupyter-widgets/controls",
            "_model_module_version": "1.5.0",
            "_model_name": "FloatProgressModel",
            "_view_count": null,
            "_view_module": "@jupyter-widgets/controls",
            "_view_module_version": "1.5.0",
            "_view_name": "ProgressView",
            "bar_style": "success",
            "description": "",
            "description_tooltip": null,
            "layout": "IPY_MODEL_fa6f4b9ce7a84da19488ad9b3f97bf6e",
            "max": 649281,
            "min": 0,
            "orientation": "horizontal",
            "style": "IPY_MODEL_088f6bf004e449d8b2667da873c60e5c",
            "value": 649281
          }
        },
        "4a785155ce7248eb8e9b9c7a724400bf": {
          "model_module": "@jupyter-widgets/controls",
          "model_name": "HTMLModel",
          "model_module_version": "1.5.0",
          "state": {
            "_dom_classes": [],
            "_model_module": "@jupyter-widgets/controls",
            "_model_module_version": "1.5.0",
            "_model_name": "HTMLModel",
            "_view_count": null,
            "_view_module": "@jupyter-widgets/controls",
            "_view_module_version": "1.5.0",
            "_view_name": "HTMLView",
            "description": "",
            "description_tooltip": null,
            "layout": "IPY_MODEL_f5439e880ce84925beda94e2e30e90f6",
            "placeholder": "​",
            "style": "IPY_MODEL_ae150bcb9b464ca1ac57d3e66ff8634c",
            "value": " 649k/649k [00:00&lt;00:00, 9.83MB/s]"
          }
        },
        "ce440cc2f6154748be8d4eeea70f7d5b": {
          "model_module": "@jupyter-widgets/base",
          "model_name": "LayoutModel",
          "model_module_version": "1.2.0",
          "state": {
            "_model_module": "@jupyter-widgets/base",
            "_model_module_version": "1.2.0",
            "_model_name": "LayoutModel",
            "_view_count": null,
            "_view_module": "@jupyter-widgets/base",
            "_view_module_version": "1.2.0",
            "_view_name": "LayoutView",
            "align_content": null,
            "align_items": null,
            "align_self": null,
            "border": null,
            "bottom": null,
            "display": null,
            "flex": null,
            "flex_flow": null,
            "grid_area": null,
            "grid_auto_columns": null,
            "grid_auto_flow": null,
            "grid_auto_rows": null,
            "grid_column": null,
            "grid_gap": null,
            "grid_row": null,
            "grid_template_areas": null,
            "grid_template_columns": null,
            "grid_template_rows": null,
            "height": null,
            "justify_content": null,
            "justify_items": null,
            "left": null,
            "margin": null,
            "max_height": null,
            "max_width": null,
            "min_height": null,
            "min_width": null,
            "object_fit": null,
            "object_position": null,
            "order": null,
            "overflow": null,
            "overflow_x": null,
            "overflow_y": null,
            "padding": null,
            "right": null,
            "top": null,
            "visibility": null,
            "width": null
          }
        },
        "827818eb077a42d8a49cb3a54c4d2b5e": {
          "model_module": "@jupyter-widgets/base",
          "model_name": "LayoutModel",
          "model_module_version": "1.2.0",
          "state": {
            "_model_module": "@jupyter-widgets/base",
            "_model_module_version": "1.2.0",
            "_model_name": "LayoutModel",
            "_view_count": null,
            "_view_module": "@jupyter-widgets/base",
            "_view_module_version": "1.2.0",
            "_view_name": "LayoutView",
            "align_content": null,
            "align_items": null,
            "align_self": null,
            "border": null,
            "bottom": null,
            "display": null,
            "flex": null,
            "flex_flow": null,
            "grid_area": null,
            "grid_auto_columns": null,
            "grid_auto_flow": null,
            "grid_auto_rows": null,
            "grid_column": null,
            "grid_gap": null,
            "grid_row": null,
            "grid_template_areas": null,
            "grid_template_columns": null,
            "grid_template_rows": null,
            "height": null,
            "justify_content": null,
            "justify_items": null,
            "left": null,
            "margin": null,
            "max_height": null,
            "max_width": null,
            "min_height": null,
            "min_width": null,
            "object_fit": null,
            "object_position": null,
            "order": null,
            "overflow": null,
            "overflow_x": null,
            "overflow_y": null,
            "padding": null,
            "right": null,
            "top": null,
            "visibility": null,
            "width": null
          }
        },
        "a762d2e1728a48d1880f14f2f1c8adce": {
          "model_module": "@jupyter-widgets/controls",
          "model_name": "DescriptionStyleModel",
          "model_module_version": "1.5.0",
          "state": {
            "_model_module": "@jupyter-widgets/controls",
            "_model_module_version": "1.5.0",
            "_model_name": "DescriptionStyleModel",
            "_view_count": null,
            "_view_module": "@jupyter-widgets/base",
            "_view_module_version": "1.2.0",
            "_view_name": "StyleView",
            "description_width": ""
          }
        },
        "fa6f4b9ce7a84da19488ad9b3f97bf6e": {
          "model_module": "@jupyter-widgets/base",
          "model_name": "LayoutModel",
          "model_module_version": "1.2.0",
          "state": {
            "_model_module": "@jupyter-widgets/base",
            "_model_module_version": "1.2.0",
            "_model_name": "LayoutModel",
            "_view_count": null,
            "_view_module": "@jupyter-widgets/base",
            "_view_module_version": "1.2.0",
            "_view_name": "LayoutView",
            "align_content": null,
            "align_items": null,
            "align_self": null,
            "border": null,
            "bottom": null,
            "display": null,
            "flex": null,
            "flex_flow": null,
            "grid_area": null,
            "grid_auto_columns": null,
            "grid_auto_flow": null,
            "grid_auto_rows": null,
            "grid_column": null,
            "grid_gap": null,
            "grid_row": null,
            "grid_template_areas": null,
            "grid_template_columns": null,
            "grid_template_rows": null,
            "height": null,
            "justify_content": null,
            "justify_items": null,
            "left": null,
            "margin": null,
            "max_height": null,
            "max_width": null,
            "min_height": null,
            "min_width": null,
            "object_fit": null,
            "object_position": null,
            "order": null,
            "overflow": null,
            "overflow_x": null,
            "overflow_y": null,
            "padding": null,
            "right": null,
            "top": null,
            "visibility": null,
            "width": null
          }
        },
        "088f6bf004e449d8b2667da873c60e5c": {
          "model_module": "@jupyter-widgets/controls",
          "model_name": "ProgressStyleModel",
          "model_module_version": "1.5.0",
          "state": {
            "_model_module": "@jupyter-widgets/controls",
            "_model_module_version": "1.5.0",
            "_model_name": "ProgressStyleModel",
            "_view_count": null,
            "_view_module": "@jupyter-widgets/base",
            "_view_module_version": "1.2.0",
            "_view_name": "StyleView",
            "bar_color": null,
            "description_width": ""
          }
        },
        "f5439e880ce84925beda94e2e30e90f6": {
          "model_module": "@jupyter-widgets/base",
          "model_name": "LayoutModel",
          "model_module_version": "1.2.0",
          "state": {
            "_model_module": "@jupyter-widgets/base",
            "_model_module_version": "1.2.0",
            "_model_name": "LayoutModel",
            "_view_count": null,
            "_view_module": "@jupyter-widgets/base",
            "_view_module_version": "1.2.0",
            "_view_name": "LayoutView",
            "align_content": null,
            "align_items": null,
            "align_self": null,
            "border": null,
            "bottom": null,
            "display": null,
            "flex": null,
            "flex_flow": null,
            "grid_area": null,
            "grid_auto_columns": null,
            "grid_auto_flow": null,
            "grid_auto_rows": null,
            "grid_column": null,
            "grid_gap": null,
            "grid_row": null,
            "grid_template_areas": null,
            "grid_template_columns": null,
            "grid_template_rows": null,
            "height": null,
            "justify_content": null,
            "justify_items": null,
            "left": null,
            "margin": null,
            "max_height": null,
            "max_width": null,
            "min_height": null,
            "min_width": null,
            "object_fit": null,
            "object_position": null,
            "order": null,
            "overflow": null,
            "overflow_x": null,
            "overflow_y": null,
            "padding": null,
            "right": null,
            "top": null,
            "visibility": null,
            "width": null
          }
        },
        "ae150bcb9b464ca1ac57d3e66ff8634c": {
          "model_module": "@jupyter-widgets/controls",
          "model_name": "DescriptionStyleModel",
          "model_module_version": "1.5.0",
          "state": {
            "_model_module": "@jupyter-widgets/controls",
            "_model_module_version": "1.5.0",
            "_model_name": "DescriptionStyleModel",
            "_view_count": null,
            "_view_module": "@jupyter-widgets/base",
            "_view_module_version": "1.2.0",
            "_view_name": "StyleView",
            "description_width": ""
          }
        },
        "57b266c40de149ccaa3555960672764e": {
          "model_module": "@jupyter-widgets/controls",
          "model_name": "HBoxModel",
          "model_module_version": "1.5.0",
          "state": {
            "_dom_classes": [],
            "_model_module": "@jupyter-widgets/controls",
            "_model_module_version": "1.5.0",
            "_model_name": "HBoxModel",
            "_view_count": null,
            "_view_module": "@jupyter-widgets/controls",
            "_view_module_version": "1.5.0",
            "_view_name": "HBoxView",
            "box_style": "",
            "children": [
              "IPY_MODEL_b650d7f11ef14a32bc943d082e93d8bc",
              "IPY_MODEL_c61329386eaf46d9a6c220561e1f90e1",
              "IPY_MODEL_d38114df34ad496388a7b29f3f84d0bf"
            ],
            "layout": "IPY_MODEL_672aff019f0d43c6adf3c188c84187e5"
          }
        },
        "b650d7f11ef14a32bc943d082e93d8bc": {
          "model_module": "@jupyter-widgets/controls",
          "model_name": "HTMLModel",
          "model_module_version": "1.5.0",
          "state": {
            "_dom_classes": [],
            "_model_module": "@jupyter-widgets/controls",
            "_model_module_version": "1.5.0",
            "_model_name": "HTMLModel",
            "_view_count": null,
            "_view_module": "@jupyter-widgets/controls",
            "_view_module_version": "1.5.0",
            "_view_name": "HTMLView",
            "description": "",
            "description_tooltip": null,
            "layout": "IPY_MODEL_1d2c8280b7d946e9aa76f512c1805d64",
            "placeholder": "​",
            "style": "IPY_MODEL_113bc01e93104c8eb9bc3035ef27e168",
            "value": "validation-00000-of-00001.parquet: 100%"
          }
        },
        "c61329386eaf46d9a6c220561e1f90e1": {
          "model_module": "@jupyter-widgets/controls",
          "model_name": "FloatProgressModel",
          "model_module_version": "1.5.0",
          "state": {
            "_dom_classes": [],
            "_model_module": "@jupyter-widgets/controls",
            "_model_module_version": "1.5.0",
            "_model_name": "FloatProgressModel",
            "_view_count": null,
            "_view_module": "@jupyter-widgets/controls",
            "_view_module_version": "1.5.0",
            "_view_name": "ProgressView",
            "bar_style": "success",
            "description": "",
            "description_tooltip": null,
            "layout": "IPY_MODEL_f14e7f08375542f3b4bcd38f833effd5",
            "max": 75678,
            "min": 0,
            "orientation": "horizontal",
            "style": "IPY_MODEL_b5760b466d7e4784aa30a2d70f564ebb",
            "value": 75678
          }
        },
        "d38114df34ad496388a7b29f3f84d0bf": {
          "model_module": "@jupyter-widgets/controls",
          "model_name": "HTMLModel",
          "model_module_version": "1.5.0",
          "state": {
            "_dom_classes": [],
            "_model_module": "@jupyter-widgets/controls",
            "_model_module_version": "1.5.0",
            "_model_name": "HTMLModel",
            "_view_count": null,
            "_view_module": "@jupyter-widgets/controls",
            "_view_module_version": "1.5.0",
            "_view_name": "HTMLView",
            "description": "",
            "description_tooltip": null,
            "layout": "IPY_MODEL_16021e0c3efb460fa261896e902df4c1",
            "placeholder": "​",
            "style": "IPY_MODEL_781d8bbad24f4bf986052a26195a3c3c",
            "value": " 75.7k/75.7k [00:00&lt;00:00, 4.32MB/s]"
          }
        },
        "672aff019f0d43c6adf3c188c84187e5": {
          "model_module": "@jupyter-widgets/base",
          "model_name": "LayoutModel",
          "model_module_version": "1.2.0",
          "state": {
            "_model_module": "@jupyter-widgets/base",
            "_model_module_version": "1.2.0",
            "_model_name": "LayoutModel",
            "_view_count": null,
            "_view_module": "@jupyter-widgets/base",
            "_view_module_version": "1.2.0",
            "_view_name": "LayoutView",
            "align_content": null,
            "align_items": null,
            "align_self": null,
            "border": null,
            "bottom": null,
            "display": null,
            "flex": null,
            "flex_flow": null,
            "grid_area": null,
            "grid_auto_columns": null,
            "grid_auto_flow": null,
            "grid_auto_rows": null,
            "grid_column": null,
            "grid_gap": null,
            "grid_row": null,
            "grid_template_areas": null,
            "grid_template_columns": null,
            "grid_template_rows": null,
            "height": null,
            "justify_content": null,
            "justify_items": null,
            "left": null,
            "margin": null,
            "max_height": null,
            "max_width": null,
            "min_height": null,
            "min_width": null,
            "object_fit": null,
            "object_position": null,
            "order": null,
            "overflow": null,
            "overflow_x": null,
            "overflow_y": null,
            "padding": null,
            "right": null,
            "top": null,
            "visibility": null,
            "width": null
          }
        },
        "1d2c8280b7d946e9aa76f512c1805d64": {
          "model_module": "@jupyter-widgets/base",
          "model_name": "LayoutModel",
          "model_module_version": "1.2.0",
          "state": {
            "_model_module": "@jupyter-widgets/base",
            "_model_module_version": "1.2.0",
            "_model_name": "LayoutModel",
            "_view_count": null,
            "_view_module": "@jupyter-widgets/base",
            "_view_module_version": "1.2.0",
            "_view_name": "LayoutView",
            "align_content": null,
            "align_items": null,
            "align_self": null,
            "border": null,
            "bottom": null,
            "display": null,
            "flex": null,
            "flex_flow": null,
            "grid_area": null,
            "grid_auto_columns": null,
            "grid_auto_flow": null,
            "grid_auto_rows": null,
            "grid_column": null,
            "grid_gap": null,
            "grid_row": null,
            "grid_template_areas": null,
            "grid_template_columns": null,
            "grid_template_rows": null,
            "height": null,
            "justify_content": null,
            "justify_items": null,
            "left": null,
            "margin": null,
            "max_height": null,
            "max_width": null,
            "min_height": null,
            "min_width": null,
            "object_fit": null,
            "object_position": null,
            "order": null,
            "overflow": null,
            "overflow_x": null,
            "overflow_y": null,
            "padding": null,
            "right": null,
            "top": null,
            "visibility": null,
            "width": null
          }
        },
        "113bc01e93104c8eb9bc3035ef27e168": {
          "model_module": "@jupyter-widgets/controls",
          "model_name": "DescriptionStyleModel",
          "model_module_version": "1.5.0",
          "state": {
            "_model_module": "@jupyter-widgets/controls",
            "_model_module_version": "1.5.0",
            "_model_name": "DescriptionStyleModel",
            "_view_count": null,
            "_view_module": "@jupyter-widgets/base",
            "_view_module_version": "1.2.0",
            "_view_name": "StyleView",
            "description_width": ""
          }
        },
        "f14e7f08375542f3b4bcd38f833effd5": {
          "model_module": "@jupyter-widgets/base",
          "model_name": "LayoutModel",
          "model_module_version": "1.2.0",
          "state": {
            "_model_module": "@jupyter-widgets/base",
            "_model_module_version": "1.2.0",
            "_model_name": "LayoutModel",
            "_view_count": null,
            "_view_module": "@jupyter-widgets/base",
            "_view_module_version": "1.2.0",
            "_view_name": "LayoutView",
            "align_content": null,
            "align_items": null,
            "align_self": null,
            "border": null,
            "bottom": null,
            "display": null,
            "flex": null,
            "flex_flow": null,
            "grid_area": null,
            "grid_auto_columns": null,
            "grid_auto_flow": null,
            "grid_auto_rows": null,
            "grid_column": null,
            "grid_gap": null,
            "grid_row": null,
            "grid_template_areas": null,
            "grid_template_columns": null,
            "grid_template_rows": null,
            "height": null,
            "justify_content": null,
            "justify_items": null,
            "left": null,
            "margin": null,
            "max_height": null,
            "max_width": null,
            "min_height": null,
            "min_width": null,
            "object_fit": null,
            "object_position": null,
            "order": null,
            "overflow": null,
            "overflow_x": null,
            "overflow_y": null,
            "padding": null,
            "right": null,
            "top": null,
            "visibility": null,
            "width": null
          }
        },
        "b5760b466d7e4784aa30a2d70f564ebb": {
          "model_module": "@jupyter-widgets/controls",
          "model_name": "ProgressStyleModel",
          "model_module_version": "1.5.0",
          "state": {
            "_model_module": "@jupyter-widgets/controls",
            "_model_module_version": "1.5.0",
            "_model_name": "ProgressStyleModel",
            "_view_count": null,
            "_view_module": "@jupyter-widgets/base",
            "_view_module_version": "1.2.0",
            "_view_name": "StyleView",
            "bar_color": null,
            "description_width": ""
          }
        },
        "16021e0c3efb460fa261896e902df4c1": {
          "model_module": "@jupyter-widgets/base",
          "model_name": "LayoutModel",
          "model_module_version": "1.2.0",
          "state": {
            "_model_module": "@jupyter-widgets/base",
            "_model_module_version": "1.2.0",
            "_model_name": "LayoutModel",
            "_view_count": null,
            "_view_module": "@jupyter-widgets/base",
            "_view_module_version": "1.2.0",
            "_view_name": "LayoutView",
            "align_content": null,
            "align_items": null,
            "align_self": null,
            "border": null,
            "bottom": null,
            "display": null,
            "flex": null,
            "flex_flow": null,
            "grid_area": null,
            "grid_auto_columns": null,
            "grid_auto_flow": null,
            "grid_auto_rows": null,
            "grid_column": null,
            "grid_gap": null,
            "grid_row": null,
            "grid_template_areas": null,
            "grid_template_columns": null,
            "grid_template_rows": null,
            "height": null,
            "justify_content": null,
            "justify_items": null,
            "left": null,
            "margin": null,
            "max_height": null,
            "max_width": null,
            "min_height": null,
            "min_width": null,
            "object_fit": null,
            "object_position": null,
            "order": null,
            "overflow": null,
            "overflow_x": null,
            "overflow_y": null,
            "padding": null,
            "right": null,
            "top": null,
            "visibility": null,
            "width": null
          }
        },
        "781d8bbad24f4bf986052a26195a3c3c": {
          "model_module": "@jupyter-widgets/controls",
          "model_name": "DescriptionStyleModel",
          "model_module_version": "1.5.0",
          "state": {
            "_model_module": "@jupyter-widgets/controls",
            "_model_module_version": "1.5.0",
            "_model_name": "DescriptionStyleModel",
            "_view_count": null,
            "_view_module": "@jupyter-widgets/base",
            "_view_module_version": "1.2.0",
            "_view_name": "StyleView",
            "description_width": ""
          }
        },
        "1b93b28db208461eb152075353d85cb5": {
          "model_module": "@jupyter-widgets/controls",
          "model_name": "HBoxModel",
          "model_module_version": "1.5.0",
          "state": {
            "_dom_classes": [],
            "_model_module": "@jupyter-widgets/controls",
            "_model_module_version": "1.5.0",
            "_model_name": "HBoxModel",
            "_view_count": null,
            "_view_module": "@jupyter-widgets/controls",
            "_view_module_version": "1.5.0",
            "_view_name": "HBoxView",
            "box_style": "",
            "children": [
              "IPY_MODEL_e948a7d88d8e4f42ba8856c2975b0c55",
              "IPY_MODEL_1ea6e81ed0e4498b9cb7368d6f745bad",
              "IPY_MODEL_2a6c24e7cfbf429ba49745bcc9fbde40"
            ],
            "layout": "IPY_MODEL_b8a183c4b4bc4096812dc226ab35fba2"
          }
        },
        "e948a7d88d8e4f42ba8856c2975b0c55": {
          "model_module": "@jupyter-widgets/controls",
          "model_name": "HTMLModel",
          "model_module_version": "1.5.0",
          "state": {
            "_dom_classes": [],
            "_model_module": "@jupyter-widgets/controls",
            "_model_module_version": "1.5.0",
            "_model_name": "HTMLModel",
            "_view_count": null,
            "_view_module": "@jupyter-widgets/controls",
            "_view_module_version": "1.5.0",
            "_view_name": "HTMLView",
            "description": "",
            "description_tooltip": null,
            "layout": "IPY_MODEL_369ee1a861c7454b8076f0dcd57b8c23",
            "placeholder": "​",
            "style": "IPY_MODEL_bd731bfcc3994ab591416afb470aada8",
            "value": "test-00000-of-00001.parquet: 100%"
          }
        },
        "1ea6e81ed0e4498b9cb7368d6f745bad": {
          "model_module": "@jupyter-widgets/controls",
          "model_name": "FloatProgressModel",
          "model_module_version": "1.5.0",
          "state": {
            "_dom_classes": [],
            "_model_module": "@jupyter-widgets/controls",
            "_model_module_version": "1.5.0",
            "_model_name": "FloatProgressModel",
            "_view_count": null,
            "_view_module": "@jupyter-widgets/controls",
            "_view_module_version": "1.5.0",
            "_view_name": "ProgressView",
            "bar_style": "success",
            "description": "",
            "description_tooltip": null,
            "layout": "IPY_MODEL_a0cf0d10ae3d4447a27b4bec0fb9a864",
            "max": 308441,
            "min": 0,
            "orientation": "horizontal",
            "style": "IPY_MODEL_cfdb00743e124d39b7a8d5be7fffeee1",
            "value": 308441
          }
        },
        "2a6c24e7cfbf429ba49745bcc9fbde40": {
          "model_module": "@jupyter-widgets/controls",
          "model_name": "HTMLModel",
          "model_module_version": "1.5.0",
          "state": {
            "_dom_classes": [],
            "_model_module": "@jupyter-widgets/controls",
            "_model_module_version": "1.5.0",
            "_model_name": "HTMLModel",
            "_view_count": null,
            "_view_module": "@jupyter-widgets/controls",
            "_view_module_version": "1.5.0",
            "_view_name": "HTMLView",
            "description": "",
            "description_tooltip": null,
            "layout": "IPY_MODEL_f2e6c66d92944e9989316256f04f9a9e",
            "placeholder": "​",
            "style": "IPY_MODEL_a66608c21b5443cfb672fa81b4a11e50",
            "value": " 308k/308k [00:00&lt;00:00, 22.2MB/s]"
          }
        },
        "b8a183c4b4bc4096812dc226ab35fba2": {
          "model_module": "@jupyter-widgets/base",
          "model_name": "LayoutModel",
          "model_module_version": "1.2.0",
          "state": {
            "_model_module": "@jupyter-widgets/base",
            "_model_module_version": "1.2.0",
            "_model_name": "LayoutModel",
            "_view_count": null,
            "_view_module": "@jupyter-widgets/base",
            "_view_module_version": "1.2.0",
            "_view_name": "LayoutView",
            "align_content": null,
            "align_items": null,
            "align_self": null,
            "border": null,
            "bottom": null,
            "display": null,
            "flex": null,
            "flex_flow": null,
            "grid_area": null,
            "grid_auto_columns": null,
            "grid_auto_flow": null,
            "grid_auto_rows": null,
            "grid_column": null,
            "grid_gap": null,
            "grid_row": null,
            "grid_template_areas": null,
            "grid_template_columns": null,
            "grid_template_rows": null,
            "height": null,
            "justify_content": null,
            "justify_items": null,
            "left": null,
            "margin": null,
            "max_height": null,
            "max_width": null,
            "min_height": null,
            "min_width": null,
            "object_fit": null,
            "object_position": null,
            "order": null,
            "overflow": null,
            "overflow_x": null,
            "overflow_y": null,
            "padding": null,
            "right": null,
            "top": null,
            "visibility": null,
            "width": null
          }
        },
        "369ee1a861c7454b8076f0dcd57b8c23": {
          "model_module": "@jupyter-widgets/base",
          "model_name": "LayoutModel",
          "model_module_version": "1.2.0",
          "state": {
            "_model_module": "@jupyter-widgets/base",
            "_model_module_version": "1.2.0",
            "_model_name": "LayoutModel",
            "_view_count": null,
            "_view_module": "@jupyter-widgets/base",
            "_view_module_version": "1.2.0",
            "_view_name": "LayoutView",
            "align_content": null,
            "align_items": null,
            "align_self": null,
            "border": null,
            "bottom": null,
            "display": null,
            "flex": null,
            "flex_flow": null,
            "grid_area": null,
            "grid_auto_columns": null,
            "grid_auto_flow": null,
            "grid_auto_rows": null,
            "grid_column": null,
            "grid_gap": null,
            "grid_row": null,
            "grid_template_areas": null,
            "grid_template_columns": null,
            "grid_template_rows": null,
            "height": null,
            "justify_content": null,
            "justify_items": null,
            "left": null,
            "margin": null,
            "max_height": null,
            "max_width": null,
            "min_height": null,
            "min_width": null,
            "object_fit": null,
            "object_position": null,
            "order": null,
            "overflow": null,
            "overflow_x": null,
            "overflow_y": null,
            "padding": null,
            "right": null,
            "top": null,
            "visibility": null,
            "width": null
          }
        },
        "bd731bfcc3994ab591416afb470aada8": {
          "model_module": "@jupyter-widgets/controls",
          "model_name": "DescriptionStyleModel",
          "model_module_version": "1.5.0",
          "state": {
            "_model_module": "@jupyter-widgets/controls",
            "_model_module_version": "1.5.0",
            "_model_name": "DescriptionStyleModel",
            "_view_count": null,
            "_view_module": "@jupyter-widgets/base",
            "_view_module_version": "1.2.0",
            "_view_name": "StyleView",
            "description_width": ""
          }
        },
        "a0cf0d10ae3d4447a27b4bec0fb9a864": {
          "model_module": "@jupyter-widgets/base",
          "model_name": "LayoutModel",
          "model_module_version": "1.2.0",
          "state": {
            "_model_module": "@jupyter-widgets/base",
            "_model_module_version": "1.2.0",
            "_model_name": "LayoutModel",
            "_view_count": null,
            "_view_module": "@jupyter-widgets/base",
            "_view_module_version": "1.2.0",
            "_view_name": "LayoutView",
            "align_content": null,
            "align_items": null,
            "align_self": null,
            "border": null,
            "bottom": null,
            "display": null,
            "flex": null,
            "flex_flow": null,
            "grid_area": null,
            "grid_auto_columns": null,
            "grid_auto_flow": null,
            "grid_auto_rows": null,
            "grid_column": null,
            "grid_gap": null,
            "grid_row": null,
            "grid_template_areas": null,
            "grid_template_columns": null,
            "grid_template_rows": null,
            "height": null,
            "justify_content": null,
            "justify_items": null,
            "left": null,
            "margin": null,
            "max_height": null,
            "max_width": null,
            "min_height": null,
            "min_width": null,
            "object_fit": null,
            "object_position": null,
            "order": null,
            "overflow": null,
            "overflow_x": null,
            "overflow_y": null,
            "padding": null,
            "right": null,
            "top": null,
            "visibility": null,
            "width": null
          }
        },
        "cfdb00743e124d39b7a8d5be7fffeee1": {
          "model_module": "@jupyter-widgets/controls",
          "model_name": "ProgressStyleModel",
          "model_module_version": "1.5.0",
          "state": {
            "_model_module": "@jupyter-widgets/controls",
            "_model_module_version": "1.5.0",
            "_model_name": "ProgressStyleModel",
            "_view_count": null,
            "_view_module": "@jupyter-widgets/base",
            "_view_module_version": "1.2.0",
            "_view_name": "StyleView",
            "bar_color": null,
            "description_width": ""
          }
        },
        "f2e6c66d92944e9989316256f04f9a9e": {
          "model_module": "@jupyter-widgets/base",
          "model_name": "LayoutModel",
          "model_module_version": "1.2.0",
          "state": {
            "_model_module": "@jupyter-widgets/base",
            "_model_module_version": "1.2.0",
            "_model_name": "LayoutModel",
            "_view_count": null,
            "_view_module": "@jupyter-widgets/base",
            "_view_module_version": "1.2.0",
            "_view_name": "LayoutView",
            "align_content": null,
            "align_items": null,
            "align_self": null,
            "border": null,
            "bottom": null,
            "display": null,
            "flex": null,
            "flex_flow": null,
            "grid_area": null,
            "grid_auto_columns": null,
            "grid_auto_flow": null,
            "grid_auto_rows": null,
            "grid_column": null,
            "grid_gap": null,
            "grid_row": null,
            "grid_template_areas": null,
            "grid_template_columns": null,
            "grid_template_rows": null,
            "height": null,
            "justify_content": null,
            "justify_items": null,
            "left": null,
            "margin": null,
            "max_height": null,
            "max_width": null,
            "min_height": null,
            "min_width": null,
            "object_fit": null,
            "object_position": null,
            "order": null,
            "overflow": null,
            "overflow_x": null,
            "overflow_y": null,
            "padding": null,
            "right": null,
            "top": null,
            "visibility": null,
            "width": null
          }
        },
        "a66608c21b5443cfb672fa81b4a11e50": {
          "model_module": "@jupyter-widgets/controls",
          "model_name": "DescriptionStyleModel",
          "model_module_version": "1.5.0",
          "state": {
            "_model_module": "@jupyter-widgets/controls",
            "_model_module_version": "1.5.0",
            "_model_name": "DescriptionStyleModel",
            "_view_count": null,
            "_view_module": "@jupyter-widgets/base",
            "_view_module_version": "1.2.0",
            "_view_name": "StyleView",
            "description_width": ""
          }
        },
        "686327c623154e58af8a91ea7f5f2797": {
          "model_module": "@jupyter-widgets/controls",
          "model_name": "HBoxModel",
          "model_module_version": "1.5.0",
          "state": {
            "_dom_classes": [],
            "_model_module": "@jupyter-widgets/controls",
            "_model_module_version": "1.5.0",
            "_model_name": "HBoxModel",
            "_view_count": null,
            "_view_module": "@jupyter-widgets/controls",
            "_view_module_version": "1.5.0",
            "_view_name": "HBoxView",
            "box_style": "",
            "children": [
              "IPY_MODEL_00482ee32bbd472d9a2e9cad52eb11f5",
              "IPY_MODEL_07cec35edc934cfab7bbfee41dd5a2eb",
              "IPY_MODEL_8e8ce7b65832434388b6ceffe6e75402"
            ],
            "layout": "IPY_MODEL_bc448e27425f45e883173b337f954940"
          }
        },
        "00482ee32bbd472d9a2e9cad52eb11f5": {
          "model_module": "@jupyter-widgets/controls",
          "model_name": "HTMLModel",
          "model_module_version": "1.5.0",
          "state": {
            "_dom_classes": [],
            "_model_module": "@jupyter-widgets/controls",
            "_model_module_version": "1.5.0",
            "_model_name": "HTMLModel",
            "_view_count": null,
            "_view_module": "@jupyter-widgets/controls",
            "_view_module_version": "1.5.0",
            "_view_name": "HTMLView",
            "description": "",
            "description_tooltip": null,
            "layout": "IPY_MODEL_64c10a30da584af6a67a80f0e27b1881",
            "placeholder": "​",
            "style": "IPY_MODEL_48de4ac9ead04bc0840716fff19e6cb4",
            "value": "Generating train split: 100%"
          }
        },
        "07cec35edc934cfab7bbfee41dd5a2eb": {
          "model_module": "@jupyter-widgets/controls",
          "model_name": "FloatProgressModel",
          "model_module_version": "1.5.0",
          "state": {
            "_dom_classes": [],
            "_model_module": "@jupyter-widgets/controls",
            "_model_module_version": "1.5.0",
            "_model_name": "FloatProgressModel",
            "_view_count": null,
            "_view_module": "@jupyter-widgets/controls",
            "_view_module_version": "1.5.0",
            "_view_name": "ProgressView",
            "bar_style": "success",
            "description": "",
            "description_tooltip": null,
            "layout": "IPY_MODEL_1e226b3be4964ea68f0e926d21541509",
            "max": 3668,
            "min": 0,
            "orientation": "horizontal",
            "style": "IPY_MODEL_6716ab6e46754428be94c49de4162fb1",
            "value": 3668
          }
        },
        "8e8ce7b65832434388b6ceffe6e75402": {
          "model_module": "@jupyter-widgets/controls",
          "model_name": "HTMLModel",
          "model_module_version": "1.5.0",
          "state": {
            "_dom_classes": [],
            "_model_module": "@jupyter-widgets/controls",
            "_model_module_version": "1.5.0",
            "_model_name": "HTMLModel",
            "_view_count": null,
            "_view_module": "@jupyter-widgets/controls",
            "_view_module_version": "1.5.0",
            "_view_name": "HTMLView",
            "description": "",
            "description_tooltip": null,
            "layout": "IPY_MODEL_789d853887a84ef791a770e97bfcc91f",
            "placeholder": "​",
            "style": "IPY_MODEL_00c632d577ee463d914df148ee542332",
            "value": " 3668/3668 [00:00&lt;00:00, 78906.45 examples/s]"
          }
        },
        "bc448e27425f45e883173b337f954940": {
          "model_module": "@jupyter-widgets/base",
          "model_name": "LayoutModel",
          "model_module_version": "1.2.0",
          "state": {
            "_model_module": "@jupyter-widgets/base",
            "_model_module_version": "1.2.0",
            "_model_name": "LayoutModel",
            "_view_count": null,
            "_view_module": "@jupyter-widgets/base",
            "_view_module_version": "1.2.0",
            "_view_name": "LayoutView",
            "align_content": null,
            "align_items": null,
            "align_self": null,
            "border": null,
            "bottom": null,
            "display": null,
            "flex": null,
            "flex_flow": null,
            "grid_area": null,
            "grid_auto_columns": null,
            "grid_auto_flow": null,
            "grid_auto_rows": null,
            "grid_column": null,
            "grid_gap": null,
            "grid_row": null,
            "grid_template_areas": null,
            "grid_template_columns": null,
            "grid_template_rows": null,
            "height": null,
            "justify_content": null,
            "justify_items": null,
            "left": null,
            "margin": null,
            "max_height": null,
            "max_width": null,
            "min_height": null,
            "min_width": null,
            "object_fit": null,
            "object_position": null,
            "order": null,
            "overflow": null,
            "overflow_x": null,
            "overflow_y": null,
            "padding": null,
            "right": null,
            "top": null,
            "visibility": null,
            "width": null
          }
        },
        "64c10a30da584af6a67a80f0e27b1881": {
          "model_module": "@jupyter-widgets/base",
          "model_name": "LayoutModel",
          "model_module_version": "1.2.0",
          "state": {
            "_model_module": "@jupyter-widgets/base",
            "_model_module_version": "1.2.0",
            "_model_name": "LayoutModel",
            "_view_count": null,
            "_view_module": "@jupyter-widgets/base",
            "_view_module_version": "1.2.0",
            "_view_name": "LayoutView",
            "align_content": null,
            "align_items": null,
            "align_self": null,
            "border": null,
            "bottom": null,
            "display": null,
            "flex": null,
            "flex_flow": null,
            "grid_area": null,
            "grid_auto_columns": null,
            "grid_auto_flow": null,
            "grid_auto_rows": null,
            "grid_column": null,
            "grid_gap": null,
            "grid_row": null,
            "grid_template_areas": null,
            "grid_template_columns": null,
            "grid_template_rows": null,
            "height": null,
            "justify_content": null,
            "justify_items": null,
            "left": null,
            "margin": null,
            "max_height": null,
            "max_width": null,
            "min_height": null,
            "min_width": null,
            "object_fit": null,
            "object_position": null,
            "order": null,
            "overflow": null,
            "overflow_x": null,
            "overflow_y": null,
            "padding": null,
            "right": null,
            "top": null,
            "visibility": null,
            "width": null
          }
        },
        "48de4ac9ead04bc0840716fff19e6cb4": {
          "model_module": "@jupyter-widgets/controls",
          "model_name": "DescriptionStyleModel",
          "model_module_version": "1.5.0",
          "state": {
            "_model_module": "@jupyter-widgets/controls",
            "_model_module_version": "1.5.0",
            "_model_name": "DescriptionStyleModel",
            "_view_count": null,
            "_view_module": "@jupyter-widgets/base",
            "_view_module_version": "1.2.0",
            "_view_name": "StyleView",
            "description_width": ""
          }
        },
        "1e226b3be4964ea68f0e926d21541509": {
          "model_module": "@jupyter-widgets/base",
          "model_name": "LayoutModel",
          "model_module_version": "1.2.0",
          "state": {
            "_model_module": "@jupyter-widgets/base",
            "_model_module_version": "1.2.0",
            "_model_name": "LayoutModel",
            "_view_count": null,
            "_view_module": "@jupyter-widgets/base",
            "_view_module_version": "1.2.0",
            "_view_name": "LayoutView",
            "align_content": null,
            "align_items": null,
            "align_self": null,
            "border": null,
            "bottom": null,
            "display": null,
            "flex": null,
            "flex_flow": null,
            "grid_area": null,
            "grid_auto_columns": null,
            "grid_auto_flow": null,
            "grid_auto_rows": null,
            "grid_column": null,
            "grid_gap": null,
            "grid_row": null,
            "grid_template_areas": null,
            "grid_template_columns": null,
            "grid_template_rows": null,
            "height": null,
            "justify_content": null,
            "justify_items": null,
            "left": null,
            "margin": null,
            "max_height": null,
            "max_width": null,
            "min_height": null,
            "min_width": null,
            "object_fit": null,
            "object_position": null,
            "order": null,
            "overflow": null,
            "overflow_x": null,
            "overflow_y": null,
            "padding": null,
            "right": null,
            "top": null,
            "visibility": null,
            "width": null
          }
        },
        "6716ab6e46754428be94c49de4162fb1": {
          "model_module": "@jupyter-widgets/controls",
          "model_name": "ProgressStyleModel",
          "model_module_version": "1.5.0",
          "state": {
            "_model_module": "@jupyter-widgets/controls",
            "_model_module_version": "1.5.0",
            "_model_name": "ProgressStyleModel",
            "_view_count": null,
            "_view_module": "@jupyter-widgets/base",
            "_view_module_version": "1.2.0",
            "_view_name": "StyleView",
            "bar_color": null,
            "description_width": ""
          }
        },
        "789d853887a84ef791a770e97bfcc91f": {
          "model_module": "@jupyter-widgets/base",
          "model_name": "LayoutModel",
          "model_module_version": "1.2.0",
          "state": {
            "_model_module": "@jupyter-widgets/base",
            "_model_module_version": "1.2.0",
            "_model_name": "LayoutModel",
            "_view_count": null,
            "_view_module": "@jupyter-widgets/base",
            "_view_module_version": "1.2.0",
            "_view_name": "LayoutView",
            "align_content": null,
            "align_items": null,
            "align_self": null,
            "border": null,
            "bottom": null,
            "display": null,
            "flex": null,
            "flex_flow": null,
            "grid_area": null,
            "grid_auto_columns": null,
            "grid_auto_flow": null,
            "grid_auto_rows": null,
            "grid_column": null,
            "grid_gap": null,
            "grid_row": null,
            "grid_template_areas": null,
            "grid_template_columns": null,
            "grid_template_rows": null,
            "height": null,
            "justify_content": null,
            "justify_items": null,
            "left": null,
            "margin": null,
            "max_height": null,
            "max_width": null,
            "min_height": null,
            "min_width": null,
            "object_fit": null,
            "object_position": null,
            "order": null,
            "overflow": null,
            "overflow_x": null,
            "overflow_y": null,
            "padding": null,
            "right": null,
            "top": null,
            "visibility": null,
            "width": null
          }
        },
        "00c632d577ee463d914df148ee542332": {
          "model_module": "@jupyter-widgets/controls",
          "model_name": "DescriptionStyleModel",
          "model_module_version": "1.5.0",
          "state": {
            "_model_module": "@jupyter-widgets/controls",
            "_model_module_version": "1.5.0",
            "_model_name": "DescriptionStyleModel",
            "_view_count": null,
            "_view_module": "@jupyter-widgets/base",
            "_view_module_version": "1.2.0",
            "_view_name": "StyleView",
            "description_width": ""
          }
        },
        "b26cf7c08f5a4a44bddf8b5083abd93a": {
          "model_module": "@jupyter-widgets/controls",
          "model_name": "HBoxModel",
          "model_module_version": "1.5.0",
          "state": {
            "_dom_classes": [],
            "_model_module": "@jupyter-widgets/controls",
            "_model_module_version": "1.5.0",
            "_model_name": "HBoxModel",
            "_view_count": null,
            "_view_module": "@jupyter-widgets/controls",
            "_view_module_version": "1.5.0",
            "_view_name": "HBoxView",
            "box_style": "",
            "children": [
              "IPY_MODEL_a1e93086d0f84b558ea8a633b3a052da",
              "IPY_MODEL_03c9cc47a7f34832843f4d1de188bab3",
              "IPY_MODEL_ca1341da233d4447bdd8a0aa0dc1c302"
            ],
            "layout": "IPY_MODEL_70f241082ecf4760863b508265b0f6d7"
          }
        },
        "a1e93086d0f84b558ea8a633b3a052da": {
          "model_module": "@jupyter-widgets/controls",
          "model_name": "HTMLModel",
          "model_module_version": "1.5.0",
          "state": {
            "_dom_classes": [],
            "_model_module": "@jupyter-widgets/controls",
            "_model_module_version": "1.5.0",
            "_model_name": "HTMLModel",
            "_view_count": null,
            "_view_module": "@jupyter-widgets/controls",
            "_view_module_version": "1.5.0",
            "_view_name": "HTMLView",
            "description": "",
            "description_tooltip": null,
            "layout": "IPY_MODEL_b24ed46c5e3a4fa99d754971bd93b74f",
            "placeholder": "​",
            "style": "IPY_MODEL_607702a4384c4acaa2aa8a571a4f858b",
            "value": "Generating validation split: 100%"
          }
        },
        "03c9cc47a7f34832843f4d1de188bab3": {
          "model_module": "@jupyter-widgets/controls",
          "model_name": "FloatProgressModel",
          "model_module_version": "1.5.0",
          "state": {
            "_dom_classes": [],
            "_model_module": "@jupyter-widgets/controls",
            "_model_module_version": "1.5.0",
            "_model_name": "FloatProgressModel",
            "_view_count": null,
            "_view_module": "@jupyter-widgets/controls",
            "_view_module_version": "1.5.0",
            "_view_name": "ProgressView",
            "bar_style": "success",
            "description": "",
            "description_tooltip": null,
            "layout": "IPY_MODEL_213b1dc9bd324f15881e819dff1e8f2b",
            "max": 408,
            "min": 0,
            "orientation": "horizontal",
            "style": "IPY_MODEL_7b4846da264f404590b778601c2652cd",
            "value": 408
          }
        },
        "ca1341da233d4447bdd8a0aa0dc1c302": {
          "model_module": "@jupyter-widgets/controls",
          "model_name": "HTMLModel",
          "model_module_version": "1.5.0",
          "state": {
            "_dom_classes": [],
            "_model_module": "@jupyter-widgets/controls",
            "_model_module_version": "1.5.0",
            "_model_name": "HTMLModel",
            "_view_count": null,
            "_view_module": "@jupyter-widgets/controls",
            "_view_module_version": "1.5.0",
            "_view_name": "HTMLView",
            "description": "",
            "description_tooltip": null,
            "layout": "IPY_MODEL_e7e42dae41734aed917924e7e19cb17a",
            "placeholder": "​",
            "style": "IPY_MODEL_497279c6e28c4fc18d3bf7108f81e2aa",
            "value": " 408/408 [00:00&lt;00:00, 23323.28 examples/s]"
          }
        },
        "70f241082ecf4760863b508265b0f6d7": {
          "model_module": "@jupyter-widgets/base",
          "model_name": "LayoutModel",
          "model_module_version": "1.2.0",
          "state": {
            "_model_module": "@jupyter-widgets/base",
            "_model_module_version": "1.2.0",
            "_model_name": "LayoutModel",
            "_view_count": null,
            "_view_module": "@jupyter-widgets/base",
            "_view_module_version": "1.2.0",
            "_view_name": "LayoutView",
            "align_content": null,
            "align_items": null,
            "align_self": null,
            "border": null,
            "bottom": null,
            "display": null,
            "flex": null,
            "flex_flow": null,
            "grid_area": null,
            "grid_auto_columns": null,
            "grid_auto_flow": null,
            "grid_auto_rows": null,
            "grid_column": null,
            "grid_gap": null,
            "grid_row": null,
            "grid_template_areas": null,
            "grid_template_columns": null,
            "grid_template_rows": null,
            "height": null,
            "justify_content": null,
            "justify_items": null,
            "left": null,
            "margin": null,
            "max_height": null,
            "max_width": null,
            "min_height": null,
            "min_width": null,
            "object_fit": null,
            "object_position": null,
            "order": null,
            "overflow": null,
            "overflow_x": null,
            "overflow_y": null,
            "padding": null,
            "right": null,
            "top": null,
            "visibility": null,
            "width": null
          }
        },
        "b24ed46c5e3a4fa99d754971bd93b74f": {
          "model_module": "@jupyter-widgets/base",
          "model_name": "LayoutModel",
          "model_module_version": "1.2.0",
          "state": {
            "_model_module": "@jupyter-widgets/base",
            "_model_module_version": "1.2.0",
            "_model_name": "LayoutModel",
            "_view_count": null,
            "_view_module": "@jupyter-widgets/base",
            "_view_module_version": "1.2.0",
            "_view_name": "LayoutView",
            "align_content": null,
            "align_items": null,
            "align_self": null,
            "border": null,
            "bottom": null,
            "display": null,
            "flex": null,
            "flex_flow": null,
            "grid_area": null,
            "grid_auto_columns": null,
            "grid_auto_flow": null,
            "grid_auto_rows": null,
            "grid_column": null,
            "grid_gap": null,
            "grid_row": null,
            "grid_template_areas": null,
            "grid_template_columns": null,
            "grid_template_rows": null,
            "height": null,
            "justify_content": null,
            "justify_items": null,
            "left": null,
            "margin": null,
            "max_height": null,
            "max_width": null,
            "min_height": null,
            "min_width": null,
            "object_fit": null,
            "object_position": null,
            "order": null,
            "overflow": null,
            "overflow_x": null,
            "overflow_y": null,
            "padding": null,
            "right": null,
            "top": null,
            "visibility": null,
            "width": null
          }
        },
        "607702a4384c4acaa2aa8a571a4f858b": {
          "model_module": "@jupyter-widgets/controls",
          "model_name": "DescriptionStyleModel",
          "model_module_version": "1.5.0",
          "state": {
            "_model_module": "@jupyter-widgets/controls",
            "_model_module_version": "1.5.0",
            "_model_name": "DescriptionStyleModel",
            "_view_count": null,
            "_view_module": "@jupyter-widgets/base",
            "_view_module_version": "1.2.0",
            "_view_name": "StyleView",
            "description_width": ""
          }
        },
        "213b1dc9bd324f15881e819dff1e8f2b": {
          "model_module": "@jupyter-widgets/base",
          "model_name": "LayoutModel",
          "model_module_version": "1.2.0",
          "state": {
            "_model_module": "@jupyter-widgets/base",
            "_model_module_version": "1.2.0",
            "_model_name": "LayoutModel",
            "_view_count": null,
            "_view_module": "@jupyter-widgets/base",
            "_view_module_version": "1.2.0",
            "_view_name": "LayoutView",
            "align_content": null,
            "align_items": null,
            "align_self": null,
            "border": null,
            "bottom": null,
            "display": null,
            "flex": null,
            "flex_flow": null,
            "grid_area": null,
            "grid_auto_columns": null,
            "grid_auto_flow": null,
            "grid_auto_rows": null,
            "grid_column": null,
            "grid_gap": null,
            "grid_row": null,
            "grid_template_areas": null,
            "grid_template_columns": null,
            "grid_template_rows": null,
            "height": null,
            "justify_content": null,
            "justify_items": null,
            "left": null,
            "margin": null,
            "max_height": null,
            "max_width": null,
            "min_height": null,
            "min_width": null,
            "object_fit": null,
            "object_position": null,
            "order": null,
            "overflow": null,
            "overflow_x": null,
            "overflow_y": null,
            "padding": null,
            "right": null,
            "top": null,
            "visibility": null,
            "width": null
          }
        },
        "7b4846da264f404590b778601c2652cd": {
          "model_module": "@jupyter-widgets/controls",
          "model_name": "ProgressStyleModel",
          "model_module_version": "1.5.0",
          "state": {
            "_model_module": "@jupyter-widgets/controls",
            "_model_module_version": "1.5.0",
            "_model_name": "ProgressStyleModel",
            "_view_count": null,
            "_view_module": "@jupyter-widgets/base",
            "_view_module_version": "1.2.0",
            "_view_name": "StyleView",
            "bar_color": null,
            "description_width": ""
          }
        },
        "e7e42dae41734aed917924e7e19cb17a": {
          "model_module": "@jupyter-widgets/base",
          "model_name": "LayoutModel",
          "model_module_version": "1.2.0",
          "state": {
            "_model_module": "@jupyter-widgets/base",
            "_model_module_version": "1.2.0",
            "_model_name": "LayoutModel",
            "_view_count": null,
            "_view_module": "@jupyter-widgets/base",
            "_view_module_version": "1.2.0",
            "_view_name": "LayoutView",
            "align_content": null,
            "align_items": null,
            "align_self": null,
            "border": null,
            "bottom": null,
            "display": null,
            "flex": null,
            "flex_flow": null,
            "grid_area": null,
            "grid_auto_columns": null,
            "grid_auto_flow": null,
            "grid_auto_rows": null,
            "grid_column": null,
            "grid_gap": null,
            "grid_row": null,
            "grid_template_areas": null,
            "grid_template_columns": null,
            "grid_template_rows": null,
            "height": null,
            "justify_content": null,
            "justify_items": null,
            "left": null,
            "margin": null,
            "max_height": null,
            "max_width": null,
            "min_height": null,
            "min_width": null,
            "object_fit": null,
            "object_position": null,
            "order": null,
            "overflow": null,
            "overflow_x": null,
            "overflow_y": null,
            "padding": null,
            "right": null,
            "top": null,
            "visibility": null,
            "width": null
          }
        },
        "497279c6e28c4fc18d3bf7108f81e2aa": {
          "model_module": "@jupyter-widgets/controls",
          "model_name": "DescriptionStyleModel",
          "model_module_version": "1.5.0",
          "state": {
            "_model_module": "@jupyter-widgets/controls",
            "_model_module_version": "1.5.0",
            "_model_name": "DescriptionStyleModel",
            "_view_count": null,
            "_view_module": "@jupyter-widgets/base",
            "_view_module_version": "1.2.0",
            "_view_name": "StyleView",
            "description_width": ""
          }
        },
        "97fa0409803c402bbd8844151c39fe95": {
          "model_module": "@jupyter-widgets/controls",
          "model_name": "HBoxModel",
          "model_module_version": "1.5.0",
          "state": {
            "_dom_classes": [],
            "_model_module": "@jupyter-widgets/controls",
            "_model_module_version": "1.5.0",
            "_model_name": "HBoxModel",
            "_view_count": null,
            "_view_module": "@jupyter-widgets/controls",
            "_view_module_version": "1.5.0",
            "_view_name": "HBoxView",
            "box_style": "",
            "children": [
              "IPY_MODEL_60f2c6bdeb704afb8774cbd2a0fd63fe",
              "IPY_MODEL_42148471a2364b68bda948d3e6eaa6c0",
              "IPY_MODEL_d3943eea89db475f999a188501f3fdb6"
            ],
            "layout": "IPY_MODEL_c81dc65af69148ae84e70ebf36b70d52"
          }
        },
        "60f2c6bdeb704afb8774cbd2a0fd63fe": {
          "model_module": "@jupyter-widgets/controls",
          "model_name": "HTMLModel",
          "model_module_version": "1.5.0",
          "state": {
            "_dom_classes": [],
            "_model_module": "@jupyter-widgets/controls",
            "_model_module_version": "1.5.0",
            "_model_name": "HTMLModel",
            "_view_count": null,
            "_view_module": "@jupyter-widgets/controls",
            "_view_module_version": "1.5.0",
            "_view_name": "HTMLView",
            "description": "",
            "description_tooltip": null,
            "layout": "IPY_MODEL_eaceeb12c2564b1d9fbe6d8dfaca2381",
            "placeholder": "​",
            "style": "IPY_MODEL_6696e41c3e7e4a50aa77532c7c4ecf43",
            "value": "Generating test split: 100%"
          }
        },
        "42148471a2364b68bda948d3e6eaa6c0": {
          "model_module": "@jupyter-widgets/controls",
          "model_name": "FloatProgressModel",
          "model_module_version": "1.5.0",
          "state": {
            "_dom_classes": [],
            "_model_module": "@jupyter-widgets/controls",
            "_model_module_version": "1.5.0",
            "_model_name": "FloatProgressModel",
            "_view_count": null,
            "_view_module": "@jupyter-widgets/controls",
            "_view_module_version": "1.5.0",
            "_view_name": "ProgressView",
            "bar_style": "success",
            "description": "",
            "description_tooltip": null,
            "layout": "IPY_MODEL_219ae4e0a3ac4b3bb18866f4d3e1ac42",
            "max": 1725,
            "min": 0,
            "orientation": "horizontal",
            "style": "IPY_MODEL_c4af20901bae462aa99d8cf7592cce10",
            "value": 1725
          }
        },
        "d3943eea89db475f999a188501f3fdb6": {
          "model_module": "@jupyter-widgets/controls",
          "model_name": "HTMLModel",
          "model_module_version": "1.5.0",
          "state": {
            "_dom_classes": [],
            "_model_module": "@jupyter-widgets/controls",
            "_model_module_version": "1.5.0",
            "_model_name": "HTMLModel",
            "_view_count": null,
            "_view_module": "@jupyter-widgets/controls",
            "_view_module_version": "1.5.0",
            "_view_name": "HTMLView",
            "description": "",
            "description_tooltip": null,
            "layout": "IPY_MODEL_40a9293a96594591a199775320c93329",
            "placeholder": "​",
            "style": "IPY_MODEL_772cfb18103a44b08f00d7eb1c4a4bc2",
            "value": " 1725/1725 [00:00&lt;00:00, 93488.58 examples/s]"
          }
        },
        "c81dc65af69148ae84e70ebf36b70d52": {
          "model_module": "@jupyter-widgets/base",
          "model_name": "LayoutModel",
          "model_module_version": "1.2.0",
          "state": {
            "_model_module": "@jupyter-widgets/base",
            "_model_module_version": "1.2.0",
            "_model_name": "LayoutModel",
            "_view_count": null,
            "_view_module": "@jupyter-widgets/base",
            "_view_module_version": "1.2.0",
            "_view_name": "LayoutView",
            "align_content": null,
            "align_items": null,
            "align_self": null,
            "border": null,
            "bottom": null,
            "display": null,
            "flex": null,
            "flex_flow": null,
            "grid_area": null,
            "grid_auto_columns": null,
            "grid_auto_flow": null,
            "grid_auto_rows": null,
            "grid_column": null,
            "grid_gap": null,
            "grid_row": null,
            "grid_template_areas": null,
            "grid_template_columns": null,
            "grid_template_rows": null,
            "height": null,
            "justify_content": null,
            "justify_items": null,
            "left": null,
            "margin": null,
            "max_height": null,
            "max_width": null,
            "min_height": null,
            "min_width": null,
            "object_fit": null,
            "object_position": null,
            "order": null,
            "overflow": null,
            "overflow_x": null,
            "overflow_y": null,
            "padding": null,
            "right": null,
            "top": null,
            "visibility": null,
            "width": null
          }
        },
        "eaceeb12c2564b1d9fbe6d8dfaca2381": {
          "model_module": "@jupyter-widgets/base",
          "model_name": "LayoutModel",
          "model_module_version": "1.2.0",
          "state": {
            "_model_module": "@jupyter-widgets/base",
            "_model_module_version": "1.2.0",
            "_model_name": "LayoutModel",
            "_view_count": null,
            "_view_module": "@jupyter-widgets/base",
            "_view_module_version": "1.2.0",
            "_view_name": "LayoutView",
            "align_content": null,
            "align_items": null,
            "align_self": null,
            "border": null,
            "bottom": null,
            "display": null,
            "flex": null,
            "flex_flow": null,
            "grid_area": null,
            "grid_auto_columns": null,
            "grid_auto_flow": null,
            "grid_auto_rows": null,
            "grid_column": null,
            "grid_gap": null,
            "grid_row": null,
            "grid_template_areas": null,
            "grid_template_columns": null,
            "grid_template_rows": null,
            "height": null,
            "justify_content": null,
            "justify_items": null,
            "left": null,
            "margin": null,
            "max_height": null,
            "max_width": null,
            "min_height": null,
            "min_width": null,
            "object_fit": null,
            "object_position": null,
            "order": null,
            "overflow": null,
            "overflow_x": null,
            "overflow_y": null,
            "padding": null,
            "right": null,
            "top": null,
            "visibility": null,
            "width": null
          }
        },
        "6696e41c3e7e4a50aa77532c7c4ecf43": {
          "model_module": "@jupyter-widgets/controls",
          "model_name": "DescriptionStyleModel",
          "model_module_version": "1.5.0",
          "state": {
            "_model_module": "@jupyter-widgets/controls",
            "_model_module_version": "1.5.0",
            "_model_name": "DescriptionStyleModel",
            "_view_count": null,
            "_view_module": "@jupyter-widgets/base",
            "_view_module_version": "1.2.0",
            "_view_name": "StyleView",
            "description_width": ""
          }
        },
        "219ae4e0a3ac4b3bb18866f4d3e1ac42": {
          "model_module": "@jupyter-widgets/base",
          "model_name": "LayoutModel",
          "model_module_version": "1.2.0",
          "state": {
            "_model_module": "@jupyter-widgets/base",
            "_model_module_version": "1.2.0",
            "_model_name": "LayoutModel",
            "_view_count": null,
            "_view_module": "@jupyter-widgets/base",
            "_view_module_version": "1.2.0",
            "_view_name": "LayoutView",
            "align_content": null,
            "align_items": null,
            "align_self": null,
            "border": null,
            "bottom": null,
            "display": null,
            "flex": null,
            "flex_flow": null,
            "grid_area": null,
            "grid_auto_columns": null,
            "grid_auto_flow": null,
            "grid_auto_rows": null,
            "grid_column": null,
            "grid_gap": null,
            "grid_row": null,
            "grid_template_areas": null,
            "grid_template_columns": null,
            "grid_template_rows": null,
            "height": null,
            "justify_content": null,
            "justify_items": null,
            "left": null,
            "margin": null,
            "max_height": null,
            "max_width": null,
            "min_height": null,
            "min_width": null,
            "object_fit": null,
            "object_position": null,
            "order": null,
            "overflow": null,
            "overflow_x": null,
            "overflow_y": null,
            "padding": null,
            "right": null,
            "top": null,
            "visibility": null,
            "width": null
          }
        },
        "c4af20901bae462aa99d8cf7592cce10": {
          "model_module": "@jupyter-widgets/controls",
          "model_name": "ProgressStyleModel",
          "model_module_version": "1.5.0",
          "state": {
            "_model_module": "@jupyter-widgets/controls",
            "_model_module_version": "1.5.0",
            "_model_name": "ProgressStyleModel",
            "_view_count": null,
            "_view_module": "@jupyter-widgets/base",
            "_view_module_version": "1.2.0",
            "_view_name": "StyleView",
            "bar_color": null,
            "description_width": ""
          }
        },
        "40a9293a96594591a199775320c93329": {
          "model_module": "@jupyter-widgets/base",
          "model_name": "LayoutModel",
          "model_module_version": "1.2.0",
          "state": {
            "_model_module": "@jupyter-widgets/base",
            "_model_module_version": "1.2.0",
            "_model_name": "LayoutModel",
            "_view_count": null,
            "_view_module": "@jupyter-widgets/base",
            "_view_module_version": "1.2.0",
            "_view_name": "LayoutView",
            "align_content": null,
            "align_items": null,
            "align_self": null,
            "border": null,
            "bottom": null,
            "display": null,
            "flex": null,
            "flex_flow": null,
            "grid_area": null,
            "grid_auto_columns": null,
            "grid_auto_flow": null,
            "grid_auto_rows": null,
            "grid_column": null,
            "grid_gap": null,
            "grid_row": null,
            "grid_template_areas": null,
            "grid_template_columns": null,
            "grid_template_rows": null,
            "height": null,
            "justify_content": null,
            "justify_items": null,
            "left": null,
            "margin": null,
            "max_height": null,
            "max_width": null,
            "min_height": null,
            "min_width": null,
            "object_fit": null,
            "object_position": null,
            "order": null,
            "overflow": null,
            "overflow_x": null,
            "overflow_y": null,
            "padding": null,
            "right": null,
            "top": null,
            "visibility": null,
            "width": null
          }
        },
        "772cfb18103a44b08f00d7eb1c4a4bc2": {
          "model_module": "@jupyter-widgets/controls",
          "model_name": "DescriptionStyleModel",
          "model_module_version": "1.5.0",
          "state": {
            "_model_module": "@jupyter-widgets/controls",
            "_model_module_version": "1.5.0",
            "_model_name": "DescriptionStyleModel",
            "_view_count": null,
            "_view_module": "@jupyter-widgets/base",
            "_view_module_version": "1.2.0",
            "_view_name": "StyleView",
            "description_width": ""
          }
        },
        "7c8f63d642f145e1a93004512f5525af": {
          "model_module": "@jupyter-widgets/controls",
          "model_name": "HBoxModel",
          "model_module_version": "1.5.0",
          "state": {
            "_dom_classes": [],
            "_model_module": "@jupyter-widgets/controls",
            "_model_module_version": "1.5.0",
            "_model_name": "HBoxModel",
            "_view_count": null,
            "_view_module": "@jupyter-widgets/controls",
            "_view_module_version": "1.5.0",
            "_view_name": "HBoxView",
            "box_style": "",
            "children": [
              "IPY_MODEL_d33f6a7de3c94c17b4ec447286b08586",
              "IPY_MODEL_2968628513d6435698586df943e9adcc",
              "IPY_MODEL_f773f6d0e446410099cfe42632a500e4"
            ],
            "layout": "IPY_MODEL_696f93fc913b4fdfb0c2e6b62e77b3d9"
          }
        },
        "d33f6a7de3c94c17b4ec447286b08586": {
          "model_module": "@jupyter-widgets/controls",
          "model_name": "HTMLModel",
          "model_module_version": "1.5.0",
          "state": {
            "_dom_classes": [],
            "_model_module": "@jupyter-widgets/controls",
            "_model_module_version": "1.5.0",
            "_model_name": "HTMLModel",
            "_view_count": null,
            "_view_module": "@jupyter-widgets/controls",
            "_view_module_version": "1.5.0",
            "_view_name": "HTMLView",
            "description": "",
            "description_tooltip": null,
            "layout": "IPY_MODEL_41b703dc01804f2a887d5093dda7e149",
            "placeholder": "​",
            "style": "IPY_MODEL_f8b9fa3fe0e64bde9141423145f58ed2",
            "value": "config.json: 100%"
          }
        },
        "2968628513d6435698586df943e9adcc": {
          "model_module": "@jupyter-widgets/controls",
          "model_name": "FloatProgressModel",
          "model_module_version": "1.5.0",
          "state": {
            "_dom_classes": [],
            "_model_module": "@jupyter-widgets/controls",
            "_model_module_version": "1.5.0",
            "_model_name": "FloatProgressModel",
            "_view_count": null,
            "_view_module": "@jupyter-widgets/controls",
            "_view_module_version": "1.5.0",
            "_view_name": "ProgressView",
            "bar_style": "success",
            "description": "",
            "description_tooltip": null,
            "layout": "IPY_MODEL_c6b635ac3806485892fe36c1315bb9ee",
            "max": 285,
            "min": 0,
            "orientation": "horizontal",
            "style": "IPY_MODEL_f0966fedc6b14a75a93fe8148457a08a",
            "value": 285
          }
        },
        "f773f6d0e446410099cfe42632a500e4": {
          "model_module": "@jupyter-widgets/controls",
          "model_name": "HTMLModel",
          "model_module_version": "1.5.0",
          "state": {
            "_dom_classes": [],
            "_model_module": "@jupyter-widgets/controls",
            "_model_module_version": "1.5.0",
            "_model_name": "HTMLModel",
            "_view_count": null,
            "_view_module": "@jupyter-widgets/controls",
            "_view_module_version": "1.5.0",
            "_view_name": "HTMLView",
            "description": "",
            "description_tooltip": null,
            "layout": "IPY_MODEL_b199884cb73446d695dcd393e64c8b61",
            "placeholder": "​",
            "style": "IPY_MODEL_a4979d38c5e1485a9aea58cf73740723",
            "value": " 285/285 [00:00&lt;00:00, 22.2kB/s]"
          }
        },
        "696f93fc913b4fdfb0c2e6b62e77b3d9": {
          "model_module": "@jupyter-widgets/base",
          "model_name": "LayoutModel",
          "model_module_version": "1.2.0",
          "state": {
            "_model_module": "@jupyter-widgets/base",
            "_model_module_version": "1.2.0",
            "_model_name": "LayoutModel",
            "_view_count": null,
            "_view_module": "@jupyter-widgets/base",
            "_view_module_version": "1.2.0",
            "_view_name": "LayoutView",
            "align_content": null,
            "align_items": null,
            "align_self": null,
            "border": null,
            "bottom": null,
            "display": null,
            "flex": null,
            "flex_flow": null,
            "grid_area": null,
            "grid_auto_columns": null,
            "grid_auto_flow": null,
            "grid_auto_rows": null,
            "grid_column": null,
            "grid_gap": null,
            "grid_row": null,
            "grid_template_areas": null,
            "grid_template_columns": null,
            "grid_template_rows": null,
            "height": null,
            "justify_content": null,
            "justify_items": null,
            "left": null,
            "margin": null,
            "max_height": null,
            "max_width": null,
            "min_height": null,
            "min_width": null,
            "object_fit": null,
            "object_position": null,
            "order": null,
            "overflow": null,
            "overflow_x": null,
            "overflow_y": null,
            "padding": null,
            "right": null,
            "top": null,
            "visibility": null,
            "width": null
          }
        },
        "41b703dc01804f2a887d5093dda7e149": {
          "model_module": "@jupyter-widgets/base",
          "model_name": "LayoutModel",
          "model_module_version": "1.2.0",
          "state": {
            "_model_module": "@jupyter-widgets/base",
            "_model_module_version": "1.2.0",
            "_model_name": "LayoutModel",
            "_view_count": null,
            "_view_module": "@jupyter-widgets/base",
            "_view_module_version": "1.2.0",
            "_view_name": "LayoutView",
            "align_content": null,
            "align_items": null,
            "align_self": null,
            "border": null,
            "bottom": null,
            "display": null,
            "flex": null,
            "flex_flow": null,
            "grid_area": null,
            "grid_auto_columns": null,
            "grid_auto_flow": null,
            "grid_auto_rows": null,
            "grid_column": null,
            "grid_gap": null,
            "grid_row": null,
            "grid_template_areas": null,
            "grid_template_columns": null,
            "grid_template_rows": null,
            "height": null,
            "justify_content": null,
            "justify_items": null,
            "left": null,
            "margin": null,
            "max_height": null,
            "max_width": null,
            "min_height": null,
            "min_width": null,
            "object_fit": null,
            "object_position": null,
            "order": null,
            "overflow": null,
            "overflow_x": null,
            "overflow_y": null,
            "padding": null,
            "right": null,
            "top": null,
            "visibility": null,
            "width": null
          }
        },
        "f8b9fa3fe0e64bde9141423145f58ed2": {
          "model_module": "@jupyter-widgets/controls",
          "model_name": "DescriptionStyleModel",
          "model_module_version": "1.5.0",
          "state": {
            "_model_module": "@jupyter-widgets/controls",
            "_model_module_version": "1.5.0",
            "_model_name": "DescriptionStyleModel",
            "_view_count": null,
            "_view_module": "@jupyter-widgets/base",
            "_view_module_version": "1.2.0",
            "_view_name": "StyleView",
            "description_width": ""
          }
        },
        "c6b635ac3806485892fe36c1315bb9ee": {
          "model_module": "@jupyter-widgets/base",
          "model_name": "LayoutModel",
          "model_module_version": "1.2.0",
          "state": {
            "_model_module": "@jupyter-widgets/base",
            "_model_module_version": "1.2.0",
            "_model_name": "LayoutModel",
            "_view_count": null,
            "_view_module": "@jupyter-widgets/base",
            "_view_module_version": "1.2.0",
            "_view_name": "LayoutView",
            "align_content": null,
            "align_items": null,
            "align_self": null,
            "border": null,
            "bottom": null,
            "display": null,
            "flex": null,
            "flex_flow": null,
            "grid_area": null,
            "grid_auto_columns": null,
            "grid_auto_flow": null,
            "grid_auto_rows": null,
            "grid_column": null,
            "grid_gap": null,
            "grid_row": null,
            "grid_template_areas": null,
            "grid_template_columns": null,
            "grid_template_rows": null,
            "height": null,
            "justify_content": null,
            "justify_items": null,
            "left": null,
            "margin": null,
            "max_height": null,
            "max_width": null,
            "min_height": null,
            "min_width": null,
            "object_fit": null,
            "object_position": null,
            "order": null,
            "overflow": null,
            "overflow_x": null,
            "overflow_y": null,
            "padding": null,
            "right": null,
            "top": null,
            "visibility": null,
            "width": null
          }
        },
        "f0966fedc6b14a75a93fe8148457a08a": {
          "model_module": "@jupyter-widgets/controls",
          "model_name": "ProgressStyleModel",
          "model_module_version": "1.5.0",
          "state": {
            "_model_module": "@jupyter-widgets/controls",
            "_model_module_version": "1.5.0",
            "_model_name": "ProgressStyleModel",
            "_view_count": null,
            "_view_module": "@jupyter-widgets/base",
            "_view_module_version": "1.2.0",
            "_view_name": "StyleView",
            "bar_color": null,
            "description_width": ""
          }
        },
        "b199884cb73446d695dcd393e64c8b61": {
          "model_module": "@jupyter-widgets/base",
          "model_name": "LayoutModel",
          "model_module_version": "1.2.0",
          "state": {
            "_model_module": "@jupyter-widgets/base",
            "_model_module_version": "1.2.0",
            "_model_name": "LayoutModel",
            "_view_count": null,
            "_view_module": "@jupyter-widgets/base",
            "_view_module_version": "1.2.0",
            "_view_name": "LayoutView",
            "align_content": null,
            "align_items": null,
            "align_self": null,
            "border": null,
            "bottom": null,
            "display": null,
            "flex": null,
            "flex_flow": null,
            "grid_area": null,
            "grid_auto_columns": null,
            "grid_auto_flow": null,
            "grid_auto_rows": null,
            "grid_column": null,
            "grid_gap": null,
            "grid_row": null,
            "grid_template_areas": null,
            "grid_template_columns": null,
            "grid_template_rows": null,
            "height": null,
            "justify_content": null,
            "justify_items": null,
            "left": null,
            "margin": null,
            "max_height": null,
            "max_width": null,
            "min_height": null,
            "min_width": null,
            "object_fit": null,
            "object_position": null,
            "order": null,
            "overflow": null,
            "overflow_x": null,
            "overflow_y": null,
            "padding": null,
            "right": null,
            "top": null,
            "visibility": null,
            "width": null
          }
        },
        "a4979d38c5e1485a9aea58cf73740723": {
          "model_module": "@jupyter-widgets/controls",
          "model_name": "DescriptionStyleModel",
          "model_module_version": "1.5.0",
          "state": {
            "_model_module": "@jupyter-widgets/controls",
            "_model_module_version": "1.5.0",
            "_model_name": "DescriptionStyleModel",
            "_view_count": null,
            "_view_module": "@jupyter-widgets/base",
            "_view_module_version": "1.2.0",
            "_view_name": "StyleView",
            "description_width": ""
          }
        },
        "693d65f9f74645b290153961211fc891": {
          "model_module": "@jupyter-widgets/controls",
          "model_name": "HBoxModel",
          "model_module_version": "1.5.0",
          "state": {
            "_dom_classes": [],
            "_model_module": "@jupyter-widgets/controls",
            "_model_module_version": "1.5.0",
            "_model_name": "HBoxModel",
            "_view_count": null,
            "_view_module": "@jupyter-widgets/controls",
            "_view_module_version": "1.5.0",
            "_view_name": "HBoxView",
            "box_style": "",
            "children": [
              "IPY_MODEL_6ce031a1f28e4f9e81f05c8e3ca44216",
              "IPY_MODEL_b26b0ef776b44647b0826775df440f95",
              "IPY_MODEL_9313c5039b3744d1b19578c4e5d49108"
            ],
            "layout": "IPY_MODEL_ef59e276ccdc413ebbb7442afdf07b4f"
          }
        },
        "6ce031a1f28e4f9e81f05c8e3ca44216": {
          "model_module": "@jupyter-widgets/controls",
          "model_name": "HTMLModel",
          "model_module_version": "1.5.0",
          "state": {
            "_dom_classes": [],
            "_model_module": "@jupyter-widgets/controls",
            "_model_module_version": "1.5.0",
            "_model_name": "HTMLModel",
            "_view_count": null,
            "_view_module": "@jupyter-widgets/controls",
            "_view_module_version": "1.5.0",
            "_view_name": "HTMLView",
            "description": "",
            "description_tooltip": null,
            "layout": "IPY_MODEL_b410886b136840bdbd6f54fc4caf1620",
            "placeholder": "​",
            "style": "IPY_MODEL_1181db451d9c44d982b19496c22aa56b",
            "value": "vocab.txt: 100%"
          }
        },
        "b26b0ef776b44647b0826775df440f95": {
          "model_module": "@jupyter-widgets/controls",
          "model_name": "FloatProgressModel",
          "model_module_version": "1.5.0",
          "state": {
            "_dom_classes": [],
            "_model_module": "@jupyter-widgets/controls",
            "_model_module_version": "1.5.0",
            "_model_name": "FloatProgressModel",
            "_view_count": null,
            "_view_module": "@jupyter-widgets/controls",
            "_view_module_version": "1.5.0",
            "_view_name": "ProgressView",
            "bar_style": "success",
            "description": "",
            "description_tooltip": null,
            "layout": "IPY_MODEL_90c6d282a94b4887a234a2dc1580b9b4",
            "max": 231508,
            "min": 0,
            "orientation": "horizontal",
            "style": "IPY_MODEL_fcce2c096fad4bafa36186e0157b8b87",
            "value": 231508
          }
        },
        "9313c5039b3744d1b19578c4e5d49108": {
          "model_module": "@jupyter-widgets/controls",
          "model_name": "HTMLModel",
          "model_module_version": "1.5.0",
          "state": {
            "_dom_classes": [],
            "_model_module": "@jupyter-widgets/controls",
            "_model_module_version": "1.5.0",
            "_model_name": "HTMLModel",
            "_view_count": null,
            "_view_module": "@jupyter-widgets/controls",
            "_view_module_version": "1.5.0",
            "_view_name": "HTMLView",
            "description": "",
            "description_tooltip": null,
            "layout": "IPY_MODEL_edb6783c493749bbbdf78ea1264cd729",
            "placeholder": "​",
            "style": "IPY_MODEL_f9a7d79207c84038ad558195306517ea",
            "value": " 232k/232k [00:00&lt;00:00, 9.85MB/s]"
          }
        },
        "ef59e276ccdc413ebbb7442afdf07b4f": {
          "model_module": "@jupyter-widgets/base",
          "model_name": "LayoutModel",
          "model_module_version": "1.2.0",
          "state": {
            "_model_module": "@jupyter-widgets/base",
            "_model_module_version": "1.2.0",
            "_model_name": "LayoutModel",
            "_view_count": null,
            "_view_module": "@jupyter-widgets/base",
            "_view_module_version": "1.2.0",
            "_view_name": "LayoutView",
            "align_content": null,
            "align_items": null,
            "align_self": null,
            "border": null,
            "bottom": null,
            "display": null,
            "flex": null,
            "flex_flow": null,
            "grid_area": null,
            "grid_auto_columns": null,
            "grid_auto_flow": null,
            "grid_auto_rows": null,
            "grid_column": null,
            "grid_gap": null,
            "grid_row": null,
            "grid_template_areas": null,
            "grid_template_columns": null,
            "grid_template_rows": null,
            "height": null,
            "justify_content": null,
            "justify_items": null,
            "left": null,
            "margin": null,
            "max_height": null,
            "max_width": null,
            "min_height": null,
            "min_width": null,
            "object_fit": null,
            "object_position": null,
            "order": null,
            "overflow": null,
            "overflow_x": null,
            "overflow_y": null,
            "padding": null,
            "right": null,
            "top": null,
            "visibility": null,
            "width": null
          }
        },
        "b410886b136840bdbd6f54fc4caf1620": {
          "model_module": "@jupyter-widgets/base",
          "model_name": "LayoutModel",
          "model_module_version": "1.2.0",
          "state": {
            "_model_module": "@jupyter-widgets/base",
            "_model_module_version": "1.2.0",
            "_model_name": "LayoutModel",
            "_view_count": null,
            "_view_module": "@jupyter-widgets/base",
            "_view_module_version": "1.2.0",
            "_view_name": "LayoutView",
            "align_content": null,
            "align_items": null,
            "align_self": null,
            "border": null,
            "bottom": null,
            "display": null,
            "flex": null,
            "flex_flow": null,
            "grid_area": null,
            "grid_auto_columns": null,
            "grid_auto_flow": null,
            "grid_auto_rows": null,
            "grid_column": null,
            "grid_gap": null,
            "grid_row": null,
            "grid_template_areas": null,
            "grid_template_columns": null,
            "grid_template_rows": null,
            "height": null,
            "justify_content": null,
            "justify_items": null,
            "left": null,
            "margin": null,
            "max_height": null,
            "max_width": null,
            "min_height": null,
            "min_width": null,
            "object_fit": null,
            "object_position": null,
            "order": null,
            "overflow": null,
            "overflow_x": null,
            "overflow_y": null,
            "padding": null,
            "right": null,
            "top": null,
            "visibility": null,
            "width": null
          }
        },
        "1181db451d9c44d982b19496c22aa56b": {
          "model_module": "@jupyter-widgets/controls",
          "model_name": "DescriptionStyleModel",
          "model_module_version": "1.5.0",
          "state": {
            "_model_module": "@jupyter-widgets/controls",
            "_model_module_version": "1.5.0",
            "_model_name": "DescriptionStyleModel",
            "_view_count": null,
            "_view_module": "@jupyter-widgets/base",
            "_view_module_version": "1.2.0",
            "_view_name": "StyleView",
            "description_width": ""
          }
        },
        "90c6d282a94b4887a234a2dc1580b9b4": {
          "model_module": "@jupyter-widgets/base",
          "model_name": "LayoutModel",
          "model_module_version": "1.2.0",
          "state": {
            "_model_module": "@jupyter-widgets/base",
            "_model_module_version": "1.2.0",
            "_model_name": "LayoutModel",
            "_view_count": null,
            "_view_module": "@jupyter-widgets/base",
            "_view_module_version": "1.2.0",
            "_view_name": "LayoutView",
            "align_content": null,
            "align_items": null,
            "align_self": null,
            "border": null,
            "bottom": null,
            "display": null,
            "flex": null,
            "flex_flow": null,
            "grid_area": null,
            "grid_auto_columns": null,
            "grid_auto_flow": null,
            "grid_auto_rows": null,
            "grid_column": null,
            "grid_gap": null,
            "grid_row": null,
            "grid_template_areas": null,
            "grid_template_columns": null,
            "grid_template_rows": null,
            "height": null,
            "justify_content": null,
            "justify_items": null,
            "left": null,
            "margin": null,
            "max_height": null,
            "max_width": null,
            "min_height": null,
            "min_width": null,
            "object_fit": null,
            "object_position": null,
            "order": null,
            "overflow": null,
            "overflow_x": null,
            "overflow_y": null,
            "padding": null,
            "right": null,
            "top": null,
            "visibility": null,
            "width": null
          }
        },
        "fcce2c096fad4bafa36186e0157b8b87": {
          "model_module": "@jupyter-widgets/controls",
          "model_name": "ProgressStyleModel",
          "model_module_version": "1.5.0",
          "state": {
            "_model_module": "@jupyter-widgets/controls",
            "_model_module_version": "1.5.0",
            "_model_name": "ProgressStyleModel",
            "_view_count": null,
            "_view_module": "@jupyter-widgets/base",
            "_view_module_version": "1.2.0",
            "_view_name": "StyleView",
            "bar_color": null,
            "description_width": ""
          }
        },
        "edb6783c493749bbbdf78ea1264cd729": {
          "model_module": "@jupyter-widgets/base",
          "model_name": "LayoutModel",
          "model_module_version": "1.2.0",
          "state": {
            "_model_module": "@jupyter-widgets/base",
            "_model_module_version": "1.2.0",
            "_model_name": "LayoutModel",
            "_view_count": null,
            "_view_module": "@jupyter-widgets/base",
            "_view_module_version": "1.2.0",
            "_view_name": "LayoutView",
            "align_content": null,
            "align_items": null,
            "align_self": null,
            "border": null,
            "bottom": null,
            "display": null,
            "flex": null,
            "flex_flow": null,
            "grid_area": null,
            "grid_auto_columns": null,
            "grid_auto_flow": null,
            "grid_auto_rows": null,
            "grid_column": null,
            "grid_gap": null,
            "grid_row": null,
            "grid_template_areas": null,
            "grid_template_columns": null,
            "grid_template_rows": null,
            "height": null,
            "justify_content": null,
            "justify_items": null,
            "left": null,
            "margin": null,
            "max_height": null,
            "max_width": null,
            "min_height": null,
            "min_width": null,
            "object_fit": null,
            "object_position": null,
            "order": null,
            "overflow": null,
            "overflow_x": null,
            "overflow_y": null,
            "padding": null,
            "right": null,
            "top": null,
            "visibility": null,
            "width": null
          }
        },
        "f9a7d79207c84038ad558195306517ea": {
          "model_module": "@jupyter-widgets/controls",
          "model_name": "DescriptionStyleModel",
          "model_module_version": "1.5.0",
          "state": {
            "_model_module": "@jupyter-widgets/controls",
            "_model_module_version": "1.5.0",
            "_model_name": "DescriptionStyleModel",
            "_view_count": null,
            "_view_module": "@jupyter-widgets/base",
            "_view_module_version": "1.2.0",
            "_view_name": "StyleView",
            "description_width": ""
          }
        },
        "98cc54e85aa148a79d420f0d96574673": {
          "model_module": "@jupyter-widgets/controls",
          "model_name": "HBoxModel",
          "model_module_version": "1.5.0",
          "state": {
            "_dom_classes": [],
            "_model_module": "@jupyter-widgets/controls",
            "_model_module_version": "1.5.0",
            "_model_name": "HBoxModel",
            "_view_count": null,
            "_view_module": "@jupyter-widgets/controls",
            "_view_module_version": "1.5.0",
            "_view_name": "HBoxView",
            "box_style": "",
            "children": [
              "IPY_MODEL_ad27412d96724a459b97cda72d00822f",
              "IPY_MODEL_4f655aeab20041098e479197a3a7b824",
              "IPY_MODEL_254692de1e134534adb7cd98a0d336d2"
            ],
            "layout": "IPY_MODEL_ddecd8b021004a3785de093d07cfc13f"
          }
        },
        "ad27412d96724a459b97cda72d00822f": {
          "model_module": "@jupyter-widgets/controls",
          "model_name": "HTMLModel",
          "model_module_version": "1.5.0",
          "state": {
            "_dom_classes": [],
            "_model_module": "@jupyter-widgets/controls",
            "_model_module_version": "1.5.0",
            "_model_name": "HTMLModel",
            "_view_count": null,
            "_view_module": "@jupyter-widgets/controls",
            "_view_module_version": "1.5.0",
            "_view_name": "HTMLView",
            "description": "",
            "description_tooltip": null,
            "layout": "IPY_MODEL_8f38a8959ae04a90b36e1f0fe5b7b1a8",
            "placeholder": "​",
            "style": "IPY_MODEL_baac3a8ce1c4467898f1f89cf4fbffa0",
            "value": "Map: 100%"
          }
        },
        "4f655aeab20041098e479197a3a7b824": {
          "model_module": "@jupyter-widgets/controls",
          "model_name": "FloatProgressModel",
          "model_module_version": "1.5.0",
          "state": {
            "_dom_classes": [],
            "_model_module": "@jupyter-widgets/controls",
            "_model_module_version": "1.5.0",
            "_model_name": "FloatProgressModel",
            "_view_count": null,
            "_view_module": "@jupyter-widgets/controls",
            "_view_module_version": "1.5.0",
            "_view_name": "ProgressView",
            "bar_style": "success",
            "description": "",
            "description_tooltip": null,
            "layout": "IPY_MODEL_751c5a8ddd1d4471b219ba74a3db2360",
            "max": 3668,
            "min": 0,
            "orientation": "horizontal",
            "style": "IPY_MODEL_562c8870176d4716baee250612994654",
            "value": 3668
          }
        },
        "254692de1e134534adb7cd98a0d336d2": {
          "model_module": "@jupyter-widgets/controls",
          "model_name": "HTMLModel",
          "model_module_version": "1.5.0",
          "state": {
            "_dom_classes": [],
            "_model_module": "@jupyter-widgets/controls",
            "_model_module_version": "1.5.0",
            "_model_name": "HTMLModel",
            "_view_count": null,
            "_view_module": "@jupyter-widgets/controls",
            "_view_module_version": "1.5.0",
            "_view_name": "HTMLView",
            "description": "",
            "description_tooltip": null,
            "layout": "IPY_MODEL_79e5002a8ffc4147bdeaab5ee4c28238",
            "placeholder": "​",
            "style": "IPY_MODEL_d5cd5bedd3d946ae85c133598d6b891d",
            "value": " 3668/3668 [00:00&lt;00:00, 11985.75 examples/s]"
          }
        },
        "ddecd8b021004a3785de093d07cfc13f": {
          "model_module": "@jupyter-widgets/base",
          "model_name": "LayoutModel",
          "model_module_version": "1.2.0",
          "state": {
            "_model_module": "@jupyter-widgets/base",
            "_model_module_version": "1.2.0",
            "_model_name": "LayoutModel",
            "_view_count": null,
            "_view_module": "@jupyter-widgets/base",
            "_view_module_version": "1.2.0",
            "_view_name": "LayoutView",
            "align_content": null,
            "align_items": null,
            "align_self": null,
            "border": null,
            "bottom": null,
            "display": null,
            "flex": null,
            "flex_flow": null,
            "grid_area": null,
            "grid_auto_columns": null,
            "grid_auto_flow": null,
            "grid_auto_rows": null,
            "grid_column": null,
            "grid_gap": null,
            "grid_row": null,
            "grid_template_areas": null,
            "grid_template_columns": null,
            "grid_template_rows": null,
            "height": null,
            "justify_content": null,
            "justify_items": null,
            "left": null,
            "margin": null,
            "max_height": null,
            "max_width": null,
            "min_height": null,
            "min_width": null,
            "object_fit": null,
            "object_position": null,
            "order": null,
            "overflow": null,
            "overflow_x": null,
            "overflow_y": null,
            "padding": null,
            "right": null,
            "top": null,
            "visibility": null,
            "width": null
          }
        },
        "8f38a8959ae04a90b36e1f0fe5b7b1a8": {
          "model_module": "@jupyter-widgets/base",
          "model_name": "LayoutModel",
          "model_module_version": "1.2.0",
          "state": {
            "_model_module": "@jupyter-widgets/base",
            "_model_module_version": "1.2.0",
            "_model_name": "LayoutModel",
            "_view_count": null,
            "_view_module": "@jupyter-widgets/base",
            "_view_module_version": "1.2.0",
            "_view_name": "LayoutView",
            "align_content": null,
            "align_items": null,
            "align_self": null,
            "border": null,
            "bottom": null,
            "display": null,
            "flex": null,
            "flex_flow": null,
            "grid_area": null,
            "grid_auto_columns": null,
            "grid_auto_flow": null,
            "grid_auto_rows": null,
            "grid_column": null,
            "grid_gap": null,
            "grid_row": null,
            "grid_template_areas": null,
            "grid_template_columns": null,
            "grid_template_rows": null,
            "height": null,
            "justify_content": null,
            "justify_items": null,
            "left": null,
            "margin": null,
            "max_height": null,
            "max_width": null,
            "min_height": null,
            "min_width": null,
            "object_fit": null,
            "object_position": null,
            "order": null,
            "overflow": null,
            "overflow_x": null,
            "overflow_y": null,
            "padding": null,
            "right": null,
            "top": null,
            "visibility": null,
            "width": null
          }
        },
        "baac3a8ce1c4467898f1f89cf4fbffa0": {
          "model_module": "@jupyter-widgets/controls",
          "model_name": "DescriptionStyleModel",
          "model_module_version": "1.5.0",
          "state": {
            "_model_module": "@jupyter-widgets/controls",
            "_model_module_version": "1.5.0",
            "_model_name": "DescriptionStyleModel",
            "_view_count": null,
            "_view_module": "@jupyter-widgets/base",
            "_view_module_version": "1.2.0",
            "_view_name": "StyleView",
            "description_width": ""
          }
        },
        "751c5a8ddd1d4471b219ba74a3db2360": {
          "model_module": "@jupyter-widgets/base",
          "model_name": "LayoutModel",
          "model_module_version": "1.2.0",
          "state": {
            "_model_module": "@jupyter-widgets/base",
            "_model_module_version": "1.2.0",
            "_model_name": "LayoutModel",
            "_view_count": null,
            "_view_module": "@jupyter-widgets/base",
            "_view_module_version": "1.2.0",
            "_view_name": "LayoutView",
            "align_content": null,
            "align_items": null,
            "align_self": null,
            "border": null,
            "bottom": null,
            "display": null,
            "flex": null,
            "flex_flow": null,
            "grid_area": null,
            "grid_auto_columns": null,
            "grid_auto_flow": null,
            "grid_auto_rows": null,
            "grid_column": null,
            "grid_gap": null,
            "grid_row": null,
            "grid_template_areas": null,
            "grid_template_columns": null,
            "grid_template_rows": null,
            "height": null,
            "justify_content": null,
            "justify_items": null,
            "left": null,
            "margin": null,
            "max_height": null,
            "max_width": null,
            "min_height": null,
            "min_width": null,
            "object_fit": null,
            "object_position": null,
            "order": null,
            "overflow": null,
            "overflow_x": null,
            "overflow_y": null,
            "padding": null,
            "right": null,
            "top": null,
            "visibility": null,
            "width": null
          }
        },
        "562c8870176d4716baee250612994654": {
          "model_module": "@jupyter-widgets/controls",
          "model_name": "ProgressStyleModel",
          "model_module_version": "1.5.0",
          "state": {
            "_model_module": "@jupyter-widgets/controls",
            "_model_module_version": "1.5.0",
            "_model_name": "ProgressStyleModel",
            "_view_count": null,
            "_view_module": "@jupyter-widgets/base",
            "_view_module_version": "1.2.0",
            "_view_name": "StyleView",
            "bar_color": null,
            "description_width": ""
          }
        },
        "79e5002a8ffc4147bdeaab5ee4c28238": {
          "model_module": "@jupyter-widgets/base",
          "model_name": "LayoutModel",
          "model_module_version": "1.2.0",
          "state": {
            "_model_module": "@jupyter-widgets/base",
            "_model_module_version": "1.2.0",
            "_model_name": "LayoutModel",
            "_view_count": null,
            "_view_module": "@jupyter-widgets/base",
            "_view_module_version": "1.2.0",
            "_view_name": "LayoutView",
            "align_content": null,
            "align_items": null,
            "align_self": null,
            "border": null,
            "bottom": null,
            "display": null,
            "flex": null,
            "flex_flow": null,
            "grid_area": null,
            "grid_auto_columns": null,
            "grid_auto_flow": null,
            "grid_auto_rows": null,
            "grid_column": null,
            "grid_gap": null,
            "grid_row": null,
            "grid_template_areas": null,
            "grid_template_columns": null,
            "grid_template_rows": null,
            "height": null,
            "justify_content": null,
            "justify_items": null,
            "left": null,
            "margin": null,
            "max_height": null,
            "max_width": null,
            "min_height": null,
            "min_width": null,
            "object_fit": null,
            "object_position": null,
            "order": null,
            "overflow": null,
            "overflow_x": null,
            "overflow_y": null,
            "padding": null,
            "right": null,
            "top": null,
            "visibility": null,
            "width": null
          }
        },
        "d5cd5bedd3d946ae85c133598d6b891d": {
          "model_module": "@jupyter-widgets/controls",
          "model_name": "DescriptionStyleModel",
          "model_module_version": "1.5.0",
          "state": {
            "_model_module": "@jupyter-widgets/controls",
            "_model_module_version": "1.5.0",
            "_model_name": "DescriptionStyleModel",
            "_view_count": null,
            "_view_module": "@jupyter-widgets/base",
            "_view_module_version": "1.2.0",
            "_view_name": "StyleView",
            "description_width": ""
          }
        },
        "acddf93885d348d69689ccdfaf83c86c": {
          "model_module": "@jupyter-widgets/controls",
          "model_name": "HBoxModel",
          "model_module_version": "1.5.0",
          "state": {
            "_dom_classes": [],
            "_model_module": "@jupyter-widgets/controls",
            "_model_module_version": "1.5.0",
            "_model_name": "HBoxModel",
            "_view_count": null,
            "_view_module": "@jupyter-widgets/controls",
            "_view_module_version": "1.5.0",
            "_view_name": "HBoxView",
            "box_style": "",
            "children": [
              "IPY_MODEL_7e03c476f77e4295a56777dfed3b9c09",
              "IPY_MODEL_01971d4db9c6498b94f7a04eab02c17c",
              "IPY_MODEL_d97195ff27ba41329f7c4f86e4a0ee2b"
            ],
            "layout": "IPY_MODEL_8be7e5a832264a66b7e4340585d21f75"
          }
        },
        "7e03c476f77e4295a56777dfed3b9c09": {
          "model_module": "@jupyter-widgets/controls",
          "model_name": "HTMLModel",
          "model_module_version": "1.5.0",
          "state": {
            "_dom_classes": [],
            "_model_module": "@jupyter-widgets/controls",
            "_model_module_version": "1.5.0",
            "_model_name": "HTMLModel",
            "_view_count": null,
            "_view_module": "@jupyter-widgets/controls",
            "_view_module_version": "1.5.0",
            "_view_name": "HTMLView",
            "description": "",
            "description_tooltip": null,
            "layout": "IPY_MODEL_5325ec76c54b4c83bd038e60b870527f",
            "placeholder": "​",
            "style": "IPY_MODEL_5679fb7a768a43c3b3c66e01838a8bdd",
            "value": "Map: 100%"
          }
        },
        "01971d4db9c6498b94f7a04eab02c17c": {
          "model_module": "@jupyter-widgets/controls",
          "model_name": "FloatProgressModel",
          "model_module_version": "1.5.0",
          "state": {
            "_dom_classes": [],
            "_model_module": "@jupyter-widgets/controls",
            "_model_module_version": "1.5.0",
            "_model_name": "FloatProgressModel",
            "_view_count": null,
            "_view_module": "@jupyter-widgets/controls",
            "_view_module_version": "1.5.0",
            "_view_name": "ProgressView",
            "bar_style": "success",
            "description": "",
            "description_tooltip": null,
            "layout": "IPY_MODEL_909b007c7c1a488a95a9a9981d65c906",
            "max": 408,
            "min": 0,
            "orientation": "horizontal",
            "style": "IPY_MODEL_d0218eee5cb24738ad2b6c6453fbf8fe",
            "value": 408
          }
        },
        "d97195ff27ba41329f7c4f86e4a0ee2b": {
          "model_module": "@jupyter-widgets/controls",
          "model_name": "HTMLModel",
          "model_module_version": "1.5.0",
          "state": {
            "_dom_classes": [],
            "_model_module": "@jupyter-widgets/controls",
            "_model_module_version": "1.5.0",
            "_model_name": "HTMLModel",
            "_view_count": null,
            "_view_module": "@jupyter-widgets/controls",
            "_view_module_version": "1.5.0",
            "_view_name": "HTMLView",
            "description": "",
            "description_tooltip": null,
            "layout": "IPY_MODEL_7f44045c45bb42fdb96aac625c516b64",
            "placeholder": "​",
            "style": "IPY_MODEL_6c0b24d6022945f091a85579eb92c7ce",
            "value": " 408/408 [00:00&lt;00:00, 7522.85 examples/s]"
          }
        },
        "8be7e5a832264a66b7e4340585d21f75": {
          "model_module": "@jupyter-widgets/base",
          "model_name": "LayoutModel",
          "model_module_version": "1.2.0",
          "state": {
            "_model_module": "@jupyter-widgets/base",
            "_model_module_version": "1.2.0",
            "_model_name": "LayoutModel",
            "_view_count": null,
            "_view_module": "@jupyter-widgets/base",
            "_view_module_version": "1.2.0",
            "_view_name": "LayoutView",
            "align_content": null,
            "align_items": null,
            "align_self": null,
            "border": null,
            "bottom": null,
            "display": null,
            "flex": null,
            "flex_flow": null,
            "grid_area": null,
            "grid_auto_columns": null,
            "grid_auto_flow": null,
            "grid_auto_rows": null,
            "grid_column": null,
            "grid_gap": null,
            "grid_row": null,
            "grid_template_areas": null,
            "grid_template_columns": null,
            "grid_template_rows": null,
            "height": null,
            "justify_content": null,
            "justify_items": null,
            "left": null,
            "margin": null,
            "max_height": null,
            "max_width": null,
            "min_height": null,
            "min_width": null,
            "object_fit": null,
            "object_position": null,
            "order": null,
            "overflow": null,
            "overflow_x": null,
            "overflow_y": null,
            "padding": null,
            "right": null,
            "top": null,
            "visibility": null,
            "width": null
          }
        },
        "5325ec76c54b4c83bd038e60b870527f": {
          "model_module": "@jupyter-widgets/base",
          "model_name": "LayoutModel",
          "model_module_version": "1.2.0",
          "state": {
            "_model_module": "@jupyter-widgets/base",
            "_model_module_version": "1.2.0",
            "_model_name": "LayoutModel",
            "_view_count": null,
            "_view_module": "@jupyter-widgets/base",
            "_view_module_version": "1.2.0",
            "_view_name": "LayoutView",
            "align_content": null,
            "align_items": null,
            "align_self": null,
            "border": null,
            "bottom": null,
            "display": null,
            "flex": null,
            "flex_flow": null,
            "grid_area": null,
            "grid_auto_columns": null,
            "grid_auto_flow": null,
            "grid_auto_rows": null,
            "grid_column": null,
            "grid_gap": null,
            "grid_row": null,
            "grid_template_areas": null,
            "grid_template_columns": null,
            "grid_template_rows": null,
            "height": null,
            "justify_content": null,
            "justify_items": null,
            "left": null,
            "margin": null,
            "max_height": null,
            "max_width": null,
            "min_height": null,
            "min_width": null,
            "object_fit": null,
            "object_position": null,
            "order": null,
            "overflow": null,
            "overflow_x": null,
            "overflow_y": null,
            "padding": null,
            "right": null,
            "top": null,
            "visibility": null,
            "width": null
          }
        },
        "5679fb7a768a43c3b3c66e01838a8bdd": {
          "model_module": "@jupyter-widgets/controls",
          "model_name": "DescriptionStyleModel",
          "model_module_version": "1.5.0",
          "state": {
            "_model_module": "@jupyter-widgets/controls",
            "_model_module_version": "1.5.0",
            "_model_name": "DescriptionStyleModel",
            "_view_count": null,
            "_view_module": "@jupyter-widgets/base",
            "_view_module_version": "1.2.0",
            "_view_name": "StyleView",
            "description_width": ""
          }
        },
        "909b007c7c1a488a95a9a9981d65c906": {
          "model_module": "@jupyter-widgets/base",
          "model_name": "LayoutModel",
          "model_module_version": "1.2.0",
          "state": {
            "_model_module": "@jupyter-widgets/base",
            "_model_module_version": "1.2.0",
            "_model_name": "LayoutModel",
            "_view_count": null,
            "_view_module": "@jupyter-widgets/base",
            "_view_module_version": "1.2.0",
            "_view_name": "LayoutView",
            "align_content": null,
            "align_items": null,
            "align_self": null,
            "border": null,
            "bottom": null,
            "display": null,
            "flex": null,
            "flex_flow": null,
            "grid_area": null,
            "grid_auto_columns": null,
            "grid_auto_flow": null,
            "grid_auto_rows": null,
            "grid_column": null,
            "grid_gap": null,
            "grid_row": null,
            "grid_template_areas": null,
            "grid_template_columns": null,
            "grid_template_rows": null,
            "height": null,
            "justify_content": null,
            "justify_items": null,
            "left": null,
            "margin": null,
            "max_height": null,
            "max_width": null,
            "min_height": null,
            "min_width": null,
            "object_fit": null,
            "object_position": null,
            "order": null,
            "overflow": null,
            "overflow_x": null,
            "overflow_y": null,
            "padding": null,
            "right": null,
            "top": null,
            "visibility": null,
            "width": null
          }
        },
        "d0218eee5cb24738ad2b6c6453fbf8fe": {
          "model_module": "@jupyter-widgets/controls",
          "model_name": "ProgressStyleModel",
          "model_module_version": "1.5.0",
          "state": {
            "_model_module": "@jupyter-widgets/controls",
            "_model_module_version": "1.5.0",
            "_model_name": "ProgressStyleModel",
            "_view_count": null,
            "_view_module": "@jupyter-widgets/base",
            "_view_module_version": "1.2.0",
            "_view_name": "StyleView",
            "bar_color": null,
            "description_width": ""
          }
        },
        "7f44045c45bb42fdb96aac625c516b64": {
          "model_module": "@jupyter-widgets/base",
          "model_name": "LayoutModel",
          "model_module_version": "1.2.0",
          "state": {
            "_model_module": "@jupyter-widgets/base",
            "_model_module_version": "1.2.0",
            "_model_name": "LayoutModel",
            "_view_count": null,
            "_view_module": "@jupyter-widgets/base",
            "_view_module_version": "1.2.0",
            "_view_name": "LayoutView",
            "align_content": null,
            "align_items": null,
            "align_self": null,
            "border": null,
            "bottom": null,
            "display": null,
            "flex": null,
            "flex_flow": null,
            "grid_area": null,
            "grid_auto_columns": null,
            "grid_auto_flow": null,
            "grid_auto_rows": null,
            "grid_column": null,
            "grid_gap": null,
            "grid_row": null,
            "grid_template_areas": null,
            "grid_template_columns": null,
            "grid_template_rows": null,
            "height": null,
            "justify_content": null,
            "justify_items": null,
            "left": null,
            "margin": null,
            "max_height": null,
            "max_width": null,
            "min_height": null,
            "min_width": null,
            "object_fit": null,
            "object_position": null,
            "order": null,
            "overflow": null,
            "overflow_x": null,
            "overflow_y": null,
            "padding": null,
            "right": null,
            "top": null,
            "visibility": null,
            "width": null
          }
        },
        "6c0b24d6022945f091a85579eb92c7ce": {
          "model_module": "@jupyter-widgets/controls",
          "model_name": "DescriptionStyleModel",
          "model_module_version": "1.5.0",
          "state": {
            "_model_module": "@jupyter-widgets/controls",
            "_model_module_version": "1.5.0",
            "_model_name": "DescriptionStyleModel",
            "_view_count": null,
            "_view_module": "@jupyter-widgets/base",
            "_view_module_version": "1.2.0",
            "_view_name": "StyleView",
            "description_width": ""
          }
        },
        "2fb4d9dd0af84bf7b2eed9de815134a1": {
          "model_module": "@jupyter-widgets/controls",
          "model_name": "HBoxModel",
          "model_module_version": "1.5.0",
          "state": {
            "_dom_classes": [],
            "_model_module": "@jupyter-widgets/controls",
            "_model_module_version": "1.5.0",
            "_model_name": "HBoxModel",
            "_view_count": null,
            "_view_module": "@jupyter-widgets/controls",
            "_view_module_version": "1.5.0",
            "_view_name": "HBoxView",
            "box_style": "",
            "children": [
              "IPY_MODEL_11a567267378410ab3f92117d3316ea3",
              "IPY_MODEL_5c6300055ba64a2985a00f166fd54d7f",
              "IPY_MODEL_ab0b6e5523e8451ebf73512ce373a191"
            ],
            "layout": "IPY_MODEL_7068cdd5d53d40a7a811eab9952ee3f1"
          }
        },
        "11a567267378410ab3f92117d3316ea3": {
          "model_module": "@jupyter-widgets/controls",
          "model_name": "HTMLModel",
          "model_module_version": "1.5.0",
          "state": {
            "_dom_classes": [],
            "_model_module": "@jupyter-widgets/controls",
            "_model_module_version": "1.5.0",
            "_model_name": "HTMLModel",
            "_view_count": null,
            "_view_module": "@jupyter-widgets/controls",
            "_view_module_version": "1.5.0",
            "_view_name": "HTMLView",
            "description": "",
            "description_tooltip": null,
            "layout": "IPY_MODEL_4c209134c3964acd8dc1d43362d8741a",
            "placeholder": "​",
            "style": "IPY_MODEL_914c16e314b94e629923d5629918f3b8",
            "value": "Map: 100%"
          }
        },
        "5c6300055ba64a2985a00f166fd54d7f": {
          "model_module": "@jupyter-widgets/controls",
          "model_name": "FloatProgressModel",
          "model_module_version": "1.5.0",
          "state": {
            "_dom_classes": [],
            "_model_module": "@jupyter-widgets/controls",
            "_model_module_version": "1.5.0",
            "_model_name": "FloatProgressModel",
            "_view_count": null,
            "_view_module": "@jupyter-widgets/controls",
            "_view_module_version": "1.5.0",
            "_view_name": "ProgressView",
            "bar_style": "success",
            "description": "",
            "description_tooltip": null,
            "layout": "IPY_MODEL_3558485695064a36954f760b59ef6ee7",
            "max": 1725,
            "min": 0,
            "orientation": "horizontal",
            "style": "IPY_MODEL_caec8fe5ead6466187248222049dc868",
            "value": 1725
          }
        },
        "ab0b6e5523e8451ebf73512ce373a191": {
          "model_module": "@jupyter-widgets/controls",
          "model_name": "HTMLModel",
          "model_module_version": "1.5.0",
          "state": {
            "_dom_classes": [],
            "_model_module": "@jupyter-widgets/controls",
            "_model_module_version": "1.5.0",
            "_model_name": "HTMLModel",
            "_view_count": null,
            "_view_module": "@jupyter-widgets/controls",
            "_view_module_version": "1.5.0",
            "_view_name": "HTMLView",
            "description": "",
            "description_tooltip": null,
            "layout": "IPY_MODEL_fd3f7dc7cf2e4332b40b73715aa8ede2",
            "placeholder": "​",
            "style": "IPY_MODEL_a2adf85527744161a677edee83896c6e",
            "value": " 1725/1725 [00:00&lt;00:00, 12021.72 examples/s]"
          }
        },
        "7068cdd5d53d40a7a811eab9952ee3f1": {
          "model_module": "@jupyter-widgets/base",
          "model_name": "LayoutModel",
          "model_module_version": "1.2.0",
          "state": {
            "_model_module": "@jupyter-widgets/base",
            "_model_module_version": "1.2.0",
            "_model_name": "LayoutModel",
            "_view_count": null,
            "_view_module": "@jupyter-widgets/base",
            "_view_module_version": "1.2.0",
            "_view_name": "LayoutView",
            "align_content": null,
            "align_items": null,
            "align_self": null,
            "border": null,
            "bottom": null,
            "display": null,
            "flex": null,
            "flex_flow": null,
            "grid_area": null,
            "grid_auto_columns": null,
            "grid_auto_flow": null,
            "grid_auto_rows": null,
            "grid_column": null,
            "grid_gap": null,
            "grid_row": null,
            "grid_template_areas": null,
            "grid_template_columns": null,
            "grid_template_rows": null,
            "height": null,
            "justify_content": null,
            "justify_items": null,
            "left": null,
            "margin": null,
            "max_height": null,
            "max_width": null,
            "min_height": null,
            "min_width": null,
            "object_fit": null,
            "object_position": null,
            "order": null,
            "overflow": null,
            "overflow_x": null,
            "overflow_y": null,
            "padding": null,
            "right": null,
            "top": null,
            "visibility": null,
            "width": null
          }
        },
        "4c209134c3964acd8dc1d43362d8741a": {
          "model_module": "@jupyter-widgets/base",
          "model_name": "LayoutModel",
          "model_module_version": "1.2.0",
          "state": {
            "_model_module": "@jupyter-widgets/base",
            "_model_module_version": "1.2.0",
            "_model_name": "LayoutModel",
            "_view_count": null,
            "_view_module": "@jupyter-widgets/base",
            "_view_module_version": "1.2.0",
            "_view_name": "LayoutView",
            "align_content": null,
            "align_items": null,
            "align_self": null,
            "border": null,
            "bottom": null,
            "display": null,
            "flex": null,
            "flex_flow": null,
            "grid_area": null,
            "grid_auto_columns": null,
            "grid_auto_flow": null,
            "grid_auto_rows": null,
            "grid_column": null,
            "grid_gap": null,
            "grid_row": null,
            "grid_template_areas": null,
            "grid_template_columns": null,
            "grid_template_rows": null,
            "height": null,
            "justify_content": null,
            "justify_items": null,
            "left": null,
            "margin": null,
            "max_height": null,
            "max_width": null,
            "min_height": null,
            "min_width": null,
            "object_fit": null,
            "object_position": null,
            "order": null,
            "overflow": null,
            "overflow_x": null,
            "overflow_y": null,
            "padding": null,
            "right": null,
            "top": null,
            "visibility": null,
            "width": null
          }
        },
        "914c16e314b94e629923d5629918f3b8": {
          "model_module": "@jupyter-widgets/controls",
          "model_name": "DescriptionStyleModel",
          "model_module_version": "1.5.0",
          "state": {
            "_model_module": "@jupyter-widgets/controls",
            "_model_module_version": "1.5.0",
            "_model_name": "DescriptionStyleModel",
            "_view_count": null,
            "_view_module": "@jupyter-widgets/base",
            "_view_module_version": "1.2.0",
            "_view_name": "StyleView",
            "description_width": ""
          }
        },
        "3558485695064a36954f760b59ef6ee7": {
          "model_module": "@jupyter-widgets/base",
          "model_name": "LayoutModel",
          "model_module_version": "1.2.0",
          "state": {
            "_model_module": "@jupyter-widgets/base",
            "_model_module_version": "1.2.0",
            "_model_name": "LayoutModel",
            "_view_count": null,
            "_view_module": "@jupyter-widgets/base",
            "_view_module_version": "1.2.0",
            "_view_name": "LayoutView",
            "align_content": null,
            "align_items": null,
            "align_self": null,
            "border": null,
            "bottom": null,
            "display": null,
            "flex": null,
            "flex_flow": null,
            "grid_area": null,
            "grid_auto_columns": null,
            "grid_auto_flow": null,
            "grid_auto_rows": null,
            "grid_column": null,
            "grid_gap": null,
            "grid_row": null,
            "grid_template_areas": null,
            "grid_template_columns": null,
            "grid_template_rows": null,
            "height": null,
            "justify_content": null,
            "justify_items": null,
            "left": null,
            "margin": null,
            "max_height": null,
            "max_width": null,
            "min_height": null,
            "min_width": null,
            "object_fit": null,
            "object_position": null,
            "order": null,
            "overflow": null,
            "overflow_x": null,
            "overflow_y": null,
            "padding": null,
            "right": null,
            "top": null,
            "visibility": null,
            "width": null
          }
        },
        "caec8fe5ead6466187248222049dc868": {
          "model_module": "@jupyter-widgets/controls",
          "model_name": "ProgressStyleModel",
          "model_module_version": "1.5.0",
          "state": {
            "_model_module": "@jupyter-widgets/controls",
            "_model_module_version": "1.5.0",
            "_model_name": "ProgressStyleModel",
            "_view_count": null,
            "_view_module": "@jupyter-widgets/base",
            "_view_module_version": "1.2.0",
            "_view_name": "StyleView",
            "bar_color": null,
            "description_width": ""
          }
        },
        "fd3f7dc7cf2e4332b40b73715aa8ede2": {
          "model_module": "@jupyter-widgets/base",
          "model_name": "LayoutModel",
          "model_module_version": "1.2.0",
          "state": {
            "_model_module": "@jupyter-widgets/base",
            "_model_module_version": "1.2.0",
            "_model_name": "LayoutModel",
            "_view_count": null,
            "_view_module": "@jupyter-widgets/base",
            "_view_module_version": "1.2.0",
            "_view_name": "LayoutView",
            "align_content": null,
            "align_items": null,
            "align_self": null,
            "border": null,
            "bottom": null,
            "display": null,
            "flex": null,
            "flex_flow": null,
            "grid_area": null,
            "grid_auto_columns": null,
            "grid_auto_flow": null,
            "grid_auto_rows": null,
            "grid_column": null,
            "grid_gap": null,
            "grid_row": null,
            "grid_template_areas": null,
            "grid_template_columns": null,
            "grid_template_rows": null,
            "height": null,
            "justify_content": null,
            "justify_items": null,
            "left": null,
            "margin": null,
            "max_height": null,
            "max_width": null,
            "min_height": null,
            "min_width": null,
            "object_fit": null,
            "object_position": null,
            "order": null,
            "overflow": null,
            "overflow_x": null,
            "overflow_y": null,
            "padding": null,
            "right": null,
            "top": null,
            "visibility": null,
            "width": null
          }
        },
        "a2adf85527744161a677edee83896c6e": {
          "model_module": "@jupyter-widgets/controls",
          "model_name": "DescriptionStyleModel",
          "model_module_version": "1.5.0",
          "state": {
            "_model_module": "@jupyter-widgets/controls",
            "_model_module_version": "1.5.0",
            "_model_name": "DescriptionStyleModel",
            "_view_count": null,
            "_view_module": "@jupyter-widgets/base",
            "_view_module_version": "1.2.0",
            "_view_name": "StyleView",
            "description_width": ""
          }
        },
        "34caf11a545343ec8961c206c6aca492": {
          "model_module": "@jupyter-widgets/controls",
          "model_name": "HBoxModel",
          "model_module_version": "1.5.0",
          "state": {
            "_dom_classes": [],
            "_model_module": "@jupyter-widgets/controls",
            "_model_module_version": "1.5.0",
            "_model_name": "HBoxModel",
            "_view_count": null,
            "_view_module": "@jupyter-widgets/controls",
            "_view_module_version": "1.5.0",
            "_view_name": "HBoxView",
            "box_style": "",
            "children": [
              "IPY_MODEL_e5c250c672f6491db71f36f5a9c1b068",
              "IPY_MODEL_93ee27a05bee4dcab402c155e591d0ab",
              "IPY_MODEL_0b8b75bf6afd42238df2df027f044586"
            ],
            "layout": "IPY_MODEL_a1e8b076d9cd4a639fd38d5096cb5be4"
          }
        },
        "e5c250c672f6491db71f36f5a9c1b068": {
          "model_module": "@jupyter-widgets/controls",
          "model_name": "HTMLModel",
          "model_module_version": "1.5.0",
          "state": {
            "_dom_classes": [],
            "_model_module": "@jupyter-widgets/controls",
            "_model_module_version": "1.5.0",
            "_model_name": "HTMLModel",
            "_view_count": null,
            "_view_module": "@jupyter-widgets/controls",
            "_view_module_version": "1.5.0",
            "_view_name": "HTMLView",
            "description": "",
            "description_tooltip": null,
            "layout": "IPY_MODEL_dce6e82dd09d41a78342734f8f1dea92",
            "placeholder": "​",
            "style": "IPY_MODEL_593b2c0e204d405cb6d48ac5118768bc",
            "value": "pytorch_model.bin: 100%"
          }
        },
        "93ee27a05bee4dcab402c155e591d0ab": {
          "model_module": "@jupyter-widgets/controls",
          "model_name": "FloatProgressModel",
          "model_module_version": "1.5.0",
          "state": {
            "_dom_classes": [],
            "_model_module": "@jupyter-widgets/controls",
            "_model_module_version": "1.5.0",
            "_model_name": "FloatProgressModel",
            "_view_count": null,
            "_view_module": "@jupyter-widgets/controls",
            "_view_module_version": "1.5.0",
            "_view_name": "ProgressView",
            "bar_style": "success",
            "description": "",
            "description_tooltip": null,
            "layout": "IPY_MODEL_49e70d2df42e4398aaa3ffb8d35c177e",
            "max": 17756393,
            "min": 0,
            "orientation": "horizontal",
            "style": "IPY_MODEL_8f575a2e565e466095a1b0dd6d4976c3",
            "value": 17756393
          }
        },
        "0b8b75bf6afd42238df2df027f044586": {
          "model_module": "@jupyter-widgets/controls",
          "model_name": "HTMLModel",
          "model_module_version": "1.5.0",
          "state": {
            "_dom_classes": [],
            "_model_module": "@jupyter-widgets/controls",
            "_model_module_version": "1.5.0",
            "_model_name": "HTMLModel",
            "_view_count": null,
            "_view_module": "@jupyter-widgets/controls",
            "_view_module_version": "1.5.0",
            "_view_name": "HTMLView",
            "description": "",
            "description_tooltip": null,
            "layout": "IPY_MODEL_060c83a01836445d87482f27cc7e2284",
            "placeholder": "​",
            "style": "IPY_MODEL_8c6e6e5a2f2d4527b504b08685646205",
            "value": " 17.8M/17.8M [00:00&lt;00:00, 24.4MB/s]"
          }
        },
        "a1e8b076d9cd4a639fd38d5096cb5be4": {
          "model_module": "@jupyter-widgets/base",
          "model_name": "LayoutModel",
          "model_module_version": "1.2.0",
          "state": {
            "_model_module": "@jupyter-widgets/base",
            "_model_module_version": "1.2.0",
            "_model_name": "LayoutModel",
            "_view_count": null,
            "_view_module": "@jupyter-widgets/base",
            "_view_module_version": "1.2.0",
            "_view_name": "LayoutView",
            "align_content": null,
            "align_items": null,
            "align_self": null,
            "border": null,
            "bottom": null,
            "display": null,
            "flex": null,
            "flex_flow": null,
            "grid_area": null,
            "grid_auto_columns": null,
            "grid_auto_flow": null,
            "grid_auto_rows": null,
            "grid_column": null,
            "grid_gap": null,
            "grid_row": null,
            "grid_template_areas": null,
            "grid_template_columns": null,
            "grid_template_rows": null,
            "height": null,
            "justify_content": null,
            "justify_items": null,
            "left": null,
            "margin": null,
            "max_height": null,
            "max_width": null,
            "min_height": null,
            "min_width": null,
            "object_fit": null,
            "object_position": null,
            "order": null,
            "overflow": null,
            "overflow_x": null,
            "overflow_y": null,
            "padding": null,
            "right": null,
            "top": null,
            "visibility": null,
            "width": null
          }
        },
        "dce6e82dd09d41a78342734f8f1dea92": {
          "model_module": "@jupyter-widgets/base",
          "model_name": "LayoutModel",
          "model_module_version": "1.2.0",
          "state": {
            "_model_module": "@jupyter-widgets/base",
            "_model_module_version": "1.2.0",
            "_model_name": "LayoutModel",
            "_view_count": null,
            "_view_module": "@jupyter-widgets/base",
            "_view_module_version": "1.2.0",
            "_view_name": "LayoutView",
            "align_content": null,
            "align_items": null,
            "align_self": null,
            "border": null,
            "bottom": null,
            "display": null,
            "flex": null,
            "flex_flow": null,
            "grid_area": null,
            "grid_auto_columns": null,
            "grid_auto_flow": null,
            "grid_auto_rows": null,
            "grid_column": null,
            "grid_gap": null,
            "grid_row": null,
            "grid_template_areas": null,
            "grid_template_columns": null,
            "grid_template_rows": null,
            "height": null,
            "justify_content": null,
            "justify_items": null,
            "left": null,
            "margin": null,
            "max_height": null,
            "max_width": null,
            "min_height": null,
            "min_width": null,
            "object_fit": null,
            "object_position": null,
            "order": null,
            "overflow": null,
            "overflow_x": null,
            "overflow_y": null,
            "padding": null,
            "right": null,
            "top": null,
            "visibility": null,
            "width": null
          }
        },
        "593b2c0e204d405cb6d48ac5118768bc": {
          "model_module": "@jupyter-widgets/controls",
          "model_name": "DescriptionStyleModel",
          "model_module_version": "1.5.0",
          "state": {
            "_model_module": "@jupyter-widgets/controls",
            "_model_module_version": "1.5.0",
            "_model_name": "DescriptionStyleModel",
            "_view_count": null,
            "_view_module": "@jupyter-widgets/base",
            "_view_module_version": "1.2.0",
            "_view_name": "StyleView",
            "description_width": ""
          }
        },
        "49e70d2df42e4398aaa3ffb8d35c177e": {
          "model_module": "@jupyter-widgets/base",
          "model_name": "LayoutModel",
          "model_module_version": "1.2.0",
          "state": {
            "_model_module": "@jupyter-widgets/base",
            "_model_module_version": "1.2.0",
            "_model_name": "LayoutModel",
            "_view_count": null,
            "_view_module": "@jupyter-widgets/base",
            "_view_module_version": "1.2.0",
            "_view_name": "LayoutView",
            "align_content": null,
            "align_items": null,
            "align_self": null,
            "border": null,
            "bottom": null,
            "display": null,
            "flex": null,
            "flex_flow": null,
            "grid_area": null,
            "grid_auto_columns": null,
            "grid_auto_flow": null,
            "grid_auto_rows": null,
            "grid_column": null,
            "grid_gap": null,
            "grid_row": null,
            "grid_template_areas": null,
            "grid_template_columns": null,
            "grid_template_rows": null,
            "height": null,
            "justify_content": null,
            "justify_items": null,
            "left": null,
            "margin": null,
            "max_height": null,
            "max_width": null,
            "min_height": null,
            "min_width": null,
            "object_fit": null,
            "object_position": null,
            "order": null,
            "overflow": null,
            "overflow_x": null,
            "overflow_y": null,
            "padding": null,
            "right": null,
            "top": null,
            "visibility": null,
            "width": null
          }
        },
        "8f575a2e565e466095a1b0dd6d4976c3": {
          "model_module": "@jupyter-widgets/controls",
          "model_name": "ProgressStyleModel",
          "model_module_version": "1.5.0",
          "state": {
            "_model_module": "@jupyter-widgets/controls",
            "_model_module_version": "1.5.0",
            "_model_name": "ProgressStyleModel",
            "_view_count": null,
            "_view_module": "@jupyter-widgets/base",
            "_view_module_version": "1.2.0",
            "_view_name": "StyleView",
            "bar_color": null,
            "description_width": ""
          }
        },
        "060c83a01836445d87482f27cc7e2284": {
          "model_module": "@jupyter-widgets/base",
          "model_name": "LayoutModel",
          "model_module_version": "1.2.0",
          "state": {
            "_model_module": "@jupyter-widgets/base",
            "_model_module_version": "1.2.0",
            "_model_name": "LayoutModel",
            "_view_count": null,
            "_view_module": "@jupyter-widgets/base",
            "_view_module_version": "1.2.0",
            "_view_name": "LayoutView",
            "align_content": null,
            "align_items": null,
            "align_self": null,
            "border": null,
            "bottom": null,
            "display": null,
            "flex": null,
            "flex_flow": null,
            "grid_area": null,
            "grid_auto_columns": null,
            "grid_auto_flow": null,
            "grid_auto_rows": null,
            "grid_column": null,
            "grid_gap": null,
            "grid_row": null,
            "grid_template_areas": null,
            "grid_template_columns": null,
            "grid_template_rows": null,
            "height": null,
            "justify_content": null,
            "justify_items": null,
            "left": null,
            "margin": null,
            "max_height": null,
            "max_width": null,
            "min_height": null,
            "min_width": null,
            "object_fit": null,
            "object_position": null,
            "order": null,
            "overflow": null,
            "overflow_x": null,
            "overflow_y": null,
            "padding": null,
            "right": null,
            "top": null,
            "visibility": null,
            "width": null
          }
        },
        "8c6e6e5a2f2d4527b504b08685646205": {
          "model_module": "@jupyter-widgets/controls",
          "model_name": "DescriptionStyleModel",
          "model_module_version": "1.5.0",
          "state": {
            "_model_module": "@jupyter-widgets/controls",
            "_model_module_version": "1.5.0",
            "_model_name": "DescriptionStyleModel",
            "_view_count": null,
            "_view_module": "@jupyter-widgets/base",
            "_view_module_version": "1.2.0",
            "_view_name": "StyleView",
            "description_width": ""
          }
        },
        "6f599039b82f43b3ac3e3d6ea448b6fd": {
          "model_module": "@jupyter-widgets/controls",
          "model_name": "HBoxModel",
          "model_module_version": "1.5.0",
          "state": {
            "_dom_classes": [],
            "_model_module": "@jupyter-widgets/controls",
            "_model_module_version": "1.5.0",
            "_model_name": "HBoxModel",
            "_view_count": null,
            "_view_module": "@jupyter-widgets/controls",
            "_view_module_version": "1.5.0",
            "_view_name": "HBoxView",
            "box_style": "",
            "children": [
              "IPY_MODEL_039d7a70d2d84aad8b959f9e4e48b30d",
              "IPY_MODEL_674bdb8a33f94ada903b53faa8588c15",
              "IPY_MODEL_00d4df6f14074315904f0ef44e05833c"
            ],
            "layout": "IPY_MODEL_afbf2a2a6aa04cdcba2ca6c9e138ffb8"
          }
        },
        "039d7a70d2d84aad8b959f9e4e48b30d": {
          "model_module": "@jupyter-widgets/controls",
          "model_name": "HTMLModel",
          "model_module_version": "1.5.0",
          "state": {
            "_dom_classes": [],
            "_model_module": "@jupyter-widgets/controls",
            "_model_module_version": "1.5.0",
            "_model_name": "HTMLModel",
            "_view_count": null,
            "_view_module": "@jupyter-widgets/controls",
            "_view_module_version": "1.5.0",
            "_view_name": "HTMLView",
            "description": "",
            "description_tooltip": null,
            "layout": "IPY_MODEL_ac5d7035f98544bab6bae5ca5085e208",
            "placeholder": "​",
            "style": "IPY_MODEL_54e69d974dbf445bb7521601d334fa80",
            "value": "model.safetensors: 100%"
          }
        },
        "674bdb8a33f94ada903b53faa8588c15": {
          "model_module": "@jupyter-widgets/controls",
          "model_name": "FloatProgressModel",
          "model_module_version": "1.5.0",
          "state": {
            "_dom_classes": [],
            "_model_module": "@jupyter-widgets/controls",
            "_model_module_version": "1.5.0",
            "_model_name": "FloatProgressModel",
            "_view_count": null,
            "_view_module": "@jupyter-widgets/controls",
            "_view_module_version": "1.5.0",
            "_view_name": "ProgressView",
            "bar_style": "success",
            "description": "",
            "description_tooltip": null,
            "layout": "IPY_MODEL_a0770309283c4c8d988937d5d0f0f1b7",
            "max": 17743328,
            "min": 0,
            "orientation": "horizontal",
            "style": "IPY_MODEL_423b6158a5534024b599eb4b2b7ed2de",
            "value": 17743328
          }
        },
        "00d4df6f14074315904f0ef44e05833c": {
          "model_module": "@jupyter-widgets/controls",
          "model_name": "HTMLModel",
          "model_module_version": "1.5.0",
          "state": {
            "_dom_classes": [],
            "_model_module": "@jupyter-widgets/controls",
            "_model_module_version": "1.5.0",
            "_model_name": "HTMLModel",
            "_view_count": null,
            "_view_module": "@jupyter-widgets/controls",
            "_view_module_version": "1.5.0",
            "_view_name": "HTMLView",
            "description": "",
            "description_tooltip": null,
            "layout": "IPY_MODEL_c9d108bc790840c6b2587a07bd5fe529",
            "placeholder": "​",
            "style": "IPY_MODEL_62d015325c9b4aaf81ea6c0627c4013d",
            "value": " 17.7M/17.7M [00:00&lt;00:00, 26.6MB/s]"
          }
        },
        "afbf2a2a6aa04cdcba2ca6c9e138ffb8": {
          "model_module": "@jupyter-widgets/base",
          "model_name": "LayoutModel",
          "model_module_version": "1.2.0",
          "state": {
            "_model_module": "@jupyter-widgets/base",
            "_model_module_version": "1.2.0",
            "_model_name": "LayoutModel",
            "_view_count": null,
            "_view_module": "@jupyter-widgets/base",
            "_view_module_version": "1.2.0",
            "_view_name": "LayoutView",
            "align_content": null,
            "align_items": null,
            "align_self": null,
            "border": null,
            "bottom": null,
            "display": null,
            "flex": null,
            "flex_flow": null,
            "grid_area": null,
            "grid_auto_columns": null,
            "grid_auto_flow": null,
            "grid_auto_rows": null,
            "grid_column": null,
            "grid_gap": null,
            "grid_row": null,
            "grid_template_areas": null,
            "grid_template_columns": null,
            "grid_template_rows": null,
            "height": null,
            "justify_content": null,
            "justify_items": null,
            "left": null,
            "margin": null,
            "max_height": null,
            "max_width": null,
            "min_height": null,
            "min_width": null,
            "object_fit": null,
            "object_position": null,
            "order": null,
            "overflow": null,
            "overflow_x": null,
            "overflow_y": null,
            "padding": null,
            "right": null,
            "top": null,
            "visibility": null,
            "width": null
          }
        },
        "ac5d7035f98544bab6bae5ca5085e208": {
          "model_module": "@jupyter-widgets/base",
          "model_name": "LayoutModel",
          "model_module_version": "1.2.0",
          "state": {
            "_model_module": "@jupyter-widgets/base",
            "_model_module_version": "1.2.0",
            "_model_name": "LayoutModel",
            "_view_count": null,
            "_view_module": "@jupyter-widgets/base",
            "_view_module_version": "1.2.0",
            "_view_name": "LayoutView",
            "align_content": null,
            "align_items": null,
            "align_self": null,
            "border": null,
            "bottom": null,
            "display": null,
            "flex": null,
            "flex_flow": null,
            "grid_area": null,
            "grid_auto_columns": null,
            "grid_auto_flow": null,
            "grid_auto_rows": null,
            "grid_column": null,
            "grid_gap": null,
            "grid_row": null,
            "grid_template_areas": null,
            "grid_template_columns": null,
            "grid_template_rows": null,
            "height": null,
            "justify_content": null,
            "justify_items": null,
            "left": null,
            "margin": null,
            "max_height": null,
            "max_width": null,
            "min_height": null,
            "min_width": null,
            "object_fit": null,
            "object_position": null,
            "order": null,
            "overflow": null,
            "overflow_x": null,
            "overflow_y": null,
            "padding": null,
            "right": null,
            "top": null,
            "visibility": null,
            "width": null
          }
        },
        "54e69d974dbf445bb7521601d334fa80": {
          "model_module": "@jupyter-widgets/controls",
          "model_name": "DescriptionStyleModel",
          "model_module_version": "1.5.0",
          "state": {
            "_model_module": "@jupyter-widgets/controls",
            "_model_module_version": "1.5.0",
            "_model_name": "DescriptionStyleModel",
            "_view_count": null,
            "_view_module": "@jupyter-widgets/base",
            "_view_module_version": "1.2.0",
            "_view_name": "StyleView",
            "description_width": ""
          }
        },
        "a0770309283c4c8d988937d5d0f0f1b7": {
          "model_module": "@jupyter-widgets/base",
          "model_name": "LayoutModel",
          "model_module_version": "1.2.0",
          "state": {
            "_model_module": "@jupyter-widgets/base",
            "_model_module_version": "1.2.0",
            "_model_name": "LayoutModel",
            "_view_count": null,
            "_view_module": "@jupyter-widgets/base",
            "_view_module_version": "1.2.0",
            "_view_name": "LayoutView",
            "align_content": null,
            "align_items": null,
            "align_self": null,
            "border": null,
            "bottom": null,
            "display": null,
            "flex": null,
            "flex_flow": null,
            "grid_area": null,
            "grid_auto_columns": null,
            "grid_auto_flow": null,
            "grid_auto_rows": null,
            "grid_column": null,
            "grid_gap": null,
            "grid_row": null,
            "grid_template_areas": null,
            "grid_template_columns": null,
            "grid_template_rows": null,
            "height": null,
            "justify_content": null,
            "justify_items": null,
            "left": null,
            "margin": null,
            "max_height": null,
            "max_width": null,
            "min_height": null,
            "min_width": null,
            "object_fit": null,
            "object_position": null,
            "order": null,
            "overflow": null,
            "overflow_x": null,
            "overflow_y": null,
            "padding": null,
            "right": null,
            "top": null,
            "visibility": null,
            "width": null
          }
        },
        "423b6158a5534024b599eb4b2b7ed2de": {
          "model_module": "@jupyter-widgets/controls",
          "model_name": "ProgressStyleModel",
          "model_module_version": "1.5.0",
          "state": {
            "_model_module": "@jupyter-widgets/controls",
            "_model_module_version": "1.5.0",
            "_model_name": "ProgressStyleModel",
            "_view_count": null,
            "_view_module": "@jupyter-widgets/base",
            "_view_module_version": "1.2.0",
            "_view_name": "StyleView",
            "bar_color": null,
            "description_width": ""
          }
        },
        "c9d108bc790840c6b2587a07bd5fe529": {
          "model_module": "@jupyter-widgets/base",
          "model_name": "LayoutModel",
          "model_module_version": "1.2.0",
          "state": {
            "_model_module": "@jupyter-widgets/base",
            "_model_module_version": "1.2.0",
            "_model_name": "LayoutModel",
            "_view_count": null,
            "_view_module": "@jupyter-widgets/base",
            "_view_module_version": "1.2.0",
            "_view_name": "LayoutView",
            "align_content": null,
            "align_items": null,
            "align_self": null,
            "border": null,
            "bottom": null,
            "display": null,
            "flex": null,
            "flex_flow": null,
            "grid_area": null,
            "grid_auto_columns": null,
            "grid_auto_flow": null,
            "grid_auto_rows": null,
            "grid_column": null,
            "grid_gap": null,
            "grid_row": null,
            "grid_template_areas": null,
            "grid_template_columns": null,
            "grid_template_rows": null,
            "height": null,
            "justify_content": null,
            "justify_items": null,
            "left": null,
            "margin": null,
            "max_height": null,
            "max_width": null,
            "min_height": null,
            "min_width": null,
            "object_fit": null,
            "object_position": null,
            "order": null,
            "overflow": null,
            "overflow_x": null,
            "overflow_y": null,
            "padding": null,
            "right": null,
            "top": null,
            "visibility": null,
            "width": null
          }
        },
        "62d015325c9b4aaf81ea6c0627c4013d": {
          "model_module": "@jupyter-widgets/controls",
          "model_name": "DescriptionStyleModel",
          "model_module_version": "1.5.0",
          "state": {
            "_model_module": "@jupyter-widgets/controls",
            "_model_module_version": "1.5.0",
            "_model_name": "DescriptionStyleModel",
            "_view_count": null,
            "_view_module": "@jupyter-widgets/base",
            "_view_module_version": "1.2.0",
            "_view_name": "StyleView",
            "description_width": ""
          }
        },
        "67adf62c05b2441b8bc60f956b7caf8a": {
          "model_module": "@jupyter-widgets/controls",
          "model_name": "HBoxModel",
          "model_module_version": "1.5.0",
          "state": {
            "_dom_classes": [],
            "_model_module": "@jupyter-widgets/controls",
            "_model_module_version": "1.5.0",
            "_model_name": "HBoxModel",
            "_view_count": null,
            "_view_module": "@jupyter-widgets/controls",
            "_view_module_version": "1.5.0",
            "_view_name": "HBoxView",
            "box_style": "",
            "children": [
              "IPY_MODEL_4487eba307e74a969b8e459a694b3ca1",
              "IPY_MODEL_a065218d9cf142038687d4dca21729dd",
              "IPY_MODEL_8eba1689e14345aa90330866078fc79f"
            ],
            "layout": "IPY_MODEL_fed872cc2ec14e4d87a94462c61eec61"
          }
        },
        "4487eba307e74a969b8e459a694b3ca1": {
          "model_module": "@jupyter-widgets/controls",
          "model_name": "HTMLModel",
          "model_module_version": "1.5.0",
          "state": {
            "_dom_classes": [],
            "_model_module": "@jupyter-widgets/controls",
            "_model_module_version": "1.5.0",
            "_model_name": "HTMLModel",
            "_view_count": null,
            "_view_module": "@jupyter-widgets/controls",
            "_view_module_version": "1.5.0",
            "_view_name": "HTMLView",
            "description": "",
            "description_tooltip": null,
            "layout": "IPY_MODEL_31d079c9b39741958cab7910b739c49e",
            "placeholder": "​",
            "style": "IPY_MODEL_4cfcf0964a9048f5a970601252c274b2",
            "value": "Downloading builder script: 100%"
          }
        },
        "a065218d9cf142038687d4dca21729dd": {
          "model_module": "@jupyter-widgets/controls",
          "model_name": "FloatProgressModel",
          "model_module_version": "1.5.0",
          "state": {
            "_dom_classes": [],
            "_model_module": "@jupyter-widgets/controls",
            "_model_module_version": "1.5.0",
            "_model_name": "FloatProgressModel",
            "_view_count": null,
            "_view_module": "@jupyter-widgets/controls",
            "_view_module_version": "1.5.0",
            "_view_name": "ProgressView",
            "bar_style": "success",
            "description": "",
            "description_tooltip": null,
            "layout": "IPY_MODEL_ca9facc8c6fa4e79b5d1ead54fa949f8",
            "max": 5749,
            "min": 0,
            "orientation": "horizontal",
            "style": "IPY_MODEL_e3dfcd61c419412c9b2d2c99d1c1e525",
            "value": 5749
          }
        },
        "8eba1689e14345aa90330866078fc79f": {
          "model_module": "@jupyter-widgets/controls",
          "model_name": "HTMLModel",
          "model_module_version": "1.5.0",
          "state": {
            "_dom_classes": [],
            "_model_module": "@jupyter-widgets/controls",
            "_model_module_version": "1.5.0",
            "_model_name": "HTMLModel",
            "_view_count": null,
            "_view_module": "@jupyter-widgets/controls",
            "_view_module_version": "1.5.0",
            "_view_name": "HTMLView",
            "description": "",
            "description_tooltip": null,
            "layout": "IPY_MODEL_5f61f672a750437fa6000a2156d7bcff",
            "placeholder": "​",
            "style": "IPY_MODEL_960d3c6041084a5daa14303f3c1b45c7",
            "value": " 5.75k/5.75k [00:00&lt;00:00, 417kB/s]"
          }
        },
        "fed872cc2ec14e4d87a94462c61eec61": {
          "model_module": "@jupyter-widgets/base",
          "model_name": "LayoutModel",
          "model_module_version": "1.2.0",
          "state": {
            "_model_module": "@jupyter-widgets/base",
            "_model_module_version": "1.2.0",
            "_model_name": "LayoutModel",
            "_view_count": null,
            "_view_module": "@jupyter-widgets/base",
            "_view_module_version": "1.2.0",
            "_view_name": "LayoutView",
            "align_content": null,
            "align_items": null,
            "align_self": null,
            "border": null,
            "bottom": null,
            "display": null,
            "flex": null,
            "flex_flow": null,
            "grid_area": null,
            "grid_auto_columns": null,
            "grid_auto_flow": null,
            "grid_auto_rows": null,
            "grid_column": null,
            "grid_gap": null,
            "grid_row": null,
            "grid_template_areas": null,
            "grid_template_columns": null,
            "grid_template_rows": null,
            "height": null,
            "justify_content": null,
            "justify_items": null,
            "left": null,
            "margin": null,
            "max_height": null,
            "max_width": null,
            "min_height": null,
            "min_width": null,
            "object_fit": null,
            "object_position": null,
            "order": null,
            "overflow": null,
            "overflow_x": null,
            "overflow_y": null,
            "padding": null,
            "right": null,
            "top": null,
            "visibility": null,
            "width": null
          }
        },
        "31d079c9b39741958cab7910b739c49e": {
          "model_module": "@jupyter-widgets/base",
          "model_name": "LayoutModel",
          "model_module_version": "1.2.0",
          "state": {
            "_model_module": "@jupyter-widgets/base",
            "_model_module_version": "1.2.0",
            "_model_name": "LayoutModel",
            "_view_count": null,
            "_view_module": "@jupyter-widgets/base",
            "_view_module_version": "1.2.0",
            "_view_name": "LayoutView",
            "align_content": null,
            "align_items": null,
            "align_self": null,
            "border": null,
            "bottom": null,
            "display": null,
            "flex": null,
            "flex_flow": null,
            "grid_area": null,
            "grid_auto_columns": null,
            "grid_auto_flow": null,
            "grid_auto_rows": null,
            "grid_column": null,
            "grid_gap": null,
            "grid_row": null,
            "grid_template_areas": null,
            "grid_template_columns": null,
            "grid_template_rows": null,
            "height": null,
            "justify_content": null,
            "justify_items": null,
            "left": null,
            "margin": null,
            "max_height": null,
            "max_width": null,
            "min_height": null,
            "min_width": null,
            "object_fit": null,
            "object_position": null,
            "order": null,
            "overflow": null,
            "overflow_x": null,
            "overflow_y": null,
            "padding": null,
            "right": null,
            "top": null,
            "visibility": null,
            "width": null
          }
        },
        "4cfcf0964a9048f5a970601252c274b2": {
          "model_module": "@jupyter-widgets/controls",
          "model_name": "DescriptionStyleModel",
          "model_module_version": "1.5.0",
          "state": {
            "_model_module": "@jupyter-widgets/controls",
            "_model_module_version": "1.5.0",
            "_model_name": "DescriptionStyleModel",
            "_view_count": null,
            "_view_module": "@jupyter-widgets/base",
            "_view_module_version": "1.2.0",
            "_view_name": "StyleView",
            "description_width": ""
          }
        },
        "ca9facc8c6fa4e79b5d1ead54fa949f8": {
          "model_module": "@jupyter-widgets/base",
          "model_name": "LayoutModel",
          "model_module_version": "1.2.0",
          "state": {
            "_model_module": "@jupyter-widgets/base",
            "_model_module_version": "1.2.0",
            "_model_name": "LayoutModel",
            "_view_count": null,
            "_view_module": "@jupyter-widgets/base",
            "_view_module_version": "1.2.0",
            "_view_name": "LayoutView",
            "align_content": null,
            "align_items": null,
            "align_self": null,
            "border": null,
            "bottom": null,
            "display": null,
            "flex": null,
            "flex_flow": null,
            "grid_area": null,
            "grid_auto_columns": null,
            "grid_auto_flow": null,
            "grid_auto_rows": null,
            "grid_column": null,
            "grid_gap": null,
            "grid_row": null,
            "grid_template_areas": null,
            "grid_template_columns": null,
            "grid_template_rows": null,
            "height": null,
            "justify_content": null,
            "justify_items": null,
            "left": null,
            "margin": null,
            "max_height": null,
            "max_width": null,
            "min_height": null,
            "min_width": null,
            "object_fit": null,
            "object_position": null,
            "order": null,
            "overflow": null,
            "overflow_x": null,
            "overflow_y": null,
            "padding": null,
            "right": null,
            "top": null,
            "visibility": null,
            "width": null
          }
        },
        "e3dfcd61c419412c9b2d2c99d1c1e525": {
          "model_module": "@jupyter-widgets/controls",
          "model_name": "ProgressStyleModel",
          "model_module_version": "1.5.0",
          "state": {
            "_model_module": "@jupyter-widgets/controls",
            "_model_module_version": "1.5.0",
            "_model_name": "ProgressStyleModel",
            "_view_count": null,
            "_view_module": "@jupyter-widgets/base",
            "_view_module_version": "1.2.0",
            "_view_name": "StyleView",
            "bar_color": null,
            "description_width": ""
          }
        },
        "5f61f672a750437fa6000a2156d7bcff": {
          "model_module": "@jupyter-widgets/base",
          "model_name": "LayoutModel",
          "model_module_version": "1.2.0",
          "state": {
            "_model_module": "@jupyter-widgets/base",
            "_model_module_version": "1.2.0",
            "_model_name": "LayoutModel",
            "_view_count": null,
            "_view_module": "@jupyter-widgets/base",
            "_view_module_version": "1.2.0",
            "_view_name": "LayoutView",
            "align_content": null,
            "align_items": null,
            "align_self": null,
            "border": null,
            "bottom": null,
            "display": null,
            "flex": null,
            "flex_flow": null,
            "grid_area": null,
            "grid_auto_columns": null,
            "grid_auto_flow": null,
            "grid_auto_rows": null,
            "grid_column": null,
            "grid_gap": null,
            "grid_row": null,
            "grid_template_areas": null,
            "grid_template_columns": null,
            "grid_template_rows": null,
            "height": null,
            "justify_content": null,
            "justify_items": null,
            "left": null,
            "margin": null,
            "max_height": null,
            "max_width": null,
            "min_height": null,
            "min_width": null,
            "object_fit": null,
            "object_position": null,
            "order": null,
            "overflow": null,
            "overflow_x": null,
            "overflow_y": null,
            "padding": null,
            "right": null,
            "top": null,
            "visibility": null,
            "width": null
          }
        },
        "960d3c6041084a5daa14303f3c1b45c7": {
          "model_module": "@jupyter-widgets/controls",
          "model_name": "DescriptionStyleModel",
          "model_module_version": "1.5.0",
          "state": {
            "_model_module": "@jupyter-widgets/controls",
            "_model_module_version": "1.5.0",
            "_model_name": "DescriptionStyleModel",
            "_view_count": null,
            "_view_module": "@jupyter-widgets/base",
            "_view_module_version": "1.2.0",
            "_view_name": "StyleView",
            "description_width": ""
          }
        }
      }
    }
  },
  "nbformat": 4,
  "nbformat_minor": 0
}