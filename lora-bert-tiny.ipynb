{
  "cells": [
    {
      "cell_type": "markdown",
      "metadata": {
        "id": "view-in-github",
        "colab_type": "text"
      },
      "source": [
        "<a href=\"https://colab.research.google.com/github/danjshaw/ece57000-finalProject/blob/main/lora-bert-tiny.ipynb\" target=\"_parent\"><img src=\"https://colab.research.google.com/assets/colab-badge.svg\" alt=\"Open In Colab\"/></a>"
      ]
    },
    {
      "cell_type": "markdown",
      "source": [
        "# Initial Setup"
      ],
      "metadata": {
        "id": "RJc8lRi2sPF3"
      }
    },
    {
      "cell_type": "code",
      "source": [
        "from google.colab import drive\n",
        "drive.mount('/content/drive')"
      ],
      "metadata": {
        "id": "s1zuELS-Znol"
      },
      "execution_count": null,
      "outputs": []
    },
    {
      "cell_type": "code",
      "execution_count": 1,
      "metadata": {
        "colab": {
          "base_uri": "https://localhost:8080/"
        },
        "collapsed": true,
        "id": "OOOR51p7nJQb",
        "outputId": "49a8a09d-82bd-424c-b8cb-90ad5a82740b"
      },
      "outputs": [
        {
          "output_type": "stream",
          "name": "stdout",
          "text": [
            "Collecting datasets\n",
            "  Downloading datasets-3.1.0-py3-none-any.whl.metadata (20 kB)\n",
            "Requirement already satisfied: filelock in /usr/local/lib/python3.10/dist-packages (from datasets) (3.16.1)\n",
            "Requirement already satisfied: numpy>=1.17 in /usr/local/lib/python3.10/dist-packages (from datasets) (1.26.4)\n",
            "Requirement already satisfied: pyarrow>=15.0.0 in /usr/local/lib/python3.10/dist-packages (from datasets) (17.0.0)\n",
            "Collecting dill<0.3.9,>=0.3.0 (from datasets)\n",
            "  Downloading dill-0.3.8-py3-none-any.whl.metadata (10 kB)\n",
            "Requirement already satisfied: pandas in /usr/local/lib/python3.10/dist-packages (from datasets) (2.2.2)\n",
            "Requirement already satisfied: requests>=2.32.2 in /usr/local/lib/python3.10/dist-packages (from datasets) (2.32.3)\n",
            "Requirement already satisfied: tqdm>=4.66.3 in /usr/local/lib/python3.10/dist-packages (from datasets) (4.66.6)\n",
            "Collecting xxhash (from datasets)\n",
            "  Downloading xxhash-3.5.0-cp310-cp310-manylinux_2_17_x86_64.manylinux2014_x86_64.whl.metadata (12 kB)\n",
            "Collecting multiprocess<0.70.17 (from datasets)\n",
            "  Downloading multiprocess-0.70.16-py310-none-any.whl.metadata (7.2 kB)\n",
            "Collecting fsspec<=2024.9.0,>=2023.1.0 (from fsspec[http]<=2024.9.0,>=2023.1.0->datasets)\n",
            "  Downloading fsspec-2024.9.0-py3-none-any.whl.metadata (11 kB)\n",
            "Requirement already satisfied: aiohttp in /usr/local/lib/python3.10/dist-packages (from datasets) (3.10.10)\n",
            "Requirement already satisfied: huggingface-hub>=0.23.0 in /usr/local/lib/python3.10/dist-packages (from datasets) (0.26.2)\n",
            "Requirement already satisfied: packaging in /usr/local/lib/python3.10/dist-packages (from datasets) (24.2)\n",
            "Requirement already satisfied: pyyaml>=5.1 in /usr/local/lib/python3.10/dist-packages (from datasets) (6.0.2)\n",
            "Requirement already satisfied: aiohappyeyeballs>=2.3.0 in /usr/local/lib/python3.10/dist-packages (from aiohttp->datasets) (2.4.3)\n",
            "Requirement already satisfied: aiosignal>=1.1.2 in /usr/local/lib/python3.10/dist-packages (from aiohttp->datasets) (1.3.1)\n",
            "Requirement already satisfied: attrs>=17.3.0 in /usr/local/lib/python3.10/dist-packages (from aiohttp->datasets) (24.2.0)\n",
            "Requirement already satisfied: frozenlist>=1.1.1 in /usr/local/lib/python3.10/dist-packages (from aiohttp->datasets) (1.5.0)\n",
            "Requirement already satisfied: multidict<7.0,>=4.5 in /usr/local/lib/python3.10/dist-packages (from aiohttp->datasets) (6.1.0)\n",
            "Requirement already satisfied: yarl<2.0,>=1.12.0 in /usr/local/lib/python3.10/dist-packages (from aiohttp->datasets) (1.17.1)\n",
            "Requirement already satisfied: async-timeout<5.0,>=4.0 in /usr/local/lib/python3.10/dist-packages (from aiohttp->datasets) (4.0.3)\n",
            "Requirement already satisfied: typing-extensions>=3.7.4.3 in /usr/local/lib/python3.10/dist-packages (from huggingface-hub>=0.23.0->datasets) (4.12.2)\n",
            "Requirement already satisfied: charset-normalizer<4,>=2 in /usr/local/lib/python3.10/dist-packages (from requests>=2.32.2->datasets) (3.4.0)\n",
            "Requirement already satisfied: idna<4,>=2.5 in /usr/local/lib/python3.10/dist-packages (from requests>=2.32.2->datasets) (3.10)\n",
            "Requirement already satisfied: urllib3<3,>=1.21.1 in /usr/local/lib/python3.10/dist-packages (from requests>=2.32.2->datasets) (2.2.3)\n",
            "Requirement already satisfied: certifi>=2017.4.17 in /usr/local/lib/python3.10/dist-packages (from requests>=2.32.2->datasets) (2024.8.30)\n",
            "Requirement already satisfied: python-dateutil>=2.8.2 in /usr/local/lib/python3.10/dist-packages (from pandas->datasets) (2.8.2)\n",
            "Requirement already satisfied: pytz>=2020.1 in /usr/local/lib/python3.10/dist-packages (from pandas->datasets) (2024.2)\n",
            "Requirement already satisfied: tzdata>=2022.7 in /usr/local/lib/python3.10/dist-packages (from pandas->datasets) (2024.2)\n",
            "Requirement already satisfied: six>=1.5 in /usr/local/lib/python3.10/dist-packages (from python-dateutil>=2.8.2->pandas->datasets) (1.16.0)\n",
            "Requirement already satisfied: propcache>=0.2.0 in /usr/local/lib/python3.10/dist-packages (from yarl<2.0,>=1.12.0->aiohttp->datasets) (0.2.0)\n",
            "Downloading datasets-3.1.0-py3-none-any.whl (480 kB)\n",
            "\u001b[2K   \u001b[90m━━━━━━━━━━━━━━━━━━━━━━━━━━━━━━━━━━━━━━━━\u001b[0m \u001b[32m480.6/480.6 kB\u001b[0m \u001b[31m9.3 MB/s\u001b[0m eta \u001b[36m0:00:00\u001b[0m\n",
            "\u001b[?25hDownloading dill-0.3.8-py3-none-any.whl (116 kB)\n",
            "\u001b[2K   \u001b[90m━━━━━━━━━━━━━━━━━━━━━━━━━━━━━━━━━━━━━━━━\u001b[0m \u001b[32m116.3/116.3 kB\u001b[0m \u001b[31m10.1 MB/s\u001b[0m eta \u001b[36m0:00:00\u001b[0m\n",
            "\u001b[?25hDownloading fsspec-2024.9.0-py3-none-any.whl (179 kB)\n",
            "\u001b[2K   \u001b[90m━━━━━━━━━━━━━━━━━━━━━━━━━━━━━━━━━━━━━━━━\u001b[0m \u001b[32m179.3/179.3 kB\u001b[0m \u001b[31m16.0 MB/s\u001b[0m eta \u001b[36m0:00:00\u001b[0m\n",
            "\u001b[?25hDownloading multiprocess-0.70.16-py310-none-any.whl (134 kB)\n",
            "\u001b[2K   \u001b[90m━━━━━━━━━━━━━━━━━━━━━━━━━━━━━━━━━━━━━━━━\u001b[0m \u001b[32m134.8/134.8 kB\u001b[0m \u001b[31m12.1 MB/s\u001b[0m eta \u001b[36m0:00:00\u001b[0m\n",
            "\u001b[?25hDownloading xxhash-3.5.0-cp310-cp310-manylinux_2_17_x86_64.manylinux2014_x86_64.whl (194 kB)\n",
            "\u001b[2K   \u001b[90m━━━━━━━━━━━━━━━━━━━━━━━━━━━━━━━━━━━━━━━━\u001b[0m \u001b[32m194.1/194.1 kB\u001b[0m \u001b[31m17.1 MB/s\u001b[0m eta \u001b[36m0:00:00\u001b[0m\n",
            "\u001b[?25hInstalling collected packages: xxhash, fsspec, dill, multiprocess, datasets\n",
            "  Attempting uninstall: fsspec\n",
            "    Found existing installation: fsspec 2024.10.0\n",
            "    Uninstalling fsspec-2024.10.0:\n",
            "      Successfully uninstalled fsspec-2024.10.0\n",
            "\u001b[31mERROR: pip's dependency resolver does not currently take into account all the packages that are installed. This behaviour is the source of the following dependency conflicts.\n",
            "gcsfs 2024.10.0 requires fsspec==2024.10.0, but you have fsspec 2024.9.0 which is incompatible.\u001b[0m\u001b[31m\n",
            "\u001b[0mSuccessfully installed datasets-3.1.0 dill-0.3.8 fsspec-2024.9.0 multiprocess-0.70.16 xxhash-3.5.0\n",
            "Collecting evaluate\n",
            "  Downloading evaluate-0.4.3-py3-none-any.whl.metadata (9.2 kB)\n",
            "Requirement already satisfied: datasets>=2.0.0 in /usr/local/lib/python3.10/dist-packages (from evaluate) (3.1.0)\n",
            "Requirement already satisfied: numpy>=1.17 in /usr/local/lib/python3.10/dist-packages (from evaluate) (1.26.4)\n",
            "Requirement already satisfied: dill in /usr/local/lib/python3.10/dist-packages (from evaluate) (0.3.8)\n",
            "Requirement already satisfied: pandas in /usr/local/lib/python3.10/dist-packages (from evaluate) (2.2.2)\n",
            "Requirement already satisfied: requests>=2.19.0 in /usr/local/lib/python3.10/dist-packages (from evaluate) (2.32.3)\n",
            "Requirement already satisfied: tqdm>=4.62.1 in /usr/local/lib/python3.10/dist-packages (from evaluate) (4.66.6)\n",
            "Requirement already satisfied: xxhash in /usr/local/lib/python3.10/dist-packages (from evaluate) (3.5.0)\n",
            "Requirement already satisfied: multiprocess in /usr/local/lib/python3.10/dist-packages (from evaluate) (0.70.16)\n",
            "Requirement already satisfied: fsspec>=2021.05.0 in /usr/local/lib/python3.10/dist-packages (from fsspec[http]>=2021.05.0->evaluate) (2024.9.0)\n",
            "Requirement already satisfied: huggingface-hub>=0.7.0 in /usr/local/lib/python3.10/dist-packages (from evaluate) (0.26.2)\n",
            "Requirement already satisfied: packaging in /usr/local/lib/python3.10/dist-packages (from evaluate) (24.2)\n",
            "Requirement already satisfied: filelock in /usr/local/lib/python3.10/dist-packages (from datasets>=2.0.0->evaluate) (3.16.1)\n",
            "Requirement already satisfied: pyarrow>=15.0.0 in /usr/local/lib/python3.10/dist-packages (from datasets>=2.0.0->evaluate) (17.0.0)\n",
            "Requirement already satisfied: aiohttp in /usr/local/lib/python3.10/dist-packages (from datasets>=2.0.0->evaluate) (3.10.10)\n",
            "Requirement already satisfied: pyyaml>=5.1 in /usr/local/lib/python3.10/dist-packages (from datasets>=2.0.0->evaluate) (6.0.2)\n",
            "Requirement already satisfied: typing-extensions>=3.7.4.3 in /usr/local/lib/python3.10/dist-packages (from huggingface-hub>=0.7.0->evaluate) (4.12.2)\n",
            "Requirement already satisfied: charset-normalizer<4,>=2 in /usr/local/lib/python3.10/dist-packages (from requests>=2.19.0->evaluate) (3.4.0)\n",
            "Requirement already satisfied: idna<4,>=2.5 in /usr/local/lib/python3.10/dist-packages (from requests>=2.19.0->evaluate) (3.10)\n",
            "Requirement already satisfied: urllib3<3,>=1.21.1 in /usr/local/lib/python3.10/dist-packages (from requests>=2.19.0->evaluate) (2.2.3)\n",
            "Requirement already satisfied: certifi>=2017.4.17 in /usr/local/lib/python3.10/dist-packages (from requests>=2.19.0->evaluate) (2024.8.30)\n",
            "Requirement already satisfied: python-dateutil>=2.8.2 in /usr/local/lib/python3.10/dist-packages (from pandas->evaluate) (2.8.2)\n",
            "Requirement already satisfied: pytz>=2020.1 in /usr/local/lib/python3.10/dist-packages (from pandas->evaluate) (2024.2)\n",
            "Requirement already satisfied: tzdata>=2022.7 in /usr/local/lib/python3.10/dist-packages (from pandas->evaluate) (2024.2)\n",
            "Requirement already satisfied: aiohappyeyeballs>=2.3.0 in /usr/local/lib/python3.10/dist-packages (from aiohttp->datasets>=2.0.0->evaluate) (2.4.3)\n",
            "Requirement already satisfied: aiosignal>=1.1.2 in /usr/local/lib/python3.10/dist-packages (from aiohttp->datasets>=2.0.0->evaluate) (1.3.1)\n",
            "Requirement already satisfied: attrs>=17.3.0 in /usr/local/lib/python3.10/dist-packages (from aiohttp->datasets>=2.0.0->evaluate) (24.2.0)\n",
            "Requirement already satisfied: frozenlist>=1.1.1 in /usr/local/lib/python3.10/dist-packages (from aiohttp->datasets>=2.0.0->evaluate) (1.5.0)\n",
            "Requirement already satisfied: multidict<7.0,>=4.5 in /usr/local/lib/python3.10/dist-packages (from aiohttp->datasets>=2.0.0->evaluate) (6.1.0)\n",
            "Requirement already satisfied: yarl<2.0,>=1.12.0 in /usr/local/lib/python3.10/dist-packages (from aiohttp->datasets>=2.0.0->evaluate) (1.17.1)\n",
            "Requirement already satisfied: async-timeout<5.0,>=4.0 in /usr/local/lib/python3.10/dist-packages (from aiohttp->datasets>=2.0.0->evaluate) (4.0.3)\n",
            "Requirement already satisfied: six>=1.5 in /usr/local/lib/python3.10/dist-packages (from python-dateutil>=2.8.2->pandas->evaluate) (1.16.0)\n",
            "Requirement already satisfied: propcache>=0.2.0 in /usr/local/lib/python3.10/dist-packages (from yarl<2.0,>=1.12.0->aiohttp->datasets>=2.0.0->evaluate) (0.2.0)\n",
            "Downloading evaluate-0.4.3-py3-none-any.whl (84 kB)\n",
            "\u001b[2K   \u001b[90m━━━━━━━━━━━━━━━━━━━━━━━━━━━━━━━━━━━━━━━━\u001b[0m \u001b[32m84.0/84.0 kB\u001b[0m \u001b[31m2.2 MB/s\u001b[0m eta \u001b[36m0:00:00\u001b[0m\n",
            "\u001b[?25hInstalling collected packages: evaluate\n",
            "Successfully installed evaluate-0.4.3\n"
          ]
        }
      ],
      "source": [
        "!pip install datasets\n",
        "!pip install evaluate\n",
        "!pip freeze > requirements.txt"
      ]
    },
    {
      "cell_type": "code",
      "source": [
        "import torch\n",
        "import torch.nn as nn\n",
        "import numpy as np\n",
        "from transformers import set_seed\n",
        "set_seed(0)"
      ],
      "metadata": {
        "id": "_rJOUWbHb7h7"
      },
      "execution_count": 2,
      "outputs": []
    },
    {
      "cell_type": "code",
      "source": [
        "device = torch.device(\"cuda\" if torch.cuda.is_available() else \"cpu\")\n",
        "print(device)"
      ],
      "metadata": {
        "colab": {
          "base_uri": "https://localhost:8080/"
        },
        "id": "DiAkOY-564eO",
        "outputId": "9b88f22f-f5bb-4575-81b8-38a93066b5a9"
      },
      "execution_count": 3,
      "outputs": [
        {
          "output_type": "stream",
          "name": "stdout",
          "text": [
            "cuda\n"
          ]
        }
      ]
    },
    {
      "cell_type": "markdown",
      "source": [
        "Followed examples from this [Hugging Face NLP course](https://huggingface.co/learn/nlp-course/chapter3/3?fw=pt#fine-tuning-a-model-with-the-trainer-api) on how to use the trainer API for fine-tuning."
      ],
      "metadata": {
        "id": "xM1jwv_maqfd"
      }
    },
    {
      "cell_type": "code",
      "source": [
        "from datasets import load_dataset\n",
        "from transformers import AutoTokenizer, DataCollatorWithPadding\n",
        "\n",
        "raw_datasets = load_dataset(\"glue\", \"mrpc\")\n",
        "checkpoint = \"prajjwal1/bert-tiny\"\n",
        "tokenizer = AutoTokenizer.from_pretrained(checkpoint)\n",
        "\n",
        "def tokenize_function(example):\n",
        "    return tokenizer(example[\"sentence1\"], example[\"sentence2\"], truncation=True)\n",
        "\n",
        "tokenized_datasets = raw_datasets.map(tokenize_function, batched=True)\n",
        "data_collator = DataCollatorWithPadding(tokenizer=tokenizer)"
      ],
      "metadata": {
        "colab": {
          "base_uri": "https://localhost:8080/",
          "height": 542,
          "referenced_widgets": [
            "cb4de2c7e0b043f689d2a03296be1963",
            "f22dc02ef94942be922b8d34e5e378c4",
            "93f99adebdc049d1830ddd0419e6bb58",
            "76c18ed72b644e71ab95900ed21ca9c7",
            "b12f737c3b4545c7bf1107d7523f4957",
            "34333d608f8f453d82450419d26d9fcd",
            "bd51465417e146d9abb104448af4276e",
            "b662bba0f94948ee902fdda2cec53dc1",
            "7aa93391e8ea40d5a56dd8775cc5e91a",
            "193b537e5ab34f8f8c4d4864070f659e",
            "f6bfe0946f0e477eb57bdadff25b5bd9",
            "ee559e8fedc44ba68666c7e145972e25",
            "7051889c4f2d448c85d6b85511be77bd",
            "42c1e3dce8e748d79df413831d90b249",
            "6e24efbc05994451ae49095353414ab1",
            "6f21c8da1b0d4266ac048602fb5109fc",
            "8cf078bb8d1c43eeb3245f67bd85d015",
            "b9f497358906404a857939465fafeb9b",
            "deea1b9a0d7d4b8691d981d10c609319",
            "93e2bcdfcc5a45fc8c9adddce3576e74",
            "d6f5f1139e4647f89588d7af9cba70a3",
            "66d86ea63efd4f3baecbcb1c8648aef5",
            "9f43c44bbf0b40e5964ed997cb1cfeee",
            "e4f16599a6334f749dec2a8f02083bb7",
            "83703f5c515c4173b3e1186c8ca71757",
            "85425cb6053043d4b1b1e94731efcbb1",
            "6237e1c1d63048e1b99ee3f1118b2e25",
            "a007dbf140434cbeb58562b32471ae50",
            "887235c818a9495c9d709f4133be96ab",
            "1dd46fca29e144bb9d7fc87d2bb55f65",
            "21d392ae8be040e39628d141a3a21c78",
            "c72e6295db8746c7873092d6a53c4c27",
            "4e194d0559d34210be397cb7cda65038",
            "425a5d89e41f41b4814d4965966d6cf8",
            "d7bd89a00cf3476a8fcc2597f6b55c69",
            "69c5a412f24547a5a16a414929590d32",
            "d95bd37dd0274fe2820db60d3f125832",
            "4ba39703166d455b9d2671ac55d30b70",
            "099979b9141746ceabf3552b53e6923f",
            "93628c096a4f491fa14e1bd453d3bb2c",
            "c6d223d2af8a4d1fb2e46c97324e2f72",
            "a689cb9acaa24f1893855ad6bc0773e5",
            "8978eeb172764cb399c3891ef5686190",
            "5c36118a97054cc284f3b63b011cace8",
            "45223a35fcc84a918f5134cde5756cc9",
            "fca9a0c9a8944967ac88076047811042",
            "678cca241e4b483a8ea9f8133ef15dbe",
            "6ae46a17b1bf40ae9e7fc7278b6eae9b",
            "260c572fda1541c391210a1e7c1be6d3",
            "42f112ded05a4c4988696e93edbe09e8",
            "afec926de4de45609ef66c680f76b4f0",
            "b93b2153587c4ab2baeee69de989d013",
            "9d0e0ec2ef6b44f9af8540c4a5b7aaa3",
            "118582bb1a7b49c4b0c10807e0f11624",
            "355237fbd9454d3aae2eb2c0ec8a39bc",
            "241faaaf9a0d4e44817a29b1ed92173f",
            "14648a7238514e9c99e02db4f8deca70",
            "a07b52b5c548449ba1f1109af79eeb5a",
            "ac1712d81daa4a17b74561db4e5b73e9",
            "951e7f69bbe841b79647161c2eee63d4",
            "7d3b8503aec8470c9d07f3d0c1359d5c",
            "64bfdebcfb3440e0b0ef2f8e9c6bb5bf",
            "86de82b392584bbd9d1e42f74d86a56c",
            "3d13b3e24ba54bf399c700e426ecb251",
            "e2b1d6f403ae4df1b171a65a957bd7f2",
            "f65d8e672de24c059466426d1a13357e",
            "b37a9f14bbb44fd2b81b9910d30cd315",
            "0a1858e0e8b64a32942ea59087a9337b",
            "0b4167d0978848e58e801d112d46eed7",
            "d77108e8fc9a44508a65e8c899b26cbd",
            "59ac381647814724b11ab78a126bff18",
            "9e7294fc95d946d487f9ee7abb847669",
            "ff0c53dd64de42c09aa5f4508991ec42",
            "35b1e854d5fd4dd8b53925f15f4052dd",
            "1a5b20d6ca7c4d3db7549d700df61ecc",
            "24a7af597d8246f8883bbf47dd23ad5e",
            "b497c18db9b647a9a199c623ef819382",
            "cbc138b723b54ea9982f7f6c95821c89",
            "903e8005a8634772a83c2515e98931c9",
            "2ba06432cbdc4b07a650ac2d22dbf2d2",
            "71152ee14d9f40248f6ef9c6eeea9a2d",
            "4db4716a53a34b998cdc161d9cfcf659",
            "d186fd5223de4be59922c124aefb81aa",
            "041b2f7ba1584ce0a0d4849265348ee6",
            "8f6251545484467daf4b5639b95f2cb2",
            "03a83a26362a4b92afdc5f8377903d81",
            "01a46e1bd17b4a5aa66e6b99cd1c478c",
            "6756ac2bbe22459b970495c2b2f34116",
            "c5690361782349288ef5f27f4a76c296",
            "1344a68d5239478d92c208c076479e22",
            "f9b792c7eddf4a93a7db2690d29c786d",
            "554baed562c3476fb42a38c4152552eb",
            "bbb5c1d7b60e4fe090c99233d0590865",
            "5aa72eade6d54ebf9552b00f5af0242a",
            "dcb51fba04a54ac9bd59030013f9d199",
            "61a8175ee2e842f0aa85a20005c1d8c2",
            "e202b51e29644e3b81e2a22c5a7f9d0f",
            "eb5d8f6444904a998b89f40e7d4213bf",
            "a6d48930bbe544eea1bdac69fb4dd07d",
            "2437de6cf2b6401eac30816449de9567",
            "0df5381bcc3d407faf4fdbe17f426193",
            "acbfdc011e6a406e905f7ad30022fe3e",
            "8cb76a14c1eb4416a82c81c61cb5d5d2",
            "4ed0e41f6fc8474c81ae951df4be10f6",
            "90af88ef5a1347609d97db6aa4e0a672",
            "b25410dcd2084e94992eb087fbf2c0fb",
            "9a8621bbc5334a6890c8cb5a10f3e8b7",
            "82487458a5884400908e8363e2bc99c1",
            "dce106e2c39f4579a34b294eb461fef2",
            "ab041e5e61e9446f8272291e34aec9da",
            "b36160fca46b40849e508d132fc50254",
            "cf1122ff57714844a9d50f38dd9d3afd",
            "a534a1d1a3594cdb87ef713daebf7deb",
            "7f97f1e253ae48f8b74ac009e3b60bba",
            "bfc3ca556f2240b280cd552a9d55db3e",
            "d3bfb1df22464e3c9fe3b6b2ea0bd6cc",
            "ed4ccaaf3bd344328d7628b898ae4a62",
            "977a9b60d35447eb8327289cb11ccc16",
            "d5fbcf650e4f412baade0a446f4e30ed",
            "f6fbbff08522483b85dfc852ca510dfe",
            "122e14d431e542698adad1ac7acef881",
            "b883b48f1aa5469e9b7240fa75487642",
            "756eaee2cfe2437a85edb3a5237a658d",
            "aa2f32604db1489c9950b7122fbb943d",
            "1de33b768ff54892b11f10045dbaebaa",
            "9d8d06f86f9942bda016d28da16a4830",
            "a179d7f8de944ab796e485fa4caf9ad9",
            "4a9413045b924543a478ee50db7c86be",
            "2aa3a84232434aa6a877bb7fd5c67672",
            "1a6f7f55fca94671a0bc97cc1a2cf9de",
            "062654cd5fc1452e9346679d275cc982",
            "900b355001ec4e34b57ea5d52b841c41"
          ]
        },
        "id": "VDqSTwjJilGA",
        "outputId": "43eb3023-fef9-44fe-d542-326a5ce8abf1",
        "collapsed": true
      },
      "execution_count": 4,
      "outputs": [
        {
          "output_type": "stream",
          "name": "stderr",
          "text": [
            "/usr/local/lib/python3.10/dist-packages/huggingface_hub/utils/_auth.py:94: UserWarning: \n",
            "The secret `HF_TOKEN` does not exist in your Colab secrets.\n",
            "To authenticate with the Hugging Face Hub, create a token in your settings tab (https://huggingface.co/settings/tokens), set it as secret in your Google Colab and restart your session.\n",
            "You will be able to reuse this secret in all of your notebooks.\n",
            "Please note that authentication is recommended but still optional to access public models or datasets.\n",
            "  warnings.warn(\n"
          ]
        },
        {
          "output_type": "display_data",
          "data": {
            "text/plain": [
              "README.md:   0%|          | 0.00/35.3k [00:00<?, ?B/s]"
            ],
            "application/vnd.jupyter.widget-view+json": {
              "version_major": 2,
              "version_minor": 0,
              "model_id": "cb4de2c7e0b043f689d2a03296be1963"
            }
          },
          "metadata": {}
        },
        {
          "output_type": "display_data",
          "data": {
            "text/plain": [
              "train-00000-of-00001.parquet:   0%|          | 0.00/649k [00:00<?, ?B/s]"
            ],
            "application/vnd.jupyter.widget-view+json": {
              "version_major": 2,
              "version_minor": 0,
              "model_id": "ee559e8fedc44ba68666c7e145972e25"
            }
          },
          "metadata": {}
        },
        {
          "output_type": "display_data",
          "data": {
            "text/plain": [
              "validation-00000-of-00001.parquet:   0%|          | 0.00/75.7k [00:00<?, ?B/s]"
            ],
            "application/vnd.jupyter.widget-view+json": {
              "version_major": 2,
              "version_minor": 0,
              "model_id": "9f43c44bbf0b40e5964ed997cb1cfeee"
            }
          },
          "metadata": {}
        },
        {
          "output_type": "display_data",
          "data": {
            "text/plain": [
              "test-00000-of-00001.parquet:   0%|          | 0.00/308k [00:00<?, ?B/s]"
            ],
            "application/vnd.jupyter.widget-view+json": {
              "version_major": 2,
              "version_minor": 0,
              "model_id": "425a5d89e41f41b4814d4965966d6cf8"
            }
          },
          "metadata": {}
        },
        {
          "output_type": "display_data",
          "data": {
            "text/plain": [
              "Generating train split:   0%|          | 0/3668 [00:00<?, ? examples/s]"
            ],
            "application/vnd.jupyter.widget-view+json": {
              "version_major": 2,
              "version_minor": 0,
              "model_id": "45223a35fcc84a918f5134cde5756cc9"
            }
          },
          "metadata": {}
        },
        {
          "output_type": "display_data",
          "data": {
            "text/plain": [
              "Generating validation split:   0%|          | 0/408 [00:00<?, ? examples/s]"
            ],
            "application/vnd.jupyter.widget-view+json": {
              "version_major": 2,
              "version_minor": 0,
              "model_id": "241faaaf9a0d4e44817a29b1ed92173f"
            }
          },
          "metadata": {}
        },
        {
          "output_type": "display_data",
          "data": {
            "text/plain": [
              "Generating test split:   0%|          | 0/1725 [00:00<?, ? examples/s]"
            ],
            "application/vnd.jupyter.widget-view+json": {
              "version_major": 2,
              "version_minor": 0,
              "model_id": "b37a9f14bbb44fd2b81b9910d30cd315"
            }
          },
          "metadata": {}
        },
        {
          "output_type": "display_data",
          "data": {
            "text/plain": [
              "config.json:   0%|          | 0.00/285 [00:00<?, ?B/s]"
            ],
            "application/vnd.jupyter.widget-view+json": {
              "version_major": 2,
              "version_minor": 0,
              "model_id": "cbc138b723b54ea9982f7f6c95821c89"
            }
          },
          "metadata": {}
        },
        {
          "output_type": "display_data",
          "data": {
            "text/plain": [
              "vocab.txt:   0%|          | 0.00/232k [00:00<?, ?B/s]"
            ],
            "application/vnd.jupyter.widget-view+json": {
              "version_major": 2,
              "version_minor": 0,
              "model_id": "c5690361782349288ef5f27f4a76c296"
            }
          },
          "metadata": {}
        },
        {
          "output_type": "display_data",
          "data": {
            "text/plain": [
              "Map:   0%|          | 0/3668 [00:00<?, ? examples/s]"
            ],
            "application/vnd.jupyter.widget-view+json": {
              "version_major": 2,
              "version_minor": 0,
              "model_id": "2437de6cf2b6401eac30816449de9567"
            }
          },
          "metadata": {}
        },
        {
          "output_type": "stream",
          "name": "stderr",
          "text": [
            "Asking to truncate to max_length but no maximum length is provided and the model has no predefined maximum length. Default to no truncation.\n"
          ]
        },
        {
          "output_type": "display_data",
          "data": {
            "text/plain": [
              "Map:   0%|          | 0/408 [00:00<?, ? examples/s]"
            ],
            "application/vnd.jupyter.widget-view+json": {
              "version_major": 2,
              "version_minor": 0,
              "model_id": "b36160fca46b40849e508d132fc50254"
            }
          },
          "metadata": {}
        },
        {
          "output_type": "display_data",
          "data": {
            "text/plain": [
              "Map:   0%|          | 0/1725 [00:00<?, ? examples/s]"
            ],
            "application/vnd.jupyter.widget-view+json": {
              "version_major": 2,
              "version_minor": 0,
              "model_id": "b883b48f1aa5469e9b7240fa75487642"
            }
          },
          "metadata": {}
        }
      ]
    },
    {
      "cell_type": "code",
      "source": [
        "import evaluate\n",
        "\n",
        "def compute_metrics(eval_preds):\n",
        "    metric = evaluate.load(\"glue\", \"mrpc\")\n",
        "    logits, labels = eval_preds\n",
        "    predictions = np.argmax(logits, axis=-1)\n",
        "    return metric.compute(predictions=predictions, references=labels)"
      ],
      "metadata": {
        "id": "Nogjf_bmjS1_"
      },
      "execution_count": 5,
      "outputs": []
    },
    {
      "cell_type": "code",
      "source": [
        "num_runs = 5"
      ],
      "metadata": {
        "id": "xiqIwicGh6Ab"
      },
      "execution_count": 6,
      "outputs": []
    },
    {
      "cell_type": "markdown",
      "source": [
        "Hyperparameters from [google-research/bert](https://github.com/google-research/bert):\n",
        "\n",
        "\n",
        "\n",
        "> For each task, we selected the best fine-tuning hyperparameters from the lists below, and trained for 4 epochs:\n",
        "> * batch sizes: 8, 16, 32, 64, 128\n",
        "> * learning rates: 3e-4, 1e-4, 5e-5, 3e-5\n",
        "\n"
      ],
      "metadata": {
        "id": "aZnBuTehsapX"
      }
    },
    {
      "cell_type": "code",
      "source": [
        "epochs = 4\n",
        "batch_sizes = [8, 16, 32, 64, 128]\n",
        "learning_rates = [3e-4, 1e-4, 5e-5, 3e-5]"
      ],
      "metadata": {
        "id": "62XZoxhusMhO"
      },
      "execution_count": 7,
      "outputs": []
    },
    {
      "cell_type": "markdown",
      "source": [
        "# Full Fine-Tuning\n",
        "\n"
      ],
      "metadata": {
        "id": "6pdjddZVsbQN"
      }
    },
    {
      "cell_type": "code",
      "source": [
        "from transformers import AutoModelForSequenceClassification\n",
        "\n",
        "ft_model = AutoModelForSequenceClassification.from_pretrained(checkpoint, num_labels=2).to(device)"
      ],
      "metadata": {
        "id": "cmkwN2WtjKGn",
        "collapsed": true,
        "colab": {
          "base_uri": "https://localhost:8080/",
          "height": 104,
          "referenced_widgets": [
            "e55f7d77c6d14e01923cc6834c6f79f2",
            "c24a5be96397406db7b8f5ae6804a6d5",
            "5ef3d3f3c64847f084ba05aebfeaeb85",
            "73e43ff1f1494ed09cdef0245d30aa8e",
            "27b25d384ab44118820c3ba2bae4a1e8",
            "cfd0764d7c4f4cf3ad52c322a819869a",
            "540cba51926a4d3fa6a45b6195c72a07",
            "238448f425184c4383bcd58d39f4dcce",
            "5baf3631b57144c990ba45aaef54107a",
            "d97ab393938e435983449bad2606039a",
            "e35ff60e22884983a143cdeee178ae1b"
          ]
        },
        "outputId": "cce283df-0d02-4ca0-92cf-49f036c0c341"
      },
      "execution_count": 8,
      "outputs": [
        {
          "output_type": "display_data",
          "data": {
            "text/plain": [
              "pytorch_model.bin:   0%|          | 0.00/17.8M [00:00<?, ?B/s]"
            ],
            "application/vnd.jupyter.widget-view+json": {
              "version_major": 2,
              "version_minor": 0,
              "model_id": "e55f7d77c6d14e01923cc6834c6f79f2"
            }
          },
          "metadata": {}
        },
        {
          "output_type": "stream",
          "name": "stderr",
          "text": [
            "Some weights of BertForSequenceClassification were not initialized from the model checkpoint at prajjwal1/bert-tiny and are newly initialized: ['classifier.bias', 'classifier.weight']\n",
            "You should probably TRAIN this model on a down-stream task to be able to use it for predictions and inference.\n"
          ]
        }
      ]
    },
    {
      "cell_type": "code",
      "source": [
        "from transformers import Trainer, TrainingArguments, AutoModelForSequenceClassification\n",
        "import time\n",
        "\n",
        "start_time = time.time()\n",
        "\n",
        "ft_results = []\n",
        "iterations = len(batch_sizes)*len(learning_rates)*num_runs\n",
        "progress = 0\n",
        "for run in range(1, num_runs+1):\n",
        "  for size in batch_sizes:\n",
        "    for rate in learning_rates:\n",
        "      progress += 1\n",
        "      print(f\"Progress: {progress}/{iterations}\")\n",
        "      ft_result = {\"run\":run, \"batch_size\": size, \"learning_rate\": rate}\n",
        "\n",
        "      ft_model = AutoModelForSequenceClassification.from_pretrained(checkpoint, num_labels=2).to(device)\n",
        "\n",
        "      training_args = TrainingArguments(\n",
        "          \"ft-trainer\",\n",
        "          eval_strategy=\"epoch\",\n",
        "          per_device_eval_batch_size=size,\n",
        "          per_device_train_batch_size=size,\n",
        "          num_train_epochs=epochs,\n",
        "          learning_rate=rate,\n",
        "          disable_tqdm=True,\n",
        "          report_to=\"none\"\n",
        "      )\n",
        "\n",
        "      trainer = Trainer(\n",
        "          ft_model,\n",
        "          training_args,\n",
        "          train_dataset=tokenized_datasets[\"train\"],\n",
        "          eval_dataset=tokenized_datasets[\"validation\"],\n",
        "          data_collator=data_collator,\n",
        "          processing_class=tokenizer,\n",
        "          compute_metrics=compute_metrics\n",
        "      )\n",
        "\n",
        "      ft_result = ft_result | trainer.train().metrics | trainer.evaluate()\n",
        "      ft_results.append(ft_result)\n",
        "\n",
        "end_time = time.time()\n",
        "\n",
        "runtime_seconds = end_time - start_time\n",
        "runtime_minutes = runtime_seconds / 60\n",
        "\n",
        "ft_max = ft_results[0]\n",
        "for i, result in enumerate(ft_results):\n",
        "  if result['eval_f1'] > ft_max['eval_f1']:\n",
        "    ft_max = result\n",
        "\n",
        "print(f'\\n================ \\\n",
        "        \\nRuntime: {runtime_minutes} minutes \\\n",
        "        \\nBest Result: \\\n",
        "        \\nbatch_size={ft_max[\"batch_size\"]}, \\\n",
        "        \\nlearning_rate={ft_max[\"learning_rate\"]}, \\\n",
        "        \\neval_f1={ft_max[\"eval_f1\"]}')\n",
        "\n",
        "import csv\n",
        "\n",
        "with open('/content/drive/MyDrive/lora-bert-tiny/ft-results.csv', 'w', newline='') as csvfile:\n",
        "    writer = csv.DictWriter(csvfile, fieldnames=list(ft_results[0].keys()))\n",
        "\n",
        "    writer.writeheader()\n",
        "    for result in ft_results:\n",
        "      writer.writerow(result)"
      ],
      "metadata": {
        "id": "R0rtaL56jMN3",
        "colab": {
          "base_uri": "https://localhost:8080/",
          "height": 1000,
          "referenced_widgets": [
            "7d417eafca4b4ea6b6483482688bb286",
            "0a071cb66c0440f58deba00f86b89401",
            "cab758f43ffc4d3ba1aa519bacf22789",
            "c4cfe3907ce8422da2d98a2c4033d1e4",
            "21d03310f8a24702bd73ff076b39d99f",
            "bf3ed7e695b04f25a2cce1839cef5951",
            "99aee77b5b76428b9da50b169fb8cd13",
            "e51cad7c49584c1883f19174dce700b0",
            "12132843233f4a669fd0d6dadb44a033",
            "fec84affc31c49a186f8e3ca94c5e2ff",
            "bf5dd635f64840b89d2558554ad374ad",
            "ffaf7b66ca2b422aa83d377627196a0b",
            "5a6e15e8cc924f46bf26bd5d2d6a63bf",
            "b9747477ffd247cdb372b87bbce77ed1",
            "ceca448dd2d146d6b6ec0f7f9dcac87d",
            "e8b680de748d4483953c9e0452eee8e6",
            "97fda7416ed8464d8d6da716efb7063d",
            "f24e05ffb3af4b84b0b5f20271853ed3",
            "8774d3ed0ada444f8123674c578f03e9",
            "655ddd05c48747d48204fbee9efea4e1",
            "bada08dbe9d5438e86fb16b53d2f1e9d",
            "0875b48eb38147b992d41802e8c709ef"
          ]
        },
        "outputId": "1b187f58-ad73-4490-f61c-6c8ab67e3fc4"
      },
      "execution_count": 9,
      "outputs": [
        {
          "output_type": "display_data",
          "data": {
            "text/plain": [
              "model.safetensors:   0%|          | 0.00/17.7M [00:00<?, ?B/s]"
            ],
            "application/vnd.jupyter.widget-view+json": {
              "version_major": 2,
              "version_minor": 0,
              "model_id": "7d417eafca4b4ea6b6483482688bb286"
            }
          },
          "metadata": {}
        },
        {
          "output_type": "stream",
          "name": "stderr",
          "text": [
            "Some weights of BertForSequenceClassification were not initialized from the model checkpoint at prajjwal1/bert-tiny and are newly initialized: ['classifier.bias', 'classifier.weight']\n",
            "You should probably TRAIN this model on a down-stream task to be able to use it for predictions and inference.\n"
          ]
        },
        {
          "output_type": "stream",
          "name": "stdout",
          "text": [
            "Progress: 1/100\n"
          ]
        },
        {
          "output_type": "display_data",
          "data": {
            "text/plain": [
              "Downloading builder script:   0%|          | 0.00/5.75k [00:00<?, ?B/s]"
            ],
            "application/vnd.jupyter.widget-view+json": {
              "version_major": 2,
              "version_minor": 0,
              "model_id": "ffaf7b66ca2b422aa83d377627196a0b"
            }
          },
          "metadata": {}
        },
        {
          "output_type": "stream",
          "name": "stdout",
          "text": [
            "{'eval_loss': 0.5835773944854736, 'eval_accuracy': 0.7181372549019608, 'eval_f1': 0.8275862068965517, 'eval_runtime': 0.6544, 'eval_samples_per_second': 623.449, 'eval_steps_per_second': 77.931, 'epoch': 1.0}\n",
            "{'loss': 0.5911, 'grad_norm': 3.7462449073791504, 'learning_rate': 0.00021830065359477123, 'epoch': 1.0893246187363834}\n",
            "{'eval_loss': 0.5930801630020142, 'eval_accuracy': 0.7132352941176471, 'eval_f1': 0.8163265306122449, 'eval_runtime': 0.4871, 'eval_samples_per_second': 837.676, 'eval_steps_per_second': 104.71, 'epoch': 2.0}\n",
            "{'loss': 0.4593, 'grad_norm': 22.534181594848633, 'learning_rate': 0.00013660130718954247, 'epoch': 2.178649237472767}\n",
            "{'eval_loss': 0.8781757950782776, 'eval_accuracy': 0.696078431372549, 'eval_f1': 0.7905405405405406, 'eval_runtime': 0.5017, 'eval_samples_per_second': 813.258, 'eval_steps_per_second': 101.657, 'epoch': 3.0}\n",
            "{'loss': 0.283, 'grad_norm': 0.7782564163208008, 'learning_rate': 5.4901960784313716e-05, 'epoch': 3.2679738562091503}\n",
            "{'eval_loss': 1.1398804187774658, 'eval_accuracy': 0.7034313725490197, 'eval_f1': 0.800658978583196, 'eval_runtime': 0.4627, 'eval_samples_per_second': 881.836, 'eval_steps_per_second': 110.23, 'epoch': 4.0}\n",
            "{'train_runtime': 23.6698, 'train_samples_per_second': 619.862, 'train_steps_per_second': 77.567, 'train_loss': 0.404075701512023, 'epoch': 4.0}\n"
          ]
        },
        {
          "output_type": "stream",
          "name": "stderr",
          "text": [
            "Some weights of BertForSequenceClassification were not initialized from the model checkpoint at prajjwal1/bert-tiny and are newly initialized: ['classifier.bias', 'classifier.weight']\n",
            "You should probably TRAIN this model on a down-stream task to be able to use it for predictions and inference.\n"
          ]
        },
        {
          "output_type": "stream",
          "name": "stdout",
          "text": [
            "{'eval_loss': 1.1398804187774658, 'eval_accuracy': 0.7034313725490197, 'eval_f1': 0.800658978583196, 'eval_runtime': 0.4566, 'eval_samples_per_second': 893.556, 'eval_steps_per_second': 111.695, 'epoch': 4.0}\n",
            "Progress: 2/100\n",
            "{'eval_loss': 0.571905791759491, 'eval_accuracy': 0.7034313725490197, 'eval_f1': 0.8169440242057489, 'eval_runtime': 0.4632, 'eval_samples_per_second': 880.889, 'eval_steps_per_second': 110.111, 'epoch': 1.0}\n",
            "{'loss': 0.5884, 'grad_norm': 4.293759822845459, 'learning_rate': 7.276688453159042e-05, 'epoch': 1.0893246187363834}\n",
            "{'eval_loss': 0.5654860734939575, 'eval_accuracy': 0.7352941176470589, 'eval_f1': 0.8285714285714286, 'eval_runtime': 0.5201, 'eval_samples_per_second': 784.539, 'eval_steps_per_second': 98.067, 'epoch': 2.0}\n",
            "{'loss': 0.4993, 'grad_norm': 8.675013542175293, 'learning_rate': 4.5533769063180834e-05, 'epoch': 2.178649237472767}\n",
            "{'eval_loss': 0.6270501613616943, 'eval_accuracy': 0.7352941176470589, 'eval_f1': 0.8296529968454258, 'eval_runtime': 0.4761, 'eval_samples_per_second': 857.021, 'eval_steps_per_second': 107.128, 'epoch': 3.0}\n",
            "{'loss': 0.4045, 'grad_norm': 26.807472229003906, 'learning_rate': 1.8300653594771242e-05, 'epoch': 3.2679738562091503}\n",
            "{'eval_loss': 0.6656573414802551, 'eval_accuracy': 0.7377450980392157, 'eval_f1': 0.8325508607198748, 'eval_runtime': 0.5244, 'eval_samples_per_second': 777.992, 'eval_steps_per_second': 97.249, 'epoch': 4.0}\n",
            "{'train_runtime': 22.1645, 'train_samples_per_second': 661.96, 'train_steps_per_second': 82.835, 'train_loss': 0.47345523792674077, 'epoch': 4.0}\n"
          ]
        },
        {
          "output_type": "stream",
          "name": "stderr",
          "text": [
            "Some weights of BertForSequenceClassification were not initialized from the model checkpoint at prajjwal1/bert-tiny and are newly initialized: ['classifier.bias', 'classifier.weight']\n",
            "You should probably TRAIN this model on a down-stream task to be able to use it for predictions and inference.\n"
          ]
        },
        {
          "output_type": "stream",
          "name": "stdout",
          "text": [
            "{'eval_loss': 0.6656573414802551, 'eval_accuracy': 0.7377450980392157, 'eval_f1': 0.8325508607198748, 'eval_runtime': 0.5487, 'eval_samples_per_second': 743.535, 'eval_steps_per_second': 92.942, 'epoch': 4.0}\n",
            "Progress: 3/100\n",
            "{'eval_loss': 0.5733863711357117, 'eval_accuracy': 0.7009803921568627, 'eval_f1': 0.8134556574923547, 'eval_runtime': 0.4515, 'eval_samples_per_second': 903.682, 'eval_steps_per_second': 112.96, 'epoch': 1.0}\n",
            "{'loss': 0.6013, 'grad_norm': 4.323869228363037, 'learning_rate': 3.638344226579521e-05, 'epoch': 1.0893246187363834}\n",
            "{'eval_loss': 0.5774785876274109, 'eval_accuracy': 0.7083333333333334, 'eval_f1': 0.8194233687405159, 'eval_runtime': 0.4961, 'eval_samples_per_second': 822.411, 'eval_steps_per_second': 102.801, 'epoch': 2.0}\n",
            "{'loss': 0.5438, 'grad_norm': 5.283394813537598, 'learning_rate': 2.2766884531590417e-05, 'epoch': 2.178649237472767}\n",
            "{'eval_loss': 0.5611313581466675, 'eval_accuracy': 0.7279411764705882, 'eval_f1': 0.8246445497630331, 'eval_runtime': 0.4519, 'eval_samples_per_second': 902.89, 'eval_steps_per_second': 112.861, 'epoch': 3.0}\n",
            "{'loss': 0.4849, 'grad_norm': 14.096569061279297, 'learning_rate': 9.150326797385621e-06, 'epoch': 3.2679738562091503}\n",
            "{'eval_loss': 0.587859570980072, 'eval_accuracy': 0.7279411764705882, 'eval_f1': 0.8268330733229329, 'eval_runtime': 0.4967, 'eval_samples_per_second': 821.461, 'eval_steps_per_second': 102.683, 'epoch': 4.0}\n",
            "{'train_runtime': 22.0392, 'train_samples_per_second': 665.722, 'train_steps_per_second': 83.306, 'train_loss': 0.5309766798497285, 'epoch': 4.0}\n"
          ]
        },
        {
          "output_type": "stream",
          "name": "stderr",
          "text": [
            "Some weights of BertForSequenceClassification were not initialized from the model checkpoint at prajjwal1/bert-tiny and are newly initialized: ['classifier.bias', 'classifier.weight']\n",
            "You should probably TRAIN this model on a down-stream task to be able to use it for predictions and inference.\n"
          ]
        },
        {
          "output_type": "stream",
          "name": "stdout",
          "text": [
            "{'eval_loss': 0.587859570980072, 'eval_accuracy': 0.7279411764705882, 'eval_f1': 0.8268330733229329, 'eval_runtime': 0.4545, 'eval_samples_per_second': 897.739, 'eval_steps_per_second': 112.217, 'epoch': 4.0}\n",
            "Progress: 4/100\n",
            "{'eval_loss': 0.5838139653205872, 'eval_accuracy': 0.7009803921568627, 'eval_f1': 0.8184523809523809, 'eval_runtime': 0.4446, 'eval_samples_per_second': 917.708, 'eval_steps_per_second': 114.714, 'epoch': 1.0}\n",
            "{'loss': 0.6134, 'grad_norm': 2.5178942680358887, 'learning_rate': 2.1830065359477124e-05, 'epoch': 1.0893246187363834}\n",
            "{'eval_loss': 0.5830901861190796, 'eval_accuracy': 0.7034313725490197, 'eval_f1': 0.8180451127819549, 'eval_runtime': 0.5495, 'eval_samples_per_second': 742.457, 'eval_steps_per_second': 92.807, 'epoch': 2.0}\n",
            "{'loss': 0.5689, 'grad_norm': 4.079008102416992, 'learning_rate': 1.366013071895425e-05, 'epoch': 2.178649237472767}\n",
            "{'eval_loss': 0.568699836730957, 'eval_accuracy': 0.7132352941176471, 'eval_f1': 0.8197226502311248, 'eval_runtime': 0.4729, 'eval_samples_per_second': 862.687, 'eval_steps_per_second': 107.836, 'epoch': 3.0}\n",
            "{'loss': 0.5302, 'grad_norm': 6.041450023651123, 'learning_rate': 5.490196078431373e-06, 'epoch': 3.2679738562091503}\n",
            "{'eval_loss': 0.5771942734718323, 'eval_accuracy': 0.7107843137254902, 'eval_f1': 0.8195718654434251, 'eval_runtime': 0.4625, 'eval_samples_per_second': 882.152, 'eval_steps_per_second': 110.269, 'epoch': 4.0}\n",
            "{'train_runtime': 22.0764, 'train_samples_per_second': 664.601, 'train_steps_per_second': 83.166, 'train_loss': 0.5637553262814458, 'epoch': 4.0}\n"
          ]
        },
        {
          "output_type": "stream",
          "name": "stderr",
          "text": [
            "Some weights of BertForSequenceClassification were not initialized from the model checkpoint at prajjwal1/bert-tiny and are newly initialized: ['classifier.bias', 'classifier.weight']\n",
            "You should probably TRAIN this model on a down-stream task to be able to use it for predictions and inference.\n"
          ]
        },
        {
          "output_type": "stream",
          "name": "stdout",
          "text": [
            "{'eval_loss': 0.5771942734718323, 'eval_accuracy': 0.7107843137254902, 'eval_f1': 0.8195718654434251, 'eval_runtime': 0.6169, 'eval_samples_per_second': 661.357, 'eval_steps_per_second': 82.67, 'epoch': 4.0}\n",
            "Progress: 5/100\n",
            "{'eval_loss': 0.5624045133590698, 'eval_accuracy': 0.7230392156862745, 'eval_f1': 0.8231611893583725, 'eval_runtime': 0.4925, 'eval_samples_per_second': 828.421, 'eval_steps_per_second': 52.792, 'epoch': 1.0}\n",
            "{'eval_loss': 0.5531349778175354, 'eval_accuracy': 0.7328431372549019, 'eval_f1': 0.8256, 'eval_runtime': 0.3792, 'eval_samples_per_second': 1075.98, 'eval_steps_per_second': 68.567, 'epoch': 2.0}\n",
            "{'loss': 0.5239, 'grad_norm': 15.012598991394043, 'learning_rate': 0.00013695652173913042, 'epoch': 2.1739130434782608}\n",
            "{'eval_loss': 0.590812087059021, 'eval_accuracy': 0.7401960784313726, 'eval_f1': 0.8221476510067114, 'eval_runtime': 0.3681, 'eval_samples_per_second': 1108.522, 'eval_steps_per_second': 70.641, 'epoch': 3.0}\n",
            "{'eval_loss': 0.7519146800041199, 'eval_accuracy': 0.7377450980392157, 'eval_f1': 0.8243021346469622, 'eval_runtime': 0.4119, 'eval_samples_per_second': 990.423, 'eval_steps_per_second': 63.115, 'epoch': 4.0}\n",
            "{'train_runtime': 12.7368, 'train_samples_per_second': 1151.937, 'train_steps_per_second': 72.232, 'train_loss': 0.40669037362803584, 'epoch': 4.0}\n"
          ]
        },
        {
          "output_type": "stream",
          "name": "stderr",
          "text": [
            "Some weights of BertForSequenceClassification were not initialized from the model checkpoint at prajjwal1/bert-tiny and are newly initialized: ['classifier.bias', 'classifier.weight']\n",
            "You should probably TRAIN this model on a down-stream task to be able to use it for predictions and inference.\n"
          ]
        },
        {
          "output_type": "stream",
          "name": "stdout",
          "text": [
            "{'eval_loss': 0.7519146800041199, 'eval_accuracy': 0.7377450980392157, 'eval_f1': 0.8243021346469622, 'eval_runtime': 0.3506, 'eval_samples_per_second': 1163.692, 'eval_steps_per_second': 74.157, 'epoch': 4.0}\n",
            "Progress: 6/100\n",
            "{'eval_loss': 0.564354419708252, 'eval_accuracy': 0.7132352941176471, 'eval_f1': 0.8180404354587869, 'eval_runtime': 0.4434, 'eval_samples_per_second': 920.108, 'eval_steps_per_second': 58.634, 'epoch': 1.0}\n",
            "{'eval_loss': 0.5474852919578552, 'eval_accuracy': 0.7377450980392157, 'eval_f1': 0.831496062992126, 'eval_runtime': 0.3842, 'eval_samples_per_second': 1061.833, 'eval_steps_per_second': 67.666, 'epoch': 2.0}\n",
            "{'loss': 0.5577, 'grad_norm': 6.763742923736572, 'learning_rate': 4.565217391304348e-05, 'epoch': 2.1739130434782608}\n",
            "{'eval_loss': 0.5569795966148376, 'eval_accuracy': 0.7426470588235294, 'eval_f1': 0.8330683624801272, 'eval_runtime': 0.3626, 'eval_samples_per_second': 1125.184, 'eval_steps_per_second': 71.703, 'epoch': 3.0}\n",
            "{'eval_loss': 0.5896832346916199, 'eval_accuracy': 0.7328431372549019, 'eval_f1': 0.8299531981279251, 'eval_runtime': 0.4002, 'eval_samples_per_second': 1019.397, 'eval_steps_per_second': 64.962, 'epoch': 4.0}\n",
            "{'train_runtime': 12.7979, 'train_samples_per_second': 1146.44, 'train_steps_per_second': 71.887, 'train_loss': 0.5020559891410495, 'epoch': 4.0}\n"
          ]
        },
        {
          "output_type": "stream",
          "name": "stderr",
          "text": [
            "Some weights of BertForSequenceClassification were not initialized from the model checkpoint at prajjwal1/bert-tiny and are newly initialized: ['classifier.bias', 'classifier.weight']\n",
            "You should probably TRAIN this model on a down-stream task to be able to use it for predictions and inference.\n"
          ]
        },
        {
          "output_type": "stream",
          "name": "stdout",
          "text": [
            "{'eval_loss': 0.5896832346916199, 'eval_accuracy': 0.7328431372549019, 'eval_f1': 0.8299531981279251, 'eval_runtime': 0.4259, 'eval_samples_per_second': 958.049, 'eval_steps_per_second': 61.052, 'epoch': 4.0}\n",
            "Progress: 7/100\n",
            "{'eval_loss': 0.5816411972045898, 'eval_accuracy': 0.6887254901960784, 'eval_f1': 0.8095952023988006, 'eval_runtime': 0.4994, 'eval_samples_per_second': 817.044, 'eval_steps_per_second': 52.067, 'epoch': 1.0}\n",
            "{'eval_loss': 0.5781240463256836, 'eval_accuracy': 0.7034313725490197, 'eval_f1': 0.8185907046476761, 'eval_runtime': 0.4055, 'eval_samples_per_second': 1006.061, 'eval_steps_per_second': 64.112, 'epoch': 2.0}\n",
            "{'loss': 0.5845, 'grad_norm': 4.170251846313477, 'learning_rate': 2.282608695652174e-05, 'epoch': 2.1739130434782608}\n",
            "{'eval_loss': 0.568314790725708, 'eval_accuracy': 0.7083333333333334, 'eval_f1': 0.8183206106870229, 'eval_runtime': 0.4597, 'eval_samples_per_second': 887.564, 'eval_steps_per_second': 56.56, 'epoch': 3.0}\n",
            "{'eval_loss': 0.568650484085083, 'eval_accuracy': 0.7205882352941176, 'eval_f1': 0.8246153846153846, 'eval_runtime': 0.3683, 'eval_samples_per_second': 1107.903, 'eval_steps_per_second': 70.602, 'epoch': 4.0}\n",
            "{'train_runtime': 13.0004, 'train_samples_per_second': 1128.581, 'train_steps_per_second': 70.767, 'train_loss': 0.5531564961309018, 'epoch': 4.0}\n"
          ]
        },
        {
          "output_type": "stream",
          "name": "stderr",
          "text": [
            "Some weights of BertForSequenceClassification were not initialized from the model checkpoint at prajjwal1/bert-tiny and are newly initialized: ['classifier.bias', 'classifier.weight']\n",
            "You should probably TRAIN this model on a down-stream task to be able to use it for predictions and inference.\n"
          ]
        },
        {
          "output_type": "stream",
          "name": "stdout",
          "text": [
            "{'eval_loss': 0.568650484085083, 'eval_accuracy': 0.7205882352941176, 'eval_f1': 0.8246153846153846, 'eval_runtime': 0.3651, 'eval_samples_per_second': 1117.351, 'eval_steps_per_second': 71.204, 'epoch': 4.0}\n",
            "Progress: 8/100\n",
            "{'eval_loss': 0.5934128761291504, 'eval_accuracy': 0.6985294117647058, 'eval_f1': 0.8193832599118943, 'eval_runtime': 0.4225, 'eval_samples_per_second': 965.758, 'eval_steps_per_second': 61.543, 'epoch': 1.0}\n",
            "{'eval_loss': 0.5834196209907532, 'eval_accuracy': 0.6985294117647058, 'eval_f1': 0.8161434977578476, 'eval_runtime': 0.3482, 'eval_samples_per_second': 1171.757, 'eval_steps_per_second': 74.671, 'epoch': 2.0}\n",
            "{'loss': 0.6021, 'grad_norm': 2.227717161178589, 'learning_rate': 1.3695652173913042e-05, 'epoch': 2.1739130434782608}\n",
            "{'eval_loss': 0.574123740196228, 'eval_accuracy': 0.6936274509803921, 'eval_f1': 0.8114630467571644, 'eval_runtime': 0.409, 'eval_samples_per_second': 997.47, 'eval_steps_per_second': 63.564, 'epoch': 3.0}\n",
            "{'eval_loss': 0.5735155940055847, 'eval_accuracy': 0.696078431372549, 'eval_f1': 0.8126888217522659, 'eval_runtime': 0.4196, 'eval_samples_per_second': 972.45, 'eval_steps_per_second': 61.97, 'epoch': 4.0}\n",
            "{'train_runtime': 12.7743, 'train_samples_per_second': 1148.559, 'train_steps_per_second': 72.02, 'train_loss': 0.580059698353643, 'epoch': 4.0}\n"
          ]
        },
        {
          "output_type": "stream",
          "name": "stderr",
          "text": [
            "Some weights of BertForSequenceClassification were not initialized from the model checkpoint at prajjwal1/bert-tiny and are newly initialized: ['classifier.bias', 'classifier.weight']\n",
            "You should probably TRAIN this model on a down-stream task to be able to use it for predictions and inference.\n"
          ]
        },
        {
          "output_type": "stream",
          "name": "stdout",
          "text": [
            "{'eval_loss': 0.5735155940055847, 'eval_accuracy': 0.696078431372549, 'eval_f1': 0.8126888217522659, 'eval_runtime': 0.4368, 'eval_samples_per_second': 933.964, 'eval_steps_per_second': 59.517, 'epoch': 4.0}\n",
            "Progress: 9/100\n",
            "{'eval_loss': 0.5496113896369934, 'eval_accuracy': 0.7377450980392157, 'eval_f1': 0.831496062992126, 'eval_runtime': 0.3862, 'eval_samples_per_second': 1056.558, 'eval_steps_per_second': 33.665, 'epoch': 1.0}\n",
            "{'eval_loss': 0.552695095539093, 'eval_accuracy': 0.7377450980392157, 'eval_f1': 0.8309636650868878, 'eval_runtime': 0.3274, 'eval_samples_per_second': 1246.335, 'eval_steps_per_second': 39.712, 'epoch': 2.0}\n",
            "{'eval_loss': 0.6253054141998291, 'eval_accuracy': 0.7450980392156863, 'eval_f1': 0.8354430379746836, 'eval_runtime': 0.3447, 'eval_samples_per_second': 1183.62, 'eval_steps_per_second': 37.713, 'epoch': 3.0}\n",
            "{'eval_loss': 0.6537364721298218, 'eval_accuracy': 0.7377450980392157, 'eval_f1': 0.8304278922345484, 'eval_runtime': 0.3897, 'eval_samples_per_second': 1046.933, 'eval_steps_per_second': 33.358, 'epoch': 4.0}\n",
            "{'train_runtime': 8.3334, 'train_samples_per_second': 1760.619, 'train_steps_per_second': 55.199, 'train_loss': 0.43501543791397757, 'epoch': 4.0}\n"
          ]
        },
        {
          "output_type": "stream",
          "name": "stderr",
          "text": [
            "Some weights of BertForSequenceClassification were not initialized from the model checkpoint at prajjwal1/bert-tiny and are newly initialized: ['classifier.bias', 'classifier.weight']\n",
            "You should probably TRAIN this model on a down-stream task to be able to use it for predictions and inference.\n"
          ]
        },
        {
          "output_type": "stream",
          "name": "stdout",
          "text": [
            "{'eval_loss': 0.6537364721298218, 'eval_accuracy': 0.7377450980392157, 'eval_f1': 0.8304278922345484, 'eval_runtime': 0.3362, 'eval_samples_per_second': 1213.479, 'eval_steps_per_second': 38.665, 'epoch': 4.0}\n",
            "Progress: 10/100\n",
            "{'eval_loss': 0.585704505443573, 'eval_accuracy': 0.6936274509803921, 'eval_f1': 0.81089258698941, 'eval_runtime': 0.3553, 'eval_samples_per_second': 1148.449, 'eval_steps_per_second': 36.593, 'epoch': 1.0}\n",
            "{'eval_loss': 0.5598652958869934, 'eval_accuracy': 0.7181372549019608, 'eval_f1': 0.8205928237129485, 'eval_runtime': 0.3239, 'eval_samples_per_second': 1259.548, 'eval_steps_per_second': 40.133, 'epoch': 2.0}\n",
            "{'eval_loss': 0.5700249075889587, 'eval_accuracy': 0.7132352941176471, 'eval_f1': 0.8186046511627907, 'eval_runtime': 0.3445, 'eval_samples_per_second': 1184.477, 'eval_steps_per_second': 37.741, 'epoch': 3.0}\n",
            "{'eval_loss': 0.5717409253120422, 'eval_accuracy': 0.7254901960784313, 'eval_f1': 0.8255451713395638, 'eval_runtime': 0.3303, 'eval_samples_per_second': 1235.073, 'eval_steps_per_second': 39.353, 'epoch': 4.0}\n",
            "{'train_runtime': 8.1846, 'train_samples_per_second': 1792.64, 'train_steps_per_second': 56.203, 'train_loss': 0.5322120666503907, 'epoch': 4.0}\n"
          ]
        },
        {
          "output_type": "stream",
          "name": "stderr",
          "text": [
            "Some weights of BertForSequenceClassification were not initialized from the model checkpoint at prajjwal1/bert-tiny and are newly initialized: ['classifier.bias', 'classifier.weight']\n",
            "You should probably TRAIN this model on a down-stream task to be able to use it for predictions and inference.\n"
          ]
        },
        {
          "output_type": "stream",
          "name": "stdout",
          "text": [
            "{'eval_loss': 0.5717409253120422, 'eval_accuracy': 0.7254901960784313, 'eval_f1': 0.8255451713395638, 'eval_runtime': 0.3354, 'eval_samples_per_second': 1216.445, 'eval_steps_per_second': 38.759, 'epoch': 4.0}\n",
            "Progress: 11/100\n",
            "{'eval_loss': 0.5961236953735352, 'eval_accuracy': 0.6936274509803921, 'eval_f1': 0.8169838945827232, 'eval_runtime': 0.3202, 'eval_samples_per_second': 1274.035, 'eval_steps_per_second': 40.594, 'epoch': 1.0}\n",
            "{'eval_loss': 0.5710234045982361, 'eval_accuracy': 0.7058823529411765, 'eval_f1': 0.817629179331307, 'eval_runtime': 0.3689, 'eval_samples_per_second': 1106.057, 'eval_steps_per_second': 35.242, 'epoch': 2.0}\n",
            "{'eval_loss': 0.5729517340660095, 'eval_accuracy': 0.7083333333333334, 'eval_f1': 0.8199697428139183, 'eval_runtime': 0.3395, 'eval_samples_per_second': 1201.886, 'eval_steps_per_second': 38.295, 'epoch': 3.0}\n",
            "{'eval_loss': 0.56805819272995, 'eval_accuracy': 0.7107843137254902, 'eval_f1': 0.8201219512195121, 'eval_runtime': 0.41, 'eval_samples_per_second': 995.181, 'eval_steps_per_second': 31.709, 'epoch': 4.0}\n",
            "{'train_runtime': 8.1657, 'train_samples_per_second': 1796.779, 'train_steps_per_second': 56.333, 'train_loss': 0.5740605893342391, 'epoch': 4.0}\n"
          ]
        },
        {
          "output_type": "stream",
          "name": "stderr",
          "text": [
            "Some weights of BertForSequenceClassification were not initialized from the model checkpoint at prajjwal1/bert-tiny and are newly initialized: ['classifier.bias', 'classifier.weight']\n",
            "You should probably TRAIN this model on a down-stream task to be able to use it for predictions and inference.\n"
          ]
        },
        {
          "output_type": "stream",
          "name": "stdout",
          "text": [
            "{'eval_loss': 0.56805819272995, 'eval_accuracy': 0.7107843137254902, 'eval_f1': 0.8201219512195121, 'eval_runtime': 0.3374, 'eval_samples_per_second': 1209.424, 'eval_steps_per_second': 38.536, 'epoch': 4.0}\n",
            "Progress: 12/100\n",
            "{'eval_loss': 0.6053450703620911, 'eval_accuracy': 0.6838235294117647, 'eval_f1': 0.8122270742358079, 'eval_runtime': 0.3448, 'eval_samples_per_second': 1183.211, 'eval_steps_per_second': 37.7, 'epoch': 1.0}\n",
            "{'eval_loss': 0.5885691046714783, 'eval_accuracy': 0.7034313725490197, 'eval_f1': 0.8212703101920237, 'eval_runtime': 0.3924, 'eval_samples_per_second': 1039.623, 'eval_steps_per_second': 33.125, 'epoch': 2.0}\n",
            "{'eval_loss': 0.5840325355529785, 'eval_accuracy': 0.6985294117647058, 'eval_f1': 0.8166915052160953, 'eval_runtime': 0.3598, 'eval_samples_per_second': 1134.028, 'eval_steps_per_second': 36.133, 'epoch': 3.0}\n",
            "{'eval_loss': 0.5790587663650513, 'eval_accuracy': 0.696078431372549, 'eval_f1': 0.8138138138138138, 'eval_runtime': 0.3594, 'eval_samples_per_second': 1135.231, 'eval_steps_per_second': 36.172, 'epoch': 4.0}\n",
            "{'train_runtime': 8.1325, 'train_samples_per_second': 1804.122, 'train_steps_per_second': 56.563, 'train_loss': 0.5975138125212296, 'epoch': 4.0}\n",
            "{'eval_loss': 0.5790587663650513, 'eval_accuracy': 0.696078431372549, 'eval_f1': 0.8138138138138138, 'eval_runtime': 0.3806, 'eval_samples_per_second': 1072.047, 'eval_steps_per_second': 34.158, 'epoch': 4.0}\n",
            "Progress: 13/100\n"
          ]
        },
        {
          "output_type": "stream",
          "name": "stderr",
          "text": [
            "Some weights of BertForSequenceClassification were not initialized from the model checkpoint at prajjwal1/bert-tiny and are newly initialized: ['classifier.bias', 'classifier.weight']\n",
            "You should probably TRAIN this model on a down-stream task to be able to use it for predictions and inference.\n"
          ]
        },
        {
          "output_type": "stream",
          "name": "stdout",
          "text": [
            "{'eval_loss': 0.5753757357597351, 'eval_accuracy': 0.696078431372549, 'eval_f1': 0.8132530120481928, 'eval_runtime': 0.3143, 'eval_samples_per_second': 1298.047, 'eval_steps_per_second': 22.27, 'epoch': 1.0}\n",
            "{'eval_loss': 0.550995409488678, 'eval_accuracy': 0.7328431372549019, 'eval_f1': 0.8304821150855366, 'eval_runtime': 0.3024, 'eval_samples_per_second': 1349.049, 'eval_steps_per_second': 23.145, 'epoch': 2.0}\n",
            "{'eval_loss': 0.5720232129096985, 'eval_accuracy': 0.7598039215686274, 'eval_f1': 0.8434504792332268, 'eval_runtime': 0.3653, 'eval_samples_per_second': 1116.744, 'eval_steps_per_second': 19.16, 'epoch': 3.0}\n",
            "{'eval_loss': 0.5971444249153137, 'eval_accuracy': 0.75, 'eval_f1': 0.8386075949367089, 'eval_runtime': 0.3334, 'eval_samples_per_second': 1223.621, 'eval_steps_per_second': 20.994, 'epoch': 4.0}\n",
            "{'train_runtime': 6.2412, 'train_samples_per_second': 2350.814, 'train_steps_per_second': 37.172, 'train_loss': 0.4707464020827721, 'epoch': 4.0}\n"
          ]
        },
        {
          "output_type": "stream",
          "name": "stderr",
          "text": [
            "Some weights of BertForSequenceClassification were not initialized from the model checkpoint at prajjwal1/bert-tiny and are newly initialized: ['classifier.bias', 'classifier.weight']\n",
            "You should probably TRAIN this model on a down-stream task to be able to use it for predictions and inference.\n"
          ]
        },
        {
          "output_type": "stream",
          "name": "stdout",
          "text": [
            "{'eval_loss': 0.5971444249153137, 'eval_accuracy': 0.75, 'eval_f1': 0.8386075949367089, 'eval_runtime': 0.3442, 'eval_samples_per_second': 1185.496, 'eval_steps_per_second': 20.339, 'epoch': 4.0}\n",
            "Progress: 14/100\n",
            "{'eval_loss': 0.594853937625885, 'eval_accuracy': 0.6936274509803921, 'eval_f1': 0.8169838945827232, 'eval_runtime': 0.3053, 'eval_samples_per_second': 1336.403, 'eval_steps_per_second': 22.928, 'epoch': 1.0}\n",
            "{'eval_loss': 0.5708560943603516, 'eval_accuracy': 0.7009803921568627, 'eval_f1': 0.8117283950617284, 'eval_runtime': 0.3838, 'eval_samples_per_second': 1063.047, 'eval_steps_per_second': 18.239, 'epoch': 2.0}\n",
            "{'eval_loss': 0.5739648938179016, 'eval_accuracy': 0.7230392156862745, 'eval_f1': 0.8269525267993875, 'eval_runtime': 0.3166, 'eval_samples_per_second': 1288.602, 'eval_steps_per_second': 22.108, 'epoch': 3.0}\n",
            "{'eval_loss': 0.5612186193466187, 'eval_accuracy': 0.7303921568627451, 'eval_f1': 0.8297213622291022, 'eval_runtime': 0.3585, 'eval_samples_per_second': 1137.952, 'eval_steps_per_second': 19.524, 'epoch': 4.0}\n",
            "{'train_runtime': 6.1972, 'train_samples_per_second': 2367.507, 'train_steps_per_second': 37.436, 'train_loss': 0.5603954052102977, 'epoch': 4.0}\n"
          ]
        },
        {
          "output_type": "stream",
          "name": "stderr",
          "text": [
            "Some weights of BertForSequenceClassification were not initialized from the model checkpoint at prajjwal1/bert-tiny and are newly initialized: ['classifier.bias', 'classifier.weight']\n",
            "You should probably TRAIN this model on a down-stream task to be able to use it for predictions and inference.\n"
          ]
        },
        {
          "output_type": "stream",
          "name": "stdout",
          "text": [
            "{'eval_loss': 0.5612186193466187, 'eval_accuracy': 0.7303921568627451, 'eval_f1': 0.8297213622291022, 'eval_runtime': 0.3096, 'eval_samples_per_second': 1317.729, 'eval_steps_per_second': 22.608, 'epoch': 4.0}\n",
            "Progress: 15/100\n",
            "{'eval_loss': 0.6062899231910706, 'eval_accuracy': 0.6838235294117647, 'eval_f1': 0.8122270742358079, 'eval_runtime': 0.3217, 'eval_samples_per_second': 1268.307, 'eval_steps_per_second': 21.76, 'epoch': 1.0}\n",
            "{'eval_loss': 0.590184211730957, 'eval_accuracy': 0.7034313725490197, 'eval_f1': 0.8212703101920237, 'eval_runtime': 0.2973, 'eval_samples_per_second': 1372.499, 'eval_steps_per_second': 23.548, 'epoch': 2.0}\n",
            "{'eval_loss': 0.5828689932823181, 'eval_accuracy': 0.696078431372549, 'eval_f1': 0.8143712574850299, 'eval_runtime': 0.3297, 'eval_samples_per_second': 1237.392, 'eval_steps_per_second': 21.23, 'epoch': 3.0}\n",
            "{'eval_loss': 0.5777505040168762, 'eval_accuracy': 0.6887254901960784, 'eval_f1': 0.8078668683812406, 'eval_runtime': 0.3212, 'eval_samples_per_second': 1270.28, 'eval_steps_per_second': 21.794, 'epoch': 4.0}\n",
            "{'train_runtime': 6.1969, 'train_samples_per_second': 2367.642, 'train_steps_per_second': 37.438, 'train_loss': 0.5961887096536571, 'epoch': 4.0}\n"
          ]
        },
        {
          "output_type": "stream",
          "name": "stderr",
          "text": [
            "Some weights of BertForSequenceClassification were not initialized from the model checkpoint at prajjwal1/bert-tiny and are newly initialized: ['classifier.bias', 'classifier.weight']\n",
            "You should probably TRAIN this model on a down-stream task to be able to use it for predictions and inference.\n"
          ]
        },
        {
          "output_type": "stream",
          "name": "stdout",
          "text": [
            "{'eval_loss': 0.5777505040168762, 'eval_accuracy': 0.6887254901960784, 'eval_f1': 0.8078668683812406, 'eval_runtime': 0.3217, 'eval_samples_per_second': 1268.385, 'eval_steps_per_second': 21.762, 'epoch': 4.0}\n",
            "Progress: 16/100\n",
            "{'eval_loss': 0.6178915500640869, 'eval_accuracy': 0.6838235294117647, 'eval_f1': 0.8122270742358079, 'eval_runtime': 0.3317, 'eval_samples_per_second': 1229.985, 'eval_steps_per_second': 21.103, 'epoch': 1.0}\n",
            "{'eval_loss': 0.6015655398368835, 'eval_accuracy': 0.6838235294117647, 'eval_f1': 0.8122270742358079, 'eval_runtime': 0.3008, 'eval_samples_per_second': 1356.194, 'eval_steps_per_second': 23.268, 'epoch': 2.0}\n",
            "{'eval_loss': 0.5944027900695801, 'eval_accuracy': 0.696078431372549, 'eval_f1': 0.8181818181818182, 'eval_runtime': 0.3254, 'eval_samples_per_second': 1253.892, 'eval_steps_per_second': 21.513, 'epoch': 3.0}\n",
            "{'eval_loss': 0.5916686058044434, 'eval_accuracy': 0.7034313725490197, 'eval_f1': 0.8217967599410898, 'eval_runtime': 0.3084, 'eval_samples_per_second': 1323.14, 'eval_steps_per_second': 22.701, 'epoch': 4.0}\n",
            "{'train_runtime': 6.2064, 'train_samples_per_second': 2363.997, 'train_steps_per_second': 37.381, 'train_loss': 0.6165741229879445, 'epoch': 4.0}\n"
          ]
        },
        {
          "output_type": "stream",
          "name": "stderr",
          "text": [
            "Some weights of BertForSequenceClassification were not initialized from the model checkpoint at prajjwal1/bert-tiny and are newly initialized: ['classifier.bias', 'classifier.weight']\n",
            "You should probably TRAIN this model on a down-stream task to be able to use it for predictions and inference.\n"
          ]
        },
        {
          "output_type": "stream",
          "name": "stdout",
          "text": [
            "{'eval_loss': 0.5916686058044434, 'eval_accuracy': 0.7034313725490197, 'eval_f1': 0.8217967599410898, 'eval_runtime': 0.2988, 'eval_samples_per_second': 1365.62, 'eval_steps_per_second': 23.43, 'epoch': 4.0}\n",
            "Progress: 17/100\n",
            "{'eval_loss': 0.6026797890663147, 'eval_accuracy': 0.6887254901960784, 'eval_f1': 0.808446455505279, 'eval_runtime': 0.3176, 'eval_samples_per_second': 1284.638, 'eval_steps_per_second': 12.594, 'epoch': 1.0}\n",
            "{'eval_loss': 0.5666956901550293, 'eval_accuracy': 0.7205882352941176, 'eval_f1': 0.821875, 'eval_runtime': 0.3309, 'eval_samples_per_second': 1232.967, 'eval_steps_per_second': 12.088, 'epoch': 2.0}\n",
            "{'eval_loss': 0.5767462253570557, 'eval_accuracy': 0.7279411764705882, 'eval_f1': 0.8262910798122066, 'eval_runtime': 0.2936, 'eval_samples_per_second': 1389.865, 'eval_steps_per_second': 13.626, 'epoch': 3.0}\n",
            "{'eval_loss': 0.5759289264678955, 'eval_accuracy': 0.7352941176470589, 'eval_f1': 0.8291139240506329, 'eval_runtime': 0.35, 'eval_samples_per_second': 1165.862, 'eval_steps_per_second': 11.43, 'epoch': 4.0}\n",
            "{'train_runtime': 5.4403, 'train_samples_per_second': 2696.906, 'train_steps_per_second': 21.322, 'train_loss': 0.5189324411852606, 'epoch': 4.0}\n"
          ]
        },
        {
          "output_type": "stream",
          "name": "stderr",
          "text": [
            "Some weights of BertForSequenceClassification were not initialized from the model checkpoint at prajjwal1/bert-tiny and are newly initialized: ['classifier.bias', 'classifier.weight']\n",
            "You should probably TRAIN this model on a down-stream task to be able to use it for predictions and inference.\n"
          ]
        },
        {
          "output_type": "stream",
          "name": "stdout",
          "text": [
            "{'eval_loss': 0.5759289264678955, 'eval_accuracy': 0.7352941176470589, 'eval_f1': 0.8291139240506329, 'eval_runtime': 0.2934, 'eval_samples_per_second': 1390.671, 'eval_steps_per_second': 13.634, 'epoch': 4.0}\n",
            "Progress: 18/100\n",
            "{'eval_loss': 0.6038169264793396, 'eval_accuracy': 0.6838235294117647, 'eval_f1': 0.8122270742358079, 'eval_runtime': 0.3371, 'eval_samples_per_second': 1210.152, 'eval_steps_per_second': 11.864, 'epoch': 1.0}\n",
            "{'eval_loss': 0.5951903462409973, 'eval_accuracy': 0.7058823529411765, 'eval_f1': 0.8224852071005917, 'eval_runtime': 0.2899, 'eval_samples_per_second': 1407.597, 'eval_steps_per_second': 13.8, 'epoch': 2.0}\n",
            "{'eval_loss': 0.579287052154541, 'eval_accuracy': 0.6911764705882353, 'eval_f1': 0.8090909090909091, 'eval_runtime': 0.3032, 'eval_samples_per_second': 1345.742, 'eval_steps_per_second': 13.194, 'epoch': 3.0}\n",
            "{'eval_loss': 0.5748432874679565, 'eval_accuracy': 0.6911764705882353, 'eval_f1': 0.8073394495412844, 'eval_runtime': 0.3563, 'eval_samples_per_second': 1145.199, 'eval_steps_per_second': 11.227, 'epoch': 4.0}\n",
            "{'train_runtime': 5.5194, 'train_samples_per_second': 2658.251, 'train_steps_per_second': 21.017, 'train_loss': 0.5897226004764952, 'epoch': 4.0}\n"
          ]
        },
        {
          "output_type": "stream",
          "name": "stderr",
          "text": [
            "Some weights of BertForSequenceClassification were not initialized from the model checkpoint at prajjwal1/bert-tiny and are newly initialized: ['classifier.bias', 'classifier.weight']\n",
            "You should probably TRAIN this model on a down-stream task to be able to use it for predictions and inference.\n"
          ]
        },
        {
          "output_type": "stream",
          "name": "stdout",
          "text": [
            "{'eval_loss': 0.5748432874679565, 'eval_accuracy': 0.6911764705882353, 'eval_f1': 0.8073394495412844, 'eval_runtime': 0.2971, 'eval_samples_per_second': 1373.474, 'eval_steps_per_second': 13.465, 'epoch': 4.0}\n",
            "Progress: 19/100\n",
            "{'eval_loss': 0.6207587718963623, 'eval_accuracy': 0.6838235294117647, 'eval_f1': 0.8122270742358079, 'eval_runtime': 0.3063, 'eval_samples_per_second': 1332.241, 'eval_steps_per_second': 13.061, 'epoch': 1.0}\n",
            "{'eval_loss': 0.6050003170967102, 'eval_accuracy': 0.6838235294117647, 'eval_f1': 0.8122270742358079, 'eval_runtime': 0.3142, 'eval_samples_per_second': 1298.639, 'eval_steps_per_second': 12.732, 'epoch': 2.0}\n",
            "{'eval_loss': 0.5970742106437683, 'eval_accuracy': 0.6887254901960784, 'eval_f1': 0.8145985401459854, 'eval_runtime': 0.3002, 'eval_samples_per_second': 1358.966, 'eval_steps_per_second': 13.323, 'epoch': 3.0}\n",
            "{'eval_loss': 0.5952083468437195, 'eval_accuracy': 0.6936274509803921, 'eval_f1': 0.8169838945827232, 'eval_runtime': 0.3514, 'eval_samples_per_second': 1161.032, 'eval_steps_per_second': 11.383, 'epoch': 4.0}\n",
            "{'train_runtime': 5.4322, 'train_samples_per_second': 2700.954, 'train_steps_per_second': 21.354, 'train_loss': 0.6204661007585197, 'epoch': 4.0}\n"
          ]
        },
        {
          "output_type": "stream",
          "name": "stderr",
          "text": [
            "Some weights of BertForSequenceClassification were not initialized from the model checkpoint at prajjwal1/bert-tiny and are newly initialized: ['classifier.bias', 'classifier.weight']\n",
            "You should probably TRAIN this model on a down-stream task to be able to use it for predictions and inference.\n"
          ]
        },
        {
          "output_type": "stream",
          "name": "stdout",
          "text": [
            "{'eval_loss': 0.5952083468437195, 'eval_accuracy': 0.6936274509803921, 'eval_f1': 0.8169838945827232, 'eval_runtime': 0.3456, 'eval_samples_per_second': 1180.481, 'eval_steps_per_second': 11.573, 'epoch': 4.0}\n",
            "Progress: 20/100\n",
            "{'eval_loss': 0.6439599990844727, 'eval_accuracy': 0.6838235294117647, 'eval_f1': 0.8122270742358079, 'eval_runtime': 0.3309, 'eval_samples_per_second': 1232.883, 'eval_steps_per_second': 12.087, 'epoch': 1.0}\n",
            "{'eval_loss': 0.6185536980628967, 'eval_accuracy': 0.6838235294117647, 'eval_f1': 0.8122270742358079, 'eval_runtime': 0.3674, 'eval_samples_per_second': 1110.455, 'eval_steps_per_second': 10.887, 'epoch': 2.0}\n",
            "{'eval_loss': 0.6116704344749451, 'eval_accuracy': 0.6838235294117647, 'eval_f1': 0.8122270742358079, 'eval_runtime': 0.3565, 'eval_samples_per_second': 1144.425, 'eval_steps_per_second': 11.22, 'epoch': 3.0}\n",
            "{'eval_loss': 0.609874427318573, 'eval_accuracy': 0.6838235294117647, 'eval_f1': 0.8122270742358079, 'eval_runtime': 0.3213, 'eval_samples_per_second': 1269.974, 'eval_steps_per_second': 12.451, 'epoch': 4.0}\n",
            "{'train_runtime': 5.5876, 'train_samples_per_second': 2625.811, 'train_steps_per_second': 20.76, 'train_loss': 0.6398460125101024, 'epoch': 4.0}\n"
          ]
        },
        {
          "output_type": "stream",
          "name": "stderr",
          "text": [
            "Some weights of BertForSequenceClassification were not initialized from the model checkpoint at prajjwal1/bert-tiny and are newly initialized: ['classifier.bias', 'classifier.weight']\n",
            "You should probably TRAIN this model on a down-stream task to be able to use it for predictions and inference.\n"
          ]
        },
        {
          "output_type": "stream",
          "name": "stdout",
          "text": [
            "{'eval_loss': 0.609874427318573, 'eval_accuracy': 0.6838235294117647, 'eval_f1': 0.8122270742358079, 'eval_runtime': 0.406, 'eval_samples_per_second': 1004.897, 'eval_steps_per_second': 9.852, 'epoch': 4.0}\n",
            "Progress: 21/100\n",
            "{'eval_loss': 0.5735582113265991, 'eval_accuracy': 0.7083333333333334, 'eval_f1': 0.8155038759689922, 'eval_runtime': 0.4755, 'eval_samples_per_second': 858.003, 'eval_steps_per_second': 107.25, 'epoch': 1.0}\n",
            "{'loss': 0.5946, 'grad_norm': 4.331884384155273, 'learning_rate': 0.00021830065359477123, 'epoch': 1.0893246187363834}\n",
            "{'eval_loss': 0.59549880027771, 'eval_accuracy': 0.7107843137254902, 'eval_f1': 0.8138801261829653, 'eval_runtime': 0.4491, 'eval_samples_per_second': 908.416, 'eval_steps_per_second': 113.552, 'epoch': 2.0}\n",
            "{'loss': 0.4682, 'grad_norm': 38.01247024536133, 'learning_rate': 0.00013660130718954247, 'epoch': 2.178649237472767}\n",
            "{'eval_loss': 0.7907573580741882, 'eval_accuracy': 0.7132352941176471, 'eval_f1': 0.8020304568527918, 'eval_runtime': 0.4484, 'eval_samples_per_second': 909.932, 'eval_steps_per_second': 113.742, 'epoch': 3.0}\n",
            "{'loss': 0.2993, 'grad_norm': 5.858227252960205, 'learning_rate': 5.4901960784313716e-05, 'epoch': 3.2679738562091503}\n",
            "{'eval_loss': 1.0637654066085815, 'eval_accuracy': 0.7132352941176471, 'eval_f1': 0.8059701492537313, 'eval_runtime': 0.4502, 'eval_samples_per_second': 906.315, 'eval_steps_per_second': 113.289, 'epoch': 4.0}\n",
            "{'train_runtime': 21.8502, 'train_samples_per_second': 671.48, 'train_steps_per_second': 84.027, 'train_loss': 0.4129647107425598, 'epoch': 4.0}\n"
          ]
        },
        {
          "output_type": "stream",
          "name": "stderr",
          "text": [
            "Some weights of BertForSequenceClassification were not initialized from the model checkpoint at prajjwal1/bert-tiny and are newly initialized: ['classifier.bias', 'classifier.weight']\n",
            "You should probably TRAIN this model on a down-stream task to be able to use it for predictions and inference.\n"
          ]
        },
        {
          "output_type": "stream",
          "name": "stdout",
          "text": [
            "{'eval_loss': 1.0637654066085815, 'eval_accuracy': 0.7132352941176471, 'eval_f1': 0.8059701492537313, 'eval_runtime': 0.4686, 'eval_samples_per_second': 870.77, 'eval_steps_per_second': 108.846, 'epoch': 4.0}\n",
            "Progress: 22/100\n",
            "{'eval_loss': 0.571905791759491, 'eval_accuracy': 0.7034313725490197, 'eval_f1': 0.8169440242057489, 'eval_runtime': 0.5181, 'eval_samples_per_second': 787.487, 'eval_steps_per_second': 98.436, 'epoch': 1.0}\n",
            "{'loss': 0.5884, 'grad_norm': 4.293759822845459, 'learning_rate': 7.276688453159042e-05, 'epoch': 1.0893246187363834}\n",
            "{'eval_loss': 0.5654860734939575, 'eval_accuracy': 0.7352941176470589, 'eval_f1': 0.8285714285714286, 'eval_runtime': 0.5045, 'eval_samples_per_second': 808.789, 'eval_steps_per_second': 101.099, 'epoch': 2.0}\n",
            "{'loss': 0.4993, 'grad_norm': 8.675013542175293, 'learning_rate': 4.5533769063180834e-05, 'epoch': 2.178649237472767}\n",
            "{'eval_loss': 0.6270501613616943, 'eval_accuracy': 0.7352941176470589, 'eval_f1': 0.8296529968454258, 'eval_runtime': 0.5063, 'eval_samples_per_second': 805.84, 'eval_steps_per_second': 100.73, 'epoch': 3.0}\n",
            "{'loss': 0.4045, 'grad_norm': 26.807472229003906, 'learning_rate': 1.8300653594771242e-05, 'epoch': 3.2679738562091503}\n",
            "{'eval_loss': 0.6656573414802551, 'eval_accuracy': 0.7377450980392157, 'eval_f1': 0.8325508607198748, 'eval_runtime': 0.511, 'eval_samples_per_second': 798.503, 'eval_steps_per_second': 99.813, 'epoch': 4.0}\n",
            "{'train_runtime': 22.1397, 'train_samples_per_second': 662.702, 'train_steps_per_second': 82.928, 'train_loss': 0.47345523792674077, 'epoch': 4.0}\n"
          ]
        },
        {
          "output_type": "stream",
          "name": "stderr",
          "text": [
            "Some weights of BertForSequenceClassification were not initialized from the model checkpoint at prajjwal1/bert-tiny and are newly initialized: ['classifier.bias', 'classifier.weight']\n",
            "You should probably TRAIN this model on a down-stream task to be able to use it for predictions and inference.\n"
          ]
        },
        {
          "output_type": "stream",
          "name": "stdout",
          "text": [
            "{'eval_loss': 0.6656573414802551, 'eval_accuracy': 0.7377450980392157, 'eval_f1': 0.8325508607198748, 'eval_runtime': 0.4491, 'eval_samples_per_second': 908.42, 'eval_steps_per_second': 113.552, 'epoch': 4.0}\n",
            "Progress: 23/100\n",
            "{'eval_loss': 0.5733863711357117, 'eval_accuracy': 0.7009803921568627, 'eval_f1': 0.8134556574923547, 'eval_runtime': 0.461, 'eval_samples_per_second': 885.049, 'eval_steps_per_second': 110.631, 'epoch': 1.0}\n",
            "{'loss': 0.6013, 'grad_norm': 4.323869228363037, 'learning_rate': 3.638344226579521e-05, 'epoch': 1.0893246187363834}\n",
            "{'eval_loss': 0.5774785876274109, 'eval_accuracy': 0.7083333333333334, 'eval_f1': 0.8194233687405159, 'eval_runtime': 0.4585, 'eval_samples_per_second': 889.951, 'eval_steps_per_second': 111.244, 'epoch': 2.0}\n",
            "{'loss': 0.5438, 'grad_norm': 5.283394813537598, 'learning_rate': 2.2766884531590417e-05, 'epoch': 2.178649237472767}\n",
            "{'eval_loss': 0.5611313581466675, 'eval_accuracy': 0.7279411764705882, 'eval_f1': 0.8246445497630331, 'eval_runtime': 0.464, 'eval_samples_per_second': 879.33, 'eval_steps_per_second': 109.916, 'epoch': 3.0}\n",
            "{'loss': 0.4849, 'grad_norm': 14.096569061279297, 'learning_rate': 9.150326797385621e-06, 'epoch': 3.2679738562091503}\n",
            "{'eval_loss': 0.587859570980072, 'eval_accuracy': 0.7279411764705882, 'eval_f1': 0.8268330733229329, 'eval_runtime': 0.4764, 'eval_samples_per_second': 856.468, 'eval_steps_per_second': 107.058, 'epoch': 4.0}\n",
            "{'train_runtime': 21.9262, 'train_samples_per_second': 669.154, 'train_steps_per_second': 83.735, 'train_loss': 0.5309766798497285, 'epoch': 4.0}\n"
          ]
        },
        {
          "output_type": "stream",
          "name": "stderr",
          "text": [
            "Some weights of BertForSequenceClassification were not initialized from the model checkpoint at prajjwal1/bert-tiny and are newly initialized: ['classifier.bias', 'classifier.weight']\n",
            "You should probably TRAIN this model on a down-stream task to be able to use it for predictions and inference.\n"
          ]
        },
        {
          "output_type": "stream",
          "name": "stdout",
          "text": [
            "{'eval_loss': 0.587859570980072, 'eval_accuracy': 0.7279411764705882, 'eval_f1': 0.8268330733229329, 'eval_runtime': 0.4487, 'eval_samples_per_second': 909.393, 'eval_steps_per_second': 113.674, 'epoch': 4.0}\n",
            "Progress: 24/100\n",
            "{'eval_loss': 0.5838139653205872, 'eval_accuracy': 0.7009803921568627, 'eval_f1': 0.8184523809523809, 'eval_runtime': 0.4477, 'eval_samples_per_second': 911.316, 'eval_steps_per_second': 113.914, 'epoch': 1.0}\n",
            "{'loss': 0.6134, 'grad_norm': 2.5178942680358887, 'learning_rate': 2.1830065359477124e-05, 'epoch': 1.0893246187363834}\n",
            "{'eval_loss': 0.5830901861190796, 'eval_accuracy': 0.7034313725490197, 'eval_f1': 0.8180451127819549, 'eval_runtime': 0.4839, 'eval_samples_per_second': 843.068, 'eval_steps_per_second': 105.384, 'epoch': 2.0}\n",
            "{'loss': 0.5689, 'grad_norm': 4.079008102416992, 'learning_rate': 1.366013071895425e-05, 'epoch': 2.178649237472767}\n",
            "{'eval_loss': 0.568699836730957, 'eval_accuracy': 0.7132352941176471, 'eval_f1': 0.8197226502311248, 'eval_runtime': 0.4859, 'eval_samples_per_second': 839.684, 'eval_steps_per_second': 104.961, 'epoch': 3.0}\n",
            "{'loss': 0.5302, 'grad_norm': 6.041450023651123, 'learning_rate': 5.490196078431373e-06, 'epoch': 3.2679738562091503}\n",
            "{'eval_loss': 0.5771942734718323, 'eval_accuracy': 0.7107843137254902, 'eval_f1': 0.8195718654434251, 'eval_runtime': 0.5556, 'eval_samples_per_second': 734.374, 'eval_steps_per_second': 91.797, 'epoch': 4.0}\n",
            "{'train_runtime': 21.9808, 'train_samples_per_second': 667.491, 'train_steps_per_second': 83.527, 'train_loss': 0.5637553262814458, 'epoch': 4.0}\n"
          ]
        },
        {
          "output_type": "stream",
          "name": "stderr",
          "text": [
            "Some weights of BertForSequenceClassification were not initialized from the model checkpoint at prajjwal1/bert-tiny and are newly initialized: ['classifier.bias', 'classifier.weight']\n",
            "You should probably TRAIN this model on a down-stream task to be able to use it for predictions and inference.\n"
          ]
        },
        {
          "output_type": "stream",
          "name": "stdout",
          "text": [
            "{'eval_loss': 0.5771942734718323, 'eval_accuracy': 0.7107843137254902, 'eval_f1': 0.8195718654434251, 'eval_runtime': 0.5159, 'eval_samples_per_second': 790.907, 'eval_steps_per_second': 98.863, 'epoch': 4.0}\n",
            "Progress: 25/100\n",
            "{'eval_loss': 0.5624045133590698, 'eval_accuracy': 0.7230392156862745, 'eval_f1': 0.8231611893583725, 'eval_runtime': 0.4123, 'eval_samples_per_second': 989.559, 'eval_steps_per_second': 63.06, 'epoch': 1.0}\n",
            "{'eval_loss': 0.5531349778175354, 'eval_accuracy': 0.7328431372549019, 'eval_f1': 0.8256, 'eval_runtime': 0.3864, 'eval_samples_per_second': 1055.997, 'eval_steps_per_second': 67.294, 'epoch': 2.0}\n",
            "{'loss': 0.5239, 'grad_norm': 15.012598991394043, 'learning_rate': 0.00013695652173913042, 'epoch': 2.1739130434782608}\n",
            "{'eval_loss': 0.590812087059021, 'eval_accuracy': 0.7401960784313726, 'eval_f1': 0.8221476510067114, 'eval_runtime': 0.4542, 'eval_samples_per_second': 898.278, 'eval_steps_per_second': 57.243, 'epoch': 3.0}\n",
            "{'eval_loss': 0.7519146800041199, 'eval_accuracy': 0.7377450980392157, 'eval_f1': 0.8243021346469622, 'eval_runtime': 0.3984, 'eval_samples_per_second': 1024.202, 'eval_steps_per_second': 65.268, 'epoch': 4.0}\n",
            "{'train_runtime': 12.8673, 'train_samples_per_second': 1140.259, 'train_steps_per_second': 71.499, 'train_loss': 0.40669037362803584, 'epoch': 4.0}\n"
          ]
        },
        {
          "output_type": "stream",
          "name": "stderr",
          "text": [
            "Some weights of BertForSequenceClassification were not initialized from the model checkpoint at prajjwal1/bert-tiny and are newly initialized: ['classifier.bias', 'classifier.weight']\n",
            "You should probably TRAIN this model on a down-stream task to be able to use it for predictions and inference.\n"
          ]
        },
        {
          "output_type": "stream",
          "name": "stdout",
          "text": [
            "{'eval_loss': 0.7519146800041199, 'eval_accuracy': 0.7377450980392157, 'eval_f1': 0.8243021346469622, 'eval_runtime': 0.3716, 'eval_samples_per_second': 1098.014, 'eval_steps_per_second': 69.971, 'epoch': 4.0}\n",
            "Progress: 26/100\n",
            "{'eval_loss': 0.564354419708252, 'eval_accuracy': 0.7132352941176471, 'eval_f1': 0.8180404354587869, 'eval_runtime': 0.3906, 'eval_samples_per_second': 1044.646, 'eval_steps_per_second': 66.571, 'epoch': 1.0}\n",
            "{'eval_loss': 0.5474852919578552, 'eval_accuracy': 0.7377450980392157, 'eval_f1': 0.831496062992126, 'eval_runtime': 0.3691, 'eval_samples_per_second': 1105.475, 'eval_steps_per_second': 70.447, 'epoch': 2.0}\n",
            "{'loss': 0.5577, 'grad_norm': 6.763742923736572, 'learning_rate': 4.565217391304348e-05, 'epoch': 2.1739130434782608}\n",
            "{'eval_loss': 0.5569795966148376, 'eval_accuracy': 0.7426470588235294, 'eval_f1': 0.8330683624801272, 'eval_runtime': 0.3721, 'eval_samples_per_second': 1096.377, 'eval_steps_per_second': 69.867, 'epoch': 3.0}\n",
            "{'eval_loss': 0.5896832346916199, 'eval_accuracy': 0.7328431372549019, 'eval_f1': 0.8299531981279251, 'eval_runtime': 0.3593, 'eval_samples_per_second': 1135.512, 'eval_steps_per_second': 72.361, 'epoch': 4.0}\n",
            "{'train_runtime': 12.7264, 'train_samples_per_second': 1152.878, 'train_steps_per_second': 72.291, 'train_loss': 0.5020559891410495, 'epoch': 4.0}\n"
          ]
        },
        {
          "output_type": "stream",
          "name": "stderr",
          "text": [
            "Some weights of BertForSequenceClassification were not initialized from the model checkpoint at prajjwal1/bert-tiny and are newly initialized: ['classifier.bias', 'classifier.weight']\n",
            "You should probably TRAIN this model on a down-stream task to be able to use it for predictions and inference.\n"
          ]
        },
        {
          "output_type": "stream",
          "name": "stdout",
          "text": [
            "{'eval_loss': 0.5896832346916199, 'eval_accuracy': 0.7328431372549019, 'eval_f1': 0.8299531981279251, 'eval_runtime': 0.3749, 'eval_samples_per_second': 1088.338, 'eval_steps_per_second': 69.355, 'epoch': 4.0}\n",
            "Progress: 27/100\n",
            "{'eval_loss': 0.5816411972045898, 'eval_accuracy': 0.6887254901960784, 'eval_f1': 0.8095952023988006, 'eval_runtime': 0.3748, 'eval_samples_per_second': 1088.446, 'eval_steps_per_second': 69.362, 'epoch': 1.0}\n",
            "{'eval_loss': 0.5781240463256836, 'eval_accuracy': 0.7034313725490197, 'eval_f1': 0.8185907046476761, 'eval_runtime': 0.3833, 'eval_samples_per_second': 1064.548, 'eval_steps_per_second': 67.839, 'epoch': 2.0}\n",
            "{'loss': 0.5845, 'grad_norm': 4.170251846313477, 'learning_rate': 2.282608695652174e-05, 'epoch': 2.1739130434782608}\n",
            "{'eval_loss': 0.568314790725708, 'eval_accuracy': 0.7083333333333334, 'eval_f1': 0.8183206106870229, 'eval_runtime': 0.4023, 'eval_samples_per_second': 1014.094, 'eval_steps_per_second': 64.624, 'epoch': 3.0}\n",
            "{'eval_loss': 0.568650484085083, 'eval_accuracy': 0.7205882352941176, 'eval_f1': 0.8246153846153846, 'eval_runtime': 0.3751, 'eval_samples_per_second': 1087.621, 'eval_steps_per_second': 69.309, 'epoch': 4.0}\n",
            "{'train_runtime': 13.0137, 'train_samples_per_second': 1127.424, 'train_steps_per_second': 70.695, 'train_loss': 0.5531564961309018, 'epoch': 4.0}\n"
          ]
        },
        {
          "output_type": "stream",
          "name": "stderr",
          "text": [
            "Some weights of BertForSequenceClassification were not initialized from the model checkpoint at prajjwal1/bert-tiny and are newly initialized: ['classifier.bias', 'classifier.weight']\n",
            "You should probably TRAIN this model on a down-stream task to be able to use it for predictions and inference.\n"
          ]
        },
        {
          "output_type": "stream",
          "name": "stdout",
          "text": [
            "{'eval_loss': 0.568650484085083, 'eval_accuracy': 0.7205882352941176, 'eval_f1': 0.8246153846153846, 'eval_runtime': 0.3648, 'eval_samples_per_second': 1118.323, 'eval_steps_per_second': 71.266, 'epoch': 4.0}\n",
            "Progress: 28/100\n",
            "{'eval_loss': 0.5934128761291504, 'eval_accuracy': 0.6985294117647058, 'eval_f1': 0.8193832599118943, 'eval_runtime': 0.443, 'eval_samples_per_second': 920.9, 'eval_steps_per_second': 58.685, 'epoch': 1.0}\n",
            "{'eval_loss': 0.5834196209907532, 'eval_accuracy': 0.6985294117647058, 'eval_f1': 0.8161434977578476, 'eval_runtime': 0.3934, 'eval_samples_per_second': 1037.194, 'eval_steps_per_second': 66.096, 'epoch': 2.0}\n",
            "{'loss': 0.6021, 'grad_norm': 2.227717161178589, 'learning_rate': 1.3695652173913042e-05, 'epoch': 2.1739130434782608}\n",
            "{'eval_loss': 0.574123740196228, 'eval_accuracy': 0.6936274509803921, 'eval_f1': 0.8114630467571644, 'eval_runtime': 0.4275, 'eval_samples_per_second': 954.45, 'eval_steps_per_second': 60.823, 'epoch': 3.0}\n",
            "{'eval_loss': 0.5735155940055847, 'eval_accuracy': 0.696078431372549, 'eval_f1': 0.8126888217522659, 'eval_runtime': 0.3592, 'eval_samples_per_second': 1135.839, 'eval_steps_per_second': 72.382, 'epoch': 4.0}\n",
            "{'train_runtime': 13.1115, 'train_samples_per_second': 1119.017, 'train_steps_per_second': 70.167, 'train_loss': 0.580059698353643, 'epoch': 4.0}\n"
          ]
        },
        {
          "output_type": "stream",
          "name": "stderr",
          "text": [
            "Some weights of BertForSequenceClassification were not initialized from the model checkpoint at prajjwal1/bert-tiny and are newly initialized: ['classifier.bias', 'classifier.weight']\n",
            "You should probably TRAIN this model on a down-stream task to be able to use it for predictions and inference.\n"
          ]
        },
        {
          "output_type": "stream",
          "name": "stdout",
          "text": [
            "{'eval_loss': 0.5735155940055847, 'eval_accuracy': 0.696078431372549, 'eval_f1': 0.8126888217522659, 'eval_runtime': 0.3841, 'eval_samples_per_second': 1062.229, 'eval_steps_per_second': 67.691, 'epoch': 4.0}\n",
            "Progress: 29/100\n",
            "{'eval_loss': 0.5496113896369934, 'eval_accuracy': 0.7377450980392157, 'eval_f1': 0.831496062992126, 'eval_runtime': 0.342, 'eval_samples_per_second': 1193.071, 'eval_steps_per_second': 38.015, 'epoch': 1.0}\n",
            "{'eval_loss': 0.552695095539093, 'eval_accuracy': 0.7377450980392157, 'eval_f1': 0.8309636650868878, 'eval_runtime': 0.321, 'eval_samples_per_second': 1271.05, 'eval_steps_per_second': 40.499, 'epoch': 2.0}\n",
            "{'eval_loss': 0.6253054141998291, 'eval_accuracy': 0.7450980392156863, 'eval_f1': 0.8354430379746836, 'eval_runtime': 0.3128, 'eval_samples_per_second': 1304.457, 'eval_steps_per_second': 41.564, 'epoch': 3.0}\n",
            "{'eval_loss': 0.6537364721298218, 'eval_accuracy': 0.7377450980392157, 'eval_f1': 0.8304278922345484, 'eval_runtime': 0.3744, 'eval_samples_per_second': 1089.704, 'eval_steps_per_second': 34.721, 'epoch': 4.0}\n",
            "{'train_runtime': 8.2276, 'train_samples_per_second': 1783.267, 'train_steps_per_second': 55.909, 'train_loss': 0.43501543791397757, 'epoch': 4.0}\n"
          ]
        },
        {
          "output_type": "stream",
          "name": "stderr",
          "text": [
            "Some weights of BertForSequenceClassification were not initialized from the model checkpoint at prajjwal1/bert-tiny and are newly initialized: ['classifier.bias', 'classifier.weight']\n",
            "You should probably TRAIN this model on a down-stream task to be able to use it for predictions and inference.\n"
          ]
        },
        {
          "output_type": "stream",
          "name": "stdout",
          "text": [
            "{'eval_loss': 0.6537364721298218, 'eval_accuracy': 0.7377450980392157, 'eval_f1': 0.8304278922345484, 'eval_runtime': 0.314, 'eval_samples_per_second': 1299.498, 'eval_steps_per_second': 41.406, 'epoch': 4.0}\n",
            "Progress: 30/100\n",
            "{'eval_loss': 0.585704505443573, 'eval_accuracy': 0.6936274509803921, 'eval_f1': 0.81089258698941, 'eval_runtime': 0.5333, 'eval_samples_per_second': 765.067, 'eval_steps_per_second': 24.377, 'epoch': 1.0}\n",
            "{'eval_loss': 0.5598652958869934, 'eval_accuracy': 0.7181372549019608, 'eval_f1': 0.8205928237129485, 'eval_runtime': 0.3383, 'eval_samples_per_second': 1206.062, 'eval_steps_per_second': 38.428, 'epoch': 2.0}\n",
            "{'eval_loss': 0.5700249075889587, 'eval_accuracy': 0.7132352941176471, 'eval_f1': 0.8186046511627907, 'eval_runtime': 0.3305, 'eval_samples_per_second': 1234.612, 'eval_steps_per_second': 39.338, 'epoch': 3.0}\n",
            "{'eval_loss': 0.5717409253120422, 'eval_accuracy': 0.7254901960784313, 'eval_f1': 0.8255451713395638, 'eval_runtime': 0.3533, 'eval_samples_per_second': 1154.787, 'eval_steps_per_second': 36.795, 'epoch': 4.0}\n",
            "{'train_runtime': 8.5583, 'train_samples_per_second': 1714.359, 'train_steps_per_second': 53.749, 'train_loss': 0.5322120666503907, 'epoch': 4.0}\n"
          ]
        },
        {
          "output_type": "stream",
          "name": "stderr",
          "text": [
            "Some weights of BertForSequenceClassification were not initialized from the model checkpoint at prajjwal1/bert-tiny and are newly initialized: ['classifier.bias', 'classifier.weight']\n",
            "You should probably TRAIN this model on a down-stream task to be able to use it for predictions and inference.\n"
          ]
        },
        {
          "output_type": "stream",
          "name": "stdout",
          "text": [
            "{'eval_loss': 0.5717409253120422, 'eval_accuracy': 0.7254901960784313, 'eval_f1': 0.8255451713395638, 'eval_runtime': 0.3997, 'eval_samples_per_second': 1020.77, 'eval_steps_per_second': 32.525, 'epoch': 4.0}\n",
            "Progress: 31/100\n",
            "{'eval_loss': 0.5961236953735352, 'eval_accuracy': 0.6936274509803921, 'eval_f1': 0.8169838945827232, 'eval_runtime': 0.3914, 'eval_samples_per_second': 1042.413, 'eval_steps_per_second': 33.214, 'epoch': 1.0}\n",
            "{'eval_loss': 0.5710234045982361, 'eval_accuracy': 0.7058823529411765, 'eval_f1': 0.817629179331307, 'eval_runtime': 0.3269, 'eval_samples_per_second': 1248.146, 'eval_steps_per_second': 39.769, 'epoch': 2.0}\n",
            "{'eval_loss': 0.5729517340660095, 'eval_accuracy': 0.7083333333333334, 'eval_f1': 0.8199697428139183, 'eval_runtime': 0.3362, 'eval_samples_per_second': 1213.488, 'eval_steps_per_second': 38.665, 'epoch': 3.0}\n",
            "{'eval_loss': 0.56805819272995, 'eval_accuracy': 0.7107843137254902, 'eval_f1': 0.8201219512195121, 'eval_runtime': 0.3443, 'eval_samples_per_second': 1185.032, 'eval_steps_per_second': 37.758, 'epoch': 4.0}\n",
            "{'train_runtime': 8.2062, 'train_samples_per_second': 1787.916, 'train_steps_per_second': 56.055, 'train_loss': 0.5740605893342391, 'epoch': 4.0}\n"
          ]
        },
        {
          "output_type": "stream",
          "name": "stderr",
          "text": [
            "Some weights of BertForSequenceClassification were not initialized from the model checkpoint at prajjwal1/bert-tiny and are newly initialized: ['classifier.bias', 'classifier.weight']\n",
            "You should probably TRAIN this model on a down-stream task to be able to use it for predictions and inference.\n"
          ]
        },
        {
          "output_type": "stream",
          "name": "stdout",
          "text": [
            "{'eval_loss': 0.56805819272995, 'eval_accuracy': 0.7107843137254902, 'eval_f1': 0.8201219512195121, 'eval_runtime': 0.656, 'eval_samples_per_second': 621.949, 'eval_steps_per_second': 19.817, 'epoch': 4.0}\n",
            "Progress: 32/100\n",
            "{'eval_loss': 0.6053450703620911, 'eval_accuracy': 0.6838235294117647, 'eval_f1': 0.8122270742358079, 'eval_runtime': 0.3528, 'eval_samples_per_second': 1156.547, 'eval_steps_per_second': 36.851, 'epoch': 1.0}\n",
            "{'eval_loss': 0.5885691046714783, 'eval_accuracy': 0.7034313725490197, 'eval_f1': 0.8212703101920237, 'eval_runtime': 0.3255, 'eval_samples_per_second': 1253.264, 'eval_steps_per_second': 39.932, 'epoch': 2.0}\n",
            "{'eval_loss': 0.5840325355529785, 'eval_accuracy': 0.6985294117647058, 'eval_f1': 0.8166915052160953, 'eval_runtime': 0.4517, 'eval_samples_per_second': 903.248, 'eval_steps_per_second': 28.78, 'epoch': 3.0}\n",
            "{'eval_loss': 0.5790587663650513, 'eval_accuracy': 0.696078431372549, 'eval_f1': 0.8138138138138138, 'eval_runtime': 0.5441, 'eval_samples_per_second': 749.896, 'eval_steps_per_second': 23.894, 'epoch': 4.0}\n",
            "{'train_runtime': 8.4253, 'train_samples_per_second': 1741.423, 'train_steps_per_second': 54.598, 'train_loss': 0.5975138125212296, 'epoch': 4.0}\n"
          ]
        },
        {
          "output_type": "stream",
          "name": "stderr",
          "text": [
            "Some weights of BertForSequenceClassification were not initialized from the model checkpoint at prajjwal1/bert-tiny and are newly initialized: ['classifier.bias', 'classifier.weight']\n",
            "You should probably TRAIN this model on a down-stream task to be able to use it for predictions and inference.\n"
          ]
        },
        {
          "output_type": "stream",
          "name": "stdout",
          "text": [
            "{'eval_loss': 0.5790587663650513, 'eval_accuracy': 0.696078431372549, 'eval_f1': 0.8138138138138138, 'eval_runtime': 0.3268, 'eval_samples_per_second': 1248.607, 'eval_steps_per_second': 39.784, 'epoch': 4.0}\n",
            "Progress: 33/100\n",
            "{'eval_loss': 0.5753757357597351, 'eval_accuracy': 0.696078431372549, 'eval_f1': 0.8132530120481928, 'eval_runtime': 0.3234, 'eval_samples_per_second': 1261.621, 'eval_steps_per_second': 21.645, 'epoch': 1.0}\n",
            "{'eval_loss': 0.550995409488678, 'eval_accuracy': 0.7328431372549019, 'eval_f1': 0.8304821150855366, 'eval_runtime': 0.3049, 'eval_samples_per_second': 1338.196, 'eval_steps_per_second': 22.959, 'epoch': 2.0}\n",
            "{'eval_loss': 0.5720232129096985, 'eval_accuracy': 0.7598039215686274, 'eval_f1': 0.8434504792332268, 'eval_runtime': 0.3559, 'eval_samples_per_second': 1146.325, 'eval_steps_per_second': 19.667, 'epoch': 3.0}\n",
            "{'eval_loss': 0.5971444249153137, 'eval_accuracy': 0.75, 'eval_f1': 0.8386075949367089, 'eval_runtime': 0.3144, 'eval_samples_per_second': 1297.54, 'eval_steps_per_second': 22.262, 'epoch': 4.0}\n",
            "{'train_runtime': 6.2864, 'train_samples_per_second': 2333.916, 'train_steps_per_second': 36.905, 'train_loss': 0.4707464020827721, 'epoch': 4.0}\n"
          ]
        },
        {
          "output_type": "stream",
          "name": "stderr",
          "text": [
            "Some weights of BertForSequenceClassification were not initialized from the model checkpoint at prajjwal1/bert-tiny and are newly initialized: ['classifier.bias', 'classifier.weight']\n",
            "You should probably TRAIN this model on a down-stream task to be able to use it for predictions and inference.\n"
          ]
        },
        {
          "output_type": "stream",
          "name": "stdout",
          "text": [
            "{'eval_loss': 0.5971444249153137, 'eval_accuracy': 0.75, 'eval_f1': 0.8386075949367089, 'eval_runtime': 0.3134, 'eval_samples_per_second': 1301.825, 'eval_steps_per_second': 22.335, 'epoch': 4.0}\n",
            "Progress: 34/100\n",
            "{'eval_loss': 0.594853937625885, 'eval_accuracy': 0.6936274509803921, 'eval_f1': 0.8169838945827232, 'eval_runtime': 0.3221, 'eval_samples_per_second': 1266.724, 'eval_steps_per_second': 21.733, 'epoch': 1.0}\n",
            "{'eval_loss': 0.5708560943603516, 'eval_accuracy': 0.7009803921568627, 'eval_f1': 0.8117283950617284, 'eval_runtime': 0.3557, 'eval_samples_per_second': 1147.141, 'eval_steps_per_second': 19.681, 'epoch': 2.0}\n",
            "{'eval_loss': 0.5739648938179016, 'eval_accuracy': 0.7230392156862745, 'eval_f1': 0.8269525267993875, 'eval_runtime': 0.3043, 'eval_samples_per_second': 1340.58, 'eval_steps_per_second': 23.0, 'epoch': 3.0}\n",
            "{'eval_loss': 0.5612186193466187, 'eval_accuracy': 0.7303921568627451, 'eval_f1': 0.8297213622291022, 'eval_runtime': 0.3325, 'eval_samples_per_second': 1227.115, 'eval_steps_per_second': 21.053, 'epoch': 4.0}\n",
            "{'train_runtime': 6.2658, 'train_samples_per_second': 2341.61, 'train_steps_per_second': 37.027, 'train_loss': 0.5603954052102977, 'epoch': 4.0}\n"
          ]
        },
        {
          "output_type": "stream",
          "name": "stderr",
          "text": [
            "Some weights of BertForSequenceClassification were not initialized from the model checkpoint at prajjwal1/bert-tiny and are newly initialized: ['classifier.bias', 'classifier.weight']\n",
            "You should probably TRAIN this model on a down-stream task to be able to use it for predictions and inference.\n"
          ]
        },
        {
          "output_type": "stream",
          "name": "stdout",
          "text": [
            "{'eval_loss': 0.5612186193466187, 'eval_accuracy': 0.7303921568627451, 'eval_f1': 0.8297213622291022, 'eval_runtime': 0.3152, 'eval_samples_per_second': 1294.603, 'eval_steps_per_second': 22.211, 'epoch': 4.0}\n",
            "Progress: 35/100\n",
            "{'eval_loss': 0.6062899231910706, 'eval_accuracy': 0.6838235294117647, 'eval_f1': 0.8122270742358079, 'eval_runtime': 0.3126, 'eval_samples_per_second': 1304.988, 'eval_steps_per_second': 22.389, 'epoch': 1.0}\n",
            "{'eval_loss': 0.590184211730957, 'eval_accuracy': 0.7034313725490197, 'eval_f1': 0.8212703101920237, 'eval_runtime': 0.3513, 'eval_samples_per_second': 1161.238, 'eval_steps_per_second': 19.923, 'epoch': 2.0}\n",
            "{'eval_loss': 0.5828689932823181, 'eval_accuracy': 0.696078431372549, 'eval_f1': 0.8143712574850299, 'eval_runtime': 0.353, 'eval_samples_per_second': 1155.787, 'eval_steps_per_second': 19.83, 'epoch': 3.0}\n",
            "{'eval_loss': 0.5777505040168762, 'eval_accuracy': 0.6887254901960784, 'eval_f1': 0.8078668683812406, 'eval_runtime': 0.3164, 'eval_samples_per_second': 1289.575, 'eval_steps_per_second': 22.125, 'epoch': 4.0}\n",
            "{'train_runtime': 6.2408, 'train_samples_per_second': 2350.99, 'train_steps_per_second': 37.175, 'train_loss': 0.5961887096536571, 'epoch': 4.0}\n"
          ]
        },
        {
          "output_type": "stream",
          "name": "stderr",
          "text": [
            "Some weights of BertForSequenceClassification were not initialized from the model checkpoint at prajjwal1/bert-tiny and are newly initialized: ['classifier.bias', 'classifier.weight']\n",
            "You should probably TRAIN this model on a down-stream task to be able to use it for predictions and inference.\n"
          ]
        },
        {
          "output_type": "stream",
          "name": "stdout",
          "text": [
            "{'eval_loss': 0.5777505040168762, 'eval_accuracy': 0.6887254901960784, 'eval_f1': 0.8078668683812406, 'eval_runtime': 0.3226, 'eval_samples_per_second': 1264.818, 'eval_steps_per_second': 21.7, 'epoch': 4.0}\n",
            "Progress: 36/100\n",
            "{'eval_loss': 0.6178915500640869, 'eval_accuracy': 0.6838235294117647, 'eval_f1': 0.8122270742358079, 'eval_runtime': 0.3631, 'eval_samples_per_second': 1123.707, 'eval_steps_per_second': 19.279, 'epoch': 1.0}\n",
            "{'eval_loss': 0.6015655398368835, 'eval_accuracy': 0.6838235294117647, 'eval_f1': 0.8122270742358079, 'eval_runtime': 0.3721, 'eval_samples_per_second': 1096.556, 'eval_steps_per_second': 18.813, 'epoch': 2.0}\n",
            "{'eval_loss': 0.5944027900695801, 'eval_accuracy': 0.696078431372549, 'eval_f1': 0.8181818181818182, 'eval_runtime': 0.296, 'eval_samples_per_second': 1378.466, 'eval_steps_per_second': 23.65, 'epoch': 3.0}\n",
            "{'eval_loss': 0.5916686058044434, 'eval_accuracy': 0.7034313725490197, 'eval_f1': 0.8217967599410898, 'eval_runtime': 0.2937, 'eval_samples_per_second': 1389.192, 'eval_steps_per_second': 23.834, 'epoch': 4.0}\n",
            "{'train_runtime': 6.2761, 'train_samples_per_second': 2337.755, 'train_steps_per_second': 36.966, 'train_loss': 0.6165741229879445, 'epoch': 4.0}\n"
          ]
        },
        {
          "output_type": "stream",
          "name": "stderr",
          "text": [
            "Some weights of BertForSequenceClassification were not initialized from the model checkpoint at prajjwal1/bert-tiny and are newly initialized: ['classifier.bias', 'classifier.weight']\n",
            "You should probably TRAIN this model on a down-stream task to be able to use it for predictions and inference.\n"
          ]
        },
        {
          "output_type": "stream",
          "name": "stdout",
          "text": [
            "{'eval_loss': 0.5916686058044434, 'eval_accuracy': 0.7034313725490197, 'eval_f1': 0.8217967599410898, 'eval_runtime': 0.3075, 'eval_samples_per_second': 1326.655, 'eval_steps_per_second': 22.761, 'epoch': 4.0}\n",
            "Progress: 37/100\n",
            "{'eval_loss': 0.6026797890663147, 'eval_accuracy': 0.6887254901960784, 'eval_f1': 0.808446455505279, 'eval_runtime': 0.3339, 'eval_samples_per_second': 1221.966, 'eval_steps_per_second': 11.98, 'epoch': 1.0}\n",
            "{'eval_loss': 0.5666956901550293, 'eval_accuracy': 0.7205882352941176, 'eval_f1': 0.821875, 'eval_runtime': 0.3755, 'eval_samples_per_second': 1086.688, 'eval_steps_per_second': 10.654, 'epoch': 2.0}\n",
            "{'eval_loss': 0.5767462253570557, 'eval_accuracy': 0.7279411764705882, 'eval_f1': 0.8262910798122066, 'eval_runtime': 0.334, 'eval_samples_per_second': 1221.433, 'eval_steps_per_second': 11.975, 'epoch': 3.0}\n",
            "{'eval_loss': 0.5759289264678955, 'eval_accuracy': 0.7352941176470589, 'eval_f1': 0.8291139240506329, 'eval_runtime': 0.3188, 'eval_samples_per_second': 1279.981, 'eval_steps_per_second': 12.549, 'epoch': 4.0}\n",
            "{'train_runtime': 5.7367, 'train_samples_per_second': 2557.586, 'train_steps_per_second': 20.221, 'train_loss': 0.5189324411852606, 'epoch': 4.0}\n"
          ]
        },
        {
          "output_type": "stream",
          "name": "stderr",
          "text": [
            "Some weights of BertForSequenceClassification were not initialized from the model checkpoint at prajjwal1/bert-tiny and are newly initialized: ['classifier.bias', 'classifier.weight']\n",
            "You should probably TRAIN this model on a down-stream task to be able to use it for predictions and inference.\n"
          ]
        },
        {
          "output_type": "stream",
          "name": "stdout",
          "text": [
            "{'eval_loss': 0.5759289264678955, 'eval_accuracy': 0.7352941176470589, 'eval_f1': 0.8291139240506329, 'eval_runtime': 0.4032, 'eval_samples_per_second': 1012.02, 'eval_steps_per_second': 9.922, 'epoch': 4.0}\n",
            "Progress: 38/100\n",
            "{'eval_loss': 0.6038169264793396, 'eval_accuracy': 0.6838235294117647, 'eval_f1': 0.8122270742358079, 'eval_runtime': 0.2966, 'eval_samples_per_second': 1375.753, 'eval_steps_per_second': 13.488, 'epoch': 1.0}\n",
            "{'eval_loss': 0.5951903462409973, 'eval_accuracy': 0.7058823529411765, 'eval_f1': 0.8224852071005917, 'eval_runtime': 0.2992, 'eval_samples_per_second': 1363.534, 'eval_steps_per_second': 13.368, 'epoch': 2.0}\n",
            "{'eval_loss': 0.579287052154541, 'eval_accuracy': 0.6911764705882353, 'eval_f1': 0.8090909090909091, 'eval_runtime': 0.3188, 'eval_samples_per_second': 1279.901, 'eval_steps_per_second': 12.548, 'epoch': 3.0}\n",
            "{'eval_loss': 0.5748432874679565, 'eval_accuracy': 0.6911764705882353, 'eval_f1': 0.8073394495412844, 'eval_runtime': 0.3006, 'eval_samples_per_second': 1357.459, 'eval_steps_per_second': 13.308, 'epoch': 4.0}\n",
            "{'train_runtime': 5.5372, 'train_samples_per_second': 2649.696, 'train_steps_per_second': 20.949, 'train_loss': 0.5897226004764952, 'epoch': 4.0}\n"
          ]
        },
        {
          "output_type": "stream",
          "name": "stderr",
          "text": [
            "Some weights of BertForSequenceClassification were not initialized from the model checkpoint at prajjwal1/bert-tiny and are newly initialized: ['classifier.bias', 'classifier.weight']\n",
            "You should probably TRAIN this model on a down-stream task to be able to use it for predictions and inference.\n"
          ]
        },
        {
          "output_type": "stream",
          "name": "stdout",
          "text": [
            "{'eval_loss': 0.5748432874679565, 'eval_accuracy': 0.6911764705882353, 'eval_f1': 0.8073394495412844, 'eval_runtime': 1.3407, 'eval_samples_per_second': 304.328, 'eval_steps_per_second': 2.984, 'epoch': 4.0}\n",
            "Progress: 39/100\n",
            "{'eval_loss': 0.6207587718963623, 'eval_accuracy': 0.6838235294117647, 'eval_f1': 0.8122270742358079, 'eval_runtime': 0.2964, 'eval_samples_per_second': 1376.581, 'eval_steps_per_second': 13.496, 'epoch': 1.0}\n",
            "{'eval_loss': 0.6050003170967102, 'eval_accuracy': 0.6838235294117647, 'eval_f1': 0.8122270742358079, 'eval_runtime': 0.294, 'eval_samples_per_second': 1387.938, 'eval_steps_per_second': 13.607, 'epoch': 2.0}\n",
            "{'eval_loss': 0.5970742106437683, 'eval_accuracy': 0.6887254901960784, 'eval_f1': 0.8145985401459854, 'eval_runtime': 1.083, 'eval_samples_per_second': 376.744, 'eval_steps_per_second': 3.694, 'epoch': 3.0}\n",
            "{'eval_loss': 0.5952083468437195, 'eval_accuracy': 0.6936274509803921, 'eval_f1': 0.8169838945827232, 'eval_runtime': 0.3364, 'eval_samples_per_second': 1212.96, 'eval_steps_per_second': 11.892, 'epoch': 4.0}\n",
            "{'train_runtime': 6.3912, 'train_samples_per_second': 2295.662, 'train_steps_per_second': 18.15, 'train_loss': 0.6204661007585197, 'epoch': 4.0}\n"
          ]
        },
        {
          "output_type": "stream",
          "name": "stderr",
          "text": [
            "Some weights of BertForSequenceClassification were not initialized from the model checkpoint at prajjwal1/bert-tiny and are newly initialized: ['classifier.bias', 'classifier.weight']\n",
            "You should probably TRAIN this model on a down-stream task to be able to use it for predictions and inference.\n"
          ]
        },
        {
          "output_type": "stream",
          "name": "stdout",
          "text": [
            "{'eval_loss': 0.5952083468437195, 'eval_accuracy': 0.6936274509803921, 'eval_f1': 0.8169838945827232, 'eval_runtime': 0.2971, 'eval_samples_per_second': 1373.469, 'eval_steps_per_second': 13.465, 'epoch': 4.0}\n",
            "Progress: 40/100\n",
            "{'eval_loss': 0.6439599990844727, 'eval_accuracy': 0.6838235294117647, 'eval_f1': 0.8122270742358079, 'eval_runtime': 0.3104, 'eval_samples_per_second': 1314.553, 'eval_steps_per_second': 12.888, 'epoch': 1.0}\n",
            "{'eval_loss': 0.6185536980628967, 'eval_accuracy': 0.6838235294117647, 'eval_f1': 0.8122270742358079, 'eval_runtime': 0.3076, 'eval_samples_per_second': 1326.525, 'eval_steps_per_second': 13.005, 'epoch': 2.0}\n",
            "{'eval_loss': 0.6116704344749451, 'eval_accuracy': 0.6838235294117647, 'eval_f1': 0.8122270742358079, 'eval_runtime': 0.2976, 'eval_samples_per_second': 1371.166, 'eval_steps_per_second': 13.443, 'epoch': 3.0}\n",
            "{'eval_loss': 0.609874427318573, 'eval_accuracy': 0.6838235294117647, 'eval_f1': 0.8122270742358079, 'eval_runtime': 0.3165, 'eval_samples_per_second': 1288.989, 'eval_steps_per_second': 12.637, 'epoch': 4.0}\n",
            "{'train_runtime': 5.4654, 'train_samples_per_second': 2684.543, 'train_steps_per_second': 21.225, 'train_loss': 0.6398460125101024, 'epoch': 4.0}\n"
          ]
        },
        {
          "output_type": "stream",
          "name": "stderr",
          "text": [
            "Some weights of BertForSequenceClassification were not initialized from the model checkpoint at prajjwal1/bert-tiny and are newly initialized: ['classifier.bias', 'classifier.weight']\n",
            "You should probably TRAIN this model on a down-stream task to be able to use it for predictions and inference.\n"
          ]
        },
        {
          "output_type": "stream",
          "name": "stdout",
          "text": [
            "{'eval_loss': 0.609874427318573, 'eval_accuracy': 0.6838235294117647, 'eval_f1': 0.8122270742358079, 'eval_runtime': 0.2962, 'eval_samples_per_second': 1377.514, 'eval_steps_per_second': 13.505, 'epoch': 4.0}\n",
            "Progress: 41/100\n",
            "{'eval_loss': 0.5735582113265991, 'eval_accuracy': 0.7083333333333334, 'eval_f1': 0.8155038759689922, 'eval_runtime': 0.5101, 'eval_samples_per_second': 799.864, 'eval_steps_per_second': 99.983, 'epoch': 1.0}\n",
            "{'loss': 0.5946, 'grad_norm': 4.331884384155273, 'learning_rate': 0.00021830065359477123, 'epoch': 1.0893246187363834}\n",
            "{'eval_loss': 0.59549880027771, 'eval_accuracy': 0.7107843137254902, 'eval_f1': 0.8138801261829653, 'eval_runtime': 0.4667, 'eval_samples_per_second': 874.22, 'eval_steps_per_second': 109.277, 'epoch': 2.0}\n",
            "{'loss': 0.4682, 'grad_norm': 38.01247024536133, 'learning_rate': 0.00013660130718954247, 'epoch': 2.178649237472767}\n",
            "{'eval_loss': 0.7907573580741882, 'eval_accuracy': 0.7132352941176471, 'eval_f1': 0.8020304568527918, 'eval_runtime': 0.4534, 'eval_samples_per_second': 899.836, 'eval_steps_per_second': 112.48, 'epoch': 3.0}\n",
            "{'loss': 0.2993, 'grad_norm': 5.858227252960205, 'learning_rate': 5.4901960784313716e-05, 'epoch': 3.2679738562091503}\n",
            "{'eval_loss': 1.0637654066085815, 'eval_accuracy': 0.7132352941176471, 'eval_f1': 0.8059701492537313, 'eval_runtime': 0.4692, 'eval_samples_per_second': 869.485, 'eval_steps_per_second': 108.686, 'epoch': 4.0}\n",
            "{'train_runtime': 22.7015, 'train_samples_per_second': 646.3, 'train_steps_per_second': 80.876, 'train_loss': 0.4129647107425598, 'epoch': 4.0}\n"
          ]
        },
        {
          "output_type": "stream",
          "name": "stderr",
          "text": [
            "Some weights of BertForSequenceClassification were not initialized from the model checkpoint at prajjwal1/bert-tiny and are newly initialized: ['classifier.bias', 'classifier.weight']\n",
            "You should probably TRAIN this model on a down-stream task to be able to use it for predictions and inference.\n"
          ]
        },
        {
          "output_type": "stream",
          "name": "stdout",
          "text": [
            "{'eval_loss': 1.0637654066085815, 'eval_accuracy': 0.7132352941176471, 'eval_f1': 0.8059701492537313, 'eval_runtime': 0.4518, 'eval_samples_per_second': 903.057, 'eval_steps_per_second': 112.882, 'epoch': 4.0}\n",
            "Progress: 42/100\n",
            "{'eval_loss': 0.571905791759491, 'eval_accuracy': 0.7034313725490197, 'eval_f1': 0.8169440242057489, 'eval_runtime': 0.5153, 'eval_samples_per_second': 791.835, 'eval_steps_per_second': 98.979, 'epoch': 1.0}\n",
            "{'loss': 0.5884, 'grad_norm': 4.293759822845459, 'learning_rate': 7.276688453159042e-05, 'epoch': 1.0893246187363834}\n",
            "{'eval_loss': 0.5654860734939575, 'eval_accuracy': 0.7352941176470589, 'eval_f1': 0.8285714285714286, 'eval_runtime': 0.462, 'eval_samples_per_second': 883.138, 'eval_steps_per_second': 110.392, 'epoch': 2.0}\n",
            "{'loss': 0.4993, 'grad_norm': 8.675013542175293, 'learning_rate': 4.5533769063180834e-05, 'epoch': 2.178649237472767}\n",
            "{'eval_loss': 0.6270501613616943, 'eval_accuracy': 0.7352941176470589, 'eval_f1': 0.8296529968454258, 'eval_runtime': 0.5985, 'eval_samples_per_second': 681.686, 'eval_steps_per_second': 85.211, 'epoch': 3.0}\n",
            "{'loss': 0.4045, 'grad_norm': 26.807472229003906, 'learning_rate': 1.8300653594771242e-05, 'epoch': 3.2679738562091503}\n",
            "{'eval_loss': 0.6656573414802551, 'eval_accuracy': 0.7377450980392157, 'eval_f1': 0.8325508607198748, 'eval_runtime': 0.4608, 'eval_samples_per_second': 885.366, 'eval_steps_per_second': 110.671, 'epoch': 4.0}\n",
            "{'train_runtime': 22.3427, 'train_samples_per_second': 656.679, 'train_steps_per_second': 82.174, 'train_loss': 0.47345523792674077, 'epoch': 4.0}\n"
          ]
        },
        {
          "output_type": "stream",
          "name": "stderr",
          "text": [
            "Some weights of BertForSequenceClassification were not initialized from the model checkpoint at prajjwal1/bert-tiny and are newly initialized: ['classifier.bias', 'classifier.weight']\n",
            "You should probably TRAIN this model on a down-stream task to be able to use it for predictions and inference.\n"
          ]
        },
        {
          "output_type": "stream",
          "name": "stdout",
          "text": [
            "{'eval_loss': 0.6656573414802551, 'eval_accuracy': 0.7377450980392157, 'eval_f1': 0.8325508607198748, 'eval_runtime': 0.4647, 'eval_samples_per_second': 878.037, 'eval_steps_per_second': 109.755, 'epoch': 4.0}\n",
            "Progress: 43/100\n",
            "{'eval_loss': 0.5733863711357117, 'eval_accuracy': 0.7009803921568627, 'eval_f1': 0.8134556574923547, 'eval_runtime': 1.5296, 'eval_samples_per_second': 266.729, 'eval_steps_per_second': 33.341, 'epoch': 1.0}\n",
            "{'loss': 0.6013, 'grad_norm': 4.323869228363037, 'learning_rate': 3.638344226579521e-05, 'epoch': 1.0893246187363834}\n",
            "{'eval_loss': 0.5774785876274109, 'eval_accuracy': 0.7083333333333334, 'eval_f1': 0.8194233687405159, 'eval_runtime': 0.4628, 'eval_samples_per_second': 881.628, 'eval_steps_per_second': 110.203, 'epoch': 2.0}\n",
            "{'loss': 0.5438, 'grad_norm': 5.283394813537598, 'learning_rate': 2.2766884531590417e-05, 'epoch': 2.178649237472767}\n",
            "{'eval_loss': 0.5611313581466675, 'eval_accuracy': 0.7279411764705882, 'eval_f1': 0.8246445497630331, 'eval_runtime': 0.4523, 'eval_samples_per_second': 901.989, 'eval_steps_per_second': 112.749, 'epoch': 3.0}\n",
            "{'loss': 0.4849, 'grad_norm': 14.096569061279297, 'learning_rate': 9.150326797385621e-06, 'epoch': 3.2679738562091503}\n",
            "{'eval_loss': 0.587859570980072, 'eval_accuracy': 0.7279411764705882, 'eval_f1': 0.8268330733229329, 'eval_runtime': 0.4927, 'eval_samples_per_second': 828.052, 'eval_steps_per_second': 103.507, 'epoch': 4.0}\n",
            "{'train_runtime': 23.1129, 'train_samples_per_second': 634.798, 'train_steps_per_second': 79.436, 'train_loss': 0.5309766798497285, 'epoch': 4.0}\n"
          ]
        },
        {
          "output_type": "stream",
          "name": "stderr",
          "text": [
            "Some weights of BertForSequenceClassification were not initialized from the model checkpoint at prajjwal1/bert-tiny and are newly initialized: ['classifier.bias', 'classifier.weight']\n",
            "You should probably TRAIN this model on a down-stream task to be able to use it for predictions and inference.\n"
          ]
        },
        {
          "output_type": "stream",
          "name": "stdout",
          "text": [
            "{'eval_loss': 0.587859570980072, 'eval_accuracy': 0.7279411764705882, 'eval_f1': 0.8268330733229329, 'eval_runtime': 0.4421, 'eval_samples_per_second': 922.97, 'eval_steps_per_second': 115.371, 'epoch': 4.0}\n",
            "Progress: 44/100\n",
            "{'eval_loss': 0.5838139653205872, 'eval_accuracy': 0.7009803921568627, 'eval_f1': 0.8184523809523809, 'eval_runtime': 0.4587, 'eval_samples_per_second': 889.544, 'eval_steps_per_second': 111.193, 'epoch': 1.0}\n",
            "{'loss': 0.6134, 'grad_norm': 2.5178942680358887, 'learning_rate': 2.1830065359477124e-05, 'epoch': 1.0893246187363834}\n",
            "{'eval_loss': 0.5830901861190796, 'eval_accuracy': 0.7034313725490197, 'eval_f1': 0.8180451127819549, 'eval_runtime': 0.5298, 'eval_samples_per_second': 770.035, 'eval_steps_per_second': 96.254, 'epoch': 2.0}\n",
            "{'loss': 0.5689, 'grad_norm': 4.079008102416992, 'learning_rate': 1.366013071895425e-05, 'epoch': 2.178649237472767}\n",
            "{'eval_loss': 0.568699836730957, 'eval_accuracy': 0.7132352941176471, 'eval_f1': 0.8197226502311248, 'eval_runtime': 0.4774, 'eval_samples_per_second': 854.634, 'eval_steps_per_second': 106.829, 'epoch': 3.0}\n",
            "{'loss': 0.5302, 'grad_norm': 6.041450023651123, 'learning_rate': 5.490196078431373e-06, 'epoch': 3.2679738562091503}\n",
            "{'eval_loss': 0.5771942734718323, 'eval_accuracy': 0.7107843137254902, 'eval_f1': 0.8195718654434251, 'eval_runtime': 0.4433, 'eval_samples_per_second': 920.436, 'eval_steps_per_second': 115.054, 'epoch': 4.0}\n",
            "{'train_runtime': 22.0915, 'train_samples_per_second': 664.147, 'train_steps_per_second': 83.109, 'train_loss': 0.5637553262814458, 'epoch': 4.0}\n"
          ]
        },
        {
          "output_type": "stream",
          "name": "stderr",
          "text": [
            "Some weights of BertForSequenceClassification were not initialized from the model checkpoint at prajjwal1/bert-tiny and are newly initialized: ['classifier.bias', 'classifier.weight']\n",
            "You should probably TRAIN this model on a down-stream task to be able to use it for predictions and inference.\n"
          ]
        },
        {
          "output_type": "stream",
          "name": "stdout",
          "text": [
            "{'eval_loss': 0.5771942734718323, 'eval_accuracy': 0.7107843137254902, 'eval_f1': 0.8195718654434251, 'eval_runtime': 0.4464, 'eval_samples_per_second': 914.005, 'eval_steps_per_second': 114.251, 'epoch': 4.0}\n",
            "Progress: 45/100\n",
            "{'eval_loss': 0.5624045133590698, 'eval_accuracy': 0.7230392156862745, 'eval_f1': 0.8231611893583725, 'eval_runtime': 0.4235, 'eval_samples_per_second': 963.447, 'eval_steps_per_second': 61.396, 'epoch': 1.0}\n",
            "{'eval_loss': 0.5531349778175354, 'eval_accuracy': 0.7328431372549019, 'eval_f1': 0.8256, 'eval_runtime': 0.3879, 'eval_samples_per_second': 1051.723, 'eval_steps_per_second': 67.022, 'epoch': 2.0}\n",
            "{'loss': 0.5239, 'grad_norm': 15.012598991394043, 'learning_rate': 0.00013695652173913042, 'epoch': 2.1739130434782608}\n",
            "{'eval_loss': 0.590812087059021, 'eval_accuracy': 0.7401960784313726, 'eval_f1': 0.8221476510067114, 'eval_runtime': 0.3791, 'eval_samples_per_second': 1076.164, 'eval_steps_per_second': 68.579, 'epoch': 3.0}\n",
            "{'eval_loss': 0.7519146800041199, 'eval_accuracy': 0.7377450980392157, 'eval_f1': 0.8243021346469622, 'eval_runtime': 0.3801, 'eval_samples_per_second': 1073.46, 'eval_steps_per_second': 68.407, 'epoch': 4.0}\n",
            "{'train_runtime': 12.8486, 'train_samples_per_second': 1141.911, 'train_steps_per_second': 71.603, 'train_loss': 0.40669037362803584, 'epoch': 4.0}\n"
          ]
        },
        {
          "output_type": "stream",
          "name": "stderr",
          "text": [
            "Some weights of BertForSequenceClassification were not initialized from the model checkpoint at prajjwal1/bert-tiny and are newly initialized: ['classifier.bias', 'classifier.weight']\n",
            "You should probably TRAIN this model on a down-stream task to be able to use it for predictions and inference.\n"
          ]
        },
        {
          "output_type": "stream",
          "name": "stdout",
          "text": [
            "{'eval_loss': 0.7519146800041199, 'eval_accuracy': 0.7377450980392157, 'eval_f1': 0.8243021346469622, 'eval_runtime': 0.3729, 'eval_samples_per_second': 1094.107, 'eval_steps_per_second': 69.723, 'epoch': 4.0}\n",
            "Progress: 46/100\n",
            "{'eval_loss': 0.564354419708252, 'eval_accuracy': 0.7132352941176471, 'eval_f1': 0.8180404354587869, 'eval_runtime': 0.4166, 'eval_samples_per_second': 979.446, 'eval_steps_per_second': 62.416, 'epoch': 1.0}\n",
            "{'eval_loss': 0.5474852919578552, 'eval_accuracy': 0.7377450980392157, 'eval_f1': 0.831496062992126, 'eval_runtime': 0.3703, 'eval_samples_per_second': 1101.945, 'eval_steps_per_second': 70.222, 'epoch': 2.0}\n",
            "{'loss': 0.5577, 'grad_norm': 6.763742923736572, 'learning_rate': 4.565217391304348e-05, 'epoch': 2.1739130434782608}\n",
            "{'eval_loss': 0.5569795966148376, 'eval_accuracy': 0.7426470588235294, 'eval_f1': 0.8330683624801272, 'eval_runtime': 0.4102, 'eval_samples_per_second': 994.735, 'eval_steps_per_second': 63.39, 'epoch': 3.0}\n",
            "{'eval_loss': 0.5896832346916199, 'eval_accuracy': 0.7328431372549019, 'eval_f1': 0.8299531981279251, 'eval_runtime': 0.4021, 'eval_samples_per_second': 1014.737, 'eval_steps_per_second': 64.665, 'epoch': 4.0}\n",
            "{'train_runtime': 12.8301, 'train_samples_per_second': 1143.561, 'train_steps_per_second': 71.706, 'train_loss': 0.5020559891410495, 'epoch': 4.0}\n"
          ]
        },
        {
          "output_type": "stream",
          "name": "stderr",
          "text": [
            "Some weights of BertForSequenceClassification were not initialized from the model checkpoint at prajjwal1/bert-tiny and are newly initialized: ['classifier.bias', 'classifier.weight']\n",
            "You should probably TRAIN this model on a down-stream task to be able to use it for predictions and inference.\n"
          ]
        },
        {
          "output_type": "stream",
          "name": "stdout",
          "text": [
            "{'eval_loss': 0.5896832346916199, 'eval_accuracy': 0.7328431372549019, 'eval_f1': 0.8299531981279251, 'eval_runtime': 0.4133, 'eval_samples_per_second': 987.196, 'eval_steps_per_second': 62.91, 'epoch': 4.0}\n",
            "Progress: 47/100\n",
            "{'eval_loss': 0.5816411972045898, 'eval_accuracy': 0.6887254901960784, 'eval_f1': 0.8095952023988006, 'eval_runtime': 0.3709, 'eval_samples_per_second': 1100.016, 'eval_steps_per_second': 70.099, 'epoch': 1.0}\n",
            "{'eval_loss': 0.5781240463256836, 'eval_accuracy': 0.7034313725490197, 'eval_f1': 0.8185907046476761, 'eval_runtime': 0.3838, 'eval_samples_per_second': 1063.181, 'eval_steps_per_second': 67.752, 'epoch': 2.0}\n",
            "{'loss': 0.5845, 'grad_norm': 4.170251846313477, 'learning_rate': 2.282608695652174e-05, 'epoch': 2.1739130434782608}\n",
            "{'eval_loss': 0.568314790725708, 'eval_accuracy': 0.7083333333333334, 'eval_f1': 0.8183206106870229, 'eval_runtime': 0.4176, 'eval_samples_per_second': 977.072, 'eval_steps_per_second': 62.264, 'epoch': 3.0}\n",
            "{'eval_loss': 0.568650484085083, 'eval_accuracy': 0.7205882352941176, 'eval_f1': 0.8246153846153846, 'eval_runtime': 0.3615, 'eval_samples_per_second': 1128.72, 'eval_steps_per_second': 71.928, 'epoch': 4.0}\n",
            "{'train_runtime': 12.708, 'train_samples_per_second': 1154.548, 'train_steps_per_second': 72.395, 'train_loss': 0.5531564961309018, 'epoch': 4.0}\n"
          ]
        },
        {
          "output_type": "stream",
          "name": "stderr",
          "text": [
            "Some weights of BertForSequenceClassification were not initialized from the model checkpoint at prajjwal1/bert-tiny and are newly initialized: ['classifier.bias', 'classifier.weight']\n",
            "You should probably TRAIN this model on a down-stream task to be able to use it for predictions and inference.\n"
          ]
        },
        {
          "output_type": "stream",
          "name": "stdout",
          "text": [
            "{'eval_loss': 0.568650484085083, 'eval_accuracy': 0.7205882352941176, 'eval_f1': 0.8246153846153846, 'eval_runtime': 0.3959, 'eval_samples_per_second': 1030.53, 'eval_steps_per_second': 65.671, 'epoch': 4.0}\n",
            "Progress: 48/100\n",
            "{'eval_loss': 0.5934128761291504, 'eval_accuracy': 0.6985294117647058, 'eval_f1': 0.8193832599118943, 'eval_runtime': 0.4479, 'eval_samples_per_second': 910.892, 'eval_steps_per_second': 58.047, 'epoch': 1.0}\n",
            "{'eval_loss': 0.5834196209907532, 'eval_accuracy': 0.6985294117647058, 'eval_f1': 0.8161434977578476, 'eval_runtime': 0.3748, 'eval_samples_per_second': 1088.545, 'eval_steps_per_second': 69.368, 'epoch': 2.0}\n",
            "{'loss': 0.6021, 'grad_norm': 2.227717161178589, 'learning_rate': 1.3695652173913042e-05, 'epoch': 2.1739130434782608}\n",
            "{'eval_loss': 0.574123740196228, 'eval_accuracy': 0.6936274509803921, 'eval_f1': 0.8114630467571644, 'eval_runtime': 0.3909, 'eval_samples_per_second': 1043.842, 'eval_steps_per_second': 66.519, 'epoch': 3.0}\n",
            "{'eval_loss': 0.5735155940055847, 'eval_accuracy': 0.696078431372549, 'eval_f1': 0.8126888217522659, 'eval_runtime': 0.3685, 'eval_samples_per_second': 1107.226, 'eval_steps_per_second': 70.559, 'epoch': 4.0}\n",
            "{'train_runtime': 12.7414, 'train_samples_per_second': 1151.523, 'train_steps_per_second': 72.206, 'train_loss': 0.580059698353643, 'epoch': 4.0}\n"
          ]
        },
        {
          "output_type": "stream",
          "name": "stderr",
          "text": [
            "Some weights of BertForSequenceClassification were not initialized from the model checkpoint at prajjwal1/bert-tiny and are newly initialized: ['classifier.bias', 'classifier.weight']\n",
            "You should probably TRAIN this model on a down-stream task to be able to use it for predictions and inference.\n"
          ]
        },
        {
          "output_type": "stream",
          "name": "stdout",
          "text": [
            "{'eval_loss': 0.5735155940055847, 'eval_accuracy': 0.696078431372549, 'eval_f1': 0.8126888217522659, 'eval_runtime': 0.3604, 'eval_samples_per_second': 1132.214, 'eval_steps_per_second': 72.151, 'epoch': 4.0}\n",
            "Progress: 49/100\n",
            "{'eval_loss': 0.5496113896369934, 'eval_accuracy': 0.7377450980392157, 'eval_f1': 0.831496062992126, 'eval_runtime': 0.3363, 'eval_samples_per_second': 1213.056, 'eval_steps_per_second': 38.651, 'epoch': 1.0}\n",
            "{'eval_loss': 0.552695095539093, 'eval_accuracy': 0.7377450980392157, 'eval_f1': 0.8309636650868878, 'eval_runtime': 0.3138, 'eval_samples_per_second': 1300.054, 'eval_steps_per_second': 41.423, 'epoch': 2.0}\n",
            "{'eval_loss': 0.6253054141998291, 'eval_accuracy': 0.7450980392156863, 'eval_f1': 0.8354430379746836, 'eval_runtime': 0.3212, 'eval_samples_per_second': 1270.338, 'eval_steps_per_second': 40.476, 'epoch': 3.0}\n",
            "{'eval_loss': 0.6537364721298218, 'eval_accuracy': 0.7377450980392157, 'eval_f1': 0.8304278922345484, 'eval_runtime': 0.3483, 'eval_samples_per_second': 1171.24, 'eval_steps_per_second': 37.319, 'epoch': 4.0}\n",
            "{'train_runtime': 8.1649, 'train_samples_per_second': 1796.955, 'train_steps_per_second': 56.339, 'train_loss': 0.43501543791397757, 'epoch': 4.0}\n"
          ]
        },
        {
          "output_type": "stream",
          "name": "stderr",
          "text": [
            "Some weights of BertForSequenceClassification were not initialized from the model checkpoint at prajjwal1/bert-tiny and are newly initialized: ['classifier.bias', 'classifier.weight']\n",
            "You should probably TRAIN this model on a down-stream task to be able to use it for predictions and inference.\n"
          ]
        },
        {
          "output_type": "stream",
          "name": "stdout",
          "text": [
            "{'eval_loss': 0.6537364721298218, 'eval_accuracy': 0.7377450980392157, 'eval_f1': 0.8304278922345484, 'eval_runtime': 0.3754, 'eval_samples_per_second': 1086.697, 'eval_steps_per_second': 34.625, 'epoch': 4.0}\n",
            "Progress: 50/100\n",
            "{'eval_loss': 0.585704505443573, 'eval_accuracy': 0.6936274509803921, 'eval_f1': 0.81089258698941, 'eval_runtime': 0.3563, 'eval_samples_per_second': 1145.155, 'eval_steps_per_second': 36.488, 'epoch': 1.0}\n",
            "{'eval_loss': 0.5598652958869934, 'eval_accuracy': 0.7181372549019608, 'eval_f1': 0.8205928237129485, 'eval_runtime': 0.3207, 'eval_samples_per_second': 1272.037, 'eval_steps_per_second': 40.531, 'epoch': 2.0}\n",
            "{'eval_loss': 0.5700249075889587, 'eval_accuracy': 0.7132352941176471, 'eval_f1': 0.8186046511627907, 'eval_runtime': 0.3271, 'eval_samples_per_second': 1247.358, 'eval_steps_per_second': 39.744, 'epoch': 3.0}\n",
            "{'eval_loss': 0.5717409253120422, 'eval_accuracy': 0.7254901960784313, 'eval_f1': 0.8255451713395638, 'eval_runtime': 0.3377, 'eval_samples_per_second': 1208.008, 'eval_steps_per_second': 38.49, 'epoch': 4.0}\n",
            "{'train_runtime': 8.0948, 'train_samples_per_second': 1812.527, 'train_steps_per_second': 56.827, 'train_loss': 0.5322120666503907, 'epoch': 4.0}\n"
          ]
        },
        {
          "output_type": "stream",
          "name": "stderr",
          "text": [
            "Some weights of BertForSequenceClassification were not initialized from the model checkpoint at prajjwal1/bert-tiny and are newly initialized: ['classifier.bias', 'classifier.weight']\n",
            "You should probably TRAIN this model on a down-stream task to be able to use it for predictions and inference.\n"
          ]
        },
        {
          "output_type": "stream",
          "name": "stdout",
          "text": [
            "{'eval_loss': 0.5717409253120422, 'eval_accuracy': 0.7254901960784313, 'eval_f1': 0.8255451713395638, 'eval_runtime': 0.3637, 'eval_samples_per_second': 1121.922, 'eval_steps_per_second': 35.748, 'epoch': 4.0}\n",
            "Progress: 51/100\n",
            "{'eval_loss': 0.5961236953735352, 'eval_accuracy': 0.6936274509803921, 'eval_f1': 0.8169838945827232, 'eval_runtime': 0.3295, 'eval_samples_per_second': 1238.321, 'eval_steps_per_second': 39.456, 'epoch': 1.0}\n",
            "{'eval_loss': 0.5710234045982361, 'eval_accuracy': 0.7058823529411765, 'eval_f1': 0.817629179331307, 'eval_runtime': 0.3522, 'eval_samples_per_second': 1158.408, 'eval_steps_per_second': 36.91, 'epoch': 2.0}\n",
            "{'eval_loss': 0.5729517340660095, 'eval_accuracy': 0.7083333333333334, 'eval_f1': 0.8199697428139183, 'eval_runtime': 0.3474, 'eval_samples_per_second': 1174.427, 'eval_steps_per_second': 37.42, 'epoch': 3.0}\n",
            "{'eval_loss': 0.56805819272995, 'eval_accuracy': 0.7107843137254902, 'eval_f1': 0.8201219512195121, 'eval_runtime': 0.3232, 'eval_samples_per_second': 1262.409, 'eval_steps_per_second': 40.224, 'epoch': 4.0}\n",
            "{'train_runtime': 7.9182, 'train_samples_per_second': 1852.954, 'train_steps_per_second': 58.094, 'train_loss': 0.5740605893342391, 'epoch': 4.0}\n"
          ]
        },
        {
          "output_type": "stream",
          "name": "stderr",
          "text": [
            "Some weights of BertForSequenceClassification were not initialized from the model checkpoint at prajjwal1/bert-tiny and are newly initialized: ['classifier.bias', 'classifier.weight']\n",
            "You should probably TRAIN this model on a down-stream task to be able to use it for predictions and inference.\n"
          ]
        },
        {
          "output_type": "stream",
          "name": "stdout",
          "text": [
            "{'eval_loss': 0.56805819272995, 'eval_accuracy': 0.7107843137254902, 'eval_f1': 0.8201219512195121, 'eval_runtime': 0.3845, 'eval_samples_per_second': 1061.075, 'eval_steps_per_second': 33.809, 'epoch': 4.0}\n",
            "Progress: 52/100\n",
            "{'eval_loss': 0.6053450703620911, 'eval_accuracy': 0.6838235294117647, 'eval_f1': 0.8122270742358079, 'eval_runtime': 0.3341, 'eval_samples_per_second': 1221.365, 'eval_steps_per_second': 38.916, 'epoch': 1.0}\n",
            "{'eval_loss': 0.5885691046714783, 'eval_accuracy': 0.7034313725490197, 'eval_f1': 0.8212703101920237, 'eval_runtime': 0.3155, 'eval_samples_per_second': 1293.183, 'eval_steps_per_second': 41.204, 'epoch': 2.0}\n",
            "{'eval_loss': 0.5840325355529785, 'eval_accuracy': 0.6985294117647058, 'eval_f1': 0.8166915052160953, 'eval_runtime': 0.3863, 'eval_samples_per_second': 1056.289, 'eval_steps_per_second': 33.656, 'epoch': 3.0}\n",
            "{'eval_loss': 0.5790587663650513, 'eval_accuracy': 0.696078431372549, 'eval_f1': 0.8138138138138138, 'eval_runtime': 0.3387, 'eval_samples_per_second': 1204.673, 'eval_steps_per_second': 38.384, 'epoch': 4.0}\n",
            "{'train_runtime': 8.0335, 'train_samples_per_second': 1826.359, 'train_steps_per_second': 57.26, 'train_loss': 0.5975138125212296, 'epoch': 4.0}\n"
          ]
        },
        {
          "output_type": "stream",
          "name": "stderr",
          "text": [
            "Some weights of BertForSequenceClassification were not initialized from the model checkpoint at prajjwal1/bert-tiny and are newly initialized: ['classifier.bias', 'classifier.weight']\n",
            "You should probably TRAIN this model on a down-stream task to be able to use it for predictions and inference.\n"
          ]
        },
        {
          "output_type": "stream",
          "name": "stdout",
          "text": [
            "{'eval_loss': 0.5790587663650513, 'eval_accuracy': 0.696078431372549, 'eval_f1': 0.8138138138138138, 'eval_runtime': 0.3356, 'eval_samples_per_second': 1215.744, 'eval_steps_per_second': 38.737, 'epoch': 4.0}\n",
            "Progress: 53/100\n",
            "{'eval_loss': 0.5753757357597351, 'eval_accuracy': 0.696078431372549, 'eval_f1': 0.8132530120481928, 'eval_runtime': 0.3088, 'eval_samples_per_second': 1321.139, 'eval_steps_per_second': 22.667, 'epoch': 1.0}\n",
            "{'eval_loss': 0.550995409488678, 'eval_accuracy': 0.7328431372549019, 'eval_f1': 0.8304821150855366, 'eval_runtime': 0.3075, 'eval_samples_per_second': 1326.894, 'eval_steps_per_second': 22.765, 'epoch': 2.0}\n",
            "{'eval_loss': 0.5720232129096985, 'eval_accuracy': 0.7598039215686274, 'eval_f1': 0.8434504792332268, 'eval_runtime': 0.3362, 'eval_samples_per_second': 1213.568, 'eval_steps_per_second': 20.821, 'epoch': 3.0}\n",
            "{'eval_loss': 0.5971444249153137, 'eval_accuracy': 0.75, 'eval_f1': 0.8386075949367089, 'eval_runtime': 0.3021, 'eval_samples_per_second': 1350.489, 'eval_steps_per_second': 23.17, 'epoch': 4.0}\n",
            "{'train_runtime': 6.1255, 'train_samples_per_second': 2395.242, 'train_steps_per_second': 37.875, 'train_loss': 0.4707464020827721, 'epoch': 4.0}\n"
          ]
        },
        {
          "output_type": "stream",
          "name": "stderr",
          "text": [
            "Some weights of BertForSequenceClassification were not initialized from the model checkpoint at prajjwal1/bert-tiny and are newly initialized: ['classifier.bias', 'classifier.weight']\n",
            "You should probably TRAIN this model on a down-stream task to be able to use it for predictions and inference.\n"
          ]
        },
        {
          "output_type": "stream",
          "name": "stdout",
          "text": [
            "{'eval_loss': 0.5971444249153137, 'eval_accuracy': 0.75, 'eval_f1': 0.8386075949367089, 'eval_runtime': 0.3035, 'eval_samples_per_second': 1344.506, 'eval_steps_per_second': 23.067, 'epoch': 4.0}\n",
            "Progress: 54/100\n",
            "{'eval_loss': 0.594853937625885, 'eval_accuracy': 0.6936274509803921, 'eval_f1': 0.8169838945827232, 'eval_runtime': 0.3376, 'eval_samples_per_second': 1208.51, 'eval_steps_per_second': 20.734, 'epoch': 1.0}\n",
            "{'eval_loss': 0.5708560943603516, 'eval_accuracy': 0.7009803921568627, 'eval_f1': 0.8117283950617284, 'eval_runtime': 0.3524, 'eval_samples_per_second': 1157.788, 'eval_steps_per_second': 19.864, 'epoch': 2.0}\n",
            "{'eval_loss': 0.5739648938179016, 'eval_accuracy': 0.7230392156862745, 'eval_f1': 0.8269525267993875, 'eval_runtime': 0.3066, 'eval_samples_per_second': 1330.686, 'eval_steps_per_second': 22.83, 'epoch': 3.0}\n",
            "{'eval_loss': 0.5612186193466187, 'eval_accuracy': 0.7303921568627451, 'eval_f1': 0.8297213622291022, 'eval_runtime': 0.3037, 'eval_samples_per_second': 1343.362, 'eval_steps_per_second': 23.048, 'epoch': 4.0}\n",
            "{'train_runtime': 6.1, 'train_samples_per_second': 2405.235, 'train_steps_per_second': 38.033, 'train_loss': 0.5603954052102977, 'epoch': 4.0}\n"
          ]
        },
        {
          "output_type": "stream",
          "name": "stderr",
          "text": [
            "Some weights of BertForSequenceClassification were not initialized from the model checkpoint at prajjwal1/bert-tiny and are newly initialized: ['classifier.bias', 'classifier.weight']\n",
            "You should probably TRAIN this model on a down-stream task to be able to use it for predictions and inference.\n"
          ]
        },
        {
          "output_type": "stream",
          "name": "stdout",
          "text": [
            "{'eval_loss': 0.5612186193466187, 'eval_accuracy': 0.7303921568627451, 'eval_f1': 0.8297213622291022, 'eval_runtime': 0.3534, 'eval_samples_per_second': 1154.403, 'eval_steps_per_second': 19.806, 'epoch': 4.0}\n",
            "Progress: 55/100\n",
            "{'eval_loss': 0.6062899231910706, 'eval_accuracy': 0.6838235294117647, 'eval_f1': 0.8122270742358079, 'eval_runtime': 0.3153, 'eval_samples_per_second': 1294.11, 'eval_steps_per_second': 22.203, 'epoch': 1.0}\n",
            "{'eval_loss': 0.590184211730957, 'eval_accuracy': 0.7034313725490197, 'eval_f1': 0.8212703101920237, 'eval_runtime': 0.2849, 'eval_samples_per_second': 1432.172, 'eval_steps_per_second': 24.572, 'epoch': 2.0}\n",
            "{'eval_loss': 0.5828689932823181, 'eval_accuracy': 0.696078431372549, 'eval_f1': 0.8143712574850299, 'eval_runtime': 0.3515, 'eval_samples_per_second': 1160.817, 'eval_steps_per_second': 19.916, 'epoch': 3.0}\n",
            "{'eval_loss': 0.5777505040168762, 'eval_accuracy': 0.6887254901960784, 'eval_f1': 0.8078668683812406, 'eval_runtime': 0.3054, 'eval_samples_per_second': 1336.13, 'eval_steps_per_second': 22.924, 'epoch': 4.0}\n",
            "{'train_runtime': 6.0812, 'train_samples_per_second': 2412.672, 'train_steps_per_second': 38.15, 'train_loss': 0.5961887096536571, 'epoch': 4.0}\n"
          ]
        },
        {
          "output_type": "stream",
          "name": "stderr",
          "text": [
            "Some weights of BertForSequenceClassification were not initialized from the model checkpoint at prajjwal1/bert-tiny and are newly initialized: ['classifier.bias', 'classifier.weight']\n",
            "You should probably TRAIN this model on a down-stream task to be able to use it for predictions and inference.\n"
          ]
        },
        {
          "output_type": "stream",
          "name": "stdout",
          "text": [
            "{'eval_loss': 0.5777505040168762, 'eval_accuracy': 0.6887254901960784, 'eval_f1': 0.8078668683812406, 'eval_runtime': 0.2982, 'eval_samples_per_second': 1368.077, 'eval_steps_per_second': 23.472, 'epoch': 4.0}\n",
            "Progress: 56/100\n",
            "{'eval_loss': 0.6178915500640869, 'eval_accuracy': 0.6838235294117647, 'eval_f1': 0.8122270742358079, 'eval_runtime': 0.3109, 'eval_samples_per_second': 1312.349, 'eval_steps_per_second': 22.516, 'epoch': 1.0}\n",
            "{'eval_loss': 0.6015655398368835, 'eval_accuracy': 0.6838235294117647, 'eval_f1': 0.8122270742358079, 'eval_runtime': 0.4552, 'eval_samples_per_second': 896.247, 'eval_steps_per_second': 15.377, 'epoch': 2.0}\n",
            "{'eval_loss': 0.5944027900695801, 'eval_accuracy': 0.696078431372549, 'eval_f1': 0.8181818181818182, 'eval_runtime': 0.2932, 'eval_samples_per_second': 1391.366, 'eval_steps_per_second': 23.871, 'epoch': 3.0}\n",
            "{'eval_loss': 0.5916686058044434, 'eval_accuracy': 0.7034313725490197, 'eval_f1': 0.8217967599410898, 'eval_runtime': 0.3216, 'eval_samples_per_second': 1268.715, 'eval_steps_per_second': 21.767, 'epoch': 4.0}\n",
            "{'train_runtime': 6.2135, 'train_samples_per_second': 2361.324, 'train_steps_per_second': 37.338, 'train_loss': 0.6165741229879445, 'epoch': 4.0}\n"
          ]
        },
        {
          "output_type": "stream",
          "name": "stderr",
          "text": [
            "Some weights of BertForSequenceClassification were not initialized from the model checkpoint at prajjwal1/bert-tiny and are newly initialized: ['classifier.bias', 'classifier.weight']\n",
            "You should probably TRAIN this model on a down-stream task to be able to use it for predictions and inference.\n"
          ]
        },
        {
          "output_type": "stream",
          "name": "stdout",
          "text": [
            "{'eval_loss': 0.5916686058044434, 'eval_accuracy': 0.7034313725490197, 'eval_f1': 0.8217967599410898, 'eval_runtime': 0.3743, 'eval_samples_per_second': 1089.956, 'eval_steps_per_second': 18.7, 'epoch': 4.0}\n",
            "Progress: 57/100\n",
            "{'eval_loss': 0.6026797890663147, 'eval_accuracy': 0.6887254901960784, 'eval_f1': 0.808446455505279, 'eval_runtime': 0.3069, 'eval_samples_per_second': 1329.229, 'eval_steps_per_second': 13.032, 'epoch': 1.0}\n",
            "{'eval_loss': 0.5666956901550293, 'eval_accuracy': 0.7205882352941176, 'eval_f1': 0.821875, 'eval_runtime': 0.3029, 'eval_samples_per_second': 1347.094, 'eval_steps_per_second': 13.207, 'epoch': 2.0}\n",
            "{'eval_loss': 0.5767462253570557, 'eval_accuracy': 0.7279411764705882, 'eval_f1': 0.8262910798122066, 'eval_runtime': 0.3126, 'eval_samples_per_second': 1305.101, 'eval_steps_per_second': 12.795, 'epoch': 3.0}\n",
            "{'eval_loss': 0.5759289264678955, 'eval_accuracy': 0.7352941176470589, 'eval_f1': 0.8291139240506329, 'eval_runtime': 0.3048, 'eval_samples_per_second': 1338.77, 'eval_steps_per_second': 13.125, 'epoch': 4.0}\n",
            "{'train_runtime': 5.3848, 'train_samples_per_second': 2724.684, 'train_steps_per_second': 21.542, 'train_loss': 0.5189324411852606, 'epoch': 4.0}\n"
          ]
        },
        {
          "output_type": "stream",
          "name": "stderr",
          "text": [
            "Some weights of BertForSequenceClassification were not initialized from the model checkpoint at prajjwal1/bert-tiny and are newly initialized: ['classifier.bias', 'classifier.weight']\n",
            "You should probably TRAIN this model on a down-stream task to be able to use it for predictions and inference.\n"
          ]
        },
        {
          "output_type": "stream",
          "name": "stdout",
          "text": [
            "{'eval_loss': 0.5759289264678955, 'eval_accuracy': 0.7352941176470589, 'eval_f1': 0.8291139240506329, 'eval_runtime': 0.334, 'eval_samples_per_second': 1221.415, 'eval_steps_per_second': 11.975, 'epoch': 4.0}\n",
            "Progress: 58/100\n",
            "{'eval_loss': 0.6038169264793396, 'eval_accuracy': 0.6838235294117647, 'eval_f1': 0.8122270742358079, 'eval_runtime': 0.3009, 'eval_samples_per_second': 1356.064, 'eval_steps_per_second': 13.295, 'epoch': 1.0}\n",
            "{'eval_loss': 0.5951903462409973, 'eval_accuracy': 0.7058823529411765, 'eval_f1': 0.8224852071005917, 'eval_runtime': 0.2963, 'eval_samples_per_second': 1376.84, 'eval_steps_per_second': 13.498, 'epoch': 2.0}\n",
            "{'eval_loss': 0.579287052154541, 'eval_accuracy': 0.6911764705882353, 'eval_f1': 0.8090909090909091, 'eval_runtime': 0.286, 'eval_samples_per_second': 1426.745, 'eval_steps_per_second': 13.988, 'epoch': 3.0}\n",
            "{'eval_loss': 0.5748432874679565, 'eval_accuracy': 0.6911764705882353, 'eval_f1': 0.8073394495412844, 'eval_runtime': 0.339, 'eval_samples_per_second': 1203.601, 'eval_steps_per_second': 11.8, 'epoch': 4.0}\n",
            "{'train_runtime': 5.4174, 'train_samples_per_second': 2708.334, 'train_steps_per_second': 21.413, 'train_loss': 0.5897226004764952, 'epoch': 4.0}\n"
          ]
        },
        {
          "output_type": "stream",
          "name": "stderr",
          "text": [
            "Some weights of BertForSequenceClassification were not initialized from the model checkpoint at prajjwal1/bert-tiny and are newly initialized: ['classifier.bias', 'classifier.weight']\n",
            "You should probably TRAIN this model on a down-stream task to be able to use it for predictions and inference.\n"
          ]
        },
        {
          "output_type": "stream",
          "name": "stdout",
          "text": [
            "{'eval_loss': 0.5748432874679565, 'eval_accuracy': 0.6911764705882353, 'eval_f1': 0.8073394495412844, 'eval_runtime': 0.318, 'eval_samples_per_second': 1282.853, 'eval_steps_per_second': 12.577, 'epoch': 4.0}\n",
            "Progress: 59/100\n",
            "{'eval_loss': 0.6207587718963623, 'eval_accuracy': 0.6838235294117647, 'eval_f1': 0.8122270742358079, 'eval_runtime': 0.2977, 'eval_samples_per_second': 1370.579, 'eval_steps_per_second': 13.437, 'epoch': 1.0}\n",
            "{'eval_loss': 0.6050003170967102, 'eval_accuracy': 0.6838235294117647, 'eval_f1': 0.8122270742358079, 'eval_runtime': 0.2891, 'eval_samples_per_second': 1411.068, 'eval_steps_per_second': 13.834, 'epoch': 2.0}\n",
            "{'eval_loss': 0.5970742106437683, 'eval_accuracy': 0.6887254901960784, 'eval_f1': 0.8145985401459854, 'eval_runtime': 0.3084, 'eval_samples_per_second': 1322.92, 'eval_steps_per_second': 12.97, 'epoch': 3.0}\n",
            "{'eval_loss': 0.5952083468437195, 'eval_accuracy': 0.6936274509803921, 'eval_f1': 0.8169838945827232, 'eval_runtime': 0.3278, 'eval_samples_per_second': 1244.741, 'eval_steps_per_second': 12.203, 'epoch': 4.0}\n",
            "{'train_runtime': 5.3923, 'train_samples_per_second': 2720.906, 'train_steps_per_second': 21.512, 'train_loss': 0.6204661007585197, 'epoch': 4.0}\n"
          ]
        },
        {
          "output_type": "stream",
          "name": "stderr",
          "text": [
            "Some weights of BertForSequenceClassification were not initialized from the model checkpoint at prajjwal1/bert-tiny and are newly initialized: ['classifier.bias', 'classifier.weight']\n",
            "You should probably TRAIN this model on a down-stream task to be able to use it for predictions and inference.\n"
          ]
        },
        {
          "output_type": "stream",
          "name": "stdout",
          "text": [
            "{'eval_loss': 0.5952083468437195, 'eval_accuracy': 0.6936274509803921, 'eval_f1': 0.8169838945827232, 'eval_runtime': 0.3052, 'eval_samples_per_second': 1337.014, 'eval_steps_per_second': 13.108, 'epoch': 4.0}\n",
            "Progress: 60/100\n",
            "{'eval_loss': 0.6439599990844727, 'eval_accuracy': 0.6838235294117647, 'eval_f1': 0.8122270742358079, 'eval_runtime': 0.3402, 'eval_samples_per_second': 1199.125, 'eval_steps_per_second': 11.756, 'epoch': 1.0}\n",
            "{'eval_loss': 0.6185536980628967, 'eval_accuracy': 0.6838235294117647, 'eval_f1': 0.8122270742358079, 'eval_runtime': 0.3465, 'eval_samples_per_second': 1177.41, 'eval_steps_per_second': 11.543, 'epoch': 2.0}\n",
            "{'eval_loss': 0.6116704344749451, 'eval_accuracy': 0.6838235294117647, 'eval_f1': 0.8122270742358079, 'eval_runtime': 0.3031, 'eval_samples_per_second': 1346.085, 'eval_steps_per_second': 13.197, 'epoch': 3.0}\n",
            "{'eval_loss': 0.609874427318573, 'eval_accuracy': 0.6838235294117647, 'eval_f1': 0.8122270742358079, 'eval_runtime': 0.3316, 'eval_samples_per_second': 1230.538, 'eval_steps_per_second': 12.064, 'epoch': 4.0}\n",
            "{'train_runtime': 5.6101, 'train_samples_per_second': 2615.289, 'train_steps_per_second': 20.677, 'train_loss': 0.6398460125101024, 'epoch': 4.0}\n"
          ]
        },
        {
          "output_type": "stream",
          "name": "stderr",
          "text": [
            "Some weights of BertForSequenceClassification were not initialized from the model checkpoint at prajjwal1/bert-tiny and are newly initialized: ['classifier.bias', 'classifier.weight']\n",
            "You should probably TRAIN this model on a down-stream task to be able to use it for predictions and inference.\n"
          ]
        },
        {
          "output_type": "stream",
          "name": "stdout",
          "text": [
            "{'eval_loss': 0.609874427318573, 'eval_accuracy': 0.6838235294117647, 'eval_f1': 0.8122270742358079, 'eval_runtime': 0.3005, 'eval_samples_per_second': 1357.532, 'eval_steps_per_second': 13.309, 'epoch': 4.0}\n",
            "Progress: 61/100\n",
            "{'eval_loss': 0.5735582113265991, 'eval_accuracy': 0.7083333333333334, 'eval_f1': 0.8155038759689922, 'eval_runtime': 0.5422, 'eval_samples_per_second': 752.463, 'eval_steps_per_second': 94.058, 'epoch': 1.0}\n",
            "{'loss': 0.5946, 'grad_norm': 4.331884384155273, 'learning_rate': 0.00021830065359477123, 'epoch': 1.0893246187363834}\n",
            "{'eval_loss': 0.59549880027771, 'eval_accuracy': 0.7107843137254902, 'eval_f1': 0.8138801261829653, 'eval_runtime': 0.4921, 'eval_samples_per_second': 829.17, 'eval_steps_per_second': 103.646, 'epoch': 2.0}\n",
            "{'loss': 0.4682, 'grad_norm': 38.01247024536133, 'learning_rate': 0.00013660130718954247, 'epoch': 2.178649237472767}\n",
            "{'eval_loss': 0.7907573580741882, 'eval_accuracy': 0.7132352941176471, 'eval_f1': 0.8020304568527918, 'eval_runtime': 0.5405, 'eval_samples_per_second': 754.892, 'eval_steps_per_second': 94.362, 'epoch': 3.0}\n",
            "{'loss': 0.2993, 'grad_norm': 5.858227252960205, 'learning_rate': 5.4901960784313716e-05, 'epoch': 3.2679738562091503}\n",
            "{'eval_loss': 1.0637654066085815, 'eval_accuracy': 0.7132352941176471, 'eval_f1': 0.8059701492537313, 'eval_runtime': 0.482, 'eval_samples_per_second': 846.549, 'eval_steps_per_second': 105.819, 'epoch': 4.0}\n",
            "{'train_runtime': 22.7407, 'train_samples_per_second': 645.186, 'train_steps_per_second': 80.736, 'train_loss': 0.4129647107425598, 'epoch': 4.0}\n"
          ]
        },
        {
          "output_type": "stream",
          "name": "stderr",
          "text": [
            "Some weights of BertForSequenceClassification were not initialized from the model checkpoint at prajjwal1/bert-tiny and are newly initialized: ['classifier.bias', 'classifier.weight']\n",
            "You should probably TRAIN this model on a down-stream task to be able to use it for predictions and inference.\n"
          ]
        },
        {
          "output_type": "stream",
          "name": "stdout",
          "text": [
            "{'eval_loss': 1.0637654066085815, 'eval_accuracy': 0.7132352941176471, 'eval_f1': 0.8059701492537313, 'eval_runtime': 0.5279, 'eval_samples_per_second': 772.907, 'eval_steps_per_second': 96.613, 'epoch': 4.0}\n",
            "Progress: 62/100\n",
            "{'eval_loss': 0.571905791759491, 'eval_accuracy': 0.7034313725490197, 'eval_f1': 0.8169440242057489, 'eval_runtime': 0.4653, 'eval_samples_per_second': 876.827, 'eval_steps_per_second': 109.603, 'epoch': 1.0}\n",
            "{'loss': 0.5884, 'grad_norm': 4.293759822845459, 'learning_rate': 7.276688453159042e-05, 'epoch': 1.0893246187363834}\n",
            "{'eval_loss': 0.5654860734939575, 'eval_accuracy': 0.7352941176470589, 'eval_f1': 0.8285714285714286, 'eval_runtime': 0.4739, 'eval_samples_per_second': 860.977, 'eval_steps_per_second': 107.622, 'epoch': 2.0}\n",
            "{'loss': 0.4993, 'grad_norm': 8.675013542175293, 'learning_rate': 4.5533769063180834e-05, 'epoch': 2.178649237472767}\n",
            "{'eval_loss': 0.6270501613616943, 'eval_accuracy': 0.7352941176470589, 'eval_f1': 0.8296529968454258, 'eval_runtime': 0.4923, 'eval_samples_per_second': 828.785, 'eval_steps_per_second': 103.598, 'epoch': 3.0}\n",
            "{'loss': 0.4045, 'grad_norm': 26.807472229003906, 'learning_rate': 1.8300653594771242e-05, 'epoch': 3.2679738562091503}\n",
            "{'eval_loss': 0.6656573414802551, 'eval_accuracy': 0.7377450980392157, 'eval_f1': 0.8325508607198748, 'eval_runtime': 0.5454, 'eval_samples_per_second': 748.096, 'eval_steps_per_second': 93.512, 'epoch': 4.0}\n",
            "{'train_runtime': 22.6721, 'train_samples_per_second': 647.138, 'train_steps_per_second': 80.98, 'train_loss': 0.47345523792674077, 'epoch': 4.0}\n"
          ]
        },
        {
          "output_type": "stream",
          "name": "stderr",
          "text": [
            "Some weights of BertForSequenceClassification were not initialized from the model checkpoint at prajjwal1/bert-tiny and are newly initialized: ['classifier.bias', 'classifier.weight']\n",
            "You should probably TRAIN this model on a down-stream task to be able to use it for predictions and inference.\n"
          ]
        },
        {
          "output_type": "stream",
          "name": "stdout",
          "text": [
            "{'eval_loss': 0.6656573414802551, 'eval_accuracy': 0.7377450980392157, 'eval_f1': 0.8325508607198748, 'eval_runtime': 0.4874, 'eval_samples_per_second': 837.115, 'eval_steps_per_second': 104.639, 'epoch': 4.0}\n",
            "Progress: 63/100\n",
            "{'eval_loss': 0.5733863711357117, 'eval_accuracy': 0.7009803921568627, 'eval_f1': 0.8134556574923547, 'eval_runtime': 0.5003, 'eval_samples_per_second': 815.484, 'eval_steps_per_second': 101.936, 'epoch': 1.0}\n",
            "{'loss': 0.6013, 'grad_norm': 4.323869228363037, 'learning_rate': 3.638344226579521e-05, 'epoch': 1.0893246187363834}\n",
            "{'eval_loss': 0.5774785876274109, 'eval_accuracy': 0.7083333333333334, 'eval_f1': 0.8194233687405159, 'eval_runtime': 0.5041, 'eval_samples_per_second': 809.369, 'eval_steps_per_second': 101.171, 'epoch': 2.0}\n",
            "{'loss': 0.5438, 'grad_norm': 5.283394813537598, 'learning_rate': 2.2766884531590417e-05, 'epoch': 2.178649237472767}\n",
            "{'eval_loss': 0.5611313581466675, 'eval_accuracy': 0.7279411764705882, 'eval_f1': 0.8246445497630331, 'eval_runtime': 0.4615, 'eval_samples_per_second': 884.121, 'eval_steps_per_second': 110.515, 'epoch': 3.0}\n",
            "{'loss': 0.4849, 'grad_norm': 14.096569061279297, 'learning_rate': 9.150326797385621e-06, 'epoch': 3.2679738562091503}\n",
            "{'eval_loss': 0.587859570980072, 'eval_accuracy': 0.7279411764705882, 'eval_f1': 0.8268330733229329, 'eval_runtime': 0.4752, 'eval_samples_per_second': 858.61, 'eval_steps_per_second': 107.326, 'epoch': 4.0}\n",
            "{'train_runtime': 22.6656, 'train_samples_per_second': 647.323, 'train_steps_per_second': 81.004, 'train_loss': 0.5309766798497285, 'epoch': 4.0}\n"
          ]
        },
        {
          "output_type": "stream",
          "name": "stderr",
          "text": [
            "Some weights of BertForSequenceClassification were not initialized from the model checkpoint at prajjwal1/bert-tiny and are newly initialized: ['classifier.bias', 'classifier.weight']\n",
            "You should probably TRAIN this model on a down-stream task to be able to use it for predictions and inference.\n"
          ]
        },
        {
          "output_type": "stream",
          "name": "stdout",
          "text": [
            "{'eval_loss': 0.587859570980072, 'eval_accuracy': 0.7279411764705882, 'eval_f1': 0.8268330733229329, 'eval_runtime': 0.4576, 'eval_samples_per_second': 891.626, 'eval_steps_per_second': 111.453, 'epoch': 4.0}\n",
            "Progress: 64/100\n",
            "{'eval_loss': 0.5838139653205872, 'eval_accuracy': 0.7009803921568627, 'eval_f1': 0.8184523809523809, 'eval_runtime': 0.4694, 'eval_samples_per_second': 869.132, 'eval_steps_per_second': 108.642, 'epoch': 1.0}\n",
            "{'loss': 0.6134, 'grad_norm': 2.5178942680358887, 'learning_rate': 2.1830065359477124e-05, 'epoch': 1.0893246187363834}\n",
            "{'eval_loss': 0.5830901861190796, 'eval_accuracy': 0.7034313725490197, 'eval_f1': 0.8180451127819549, 'eval_runtime': 0.4791, 'eval_samples_per_second': 851.522, 'eval_steps_per_second': 106.44, 'epoch': 2.0}\n",
            "{'loss': 0.5689, 'grad_norm': 4.079008102416992, 'learning_rate': 1.366013071895425e-05, 'epoch': 2.178649237472767}\n",
            "{'eval_loss': 0.568699836730957, 'eval_accuracy': 0.7132352941176471, 'eval_f1': 0.8197226502311248, 'eval_runtime': 0.4959, 'eval_samples_per_second': 822.802, 'eval_steps_per_second': 102.85, 'epoch': 3.0}\n",
            "{'loss': 0.5302, 'grad_norm': 6.041450023651123, 'learning_rate': 5.490196078431373e-06, 'epoch': 3.2679738562091503}\n",
            "{'eval_loss': 0.5771942734718323, 'eval_accuracy': 0.7107843137254902, 'eval_f1': 0.8195718654434251, 'eval_runtime': 0.4762, 'eval_samples_per_second': 856.837, 'eval_steps_per_second': 107.105, 'epoch': 4.0}\n",
            "{'train_runtime': 22.3426, 'train_samples_per_second': 656.682, 'train_steps_per_second': 82.175, 'train_loss': 0.5637553262814458, 'epoch': 4.0}\n"
          ]
        },
        {
          "output_type": "stream",
          "name": "stderr",
          "text": [
            "Some weights of BertForSequenceClassification were not initialized from the model checkpoint at prajjwal1/bert-tiny and are newly initialized: ['classifier.bias', 'classifier.weight']\n",
            "You should probably TRAIN this model on a down-stream task to be able to use it for predictions and inference.\n"
          ]
        },
        {
          "output_type": "stream",
          "name": "stdout",
          "text": [
            "{'eval_loss': 0.5771942734718323, 'eval_accuracy': 0.7107843137254902, 'eval_f1': 0.8195718654434251, 'eval_runtime': 0.4412, 'eval_samples_per_second': 924.685, 'eval_steps_per_second': 115.586, 'epoch': 4.0}\n",
            "Progress: 65/100\n",
            "{'eval_loss': 0.5624045133590698, 'eval_accuracy': 0.7230392156862745, 'eval_f1': 0.8231611893583725, 'eval_runtime': 0.3672, 'eval_samples_per_second': 1111.097, 'eval_steps_per_second': 70.805, 'epoch': 1.0}\n",
            "{'eval_loss': 0.5531349778175354, 'eval_accuracy': 0.7328431372549019, 'eval_f1': 0.8256, 'eval_runtime': 0.3722, 'eval_samples_per_second': 1096.125, 'eval_steps_per_second': 69.851, 'epoch': 2.0}\n",
            "{'loss': 0.5239, 'grad_norm': 15.012598991394043, 'learning_rate': 0.00013695652173913042, 'epoch': 2.1739130434782608}\n",
            "{'eval_loss': 0.590812087059021, 'eval_accuracy': 0.7401960784313726, 'eval_f1': 0.8221476510067114, 'eval_runtime': 0.3905, 'eval_samples_per_second': 1044.789, 'eval_steps_per_second': 66.58, 'epoch': 3.0}\n",
            "{'eval_loss': 0.7519146800041199, 'eval_accuracy': 0.7377450980392157, 'eval_f1': 0.8243021346469622, 'eval_runtime': 0.3679, 'eval_samples_per_second': 1109.129, 'eval_steps_per_second': 70.68, 'epoch': 4.0}\n",
            "{'train_runtime': 12.7692, 'train_samples_per_second': 1149.013, 'train_steps_per_second': 72.048, 'train_loss': 0.40669037362803584, 'epoch': 4.0}\n"
          ]
        },
        {
          "output_type": "stream",
          "name": "stderr",
          "text": [
            "Some weights of BertForSequenceClassification were not initialized from the model checkpoint at prajjwal1/bert-tiny and are newly initialized: ['classifier.bias', 'classifier.weight']\n",
            "You should probably TRAIN this model on a down-stream task to be able to use it for predictions and inference.\n"
          ]
        },
        {
          "output_type": "stream",
          "name": "stdout",
          "text": [
            "{'eval_loss': 0.7519146800041199, 'eval_accuracy': 0.7377450980392157, 'eval_f1': 0.8243021346469622, 'eval_runtime': 0.4805, 'eval_samples_per_second': 849.175, 'eval_steps_per_second': 54.114, 'epoch': 4.0}\n",
            "Progress: 66/100\n",
            "{'eval_loss': 0.564354419708252, 'eval_accuracy': 0.7132352941176471, 'eval_f1': 0.8180404354587869, 'eval_runtime': 0.396, 'eval_samples_per_second': 1030.215, 'eval_steps_per_second': 65.651, 'epoch': 1.0}\n",
            "{'eval_loss': 0.5474852919578552, 'eval_accuracy': 0.7377450980392157, 'eval_f1': 0.831496062992126, 'eval_runtime': 0.4089, 'eval_samples_per_second': 997.69, 'eval_steps_per_second': 63.578, 'epoch': 2.0}\n",
            "{'loss': 0.5577, 'grad_norm': 6.763742923736572, 'learning_rate': 4.565217391304348e-05, 'epoch': 2.1739130434782608}\n",
            "{'eval_loss': 0.5569795966148376, 'eval_accuracy': 0.7426470588235294, 'eval_f1': 0.8330683624801272, 'eval_runtime': 0.4171, 'eval_samples_per_second': 978.089, 'eval_steps_per_second': 62.329, 'epoch': 3.0}\n",
            "{'eval_loss': 0.5896832346916199, 'eval_accuracy': 0.7328431372549019, 'eval_f1': 0.8299531981279251, 'eval_runtime': 0.4094, 'eval_samples_per_second': 996.465, 'eval_steps_per_second': 63.5, 'epoch': 4.0}\n",
            "{'train_runtime': 13.0088, 'train_samples_per_second': 1127.849, 'train_steps_per_second': 70.721, 'train_loss': 0.5020559891410495, 'epoch': 4.0}\n"
          ]
        },
        {
          "output_type": "stream",
          "name": "stderr",
          "text": [
            "Some weights of BertForSequenceClassification were not initialized from the model checkpoint at prajjwal1/bert-tiny and are newly initialized: ['classifier.bias', 'classifier.weight']\n",
            "You should probably TRAIN this model on a down-stream task to be able to use it for predictions and inference.\n"
          ]
        },
        {
          "output_type": "stream",
          "name": "stdout",
          "text": [
            "{'eval_loss': 0.5896832346916199, 'eval_accuracy': 0.7328431372549019, 'eval_f1': 0.8299531981279251, 'eval_runtime': 0.384, 'eval_samples_per_second': 1062.508, 'eval_steps_per_second': 67.709, 'epoch': 4.0}\n",
            "Progress: 67/100\n",
            "{'eval_loss': 0.5816411972045898, 'eval_accuracy': 0.6887254901960784, 'eval_f1': 0.8095952023988006, 'eval_runtime': 0.3903, 'eval_samples_per_second': 1045.332, 'eval_steps_per_second': 66.614, 'epoch': 1.0}\n",
            "{'eval_loss': 0.5781240463256836, 'eval_accuracy': 0.7034313725490197, 'eval_f1': 0.8185907046476761, 'eval_runtime': 0.367, 'eval_samples_per_second': 1111.807, 'eval_steps_per_second': 70.85, 'epoch': 2.0}\n",
            "{'loss': 0.5845, 'grad_norm': 4.170251846313477, 'learning_rate': 2.282608695652174e-05, 'epoch': 2.1739130434782608}\n",
            "{'eval_loss': 0.568314790725708, 'eval_accuracy': 0.7083333333333334, 'eval_f1': 0.8183206106870229, 'eval_runtime': 0.3863, 'eval_samples_per_second': 1056.208, 'eval_steps_per_second': 67.307, 'epoch': 3.0}\n",
            "{'eval_loss': 0.568650484085083, 'eval_accuracy': 0.7205882352941176, 'eval_f1': 0.8246153846153846, 'eval_runtime': 0.3771, 'eval_samples_per_second': 1081.829, 'eval_steps_per_second': 68.94, 'epoch': 4.0}\n",
            "{'train_runtime': 13.0218, 'train_samples_per_second': 1126.73, 'train_steps_per_second': 70.651, 'train_loss': 0.5531564961309018, 'epoch': 4.0}\n"
          ]
        },
        {
          "output_type": "stream",
          "name": "stderr",
          "text": [
            "Some weights of BertForSequenceClassification were not initialized from the model checkpoint at prajjwal1/bert-tiny and are newly initialized: ['classifier.bias', 'classifier.weight']\n",
            "You should probably TRAIN this model on a down-stream task to be able to use it for predictions and inference.\n"
          ]
        },
        {
          "output_type": "stream",
          "name": "stdout",
          "text": [
            "{'eval_loss': 0.568650484085083, 'eval_accuracy': 0.7205882352941176, 'eval_f1': 0.8246153846153846, 'eval_runtime': 0.3686, 'eval_samples_per_second': 1107.022, 'eval_steps_per_second': 70.546, 'epoch': 4.0}\n",
            "Progress: 68/100\n",
            "{'eval_loss': 0.5934128761291504, 'eval_accuracy': 0.6985294117647058, 'eval_f1': 0.8193832599118943, 'eval_runtime': 0.379, 'eval_samples_per_second': 1076.462, 'eval_steps_per_second': 68.598, 'epoch': 1.0}\n",
            "{'eval_loss': 0.5834196209907532, 'eval_accuracy': 0.6985294117647058, 'eval_f1': 0.8161434977578476, 'eval_runtime': 0.3814, 'eval_samples_per_second': 1069.764, 'eval_steps_per_second': 68.171, 'epoch': 2.0}\n",
            "{'loss': 0.6021, 'grad_norm': 2.227717161178589, 'learning_rate': 1.3695652173913042e-05, 'epoch': 2.1739130434782608}\n",
            "{'eval_loss': 0.574123740196228, 'eval_accuracy': 0.6936274509803921, 'eval_f1': 0.8114630467571644, 'eval_runtime': 0.4474, 'eval_samples_per_second': 911.894, 'eval_steps_per_second': 58.111, 'epoch': 3.0}\n",
            "{'eval_loss': 0.5735155940055847, 'eval_accuracy': 0.696078431372549, 'eval_f1': 0.8126888217522659, 'eval_runtime': 0.3676, 'eval_samples_per_second': 1109.946, 'eval_steps_per_second': 70.732, 'epoch': 4.0}\n",
            "{'train_runtime': 13.0901, 'train_samples_per_second': 1120.845, 'train_steps_per_second': 70.282, 'train_loss': 0.580059698353643, 'epoch': 4.0}\n"
          ]
        },
        {
          "output_type": "stream",
          "name": "stderr",
          "text": [
            "Some weights of BertForSequenceClassification were not initialized from the model checkpoint at prajjwal1/bert-tiny and are newly initialized: ['classifier.bias', 'classifier.weight']\n",
            "You should probably TRAIN this model on a down-stream task to be able to use it for predictions and inference.\n"
          ]
        },
        {
          "output_type": "stream",
          "name": "stdout",
          "text": [
            "{'eval_loss': 0.5735155940055847, 'eval_accuracy': 0.696078431372549, 'eval_f1': 0.8126888217522659, 'eval_runtime': 0.4573, 'eval_samples_per_second': 892.262, 'eval_steps_per_second': 56.86, 'epoch': 4.0}\n",
            "Progress: 69/100\n",
            "{'eval_loss': 0.5496113896369934, 'eval_accuracy': 0.7377450980392157, 'eval_f1': 0.831496062992126, 'eval_runtime': 0.3635, 'eval_samples_per_second': 1122.407, 'eval_steps_per_second': 35.763, 'epoch': 1.0}\n",
            "{'eval_loss': 0.552695095539093, 'eval_accuracy': 0.7377450980392157, 'eval_f1': 0.8309636650868878, 'eval_runtime': 0.4226, 'eval_samples_per_second': 965.468, 'eval_steps_per_second': 30.762, 'epoch': 2.0}\n",
            "{'eval_loss': 0.6253054141998291, 'eval_accuracy': 0.7450980392156863, 'eval_f1': 0.8354430379746836, 'eval_runtime': 0.5137, 'eval_samples_per_second': 794.261, 'eval_steps_per_second': 25.307, 'epoch': 3.0}\n",
            "{'eval_loss': 0.6537364721298218, 'eval_accuracy': 0.7377450980392157, 'eval_f1': 0.8304278922345484, 'eval_runtime': 0.3574, 'eval_samples_per_second': 1141.453, 'eval_steps_per_second': 36.37, 'epoch': 4.0}\n",
            "{'train_runtime': 8.6304, 'train_samples_per_second': 1700.039, 'train_steps_per_second': 53.3, 'train_loss': 0.43501543791397757, 'epoch': 4.0}\n"
          ]
        },
        {
          "output_type": "stream",
          "name": "stderr",
          "text": [
            "Some weights of BertForSequenceClassification were not initialized from the model checkpoint at prajjwal1/bert-tiny and are newly initialized: ['classifier.bias', 'classifier.weight']\n",
            "You should probably TRAIN this model on a down-stream task to be able to use it for predictions and inference.\n"
          ]
        },
        {
          "output_type": "stream",
          "name": "stdout",
          "text": [
            "{'eval_loss': 0.6537364721298218, 'eval_accuracy': 0.7377450980392157, 'eval_f1': 0.8304278922345484, 'eval_runtime': 0.3161, 'eval_samples_per_second': 1290.868, 'eval_steps_per_second': 41.131, 'epoch': 4.0}\n",
            "Progress: 70/100\n",
            "{'eval_loss': 0.585704505443573, 'eval_accuracy': 0.6936274509803921, 'eval_f1': 0.81089258698941, 'eval_runtime': 0.337, 'eval_samples_per_second': 1210.655, 'eval_steps_per_second': 38.575, 'epoch': 1.0}\n",
            "{'eval_loss': 0.5598652958869934, 'eval_accuracy': 0.7181372549019608, 'eval_f1': 0.8205928237129485, 'eval_runtime': 0.3448, 'eval_samples_per_second': 1183.239, 'eval_steps_per_second': 37.701, 'epoch': 2.0}\n",
            "{'eval_loss': 0.5700249075889587, 'eval_accuracy': 0.7132352941176471, 'eval_f1': 0.8186046511627907, 'eval_runtime': 0.3182, 'eval_samples_per_second': 1282.372, 'eval_steps_per_second': 40.86, 'epoch': 3.0}\n",
            "{'eval_loss': 0.5717409253120422, 'eval_accuracy': 0.7254901960784313, 'eval_f1': 0.8255451713395638, 'eval_runtime': 0.3506, 'eval_samples_per_second': 1163.732, 'eval_steps_per_second': 37.08, 'epoch': 4.0}\n",
            "{'train_runtime': 8.4821, 'train_samples_per_second': 1729.761, 'train_steps_per_second': 54.232, 'train_loss': 0.5322120666503907, 'epoch': 4.0}\n",
            "{'eval_loss': 0.5717409253120422, 'eval_accuracy': 0.7254901960784313, 'eval_f1': 0.8255451713395638, 'eval_runtime': 0.3367, 'eval_samples_per_second': 1211.745, 'eval_steps_per_second': 38.61, 'epoch': 4.0}\n",
            "Progress: 71/100\n"
          ]
        },
        {
          "output_type": "stream",
          "name": "stderr",
          "text": [
            "Some weights of BertForSequenceClassification were not initialized from the model checkpoint at prajjwal1/bert-tiny and are newly initialized: ['classifier.bias', 'classifier.weight']\n",
            "You should probably TRAIN this model on a down-stream task to be able to use it for predictions and inference.\n"
          ]
        },
        {
          "output_type": "stream",
          "name": "stdout",
          "text": [
            "{'eval_loss': 0.5961236953735352, 'eval_accuracy': 0.6936274509803921, 'eval_f1': 0.8169838945827232, 'eval_runtime': 0.3405, 'eval_samples_per_second': 1198.37, 'eval_steps_per_second': 38.183, 'epoch': 1.0}\n",
            "{'eval_loss': 0.5710234045982361, 'eval_accuracy': 0.7058823529411765, 'eval_f1': 0.817629179331307, 'eval_runtime': 0.4287, 'eval_samples_per_second': 951.75, 'eval_steps_per_second': 30.325, 'epoch': 2.0}\n",
            "{'eval_loss': 0.5729517340660095, 'eval_accuracy': 0.7083333333333334, 'eval_f1': 0.8199697428139183, 'eval_runtime': 0.3628, 'eval_samples_per_second': 1124.659, 'eval_steps_per_second': 35.835, 'epoch': 3.0}\n",
            "{'eval_loss': 0.56805819272995, 'eval_accuracy': 0.7107843137254902, 'eval_f1': 0.8201219512195121, 'eval_runtime': 0.3556, 'eval_samples_per_second': 1147.223, 'eval_steps_per_second': 36.554, 'epoch': 4.0}\n",
            "{'train_runtime': 8.5241, 'train_samples_per_second': 1721.242, 'train_steps_per_second': 53.965, 'train_loss': 0.5740605893342391, 'epoch': 4.0}\n"
          ]
        },
        {
          "output_type": "stream",
          "name": "stderr",
          "text": [
            "Some weights of BertForSequenceClassification were not initialized from the model checkpoint at prajjwal1/bert-tiny and are newly initialized: ['classifier.bias', 'classifier.weight']\n",
            "You should probably TRAIN this model on a down-stream task to be able to use it for predictions and inference.\n"
          ]
        },
        {
          "output_type": "stream",
          "name": "stdout",
          "text": [
            "{'eval_loss': 0.56805819272995, 'eval_accuracy': 0.7107843137254902, 'eval_f1': 0.8201219512195121, 'eval_runtime': 0.3425, 'eval_samples_per_second': 1191.12, 'eval_steps_per_second': 37.952, 'epoch': 4.0}\n",
            "Progress: 72/100\n",
            "{'eval_loss': 0.6053450703620911, 'eval_accuracy': 0.6838235294117647, 'eval_f1': 0.8122270742358079, 'eval_runtime': 0.3345, 'eval_samples_per_second': 1219.655, 'eval_steps_per_second': 38.862, 'epoch': 1.0}\n",
            "{'eval_loss': 0.5885691046714783, 'eval_accuracy': 0.7034313725490197, 'eval_f1': 0.8212703101920237, 'eval_runtime': 0.4077, 'eval_samples_per_second': 1000.756, 'eval_steps_per_second': 31.887, 'epoch': 2.0}\n",
            "{'eval_loss': 0.5840325355529785, 'eval_accuracy': 0.6985294117647058, 'eval_f1': 0.8166915052160953, 'eval_runtime': 0.3712, 'eval_samples_per_second': 1099.154, 'eval_steps_per_second': 35.022, 'epoch': 3.0}\n",
            "{'eval_loss': 0.5790587663650513, 'eval_accuracy': 0.696078431372549, 'eval_f1': 0.8138138138138138, 'eval_runtime': 0.333, 'eval_samples_per_second': 1225.368, 'eval_steps_per_second': 39.044, 'epoch': 4.0}\n",
            "{'train_runtime': 8.1473, 'train_samples_per_second': 1800.831, 'train_steps_per_second': 56.46, 'train_loss': 0.5975138125212296, 'epoch': 4.0}\n"
          ]
        },
        {
          "output_type": "stream",
          "name": "stderr",
          "text": [
            "Some weights of BertForSequenceClassification were not initialized from the model checkpoint at prajjwal1/bert-tiny and are newly initialized: ['classifier.bias', 'classifier.weight']\n",
            "You should probably TRAIN this model on a down-stream task to be able to use it for predictions and inference.\n"
          ]
        },
        {
          "output_type": "stream",
          "name": "stdout",
          "text": [
            "{'eval_loss': 0.5790587663650513, 'eval_accuracy': 0.696078431372549, 'eval_f1': 0.8138138138138138, 'eval_runtime': 0.3234, 'eval_samples_per_second': 1261.697, 'eval_steps_per_second': 40.201, 'epoch': 4.0}\n",
            "Progress: 73/100\n",
            "{'eval_loss': 0.5753757357597351, 'eval_accuracy': 0.696078431372549, 'eval_f1': 0.8132530120481928, 'eval_runtime': 0.4032, 'eval_samples_per_second': 1011.78, 'eval_steps_per_second': 17.359, 'epoch': 1.0}\n",
            "{'eval_loss': 0.550995409488678, 'eval_accuracy': 0.7328431372549019, 'eval_f1': 0.8304821150855366, 'eval_runtime': 0.3438, 'eval_samples_per_second': 1186.743, 'eval_steps_per_second': 20.361, 'epoch': 2.0}\n",
            "{'eval_loss': 0.5720232129096985, 'eval_accuracy': 0.7598039215686274, 'eval_f1': 0.8434504792332268, 'eval_runtime': 0.4724, 'eval_samples_per_second': 863.662, 'eval_steps_per_second': 14.818, 'epoch': 3.0}\n",
            "{'eval_loss': 0.5971444249153137, 'eval_accuracy': 0.75, 'eval_f1': 0.8386075949367089, 'eval_runtime': 0.3552, 'eval_samples_per_second': 1148.661, 'eval_steps_per_second': 19.707, 'epoch': 4.0}\n",
            "{'train_runtime': 6.4758, 'train_samples_per_second': 2265.662, 'train_steps_per_second': 35.826, 'train_loss': 0.4707464020827721, 'epoch': 4.0}\n"
          ]
        },
        {
          "output_type": "stream",
          "name": "stderr",
          "text": [
            "Some weights of BertForSequenceClassification were not initialized from the model checkpoint at prajjwal1/bert-tiny and are newly initialized: ['classifier.bias', 'classifier.weight']\n",
            "You should probably TRAIN this model on a down-stream task to be able to use it for predictions and inference.\n"
          ]
        },
        {
          "output_type": "stream",
          "name": "stdout",
          "text": [
            "{'eval_loss': 0.5971444249153137, 'eval_accuracy': 0.75, 'eval_f1': 0.8386075949367089, 'eval_runtime': 0.37, 'eval_samples_per_second': 1102.577, 'eval_steps_per_second': 18.917, 'epoch': 4.0}\n",
            "Progress: 74/100\n",
            "{'eval_loss': 0.594853937625885, 'eval_accuracy': 0.6936274509803921, 'eval_f1': 0.8169838945827232, 'eval_runtime': 0.3794, 'eval_samples_per_second': 1075.435, 'eval_steps_per_second': 18.451, 'epoch': 1.0}\n",
            "{'eval_loss': 0.5708560943603516, 'eval_accuracy': 0.7009803921568627, 'eval_f1': 0.8117283950617284, 'eval_runtime': 0.3143, 'eval_samples_per_second': 1298.034, 'eval_steps_per_second': 22.27, 'epoch': 2.0}\n",
            "{'eval_loss': 0.5739648938179016, 'eval_accuracy': 0.7230392156862745, 'eval_f1': 0.8269525267993875, 'eval_runtime': 0.3689, 'eval_samples_per_second': 1105.948, 'eval_steps_per_second': 18.975, 'epoch': 3.0}\n",
            "{'eval_loss': 0.5612186193466187, 'eval_accuracy': 0.7303921568627451, 'eval_f1': 0.8297213622291022, 'eval_runtime': 0.2992, 'eval_samples_per_second': 1363.777, 'eval_steps_per_second': 23.398, 'epoch': 4.0}\n",
            "{'train_runtime': 6.2882, 'train_samples_per_second': 2333.244, 'train_steps_per_second': 36.894, 'train_loss': 0.5603954052102977, 'epoch': 4.0}\n"
          ]
        },
        {
          "output_type": "stream",
          "name": "stderr",
          "text": [
            "Some weights of BertForSequenceClassification were not initialized from the model checkpoint at prajjwal1/bert-tiny and are newly initialized: ['classifier.bias', 'classifier.weight']\n",
            "You should probably TRAIN this model on a down-stream task to be able to use it for predictions and inference.\n"
          ]
        },
        {
          "output_type": "stream",
          "name": "stdout",
          "text": [
            "{'eval_loss': 0.5612186193466187, 'eval_accuracy': 0.7303921568627451, 'eval_f1': 0.8297213622291022, 'eval_runtime': 0.3421, 'eval_samples_per_second': 1192.727, 'eval_steps_per_second': 20.463, 'epoch': 4.0}\n",
            "Progress: 75/100\n",
            "{'eval_loss': 0.6062899231910706, 'eval_accuracy': 0.6838235294117647, 'eval_f1': 0.8122270742358079, 'eval_runtime': 0.3777, 'eval_samples_per_second': 1080.186, 'eval_steps_per_second': 18.533, 'epoch': 1.0}\n",
            "{'eval_loss': 0.590184211730957, 'eval_accuracy': 0.7034313725490197, 'eval_f1': 0.8212703101920237, 'eval_runtime': 0.3123, 'eval_samples_per_second': 1306.231, 'eval_steps_per_second': 22.411, 'epoch': 2.0}\n",
            "{'eval_loss': 0.5828689932823181, 'eval_accuracy': 0.696078431372549, 'eval_f1': 0.8143712574850299, 'eval_runtime': 0.3858, 'eval_samples_per_second': 1057.669, 'eval_steps_per_second': 18.146, 'epoch': 3.0}\n",
            "{'eval_loss': 0.5777505040168762, 'eval_accuracy': 0.6887254901960784, 'eval_f1': 0.8078668683812406, 'eval_runtime': 0.3661, 'eval_samples_per_second': 1114.515, 'eval_steps_per_second': 19.122, 'epoch': 4.0}\n",
            "{'train_runtime': 6.3114, 'train_samples_per_second': 2324.672, 'train_steps_per_second': 36.759, 'train_loss': 0.5961887096536571, 'epoch': 4.0}\n"
          ]
        },
        {
          "output_type": "stream",
          "name": "stderr",
          "text": [
            "Some weights of BertForSequenceClassification were not initialized from the model checkpoint at prajjwal1/bert-tiny and are newly initialized: ['classifier.bias', 'classifier.weight']\n",
            "You should probably TRAIN this model on a down-stream task to be able to use it for predictions and inference.\n"
          ]
        },
        {
          "output_type": "stream",
          "name": "stdout",
          "text": [
            "{'eval_loss': 0.5777505040168762, 'eval_accuracy': 0.6887254901960784, 'eval_f1': 0.8078668683812406, 'eval_runtime': 0.426, 'eval_samples_per_second': 957.781, 'eval_steps_per_second': 16.433, 'epoch': 4.0}\n",
            "Progress: 76/100\n",
            "{'eval_loss': 0.6178915500640869, 'eval_accuracy': 0.6838235294117647, 'eval_f1': 0.8122270742358079, 'eval_runtime': 0.3585, 'eval_samples_per_second': 1138.155, 'eval_steps_per_second': 19.527, 'epoch': 1.0}\n",
            "{'eval_loss': 0.6015655398368835, 'eval_accuracy': 0.6838235294117647, 'eval_f1': 0.8122270742358079, 'eval_runtime': 0.3238, 'eval_samples_per_second': 1260.208, 'eval_steps_per_second': 21.621, 'epoch': 2.0}\n",
            "{'eval_loss': 0.5944027900695801, 'eval_accuracy': 0.696078431372549, 'eval_f1': 0.8181818181818182, 'eval_runtime': 0.4305, 'eval_samples_per_second': 947.655, 'eval_steps_per_second': 16.259, 'epoch': 3.0}\n",
            "{'eval_loss': 0.5916686058044434, 'eval_accuracy': 0.7034313725490197, 'eval_f1': 0.8217967599410898, 'eval_runtime': 0.3887, 'eval_samples_per_second': 1049.571, 'eval_steps_per_second': 18.007, 'epoch': 4.0}\n",
            "{'train_runtime': 6.4548, 'train_samples_per_second': 2273.054, 'train_steps_per_second': 35.943, 'train_loss': 0.6165741229879445, 'epoch': 4.0}\n"
          ]
        },
        {
          "output_type": "stream",
          "name": "stderr",
          "text": [
            "Some weights of BertForSequenceClassification were not initialized from the model checkpoint at prajjwal1/bert-tiny and are newly initialized: ['classifier.bias', 'classifier.weight']\n",
            "You should probably TRAIN this model on a down-stream task to be able to use it for predictions and inference.\n"
          ]
        },
        {
          "output_type": "stream",
          "name": "stdout",
          "text": [
            "{'eval_loss': 0.5916686058044434, 'eval_accuracy': 0.7034313725490197, 'eval_f1': 0.8217967599410898, 'eval_runtime': 0.3187, 'eval_samples_per_second': 1280.34, 'eval_steps_per_second': 21.967, 'epoch': 4.0}\n",
            "Progress: 77/100\n",
            "{'eval_loss': 0.6026797890663147, 'eval_accuracy': 0.6887254901960784, 'eval_f1': 0.808446455505279, 'eval_runtime': 0.3394, 'eval_samples_per_second': 1202.018, 'eval_steps_per_second': 11.784, 'epoch': 1.0}\n",
            "{'eval_loss': 0.5666956901550293, 'eval_accuracy': 0.7205882352941176, 'eval_f1': 0.821875, 'eval_runtime': 0.3425, 'eval_samples_per_second': 1191.386, 'eval_steps_per_second': 11.68, 'epoch': 2.0}\n",
            "{'eval_loss': 0.5767462253570557, 'eval_accuracy': 0.7279411764705882, 'eval_f1': 0.8262910798122066, 'eval_runtime': 0.2929, 'eval_samples_per_second': 1392.94, 'eval_steps_per_second': 13.656, 'epoch': 3.0}\n",
            "{'eval_loss': 0.5759289264678955, 'eval_accuracy': 0.7352941176470589, 'eval_f1': 0.8291139240506329, 'eval_runtime': 0.3304, 'eval_samples_per_second': 1234.862, 'eval_steps_per_second': 12.106, 'epoch': 4.0}\n",
            "{'train_runtime': 5.5378, 'train_samples_per_second': 2649.427, 'train_steps_per_second': 20.947, 'train_loss': 0.5189324411852606, 'epoch': 4.0}\n"
          ]
        },
        {
          "output_type": "stream",
          "name": "stderr",
          "text": [
            "Some weights of BertForSequenceClassification were not initialized from the model checkpoint at prajjwal1/bert-tiny and are newly initialized: ['classifier.bias', 'classifier.weight']\n",
            "You should probably TRAIN this model on a down-stream task to be able to use it for predictions and inference.\n"
          ]
        },
        {
          "output_type": "stream",
          "name": "stdout",
          "text": [
            "{'eval_loss': 0.5759289264678955, 'eval_accuracy': 0.7352941176470589, 'eval_f1': 0.8291139240506329, 'eval_runtime': 0.3864, 'eval_samples_per_second': 1056.015, 'eval_steps_per_second': 10.353, 'epoch': 4.0}\n",
            "Progress: 78/100\n",
            "{'eval_loss': 0.6038169264793396, 'eval_accuracy': 0.6838235294117647, 'eval_f1': 0.8122270742358079, 'eval_runtime': 0.4049, 'eval_samples_per_second': 1007.731, 'eval_steps_per_second': 9.88, 'epoch': 1.0}\n",
            "{'eval_loss': 0.5951903462409973, 'eval_accuracy': 0.7058823529411765, 'eval_f1': 0.8224852071005917, 'eval_runtime': 0.5334, 'eval_samples_per_second': 764.91, 'eval_steps_per_second': 7.499, 'epoch': 2.0}\n",
            "{'eval_loss': 0.579287052154541, 'eval_accuracy': 0.6911764705882353, 'eval_f1': 0.8090909090909091, 'eval_runtime': 0.3837, 'eval_samples_per_second': 1063.357, 'eval_steps_per_second': 10.425, 'epoch': 3.0}\n",
            "{'eval_loss': 0.5748432874679565, 'eval_accuracy': 0.6911764705882353, 'eval_f1': 0.8073394495412844, 'eval_runtime': 0.3799, 'eval_samples_per_second': 1073.827, 'eval_steps_per_second': 10.528, 'epoch': 4.0}\n",
            "{'train_runtime': 5.9707, 'train_samples_per_second': 2457.336, 'train_steps_per_second': 19.428, 'train_loss': 0.5897226004764952, 'epoch': 4.0}\n"
          ]
        },
        {
          "output_type": "stream",
          "name": "stderr",
          "text": [
            "Some weights of BertForSequenceClassification were not initialized from the model checkpoint at prajjwal1/bert-tiny and are newly initialized: ['classifier.bias', 'classifier.weight']\n",
            "You should probably TRAIN this model on a down-stream task to be able to use it for predictions and inference.\n"
          ]
        },
        {
          "output_type": "stream",
          "name": "stdout",
          "text": [
            "{'eval_loss': 0.5748432874679565, 'eval_accuracy': 0.6911764705882353, 'eval_f1': 0.8073394495412844, 'eval_runtime': 0.3317, 'eval_samples_per_second': 1229.852, 'eval_steps_per_second': 12.057, 'epoch': 4.0}\n",
            "Progress: 79/100\n",
            "{'eval_loss': 0.6207587718963623, 'eval_accuracy': 0.6838235294117647, 'eval_f1': 0.8122270742358079, 'eval_runtime': 0.3597, 'eval_samples_per_second': 1134.4, 'eval_steps_per_second': 11.122, 'epoch': 1.0}\n",
            "{'eval_loss': 0.6050003170967102, 'eval_accuracy': 0.6838235294117647, 'eval_f1': 0.8122270742358079, 'eval_runtime': 0.3193, 'eval_samples_per_second': 1277.677, 'eval_steps_per_second': 12.526, 'epoch': 2.0}\n",
            "{'eval_loss': 0.5970742106437683, 'eval_accuracy': 0.6887254901960784, 'eval_f1': 0.8145985401459854, 'eval_runtime': 0.3583, 'eval_samples_per_second': 1138.779, 'eval_steps_per_second': 11.164, 'epoch': 3.0}\n",
            "{'eval_loss': 0.5952083468437195, 'eval_accuracy': 0.6936274509803921, 'eval_f1': 0.8169838945827232, 'eval_runtime': 0.3551, 'eval_samples_per_second': 1148.976, 'eval_steps_per_second': 11.264, 'epoch': 4.0}\n",
            "{'train_runtime': 5.619, 'train_samples_per_second': 2611.149, 'train_steps_per_second': 20.644, 'train_loss': 0.6204661007585197, 'epoch': 4.0}\n"
          ]
        },
        {
          "output_type": "stream",
          "name": "stderr",
          "text": [
            "Some weights of BertForSequenceClassification were not initialized from the model checkpoint at prajjwal1/bert-tiny and are newly initialized: ['classifier.bias', 'classifier.weight']\n",
            "You should probably TRAIN this model on a down-stream task to be able to use it for predictions and inference.\n"
          ]
        },
        {
          "output_type": "stream",
          "name": "stdout",
          "text": [
            "{'eval_loss': 0.5952083468437195, 'eval_accuracy': 0.6936274509803921, 'eval_f1': 0.8169838945827232, 'eval_runtime': 0.3758, 'eval_samples_per_second': 1085.77, 'eval_steps_per_second': 10.645, 'epoch': 4.0}\n",
            "Progress: 80/100\n",
            "{'eval_loss': 0.6439599990844727, 'eval_accuracy': 0.6838235294117647, 'eval_f1': 0.8122270742358079, 'eval_runtime': 0.316, 'eval_samples_per_second': 1291.153, 'eval_steps_per_second': 12.658, 'epoch': 1.0}\n",
            "{'eval_loss': 0.6185536980628967, 'eval_accuracy': 0.6838235294117647, 'eval_f1': 0.8122270742358079, 'eval_runtime': 0.4006, 'eval_samples_per_second': 1018.477, 'eval_steps_per_second': 9.985, 'epoch': 2.0}\n",
            "{'eval_loss': 0.6116704344749451, 'eval_accuracy': 0.6838235294117647, 'eval_f1': 0.8122270742358079, 'eval_runtime': 0.3804, 'eval_samples_per_second': 1072.422, 'eval_steps_per_second': 10.514, 'epoch': 3.0}\n",
            "{'eval_loss': 0.609874427318573, 'eval_accuracy': 0.6838235294117647, 'eval_f1': 0.8122270742358079, 'eval_runtime': 0.3774, 'eval_samples_per_second': 1081.195, 'eval_steps_per_second': 10.6, 'epoch': 4.0}\n",
            "{'train_runtime': 5.6765, 'train_samples_per_second': 2584.68, 'train_steps_per_second': 20.435, 'train_loss': 0.6398460125101024, 'epoch': 4.0}\n"
          ]
        },
        {
          "output_type": "stream",
          "name": "stderr",
          "text": [
            "Some weights of BertForSequenceClassification were not initialized from the model checkpoint at prajjwal1/bert-tiny and are newly initialized: ['classifier.bias', 'classifier.weight']\n",
            "You should probably TRAIN this model on a down-stream task to be able to use it for predictions and inference.\n"
          ]
        },
        {
          "output_type": "stream",
          "name": "stdout",
          "text": [
            "{'eval_loss': 0.609874427318573, 'eval_accuracy': 0.6838235294117647, 'eval_f1': 0.8122270742358079, 'eval_runtime': 0.3673, 'eval_samples_per_second': 1110.715, 'eval_steps_per_second': 10.889, 'epoch': 4.0}\n",
            "Progress: 81/100\n",
            "{'eval_loss': 0.5735582113265991, 'eval_accuracy': 0.7083333333333334, 'eval_f1': 0.8155038759689922, 'eval_runtime': 0.4349, 'eval_samples_per_second': 938.226, 'eval_steps_per_second': 117.278, 'epoch': 1.0}\n",
            "{'loss': 0.5946, 'grad_norm': 4.331884384155273, 'learning_rate': 0.00021830065359477123, 'epoch': 1.0893246187363834}\n",
            "{'eval_loss': 0.59549880027771, 'eval_accuracy': 0.7107843137254902, 'eval_f1': 0.8138801261829653, 'eval_runtime': 0.5499, 'eval_samples_per_second': 741.96, 'eval_steps_per_second': 92.745, 'epoch': 2.0}\n",
            "{'loss': 0.4682, 'grad_norm': 38.01247024536133, 'learning_rate': 0.00013660130718954247, 'epoch': 2.178649237472767}\n",
            "{'eval_loss': 0.7907573580741882, 'eval_accuracy': 0.7132352941176471, 'eval_f1': 0.8020304568527918, 'eval_runtime': 0.5298, 'eval_samples_per_second': 770.121, 'eval_steps_per_second': 96.265, 'epoch': 3.0}\n",
            "{'loss': 0.2993, 'grad_norm': 5.858227252960205, 'learning_rate': 5.4901960784313716e-05, 'epoch': 3.2679738562091503}\n",
            "{'eval_loss': 1.0637654066085815, 'eval_accuracy': 0.7132352941176471, 'eval_f1': 0.8059701492537313, 'eval_runtime': 0.5288, 'eval_samples_per_second': 771.616, 'eval_steps_per_second': 96.452, 'epoch': 4.0}\n",
            "{'train_runtime': 22.0262, 'train_samples_per_second': 666.117, 'train_steps_per_second': 83.355, 'train_loss': 0.4129647107425598, 'epoch': 4.0}\n"
          ]
        },
        {
          "output_type": "stream",
          "name": "stderr",
          "text": [
            "Some weights of BertForSequenceClassification were not initialized from the model checkpoint at prajjwal1/bert-tiny and are newly initialized: ['classifier.bias', 'classifier.weight']\n",
            "You should probably TRAIN this model on a down-stream task to be able to use it for predictions and inference.\n"
          ]
        },
        {
          "output_type": "stream",
          "name": "stdout",
          "text": [
            "{'eval_loss': 1.0637654066085815, 'eval_accuracy': 0.7132352941176471, 'eval_f1': 0.8059701492537313, 'eval_runtime': 0.4582, 'eval_samples_per_second': 890.485, 'eval_steps_per_second': 111.311, 'epoch': 4.0}\n",
            "Progress: 82/100\n",
            "{'eval_loss': 0.571905791759491, 'eval_accuracy': 0.7034313725490197, 'eval_f1': 0.8169440242057489, 'eval_runtime': 0.538, 'eval_samples_per_second': 758.352, 'eval_steps_per_second': 94.794, 'epoch': 1.0}\n",
            "{'loss': 0.5884, 'grad_norm': 4.293759822845459, 'learning_rate': 7.276688453159042e-05, 'epoch': 1.0893246187363834}\n",
            "{'eval_loss': 0.5654860734939575, 'eval_accuracy': 0.7352941176470589, 'eval_f1': 0.8285714285714286, 'eval_runtime': 0.5005, 'eval_samples_per_second': 815.202, 'eval_steps_per_second': 101.9, 'epoch': 2.0}\n",
            "{'loss': 0.4993, 'grad_norm': 8.675013542175293, 'learning_rate': 4.5533769063180834e-05, 'epoch': 2.178649237472767}\n",
            "{'eval_loss': 0.6270501613616943, 'eval_accuracy': 0.7352941176470589, 'eval_f1': 0.8296529968454258, 'eval_runtime': 0.5627, 'eval_samples_per_second': 725.139, 'eval_steps_per_second': 90.642, 'epoch': 3.0}\n",
            "{'loss': 0.4045, 'grad_norm': 26.807472229003906, 'learning_rate': 1.8300653594771242e-05, 'epoch': 3.2679738562091503}\n",
            "{'eval_loss': 0.6656573414802551, 'eval_accuracy': 0.7377450980392157, 'eval_f1': 0.8325508607198748, 'eval_runtime': 0.4788, 'eval_samples_per_second': 852.086, 'eval_steps_per_second': 106.511, 'epoch': 4.0}\n",
            "{'train_runtime': 22.3315, 'train_samples_per_second': 657.01, 'train_steps_per_second': 82.216, 'train_loss': 0.47345523792674077, 'epoch': 4.0}\n"
          ]
        },
        {
          "output_type": "stream",
          "name": "stderr",
          "text": [
            "Some weights of BertForSequenceClassification were not initialized from the model checkpoint at prajjwal1/bert-tiny and are newly initialized: ['classifier.bias', 'classifier.weight']\n",
            "You should probably TRAIN this model on a down-stream task to be able to use it for predictions and inference.\n"
          ]
        },
        {
          "output_type": "stream",
          "name": "stdout",
          "text": [
            "{'eval_loss': 0.6656573414802551, 'eval_accuracy': 0.7377450980392157, 'eval_f1': 0.8325508607198748, 'eval_runtime': 0.5082, 'eval_samples_per_second': 802.755, 'eval_steps_per_second': 100.344, 'epoch': 4.0}\n",
            "Progress: 83/100\n",
            "{'eval_loss': 0.5733863711357117, 'eval_accuracy': 0.7009803921568627, 'eval_f1': 0.8134556574923547, 'eval_runtime': 0.516, 'eval_samples_per_second': 790.625, 'eval_steps_per_second': 98.828, 'epoch': 1.0}\n",
            "{'loss': 0.6013, 'grad_norm': 4.323869228363037, 'learning_rate': 3.638344226579521e-05, 'epoch': 1.0893246187363834}\n",
            "{'eval_loss': 0.5774785876274109, 'eval_accuracy': 0.7083333333333334, 'eval_f1': 0.8194233687405159, 'eval_runtime': 0.4866, 'eval_samples_per_second': 838.525, 'eval_steps_per_second': 104.816, 'epoch': 2.0}\n",
            "{'loss': 0.5438, 'grad_norm': 5.283394813537598, 'learning_rate': 2.2766884531590417e-05, 'epoch': 2.178649237472767}\n",
            "{'eval_loss': 0.5611313581466675, 'eval_accuracy': 0.7279411764705882, 'eval_f1': 0.8246445497630331, 'eval_runtime': 0.5423, 'eval_samples_per_second': 752.303, 'eval_steps_per_second': 94.038, 'epoch': 3.0}\n",
            "{'loss': 0.4849, 'grad_norm': 14.096569061279297, 'learning_rate': 9.150326797385621e-06, 'epoch': 3.2679738562091503}\n",
            "{'eval_loss': 0.587859570980072, 'eval_accuracy': 0.7279411764705882, 'eval_f1': 0.8268330733229329, 'eval_runtime': 0.5668, 'eval_samples_per_second': 719.777, 'eval_steps_per_second': 89.972, 'epoch': 4.0}\n",
            "{'train_runtime': 22.6634, 'train_samples_per_second': 647.386, 'train_steps_per_second': 81.012, 'train_loss': 0.5309766798497285, 'epoch': 4.0}\n"
          ]
        },
        {
          "output_type": "stream",
          "name": "stderr",
          "text": [
            "Some weights of BertForSequenceClassification were not initialized from the model checkpoint at prajjwal1/bert-tiny and are newly initialized: ['classifier.bias', 'classifier.weight']\n",
            "You should probably TRAIN this model on a down-stream task to be able to use it for predictions and inference.\n"
          ]
        },
        {
          "output_type": "stream",
          "name": "stdout",
          "text": [
            "{'eval_loss': 0.587859570980072, 'eval_accuracy': 0.7279411764705882, 'eval_f1': 0.8268330733229329, 'eval_runtime': 0.5091, 'eval_samples_per_second': 801.387, 'eval_steps_per_second': 100.173, 'epoch': 4.0}\n",
            "Progress: 84/100\n",
            "{'eval_loss': 0.5838139653205872, 'eval_accuracy': 0.7009803921568627, 'eval_f1': 0.8184523809523809, 'eval_runtime': 0.5446, 'eval_samples_per_second': 749.189, 'eval_steps_per_second': 93.649, 'epoch': 1.0}\n",
            "{'loss': 0.6134, 'grad_norm': 2.5178942680358887, 'learning_rate': 2.1830065359477124e-05, 'epoch': 1.0893246187363834}\n",
            "{'eval_loss': 0.5830901861190796, 'eval_accuracy': 0.7034313725490197, 'eval_f1': 0.8180451127819549, 'eval_runtime': 0.5542, 'eval_samples_per_second': 736.26, 'eval_steps_per_second': 92.033, 'epoch': 2.0}\n",
            "{'loss': 0.5689, 'grad_norm': 4.079008102416992, 'learning_rate': 1.366013071895425e-05, 'epoch': 2.178649237472767}\n",
            "{'eval_loss': 0.568699836730957, 'eval_accuracy': 0.7132352941176471, 'eval_f1': 0.8197226502311248, 'eval_runtime': 0.5056, 'eval_samples_per_second': 807.004, 'eval_steps_per_second': 100.875, 'epoch': 3.0}\n",
            "{'loss': 0.5302, 'grad_norm': 6.041450023651123, 'learning_rate': 5.490196078431373e-06, 'epoch': 3.2679738562091503}\n",
            "{'eval_loss': 0.5771942734718323, 'eval_accuracy': 0.7107843137254902, 'eval_f1': 0.8195718654434251, 'eval_runtime': 0.4969, 'eval_samples_per_second': 821.139, 'eval_steps_per_second': 102.642, 'epoch': 4.0}\n",
            "{'train_runtime': 22.5447, 'train_samples_per_second': 650.796, 'train_steps_per_second': 81.438, 'train_loss': 0.5637553262814458, 'epoch': 4.0}\n"
          ]
        },
        {
          "output_type": "stream",
          "name": "stderr",
          "text": [
            "Some weights of BertForSequenceClassification were not initialized from the model checkpoint at prajjwal1/bert-tiny and are newly initialized: ['classifier.bias', 'classifier.weight']\n",
            "You should probably TRAIN this model on a down-stream task to be able to use it for predictions and inference.\n"
          ]
        },
        {
          "output_type": "stream",
          "name": "stdout",
          "text": [
            "{'eval_loss': 0.5771942734718323, 'eval_accuracy': 0.7107843137254902, 'eval_f1': 0.8195718654434251, 'eval_runtime': 0.4738, 'eval_samples_per_second': 861.141, 'eval_steps_per_second': 107.643, 'epoch': 4.0}\n",
            "Progress: 85/100\n",
            "{'eval_loss': 0.5624045133590698, 'eval_accuracy': 0.7230392156862745, 'eval_f1': 0.8231611893583725, 'eval_runtime': 0.4294, 'eval_samples_per_second': 950.122, 'eval_steps_per_second': 60.547, 'epoch': 1.0}\n",
            "{'eval_loss': 0.5531349778175354, 'eval_accuracy': 0.7328431372549019, 'eval_f1': 0.8256, 'eval_runtime': 0.4724, 'eval_samples_per_second': 863.712, 'eval_steps_per_second': 55.04, 'epoch': 2.0}\n",
            "{'loss': 0.5239, 'grad_norm': 15.012598991394043, 'learning_rate': 0.00013695652173913042, 'epoch': 2.1739130434782608}\n",
            "{'eval_loss': 0.590812087059021, 'eval_accuracy': 0.7401960784313726, 'eval_f1': 0.8221476510067114, 'eval_runtime': 0.4421, 'eval_samples_per_second': 922.938, 'eval_steps_per_second': 58.815, 'epoch': 3.0}\n",
            "{'eval_loss': 0.7519146800041199, 'eval_accuracy': 0.7377450980392157, 'eval_f1': 0.8243021346469622, 'eval_runtime': 0.4678, 'eval_samples_per_second': 872.203, 'eval_steps_per_second': 55.582, 'epoch': 4.0}\n",
            "{'train_runtime': 13.1647, 'train_samples_per_second': 1114.493, 'train_steps_per_second': 69.884, 'train_loss': 0.40669037362803584, 'epoch': 4.0}\n"
          ]
        },
        {
          "output_type": "stream",
          "name": "stderr",
          "text": [
            "Some weights of BertForSequenceClassification were not initialized from the model checkpoint at prajjwal1/bert-tiny and are newly initialized: ['classifier.bias', 'classifier.weight']\n",
            "You should probably TRAIN this model on a down-stream task to be able to use it for predictions and inference.\n"
          ]
        },
        {
          "output_type": "stream",
          "name": "stdout",
          "text": [
            "{'eval_loss': 0.7519146800041199, 'eval_accuracy': 0.7377450980392157, 'eval_f1': 0.8243021346469622, 'eval_runtime': 0.4572, 'eval_samples_per_second': 892.361, 'eval_steps_per_second': 56.866, 'epoch': 4.0}\n",
            "Progress: 86/100\n",
            "{'eval_loss': 0.564354419708252, 'eval_accuracy': 0.7132352941176471, 'eval_f1': 0.8180404354587869, 'eval_runtime': 0.3612, 'eval_samples_per_second': 1129.497, 'eval_steps_per_second': 71.978, 'epoch': 1.0}\n",
            "{'eval_loss': 0.5474852919578552, 'eval_accuracy': 0.7377450980392157, 'eval_f1': 0.831496062992126, 'eval_runtime': 0.3977, 'eval_samples_per_second': 1025.957, 'eval_steps_per_second': 65.38, 'epoch': 2.0}\n",
            "{'loss': 0.5577, 'grad_norm': 6.763742923736572, 'learning_rate': 4.565217391304348e-05, 'epoch': 2.1739130434782608}\n",
            "{'eval_loss': 0.5569795966148376, 'eval_accuracy': 0.7426470588235294, 'eval_f1': 0.8330683624801272, 'eval_runtime': 0.3863, 'eval_samples_per_second': 1056.099, 'eval_steps_per_second': 67.3, 'epoch': 3.0}\n",
            "{'eval_loss': 0.5896832346916199, 'eval_accuracy': 0.7328431372549019, 'eval_f1': 0.8299531981279251, 'eval_runtime': 0.4914, 'eval_samples_per_second': 830.332, 'eval_steps_per_second': 52.913, 'epoch': 4.0}\n",
            "{'train_runtime': 12.9836, 'train_samples_per_second': 1130.038, 'train_steps_per_second': 70.858, 'train_loss': 0.5020559891410495, 'epoch': 4.0}\n"
          ]
        },
        {
          "output_type": "stream",
          "name": "stderr",
          "text": [
            "Some weights of BertForSequenceClassification were not initialized from the model checkpoint at prajjwal1/bert-tiny and are newly initialized: ['classifier.bias', 'classifier.weight']\n",
            "You should probably TRAIN this model on a down-stream task to be able to use it for predictions and inference.\n"
          ]
        },
        {
          "output_type": "stream",
          "name": "stdout",
          "text": [
            "{'eval_loss': 0.5896832346916199, 'eval_accuracy': 0.7328431372549019, 'eval_f1': 0.8299531981279251, 'eval_runtime': 0.376, 'eval_samples_per_second': 1085.046, 'eval_steps_per_second': 69.145, 'epoch': 4.0}\n",
            "Progress: 87/100\n",
            "{'eval_loss': 0.5816411972045898, 'eval_accuracy': 0.6887254901960784, 'eval_f1': 0.8095952023988006, 'eval_runtime': 0.5179, 'eval_samples_per_second': 787.797, 'eval_steps_per_second': 50.203, 'epoch': 1.0}\n",
            "{'eval_loss': 0.5781240463256836, 'eval_accuracy': 0.7034313725490197, 'eval_f1': 0.8185907046476761, 'eval_runtime': 0.4498, 'eval_samples_per_second': 907.052, 'eval_steps_per_second': 57.802, 'epoch': 2.0}\n",
            "{'loss': 0.5845, 'grad_norm': 4.170251846313477, 'learning_rate': 2.282608695652174e-05, 'epoch': 2.1739130434782608}\n",
            "{'eval_loss': 0.568314790725708, 'eval_accuracy': 0.7083333333333334, 'eval_f1': 0.8183206106870229, 'eval_runtime': 0.5447, 'eval_samples_per_second': 748.967, 'eval_steps_per_second': 47.728, 'epoch': 3.0}\n",
            "{'eval_loss': 0.568650484085083, 'eval_accuracy': 0.7205882352941176, 'eval_f1': 0.8246153846153846, 'eval_runtime': 0.4597, 'eval_samples_per_second': 887.461, 'eval_steps_per_second': 56.554, 'epoch': 4.0}\n",
            "{'train_runtime': 13.278, 'train_samples_per_second': 1104.986, 'train_steps_per_second': 69.288, 'train_loss': 0.5531564961309018, 'epoch': 4.0}\n"
          ]
        },
        {
          "output_type": "stream",
          "name": "stderr",
          "text": [
            "Some weights of BertForSequenceClassification were not initialized from the model checkpoint at prajjwal1/bert-tiny and are newly initialized: ['classifier.bias', 'classifier.weight']\n",
            "You should probably TRAIN this model on a down-stream task to be able to use it for predictions and inference.\n"
          ]
        },
        {
          "output_type": "stream",
          "name": "stdout",
          "text": [
            "{'eval_loss': 0.568650484085083, 'eval_accuracy': 0.7205882352941176, 'eval_f1': 0.8246153846153846, 'eval_runtime': 0.4396, 'eval_samples_per_second': 928.17, 'eval_steps_per_second': 59.148, 'epoch': 4.0}\n",
            "Progress: 88/100\n",
            "{'eval_loss': 0.5934128761291504, 'eval_accuracy': 0.6985294117647058, 'eval_f1': 0.8193832599118943, 'eval_runtime': 0.4296, 'eval_samples_per_second': 949.617, 'eval_steps_per_second': 60.515, 'epoch': 1.0}\n",
            "{'eval_loss': 0.5834196209907532, 'eval_accuracy': 0.6985294117647058, 'eval_f1': 0.8161434977578476, 'eval_runtime': 0.4616, 'eval_samples_per_second': 883.956, 'eval_steps_per_second': 56.33, 'epoch': 2.0}\n",
            "{'loss': 0.6021, 'grad_norm': 2.227717161178589, 'learning_rate': 1.3695652173913042e-05, 'epoch': 2.1739130434782608}\n",
            "{'eval_loss': 0.574123740196228, 'eval_accuracy': 0.6936274509803921, 'eval_f1': 0.8114630467571644, 'eval_runtime': 0.4323, 'eval_samples_per_second': 943.801, 'eval_steps_per_second': 60.144, 'epoch': 3.0}\n",
            "{'eval_loss': 0.5735155940055847, 'eval_accuracy': 0.696078431372549, 'eval_f1': 0.8126888217522659, 'eval_runtime': 0.4567, 'eval_samples_per_second': 893.284, 'eval_steps_per_second': 56.925, 'epoch': 4.0}\n",
            "{'train_runtime': 13.0379, 'train_samples_per_second': 1125.333, 'train_steps_per_second': 70.563, 'train_loss': 0.580059698353643, 'epoch': 4.0}\n"
          ]
        },
        {
          "output_type": "stream",
          "name": "stderr",
          "text": [
            "Some weights of BertForSequenceClassification were not initialized from the model checkpoint at prajjwal1/bert-tiny and are newly initialized: ['classifier.bias', 'classifier.weight']\n",
            "You should probably TRAIN this model on a down-stream task to be able to use it for predictions and inference.\n"
          ]
        },
        {
          "output_type": "stream",
          "name": "stdout",
          "text": [
            "{'eval_loss': 0.5735155940055847, 'eval_accuracy': 0.696078431372549, 'eval_f1': 0.8126888217522659, 'eval_runtime': 0.4132, 'eval_samples_per_second': 987.501, 'eval_steps_per_second': 62.929, 'epoch': 4.0}\n",
            "Progress: 89/100\n",
            "{'eval_loss': 0.5496113896369934, 'eval_accuracy': 0.7377450980392157, 'eval_f1': 0.831496062992126, 'eval_runtime': 0.385, 'eval_samples_per_second': 1059.692, 'eval_steps_per_second': 33.765, 'epoch': 1.0}\n",
            "{'eval_loss': 0.552695095539093, 'eval_accuracy': 0.7377450980392157, 'eval_f1': 0.8309636650868878, 'eval_runtime': 0.3714, 'eval_samples_per_second': 1098.447, 'eval_steps_per_second': 35.0, 'epoch': 2.0}\n",
            "{'eval_loss': 0.6253054141998291, 'eval_accuracy': 0.7450980392156863, 'eval_f1': 0.8354430379746836, 'eval_runtime': 0.4661, 'eval_samples_per_second': 875.317, 'eval_steps_per_second': 27.89, 'epoch': 3.0}\n",
            "{'eval_loss': 0.6537364721298218, 'eval_accuracy': 0.7377450980392157, 'eval_f1': 0.8304278922345484, 'eval_runtime': 0.3786, 'eval_samples_per_second': 1077.597, 'eval_steps_per_second': 34.335, 'epoch': 4.0}\n",
            "{'train_runtime': 8.5426, 'train_samples_per_second': 1717.5, 'train_steps_per_second': 53.847, 'train_loss': 0.43501543791397757, 'epoch': 4.0}\n"
          ]
        },
        {
          "output_type": "stream",
          "name": "stderr",
          "text": [
            "Some weights of BertForSequenceClassification were not initialized from the model checkpoint at prajjwal1/bert-tiny and are newly initialized: ['classifier.bias', 'classifier.weight']\n",
            "You should probably TRAIN this model on a down-stream task to be able to use it for predictions and inference.\n"
          ]
        },
        {
          "output_type": "stream",
          "name": "stdout",
          "text": [
            "{'eval_loss': 0.6537364721298218, 'eval_accuracy': 0.7377450980392157, 'eval_f1': 0.8304278922345484, 'eval_runtime': 0.4033, 'eval_samples_per_second': 1011.777, 'eval_steps_per_second': 32.238, 'epoch': 4.0}\n",
            "Progress: 90/100\n",
            "{'eval_loss': 0.585704505443573, 'eval_accuracy': 0.6936274509803921, 'eval_f1': 0.81089258698941, 'eval_runtime': 0.4018, 'eval_samples_per_second': 1015.407, 'eval_steps_per_second': 32.354, 'epoch': 1.0}\n",
            "{'eval_loss': 0.5598652958869934, 'eval_accuracy': 0.7181372549019608, 'eval_f1': 0.8205928237129485, 'eval_runtime': 0.4437, 'eval_samples_per_second': 919.466, 'eval_steps_per_second': 29.297, 'epoch': 2.0}\n",
            "{'eval_loss': 0.5700249075889587, 'eval_accuracy': 0.7132352941176471, 'eval_f1': 0.8186046511627907, 'eval_runtime': 0.3456, 'eval_samples_per_second': 1180.659, 'eval_steps_per_second': 37.619, 'epoch': 3.0}\n",
            "{'eval_loss': 0.5717409253120422, 'eval_accuracy': 0.7254901960784313, 'eval_f1': 0.8255451713395638, 'eval_runtime': 0.4439, 'eval_samples_per_second': 919.036, 'eval_steps_per_second': 29.283, 'epoch': 4.0}\n",
            "{'train_runtime': 8.4948, 'train_samples_per_second': 1727.181, 'train_steps_per_second': 54.151, 'train_loss': 0.5322120666503907, 'epoch': 4.0}\n"
          ]
        },
        {
          "output_type": "stream",
          "name": "stderr",
          "text": [
            "Some weights of BertForSequenceClassification were not initialized from the model checkpoint at prajjwal1/bert-tiny and are newly initialized: ['classifier.bias', 'classifier.weight']\n",
            "You should probably TRAIN this model on a down-stream task to be able to use it for predictions and inference.\n"
          ]
        },
        {
          "output_type": "stream",
          "name": "stdout",
          "text": [
            "{'eval_loss': 0.5717409253120422, 'eval_accuracy': 0.7254901960784313, 'eval_f1': 0.8255451713395638, 'eval_runtime': 0.3365, 'eval_samples_per_second': 1212.415, 'eval_steps_per_second': 38.631, 'epoch': 4.0}\n",
            "Progress: 91/100\n",
            "{'eval_loss': 0.5961236953735352, 'eval_accuracy': 0.6936274509803921, 'eval_f1': 0.8169838945827232, 'eval_runtime': 0.3918, 'eval_samples_per_second': 1041.284, 'eval_steps_per_second': 33.178, 'epoch': 1.0}\n",
            "{'eval_loss': 0.5710234045982361, 'eval_accuracy': 0.7058823529411765, 'eval_f1': 0.817629179331307, 'eval_runtime': 0.4202, 'eval_samples_per_second': 970.878, 'eval_steps_per_second': 30.935, 'epoch': 2.0}\n",
            "{'eval_loss': 0.5729517340660095, 'eval_accuracy': 0.7083333333333334, 'eval_f1': 0.8199697428139183, 'eval_runtime': 0.3878, 'eval_samples_per_second': 1052.053, 'eval_steps_per_second': 33.521, 'epoch': 3.0}\n",
            "{'eval_loss': 0.56805819272995, 'eval_accuracy': 0.7107843137254902, 'eval_f1': 0.8201219512195121, 'eval_runtime': 0.4092, 'eval_samples_per_second': 996.96, 'eval_steps_per_second': 31.766, 'epoch': 4.0}\n",
            "{'train_runtime': 8.4707, 'train_samples_per_second': 1732.079, 'train_steps_per_second': 54.305, 'train_loss': 0.5740605893342391, 'epoch': 4.0}\n"
          ]
        },
        {
          "output_type": "stream",
          "name": "stderr",
          "text": [
            "Some weights of BertForSequenceClassification were not initialized from the model checkpoint at prajjwal1/bert-tiny and are newly initialized: ['classifier.bias', 'classifier.weight']\n",
            "You should probably TRAIN this model on a down-stream task to be able to use it for predictions and inference.\n"
          ]
        },
        {
          "output_type": "stream",
          "name": "stdout",
          "text": [
            "{'eval_loss': 0.56805819272995, 'eval_accuracy': 0.7107843137254902, 'eval_f1': 0.8201219512195121, 'eval_runtime': 0.6018, 'eval_samples_per_second': 677.968, 'eval_steps_per_second': 21.602, 'epoch': 4.0}\n",
            "Progress: 92/100\n",
            "{'eval_loss': 0.6053450703620911, 'eval_accuracy': 0.6838235294117647, 'eval_f1': 0.8122270742358079, 'eval_runtime': 0.4701, 'eval_samples_per_second': 867.942, 'eval_steps_per_second': 27.655, 'epoch': 1.0}\n",
            "{'eval_loss': 0.5885691046714783, 'eval_accuracy': 0.7034313725490197, 'eval_f1': 0.8212703101920237, 'eval_runtime': 0.4226, 'eval_samples_per_second': 965.519, 'eval_steps_per_second': 30.764, 'epoch': 2.0}\n",
            "{'eval_loss': 0.5840325355529785, 'eval_accuracy': 0.6985294117647058, 'eval_f1': 0.8166915052160953, 'eval_runtime': 0.3848, 'eval_samples_per_second': 1060.23, 'eval_steps_per_second': 33.782, 'epoch': 3.0}\n",
            "{'eval_loss': 0.5790587663650513, 'eval_accuracy': 0.696078431372549, 'eval_f1': 0.8138138138138138, 'eval_runtime': 0.3927, 'eval_samples_per_second': 1038.861, 'eval_steps_per_second': 33.101, 'epoch': 4.0}\n",
            "{'train_runtime': 8.4803, 'train_samples_per_second': 1730.122, 'train_steps_per_second': 54.243, 'train_loss': 0.5975138125212296, 'epoch': 4.0}\n",
            "{'eval_loss': 0.5790587663650513, 'eval_accuracy': 0.696078431372549, 'eval_f1': 0.8138138138138138, 'eval_runtime': 0.3281, 'eval_samples_per_second': 1243.547, 'eval_steps_per_second': 39.623, 'epoch': 4.0}\n",
            "Progress: 93/100\n"
          ]
        },
        {
          "output_type": "stream",
          "name": "stderr",
          "text": [
            "Some weights of BertForSequenceClassification were not initialized from the model checkpoint at prajjwal1/bert-tiny and are newly initialized: ['classifier.bias', 'classifier.weight']\n",
            "You should probably TRAIN this model on a down-stream task to be able to use it for predictions and inference.\n"
          ]
        },
        {
          "output_type": "stream",
          "name": "stdout",
          "text": [
            "{'eval_loss': 0.5753757357597351, 'eval_accuracy': 0.696078431372549, 'eval_f1': 0.8132530120481928, 'eval_runtime': 0.4141, 'eval_samples_per_second': 985.27, 'eval_steps_per_second': 16.904, 'epoch': 1.0}\n",
            "{'eval_loss': 0.550995409488678, 'eval_accuracy': 0.7328431372549019, 'eval_f1': 0.8304821150855366, 'eval_runtime': 0.3768, 'eval_samples_per_second': 1082.81, 'eval_steps_per_second': 18.578, 'epoch': 2.0}\n",
            "{'eval_loss': 0.5720232129096985, 'eval_accuracy': 0.7598039215686274, 'eval_f1': 0.8434504792332268, 'eval_runtime': 0.4161, 'eval_samples_per_second': 980.439, 'eval_steps_per_second': 16.821, 'epoch': 3.0}\n",
            "{'eval_loss': 0.5971444249153137, 'eval_accuracy': 0.75, 'eval_f1': 0.8386075949367089, 'eval_runtime': 0.4675, 'eval_samples_per_second': 872.762, 'eval_steps_per_second': 14.974, 'epoch': 4.0}\n",
            "{'train_runtime': 6.6544, 'train_samples_per_second': 2204.847, 'train_steps_per_second': 34.864, 'train_loss': 0.4707464020827721, 'epoch': 4.0}\n"
          ]
        },
        {
          "output_type": "stream",
          "name": "stderr",
          "text": [
            "Some weights of BertForSequenceClassification were not initialized from the model checkpoint at prajjwal1/bert-tiny and are newly initialized: ['classifier.bias', 'classifier.weight']\n",
            "You should probably TRAIN this model on a down-stream task to be able to use it for predictions and inference.\n"
          ]
        },
        {
          "output_type": "stream",
          "name": "stdout",
          "text": [
            "{'eval_loss': 0.5971444249153137, 'eval_accuracy': 0.75, 'eval_f1': 0.8386075949367089, 'eval_runtime': 0.4326, 'eval_samples_per_second': 943.038, 'eval_steps_per_second': 16.18, 'epoch': 4.0}\n",
            "Progress: 94/100\n",
            "{'eval_loss': 0.594853937625885, 'eval_accuracy': 0.6936274509803921, 'eval_f1': 0.8169838945827232, 'eval_runtime': 0.4305, 'eval_samples_per_second': 947.695, 'eval_steps_per_second': 16.259, 'epoch': 1.0}\n",
            "{'eval_loss': 0.5708560943603516, 'eval_accuracy': 0.7009803921568627, 'eval_f1': 0.8117283950617284, 'eval_runtime': 0.3983, 'eval_samples_per_second': 1024.251, 'eval_steps_per_second': 17.573, 'epoch': 2.0}\n",
            "{'eval_loss': 0.5739648938179016, 'eval_accuracy': 0.7230392156862745, 'eval_f1': 0.8269525267993875, 'eval_runtime': 0.4463, 'eval_samples_per_second': 914.271, 'eval_steps_per_second': 15.686, 'epoch': 3.0}\n",
            "{'eval_loss': 0.5612186193466187, 'eval_accuracy': 0.7303921568627451, 'eval_f1': 0.8297213622291022, 'eval_runtime': 0.3899, 'eval_samples_per_second': 1046.47, 'eval_steps_per_second': 17.954, 'epoch': 4.0}\n",
            "{'train_runtime': 6.5386, 'train_samples_per_second': 2243.915, 'train_steps_per_second': 35.482, 'train_loss': 0.5603954052102977, 'epoch': 4.0}\n"
          ]
        },
        {
          "output_type": "stream",
          "name": "stderr",
          "text": [
            "Some weights of BertForSequenceClassification were not initialized from the model checkpoint at prajjwal1/bert-tiny and are newly initialized: ['classifier.bias', 'classifier.weight']\n",
            "You should probably TRAIN this model on a down-stream task to be able to use it for predictions and inference.\n"
          ]
        },
        {
          "output_type": "stream",
          "name": "stdout",
          "text": [
            "{'eval_loss': 0.5612186193466187, 'eval_accuracy': 0.7303921568627451, 'eval_f1': 0.8297213622291022, 'eval_runtime': 0.3309, 'eval_samples_per_second': 1232.83, 'eval_steps_per_second': 21.151, 'epoch': 4.0}\n",
            "Progress: 95/100\n",
            "{'eval_loss': 0.6062899231910706, 'eval_accuracy': 0.6838235294117647, 'eval_f1': 0.8122270742358079, 'eval_runtime': 0.3541, 'eval_samples_per_second': 1152.268, 'eval_steps_per_second': 19.769, 'epoch': 1.0}\n",
            "{'eval_loss': 0.590184211730957, 'eval_accuracy': 0.7034313725490197, 'eval_f1': 0.8212703101920237, 'eval_runtime': 0.3479, 'eval_samples_per_second': 1172.821, 'eval_steps_per_second': 20.122, 'epoch': 2.0}\n",
            "{'eval_loss': 0.5828689932823181, 'eval_accuracy': 0.696078431372549, 'eval_f1': 0.8143712574850299, 'eval_runtime': 0.3915, 'eval_samples_per_second': 1042.032, 'eval_steps_per_second': 17.878, 'epoch': 3.0}\n",
            "{'eval_loss': 0.5777505040168762, 'eval_accuracy': 0.6887254901960784, 'eval_f1': 0.8078668683812406, 'eval_runtime': 0.331, 'eval_samples_per_second': 1232.672, 'eval_steps_per_second': 21.149, 'epoch': 4.0}\n",
            "{'train_runtime': 6.2692, 'train_samples_per_second': 2340.329, 'train_steps_per_second': 37.006, 'train_loss': 0.5961887096536571, 'epoch': 4.0}\n"
          ]
        },
        {
          "output_type": "stream",
          "name": "stderr",
          "text": [
            "Some weights of BertForSequenceClassification were not initialized from the model checkpoint at prajjwal1/bert-tiny and are newly initialized: ['classifier.bias', 'classifier.weight']\n",
            "You should probably TRAIN this model on a down-stream task to be able to use it for predictions and inference.\n"
          ]
        },
        {
          "output_type": "stream",
          "name": "stdout",
          "text": [
            "{'eval_loss': 0.5777505040168762, 'eval_accuracy': 0.6887254901960784, 'eval_f1': 0.8078668683812406, 'eval_runtime': 0.3313, 'eval_samples_per_second': 1231.379, 'eval_steps_per_second': 21.127, 'epoch': 4.0}\n",
            "Progress: 96/100\n",
            "{'eval_loss': 0.6178915500640869, 'eval_accuracy': 0.6838235294117647, 'eval_f1': 0.8122270742358079, 'eval_runtime': 0.3269, 'eval_samples_per_second': 1247.93, 'eval_steps_per_second': 21.411, 'epoch': 1.0}\n",
            "{'eval_loss': 0.6015655398368835, 'eval_accuracy': 0.6838235294117647, 'eval_f1': 0.8122270742358079, 'eval_runtime': 0.3691, 'eval_samples_per_second': 1105.393, 'eval_steps_per_second': 18.965, 'epoch': 2.0}\n",
            "{'eval_loss': 0.5944027900695801, 'eval_accuracy': 0.696078431372549, 'eval_f1': 0.8181818181818182, 'eval_runtime': 0.3281, 'eval_samples_per_second': 1243.459, 'eval_steps_per_second': 21.334, 'epoch': 3.0}\n",
            "{'eval_loss': 0.5916686058044434, 'eval_accuracy': 0.7034313725490197, 'eval_f1': 0.8217967599410898, 'eval_runtime': 0.3888, 'eval_samples_per_second': 1049.322, 'eval_steps_per_second': 18.003, 'epoch': 4.0}\n",
            "{'train_runtime': 6.3101, 'train_samples_per_second': 2325.148, 'train_steps_per_second': 36.766, 'train_loss': 0.6165741229879445, 'epoch': 4.0}\n"
          ]
        },
        {
          "output_type": "stream",
          "name": "stderr",
          "text": [
            "Some weights of BertForSequenceClassification were not initialized from the model checkpoint at prajjwal1/bert-tiny and are newly initialized: ['classifier.bias', 'classifier.weight']\n",
            "You should probably TRAIN this model on a down-stream task to be able to use it for predictions and inference.\n"
          ]
        },
        {
          "output_type": "stream",
          "name": "stdout",
          "text": [
            "{'eval_loss': 0.5916686058044434, 'eval_accuracy': 0.7034313725490197, 'eval_f1': 0.8217967599410898, 'eval_runtime': 0.3187, 'eval_samples_per_second': 1280.11, 'eval_steps_per_second': 21.963, 'epoch': 4.0}\n",
            "Progress: 97/100\n",
            "{'eval_loss': 0.6026797890663147, 'eval_accuracy': 0.6887254901960784, 'eval_f1': 0.808446455505279, 'eval_runtime': 0.3062, 'eval_samples_per_second': 1332.641, 'eval_steps_per_second': 13.065, 'epoch': 1.0}\n",
            "{'eval_loss': 0.5666956901550293, 'eval_accuracy': 0.7205882352941176, 'eval_f1': 0.821875, 'eval_runtime': 0.3924, 'eval_samples_per_second': 1039.797, 'eval_steps_per_second': 10.194, 'epoch': 2.0}\n",
            "{'eval_loss': 0.5767462253570557, 'eval_accuracy': 0.7279411764705882, 'eval_f1': 0.8262910798122066, 'eval_runtime': 0.3315, 'eval_samples_per_second': 1230.662, 'eval_steps_per_second': 12.065, 'epoch': 3.0}\n",
            "{'eval_loss': 0.5759289264678955, 'eval_accuracy': 0.7352941176470589, 'eval_f1': 0.8291139240506329, 'eval_runtime': 0.3787, 'eval_samples_per_second': 1077.41, 'eval_steps_per_second': 10.563, 'epoch': 4.0}\n",
            "{'train_runtime': 5.5922, 'train_samples_per_second': 2623.677, 'train_steps_per_second': 20.743, 'train_loss': 0.5189324411852606, 'epoch': 4.0}\n"
          ]
        },
        {
          "output_type": "stream",
          "name": "stderr",
          "text": [
            "Some weights of BertForSequenceClassification were not initialized from the model checkpoint at prajjwal1/bert-tiny and are newly initialized: ['classifier.bias', 'classifier.weight']\n",
            "You should probably TRAIN this model on a down-stream task to be able to use it for predictions and inference.\n"
          ]
        },
        {
          "output_type": "stream",
          "name": "stdout",
          "text": [
            "{'eval_loss': 0.5759289264678955, 'eval_accuracy': 0.7352941176470589, 'eval_f1': 0.8291139240506329, 'eval_runtime': 0.385, 'eval_samples_per_second': 1059.874, 'eval_steps_per_second': 10.391, 'epoch': 4.0}\n",
            "Progress: 98/100\n",
            "{'eval_loss': 0.6038169264793396, 'eval_accuracy': 0.6838235294117647, 'eval_f1': 0.8122270742358079, 'eval_runtime': 0.3483, 'eval_samples_per_second': 1171.479, 'eval_steps_per_second': 11.485, 'epoch': 1.0}\n",
            "{'eval_loss': 0.5951903462409973, 'eval_accuracy': 0.7058823529411765, 'eval_f1': 0.8224852071005917, 'eval_runtime': 0.4502, 'eval_samples_per_second': 906.283, 'eval_steps_per_second': 8.885, 'epoch': 2.0}\n",
            "{'eval_loss': 0.579287052154541, 'eval_accuracy': 0.6911764705882353, 'eval_f1': 0.8090909090909091, 'eval_runtime': 0.4939, 'eval_samples_per_second': 826.086, 'eval_steps_per_second': 8.099, 'epoch': 3.0}\n",
            "{'eval_loss': 0.5748432874679565, 'eval_accuracy': 0.6911764705882353, 'eval_f1': 0.8073394495412844, 'eval_runtime': 0.3847, 'eval_samples_per_second': 1060.682, 'eval_steps_per_second': 10.399, 'epoch': 4.0}\n",
            "{'train_runtime': 5.9377, 'train_samples_per_second': 2470.984, 'train_steps_per_second': 19.536, 'train_loss': 0.5897226004764952, 'epoch': 4.0}\n"
          ]
        },
        {
          "output_type": "stream",
          "name": "stderr",
          "text": [
            "Some weights of BertForSequenceClassification were not initialized from the model checkpoint at prajjwal1/bert-tiny and are newly initialized: ['classifier.bias', 'classifier.weight']\n",
            "You should probably TRAIN this model on a down-stream task to be able to use it for predictions and inference.\n"
          ]
        },
        {
          "output_type": "stream",
          "name": "stdout",
          "text": [
            "{'eval_loss': 0.5748432874679565, 'eval_accuracy': 0.6911764705882353, 'eval_f1': 0.8073394495412844, 'eval_runtime': 0.2925, 'eval_samples_per_second': 1394.987, 'eval_steps_per_second': 13.676, 'epoch': 4.0}\n",
            "Progress: 99/100\n",
            "{'eval_loss': 0.6207587718963623, 'eval_accuracy': 0.6838235294117647, 'eval_f1': 0.8122270742358079, 'eval_runtime': 0.4565, 'eval_samples_per_second': 893.679, 'eval_steps_per_second': 8.762, 'epoch': 1.0}\n",
            "{'eval_loss': 0.6050003170967102, 'eval_accuracy': 0.6838235294117647, 'eval_f1': 0.8122270742358079, 'eval_runtime': 0.3788, 'eval_samples_per_second': 1077.16, 'eval_steps_per_second': 10.56, 'epoch': 2.0}\n",
            "{'eval_loss': 0.5970742106437683, 'eval_accuracy': 0.6887254901960784, 'eval_f1': 0.8145985401459854, 'eval_runtime': 0.4338, 'eval_samples_per_second': 940.524, 'eval_steps_per_second': 9.221, 'epoch': 3.0}\n",
            "{'eval_loss': 0.5952083468437195, 'eval_accuracy': 0.6936274509803921, 'eval_f1': 0.8169838945827232, 'eval_runtime': 0.3855, 'eval_samples_per_second': 1058.264, 'eval_steps_per_second': 10.375, 'epoch': 4.0}\n",
            "{'train_runtime': 5.8876, 'train_samples_per_second': 2492.004, 'train_steps_per_second': 19.702, 'train_loss': 0.6204661007585197, 'epoch': 4.0}\n"
          ]
        },
        {
          "output_type": "stream",
          "name": "stderr",
          "text": [
            "Some weights of BertForSequenceClassification were not initialized from the model checkpoint at prajjwal1/bert-tiny and are newly initialized: ['classifier.bias', 'classifier.weight']\n",
            "You should probably TRAIN this model on a down-stream task to be able to use it for predictions and inference.\n"
          ]
        },
        {
          "output_type": "stream",
          "name": "stdout",
          "text": [
            "{'eval_loss': 0.5952083468437195, 'eval_accuracy': 0.6936274509803921, 'eval_f1': 0.8169838945827232, 'eval_runtime': 0.388, 'eval_samples_per_second': 1051.643, 'eval_steps_per_second': 10.31, 'epoch': 4.0}\n",
            "Progress: 100/100\n",
            "{'eval_loss': 0.6439599990844727, 'eval_accuracy': 0.6838235294117647, 'eval_f1': 0.8122270742358079, 'eval_runtime': 0.3439, 'eval_samples_per_second': 1186.531, 'eval_steps_per_second': 11.633, 'epoch': 1.0}\n",
            "{'eval_loss': 0.6185536980628967, 'eval_accuracy': 0.6838235294117647, 'eval_f1': 0.8122270742358079, 'eval_runtime': 0.3789, 'eval_samples_per_second': 1076.742, 'eval_steps_per_second': 10.556, 'epoch': 2.0}\n",
            "{'eval_loss': 0.6116704344749451, 'eval_accuracy': 0.6838235294117647, 'eval_f1': 0.8122270742358079, 'eval_runtime': 0.4408, 'eval_samples_per_second': 925.545, 'eval_steps_per_second': 9.074, 'epoch': 3.0}\n",
            "{'eval_loss': 0.609874427318573, 'eval_accuracy': 0.6838235294117647, 'eval_f1': 0.8122270742358079, 'eval_runtime': 0.3688, 'eval_samples_per_second': 1106.396, 'eval_steps_per_second': 10.847, 'epoch': 4.0}\n",
            "{'train_runtime': 5.7684, 'train_samples_per_second': 2543.498, 'train_steps_per_second': 20.109, 'train_loss': 0.6398460125101024, 'epoch': 4.0}\n",
            "{'eval_loss': 0.609874427318573, 'eval_accuracy': 0.6838235294117647, 'eval_f1': 0.8122270742358079, 'eval_runtime': 0.3928, 'eval_samples_per_second': 1038.768, 'eval_steps_per_second': 10.184, 'epoch': 4.0}\n",
            "\n",
            "================         \n",
            "Runtime: 20.001293043295544 minutes         \n",
            "Best Result:         \n",
            "batch_size=64,         \n",
            "learning_rate=0.0003,         \n",
            "eval_f1=0.8386075949367089\n"
          ]
        }
      ]
    },
    {
      "cell_type": "markdown",
      "source": [
        "# Low-Rank Adaptation (LoRA)"
      ],
      "metadata": {
        "id": "fn2hce2EzI11"
      }
    },
    {
      "cell_type": "code",
      "execution_count": 10,
      "metadata": {
        "id": "MivaCxsh7UKy"
      },
      "outputs": [],
      "source": [
        "class LoraModule(nn.Module):\n",
        "  def __init__(self, in_features, out_features, rank, alpha):\n",
        "    super().__init__()\n",
        "    self.scale = alpha / rank\n",
        "    self.A = nn.Parameter(torch.randn(in_features, rank))\n",
        "    self.B = nn.Parameter(torch.zeros(rank, out_features))\n",
        "\n",
        "  def forward(self, x):\n",
        "    return (self.scale * (x @ self.A @ self.B))\n",
        "\n",
        "class LoraLinear(nn.Module):\n",
        "  def __init__(self, linear, rank, alpha):\n",
        "    super().__init__()\n",
        "    if (isinstance(linear, LoraLinear)):\n",
        "      self.linear = linear.linear\n",
        "      self.lora = LoraModule(self.linear.in_features, self.linear.out_features, rank, alpha)\n",
        "\n",
        "    else:\n",
        "      self.linear = linear\n",
        "      self.lora = LoraModule(self.linear.in_features, self.linear.out_features, rank, alpha)\n",
        "\n",
        "  def forward(self, x):\n",
        "    return self.linear(x) + self.lora(x)"
      ]
    },
    {
      "cell_type": "code",
      "execution_count": 11,
      "metadata": {
        "id": "dnum5mxHf-MI"
      },
      "outputs": [],
      "source": [
        "def get_trainable_parameters(model):\n",
        "  trainable_parameters = 0\n",
        "  parameters = 0\n",
        "  for param in model.parameters():\n",
        "    parameters += param.numel()\n",
        "    if param.requires_grad:\n",
        "      trainable_parameters += param.numel()\n",
        "  return parameters, trainable_parameters"
      ]
    },
    {
      "cell_type": "code",
      "source": [
        "def configure_lora_model(model, rank, alpha):\n",
        "  for i, layer in enumerate(model.bert.encoder.layer):\n",
        "    s = layer.attention.self\n",
        "    s.query = LoraLinear(s.query, rank, alpha)\n",
        "    s.value = LoraLinear(s.value, rank, alpha)\n",
        "\n",
        "  for name, param in model.named_parameters():\n",
        "    if 'A' in name or 'B' in name:\n",
        "      param.requires_grad = True\n",
        "    else:\n",
        "      param.requires_grad = False\n",
        "  params, trainable_params = get_trainable_parameters(model)\n",
        "  print(f\"Total Parameters={params}, Trainable Parameters={trainable_params}\")\n",
        "\n",
        "  return (params, trainable_params)"
      ],
      "metadata": {
        "id": "2dAR1xyMGGMT"
      },
      "execution_count": 12,
      "outputs": []
    },
    {
      "cell_type": "code",
      "source": [
        "from transformers import AutoModelForSequenceClassification\n",
        "\n",
        "lora_model = AutoModelForSequenceClassification.from_pretrained(checkpoint, num_labels=2).to(device)"
      ],
      "metadata": {
        "id": "HeNFNs4QzF7t",
        "colab": {
          "base_uri": "https://localhost:8080/"
        },
        "outputId": "902a720d-0e34-4291-8768-6ed51c815b13"
      },
      "execution_count": 13,
      "outputs": [
        {
          "output_type": "stream",
          "name": "stderr",
          "text": [
            "Some weights of BertForSequenceClassification were not initialized from the model checkpoint at prajjwal1/bert-tiny and are newly initialized: ['classifier.bias', 'classifier.weight']\n",
            "You should probably TRAIN this model on a down-stream task to be able to use it for predictions and inference.\n"
          ]
        }
      ]
    },
    {
      "cell_type": "code",
      "source": [
        "ranks = [1, 2, 4, 8, 16]\n",
        "alphas = [1, 2, 4, 8, 16]"
      ],
      "metadata": {
        "id": "niceYTIvGnz2"
      },
      "execution_count": 14,
      "outputs": []
    },
    {
      "cell_type": "code",
      "source": [
        "from transformers import Trainer, TrainingArguments\n",
        "import time\n",
        "\n",
        "start_time = time.time()\n",
        "\n",
        "results = []\n",
        "iterations = len(batch_sizes)*len(learning_rates)*len(ranks)*len(alphas)*num_runs\n",
        "progress = 0\n",
        "for run in range(1, num_runs+1):\n",
        "  for rank in ranks:\n",
        "    for alpha in alphas:\n",
        "      for size in batch_sizes:\n",
        "        for rate in learning_rates:\n",
        "          progress += 1\n",
        "          print(f\"Progress: {progress}/{iterations}\")\n",
        "          result = {\"run\": run, \"rank\": rank, \"alpha\": alpha, \"batch_size\": size, \"learning_rate\": rate}\n",
        "\n",
        "          params, trainable_params = configure_lora_model(lora_model, rank, alpha)\n",
        "          result[\"parameters\"] = params\n",
        "          result[\"trainable_parameters\"] = trainable_params\n",
        "\n",
        "          training_args = TrainingArguments(\n",
        "              \"lora-trainer\",\n",
        "              eval_strategy=\"epoch\",\n",
        "              per_device_eval_batch_size=size,\n",
        "              per_device_train_batch_size=size,\n",
        "              num_train_epochs=epochs,\n",
        "              learning_rate=rate,\n",
        "              disable_tqdm=True,\n",
        "              report_to=\"none\"\n",
        "          )\n",
        "\n",
        "          trainer = Trainer(\n",
        "              lora_model,\n",
        "              training_args,\n",
        "              train_dataset=tokenized_datasets[\"train\"],\n",
        "              eval_dataset=tokenized_datasets[\"validation\"],\n",
        "              data_collator=data_collator,\n",
        "              processing_class=tokenizer,\n",
        "              compute_metrics=compute_metrics\n",
        "          )\n",
        "\n",
        "          result = result | trainer.train().metrics | trainer.evaluate()\n",
        "          results.append(result)\n",
        "\n",
        "end_time = time.time()\n",
        "\n",
        "runtime_seconds = end_time - start_time\n",
        "runtime_hours = runtime_seconds / 3600\n",
        "\n",
        "max = results[0]\n",
        "for i, result in enumerate(results):\n",
        "  if result['eval_f1'] > max['eval_f1']:\n",
        "    max = result\n",
        "\n",
        "print(f'\\n================ \\\n",
        "        \\nRuntime: {runtime_hours} hours \\\n",
        "        \\nBest Result: \\\n",
        "        \\nrank={max[\"rank\"]}, \\\n",
        "        \\nalpha={max[\"alpha\"]}, \\\n",
        "        \\nparameters={max[\"parameters\"]}, \\\n",
        "        \\ntrainable_parameters={max[\"trainable_parameters\"]}, \\\n",
        "        \\nbatch_size={max[\"batch_size\"]}, \\\n",
        "        \\nlearning_rate={max[\"learning_rate\"]}, \\\n",
        "        \\neval_f1={max[\"eval_f1\"]}')\n",
        "\n",
        "import csv\n",
        "\n",
        "with open('/content/drive/MyDrive/lora-bert-tiny/lora-results.csv', 'w', newline='') as csvfile:\n",
        "    writer = csv.DictWriter(csvfile, fieldnames=list(results[0].keys()))\n",
        "\n",
        "    writer.writeheader()\n",
        "    for result in results:\n",
        "      writer.writerow(result)"
      ],
      "metadata": {
        "id": "2sRCUocTD3eo",
        "colab": {
          "base_uri": "https://localhost:8080/"
        },
        "outputId": "c8330ed3-5d5e-487c-a2fd-1e24a4f3f507"
      },
      "execution_count": null,
      "outputs": [
        {
          "output_type": "stream",
          "name": "stdout",
          "text": [
            "Progress: 1/2500\n",
            "Total Parameters=4387202, Trainable Parameters=1024\n",
            "{'eval_loss': 0.6257390975952148, 'eval_accuracy': 0.6813725490196079, 'eval_f1': 0.8104956268221575, 'eval_runtime': 0.5656, 'eval_samples_per_second': 721.355, 'eval_steps_per_second': 90.169, 'epoch': 1.0}\n",
            "{'loss': 0.663, 'grad_norm': 0.46347522735595703, 'learning_rate': 0.00021830065359477123, 'epoch': 1.0893246187363834}\n",
            "{'eval_loss': 0.6210986375808716, 'eval_accuracy': 0.6838235294117647, 'eval_f1': 0.8122270742358079, 'eval_runtime': 0.591, 'eval_samples_per_second': 690.353, 'eval_steps_per_second': 86.294, 'epoch': 2.0}\n",
            "{'loss': 0.6298, 'grad_norm': 0.40943172574043274, 'learning_rate': 0.00013660130718954247, 'epoch': 2.178649237472767}\n",
            "{'eval_loss': 0.6197056770324707, 'eval_accuracy': 0.6838235294117647, 'eval_f1': 0.8122270742358079, 'eval_runtime': 0.6239, 'eval_samples_per_second': 653.954, 'eval_steps_per_second': 81.744, 'epoch': 3.0}\n",
            "{'loss': 0.6246, 'grad_norm': 0.42999500036239624, 'learning_rate': 5.4901960784313716e-05, 'epoch': 3.2679738562091503}\n",
            "{'eval_loss': 0.619658350944519, 'eval_accuracy': 0.6838235294117647, 'eval_f1': 0.8122270742358079, 'eval_runtime': 0.5719, 'eval_samples_per_second': 713.402, 'eval_steps_per_second': 89.175, 'epoch': 4.0}\n",
            "{'train_runtime': 19.9135, 'train_samples_per_second': 736.788, 'train_steps_per_second': 92.199, 'train_loss': 0.6382766175114252, 'epoch': 4.0}\n",
            "{'eval_loss': 0.619658350944519, 'eval_accuracy': 0.6838235294117647, 'eval_f1': 0.8122270742358079, 'eval_runtime': 0.5611, 'eval_samples_per_second': 727.167, 'eval_steps_per_second': 90.896, 'epoch': 4.0}\n",
            "Progress: 2/2500\n",
            "Total Parameters=4387202, Trainable Parameters=1024\n",
            "{'eval_loss': 0.6730965375900269, 'eval_accuracy': 0.6470588235294118, 'eval_f1': 0.7534246575342466, 'eval_runtime': 0.5586, 'eval_samples_per_second': 730.435, 'eval_steps_per_second': 91.304, 'epoch': 1.0}\n",
            "{'loss': 0.7085, 'grad_norm': 0.3521327078342438, 'learning_rate': 7.276688453159042e-05, 'epoch': 1.0893246187363834}\n",
            "{'eval_loss': 0.6384305953979492, 'eval_accuracy': 0.6887254901960784, 'eval_f1': 0.8107302533532041, 'eval_runtime': 0.4838, 'eval_samples_per_second': 843.331, 'eval_steps_per_second': 105.416, 'epoch': 2.0}\n",
            "{'loss': 0.6512, 'grad_norm': 0.4592481851577759, 'learning_rate': 4.5533769063180834e-05, 'epoch': 2.178649237472767}\n",
            "{'eval_loss': 0.6301237940788269, 'eval_accuracy': 0.6862745098039216, 'eval_f1': 0.8112094395280236, 'eval_runtime': 0.5588, 'eval_samples_per_second': 730.095, 'eval_steps_per_second': 91.262, 'epoch': 3.0}\n",
            "{'loss': 0.632, 'grad_norm': 0.5441040396690369, 'learning_rate': 1.8300653594771242e-05, 'epoch': 3.2679738562091503}\n",
            "{'eval_loss': 0.6279606819152832, 'eval_accuracy': 0.6887254901960784, 'eval_f1': 0.812960235640648, 'eval_runtime': 0.5736, 'eval_samples_per_second': 711.302, 'eval_steps_per_second': 88.913, 'epoch': 4.0}\n",
            "{'train_runtime': 19.9098, 'train_samples_per_second': 736.923, 'train_steps_per_second': 92.216, 'train_loss': 0.6589283413357205, 'epoch': 4.0}\n",
            "{'eval_loss': 0.6279606819152832, 'eval_accuracy': 0.6887254901960784, 'eval_f1': 0.812960235640648, 'eval_runtime': 0.5178, 'eval_samples_per_second': 787.951, 'eval_steps_per_second': 98.494, 'epoch': 4.0}\n",
            "Progress: 3/2500\n",
            "Total Parameters=4387202, Trainable Parameters=1024\n",
            "{'eval_loss': 0.7177466750144958, 'eval_accuracy': 0.32107843137254904, 'eval_f1': 0.061016949152542375, 'eval_runtime': 0.5319, 'eval_samples_per_second': 767.097, 'eval_steps_per_second': 95.887, 'epoch': 1.0}\n",
            "{'loss': 0.7322, 'grad_norm': 0.3813965320587158, 'learning_rate': 3.638344226579521e-05, 'epoch': 1.0893246187363834}\n",
            "{'eval_loss': 0.6852342486381531, 'eval_accuracy': 0.5735294117647058, 'eval_f1': 0.6627906976744186, 'eval_runtime': 0.6087, 'eval_samples_per_second': 670.317, 'eval_steps_per_second': 83.79, 'epoch': 2.0}\n",
            "{'loss': 0.6951, 'grad_norm': 0.6395981907844543, 'learning_rate': 2.2766884531590417e-05, 'epoch': 2.178649237472767}\n",
            "{'eval_loss': 0.6690717339515686, 'eval_accuracy': 0.6544117647058824, 'eval_f1': 0.7669421487603306, 'eval_runtime': 0.5578, 'eval_samples_per_second': 731.443, 'eval_steps_per_second': 91.43, 'epoch': 3.0}\n",
            "{'loss': 0.6713, 'grad_norm': 0.38888677954673767, 'learning_rate': 9.150326797385621e-06, 'epoch': 3.2679738562091503}\n",
            "{'eval_loss': 0.6646168828010559, 'eval_accuracy': 0.6617647058823529, 'eval_f1': 0.7766990291262136, 'eval_runtime': 0.4836, 'eval_samples_per_second': 843.663, 'eval_steps_per_second': 105.458, 'epoch': 4.0}\n",
            "{'train_runtime': 19.7443, 'train_samples_per_second': 743.1, 'train_steps_per_second': 92.989, 'train_loss': 0.6939592299118541, 'epoch': 4.0}\n",
            "{'eval_loss': 0.6646168828010559, 'eval_accuracy': 0.6617647058823529, 'eval_f1': 0.7766990291262136, 'eval_runtime': 0.5339, 'eval_samples_per_second': 764.165, 'eval_steps_per_second': 95.521, 'epoch': 4.0}\n",
            "Progress: 4/2500\n",
            "Total Parameters=4387202, Trainable Parameters=1024\n",
            "{'eval_loss': 0.7343876957893372, 'eval_accuracy': 0.3161764705882353, 'eval_f1': 0.0, 'eval_runtime': 0.5376, 'eval_samples_per_second': 758.917, 'eval_steps_per_second': 94.865, 'epoch': 1.0}\n",
            "{'loss': 0.7411, 'grad_norm': 0.38866573572158813, 'learning_rate': 2.1830065359477124e-05, 'epoch': 1.0893246187363834}\n",
            "{'eval_loss': 0.7162315249443054, 'eval_accuracy': 0.33088235294117646, 'eval_f1': 0.09302325581395349, 'eval_runtime': 0.4794, 'eval_samples_per_second': 851.14, 'eval_steps_per_second': 106.393, 'epoch': 2.0}\n",
            "{'loss': 0.7206, 'grad_norm': 0.5770863890647888, 'learning_rate': 1.366013071895425e-05, 'epoch': 2.178649237472767}\n",
            "{'eval_loss': 0.704820454120636, 'eval_accuracy': 0.3946078431372549, 'eval_f1': 0.32697547683923706, 'eval_runtime': 0.5361, 'eval_samples_per_second': 761.062, 'eval_steps_per_second': 95.133, 'epoch': 3.0}\n",
            "{'loss': 0.7048, 'grad_norm': 0.36168649792671204, 'learning_rate': 5.490196078431373e-06, 'epoch': 3.2679738562091503}\n",
            "{'eval_loss': 0.7010163068771362, 'eval_accuracy': 0.4362745098039216, 'eval_f1': 0.41624365482233505, 'eval_runtime': 0.6351, 'eval_samples_per_second': 642.411, 'eval_steps_per_second': 80.301, 'epoch': 4.0}\n",
            "{'train_runtime': 19.7632, 'train_samples_per_second': 742.389, 'train_steps_per_second': 92.9, 'train_loss': 0.7182109890939883, 'epoch': 4.0}\n",
            "{'eval_loss': 0.7010163068771362, 'eval_accuracy': 0.4362745098039216, 'eval_f1': 0.41624365482233505, 'eval_runtime': 0.5104, 'eval_samples_per_second': 799.421, 'eval_steps_per_second': 99.928, 'epoch': 4.0}\n",
            "Progress: 5/2500\n",
            "Total Parameters=4387202, Trainable Parameters=1024\n",
            "{'eval_loss': 0.6345610618591309, 'eval_accuracy': 0.6862745098039216, 'eval_f1': 0.8112094395280236, 'eval_runtime': 0.4308, 'eval_samples_per_second': 947.08, 'eval_steps_per_second': 60.353, 'epoch': 1.0}\n",
            "{'eval_loss': 0.622128427028656, 'eval_accuracy': 0.6862745098039216, 'eval_f1': 0.8123167155425219, 'eval_runtime': 0.4572, 'eval_samples_per_second': 892.36, 'eval_steps_per_second': 56.866, 'epoch': 2.0}\n",
            "{'loss': 0.6546, 'grad_norm': 0.23238064348697662, 'learning_rate': 0.00013695652173913042, 'epoch': 2.1739130434782608}\n",
            "{'eval_loss': 0.6207221746444702, 'eval_accuracy': 0.6887254901960784, 'eval_f1': 0.8140556368960469, 'eval_runtime': 0.3866, 'eval_samples_per_second': 1055.382, 'eval_steps_per_second': 67.255, 'epoch': 3.0}\n",
            "{'eval_loss': 0.620145320892334, 'eval_accuracy': 0.6887254901960784, 'eval_f1': 0.8140556368960469, 'eval_runtime': 0.4759, 'eval_samples_per_second': 857.238, 'eval_steps_per_second': 54.628, 'epoch': 4.0}\n",
            "{'train_runtime': 11.5585, 'train_samples_per_second': 1269.367, 'train_steps_per_second': 79.595, 'train_loss': 0.6401053387185801, 'epoch': 4.0}\n",
            "{'eval_loss': 0.620145320892334, 'eval_accuracy': 0.6887254901960784, 'eval_f1': 0.8140556368960469, 'eval_runtime': 0.3955, 'eval_samples_per_second': 1031.599, 'eval_steps_per_second': 65.739, 'epoch': 4.0}\n",
            "Progress: 6/2500\n",
            "Total Parameters=4387202, Trainable Parameters=1024\n",
            "{'eval_loss': 0.7089972496032715, 'eval_accuracy': 0.3872549019607843, 'eval_f1': 0.2603550295857988, 'eval_runtime': 0.5274, 'eval_samples_per_second': 773.625, 'eval_steps_per_second': 49.3, 'epoch': 1.0}\n",
            "{'eval_loss': 0.6713041663169861, 'eval_accuracy': 0.6519607843137255, 'eval_f1': 0.7625418060200669, 'eval_runtime': 0.4653, 'eval_samples_per_second': 876.922, 'eval_steps_per_second': 55.882, 'epoch': 2.0}\n",
            "{'loss': 0.7052, 'grad_norm': 0.2465394139289856, 'learning_rate': 4.565217391304348e-05, 'epoch': 2.1739130434782608}\n",
            "{'eval_loss': 0.6552615165710449, 'eval_accuracy': 0.6715686274509803, 'eval_f1': 0.7932098765432098, 'eval_runtime': 0.4045, 'eval_samples_per_second': 1008.748, 'eval_steps_per_second': 64.283, 'epoch': 3.0}\n",
            "{'eval_loss': 0.650761604309082, 'eval_accuracy': 0.6764705882352942, 'eval_f1': 0.7975460122699386, 'eval_runtime': 0.4066, 'eval_samples_per_second': 1003.539, 'eval_steps_per_second': 63.951, 'epoch': 4.0}\n",
            "{'train_runtime': 11.7094, 'train_samples_per_second': 1253.013, 'train_steps_per_second': 78.57, 'train_loss': 0.6834866067637568, 'epoch': 4.0}\n",
            "{'eval_loss': 0.650761604309082, 'eval_accuracy': 0.6764705882352942, 'eval_f1': 0.7975460122699386, 'eval_runtime': 0.4551, 'eval_samples_per_second': 896.428, 'eval_steps_per_second': 57.125, 'epoch': 4.0}\n",
            "Progress: 7/2500\n",
            "Total Parameters=4387202, Trainable Parameters=1024\n",
            "{'eval_loss': 0.7345554232597351, 'eval_accuracy': 0.3161764705882353, 'eval_f1': 0.0, 'eval_runtime': 0.429, 'eval_samples_per_second': 950.982, 'eval_steps_per_second': 60.602, 'epoch': 1.0}\n",
            "{'eval_loss': 0.7164990305900574, 'eval_accuracy': 0.3284313725490196, 'eval_f1': 0.08053691275167785, 'eval_runtime': 0.4027, 'eval_samples_per_second': 1013.086, 'eval_steps_per_second': 64.559, 'epoch': 2.0}\n",
            "{'loss': 0.7305, 'grad_norm': 0.310889333486557, 'learning_rate': 2.282608695652174e-05, 'epoch': 2.1739130434782608}\n",
            "{'eval_loss': 0.7049254775047302, 'eval_accuracy': 0.3946078431372549, 'eval_f1': 0.32697547683923706, 'eval_runtime': 0.5033, 'eval_samples_per_second': 810.661, 'eval_steps_per_second': 51.66, 'epoch': 3.0}\n",
            "{'eval_loss': 0.7010124921798706, 'eval_accuracy': 0.4338235294117647, 'eval_f1': 0.4151898734177215, 'eval_runtime': 0.4285, 'eval_samples_per_second': 952.251, 'eval_steps_per_second': 60.683, 'epoch': 4.0}\n",
            "{'train_runtime': 11.5588, 'train_samples_per_second': 1269.338, 'train_steps_per_second': 79.593, 'train_loss': 0.7181151680324389, 'epoch': 4.0}\n",
            "{'eval_loss': 0.7010124921798706, 'eval_accuracy': 0.4338235294117647, 'eval_f1': 0.4151898734177215, 'eval_runtime': 0.471, 'eval_samples_per_second': 866.29, 'eval_steps_per_second': 55.205, 'epoch': 4.0}\n",
            "Progress: 8/2500\n",
            "Total Parameters=4387202, Trainable Parameters=1024\n",
            "{'eval_loss': 0.7433072328567505, 'eval_accuracy': 0.3161764705882353, 'eval_f1': 0.0, 'eval_runtime': 0.477, 'eval_samples_per_second': 855.42, 'eval_steps_per_second': 54.512, 'epoch': 1.0}\n",
            "{'eval_loss': 0.733747124671936, 'eval_accuracy': 0.31862745098039214, 'eval_f1': 0.007142857142857143, 'eval_runtime': 0.4534, 'eval_samples_per_second': 899.835, 'eval_steps_per_second': 57.342, 'epoch': 2.0}\n",
            "{'loss': 0.7402, 'grad_norm': 0.31184670329093933, 'learning_rate': 1.3695652173913042e-05, 'epoch': 2.1739130434782608}\n",
            "{'eval_loss': 0.727674126625061, 'eval_accuracy': 0.31862745098039214, 'eval_f1': 0.014184397163120567, 'eval_runtime': 0.4456, 'eval_samples_per_second': 915.668, 'eval_steps_per_second': 58.351, 'epoch': 3.0}\n",
            "{'eval_loss': 0.7255455255508423, 'eval_accuracy': 0.3161764705882353, 'eval_f1': 0.014134275618374558, 'eval_runtime': 0.4649, 'eval_samples_per_second': 877.529, 'eval_steps_per_second': 55.921, 'epoch': 4.0}\n",
            "{'train_runtime': 11.5962, 'train_samples_per_second': 1265.245, 'train_steps_per_second': 79.337, 'train_loss': 0.7334772856339165, 'epoch': 4.0}\n",
            "{'eval_loss': 0.7255455255508423, 'eval_accuracy': 0.3161764705882353, 'eval_f1': 0.014134275618374558, 'eval_runtime': 0.4489, 'eval_samples_per_second': 908.886, 'eval_steps_per_second': 57.919, 'epoch': 4.0}\n",
            "Progress: 9/2500\n",
            "Total Parameters=4387202, Trainable Parameters=1024\n",
            "{'eval_loss': 0.6727752089500427, 'eval_accuracy': 0.6397058823529411, 'eval_f1': 0.7495741056218058, 'eval_runtime': 0.3573, 'eval_samples_per_second': 1141.964, 'eval_steps_per_second': 36.386, 'epoch': 1.0}\n",
            "{'eval_loss': 0.6352618932723999, 'eval_accuracy': 0.6911764705882353, 'eval_f1': 0.8136094674556213, 'eval_runtime': 0.4128, 'eval_samples_per_second': 988.283, 'eval_steps_per_second': 31.489, 'epoch': 2.0}\n",
            "{'eval_loss': 0.6273951530456543, 'eval_accuracy': 0.6862745098039216, 'eval_f1': 0.8123167155425219, 'eval_runtime': 0.3812, 'eval_samples_per_second': 1070.203, 'eval_steps_per_second': 34.1, 'epoch': 3.0}\n",
            "{'eval_loss': 0.6257346868515015, 'eval_accuracy': 0.6862745098039216, 'eval_f1': 0.8123167155425219, 'eval_runtime': 0.3166, 'eval_samples_per_second': 1288.765, 'eval_steps_per_second': 41.064, 'epoch': 4.0}\n",
            "{'train_runtime': 7.7191, 'train_samples_per_second': 1900.737, 'train_steps_per_second': 59.592, 'train_loss': 0.6578729380731997, 'epoch': 4.0}\n",
            "{'eval_loss': 0.6257346868515015, 'eval_accuracy': 0.6862745098039216, 'eval_f1': 0.8123167155425219, 'eval_runtime': 0.369, 'eval_samples_per_second': 1105.71, 'eval_steps_per_second': 35.231, 'epoch': 4.0}\n",
            "Progress: 10/2500\n",
            "Total Parameters=4387202, Trainable Parameters=1024\n",
            "{'eval_loss': 0.7316310405731201, 'eval_accuracy': 0.31862745098039214, 'eval_f1': 0.007142857142857143, 'eval_runtime': 0.3394, 'eval_samples_per_second': 1202.152, 'eval_steps_per_second': 38.304, 'epoch': 1.0}\n",
            "{'eval_loss': 0.7107211947441101, 'eval_accuracy': 0.37254901960784315, 'eval_f1': 0.22424242424242424, 'eval_runtime': 0.4125, 'eval_samples_per_second': 989.154, 'eval_steps_per_second': 31.517, 'epoch': 2.0}\n",
            "{'eval_loss': 0.6969713568687439, 'eval_accuracy': 0.48284313725490197, 'eval_f1': 0.5127020785219399, 'eval_runtime': 0.3433, 'eval_samples_per_second': 1188.62, 'eval_steps_per_second': 37.873, 'epoch': 3.0}\n",
            "{'eval_loss': 0.6924538612365723, 'eval_accuracy': 0.5245098039215687, 'eval_f1': 0.5872340425531914, 'eval_runtime': 0.4303, 'eval_samples_per_second': 948.068, 'eval_steps_per_second': 30.208, 'epoch': 4.0}\n",
            "{'train_runtime': 7.8419, 'train_samples_per_second': 1870.985, 'train_steps_per_second': 58.66, 'train_loss': 0.7137894340183424, 'epoch': 4.0}\n",
            "{'eval_loss': 0.6924538612365723, 'eval_accuracy': 0.5245098039215687, 'eval_f1': 0.5872340425531914, 'eval_runtime': 0.3809, 'eval_samples_per_second': 1071.262, 'eval_steps_per_second': 34.133, 'epoch': 4.0}\n",
            "Progress: 11/2500\n",
            "Total Parameters=4387202, Trainable Parameters=1024\n",
            "{'eval_loss': 0.7439378499984741, 'eval_accuracy': 0.3161764705882353, 'eval_f1': 0.0, 'eval_runtime': 0.4205, 'eval_samples_per_second': 970.16, 'eval_steps_per_second': 30.912, 'epoch': 1.0}\n",
            "{'eval_loss': 0.7352198958396912, 'eval_accuracy': 0.3161764705882353, 'eval_f1': 0.0, 'eval_runtime': 0.3802, 'eval_samples_per_second': 1073.151, 'eval_steps_per_second': 34.194, 'epoch': 2.0}\n",
            "{'eval_loss': 0.7295425534248352, 'eval_accuracy': 0.31862745098039214, 'eval_f1': 0.014184397163120567, 'eval_runtime': 0.3797, 'eval_samples_per_second': 1074.591, 'eval_steps_per_second': 34.239, 'epoch': 3.0}\n",
            "{'eval_loss': 0.7275199294090271, 'eval_accuracy': 0.31862745098039214, 'eval_f1': 0.014184397163120567, 'eval_runtime': 0.4122, 'eval_samples_per_second': 989.855, 'eval_steps_per_second': 31.54, 'epoch': 4.0}\n",
            "{'train_runtime': 7.927, 'train_samples_per_second': 1850.892, 'train_steps_per_second': 58.03, 'train_loss': 0.7354321023692255, 'epoch': 4.0}\n",
            "{'eval_loss': 0.7275199294090271, 'eval_accuracy': 0.31862745098039214, 'eval_f1': 0.014184397163120567, 'eval_runtime': 0.4781, 'eval_samples_per_second': 853.431, 'eval_steps_per_second': 27.193, 'epoch': 4.0}\n",
            "Progress: 12/2500\n",
            "Total Parameters=4387202, Trainable Parameters=1024\n",
            "{'eval_loss': 0.7484992742538452, 'eval_accuracy': 0.3161764705882353, 'eval_f1': 0.0, 'eval_runtime': 0.3289, 'eval_samples_per_second': 1240.59, 'eval_steps_per_second': 39.529, 'epoch': 1.0}\n",
            "{'eval_loss': 0.74362713098526, 'eval_accuracy': 0.3161764705882353, 'eval_f1': 0.0, 'eval_runtime': 0.4721, 'eval_samples_per_second': 864.224, 'eval_steps_per_second': 27.537, 'epoch': 2.0}\n",
            "{'eval_loss': 0.7405650019645691, 'eval_accuracy': 0.3161764705882353, 'eval_f1': 0.0, 'eval_runtime': 0.4045, 'eval_samples_per_second': 1008.612, 'eval_steps_per_second': 32.137, 'epoch': 3.0}\n",
            "{'eval_loss': 0.7394840121269226, 'eval_accuracy': 0.3161764705882353, 'eval_f1': 0.0, 'eval_runtime': 0.406, 'eval_samples_per_second': 1004.981, 'eval_steps_per_second': 32.021, 'epoch': 4.0}\n",
            "{'train_runtime': 7.8751, 'train_samples_per_second': 1863.092, 'train_steps_per_second': 58.412, 'train_loss': 0.7433099497919498, 'epoch': 4.0}\n",
            "{'eval_loss': 0.7394840121269226, 'eval_accuracy': 0.3161764705882353, 'eval_f1': 0.0, 'eval_runtime': 0.365, 'eval_samples_per_second': 1117.812, 'eval_steps_per_second': 35.617, 'epoch': 4.0}\n",
            "Progress: 13/2500\n",
            "Total Parameters=4387202, Trainable Parameters=1024\n",
            "{'eval_loss': 0.7153947353363037, 'eval_accuracy': 0.3382352941176471, 'eval_f1': 0.11764705882352941, 'eval_runtime': 0.3409, 'eval_samples_per_second': 1196.871, 'eval_steps_per_second': 20.535, 'epoch': 1.0}\n",
            "{'eval_loss': 0.6780186295509338, 'eval_accuracy': 0.6225490196078431, 'eval_f1': 0.7230215827338129, 'eval_runtime': 0.3456, 'eval_samples_per_second': 1180.446, 'eval_steps_per_second': 20.253, 'epoch': 2.0}\n",
            "{'eval_loss': 0.659702479839325, 'eval_accuracy': 0.6764705882352942, 'eval_f1': 0.7917981072555205, 'eval_runtime': 0.3913, 'eval_samples_per_second': 1042.566, 'eval_steps_per_second': 17.887, 'epoch': 3.0}\n",
            "{'eval_loss': 0.6545944809913635, 'eval_accuracy': 0.6740196078431373, 'eval_f1': 0.794435857805255, 'eval_runtime': 0.3748, 'eval_samples_per_second': 1088.588, 'eval_steps_per_second': 18.677, 'epoch': 4.0}\n",
            "{'train_runtime': 5.9417, 'train_samples_per_second': 2469.326, 'train_steps_per_second': 39.046, 'train_loss': 0.6889614894472319, 'epoch': 4.0}\n",
            "{'eval_loss': 0.6545944809913635, 'eval_accuracy': 0.6740196078431373, 'eval_f1': 0.794435857805255, 'eval_runtime': 0.3433, 'eval_samples_per_second': 1188.297, 'eval_steps_per_second': 20.387, 'epoch': 4.0}\n",
            "Progress: 14/2500\n",
            "Total Parameters=4387202, Trainable Parameters=1024\n",
            "{'eval_loss': 0.7431542873382568, 'eval_accuracy': 0.3161764705882353, 'eval_f1': 0.0, 'eval_runtime': 0.3631, 'eval_samples_per_second': 1123.614, 'eval_steps_per_second': 19.278, 'epoch': 1.0}\n",
            "{'eval_loss': 0.7332796454429626, 'eval_accuracy': 0.31862745098039214, 'eval_f1': 0.007142857142857143, 'eval_runtime': 0.4168, 'eval_samples_per_second': 978.898, 'eval_steps_per_second': 16.795, 'epoch': 2.0}\n",
            "{'eval_loss': 0.7269538640975952, 'eval_accuracy': 0.31862745098039214, 'eval_f1': 0.014184397163120567, 'eval_runtime': 0.3421, 'eval_samples_per_second': 1192.658, 'eval_steps_per_second': 20.462, 'epoch': 3.0}\n",
            "{'eval_loss': 0.724665105342865, 'eval_accuracy': 0.31862745098039214, 'eval_f1': 0.02112676056338028, 'eval_runtime': 0.3779, 'eval_samples_per_second': 1079.766, 'eval_steps_per_second': 18.525, 'epoch': 4.0}\n",
            "{'train_runtime': 5.9725, 'train_samples_per_second': 2456.613, 'train_steps_per_second': 38.845, 'train_loss': 0.7337018374739022, 'epoch': 4.0}\n",
            "{'eval_loss': 0.724665105342865, 'eval_accuracy': 0.31862745098039214, 'eval_f1': 0.02112676056338028, 'eval_runtime': 0.3113, 'eval_samples_per_second': 1310.618, 'eval_steps_per_second': 22.486, 'epoch': 4.0}\n",
            "Progress: 15/2500\n",
            "Total Parameters=4387202, Trainable Parameters=1024\n",
            "{'eval_loss': 0.7492170929908752, 'eval_accuracy': 0.3161764705882353, 'eval_f1': 0.0, 'eval_runtime': 0.347, 'eval_samples_per_second': 1175.734, 'eval_steps_per_second': 20.172, 'epoch': 1.0}\n",
            "{'eval_loss': 0.7447175979614258, 'eval_accuracy': 0.3161764705882353, 'eval_f1': 0.0, 'eval_runtime': 0.353, 'eval_samples_per_second': 1155.748, 'eval_steps_per_second': 19.829, 'epoch': 2.0}\n",
            "{'eval_loss': 0.7419718503952026, 'eval_accuracy': 0.3161764705882353, 'eval_f1': 0.0, 'eval_runtime': 0.3917, 'eval_samples_per_second': 1041.719, 'eval_steps_per_second': 17.873, 'epoch': 3.0}\n",
            "{'eval_loss': 0.7409998774528503, 'eval_accuracy': 0.3161764705882353, 'eval_f1': 0.0, 'eval_runtime': 0.3369, 'eval_samples_per_second': 1211.218, 'eval_steps_per_second': 20.781, 'epoch': 4.0}\n",
            "{'train_runtime': 5.8619, 'train_samples_per_second': 2502.961, 'train_steps_per_second': 39.578, 'train_loss': 0.7443611539643387, 'epoch': 4.0}\n",
            "{'eval_loss': 0.7409998774528503, 'eval_accuracy': 0.3161764705882353, 'eval_f1': 0.0, 'eval_runtime': 0.3521, 'eval_samples_per_second': 1158.61, 'eval_steps_per_second': 19.878, 'epoch': 4.0}\n",
            "Progress: 16/2500\n",
            "Total Parameters=4387202, Trainable Parameters=1024\n",
            "{'eval_loss': 0.7515774965286255, 'eval_accuracy': 0.3161764705882353, 'eval_f1': 0.0, 'eval_runtime': 0.344, 'eval_samples_per_second': 1186.014, 'eval_steps_per_second': 20.348, 'epoch': 1.0}\n",
            "{'eval_loss': 0.7489610314369202, 'eval_accuracy': 0.3161764705882353, 'eval_f1': 0.0, 'eval_runtime': 0.3246, 'eval_samples_per_second': 1256.92, 'eval_steps_per_second': 21.565, 'epoch': 2.0}\n",
            "{'eval_loss': 0.7473921179771423, 'eval_accuracy': 0.3161764705882353, 'eval_f1': 0.0, 'eval_runtime': 0.3198, 'eval_samples_per_second': 1275.907, 'eval_steps_per_second': 21.891, 'epoch': 3.0}\n",
            "{'eval_loss': 0.7468426823616028, 'eval_accuracy': 0.3161764705882353, 'eval_f1': 0.0, 'eval_runtime': 0.3177, 'eval_samples_per_second': 1284.431, 'eval_steps_per_second': 22.037, 'epoch': 4.0}\n",
            "{'train_runtime': 5.7568, 'train_samples_per_second': 2548.622, 'train_steps_per_second': 40.3, 'train_loss': 0.7483966432768723, 'epoch': 4.0}\n",
            "{'eval_loss': 0.7468426823616028, 'eval_accuracy': 0.3161764705882353, 'eval_f1': 0.0, 'eval_runtime': 0.4322, 'eval_samples_per_second': 943.964, 'eval_steps_per_second': 16.195, 'epoch': 4.0}\n",
            "Progress: 17/2500\n",
            "Total Parameters=4387202, Trainable Parameters=1024\n",
            "{'eval_loss': 0.7358329892158508, 'eval_accuracy': 0.3161764705882353, 'eval_f1': 0.0, 'eval_runtime': 0.3564, 'eval_samples_per_second': 1144.727, 'eval_steps_per_second': 11.223, 'epoch': 1.0}\n",
            "{'eval_loss': 0.7193669080734253, 'eval_accuracy': 0.31862745098039214, 'eval_f1': 0.04794520547945205, 'eval_runtime': 0.3694, 'eval_samples_per_second': 1104.589, 'eval_steps_per_second': 10.829, 'epoch': 2.0}\n",
            "{'eval_loss': 0.7078405618667603, 'eval_accuracy': 0.3897058823529412, 'eval_f1': 0.2824207492795389, 'eval_runtime': 0.3698, 'eval_samples_per_second': 1103.429, 'eval_steps_per_second': 10.818, 'epoch': 3.0}\n",
            "{'eval_loss': 0.7036358714103699, 'eval_accuracy': 0.40441176470588236, 'eval_f1': 0.352, 'eval_runtime': 0.3107, 'eval_samples_per_second': 1313.269, 'eval_steps_per_second': 12.875, 'epoch': 4.0}\n",
            "{'train_runtime': 5.2139, 'train_samples_per_second': 2813.998, 'train_steps_per_second': 22.248, 'train_loss': 0.7210499335979593, 'epoch': 4.0}\n",
            "{'eval_loss': 0.7036358714103699, 'eval_accuracy': 0.40441176470588236, 'eval_f1': 0.352, 'eval_runtime': 0.4055, 'eval_samples_per_second': 1006.125, 'eval_steps_per_second': 9.864, 'epoch': 4.0}\n",
            "Progress: 18/2500\n",
            "Total Parameters=4387202, Trainable Parameters=1024\n",
            "{'eval_loss': 0.7488572597503662, 'eval_accuracy': 0.3161764705882353, 'eval_f1': 0.0, 'eval_runtime': 0.3965, 'eval_samples_per_second': 1029.014, 'eval_steps_per_second': 10.088, 'epoch': 1.0}\n",
            "{'eval_loss': 0.7442406415939331, 'eval_accuracy': 0.3161764705882353, 'eval_f1': 0.0, 'eval_runtime': 0.3919, 'eval_samples_per_second': 1040.975, 'eval_steps_per_second': 10.206, 'epoch': 2.0}\n",
            "{'eval_loss': 0.7413560748100281, 'eval_accuracy': 0.3161764705882353, 'eval_f1': 0.0, 'eval_runtime': 0.3678, 'eval_samples_per_second': 1109.242, 'eval_steps_per_second': 10.875, 'epoch': 3.0}\n",
            "{'eval_loss': 0.740304708480835, 'eval_accuracy': 0.3161764705882353, 'eval_f1': 0.0, 'eval_runtime': 0.3648, 'eval_samples_per_second': 1118.434, 'eval_steps_per_second': 10.965, 'epoch': 4.0}\n",
            "{'train_runtime': 5.3735, 'train_samples_per_second': 2730.411, 'train_steps_per_second': 21.587, 'train_loss': 0.7438641909895272, 'epoch': 4.0}\n",
            "{'eval_loss': 0.740304708480835, 'eval_accuracy': 0.3161764705882353, 'eval_f1': 0.0, 'eval_runtime': 0.3894, 'eval_samples_per_second': 1047.716, 'eval_steps_per_second': 10.272, 'epoch': 4.0}\n",
            "Progress: 19/2500\n",
            "Total Parameters=4387202, Trainable Parameters=1024\n",
            "{'eval_loss': 0.7519798278808594, 'eval_accuracy': 0.3161764705882353, 'eval_f1': 0.0, 'eval_runtime': 0.4358, 'eval_samples_per_second': 936.222, 'eval_steps_per_second': 9.179, 'epoch': 1.0}\n",
            "{'eval_loss': 0.7497408986091614, 'eval_accuracy': 0.3161764705882353, 'eval_f1': 0.0, 'eval_runtime': 0.3393, 'eval_samples_per_second': 1202.491, 'eval_steps_per_second': 11.789, 'epoch': 2.0}\n",
            "{'eval_loss': 0.7483837008476257, 'eval_accuracy': 0.3161764705882353, 'eval_f1': 0.0, 'eval_runtime': 0.3622, 'eval_samples_per_second': 1126.396, 'eval_steps_per_second': 11.043, 'epoch': 3.0}\n",
            "{'eval_loss': 0.7478960752487183, 'eval_accuracy': 0.3161764705882353, 'eval_f1': 0.0, 'eval_runtime': 0.4342, 'eval_samples_per_second': 939.672, 'eval_steps_per_second': 9.212, 'epoch': 4.0}\n",
            "{'train_runtime': 5.2882, 'train_samples_per_second': 2774.491, 'train_steps_per_second': 21.936, 'train_loss': 0.7490791452342066, 'epoch': 4.0}\n",
            "{'eval_loss': 0.7478960752487183, 'eval_accuracy': 0.3161764705882353, 'eval_f1': 0.0, 'eval_runtime': 0.292, 'eval_samples_per_second': 1397.04, 'eval_steps_per_second': 13.696, 'epoch': 4.0}\n",
            "Progress: 20/2500\n",
            "Total Parameters=4387202, Trainable Parameters=1024\n",
            "{'eval_loss': 0.7532194256782532, 'eval_accuracy': 0.3161764705882353, 'eval_f1': 0.0, 'eval_runtime': 0.3567, 'eval_samples_per_second': 1143.76, 'eval_steps_per_second': 11.213, 'epoch': 1.0}\n",
            "{'eval_loss': 0.7518888711929321, 'eval_accuracy': 0.3161764705882353, 'eval_f1': 0.0, 'eval_runtime': 0.3537, 'eval_samples_per_second': 1153.675, 'eval_steps_per_second': 11.311, 'epoch': 2.0}\n",
            "{'eval_loss': 0.7510896325111389, 'eval_accuracy': 0.3161764705882353, 'eval_f1': 0.0, 'eval_runtime': 0.3563, 'eval_samples_per_second': 1145.232, 'eval_steps_per_second': 11.228, 'epoch': 3.0}\n",
            "{'eval_loss': 0.7508041262626648, 'eval_accuracy': 0.3161764705882353, 'eval_f1': 0.0, 'eval_runtime': 0.373, 'eval_samples_per_second': 1093.703, 'eval_steps_per_second': 10.723, 'epoch': 4.0}\n",
            "{'train_runtime': 5.2421, 'train_samples_per_second': 2798.876, 'train_steps_per_second': 22.129, 'train_loss': 0.7511340174181708, 'epoch': 4.0}\n",
            "{'eval_loss': 0.7508041262626648, 'eval_accuracy': 0.3161764705882353, 'eval_f1': 0.0, 'eval_runtime': 0.3169, 'eval_samples_per_second': 1287.618, 'eval_steps_per_second': 12.624, 'epoch': 4.0}\n",
            "Progress: 21/2500\n",
            "Total Parameters=4387202, Trainable Parameters=1024\n",
            "{'eval_loss': 0.620581328868866, 'eval_accuracy': 0.6887254901960784, 'eval_f1': 0.8135095447870778, 'eval_runtime': 0.5915, 'eval_samples_per_second': 689.756, 'eval_steps_per_second': 86.219, 'epoch': 1.0}\n",
            "{'loss': 0.6417, 'grad_norm': 0.7228365540504456, 'learning_rate': 0.00021830065359477123, 'epoch': 1.0893246187363834}\n",
            "{'eval_loss': 0.6148348450660706, 'eval_accuracy': 0.6911764705882353, 'eval_f1': 0.8141592920353983, 'eval_runtime': 0.5199, 'eval_samples_per_second': 784.727, 'eval_steps_per_second': 98.091, 'epoch': 2.0}\n",
            "{'loss': 0.6198, 'grad_norm': 0.7672398686408997, 'learning_rate': 0.00013660130718954247, 'epoch': 2.178649237472767}\n",
            "{'eval_loss': 0.6140172481536865, 'eval_accuracy': 0.6985294117647058, 'eval_f1': 0.8177777777777778, 'eval_runtime': 0.5542, 'eval_samples_per_second': 736.178, 'eval_steps_per_second': 92.022, 'epoch': 3.0}\n",
            "{'loss': 0.6106, 'grad_norm': 0.7074764370918274, 'learning_rate': 5.4901960784313716e-05, 'epoch': 3.2679738562091503}\n",
            "{'eval_loss': 0.6139556169509888, 'eval_accuracy': 0.696078431372549, 'eval_f1': 0.8154761904761905, 'eval_runtime': 0.4603, 'eval_samples_per_second': 886.43, 'eval_steps_per_second': 110.804, 'epoch': 4.0}\n",
            "{'train_runtime': 19.6718, 'train_samples_per_second': 745.839, 'train_steps_per_second': 93.332, 'train_loss': 0.6238495820488026, 'epoch': 4.0}\n",
            "{'eval_loss': 0.6139556169509888, 'eval_accuracy': 0.696078431372549, 'eval_f1': 0.8154761904761905, 'eval_runtime': 0.5804, 'eval_samples_per_second': 703.003, 'eval_steps_per_second': 87.875, 'epoch': 4.0}\n",
            "Progress: 22/2500\n",
            "Total Parameters=4387202, Trainable Parameters=1024\n",
            "{'eval_loss': 0.6381560564041138, 'eval_accuracy': 0.6813725490196079, 'eval_f1': 0.8036253776435045, 'eval_runtime': 0.492, 'eval_samples_per_second': 829.341, 'eval_steps_per_second': 103.668, 'epoch': 1.0}\n",
            "{'loss': 0.6803, 'grad_norm': 0.706214189529419, 'learning_rate': 7.276688453159042e-05, 'epoch': 1.0893246187363834}\n",
            "{'eval_loss': 0.624259889125824, 'eval_accuracy': 0.6862745098039216, 'eval_f1': 0.8117647058823529, 'eval_runtime': 0.5718, 'eval_samples_per_second': 713.579, 'eval_steps_per_second': 89.197, 'epoch': 2.0}\n",
            "{'loss': 0.6306, 'grad_norm': 0.6401734948158264, 'learning_rate': 4.5533769063180834e-05, 'epoch': 2.178649237472767}\n",
            "{'eval_loss': 0.6227477788925171, 'eval_accuracy': 0.6862745098039216, 'eval_f1': 0.8117647058823529, 'eval_runtime': 0.5394, 'eval_samples_per_second': 756.455, 'eval_steps_per_second': 94.557, 'epoch': 3.0}\n",
            "{'loss': 0.6215, 'grad_norm': 0.8160832524299622, 'learning_rate': 1.8300653594771242e-05, 'epoch': 3.2679738562091503}\n",
            "{'eval_loss': 0.6221415400505066, 'eval_accuracy': 0.6862745098039216, 'eval_f1': 0.8117647058823529, 'eval_runtime': 0.4868, 'eval_samples_per_second': 838.096, 'eval_steps_per_second': 104.762, 'epoch': 4.0}\n",
            "{'train_runtime': 19.6079, 'train_samples_per_second': 748.271, 'train_steps_per_second': 93.636, 'train_loss': 0.6415040093050024, 'epoch': 4.0}\n",
            "{'eval_loss': 0.6221415400505066, 'eval_accuracy': 0.6862745098039216, 'eval_f1': 0.8117647058823529, 'eval_runtime': 0.5767, 'eval_samples_per_second': 707.471, 'eval_steps_per_second': 88.434, 'epoch': 4.0}\n",
            "Progress: 23/2500\n",
            "Total Parameters=4387202, Trainable Parameters=1024\n",
            "{'eval_loss': 0.682157576084137, 'eval_accuracy': 0.5906862745098039, 'eval_f1': 0.6843100189035917, 'eval_runtime': 0.5483, 'eval_samples_per_second': 744.132, 'eval_steps_per_second': 93.017, 'epoch': 1.0}\n",
            "{'loss': 0.7126, 'grad_norm': 0.654570460319519, 'learning_rate': 3.638344226579521e-05, 'epoch': 1.0893246187363834}\n",
            "{'eval_loss': 0.647083580493927, 'eval_accuracy': 0.6813725490196079, 'eval_f1': 0.8012232415902141, 'eval_runtime': 0.549, 'eval_samples_per_second': 743.127, 'eval_steps_per_second': 92.891, 'epoch': 2.0}\n",
            "{'loss': 0.6594, 'grad_norm': 0.9191074371337891, 'learning_rate': 2.2766884531590417e-05, 'epoch': 2.178649237472767}\n",
            "{'eval_loss': 0.6365296840667725, 'eval_accuracy': 0.6838235294117647, 'eval_f1': 0.8054298642533937, 'eval_runtime': 0.649, 'eval_samples_per_second': 628.643, 'eval_steps_per_second': 78.58, 'epoch': 3.0}\n",
            "{'loss': 0.6381, 'grad_norm': 1.013505220413208, 'learning_rate': 9.150326797385621e-06, 'epoch': 3.2679738562091503}\n",
            "{'eval_loss': 0.6337307691574097, 'eval_accuracy': 0.6838235294117647, 'eval_f1': 0.8054298642533937, 'eval_runtime': 0.5345, 'eval_samples_per_second': 763.342, 'eval_steps_per_second': 95.418, 'epoch': 4.0}\n",
            "{'train_runtime': 19.822, 'train_samples_per_second': 740.189, 'train_steps_per_second': 92.624, 'train_loss': 0.6648042799340873, 'epoch': 4.0}\n",
            "{'eval_loss': 0.6337307691574097, 'eval_accuracy': 0.6838235294117647, 'eval_f1': 0.8054298642533937, 'eval_runtime': 0.5194, 'eval_samples_per_second': 785.597, 'eval_steps_per_second': 98.2, 'epoch': 4.0}\n",
            "Progress: 24/2500\n",
            "Total Parameters=4387202, Trainable Parameters=1024\n",
            "{'eval_loss': 0.7131109833717346, 'eval_accuracy': 0.3627450980392157, 'eval_f1': 0.1875, 'eval_runtime': 0.5715, 'eval_samples_per_second': 713.909, 'eval_steps_per_second': 89.239, 'epoch': 1.0}\n",
            "{'loss': 0.7292, 'grad_norm': 0.7092527747154236, 'learning_rate': 2.1830065359477124e-05, 'epoch': 1.0893246187363834}\n",
            "{'eval_loss': 0.681006133556366, 'eval_accuracy': 0.6053921568627451, 'eval_f1': 0.6990654205607477, 'eval_runtime': 0.5485, 'eval_samples_per_second': 743.862, 'eval_steps_per_second': 92.983, 'epoch': 2.0}\n",
            "{'loss': 0.6908, 'grad_norm': 1.20039963722229, 'learning_rate': 1.366013071895425e-05, 'epoch': 2.178649237472767}\n",
            "{'eval_loss': 0.6656765937805176, 'eval_accuracy': 0.6519607843137255, 'eval_f1': 0.7656765676567657, 'eval_runtime': 0.5161, 'eval_samples_per_second': 790.569, 'eval_steps_per_second': 98.821, 'epoch': 3.0}\n",
            "{'loss': 0.6677, 'grad_norm': 0.753052294254303, 'learning_rate': 5.490196078431373e-06, 'epoch': 3.2679738562091503}\n",
            "{'eval_loss': 0.6615055799484253, 'eval_accuracy': 0.6617647058823529, 'eval_f1': 0.775974025974026, 'eval_runtime': 0.5396, 'eval_samples_per_second': 756.153, 'eval_steps_per_second': 94.519, 'epoch': 4.0}\n",
            "{'train_runtime': 19.9231, 'train_samples_per_second': 736.43, 'train_steps_per_second': 92.154, 'train_loss': 0.6904817635197525, 'epoch': 4.0}\n",
            "{'eval_loss': 0.6615055799484253, 'eval_accuracy': 0.6617647058823529, 'eval_f1': 0.775974025974026, 'eval_runtime': 0.5048, 'eval_samples_per_second': 808.182, 'eval_steps_per_second': 101.023, 'epoch': 4.0}\n",
            "Progress: 25/2500\n",
            "Total Parameters=4387202, Trainable Parameters=1024\n",
            "{'eval_loss': 0.624168872833252, 'eval_accuracy': 0.6862745098039216, 'eval_f1': 0.8123167155425219, 'eval_runtime': 0.4388, 'eval_samples_per_second': 929.908, 'eval_steps_per_second': 59.259, 'epoch': 1.0}\n",
            "{'eval_loss': 0.618809700012207, 'eval_accuracy': 0.6911764705882353, 'eval_f1': 0.8147058823529412, 'eval_runtime': 0.4563, 'eval_samples_per_second': 894.083, 'eval_steps_per_second': 56.976, 'epoch': 2.0}\n",
            "{'loss': 0.6397, 'grad_norm': 0.5458133220672607, 'learning_rate': 0.00013695652173913042, 'epoch': 2.1739130434782608}\n",
            "{'eval_loss': 0.6176239252090454, 'eval_accuracy': 0.6911764705882353, 'eval_f1': 0.8141592920353983, 'eval_runtime': 0.383, 'eval_samples_per_second': 1065.211, 'eval_steps_per_second': 67.881, 'epoch': 3.0}\n",
            "{'eval_loss': 0.616595983505249, 'eval_accuracy': 0.6936274509803921, 'eval_f1': 0.8153618906942393, 'eval_runtime': 0.3887, 'eval_samples_per_second': 1049.764, 'eval_steps_per_second': 66.897, 'epoch': 4.0}\n",
            "{'train_runtime': 11.6342, 'train_samples_per_second': 1261.114, 'train_steps_per_second': 79.077, 'train_loss': 0.6298254261846128, 'epoch': 4.0}\n",
            "{'eval_loss': 0.616595983505249, 'eval_accuracy': 0.6936274509803921, 'eval_f1': 0.8153618906942393, 'eval_runtime': 0.4215, 'eval_samples_per_second': 967.962, 'eval_steps_per_second': 61.684, 'epoch': 4.0}\n",
            "Progress: 26/2500\n",
            "Total Parameters=4387202, Trainable Parameters=1024\n",
            "{'eval_loss': 0.6690982580184937, 'eval_accuracy': 0.6495098039215687, 'eval_f1': 0.7596638655462185, 'eval_runtime': 0.3919, 'eval_samples_per_second': 1041.06, 'eval_steps_per_second': 66.342, 'epoch': 1.0}\n",
            "{'eval_loss': 0.6363860368728638, 'eval_accuracy': 0.6838235294117647, 'eval_f1': 0.806015037593985, 'eval_runtime': 0.4567, 'eval_samples_per_second': 893.378, 'eval_steps_per_second': 56.931, 'epoch': 2.0}\n",
            "{'loss': 0.6766, 'grad_norm': 0.44314324855804443, 'learning_rate': 4.565217391304348e-05, 'epoch': 2.1739130434782608}\n",
            "{'eval_loss': 0.6290135383605957, 'eval_accuracy': 0.6911764705882353, 'eval_f1': 0.8136094674556213, 'eval_runtime': 0.4524, 'eval_samples_per_second': 901.913, 'eval_steps_per_second': 57.475, 'epoch': 3.0}\n",
            "{'eval_loss': 0.6274420619010925, 'eval_accuracy': 0.6862745098039216, 'eval_f1': 0.8112094395280236, 'eval_runtime': 0.3965, 'eval_samples_per_second': 1028.877, 'eval_steps_per_second': 65.566, 'epoch': 4.0}\n",
            "{'train_runtime': 11.5129, 'train_samples_per_second': 1274.402, 'train_steps_per_second': 79.911, 'train_loss': 0.6559569980787194, 'epoch': 4.0}\n",
            "{'eval_loss': 0.6274420619010925, 'eval_accuracy': 0.6862745098039216, 'eval_f1': 0.8112094395280236, 'eval_runtime': 0.4056, 'eval_samples_per_second': 1005.989, 'eval_steps_per_second': 64.107, 'epoch': 4.0}\n",
            "Progress: 27/2500\n",
            "Total Parameters=4387202, Trainable Parameters=1024\n",
            "{'eval_loss': 0.7133082747459412, 'eval_accuracy': 0.35784313725490197, 'eval_f1': 0.1761006289308176, 'eval_runtime': 0.4012, 'eval_samples_per_second': 1017.075, 'eval_steps_per_second': 64.814, 'epoch': 1.0}\n",
            "{'eval_loss': 0.6800655126571655, 'eval_accuracy': 0.6127450980392157, 'eval_f1': 0.7074074074074074, 'eval_runtime': 0.373, 'eval_samples_per_second': 1093.775, 'eval_steps_per_second': 69.701, 'epoch': 2.0}\n",
            "{'loss': 0.7095, 'grad_norm': 0.47589099407196045, 'learning_rate': 2.282608695652174e-05, 'epoch': 2.1739130434782608}\n",
            "{'eval_loss': 0.6642559170722961, 'eval_accuracy': 0.6593137254901961, 'eval_f1': 0.7725040916530278, 'eval_runtime': 0.3943, 'eval_samples_per_second': 1034.875, 'eval_steps_per_second': 65.948, 'epoch': 3.0}\n",
            "{'eval_loss': 0.6596514582633972, 'eval_accuracy': 0.6642156862745098, 'eval_f1': 0.7800963081861958, 'eval_runtime': 0.3868, 'eval_samples_per_second': 1054.94, 'eval_steps_per_second': 67.227, 'epoch': 4.0}\n",
            "{'train_runtime': 11.3253, 'train_samples_per_second': 1295.503, 'train_steps_per_second': 81.234, 'train_loss': 0.6895348258640455, 'epoch': 4.0}\n",
            "{'eval_loss': 0.6596514582633972, 'eval_accuracy': 0.6642156862745098, 'eval_f1': 0.7800963081861958, 'eval_runtime': 0.4711, 'eval_samples_per_second': 866.03, 'eval_steps_per_second': 55.188, 'epoch': 4.0}\n",
            "Progress: 28/2500\n",
            "Total Parameters=4387202, Trainable Parameters=1024\n",
            "{'eval_loss': 0.7314130663871765, 'eval_accuracy': 0.31862745098039214, 'eval_f1': 0.007142857142857143, 'eval_runtime': 0.3773, 'eval_samples_per_second': 1081.509, 'eval_steps_per_second': 68.92, 'epoch': 1.0}\n",
            "{'eval_loss': 0.7117631435394287, 'eval_accuracy': 0.37254901960784315, 'eval_f1': 0.2147239263803681, 'eval_runtime': 0.4117, 'eval_samples_per_second': 991.063, 'eval_steps_per_second': 63.156, 'epoch': 2.0}\n",
            "{'loss': 0.7275, 'grad_norm': 0.5806406140327454, 'learning_rate': 1.3695652173913042e-05, 'epoch': 2.1739130434782608}\n",
            "{'eval_loss': 0.6996377110481262, 'eval_accuracy': 0.4534313725490196, 'eval_f1': 0.45742092457420924, 'eval_runtime': 0.38, 'eval_samples_per_second': 1073.65, 'eval_steps_per_second': 68.419, 'epoch': 3.0}\n",
            "{'eval_loss': 0.6956103444099426, 'eval_accuracy': 0.5073529411764706, 'eval_f1': 0.5503355704697986, 'eval_runtime': 0.3928, 'eval_samples_per_second': 1038.798, 'eval_steps_per_second': 66.198, 'epoch': 4.0}\n",
            "{'train_runtime': 11.3557, 'train_samples_per_second': 1292.044, 'train_steps_per_second': 81.017, 'train_loss': 0.7141179955523947, 'epoch': 4.0}\n",
            "{'eval_loss': 0.6956103444099426, 'eval_accuracy': 0.5073529411764706, 'eval_f1': 0.5503355704697986, 'eval_runtime': 0.4258, 'eval_samples_per_second': 958.266, 'eval_steps_per_second': 61.066, 'epoch': 4.0}\n",
            "Progress: 29/2500\n",
            "Total Parameters=4387202, Trainable Parameters=1024\n",
            "{'eval_loss': 0.6342222690582275, 'eval_accuracy': 0.6813725490196079, 'eval_f1': 0.8059701492537313, 'eval_runtime': 0.3585, 'eval_samples_per_second': 1138.045, 'eval_steps_per_second': 36.261, 'epoch': 1.0}\n",
            "{'eval_loss': 0.6231908798217773, 'eval_accuracy': 0.6838235294117647, 'eval_f1': 0.8100147275405007, 'eval_runtime': 0.3587, 'eval_samples_per_second': 1137.404, 'eval_steps_per_second': 36.241, 'epoch': 2.0}\n",
            "{'eval_loss': 0.621665358543396, 'eval_accuracy': 0.6862745098039216, 'eval_f1': 0.8112094395280236, 'eval_runtime': 0.3305, 'eval_samples_per_second': 1234.336, 'eval_steps_per_second': 39.329, 'epoch': 3.0}\n",
            "{'eval_loss': 0.6211062669754028, 'eval_accuracy': 0.6862745098039216, 'eval_f1': 0.8106508875739645, 'eval_runtime': 0.3385, 'eval_samples_per_second': 1205.268, 'eval_steps_per_second': 38.403, 'epoch': 4.0}\n",
            "{'train_runtime': 7.7648, 'train_samples_per_second': 1889.564, 'train_steps_per_second': 59.242, 'train_loss': 0.6405872510827106, 'epoch': 4.0}\n",
            "{'eval_loss': 0.6211062669754028, 'eval_accuracy': 0.6862745098039216, 'eval_f1': 0.8106508875739645, 'eval_runtime': 0.4761, 'eval_samples_per_second': 856.936, 'eval_steps_per_second': 27.304, 'epoch': 4.0}\n",
            "Progress: 30/2500\n",
            "Total Parameters=4387202, Trainable Parameters=1024\n",
            "{'eval_loss': 0.70732182264328, 'eval_accuracy': 0.39705882352941174, 'eval_f1': 0.3050847457627119, 'eval_runtime': 0.3653, 'eval_samples_per_second': 1116.916, 'eval_steps_per_second': 35.588, 'epoch': 1.0}\n",
            "{'eval_loss': 0.6700288653373718, 'eval_accuracy': 0.6397058823529411, 'eval_f1': 0.751269035532995, 'eval_runtime': 0.3318, 'eval_samples_per_second': 1229.774, 'eval_steps_per_second': 39.184, 'epoch': 2.0}\n",
            "{'eval_loss': 0.6537978053092957, 'eval_accuracy': 0.6740196078431373, 'eval_f1': 0.7937984496124031, 'eval_runtime': 0.3734, 'eval_samples_per_second': 1092.717, 'eval_steps_per_second': 34.817, 'epoch': 3.0}\n",
            "{'eval_loss': 0.6494660973548889, 'eval_accuracy': 0.6715686274509803, 'eval_f1': 0.7938461538461539, 'eval_runtime': 0.3883, 'eval_samples_per_second': 1050.68, 'eval_steps_per_second': 33.478, 'epoch': 4.0}\n",
            "{'train_runtime': 7.8715, 'train_samples_per_second': 1863.934, 'train_steps_per_second': 58.438, 'train_loss': 0.6832222980001699, 'epoch': 4.0}\n",
            "{'eval_loss': 0.6494660973548889, 'eval_accuracy': 0.6715686274509803, 'eval_f1': 0.7938461538461539, 'eval_runtime': 0.3621, 'eval_samples_per_second': 1126.667, 'eval_steps_per_second': 35.899, 'epoch': 4.0}\n",
            "Progress: 31/2500\n",
            "Total Parameters=4387202, Trainable Parameters=1024\n",
            "{'eval_loss': 0.7328468561172485, 'eval_accuracy': 0.31862745098039214, 'eval_f1': 0.007142857142857143, 'eval_runtime': 0.3349, 'eval_samples_per_second': 1218.441, 'eval_steps_per_second': 38.823, 'epoch': 1.0}\n",
            "{'eval_loss': 0.7145857214927673, 'eval_accuracy': 0.34558823529411764, 'eval_f1': 0.13592233009708737, 'eval_runtime': 0.3819, 'eval_samples_per_second': 1068.364, 'eval_steps_per_second': 34.041, 'epoch': 2.0}\n",
            "{'eval_loss': 0.7027550339698792, 'eval_accuracy': 0.41911764705882354, 'eval_f1': 0.381201044386423, 'eval_runtime': 0.3664, 'eval_samples_per_second': 1113.686, 'eval_steps_per_second': 35.485, 'epoch': 3.0}\n",
            "{'eval_loss': 0.698790431022644, 'eval_accuracy': 0.45588235294117646, 'eval_f1': 0.4714285714285714, 'eval_runtime': 0.437, 'eval_samples_per_second': 933.535, 'eval_steps_per_second': 29.745, 'epoch': 4.0}\n",
            "{'train_runtime': 7.861, 'train_samples_per_second': 1866.432, 'train_steps_per_second': 58.517, 'train_loss': 0.7170496401579484, 'epoch': 4.0}\n",
            "{'eval_loss': 0.698790431022644, 'eval_accuracy': 0.45588235294117646, 'eval_f1': 0.4714285714285714, 'eval_runtime': 0.4634, 'eval_samples_per_second': 880.495, 'eval_steps_per_second': 28.055, 'epoch': 4.0}\n",
            "Progress: 32/2500\n",
            "Total Parameters=4387202, Trainable Parameters=1024\n",
            "{'eval_loss': 0.7420257329940796, 'eval_accuracy': 0.3161764705882353, 'eval_f1': 0.0, 'eval_runtime': 0.3482, 'eval_samples_per_second': 1171.594, 'eval_steps_per_second': 37.33, 'epoch': 1.0}\n",
            "{'eval_loss': 0.7321144342422485, 'eval_accuracy': 0.31862745098039214, 'eval_f1': 0.007142857142857143, 'eval_runtime': 0.3581, 'eval_samples_per_second': 1139.384, 'eval_steps_per_second': 36.304, 'epoch': 2.0}\n",
            "{'eval_loss': 0.7257580757141113, 'eval_accuracy': 0.31862745098039214, 'eval_f1': 0.02112676056338028, 'eval_runtime': 0.3859, 'eval_samples_per_second': 1057.315, 'eval_steps_per_second': 33.689, 'epoch': 3.0}\n",
            "{'eval_loss': 0.723508894443512, 'eval_accuracy': 0.3161764705882353, 'eval_f1': 0.021052631578947368, 'eval_runtime': 0.3783, 'eval_samples_per_second': 1078.559, 'eval_steps_per_second': 34.366, 'epoch': 4.0}\n",
            "{'train_runtime': 7.8701, 'train_samples_per_second': 1864.272, 'train_steps_per_second': 58.449, 'train_loss': 0.7325950290845789, 'epoch': 4.0}\n",
            "{'eval_loss': 0.723508894443512, 'eval_accuracy': 0.3161764705882353, 'eval_f1': 0.021052631578947368, 'eval_runtime': 0.3374, 'eval_samples_per_second': 1209.273, 'eval_steps_per_second': 38.531, 'epoch': 4.0}\n",
            "Progress: 33/2500\n",
            "Total Parameters=4387202, Trainable Parameters=1024\n",
            "{'eval_loss': 0.6763866543769836, 'eval_accuracy': 0.6225490196078431, 'eval_f1': 0.725, 'eval_runtime': 0.298, 'eval_samples_per_second': 1369.257, 'eval_steps_per_second': 23.492, 'epoch': 1.0}\n",
            "{'eval_loss': 0.6373472213745117, 'eval_accuracy': 0.6862745098039216, 'eval_f1': 0.8072289156626506, 'eval_runtime': 0.3354, 'eval_samples_per_second': 1216.506, 'eval_steps_per_second': 20.871, 'epoch': 2.0}\n",
            "{'eval_loss': 0.6285027861595154, 'eval_accuracy': 0.6862745098039216, 'eval_f1': 0.8112094395280236, 'eval_runtime': 0.4525, 'eval_samples_per_second': 901.605, 'eval_steps_per_second': 15.469, 'epoch': 3.0}\n",
            "{'eval_loss': 0.6271914839744568, 'eval_accuracy': 0.6813725490196079, 'eval_f1': 0.8088235294117647, 'eval_runtime': 0.3565, 'eval_samples_per_second': 1144.353, 'eval_steps_per_second': 19.634, 'epoch': 4.0}\n",
            "{'train_runtime': 6.0839, 'train_samples_per_second': 2411.604, 'train_steps_per_second': 38.133, 'train_loss': 0.6588426787277748, 'epoch': 4.0}\n",
            "{'eval_loss': 0.6271914839744568, 'eval_accuracy': 0.6813725490196079, 'eval_f1': 0.8088235294117647, 'eval_runtime': 0.3707, 'eval_samples_per_second': 1100.505, 'eval_steps_per_second': 18.881, 'epoch': 4.0}\n",
            "Progress: 34/2500\n",
            "Total Parameters=4387202, Trainable Parameters=1024\n",
            "{'eval_loss': 0.731223464012146, 'eval_accuracy': 0.31862745098039214, 'eval_f1': 0.007142857142857143, 'eval_runtime': 0.4315, 'eval_samples_per_second': 945.487, 'eval_steps_per_second': 16.222, 'epoch': 1.0}\n",
            "{'eval_loss': 0.7103810906410217, 'eval_accuracy': 0.375, 'eval_f1': 0.23423423423423423, 'eval_runtime': 0.3354, 'eval_samples_per_second': 1216.535, 'eval_steps_per_second': 20.872, 'epoch': 2.0}\n",
            "{'eval_loss': 0.6972783207893372, 'eval_accuracy': 0.4803921568627451, 'eval_f1': 0.5092592592592593, 'eval_runtime': 0.3269, 'eval_samples_per_second': 1248.092, 'eval_steps_per_second': 21.413, 'epoch': 3.0}\n",
            "{'eval_loss': 0.6927284002304077, 'eval_accuracy': 0.5220588235294118, 'eval_f1': 0.587737843551797, 'eval_runtime': 0.3093, 'eval_samples_per_second': 1318.957, 'eval_steps_per_second': 22.629, 'epoch': 4.0}\n",
            "{'train_runtime': 5.8598, 'train_samples_per_second': 2503.843, 'train_steps_per_second': 39.592, 'train_loss': 0.7135580654801994, 'epoch': 4.0}\n",
            "{'eval_loss': 0.6927284002304077, 'eval_accuracy': 0.5220588235294118, 'eval_f1': 0.587737843551797, 'eval_runtime': 0.3603, 'eval_samples_per_second': 1132.247, 'eval_steps_per_second': 19.426, 'epoch': 4.0}\n",
            "Progress: 35/2500\n",
            "Total Parameters=4387202, Trainable Parameters=1024\n",
            "{'eval_loss': 0.7434484958648682, 'eval_accuracy': 0.3161764705882353, 'eval_f1': 0.0, 'eval_runtime': 0.3458, 'eval_samples_per_second': 1179.771, 'eval_steps_per_second': 20.241, 'epoch': 1.0}\n",
            "{'eval_loss': 0.7342860102653503, 'eval_accuracy': 0.3161764705882353, 'eval_f1': 0.0, 'eval_runtime': 0.3263, 'eval_samples_per_second': 1250.523, 'eval_steps_per_second': 21.455, 'epoch': 2.0}\n",
            "{'eval_loss': 0.7285972833633423, 'eval_accuracy': 0.31862745098039214, 'eval_f1': 0.014184397163120567, 'eval_runtime': 0.3211, 'eval_samples_per_second': 1270.591, 'eval_steps_per_second': 21.799, 'epoch': 3.0}\n",
            "{'eval_loss': 0.7265555262565613, 'eval_accuracy': 0.3161764705882353, 'eval_f1': 0.014134275618374558, 'eval_runtime': 0.3695, 'eval_samples_per_second': 1104.254, 'eval_steps_per_second': 18.946, 'epoch': 4.0}\n",
            "{'train_runtime': 5.9015, 'train_samples_per_second': 2486.146, 'train_steps_per_second': 39.312, 'train_loss': 0.7346628123316271, 'epoch': 4.0}\n",
            "{'eval_loss': 0.7265555262565613, 'eval_accuracy': 0.3161764705882353, 'eval_f1': 0.014134275618374558, 'eval_runtime': 0.3414, 'eval_samples_per_second': 1194.95, 'eval_steps_per_second': 20.502, 'epoch': 4.0}\n",
            "Progress: 36/2500\n",
            "Total Parameters=4387202, Trainable Parameters=1024\n",
            "{'eval_loss': 0.7481318712234497, 'eval_accuracy': 0.3161764705882353, 'eval_f1': 0.0, 'eval_runtime': 0.376, 'eval_samples_per_second': 1085.222, 'eval_steps_per_second': 18.619, 'epoch': 1.0}\n",
            "{'eval_loss': 0.7428916692733765, 'eval_accuracy': 0.3161764705882353, 'eval_f1': 0.0, 'eval_runtime': 0.3314, 'eval_samples_per_second': 1231.204, 'eval_steps_per_second': 21.124, 'epoch': 2.0}\n",
            "{'eval_loss': 0.739730179309845, 'eval_accuracy': 0.3161764705882353, 'eval_f1': 0.0, 'eval_runtime': 0.4302, 'eval_samples_per_second': 948.428, 'eval_steps_per_second': 16.272, 'epoch': 3.0}\n",
            "{'eval_loss': 0.7386116981506348, 'eval_accuracy': 0.3161764705882353, 'eval_f1': 0.0, 'eval_runtime': 0.3452, 'eval_samples_per_second': 1182.023, 'eval_steps_per_second': 20.28, 'epoch': 4.0}\n",
            "{'train_runtime': 5.9459, 'train_samples_per_second': 2467.573, 'train_steps_per_second': 39.018, 'train_loss': 0.7426524984425512, 'epoch': 4.0}\n",
            "{'eval_loss': 0.7386116981506348, 'eval_accuracy': 0.3161764705882353, 'eval_f1': 0.0, 'eval_runtime': 0.4582, 'eval_samples_per_second': 890.45, 'eval_steps_per_second': 15.277, 'epoch': 4.0}\n",
            "Progress: 37/2500\n",
            "Total Parameters=4387202, Trainable Parameters=1024\n",
            "{'eval_loss': 0.7163118720054626, 'eval_accuracy': 0.3284313725490196, 'eval_f1': 0.09271523178807947, 'eval_runtime': 0.3186, 'eval_samples_per_second': 1280.752, 'eval_steps_per_second': 12.556, 'epoch': 1.0}\n",
            "{'eval_loss': 0.6824800372123718, 'eval_accuracy': 0.5882352941176471, 'eval_f1': 0.6818181818181818, 'eval_runtime': 0.3231, 'eval_samples_per_second': 1262.686, 'eval_steps_per_second': 12.379, 'epoch': 2.0}\n",
            "{'eval_loss': 0.664183497428894, 'eval_accuracy': 0.6617647058823529, 'eval_f1': 0.7737704918032787, 'eval_runtime': 0.3662, 'eval_samples_per_second': 1114.259, 'eval_steps_per_second': 10.924, 'epoch': 3.0}\n",
            "{'eval_loss': 0.659213662147522, 'eval_accuracy': 0.6593137254901961, 'eval_f1': 0.7768860353130016, 'eval_runtime': 0.3523, 'eval_samples_per_second': 1158.099, 'eval_steps_per_second': 11.354, 'epoch': 4.0}\n",
            "{'train_runtime': 5.2582, 'train_samples_per_second': 2790.282, 'train_steps_per_second': 22.061, 'train_loss': 0.6922296326735924, 'epoch': 4.0}\n",
            "{'eval_loss': 0.659213662147522, 'eval_accuracy': 0.6593137254901961, 'eval_f1': 0.7768860353130016, 'eval_runtime': 0.3184, 'eval_samples_per_second': 1281.47, 'eval_steps_per_second': 12.563, 'epoch': 4.0}\n",
            "Progress: 38/2500\n",
            "Total Parameters=4387202, Trainable Parameters=1024\n",
            "{'eval_loss': 0.7427352666854858, 'eval_accuracy': 0.3161764705882353, 'eval_f1': 0.0, 'eval_runtime': 0.3005, 'eval_samples_per_second': 1357.726, 'eval_steps_per_second': 13.311, 'epoch': 1.0}\n",
            "{'eval_loss': 0.7333709597587585, 'eval_accuracy': 0.31862745098039214, 'eval_f1': 0.007142857142857143, 'eval_runtime': 0.322, 'eval_samples_per_second': 1267.019, 'eval_steps_per_second': 12.422, 'epoch': 2.0}\n",
            "{'eval_loss': 0.7272953987121582, 'eval_accuracy': 0.31862745098039214, 'eval_f1': 0.014184397163120567, 'eval_runtime': 0.3488, 'eval_samples_per_second': 1169.698, 'eval_steps_per_second': 11.468, 'epoch': 3.0}\n",
            "{'eval_loss': 0.7250537276268005, 'eval_accuracy': 0.31862745098039214, 'eval_f1': 0.02112676056338028, 'eval_runtime': 0.3855, 'eval_samples_per_second': 1058.484, 'eval_steps_per_second': 10.377, 'epoch': 4.0}\n",
            "{'train_runtime': 5.1691, 'train_samples_per_second': 2838.413, 'train_steps_per_second': 22.441, 'train_loss': 0.7337716858962486, 'epoch': 4.0}\n",
            "{'eval_loss': 0.7250537276268005, 'eval_accuracy': 0.31862745098039214, 'eval_f1': 0.02112676056338028, 'eval_runtime': 0.3485, 'eval_samples_per_second': 1170.886, 'eval_steps_per_second': 11.479, 'epoch': 4.0}\n",
            "Progress: 39/2500\n",
            "Total Parameters=4387202, Trainable Parameters=1024\n",
            "{'eval_loss': 0.7489240765571594, 'eval_accuracy': 0.3161764705882353, 'eval_f1': 0.0, 'eval_runtime': 0.2921, 'eval_samples_per_second': 1396.749, 'eval_steps_per_second': 13.694, 'epoch': 1.0}\n",
            "{'eval_loss': 0.7444689273834229, 'eval_accuracy': 0.3161764705882353, 'eval_f1': 0.0, 'eval_runtime': 0.3216, 'eval_samples_per_second': 1268.726, 'eval_steps_per_second': 12.438, 'epoch': 2.0}\n",
            "{'eval_loss': 0.7417362928390503, 'eval_accuracy': 0.3161764705882353, 'eval_f1': 0.0, 'eval_runtime': 0.311, 'eval_samples_per_second': 1311.69, 'eval_steps_per_second': 12.86, 'epoch': 3.0}\n",
            "{'eval_loss': 0.7407467365264893, 'eval_accuracy': 0.3161764705882353, 'eval_f1': 0.0, 'eval_runtime': 0.3583, 'eval_samples_per_second': 1138.61, 'eval_steps_per_second': 11.163, 'epoch': 4.0}\n",
            "{'train_runtime': 5.1427, 'train_samples_per_second': 2852.964, 'train_steps_per_second': 22.556, 'train_loss': 0.7440924808896822, 'epoch': 4.0}\n",
            "{'eval_loss': 0.7407467365264893, 'eval_accuracy': 0.3161764705882353, 'eval_f1': 0.0, 'eval_runtime': 0.4655, 'eval_samples_per_second': 876.397, 'eval_steps_per_second': 8.592, 'epoch': 4.0}\n",
            "Progress: 40/2500\n",
            "Total Parameters=4387202, Trainable Parameters=1024\n",
            "{'eval_loss': 0.7513824105262756, 'eval_accuracy': 0.3161764705882353, 'eval_f1': 0.0, 'eval_runtime': 0.2997, 'eval_samples_per_second': 1361.354, 'eval_steps_per_second': 13.347, 'epoch': 1.0}\n",
            "{'eval_loss': 0.7487399578094482, 'eval_accuracy': 0.3161764705882353, 'eval_f1': 0.0, 'eval_runtime': 0.4196, 'eval_samples_per_second': 972.426, 'eval_steps_per_second': 9.534, 'epoch': 2.0}\n",
            "{'eval_loss': 0.7471480965614319, 'eval_accuracy': 0.3161764705882353, 'eval_f1': 0.0, 'eval_runtime': 0.3511, 'eval_samples_per_second': 1161.979, 'eval_steps_per_second': 11.392, 'epoch': 3.0}\n",
            "{'eval_loss': 0.7465769648551941, 'eval_accuracy': 0.3161764705882353, 'eval_f1': 0.0, 'eval_runtime': 0.3069, 'eval_samples_per_second': 1329.311, 'eval_steps_per_second': 13.032, 'epoch': 4.0}\n",
            "{'train_runtime': 5.1048, 'train_samples_per_second': 2874.16, 'train_steps_per_second': 22.724, 'train_loss': 0.7481302064040611, 'epoch': 4.0}\n",
            "{'eval_loss': 0.7465769648551941, 'eval_accuracy': 0.3161764705882353, 'eval_f1': 0.0, 'eval_runtime': 0.3169, 'eval_samples_per_second': 1287.468, 'eval_steps_per_second': 12.622, 'epoch': 4.0}\n",
            "Progress: 41/2500\n",
            "Total Parameters=4387202, Trainable Parameters=1024\n",
            "{'eval_loss': 0.6193325519561768, 'eval_accuracy': 0.6862745098039216, 'eval_f1': 0.8106508875739645, 'eval_runtime': 0.4841, 'eval_samples_per_second': 842.847, 'eval_steps_per_second': 105.356, 'epoch': 1.0}\n",
            "{'loss': 0.6324, 'grad_norm': 1.3378976583480835, 'learning_rate': 0.00021830065359477123, 'epoch': 1.0893246187363834}\n",
            "{'eval_loss': 0.6141953468322754, 'eval_accuracy': 0.6911764705882353, 'eval_f1': 0.8136094674556213, 'eval_runtime': 0.5328, 'eval_samples_per_second': 765.721, 'eval_steps_per_second': 95.715, 'epoch': 2.0}\n",
            "{'loss': 0.6168, 'grad_norm': 1.0803943872451782, 'learning_rate': 0.00013660130718954247, 'epoch': 2.178649237472767}\n",
            "{'eval_loss': 0.6115539073944092, 'eval_accuracy': 0.6936274509803921, 'eval_f1': 0.8137108792846498, 'eval_runtime': 0.6119, 'eval_samples_per_second': 666.77, 'eval_steps_per_second': 83.346, 'epoch': 3.0}\n",
            "{'loss': 0.6074, 'grad_norm': 1.0607064962387085, 'learning_rate': 5.4901960784313716e-05, 'epoch': 3.2679738562091503}\n",
            "{'eval_loss': 0.6117095947265625, 'eval_accuracy': 0.696078431372549, 'eval_f1': 0.8149253731343283, 'eval_runtime': 0.4763, 'eval_samples_per_second': 856.672, 'eval_steps_per_second': 107.084, 'epoch': 4.0}\n",
            "{'train_runtime': 19.9811, 'train_samples_per_second': 734.293, 'train_steps_per_second': 91.887, 'train_loss': 0.6192736324401722, 'epoch': 4.0}\n",
            "{'eval_loss': 0.6117095947265625, 'eval_accuracy': 0.696078431372549, 'eval_f1': 0.8149253731343283, 'eval_runtime': 0.6122, 'eval_samples_per_second': 666.41, 'eval_steps_per_second': 83.301, 'epoch': 4.0}\n",
            "Progress: 42/2500\n",
            "Total Parameters=4387202, Trainable Parameters=1024\n",
            "{'eval_loss': 0.6260072588920593, 'eval_accuracy': 0.6862745098039216, 'eval_f1': 0.8112094395280236, 'eval_runtime': 0.5393, 'eval_samples_per_second': 756.592, 'eval_steps_per_second': 94.574, 'epoch': 1.0}\n",
            "{'loss': 0.6573, 'grad_norm': 1.369666576385498, 'learning_rate': 7.276688453159042e-05, 'epoch': 1.0893246187363834}\n",
            "{'eval_loss': 0.6214091777801514, 'eval_accuracy': 0.6862745098039216, 'eval_f1': 0.8112094395280236, 'eval_runtime': 0.519, 'eval_samples_per_second': 786.096, 'eval_steps_per_second': 98.262, 'epoch': 2.0}\n",
            "{'loss': 0.6242, 'grad_norm': 1.100629210472107, 'learning_rate': 4.5533769063180834e-05, 'epoch': 2.178649237472767}\n",
            "{'eval_loss': 0.6196784973144531, 'eval_accuracy': 0.6862745098039216, 'eval_f1': 0.8106508875739645, 'eval_runtime': 0.4908, 'eval_samples_per_second': 831.361, 'eval_steps_per_second': 103.92, 'epoch': 3.0}\n",
            "{'loss': 0.6158, 'grad_norm': 1.744248390197754, 'learning_rate': 1.8300653594771242e-05, 'epoch': 3.2679738562091503}\n",
            "{'eval_loss': 0.6194533705711365, 'eval_accuracy': 0.6862745098039216, 'eval_f1': 0.8106508875739645, 'eval_runtime': 0.4825, 'eval_samples_per_second': 845.613, 'eval_steps_per_second': 105.702, 'epoch': 4.0}\n",
            "{'train_runtime': 19.8638, 'train_samples_per_second': 738.63, 'train_steps_per_second': 92.429, 'train_loss': 0.6312798061661731, 'epoch': 4.0}\n",
            "{'eval_loss': 0.6194533705711365, 'eval_accuracy': 0.6862745098039216, 'eval_f1': 0.8106508875739645, 'eval_runtime': 0.5366, 'eval_samples_per_second': 760.335, 'eval_steps_per_second': 95.042, 'epoch': 4.0}\n",
            "Progress: 43/2500\n",
            "Total Parameters=4387202, Trainable Parameters=1024\n",
            "{'eval_loss': 0.6472150087356567, 'eval_accuracy': 0.6764705882352942, 'eval_f1': 0.7962962962962963, 'eval_runtime': 0.55, 'eval_samples_per_second': 741.847, 'eval_steps_per_second': 92.731, 'epoch': 1.0}\n",
            "{'loss': 0.687, 'grad_norm': 1.2276611328125, 'learning_rate': 3.638344226579521e-05, 'epoch': 1.0893246187363834}\n",
            "{'eval_loss': 0.6276898384094238, 'eval_accuracy': 0.6862745098039216, 'eval_f1': 0.808955223880597, 'eval_runtime': 0.4971, 'eval_samples_per_second': 820.821, 'eval_steps_per_second': 102.603, 'epoch': 2.0}\n",
            "{'loss': 0.6356, 'grad_norm': 1.2310816049575806, 'learning_rate': 2.2766884531590417e-05, 'epoch': 2.178649237472767}\n",
            "{'eval_loss': 0.6248787641525269, 'eval_accuracy': 0.6862745098039216, 'eval_f1': 0.8106508875739645, 'eval_runtime': 0.5589, 'eval_samples_per_second': 730.035, 'eval_steps_per_second': 91.254, 'epoch': 3.0}\n",
            "{'loss': 0.6236, 'grad_norm': 1.6799287796020508, 'learning_rate': 9.150326797385621e-06, 'epoch': 3.2679738562091503}\n",
            "{'eval_loss': 0.6242032051086426, 'eval_accuracy': 0.6862745098039216, 'eval_f1': 0.8106508875739645, 'eval_runtime': 0.5434, 'eval_samples_per_second': 750.871, 'eval_steps_per_second': 93.859, 'epoch': 4.0}\n",
            "{'train_runtime': 19.9155, 'train_samples_per_second': 736.713, 'train_steps_per_second': 92.19, 'train_loss': 0.6455370834450317, 'epoch': 4.0}\n",
            "{'eval_loss': 0.6242032051086426, 'eval_accuracy': 0.6862745098039216, 'eval_f1': 0.8106508875739645, 'eval_runtime': 0.5311, 'eval_samples_per_second': 768.205, 'eval_steps_per_second': 96.026, 'epoch': 4.0}\n",
            "Progress: 44/2500\n",
            "Total Parameters=4387202, Trainable Parameters=1024\n",
            "{'eval_loss': 0.6795805096626282, 'eval_accuracy': 0.6102941176470589, 'eval_f1': 0.7050092764378478, 'eval_runtime': 0.5079, 'eval_samples_per_second': 803.38, 'eval_steps_per_second': 100.423, 'epoch': 1.0}\n",
            "{'loss': 0.7097, 'grad_norm': 1.2643060684204102, 'learning_rate': 2.1830065359477124e-05, 'epoch': 1.0893246187363834}\n",
            "{'eval_loss': 0.6471513509750366, 'eval_accuracy': 0.678921568627451, 'eval_f1': 0.7975270479134466, 'eval_runtime': 0.4659, 'eval_samples_per_second': 875.712, 'eval_steps_per_second': 109.464, 'epoch': 2.0}\n",
            "{'loss': 0.6588, 'grad_norm': 1.692984938621521, 'learning_rate': 1.366013071895425e-05, 'epoch': 2.178649237472767}\n",
            "{'eval_loss': 0.6367414593696594, 'eval_accuracy': 0.6813725490196079, 'eval_f1': 0.8024316109422492, 'eval_runtime': 0.5018, 'eval_samples_per_second': 813.147, 'eval_steps_per_second': 101.643, 'epoch': 3.0}\n",
            "{'loss': 0.638, 'grad_norm': 1.8873090744018555, 'learning_rate': 5.490196078431373e-06, 'epoch': 3.2679738562091503}\n",
            "{'eval_loss': 0.6340346932411194, 'eval_accuracy': 0.6838235294117647, 'eval_f1': 0.8048411497730711, 'eval_runtime': 0.5028, 'eval_samples_per_second': 811.415, 'eval_steps_per_second': 101.427, 'epoch': 4.0}\n",
            "{'train_runtime': 19.7633, 'train_samples_per_second': 742.386, 'train_steps_per_second': 92.899, 'train_loss': 0.6638304267833436, 'epoch': 4.0}\n",
            "{'eval_loss': 0.6340346932411194, 'eval_accuracy': 0.6838235294117647, 'eval_f1': 0.8048411497730711, 'eval_runtime': 0.4768, 'eval_samples_per_second': 855.638, 'eval_steps_per_second': 106.955, 'epoch': 4.0}\n",
            "Progress: 45/2500\n",
            "Total Parameters=4387202, Trainable Parameters=1024\n",
            "{'eval_loss': 0.6213349103927612, 'eval_accuracy': 0.6887254901960784, 'eval_f1': 0.8135095447870778, 'eval_runtime': 0.4454, 'eval_samples_per_second': 915.983, 'eval_steps_per_second': 58.371, 'epoch': 1.0}\n",
            "{'eval_loss': 0.617218554019928, 'eval_accuracy': 0.6887254901960784, 'eval_f1': 0.8118518518518518, 'eval_runtime': 0.4055, 'eval_samples_per_second': 1006.157, 'eval_steps_per_second': 64.118, 'epoch': 2.0}\n",
            "{'loss': 0.6285, 'grad_norm': 1.0690110921859741, 'learning_rate': 0.00013695652173913042, 'epoch': 2.1739130434782608}\n",
            "{'eval_loss': 0.6154178380966187, 'eval_accuracy': 0.6862745098039216, 'eval_f1': 0.808955223880597, 'eval_runtime': 0.3888, 'eval_samples_per_second': 1049.508, 'eval_steps_per_second': 66.88, 'epoch': 3.0}\n",
            "{'eval_loss': 0.6154399514198303, 'eval_accuracy': 0.6862745098039216, 'eval_f1': 0.808955223880597, 'eval_runtime': 0.4573, 'eval_samples_per_second': 892.216, 'eval_steps_per_second': 56.857, 'epoch': 4.0}\n",
            "{'train_runtime': 11.5215, 'train_samples_per_second': 1273.444, 'train_steps_per_second': 79.851, 'train_loss': 0.6220071212105129, 'epoch': 4.0}\n",
            "{'eval_loss': 0.6154399514198303, 'eval_accuracy': 0.6862745098039216, 'eval_f1': 0.808955223880597, 'eval_runtime': 0.3757, 'eval_samples_per_second': 1086.116, 'eval_steps_per_second': 69.213, 'epoch': 4.0}\n",
            "Progress: 46/2500\n",
            "Total Parameters=4387202, Trainable Parameters=1024\n",
            "{'eval_loss': 0.6353374719619751, 'eval_accuracy': 0.6862745098039216, 'eval_f1': 0.8072289156626506, 'eval_runtime': 0.5254, 'eval_samples_per_second': 776.564, 'eval_steps_per_second': 49.487, 'epoch': 1.0}\n",
            "{'eval_loss': 0.6242235898971558, 'eval_accuracy': 0.6862745098039216, 'eval_f1': 0.8117647058823529, 'eval_runtime': 0.4053, 'eval_samples_per_second': 1006.55, 'eval_steps_per_second': 64.143, 'epoch': 2.0}\n",
            "{'loss': 0.6529, 'grad_norm': 0.7545903921127319, 'learning_rate': 4.565217391304348e-05, 'epoch': 2.1739130434782608}\n",
            "{'eval_loss': 0.623149037361145, 'eval_accuracy': 0.6862745098039216, 'eval_f1': 0.8117647058823529, 'eval_runtime': 0.3819, 'eval_samples_per_second': 1068.371, 'eval_steps_per_second': 68.082, 'epoch': 3.0}\n",
            "{'eval_loss': 0.6225054860115051, 'eval_accuracy': 0.6862745098039216, 'eval_f1': 0.8117647058823529, 'eval_runtime': 0.4024, 'eval_samples_per_second': 1013.822, 'eval_steps_per_second': 64.606, 'epoch': 4.0}\n",
            "{'train_runtime': 11.4737, 'train_samples_per_second': 1278.746, 'train_steps_per_second': 80.183, 'train_loss': 0.639190673828125, 'epoch': 4.0}\n",
            "{'eval_loss': 0.6225054860115051, 'eval_accuracy': 0.6862745098039216, 'eval_f1': 0.8117647058823529, 'eval_runtime': 0.3655, 'eval_samples_per_second': 1116.265, 'eval_steps_per_second': 71.135, 'epoch': 4.0}\n",
            "Progress: 47/2500\n",
            "Total Parameters=4387202, Trainable Parameters=1024\n",
            "{'eval_loss': 0.675983726978302, 'eval_accuracy': 0.6200980392156863, 'eval_f1': 0.7217235188509874, 'eval_runtime': 0.377, 'eval_samples_per_second': 1082.295, 'eval_steps_per_second': 68.97, 'epoch': 1.0}\n",
            "{'eval_loss': 0.6429818868637085, 'eval_accuracy': 0.6764705882352942, 'eval_f1': 0.7981651376146789, 'eval_runtime': 0.4551, 'eval_samples_per_second': 896.469, 'eval_steps_per_second': 57.128, 'epoch': 2.0}\n",
            "{'loss': 0.6813, 'grad_norm': 0.8136300444602966, 'learning_rate': 2.282608695652174e-05, 'epoch': 2.1739130434782608}\n",
            "{'eval_loss': 0.6336894035339355, 'eval_accuracy': 0.6838235294117647, 'eval_f1': 0.806015037593985, 'eval_runtime': 0.5514, 'eval_samples_per_second': 739.88, 'eval_steps_per_second': 47.149, 'epoch': 3.0}\n",
            "{'eval_loss': 0.6315215826034546, 'eval_accuracy': 0.6813725490196079, 'eval_f1': 0.8048048048048048, 'eval_runtime': 0.3708, 'eval_samples_per_second': 1100.446, 'eval_steps_per_second': 70.126, 'epoch': 4.0}\n",
            "{'train_runtime': 11.5692, 'train_samples_per_second': 1268.195, 'train_steps_per_second': 79.522, 'train_loss': 0.6606088721233866, 'epoch': 4.0}\n",
            "{'eval_loss': 0.6315215826034546, 'eval_accuracy': 0.6813725490196079, 'eval_f1': 0.8048048048048048, 'eval_runtime': 0.4149, 'eval_samples_per_second': 983.351, 'eval_steps_per_second': 62.665, 'epoch': 4.0}\n",
            "Progress: 48/2500\n",
            "Total Parameters=4387202, Trainable Parameters=1024\n",
            "{'eval_loss': 0.7071996331214905, 'eval_accuracy': 0.3872549019607843, 'eval_f1': 0.3016759776536313, 'eval_runtime': 0.378, 'eval_samples_per_second': 1079.377, 'eval_steps_per_second': 68.784, 'epoch': 1.0}\n",
            "{'eval_loss': 0.6741295456886292, 'eval_accuracy': 0.6200980392156863, 'eval_f1': 0.7266313932980599, 'eval_runtime': 0.4732, 'eval_samples_per_second': 862.213, 'eval_steps_per_second': 54.945, 'epoch': 2.0}\n",
            "{'loss': 0.7047, 'grad_norm': 0.9193987846374512, 'learning_rate': 1.3695652173913042e-05, 'epoch': 2.1739130434782608}\n",
            "{'eval_loss': 0.6598029136657715, 'eval_accuracy': 0.6666666666666666, 'eval_f1': 0.7792207792207793, 'eval_runtime': 0.3651, 'eval_samples_per_second': 1117.455, 'eval_steps_per_second': 71.21, 'epoch': 3.0}\n",
            "{'eval_loss': 0.6556361317634583, 'eval_accuracy': 0.6666666666666666, 'eval_f1': 0.7834394904458599, 'eval_runtime': 0.4762, 'eval_samples_per_second': 856.736, 'eval_steps_per_second': 54.596, 'epoch': 4.0}\n",
            "{'train_runtime': 11.6764, 'train_samples_per_second': 1256.55, 'train_steps_per_second': 78.791, 'train_loss': 0.6849991508152173, 'epoch': 4.0}\n",
            "{'eval_loss': 0.6556361317634583, 'eval_accuracy': 0.6666666666666666, 'eval_f1': 0.7834394904458599, 'eval_runtime': 0.4091, 'eval_samples_per_second': 997.337, 'eval_steps_per_second': 63.556, 'epoch': 4.0}\n",
            "Progress: 49/2500\n",
            "Total Parameters=4387202, Trainable Parameters=1024\n",
            "{'eval_loss': 0.6239275336265564, 'eval_accuracy': 0.6838235294117647, 'eval_f1': 0.8100147275405007, 'eval_runtime': 0.3747, 'eval_samples_per_second': 1088.766, 'eval_steps_per_second': 34.691, 'epoch': 1.0}\n",
            "{'eval_loss': 0.6179218292236328, 'eval_accuracy': 0.6838235294117647, 'eval_f1': 0.8083209509658247, 'eval_runtime': 0.3764, 'eval_samples_per_second': 1084.094, 'eval_steps_per_second': 34.542, 'epoch': 2.0}\n",
            "{'eval_loss': 0.6173927187919617, 'eval_accuracy': 0.6838235294117647, 'eval_f1': 0.8083209509658247, 'eval_runtime': 0.3539, 'eval_samples_per_second': 1152.884, 'eval_steps_per_second': 36.734, 'epoch': 3.0}\n",
            "{'eval_loss': 0.616874635219574, 'eval_accuracy': 0.6862745098039216, 'eval_f1': 0.8095238095238095, 'eval_runtime': 0.347, 'eval_samples_per_second': 1175.807, 'eval_steps_per_second': 37.464, 'epoch': 4.0}\n",
            "{'train_runtime': 7.7434, 'train_samples_per_second': 1894.777, 'train_steps_per_second': 59.405, 'train_loss': 0.62912365457286, 'epoch': 4.0}\n",
            "{'eval_loss': 0.616874635219574, 'eval_accuracy': 0.6862745098039216, 'eval_f1': 0.8095238095238095, 'eval_runtime': 0.3491, 'eval_samples_per_second': 1168.82, 'eval_steps_per_second': 37.242, 'epoch': 4.0}\n",
            "Progress: 50/2500\n",
            "Total Parameters=4387202, Trainable Parameters=1024\n",
            "{'eval_loss': 0.6638776063919067, 'eval_accuracy': 0.6617647058823529, 'eval_f1': 0.7730263157894737, 'eval_runtime': 0.5627, 'eval_samples_per_second': 725.058, 'eval_steps_per_second': 23.102, 'epoch': 1.0}\n",
            "{'eval_loss': 0.632932186126709, 'eval_accuracy': 0.6813725490196079, 'eval_f1': 0.8048048048048048, 'eval_runtime': 0.3493, 'eval_samples_per_second': 1168.023, 'eval_steps_per_second': 37.216, 'epoch': 2.0}\n",
            "{'eval_loss': 0.6279576420783997, 'eval_accuracy': 0.678921568627451, 'eval_f1': 0.8053491827637445, 'eval_runtime': 0.425, 'eval_samples_per_second': 960.087, 'eval_steps_per_second': 30.591, 'epoch': 3.0}\n",
            "{'eval_loss': 0.626919150352478, 'eval_accuracy': 0.6813725490196079, 'eval_f1': 0.8071216617210683, 'eval_runtime': 0.3716, 'eval_samples_per_second': 1098.083, 'eval_steps_per_second': 34.988, 'epoch': 4.0}\n",
            "{'train_runtime': 8.0236, 'train_samples_per_second': 1828.605, 'train_steps_per_second': 57.331, 'train_loss': 0.6539457901664402, 'epoch': 4.0}\n",
            "{'eval_loss': 0.626919150352478, 'eval_accuracy': 0.6813725490196079, 'eval_f1': 0.8071216617210683, 'eval_runtime': 0.3414, 'eval_samples_per_second': 1195.159, 'eval_steps_per_second': 38.081, 'epoch': 4.0}\n",
            "Progress: 51/2500\n",
            "Total Parameters=4387202, Trainable Parameters=1024\n",
            "{'eval_loss': 0.7091423273086548, 'eval_accuracy': 0.3872549019607843, 'eval_f1': 0.2774566473988439, 'eval_runtime': 0.4191, 'eval_samples_per_second': 973.4, 'eval_steps_per_second': 31.015, 'epoch': 1.0}\n",
            "{'eval_loss': 0.6751417517662048, 'eval_accuracy': 0.6176470588235294, 'eval_f1': 0.7214285714285714, 'eval_runtime': 0.396, 'eval_samples_per_second': 1030.409, 'eval_steps_per_second': 32.832, 'epoch': 2.0}\n",
            "{'eval_loss': 0.6593069434165955, 'eval_accuracy': 0.6593137254901961, 'eval_f1': 0.7739837398373983, 'eval_runtime': 0.3497, 'eval_samples_per_second': 1166.793, 'eval_steps_per_second': 37.177, 'epoch': 3.0}\n",
            "{'eval_loss': 0.6549235582351685, 'eval_accuracy': 0.6666666666666666, 'eval_f1': 0.7848101265822784, 'eval_runtime': 0.3969, 'eval_samples_per_second': 1028.089, 'eval_steps_per_second': 32.758, 'epoch': 4.0}\n",
            "{'train_runtime': 7.899, 'train_samples_per_second': 1857.461, 'train_steps_per_second': 58.236, 'train_loss': 0.6867035575534987, 'epoch': 4.0}\n",
            "{'eval_loss': 0.6549235582351685, 'eval_accuracy': 0.6666666666666666, 'eval_f1': 0.7848101265822784, 'eval_runtime': 0.3335, 'eval_samples_per_second': 1223.487, 'eval_steps_per_second': 38.984, 'epoch': 4.0}\n",
            "Progress: 52/2500\n",
            "Total Parameters=4387202, Trainable Parameters=1024\n",
            "{'eval_loss': 0.728518545627594, 'eval_accuracy': 0.31862745098039214, 'eval_f1': 0.014184397163120567, 'eval_runtime': 0.3576, 'eval_samples_per_second': 1140.821, 'eval_steps_per_second': 36.35, 'epoch': 1.0}\n",
            "{'eval_loss': 0.7078663110733032, 'eval_accuracy': 0.39705882352941174, 'eval_f1': 0.3050847457627119, 'eval_runtime': 0.3876, 'eval_samples_per_second': 1052.525, 'eval_steps_per_second': 33.536, 'epoch': 2.0}\n",
            "{'eval_loss': 0.6949083209037781, 'eval_accuracy': 0.5171568627450981, 'eval_f1': 0.567032967032967, 'eval_runtime': 0.3689, 'eval_samples_per_second': 1105.846, 'eval_steps_per_second': 35.235, 'epoch': 3.0}\n",
            "{'eval_loss': 0.6907250881195068, 'eval_accuracy': 0.5269607843137255, 'eval_f1': 0.5970772442588727, 'eval_runtime': 0.3939, 'eval_samples_per_second': 1035.79, 'eval_steps_per_second': 33.003, 'epoch': 4.0}\n",
            "{'train_runtime': 7.9135, 'train_samples_per_second': 1854.046, 'train_steps_per_second': 58.128, 'train_loss': 0.7114541095236073, 'epoch': 4.0}\n",
            "{'eval_loss': 0.6907250881195068, 'eval_accuracy': 0.5269607843137255, 'eval_f1': 0.5970772442588727, 'eval_runtime': 0.3467, 'eval_samples_per_second': 1176.732, 'eval_steps_per_second': 37.494, 'epoch': 4.0}\n",
            "Progress: 53/2500\n",
            "Total Parameters=4387202, Trainable Parameters=1024\n",
            "{'eval_loss': 0.63508141040802, 'eval_accuracy': 0.678921568627451, 'eval_f1': 0.8030075187969925, 'eval_runtime': 0.3204, 'eval_samples_per_second': 1273.455, 'eval_steps_per_second': 21.848, 'epoch': 1.0}\n",
            "{'eval_loss': 0.6230634450912476, 'eval_accuracy': 0.6862745098039216, 'eval_f1': 0.8117647058823529, 'eval_runtime': 0.3783, 'eval_samples_per_second': 1078.585, 'eval_steps_per_second': 18.505, 'epoch': 2.0}\n",
            "{'eval_loss': 0.6212981939315796, 'eval_accuracy': 0.6887254901960784, 'eval_f1': 0.812960235640648, 'eval_runtime': 0.3381, 'eval_samples_per_second': 1206.652, 'eval_steps_per_second': 20.702, 'epoch': 3.0}\n",
            "{'eval_loss': 0.6209790706634521, 'eval_accuracy': 0.6887254901960784, 'eval_f1': 0.8124076809453471, 'eval_runtime': 0.3764, 'eval_samples_per_second': 1083.955, 'eval_steps_per_second': 18.597, 'epoch': 4.0}\n",
            "{'train_runtime': 5.9148, 'train_samples_per_second': 2480.562, 'train_steps_per_second': 39.224, 'train_loss': 0.6399523636390423, 'epoch': 4.0}\n",
            "{'eval_loss': 0.6209790706634521, 'eval_accuracy': 0.6887254901960784, 'eval_f1': 0.8124076809453471, 'eval_runtime': 0.4159, 'eval_samples_per_second': 981.074, 'eval_steps_per_second': 16.832, 'epoch': 4.0}\n",
            "Progress: 54/2500\n",
            "Total Parameters=4387202, Trainable Parameters=1024\n",
            "{'eval_loss': 0.7055407762527466, 'eval_accuracy': 0.3946078431372549, 'eval_f1': 0.32697547683923706, 'eval_runtime': 0.3584, 'eval_samples_per_second': 1138.356, 'eval_steps_per_second': 19.531, 'epoch': 1.0}\n",
            "{'eval_loss': 0.667824387550354, 'eval_accuracy': 0.6495098039215687, 'eval_f1': 0.7596638655462185, 'eval_runtime': 0.3991, 'eval_samples_per_second': 1022.3, 'eval_steps_per_second': 17.539, 'epoch': 2.0}\n",
            "{'eval_loss': 0.6515154242515564, 'eval_accuracy': 0.678921568627451, 'eval_f1': 0.7968992248062016, 'eval_runtime': 0.3334, 'eval_samples_per_second': 1223.907, 'eval_steps_per_second': 20.998, 'epoch': 3.0}\n",
            "{'eval_loss': 0.6472551226615906, 'eval_accuracy': 0.6691176470588235, 'eval_f1': 0.7919876733436055, 'eval_runtime': 0.3248, 'eval_samples_per_second': 1256.222, 'eval_steps_per_second': 21.553, 'epoch': 4.0}\n",
            "{'train_runtime': 6.0876, 'train_samples_per_second': 2410.163, 'train_steps_per_second': 38.111, 'train_loss': 0.6809917318409887, 'epoch': 4.0}\n",
            "{'eval_loss': 0.6472551226615906, 'eval_accuracy': 0.6691176470588235, 'eval_f1': 0.7919876733436055, 'eval_runtime': 0.3737, 'eval_samples_per_second': 1091.746, 'eval_steps_per_second': 18.731, 'epoch': 4.0}\n",
            "Progress: 55/2500\n",
            "Total Parameters=4387202, Trainable Parameters=1024\n",
            "{'eval_loss': 0.7314233779907227, 'eval_accuracy': 0.3161764705882353, 'eval_f1': 0.0071174377224199285, 'eval_runtime': 0.3339, 'eval_samples_per_second': 1221.959, 'eval_steps_per_second': 20.965, 'epoch': 1.0}\n",
            "{'eval_loss': 0.7119145393371582, 'eval_accuracy': 0.3700980392156863, 'eval_f1': 0.2188449848024316, 'eval_runtime': 0.32, 'eval_samples_per_second': 1275.167, 'eval_steps_per_second': 21.878, 'epoch': 2.0}\n",
            "{'eval_loss': 0.6999610662460327, 'eval_accuracy': 0.45098039215686275, 'eval_f1': 0.4563106796116505, 'eval_runtime': 0.3922, 'eval_samples_per_second': 1040.236, 'eval_steps_per_second': 17.847, 'epoch': 3.0}\n",
            "{'eval_loss': 0.6958010196685791, 'eval_accuracy': 0.5024509803921569, 'eval_f1': 0.5417607223476298, 'eval_runtime': 0.3416, 'eval_samples_per_second': 1194.358, 'eval_steps_per_second': 20.491, 'epoch': 4.0}\n",
            "{'train_runtime': 5.9836, 'train_samples_per_second': 2452.044, 'train_steps_per_second': 38.773, 'train_loss': 0.7149119541562837, 'epoch': 4.0}\n",
            "{'eval_loss': 0.6958010196685791, 'eval_accuracy': 0.5024509803921569, 'eval_f1': 0.5417607223476298, 'eval_runtime': 0.3733, 'eval_samples_per_second': 1093.022, 'eval_steps_per_second': 18.753, 'epoch': 4.0}\n",
            "Progress: 56/2500\n",
            "Total Parameters=4387202, Trainable Parameters=1024\n",
            "{'eval_loss': 0.7410643100738525, 'eval_accuracy': 0.3161764705882353, 'eval_f1': 0.0, 'eval_runtime': 0.3295, 'eval_samples_per_second': 1238.301, 'eval_steps_per_second': 21.245, 'epoch': 1.0}\n",
            "{'eval_loss': 0.7301908731460571, 'eval_accuracy': 0.31862745098039214, 'eval_f1': 0.014184397163120567, 'eval_runtime': 0.3881, 'eval_samples_per_second': 1051.283, 'eval_steps_per_second': 18.037, 'epoch': 2.0}\n",
            "{'eval_loss': 0.7235295176506042, 'eval_accuracy': 0.3161764705882353, 'eval_f1': 0.021052631578947368, 'eval_runtime': 0.3795, 'eval_samples_per_second': 1075.09, 'eval_steps_per_second': 18.445, 'epoch': 3.0}\n",
            "{'eval_loss': 0.7211607098579407, 'eval_accuracy': 0.32107843137254904, 'eval_f1': 0.048109965635738834, 'eval_runtime': 0.3673, 'eval_samples_per_second': 1110.751, 'eval_steps_per_second': 19.057, 'epoch': 4.0}\n",
            "{'train_runtime': 5.8081, 'train_samples_per_second': 2526.115, 'train_steps_per_second': 39.944, 'train_loss': 0.7309564393142174, 'epoch': 4.0}\n",
            "{'eval_loss': 0.7211607098579407, 'eval_accuracy': 0.32107843137254904, 'eval_f1': 0.048109965635738834, 'eval_runtime': 0.3749, 'eval_samples_per_second': 1088.367, 'eval_steps_per_second': 18.673, 'epoch': 4.0}\n",
            "Progress: 57/2500\n",
            "Total Parameters=4387202, Trainable Parameters=1024\n",
            "{'eval_loss': 0.6770764589309692, 'eval_accuracy': 0.6151960784313726, 'eval_f1': 0.7160940325497287, 'eval_runtime': 0.3507, 'eval_samples_per_second': 1163.268, 'eval_steps_per_second': 11.405, 'epoch': 1.0}\n",
            "{'eval_loss': 0.6389957666397095, 'eval_accuracy': 0.6813725490196079, 'eval_f1': 0.803030303030303, 'eval_runtime': 0.2944, 'eval_samples_per_second': 1385.7, 'eval_steps_per_second': 13.585, 'epoch': 2.0}\n",
            "{'eval_loss': 0.6299777030944824, 'eval_accuracy': 0.6764705882352942, 'eval_f1': 0.8041543026706232, 'eval_runtime': 0.3323, 'eval_samples_per_second': 1227.667, 'eval_steps_per_second': 12.036, 'epoch': 3.0}\n",
            "{'eval_loss': 0.6287346482276917, 'eval_accuracy': 0.678921568627451, 'eval_f1': 0.8059259259259259, 'eval_runtime': 0.3279, 'eval_samples_per_second': 1244.466, 'eval_steps_per_second': 12.201, 'epoch': 4.0}\n",
            "{'train_runtime': 5.1804, 'train_samples_per_second': 2832.221, 'train_steps_per_second': 22.392, 'train_loss': 0.6597818177321861, 'epoch': 4.0}\n",
            "{'eval_loss': 0.6287346482276917, 'eval_accuracy': 0.678921568627451, 'eval_f1': 0.8059259259259259, 'eval_runtime': 0.3503, 'eval_samples_per_second': 1164.635, 'eval_steps_per_second': 11.418, 'epoch': 4.0}\n",
            "Progress: 58/2500\n",
            "Total Parameters=4387202, Trainable Parameters=1024\n",
            "{'eval_loss': 0.730250358581543, 'eval_accuracy': 0.31862745098039214, 'eval_f1': 0.014184397163120567, 'eval_runtime': 0.3547, 'eval_samples_per_second': 1150.148, 'eval_steps_per_second': 11.276, 'epoch': 1.0}\n",
            "{'eval_loss': 0.7101346254348755, 'eval_accuracy': 0.38235294117647056, 'eval_f1': 0.25, 'eval_runtime': 0.4756, 'eval_samples_per_second': 857.936, 'eval_steps_per_second': 8.411, 'epoch': 2.0}\n",
            "{'eval_loss': 0.6969529986381531, 'eval_accuracy': 0.47794117647058826, 'eval_f1': 0.5080831408775982, 'eval_runtime': 0.3924, 'eval_samples_per_second': 1039.699, 'eval_steps_per_second': 10.193, 'epoch': 3.0}\n",
            "{'eval_loss': 0.692425012588501, 'eval_accuracy': 0.5245098039215687, 'eval_f1': 0.5907172995780591, 'eval_runtime': 0.3315, 'eval_samples_per_second': 1230.673, 'eval_steps_per_second': 12.065, 'epoch': 4.0}\n",
            "{'train_runtime': 5.2983, 'train_samples_per_second': 2769.207, 'train_steps_per_second': 21.894, 'train_loss': 0.7133568073141163, 'epoch': 4.0}\n",
            "{'eval_loss': 0.692425012588501, 'eval_accuracy': 0.5245098039215687, 'eval_f1': 0.5907172995780591, 'eval_runtime': 0.3163, 'eval_samples_per_second': 1289.962, 'eval_steps_per_second': 12.647, 'epoch': 4.0}\n",
            "Progress: 59/2500\n",
            "Total Parameters=4387202, Trainable Parameters=1024\n",
            "{'eval_loss': 0.7427722811698914, 'eval_accuracy': 0.3161764705882353, 'eval_f1': 0.0, 'eval_runtime': 0.3282, 'eval_samples_per_second': 1243.115, 'eval_steps_per_second': 12.187, 'epoch': 1.0}\n",
            "{'eval_loss': 0.7336492538452148, 'eval_accuracy': 0.31862745098039214, 'eval_f1': 0.007142857142857143, 'eval_runtime': 0.3151, 'eval_samples_per_second': 1294.959, 'eval_steps_per_second': 12.696, 'epoch': 2.0}\n",
            "{'eval_loss': 0.7278839349746704, 'eval_accuracy': 0.31862745098039214, 'eval_f1': 0.014184397163120567, 'eval_runtime': 0.4308, 'eval_samples_per_second': 947.095, 'eval_steps_per_second': 9.285, 'epoch': 3.0}\n",
            "{'eval_loss': 0.7257861495018005, 'eval_accuracy': 0.31862745098039214, 'eval_f1': 0.02112676056338028, 'eval_runtime': 0.318, 'eval_samples_per_second': 1282.839, 'eval_steps_per_second': 12.577, 'epoch': 4.0}\n",
            "{'train_runtime': 5.099, 'train_samples_per_second': 2877.435, 'train_steps_per_second': 22.75, 'train_loss': 0.734076006659146, 'epoch': 4.0}\n",
            "{'eval_loss': 0.7257861495018005, 'eval_accuracy': 0.31862745098039214, 'eval_f1': 0.02112676056338028, 'eval_runtime': 0.3176, 'eval_samples_per_second': 1284.464, 'eval_steps_per_second': 12.593, 'epoch': 4.0}\n",
            "Progress: 60/2500\n",
            "Total Parameters=4387202, Trainable Parameters=1024\n",
            "{'eval_loss': 0.7476850152015686, 'eval_accuracy': 0.3161764705882353, 'eval_f1': 0.0, 'eval_runtime': 0.351, 'eval_samples_per_second': 1162.487, 'eval_steps_per_second': 11.397, 'epoch': 1.0}\n",
            "{'eval_loss': 0.7423667311668396, 'eval_accuracy': 0.3161764705882353, 'eval_f1': 0.0, 'eval_runtime': 0.3862, 'eval_samples_per_second': 1056.326, 'eval_steps_per_second': 10.356, 'epoch': 2.0}\n",
            "{'eval_loss': 0.7391296625137329, 'eval_accuracy': 0.3161764705882353, 'eval_f1': 0.0, 'eval_runtime': 0.3195, 'eval_samples_per_second': 1276.994, 'eval_steps_per_second': 12.52, 'epoch': 3.0}\n",
            "{'eval_loss': 0.7379646897315979, 'eval_accuracy': 0.3161764705882353, 'eval_f1': 0.0, 'eval_runtime': 0.3393, 'eval_samples_per_second': 1202.608, 'eval_steps_per_second': 11.79, 'epoch': 4.0}\n",
            "{'train_runtime': 5.1348, 'train_samples_per_second': 2857.36, 'train_steps_per_second': 22.591, 'train_loss': 0.742138961265827, 'epoch': 4.0}\n",
            "{'eval_loss': 0.7379646897315979, 'eval_accuracy': 0.3161764705882353, 'eval_f1': 0.0, 'eval_runtime': 0.3284, 'eval_samples_per_second': 1242.243, 'eval_steps_per_second': 12.179, 'epoch': 4.0}\n",
            "Progress: 61/2500\n",
            "Total Parameters=4387202, Trainable Parameters=1024\n",
            "{'eval_loss': 0.6182043552398682, 'eval_accuracy': 0.6936274509803921, 'eval_f1': 0.8137108792846498, 'eval_runtime': 1.1837, 'eval_samples_per_second': 344.677, 'eval_steps_per_second': 43.085, 'epoch': 1.0}\n",
            "{'loss': 0.628, 'grad_norm': 2.2053592205047607, 'learning_rate': 0.00021830065359477123, 'epoch': 1.0893246187363834}\n",
            "{'eval_loss': 0.6170656681060791, 'eval_accuracy': 0.6936274509803921, 'eval_f1': 0.8142644873699851, 'eval_runtime': 0.5092, 'eval_samples_per_second': 801.308, 'eval_steps_per_second': 100.164, 'epoch': 2.0}\n",
            "{'loss': 0.6151, 'grad_norm': 1.6207077503204346, 'learning_rate': 0.00013660130718954247, 'epoch': 2.178649237472767}\n",
            "{'eval_loss': 0.6087647676467896, 'eval_accuracy': 0.6985294117647058, 'eval_f1': 0.8161434977578476, 'eval_runtime': 0.4813, 'eval_samples_per_second': 847.656, 'eval_steps_per_second': 105.957, 'epoch': 3.0}\n",
            "{'loss': 0.6069, 'grad_norm': 2.1913321018218994, 'learning_rate': 5.4901960784313716e-05, 'epoch': 3.2679738562091503}\n",
            "{'eval_loss': 0.6106576919555664, 'eval_accuracy': 0.7009803921568627, 'eval_f1': 0.817910447761194, 'eval_runtime': 0.4933, 'eval_samples_per_second': 827.139, 'eval_steps_per_second': 103.392, 'epoch': 4.0}\n",
            "{'train_runtime': 20.3005, 'train_samples_per_second': 722.742, 'train_steps_per_second': 90.441, 'train_loss': 0.6170322692472171, 'epoch': 4.0}\n",
            "{'eval_loss': 0.6106576919555664, 'eval_accuracy': 0.7009803921568627, 'eval_f1': 0.817910447761194, 'eval_runtime': 0.4862, 'eval_samples_per_second': 839.216, 'eval_steps_per_second': 104.902, 'epoch': 4.0}\n",
            "Progress: 62/2500\n",
            "Total Parameters=4387202, Trainable Parameters=1024\n",
            "{'eval_loss': 0.6228213310241699, 'eval_accuracy': 0.6838235294117647, 'eval_f1': 0.8100147275405007, 'eval_runtime': 0.5029, 'eval_samples_per_second': 811.371, 'eval_steps_per_second': 101.421, 'epoch': 1.0}\n",
            "{'loss': 0.6405, 'grad_norm': 3.7907638549804688, 'learning_rate': 7.276688453159042e-05, 'epoch': 1.0893246187363834}\n",
            "{'eval_loss': 0.6217585802078247, 'eval_accuracy': 0.6862745098039216, 'eval_f1': 0.8100890207715133, 'eval_runtime': 0.5069, 'eval_samples_per_second': 804.936, 'eval_steps_per_second': 100.617, 'epoch': 2.0}\n",
            "{'loss': 0.6198, 'grad_norm': 1.9368984699249268, 'learning_rate': 4.5533769063180834e-05, 'epoch': 2.178649237472767}\n",
            "{'eval_loss': 0.6203659176826477, 'eval_accuracy': 0.6887254901960784, 'eval_f1': 0.8112927191679049, 'eval_runtime': 0.56, 'eval_samples_per_second': 728.509, 'eval_steps_per_second': 91.064, 'epoch': 3.0}\n",
            "{'loss': 0.6113, 'grad_norm': 3.403404474258423, 'learning_rate': 1.8300653594771242e-05, 'epoch': 3.2679738562091503}\n",
            "{'eval_loss': 0.6207820773124695, 'eval_accuracy': 0.6911764705882353, 'eval_f1': 0.8130563798219584, 'eval_runtime': 0.5061, 'eval_samples_per_second': 806.196, 'eval_steps_per_second': 100.774, 'epoch': 4.0}\n",
            "{'train_runtime': 19.7667, 'train_samples_per_second': 742.259, 'train_steps_per_second': 92.884, 'train_loss': 0.6237521784497762, 'epoch': 4.0}\n",
            "{'eval_loss': 0.6207820773124695, 'eval_accuracy': 0.6911764705882353, 'eval_f1': 0.8130563798219584, 'eval_runtime': 0.4893, 'eval_samples_per_second': 833.888, 'eval_steps_per_second': 104.236, 'epoch': 4.0}\n",
            "Progress: 63/2500\n",
            "Total Parameters=4387202, Trainable Parameters=1024\n",
            "{'eval_loss': 0.6279866695404053, 'eval_accuracy': 0.6813725490196079, 'eval_f1': 0.8065476190476191, 'eval_runtime': 0.4922, 'eval_samples_per_second': 828.897, 'eval_steps_per_second': 103.612, 'epoch': 1.0}\n",
            "{'loss': 0.6596, 'grad_norm': 2.7273144721984863, 'learning_rate': 3.638344226579521e-05, 'epoch': 1.0893246187363834}\n",
            "{'eval_loss': 0.6230160593986511, 'eval_accuracy': 0.6862745098039216, 'eval_f1': 0.8112094395280236, 'eval_runtime': 0.5194, 'eval_samples_per_second': 785.514, 'eval_steps_per_second': 98.189, 'epoch': 2.0}\n",
            "{'loss': 0.6252, 'grad_norm': 2.179733991622925, 'learning_rate': 2.2766884531590417e-05, 'epoch': 2.178649237472767}\n",
            "{'eval_loss': 0.6214218735694885, 'eval_accuracy': 0.6813725490196079, 'eval_f1': 0.8076923076923077, 'eval_runtime': 0.5173, 'eval_samples_per_second': 788.639, 'eval_steps_per_second': 98.58, 'epoch': 3.0}\n",
            "{'loss': 0.6169, 'grad_norm': 3.2059597969055176, 'learning_rate': 9.150326797385621e-06, 'epoch': 3.2679738562091503}\n",
            "{'eval_loss': 0.6208617091178894, 'eval_accuracy': 0.6813725490196079, 'eval_f1': 0.8076923076923077, 'eval_runtime': 0.5529, 'eval_samples_per_second': 737.917, 'eval_steps_per_second': 92.24, 'epoch': 4.0}\n",
            "{'train_runtime': 20.9408, 'train_samples_per_second': 700.64, 'train_steps_per_second': 87.676, 'train_loss': 0.6325367530706402, 'epoch': 4.0}\n",
            "{'eval_loss': 0.6208617091178894, 'eval_accuracy': 0.6813725490196079, 'eval_f1': 0.8076923076923077, 'eval_runtime': 0.5739, 'eval_samples_per_second': 710.895, 'eval_steps_per_second': 88.862, 'epoch': 4.0}\n",
            "Progress: 64/2500\n",
            "Total Parameters=4387202, Trainable Parameters=1024\n",
            "{'eval_loss': 0.6419795751571655, 'eval_accuracy': 0.6715686274509803, 'eval_f1': 0.7944785276073619, 'eval_runtime': 0.5032, 'eval_samples_per_second': 810.83, 'eval_steps_per_second': 101.354, 'epoch': 1.0}\n",
            "{'loss': 0.6811, 'grad_norm': 2.7547547817230225, 'learning_rate': 2.1830065359477124e-05, 'epoch': 1.0893246187363834}\n",
            "{'eval_loss': 0.6268711686134338, 'eval_accuracy': 0.678921568627451, 'eval_f1': 0.8047690014903129, 'eval_runtime': 0.5023, 'eval_samples_per_second': 812.311, 'eval_steps_per_second': 101.539, 'epoch': 2.0}\n",
            "{'loss': 0.6326, 'grad_norm': 2.427765130996704, 'learning_rate': 1.366013071895425e-05, 'epoch': 2.178649237472767}\n",
            "{'eval_loss': 0.6250705122947693, 'eval_accuracy': 0.6813725490196079, 'eval_f1': 0.8071216617210683, 'eval_runtime': 0.5367, 'eval_samples_per_second': 760.229, 'eval_steps_per_second': 95.029, 'epoch': 3.0}\n",
            "{'loss': 0.6224, 'grad_norm': 3.3797361850738525, 'learning_rate': 5.490196078431373e-06, 'epoch': 3.2679738562091503}\n",
            "{'eval_loss': 0.6244771480560303, 'eval_accuracy': 0.6838235294117647, 'eval_f1': 0.8088888888888889, 'eval_runtime': 0.6424, 'eval_samples_per_second': 635.083, 'eval_steps_per_second': 79.385, 'epoch': 4.0}\n",
            "{'train_runtime': 20.6685, 'train_samples_per_second': 709.874, 'train_steps_per_second': 88.831, 'train_loss': 0.6426295195269949, 'epoch': 4.0}\n",
            "{'eval_loss': 0.6244771480560303, 'eval_accuracy': 0.6838235294117647, 'eval_f1': 0.8088888888888889, 'eval_runtime': 0.5001, 'eval_samples_per_second': 815.814, 'eval_steps_per_second': 101.977, 'epoch': 4.0}\n",
            "Progress: 65/2500\n",
            "Total Parameters=4387202, Trainable Parameters=1024\n",
            "{'eval_loss': 0.6205220818519592, 'eval_accuracy': 0.6838235294117647, 'eval_f1': 0.8071748878923767, 'eval_runtime': 0.3865, 'eval_samples_per_second': 1055.558, 'eval_steps_per_second': 67.266, 'epoch': 1.0}\n",
            "{'eval_loss': 0.616158127784729, 'eval_accuracy': 0.6838235294117647, 'eval_f1': 0.8083209509658247, 'eval_runtime': 0.4074, 'eval_samples_per_second': 1001.578, 'eval_steps_per_second': 63.826, 'epoch': 2.0}\n",
            "{'loss': 0.6226, 'grad_norm': 1.530529260635376, 'learning_rate': 0.00013695652173913042, 'epoch': 2.1739130434782608}\n",
            "{'eval_loss': 0.6115254163742065, 'eval_accuracy': 0.6862745098039216, 'eval_f1': 0.808955223880597, 'eval_runtime': 0.3856, 'eval_samples_per_second': 1058.16, 'eval_steps_per_second': 67.432, 'epoch': 3.0}\n",
            "{'eval_loss': 0.6119776964187622, 'eval_accuracy': 0.696078431372549, 'eval_f1': 0.8138138138138138, 'eval_runtime': 0.3891, 'eval_samples_per_second': 1048.46, 'eval_steps_per_second': 66.814, 'epoch': 4.0}\n",
            "{'train_runtime': 11.5834, 'train_samples_per_second': 1266.642, 'train_steps_per_second': 79.424, 'train_loss': 0.618353039285411, 'epoch': 4.0}\n",
            "{'eval_loss': 0.6119776964187622, 'eval_accuracy': 0.696078431372549, 'eval_f1': 0.8138138138138138, 'eval_runtime': 0.3958, 'eval_samples_per_second': 1030.931, 'eval_steps_per_second': 65.697, 'epoch': 4.0}\n",
            "Progress: 66/2500\n",
            "Total Parameters=4387202, Trainable Parameters=1024\n",
            "{'eval_loss': 0.6253524422645569, 'eval_accuracy': 0.6813725490196079, 'eval_f1': 0.8082595870206489, 'eval_runtime': 0.3808, 'eval_samples_per_second': 1071.447, 'eval_steps_per_second': 68.279, 'epoch': 1.0}\n",
            "{'eval_loss': 0.6199919581413269, 'eval_accuracy': 0.6887254901960784, 'eval_f1': 0.8118518518518518, 'eval_runtime': 0.4277, 'eval_samples_per_second': 953.922, 'eval_steps_per_second': 60.789, 'epoch': 2.0}\n",
            "{'loss': 0.6374, 'grad_norm': 1.7236007452011108, 'learning_rate': 4.565217391304348e-05, 'epoch': 2.1739130434782608}\n",
            "{'eval_loss': 0.6193457841873169, 'eval_accuracy': 0.6862745098039216, 'eval_f1': 0.8100890207715133, 'eval_runtime': 0.4687, 'eval_samples_per_second': 870.498, 'eval_steps_per_second': 55.473, 'epoch': 3.0}\n",
            "{'eval_loss': 0.6186457872390747, 'eval_accuracy': 0.6862745098039216, 'eval_f1': 0.8100890207715133, 'eval_runtime': 0.3769, 'eval_samples_per_second': 1082.65, 'eval_steps_per_second': 68.992, 'epoch': 4.0}\n",
            "{'train_runtime': 11.5789, 'train_samples_per_second': 1267.136, 'train_steps_per_second': 79.455, 'train_loss': 0.6281957211701766, 'epoch': 4.0}\n",
            "{'eval_loss': 0.6186457872390747, 'eval_accuracy': 0.6862745098039216, 'eval_f1': 0.8100890207715133, 'eval_runtime': 0.4219, 'eval_samples_per_second': 967.156, 'eval_steps_per_second': 61.632, 'epoch': 4.0}\n",
            "Progress: 67/2500\n",
            "Total Parameters=4387202, Trainable Parameters=1024\n",
            "{'eval_loss': 0.639605700969696, 'eval_accuracy': 0.6813725490196079, 'eval_f1': 0.803030303030303, 'eval_runtime': 0.4684, 'eval_samples_per_second': 871.122, 'eval_steps_per_second': 55.513, 'epoch': 1.0}\n",
            "{'eval_loss': 0.626078188419342, 'eval_accuracy': 0.678921568627451, 'eval_f1': 0.8059259259259259, 'eval_runtime': 0.3763, 'eval_samples_per_second': 1084.385, 'eval_steps_per_second': 69.103, 'epoch': 2.0}\n",
            "{'loss': 0.6557, 'grad_norm': 1.6036125421524048, 'learning_rate': 2.282608695652174e-05, 'epoch': 2.1739130434782608}\n",
            "{'eval_loss': 0.6246790289878845, 'eval_accuracy': 0.6813725490196079, 'eval_f1': 0.8076923076923077, 'eval_runtime': 0.3896, 'eval_samples_per_second': 1047.268, 'eval_steps_per_second': 66.738, 'epoch': 3.0}\n",
            "{'eval_loss': 0.6240548491477966, 'eval_accuracy': 0.6838235294117647, 'eval_f1': 0.8088888888888889, 'eval_runtime': 0.3816, 'eval_samples_per_second': 1069.201, 'eval_steps_per_second': 68.135, 'epoch': 4.0}\n",
            "{'train_runtime': 12.0549, 'train_samples_per_second': 1217.098, 'train_steps_per_second': 76.317, 'train_loss': 0.6412724038828974, 'epoch': 4.0}\n",
            "{'eval_loss': 0.6240548491477966, 'eval_accuracy': 0.6838235294117647, 'eval_f1': 0.8088888888888889, 'eval_runtime': 0.3821, 'eval_samples_per_second': 1067.778, 'eval_steps_per_second': 68.045, 'epoch': 4.0}\n",
            "Progress: 68/2500\n",
            "Total Parameters=4387202, Trainable Parameters=1024\n",
            "{'eval_loss': 0.6692159175872803, 'eval_accuracy': 0.6323529411764706, 'eval_f1': 0.7440273037542662, 'eval_runtime': 0.4527, 'eval_samples_per_second': 901.198, 'eval_steps_per_second': 57.429, 'epoch': 1.0}\n",
            "{'eval_loss': 0.6392573118209839, 'eval_accuracy': 0.6740196078431373, 'eval_f1': 0.7975646879756468, 'eval_runtime': 0.3704, 'eval_samples_per_second': 1101.521, 'eval_steps_per_second': 70.195, 'epoch': 2.0}\n",
            "{'loss': 0.6764, 'grad_norm': 1.692399263381958, 'learning_rate': 1.3695652173913042e-05, 'epoch': 2.1739130434782608}\n",
            "{'eval_loss': 0.6317211985588074, 'eval_accuracy': 0.6862745098039216, 'eval_f1': 0.8072289156626506, 'eval_runtime': 0.3889, 'eval_samples_per_second': 1049.178, 'eval_steps_per_second': 66.859, 'epoch': 3.0}\n",
            "{'eval_loss': 0.6300677061080933, 'eval_accuracy': 0.6813725490196079, 'eval_f1': 0.8048048048048048, 'eval_runtime': 0.3726, 'eval_samples_per_second': 1095.142, 'eval_steps_per_second': 69.788, 'epoch': 4.0}\n",
            "{'train_runtime': 11.6919, 'train_samples_per_second': 1254.884, 'train_steps_per_second': 78.687, 'train_loss': 0.6568264505137568, 'epoch': 4.0}\n",
            "{'eval_loss': 0.6300677061080933, 'eval_accuracy': 0.6813725490196079, 'eval_f1': 0.8048048048048048, 'eval_runtime': 0.382, 'eval_samples_per_second': 1068.023, 'eval_steps_per_second': 68.06, 'epoch': 4.0}\n",
            "Progress: 69/2500\n",
            "Total Parameters=4387202, Trainable Parameters=1024\n",
            "{'eval_loss': 0.6195806860923767, 'eval_accuracy': 0.6838235294117647, 'eval_f1': 0.8088888888888889, 'eval_runtime': 0.3993, 'eval_samples_per_second': 1021.685, 'eval_steps_per_second': 32.554, 'epoch': 1.0}\n",
            "{'eval_loss': 0.6146361827850342, 'eval_accuracy': 0.6936274509803921, 'eval_f1': 0.8131539611360239, 'eval_runtime': 0.3435, 'eval_samples_per_second': 1187.858, 'eval_steps_per_second': 37.848, 'epoch': 2.0}\n",
            "{'eval_loss': 0.6122263669967651, 'eval_accuracy': 0.6936274509803921, 'eval_f1': 0.8131539611360239, 'eval_runtime': 0.3271, 'eval_samples_per_second': 1247.308, 'eval_steps_per_second': 39.743, 'epoch': 3.0}\n",
            "{'eval_loss': 0.6116700768470764, 'eval_accuracy': 0.6936274509803921, 'eval_f1': 0.8131539611360239, 'eval_runtime': 0.3679, 'eval_samples_per_second': 1109.069, 'eval_steps_per_second': 35.338, 'epoch': 4.0}\n",
            "{'train_runtime': 7.8081, 'train_samples_per_second': 1879.085, 'train_steps_per_second': 58.914, 'train_loss': 0.6209388401197351, 'epoch': 4.0}\n",
            "{'eval_loss': 0.6116700768470764, 'eval_accuracy': 0.6936274509803921, 'eval_f1': 0.8131539611360239, 'eval_runtime': 0.3333, 'eval_samples_per_second': 1224.001, 'eval_steps_per_second': 39.0, 'epoch': 4.0}\n",
            "Progress: 70/2500\n",
            "Total Parameters=4387202, Trainable Parameters=1024\n",
            "{'eval_loss': 0.6302370429039001, 'eval_accuracy': 0.6764705882352942, 'eval_f1': 0.8023952095808383, 'eval_runtime': 0.3815, 'eval_samples_per_second': 1069.334, 'eval_steps_per_second': 34.072, 'epoch': 1.0}\n",
            "{'eval_loss': 0.6229985356330872, 'eval_accuracy': 0.6813725490196079, 'eval_f1': 0.8071216617210683, 'eval_runtime': 0.4072, 'eval_samples_per_second': 1001.93, 'eval_steps_per_second': 31.924, 'epoch': 2.0}\n",
            "{'eval_loss': 0.6220377683639526, 'eval_accuracy': 0.6838235294117647, 'eval_f1': 0.8083209509658247, 'eval_runtime': 0.4942, 'eval_samples_per_second': 825.621, 'eval_steps_per_second': 26.307, 'epoch': 3.0}\n",
            "{'eval_loss': 0.621662437915802, 'eval_accuracy': 0.6838235294117647, 'eval_f1': 0.8083209509658247, 'eval_runtime': 0.3608, 'eval_samples_per_second': 1130.901, 'eval_steps_per_second': 36.034, 'epoch': 4.0}\n",
            "{'train_runtime': 7.9708, 'train_samples_per_second': 1840.725, 'train_steps_per_second': 57.711, 'train_loss': 0.6369611657184103, 'epoch': 4.0}\n",
            "{'eval_loss': 0.621662437915802, 'eval_accuracy': 0.6838235294117647, 'eval_f1': 0.8083209509658247, 'eval_runtime': 0.3792, 'eval_samples_per_second': 1075.976, 'eval_steps_per_second': 34.284, 'epoch': 4.0}\n",
            "Progress: 71/2500\n",
            "Total Parameters=4387202, Trainable Parameters=1024\n",
            "{'eval_loss': 0.6681362986564636, 'eval_accuracy': 0.6372549019607843, 'eval_f1': 0.75, 'eval_runtime': 0.3868, 'eval_samples_per_second': 1054.928, 'eval_steps_per_second': 33.613, 'epoch': 1.0}\n",
            "{'eval_loss': 0.6364061236381531, 'eval_accuracy': 0.6813725490196079, 'eval_f1': 0.803030303030303, 'eval_runtime': 0.3457, 'eval_samples_per_second': 1180.354, 'eval_steps_per_second': 37.609, 'epoch': 2.0}\n",
            "{'eval_loss': 0.6300840973854065, 'eval_accuracy': 0.678921568627451, 'eval_f1': 0.8035982008995503, 'eval_runtime': 0.3467, 'eval_samples_per_second': 1176.718, 'eval_steps_per_second': 37.493, 'epoch': 3.0}\n",
            "{'eval_loss': 0.6289051175117493, 'eval_accuracy': 0.6740196078431373, 'eval_f1': 0.8011958146487295, 'eval_runtime': 0.3884, 'eval_samples_per_second': 1050.378, 'eval_steps_per_second': 33.468, 'epoch': 4.0}\n",
            "{'train_runtime': 7.7267, 'train_samples_per_second': 1898.872, 'train_steps_per_second': 59.534, 'train_loss': 0.656402587890625, 'epoch': 4.0}\n",
            "{'eval_loss': 0.6289051175117493, 'eval_accuracy': 0.6740196078431373, 'eval_f1': 0.8011958146487295, 'eval_runtime': 0.3561, 'eval_samples_per_second': 1145.858, 'eval_steps_per_second': 36.51, 'epoch': 4.0}\n",
            "Progress: 72/2500\n",
            "Total Parameters=4387202, Trainable Parameters=1024\n",
            "{'eval_loss': 0.7016777992248535, 'eval_accuracy': 0.4387254901960784, 'eval_f1': 0.42317380352644834, 'eval_runtime': 0.3458, 'eval_samples_per_second': 1179.709, 'eval_steps_per_second': 37.589, 'epoch': 1.0}\n",
            "{'eval_loss': 0.6666895747184753, 'eval_accuracy': 0.6446078431372549, 'eval_f1': 0.7571189279731994, 'eval_runtime': 0.3919, 'eval_samples_per_second': 1040.965, 'eval_steps_per_second': 33.168, 'epoch': 2.0}\n",
            "{'eval_loss': 0.6520344614982605, 'eval_accuracy': 0.6642156862745098, 'eval_f1': 0.7849293563579278, 'eval_runtime': 0.3927, 'eval_samples_per_second': 1038.969, 'eval_steps_per_second': 33.104, 'epoch': 3.0}\n",
            "{'eval_loss': 0.6481372117996216, 'eval_accuracy': 0.6764705882352942, 'eval_f1': 0.7956656346749226, 'eval_runtime': 0.4169, 'eval_samples_per_second': 978.731, 'eval_steps_per_second': 31.185, 'epoch': 4.0}\n",
            "{'train_runtime': 8.0395, 'train_samples_per_second': 1824.988, 'train_steps_per_second': 57.217, 'train_loss': 0.6802549279254416, 'epoch': 4.0}\n",
            "{'eval_loss': 0.6481372117996216, 'eval_accuracy': 0.6764705882352942, 'eval_f1': 0.7956656346749226, 'eval_runtime': 0.3371, 'eval_samples_per_second': 1210.408, 'eval_steps_per_second': 38.567, 'epoch': 4.0}\n",
            "Progress: 73/2500\n",
            "Total Parameters=4387202, Trainable Parameters=1024\n",
            "{'eval_loss': 0.6219944953918457, 'eval_accuracy': 0.6862745098039216, 'eval_f1': 0.8117647058823529, 'eval_runtime': 0.4302, 'eval_samples_per_second': 948.37, 'eval_steps_per_second': 16.271, 'epoch': 1.0}\n"
          ]
        }
      ]
    }
  ],
  "metadata": {
    "accelerator": "GPU",
    "colab": {
      "gpuType": "T4",
      "machine_shape": "hm",
      "provenance": [],
      "authorship_tag": "ABX9TyPTZV4zNhyP4pUtdSjZOobv",
      "include_colab_link": true
    },
    "kernelspec": {
      "display_name": "Python 3",
      "name": "python3"
    },
    "language_info": {
      "name": "python"
    },
    "widgets": {
      "application/vnd.jupyter.widget-state+json": {
        "cb4de2c7e0b043f689d2a03296be1963": {
          "model_module": "@jupyter-widgets/controls",
          "model_name": "HBoxModel",
          "model_module_version": "1.5.0",
          "state": {
            "_dom_classes": [],
            "_model_module": "@jupyter-widgets/controls",
            "_model_module_version": "1.5.0",
            "_model_name": "HBoxModel",
            "_view_count": null,
            "_view_module": "@jupyter-widgets/controls",
            "_view_module_version": "1.5.0",
            "_view_name": "HBoxView",
            "box_style": "",
            "children": [
              "IPY_MODEL_f22dc02ef94942be922b8d34e5e378c4",
              "IPY_MODEL_93f99adebdc049d1830ddd0419e6bb58",
              "IPY_MODEL_76c18ed72b644e71ab95900ed21ca9c7"
            ],
            "layout": "IPY_MODEL_b12f737c3b4545c7bf1107d7523f4957"
          }
        },
        "f22dc02ef94942be922b8d34e5e378c4": {
          "model_module": "@jupyter-widgets/controls",
          "model_name": "HTMLModel",
          "model_module_version": "1.5.0",
          "state": {
            "_dom_classes": [],
            "_model_module": "@jupyter-widgets/controls",
            "_model_module_version": "1.5.0",
            "_model_name": "HTMLModel",
            "_view_count": null,
            "_view_module": "@jupyter-widgets/controls",
            "_view_module_version": "1.5.0",
            "_view_name": "HTMLView",
            "description": "",
            "description_tooltip": null,
            "layout": "IPY_MODEL_34333d608f8f453d82450419d26d9fcd",
            "placeholder": "​",
            "style": "IPY_MODEL_bd51465417e146d9abb104448af4276e",
            "value": "README.md: 100%"
          }
        },
        "93f99adebdc049d1830ddd0419e6bb58": {
          "model_module": "@jupyter-widgets/controls",
          "model_name": "FloatProgressModel",
          "model_module_version": "1.5.0",
          "state": {
            "_dom_classes": [],
            "_model_module": "@jupyter-widgets/controls",
            "_model_module_version": "1.5.0",
            "_model_name": "FloatProgressModel",
            "_view_count": null,
            "_view_module": "@jupyter-widgets/controls",
            "_view_module_version": "1.5.0",
            "_view_name": "ProgressView",
            "bar_style": "success",
            "description": "",
            "description_tooltip": null,
            "layout": "IPY_MODEL_b662bba0f94948ee902fdda2cec53dc1",
            "max": 35296,
            "min": 0,
            "orientation": "horizontal",
            "style": "IPY_MODEL_7aa93391e8ea40d5a56dd8775cc5e91a",
            "value": 35296
          }
        },
        "76c18ed72b644e71ab95900ed21ca9c7": {
          "model_module": "@jupyter-widgets/controls",
          "model_name": "HTMLModel",
          "model_module_version": "1.5.0",
          "state": {
            "_dom_classes": [],
            "_model_module": "@jupyter-widgets/controls",
            "_model_module_version": "1.5.0",
            "_model_name": "HTMLModel",
            "_view_count": null,
            "_view_module": "@jupyter-widgets/controls",
            "_view_module_version": "1.5.0",
            "_view_name": "HTMLView",
            "description": "",
            "description_tooltip": null,
            "layout": "IPY_MODEL_193b537e5ab34f8f8c4d4864070f659e",
            "placeholder": "​",
            "style": "IPY_MODEL_f6bfe0946f0e477eb57bdadff25b5bd9",
            "value": " 35.3k/35.3k [00:00&lt;00:00, 2.44MB/s]"
          }
        },
        "b12f737c3b4545c7bf1107d7523f4957": {
          "model_module": "@jupyter-widgets/base",
          "model_name": "LayoutModel",
          "model_module_version": "1.2.0",
          "state": {
            "_model_module": "@jupyter-widgets/base",
            "_model_module_version": "1.2.0",
            "_model_name": "LayoutModel",
            "_view_count": null,
            "_view_module": "@jupyter-widgets/base",
            "_view_module_version": "1.2.0",
            "_view_name": "LayoutView",
            "align_content": null,
            "align_items": null,
            "align_self": null,
            "border": null,
            "bottom": null,
            "display": null,
            "flex": null,
            "flex_flow": null,
            "grid_area": null,
            "grid_auto_columns": null,
            "grid_auto_flow": null,
            "grid_auto_rows": null,
            "grid_column": null,
            "grid_gap": null,
            "grid_row": null,
            "grid_template_areas": null,
            "grid_template_columns": null,
            "grid_template_rows": null,
            "height": null,
            "justify_content": null,
            "justify_items": null,
            "left": null,
            "margin": null,
            "max_height": null,
            "max_width": null,
            "min_height": null,
            "min_width": null,
            "object_fit": null,
            "object_position": null,
            "order": null,
            "overflow": null,
            "overflow_x": null,
            "overflow_y": null,
            "padding": null,
            "right": null,
            "top": null,
            "visibility": null,
            "width": null
          }
        },
        "34333d608f8f453d82450419d26d9fcd": {
          "model_module": "@jupyter-widgets/base",
          "model_name": "LayoutModel",
          "model_module_version": "1.2.0",
          "state": {
            "_model_module": "@jupyter-widgets/base",
            "_model_module_version": "1.2.0",
            "_model_name": "LayoutModel",
            "_view_count": null,
            "_view_module": "@jupyter-widgets/base",
            "_view_module_version": "1.2.0",
            "_view_name": "LayoutView",
            "align_content": null,
            "align_items": null,
            "align_self": null,
            "border": null,
            "bottom": null,
            "display": null,
            "flex": null,
            "flex_flow": null,
            "grid_area": null,
            "grid_auto_columns": null,
            "grid_auto_flow": null,
            "grid_auto_rows": null,
            "grid_column": null,
            "grid_gap": null,
            "grid_row": null,
            "grid_template_areas": null,
            "grid_template_columns": null,
            "grid_template_rows": null,
            "height": null,
            "justify_content": null,
            "justify_items": null,
            "left": null,
            "margin": null,
            "max_height": null,
            "max_width": null,
            "min_height": null,
            "min_width": null,
            "object_fit": null,
            "object_position": null,
            "order": null,
            "overflow": null,
            "overflow_x": null,
            "overflow_y": null,
            "padding": null,
            "right": null,
            "top": null,
            "visibility": null,
            "width": null
          }
        },
        "bd51465417e146d9abb104448af4276e": {
          "model_module": "@jupyter-widgets/controls",
          "model_name": "DescriptionStyleModel",
          "model_module_version": "1.5.0",
          "state": {
            "_model_module": "@jupyter-widgets/controls",
            "_model_module_version": "1.5.0",
            "_model_name": "DescriptionStyleModel",
            "_view_count": null,
            "_view_module": "@jupyter-widgets/base",
            "_view_module_version": "1.2.0",
            "_view_name": "StyleView",
            "description_width": ""
          }
        },
        "b662bba0f94948ee902fdda2cec53dc1": {
          "model_module": "@jupyter-widgets/base",
          "model_name": "LayoutModel",
          "model_module_version": "1.2.0",
          "state": {
            "_model_module": "@jupyter-widgets/base",
            "_model_module_version": "1.2.0",
            "_model_name": "LayoutModel",
            "_view_count": null,
            "_view_module": "@jupyter-widgets/base",
            "_view_module_version": "1.2.0",
            "_view_name": "LayoutView",
            "align_content": null,
            "align_items": null,
            "align_self": null,
            "border": null,
            "bottom": null,
            "display": null,
            "flex": null,
            "flex_flow": null,
            "grid_area": null,
            "grid_auto_columns": null,
            "grid_auto_flow": null,
            "grid_auto_rows": null,
            "grid_column": null,
            "grid_gap": null,
            "grid_row": null,
            "grid_template_areas": null,
            "grid_template_columns": null,
            "grid_template_rows": null,
            "height": null,
            "justify_content": null,
            "justify_items": null,
            "left": null,
            "margin": null,
            "max_height": null,
            "max_width": null,
            "min_height": null,
            "min_width": null,
            "object_fit": null,
            "object_position": null,
            "order": null,
            "overflow": null,
            "overflow_x": null,
            "overflow_y": null,
            "padding": null,
            "right": null,
            "top": null,
            "visibility": null,
            "width": null
          }
        },
        "7aa93391e8ea40d5a56dd8775cc5e91a": {
          "model_module": "@jupyter-widgets/controls",
          "model_name": "ProgressStyleModel",
          "model_module_version": "1.5.0",
          "state": {
            "_model_module": "@jupyter-widgets/controls",
            "_model_module_version": "1.5.0",
            "_model_name": "ProgressStyleModel",
            "_view_count": null,
            "_view_module": "@jupyter-widgets/base",
            "_view_module_version": "1.2.0",
            "_view_name": "StyleView",
            "bar_color": null,
            "description_width": ""
          }
        },
        "193b537e5ab34f8f8c4d4864070f659e": {
          "model_module": "@jupyter-widgets/base",
          "model_name": "LayoutModel",
          "model_module_version": "1.2.0",
          "state": {
            "_model_module": "@jupyter-widgets/base",
            "_model_module_version": "1.2.0",
            "_model_name": "LayoutModel",
            "_view_count": null,
            "_view_module": "@jupyter-widgets/base",
            "_view_module_version": "1.2.0",
            "_view_name": "LayoutView",
            "align_content": null,
            "align_items": null,
            "align_self": null,
            "border": null,
            "bottom": null,
            "display": null,
            "flex": null,
            "flex_flow": null,
            "grid_area": null,
            "grid_auto_columns": null,
            "grid_auto_flow": null,
            "grid_auto_rows": null,
            "grid_column": null,
            "grid_gap": null,
            "grid_row": null,
            "grid_template_areas": null,
            "grid_template_columns": null,
            "grid_template_rows": null,
            "height": null,
            "justify_content": null,
            "justify_items": null,
            "left": null,
            "margin": null,
            "max_height": null,
            "max_width": null,
            "min_height": null,
            "min_width": null,
            "object_fit": null,
            "object_position": null,
            "order": null,
            "overflow": null,
            "overflow_x": null,
            "overflow_y": null,
            "padding": null,
            "right": null,
            "top": null,
            "visibility": null,
            "width": null
          }
        },
        "f6bfe0946f0e477eb57bdadff25b5bd9": {
          "model_module": "@jupyter-widgets/controls",
          "model_name": "DescriptionStyleModel",
          "model_module_version": "1.5.0",
          "state": {
            "_model_module": "@jupyter-widgets/controls",
            "_model_module_version": "1.5.0",
            "_model_name": "DescriptionStyleModel",
            "_view_count": null,
            "_view_module": "@jupyter-widgets/base",
            "_view_module_version": "1.2.0",
            "_view_name": "StyleView",
            "description_width": ""
          }
        },
        "ee559e8fedc44ba68666c7e145972e25": {
          "model_module": "@jupyter-widgets/controls",
          "model_name": "HBoxModel",
          "model_module_version": "1.5.0",
          "state": {
            "_dom_classes": [],
            "_model_module": "@jupyter-widgets/controls",
            "_model_module_version": "1.5.0",
            "_model_name": "HBoxModel",
            "_view_count": null,
            "_view_module": "@jupyter-widgets/controls",
            "_view_module_version": "1.5.0",
            "_view_name": "HBoxView",
            "box_style": "",
            "children": [
              "IPY_MODEL_7051889c4f2d448c85d6b85511be77bd",
              "IPY_MODEL_42c1e3dce8e748d79df413831d90b249",
              "IPY_MODEL_6e24efbc05994451ae49095353414ab1"
            ],
            "layout": "IPY_MODEL_6f21c8da1b0d4266ac048602fb5109fc"
          }
        },
        "7051889c4f2d448c85d6b85511be77bd": {
          "model_module": "@jupyter-widgets/controls",
          "model_name": "HTMLModel",
          "model_module_version": "1.5.0",
          "state": {
            "_dom_classes": [],
            "_model_module": "@jupyter-widgets/controls",
            "_model_module_version": "1.5.0",
            "_model_name": "HTMLModel",
            "_view_count": null,
            "_view_module": "@jupyter-widgets/controls",
            "_view_module_version": "1.5.0",
            "_view_name": "HTMLView",
            "description": "",
            "description_tooltip": null,
            "layout": "IPY_MODEL_8cf078bb8d1c43eeb3245f67bd85d015",
            "placeholder": "​",
            "style": "IPY_MODEL_b9f497358906404a857939465fafeb9b",
            "value": "train-00000-of-00001.parquet: 100%"
          }
        },
        "42c1e3dce8e748d79df413831d90b249": {
          "model_module": "@jupyter-widgets/controls",
          "model_name": "FloatProgressModel",
          "model_module_version": "1.5.0",
          "state": {
            "_dom_classes": [],
            "_model_module": "@jupyter-widgets/controls",
            "_model_module_version": "1.5.0",
            "_model_name": "FloatProgressModel",
            "_view_count": null,
            "_view_module": "@jupyter-widgets/controls",
            "_view_module_version": "1.5.0",
            "_view_name": "ProgressView",
            "bar_style": "success",
            "description": "",
            "description_tooltip": null,
            "layout": "IPY_MODEL_deea1b9a0d7d4b8691d981d10c609319",
            "max": 649281,
            "min": 0,
            "orientation": "horizontal",
            "style": "IPY_MODEL_93e2bcdfcc5a45fc8c9adddce3576e74",
            "value": 649281
          }
        },
        "6e24efbc05994451ae49095353414ab1": {
          "model_module": "@jupyter-widgets/controls",
          "model_name": "HTMLModel",
          "model_module_version": "1.5.0",
          "state": {
            "_dom_classes": [],
            "_model_module": "@jupyter-widgets/controls",
            "_model_module_version": "1.5.0",
            "_model_name": "HTMLModel",
            "_view_count": null,
            "_view_module": "@jupyter-widgets/controls",
            "_view_module_version": "1.5.0",
            "_view_name": "HTMLView",
            "description": "",
            "description_tooltip": null,
            "layout": "IPY_MODEL_d6f5f1139e4647f89588d7af9cba70a3",
            "placeholder": "​",
            "style": "IPY_MODEL_66d86ea63efd4f3baecbcb1c8648aef5",
            "value": " 649k/649k [00:00&lt;00:00, 9.74MB/s]"
          }
        },
        "6f21c8da1b0d4266ac048602fb5109fc": {
          "model_module": "@jupyter-widgets/base",
          "model_name": "LayoutModel",
          "model_module_version": "1.2.0",
          "state": {
            "_model_module": "@jupyter-widgets/base",
            "_model_module_version": "1.2.0",
            "_model_name": "LayoutModel",
            "_view_count": null,
            "_view_module": "@jupyter-widgets/base",
            "_view_module_version": "1.2.0",
            "_view_name": "LayoutView",
            "align_content": null,
            "align_items": null,
            "align_self": null,
            "border": null,
            "bottom": null,
            "display": null,
            "flex": null,
            "flex_flow": null,
            "grid_area": null,
            "grid_auto_columns": null,
            "grid_auto_flow": null,
            "grid_auto_rows": null,
            "grid_column": null,
            "grid_gap": null,
            "grid_row": null,
            "grid_template_areas": null,
            "grid_template_columns": null,
            "grid_template_rows": null,
            "height": null,
            "justify_content": null,
            "justify_items": null,
            "left": null,
            "margin": null,
            "max_height": null,
            "max_width": null,
            "min_height": null,
            "min_width": null,
            "object_fit": null,
            "object_position": null,
            "order": null,
            "overflow": null,
            "overflow_x": null,
            "overflow_y": null,
            "padding": null,
            "right": null,
            "top": null,
            "visibility": null,
            "width": null
          }
        },
        "8cf078bb8d1c43eeb3245f67bd85d015": {
          "model_module": "@jupyter-widgets/base",
          "model_name": "LayoutModel",
          "model_module_version": "1.2.0",
          "state": {
            "_model_module": "@jupyter-widgets/base",
            "_model_module_version": "1.2.0",
            "_model_name": "LayoutModel",
            "_view_count": null,
            "_view_module": "@jupyter-widgets/base",
            "_view_module_version": "1.2.0",
            "_view_name": "LayoutView",
            "align_content": null,
            "align_items": null,
            "align_self": null,
            "border": null,
            "bottom": null,
            "display": null,
            "flex": null,
            "flex_flow": null,
            "grid_area": null,
            "grid_auto_columns": null,
            "grid_auto_flow": null,
            "grid_auto_rows": null,
            "grid_column": null,
            "grid_gap": null,
            "grid_row": null,
            "grid_template_areas": null,
            "grid_template_columns": null,
            "grid_template_rows": null,
            "height": null,
            "justify_content": null,
            "justify_items": null,
            "left": null,
            "margin": null,
            "max_height": null,
            "max_width": null,
            "min_height": null,
            "min_width": null,
            "object_fit": null,
            "object_position": null,
            "order": null,
            "overflow": null,
            "overflow_x": null,
            "overflow_y": null,
            "padding": null,
            "right": null,
            "top": null,
            "visibility": null,
            "width": null
          }
        },
        "b9f497358906404a857939465fafeb9b": {
          "model_module": "@jupyter-widgets/controls",
          "model_name": "DescriptionStyleModel",
          "model_module_version": "1.5.0",
          "state": {
            "_model_module": "@jupyter-widgets/controls",
            "_model_module_version": "1.5.0",
            "_model_name": "DescriptionStyleModel",
            "_view_count": null,
            "_view_module": "@jupyter-widgets/base",
            "_view_module_version": "1.2.0",
            "_view_name": "StyleView",
            "description_width": ""
          }
        },
        "deea1b9a0d7d4b8691d981d10c609319": {
          "model_module": "@jupyter-widgets/base",
          "model_name": "LayoutModel",
          "model_module_version": "1.2.0",
          "state": {
            "_model_module": "@jupyter-widgets/base",
            "_model_module_version": "1.2.0",
            "_model_name": "LayoutModel",
            "_view_count": null,
            "_view_module": "@jupyter-widgets/base",
            "_view_module_version": "1.2.0",
            "_view_name": "LayoutView",
            "align_content": null,
            "align_items": null,
            "align_self": null,
            "border": null,
            "bottom": null,
            "display": null,
            "flex": null,
            "flex_flow": null,
            "grid_area": null,
            "grid_auto_columns": null,
            "grid_auto_flow": null,
            "grid_auto_rows": null,
            "grid_column": null,
            "grid_gap": null,
            "grid_row": null,
            "grid_template_areas": null,
            "grid_template_columns": null,
            "grid_template_rows": null,
            "height": null,
            "justify_content": null,
            "justify_items": null,
            "left": null,
            "margin": null,
            "max_height": null,
            "max_width": null,
            "min_height": null,
            "min_width": null,
            "object_fit": null,
            "object_position": null,
            "order": null,
            "overflow": null,
            "overflow_x": null,
            "overflow_y": null,
            "padding": null,
            "right": null,
            "top": null,
            "visibility": null,
            "width": null
          }
        },
        "93e2bcdfcc5a45fc8c9adddce3576e74": {
          "model_module": "@jupyter-widgets/controls",
          "model_name": "ProgressStyleModel",
          "model_module_version": "1.5.0",
          "state": {
            "_model_module": "@jupyter-widgets/controls",
            "_model_module_version": "1.5.0",
            "_model_name": "ProgressStyleModel",
            "_view_count": null,
            "_view_module": "@jupyter-widgets/base",
            "_view_module_version": "1.2.0",
            "_view_name": "StyleView",
            "bar_color": null,
            "description_width": ""
          }
        },
        "d6f5f1139e4647f89588d7af9cba70a3": {
          "model_module": "@jupyter-widgets/base",
          "model_name": "LayoutModel",
          "model_module_version": "1.2.0",
          "state": {
            "_model_module": "@jupyter-widgets/base",
            "_model_module_version": "1.2.0",
            "_model_name": "LayoutModel",
            "_view_count": null,
            "_view_module": "@jupyter-widgets/base",
            "_view_module_version": "1.2.0",
            "_view_name": "LayoutView",
            "align_content": null,
            "align_items": null,
            "align_self": null,
            "border": null,
            "bottom": null,
            "display": null,
            "flex": null,
            "flex_flow": null,
            "grid_area": null,
            "grid_auto_columns": null,
            "grid_auto_flow": null,
            "grid_auto_rows": null,
            "grid_column": null,
            "grid_gap": null,
            "grid_row": null,
            "grid_template_areas": null,
            "grid_template_columns": null,
            "grid_template_rows": null,
            "height": null,
            "justify_content": null,
            "justify_items": null,
            "left": null,
            "margin": null,
            "max_height": null,
            "max_width": null,
            "min_height": null,
            "min_width": null,
            "object_fit": null,
            "object_position": null,
            "order": null,
            "overflow": null,
            "overflow_x": null,
            "overflow_y": null,
            "padding": null,
            "right": null,
            "top": null,
            "visibility": null,
            "width": null
          }
        },
        "66d86ea63efd4f3baecbcb1c8648aef5": {
          "model_module": "@jupyter-widgets/controls",
          "model_name": "DescriptionStyleModel",
          "model_module_version": "1.5.0",
          "state": {
            "_model_module": "@jupyter-widgets/controls",
            "_model_module_version": "1.5.0",
            "_model_name": "DescriptionStyleModel",
            "_view_count": null,
            "_view_module": "@jupyter-widgets/base",
            "_view_module_version": "1.2.0",
            "_view_name": "StyleView",
            "description_width": ""
          }
        },
        "9f43c44bbf0b40e5964ed997cb1cfeee": {
          "model_module": "@jupyter-widgets/controls",
          "model_name": "HBoxModel",
          "model_module_version": "1.5.0",
          "state": {
            "_dom_classes": [],
            "_model_module": "@jupyter-widgets/controls",
            "_model_module_version": "1.5.0",
            "_model_name": "HBoxModel",
            "_view_count": null,
            "_view_module": "@jupyter-widgets/controls",
            "_view_module_version": "1.5.0",
            "_view_name": "HBoxView",
            "box_style": "",
            "children": [
              "IPY_MODEL_e4f16599a6334f749dec2a8f02083bb7",
              "IPY_MODEL_83703f5c515c4173b3e1186c8ca71757",
              "IPY_MODEL_85425cb6053043d4b1b1e94731efcbb1"
            ],
            "layout": "IPY_MODEL_6237e1c1d63048e1b99ee3f1118b2e25"
          }
        },
        "e4f16599a6334f749dec2a8f02083bb7": {
          "model_module": "@jupyter-widgets/controls",
          "model_name": "HTMLModel",
          "model_module_version": "1.5.0",
          "state": {
            "_dom_classes": [],
            "_model_module": "@jupyter-widgets/controls",
            "_model_module_version": "1.5.0",
            "_model_name": "HTMLModel",
            "_view_count": null,
            "_view_module": "@jupyter-widgets/controls",
            "_view_module_version": "1.5.0",
            "_view_name": "HTMLView",
            "description": "",
            "description_tooltip": null,
            "layout": "IPY_MODEL_a007dbf140434cbeb58562b32471ae50",
            "placeholder": "​",
            "style": "IPY_MODEL_887235c818a9495c9d709f4133be96ab",
            "value": "validation-00000-of-00001.parquet: 100%"
          }
        },
        "83703f5c515c4173b3e1186c8ca71757": {
          "model_module": "@jupyter-widgets/controls",
          "model_name": "FloatProgressModel",
          "model_module_version": "1.5.0",
          "state": {
            "_dom_classes": [],
            "_model_module": "@jupyter-widgets/controls",
            "_model_module_version": "1.5.0",
            "_model_name": "FloatProgressModel",
            "_view_count": null,
            "_view_module": "@jupyter-widgets/controls",
            "_view_module_version": "1.5.0",
            "_view_name": "ProgressView",
            "bar_style": "success",
            "description": "",
            "description_tooltip": null,
            "layout": "IPY_MODEL_1dd46fca29e144bb9d7fc87d2bb55f65",
            "max": 75678,
            "min": 0,
            "orientation": "horizontal",
            "style": "IPY_MODEL_21d392ae8be040e39628d141a3a21c78",
            "value": 75678
          }
        },
        "85425cb6053043d4b1b1e94731efcbb1": {
          "model_module": "@jupyter-widgets/controls",
          "model_name": "HTMLModel",
          "model_module_version": "1.5.0",
          "state": {
            "_dom_classes": [],
            "_model_module": "@jupyter-widgets/controls",
            "_model_module_version": "1.5.0",
            "_model_name": "HTMLModel",
            "_view_count": null,
            "_view_module": "@jupyter-widgets/controls",
            "_view_module_version": "1.5.0",
            "_view_name": "HTMLView",
            "description": "",
            "description_tooltip": null,
            "layout": "IPY_MODEL_c72e6295db8746c7873092d6a53c4c27",
            "placeholder": "​",
            "style": "IPY_MODEL_4e194d0559d34210be397cb7cda65038",
            "value": " 75.7k/75.7k [00:00&lt;00:00, 4.42MB/s]"
          }
        },
        "6237e1c1d63048e1b99ee3f1118b2e25": {
          "model_module": "@jupyter-widgets/base",
          "model_name": "LayoutModel",
          "model_module_version": "1.2.0",
          "state": {
            "_model_module": "@jupyter-widgets/base",
            "_model_module_version": "1.2.0",
            "_model_name": "LayoutModel",
            "_view_count": null,
            "_view_module": "@jupyter-widgets/base",
            "_view_module_version": "1.2.0",
            "_view_name": "LayoutView",
            "align_content": null,
            "align_items": null,
            "align_self": null,
            "border": null,
            "bottom": null,
            "display": null,
            "flex": null,
            "flex_flow": null,
            "grid_area": null,
            "grid_auto_columns": null,
            "grid_auto_flow": null,
            "grid_auto_rows": null,
            "grid_column": null,
            "grid_gap": null,
            "grid_row": null,
            "grid_template_areas": null,
            "grid_template_columns": null,
            "grid_template_rows": null,
            "height": null,
            "justify_content": null,
            "justify_items": null,
            "left": null,
            "margin": null,
            "max_height": null,
            "max_width": null,
            "min_height": null,
            "min_width": null,
            "object_fit": null,
            "object_position": null,
            "order": null,
            "overflow": null,
            "overflow_x": null,
            "overflow_y": null,
            "padding": null,
            "right": null,
            "top": null,
            "visibility": null,
            "width": null
          }
        },
        "a007dbf140434cbeb58562b32471ae50": {
          "model_module": "@jupyter-widgets/base",
          "model_name": "LayoutModel",
          "model_module_version": "1.2.0",
          "state": {
            "_model_module": "@jupyter-widgets/base",
            "_model_module_version": "1.2.0",
            "_model_name": "LayoutModel",
            "_view_count": null,
            "_view_module": "@jupyter-widgets/base",
            "_view_module_version": "1.2.0",
            "_view_name": "LayoutView",
            "align_content": null,
            "align_items": null,
            "align_self": null,
            "border": null,
            "bottom": null,
            "display": null,
            "flex": null,
            "flex_flow": null,
            "grid_area": null,
            "grid_auto_columns": null,
            "grid_auto_flow": null,
            "grid_auto_rows": null,
            "grid_column": null,
            "grid_gap": null,
            "grid_row": null,
            "grid_template_areas": null,
            "grid_template_columns": null,
            "grid_template_rows": null,
            "height": null,
            "justify_content": null,
            "justify_items": null,
            "left": null,
            "margin": null,
            "max_height": null,
            "max_width": null,
            "min_height": null,
            "min_width": null,
            "object_fit": null,
            "object_position": null,
            "order": null,
            "overflow": null,
            "overflow_x": null,
            "overflow_y": null,
            "padding": null,
            "right": null,
            "top": null,
            "visibility": null,
            "width": null
          }
        },
        "887235c818a9495c9d709f4133be96ab": {
          "model_module": "@jupyter-widgets/controls",
          "model_name": "DescriptionStyleModel",
          "model_module_version": "1.5.0",
          "state": {
            "_model_module": "@jupyter-widgets/controls",
            "_model_module_version": "1.5.0",
            "_model_name": "DescriptionStyleModel",
            "_view_count": null,
            "_view_module": "@jupyter-widgets/base",
            "_view_module_version": "1.2.0",
            "_view_name": "StyleView",
            "description_width": ""
          }
        },
        "1dd46fca29e144bb9d7fc87d2bb55f65": {
          "model_module": "@jupyter-widgets/base",
          "model_name": "LayoutModel",
          "model_module_version": "1.2.0",
          "state": {
            "_model_module": "@jupyter-widgets/base",
            "_model_module_version": "1.2.0",
            "_model_name": "LayoutModel",
            "_view_count": null,
            "_view_module": "@jupyter-widgets/base",
            "_view_module_version": "1.2.0",
            "_view_name": "LayoutView",
            "align_content": null,
            "align_items": null,
            "align_self": null,
            "border": null,
            "bottom": null,
            "display": null,
            "flex": null,
            "flex_flow": null,
            "grid_area": null,
            "grid_auto_columns": null,
            "grid_auto_flow": null,
            "grid_auto_rows": null,
            "grid_column": null,
            "grid_gap": null,
            "grid_row": null,
            "grid_template_areas": null,
            "grid_template_columns": null,
            "grid_template_rows": null,
            "height": null,
            "justify_content": null,
            "justify_items": null,
            "left": null,
            "margin": null,
            "max_height": null,
            "max_width": null,
            "min_height": null,
            "min_width": null,
            "object_fit": null,
            "object_position": null,
            "order": null,
            "overflow": null,
            "overflow_x": null,
            "overflow_y": null,
            "padding": null,
            "right": null,
            "top": null,
            "visibility": null,
            "width": null
          }
        },
        "21d392ae8be040e39628d141a3a21c78": {
          "model_module": "@jupyter-widgets/controls",
          "model_name": "ProgressStyleModel",
          "model_module_version": "1.5.0",
          "state": {
            "_model_module": "@jupyter-widgets/controls",
            "_model_module_version": "1.5.0",
            "_model_name": "ProgressStyleModel",
            "_view_count": null,
            "_view_module": "@jupyter-widgets/base",
            "_view_module_version": "1.2.0",
            "_view_name": "StyleView",
            "bar_color": null,
            "description_width": ""
          }
        },
        "c72e6295db8746c7873092d6a53c4c27": {
          "model_module": "@jupyter-widgets/base",
          "model_name": "LayoutModel",
          "model_module_version": "1.2.0",
          "state": {
            "_model_module": "@jupyter-widgets/base",
            "_model_module_version": "1.2.0",
            "_model_name": "LayoutModel",
            "_view_count": null,
            "_view_module": "@jupyter-widgets/base",
            "_view_module_version": "1.2.0",
            "_view_name": "LayoutView",
            "align_content": null,
            "align_items": null,
            "align_self": null,
            "border": null,
            "bottom": null,
            "display": null,
            "flex": null,
            "flex_flow": null,
            "grid_area": null,
            "grid_auto_columns": null,
            "grid_auto_flow": null,
            "grid_auto_rows": null,
            "grid_column": null,
            "grid_gap": null,
            "grid_row": null,
            "grid_template_areas": null,
            "grid_template_columns": null,
            "grid_template_rows": null,
            "height": null,
            "justify_content": null,
            "justify_items": null,
            "left": null,
            "margin": null,
            "max_height": null,
            "max_width": null,
            "min_height": null,
            "min_width": null,
            "object_fit": null,
            "object_position": null,
            "order": null,
            "overflow": null,
            "overflow_x": null,
            "overflow_y": null,
            "padding": null,
            "right": null,
            "top": null,
            "visibility": null,
            "width": null
          }
        },
        "4e194d0559d34210be397cb7cda65038": {
          "model_module": "@jupyter-widgets/controls",
          "model_name": "DescriptionStyleModel",
          "model_module_version": "1.5.0",
          "state": {
            "_model_module": "@jupyter-widgets/controls",
            "_model_module_version": "1.5.0",
            "_model_name": "DescriptionStyleModel",
            "_view_count": null,
            "_view_module": "@jupyter-widgets/base",
            "_view_module_version": "1.2.0",
            "_view_name": "StyleView",
            "description_width": ""
          }
        },
        "425a5d89e41f41b4814d4965966d6cf8": {
          "model_module": "@jupyter-widgets/controls",
          "model_name": "HBoxModel",
          "model_module_version": "1.5.0",
          "state": {
            "_dom_classes": [],
            "_model_module": "@jupyter-widgets/controls",
            "_model_module_version": "1.5.0",
            "_model_name": "HBoxModel",
            "_view_count": null,
            "_view_module": "@jupyter-widgets/controls",
            "_view_module_version": "1.5.0",
            "_view_name": "HBoxView",
            "box_style": "",
            "children": [
              "IPY_MODEL_d7bd89a00cf3476a8fcc2597f6b55c69",
              "IPY_MODEL_69c5a412f24547a5a16a414929590d32",
              "IPY_MODEL_d95bd37dd0274fe2820db60d3f125832"
            ],
            "layout": "IPY_MODEL_4ba39703166d455b9d2671ac55d30b70"
          }
        },
        "d7bd89a00cf3476a8fcc2597f6b55c69": {
          "model_module": "@jupyter-widgets/controls",
          "model_name": "HTMLModel",
          "model_module_version": "1.5.0",
          "state": {
            "_dom_classes": [],
            "_model_module": "@jupyter-widgets/controls",
            "_model_module_version": "1.5.0",
            "_model_name": "HTMLModel",
            "_view_count": null,
            "_view_module": "@jupyter-widgets/controls",
            "_view_module_version": "1.5.0",
            "_view_name": "HTMLView",
            "description": "",
            "description_tooltip": null,
            "layout": "IPY_MODEL_099979b9141746ceabf3552b53e6923f",
            "placeholder": "​",
            "style": "IPY_MODEL_93628c096a4f491fa14e1bd453d3bb2c",
            "value": "test-00000-of-00001.parquet: 100%"
          }
        },
        "69c5a412f24547a5a16a414929590d32": {
          "model_module": "@jupyter-widgets/controls",
          "model_name": "FloatProgressModel",
          "model_module_version": "1.5.0",
          "state": {
            "_dom_classes": [],
            "_model_module": "@jupyter-widgets/controls",
            "_model_module_version": "1.5.0",
            "_model_name": "FloatProgressModel",
            "_view_count": null,
            "_view_module": "@jupyter-widgets/controls",
            "_view_module_version": "1.5.0",
            "_view_name": "ProgressView",
            "bar_style": "success",
            "description": "",
            "description_tooltip": null,
            "layout": "IPY_MODEL_c6d223d2af8a4d1fb2e46c97324e2f72",
            "max": 308441,
            "min": 0,
            "orientation": "horizontal",
            "style": "IPY_MODEL_a689cb9acaa24f1893855ad6bc0773e5",
            "value": 308441
          }
        },
        "d95bd37dd0274fe2820db60d3f125832": {
          "model_module": "@jupyter-widgets/controls",
          "model_name": "HTMLModel",
          "model_module_version": "1.5.0",
          "state": {
            "_dom_classes": [],
            "_model_module": "@jupyter-widgets/controls",
            "_model_module_version": "1.5.0",
            "_model_name": "HTMLModel",
            "_view_count": null,
            "_view_module": "@jupyter-widgets/controls",
            "_view_module_version": "1.5.0",
            "_view_name": "HTMLView",
            "description": "",
            "description_tooltip": null,
            "layout": "IPY_MODEL_8978eeb172764cb399c3891ef5686190",
            "placeholder": "​",
            "style": "IPY_MODEL_5c36118a97054cc284f3b63b011cace8",
            "value": " 308k/308k [00:00&lt;00:00, 6.90MB/s]"
          }
        },
        "4ba39703166d455b9d2671ac55d30b70": {
          "model_module": "@jupyter-widgets/base",
          "model_name": "LayoutModel",
          "model_module_version": "1.2.0",
          "state": {
            "_model_module": "@jupyter-widgets/base",
            "_model_module_version": "1.2.0",
            "_model_name": "LayoutModel",
            "_view_count": null,
            "_view_module": "@jupyter-widgets/base",
            "_view_module_version": "1.2.0",
            "_view_name": "LayoutView",
            "align_content": null,
            "align_items": null,
            "align_self": null,
            "border": null,
            "bottom": null,
            "display": null,
            "flex": null,
            "flex_flow": null,
            "grid_area": null,
            "grid_auto_columns": null,
            "grid_auto_flow": null,
            "grid_auto_rows": null,
            "grid_column": null,
            "grid_gap": null,
            "grid_row": null,
            "grid_template_areas": null,
            "grid_template_columns": null,
            "grid_template_rows": null,
            "height": null,
            "justify_content": null,
            "justify_items": null,
            "left": null,
            "margin": null,
            "max_height": null,
            "max_width": null,
            "min_height": null,
            "min_width": null,
            "object_fit": null,
            "object_position": null,
            "order": null,
            "overflow": null,
            "overflow_x": null,
            "overflow_y": null,
            "padding": null,
            "right": null,
            "top": null,
            "visibility": null,
            "width": null
          }
        },
        "099979b9141746ceabf3552b53e6923f": {
          "model_module": "@jupyter-widgets/base",
          "model_name": "LayoutModel",
          "model_module_version": "1.2.0",
          "state": {
            "_model_module": "@jupyter-widgets/base",
            "_model_module_version": "1.2.0",
            "_model_name": "LayoutModel",
            "_view_count": null,
            "_view_module": "@jupyter-widgets/base",
            "_view_module_version": "1.2.0",
            "_view_name": "LayoutView",
            "align_content": null,
            "align_items": null,
            "align_self": null,
            "border": null,
            "bottom": null,
            "display": null,
            "flex": null,
            "flex_flow": null,
            "grid_area": null,
            "grid_auto_columns": null,
            "grid_auto_flow": null,
            "grid_auto_rows": null,
            "grid_column": null,
            "grid_gap": null,
            "grid_row": null,
            "grid_template_areas": null,
            "grid_template_columns": null,
            "grid_template_rows": null,
            "height": null,
            "justify_content": null,
            "justify_items": null,
            "left": null,
            "margin": null,
            "max_height": null,
            "max_width": null,
            "min_height": null,
            "min_width": null,
            "object_fit": null,
            "object_position": null,
            "order": null,
            "overflow": null,
            "overflow_x": null,
            "overflow_y": null,
            "padding": null,
            "right": null,
            "top": null,
            "visibility": null,
            "width": null
          }
        },
        "93628c096a4f491fa14e1bd453d3bb2c": {
          "model_module": "@jupyter-widgets/controls",
          "model_name": "DescriptionStyleModel",
          "model_module_version": "1.5.0",
          "state": {
            "_model_module": "@jupyter-widgets/controls",
            "_model_module_version": "1.5.0",
            "_model_name": "DescriptionStyleModel",
            "_view_count": null,
            "_view_module": "@jupyter-widgets/base",
            "_view_module_version": "1.2.0",
            "_view_name": "StyleView",
            "description_width": ""
          }
        },
        "c6d223d2af8a4d1fb2e46c97324e2f72": {
          "model_module": "@jupyter-widgets/base",
          "model_name": "LayoutModel",
          "model_module_version": "1.2.0",
          "state": {
            "_model_module": "@jupyter-widgets/base",
            "_model_module_version": "1.2.0",
            "_model_name": "LayoutModel",
            "_view_count": null,
            "_view_module": "@jupyter-widgets/base",
            "_view_module_version": "1.2.0",
            "_view_name": "LayoutView",
            "align_content": null,
            "align_items": null,
            "align_self": null,
            "border": null,
            "bottom": null,
            "display": null,
            "flex": null,
            "flex_flow": null,
            "grid_area": null,
            "grid_auto_columns": null,
            "grid_auto_flow": null,
            "grid_auto_rows": null,
            "grid_column": null,
            "grid_gap": null,
            "grid_row": null,
            "grid_template_areas": null,
            "grid_template_columns": null,
            "grid_template_rows": null,
            "height": null,
            "justify_content": null,
            "justify_items": null,
            "left": null,
            "margin": null,
            "max_height": null,
            "max_width": null,
            "min_height": null,
            "min_width": null,
            "object_fit": null,
            "object_position": null,
            "order": null,
            "overflow": null,
            "overflow_x": null,
            "overflow_y": null,
            "padding": null,
            "right": null,
            "top": null,
            "visibility": null,
            "width": null
          }
        },
        "a689cb9acaa24f1893855ad6bc0773e5": {
          "model_module": "@jupyter-widgets/controls",
          "model_name": "ProgressStyleModel",
          "model_module_version": "1.5.0",
          "state": {
            "_model_module": "@jupyter-widgets/controls",
            "_model_module_version": "1.5.0",
            "_model_name": "ProgressStyleModel",
            "_view_count": null,
            "_view_module": "@jupyter-widgets/base",
            "_view_module_version": "1.2.0",
            "_view_name": "StyleView",
            "bar_color": null,
            "description_width": ""
          }
        },
        "8978eeb172764cb399c3891ef5686190": {
          "model_module": "@jupyter-widgets/base",
          "model_name": "LayoutModel",
          "model_module_version": "1.2.0",
          "state": {
            "_model_module": "@jupyter-widgets/base",
            "_model_module_version": "1.2.0",
            "_model_name": "LayoutModel",
            "_view_count": null,
            "_view_module": "@jupyter-widgets/base",
            "_view_module_version": "1.2.0",
            "_view_name": "LayoutView",
            "align_content": null,
            "align_items": null,
            "align_self": null,
            "border": null,
            "bottom": null,
            "display": null,
            "flex": null,
            "flex_flow": null,
            "grid_area": null,
            "grid_auto_columns": null,
            "grid_auto_flow": null,
            "grid_auto_rows": null,
            "grid_column": null,
            "grid_gap": null,
            "grid_row": null,
            "grid_template_areas": null,
            "grid_template_columns": null,
            "grid_template_rows": null,
            "height": null,
            "justify_content": null,
            "justify_items": null,
            "left": null,
            "margin": null,
            "max_height": null,
            "max_width": null,
            "min_height": null,
            "min_width": null,
            "object_fit": null,
            "object_position": null,
            "order": null,
            "overflow": null,
            "overflow_x": null,
            "overflow_y": null,
            "padding": null,
            "right": null,
            "top": null,
            "visibility": null,
            "width": null
          }
        },
        "5c36118a97054cc284f3b63b011cace8": {
          "model_module": "@jupyter-widgets/controls",
          "model_name": "DescriptionStyleModel",
          "model_module_version": "1.5.0",
          "state": {
            "_model_module": "@jupyter-widgets/controls",
            "_model_module_version": "1.5.0",
            "_model_name": "DescriptionStyleModel",
            "_view_count": null,
            "_view_module": "@jupyter-widgets/base",
            "_view_module_version": "1.2.0",
            "_view_name": "StyleView",
            "description_width": ""
          }
        },
        "45223a35fcc84a918f5134cde5756cc9": {
          "model_module": "@jupyter-widgets/controls",
          "model_name": "HBoxModel",
          "model_module_version": "1.5.0",
          "state": {
            "_dom_classes": [],
            "_model_module": "@jupyter-widgets/controls",
            "_model_module_version": "1.5.0",
            "_model_name": "HBoxModel",
            "_view_count": null,
            "_view_module": "@jupyter-widgets/controls",
            "_view_module_version": "1.5.0",
            "_view_name": "HBoxView",
            "box_style": "",
            "children": [
              "IPY_MODEL_fca9a0c9a8944967ac88076047811042",
              "IPY_MODEL_678cca241e4b483a8ea9f8133ef15dbe",
              "IPY_MODEL_6ae46a17b1bf40ae9e7fc7278b6eae9b"
            ],
            "layout": "IPY_MODEL_260c572fda1541c391210a1e7c1be6d3"
          }
        },
        "fca9a0c9a8944967ac88076047811042": {
          "model_module": "@jupyter-widgets/controls",
          "model_name": "HTMLModel",
          "model_module_version": "1.5.0",
          "state": {
            "_dom_classes": [],
            "_model_module": "@jupyter-widgets/controls",
            "_model_module_version": "1.5.0",
            "_model_name": "HTMLModel",
            "_view_count": null,
            "_view_module": "@jupyter-widgets/controls",
            "_view_module_version": "1.5.0",
            "_view_name": "HTMLView",
            "description": "",
            "description_tooltip": null,
            "layout": "IPY_MODEL_42f112ded05a4c4988696e93edbe09e8",
            "placeholder": "​",
            "style": "IPY_MODEL_afec926de4de45609ef66c680f76b4f0",
            "value": "Generating train split: 100%"
          }
        },
        "678cca241e4b483a8ea9f8133ef15dbe": {
          "model_module": "@jupyter-widgets/controls",
          "model_name": "FloatProgressModel",
          "model_module_version": "1.5.0",
          "state": {
            "_dom_classes": [],
            "_model_module": "@jupyter-widgets/controls",
            "_model_module_version": "1.5.0",
            "_model_name": "FloatProgressModel",
            "_view_count": null,
            "_view_module": "@jupyter-widgets/controls",
            "_view_module_version": "1.5.0",
            "_view_name": "ProgressView",
            "bar_style": "success",
            "description": "",
            "description_tooltip": null,
            "layout": "IPY_MODEL_b93b2153587c4ab2baeee69de989d013",
            "max": 3668,
            "min": 0,
            "orientation": "horizontal",
            "style": "IPY_MODEL_9d0e0ec2ef6b44f9af8540c4a5b7aaa3",
            "value": 3668
          }
        },
        "6ae46a17b1bf40ae9e7fc7278b6eae9b": {
          "model_module": "@jupyter-widgets/controls",
          "model_name": "HTMLModel",
          "model_module_version": "1.5.0",
          "state": {
            "_dom_classes": [],
            "_model_module": "@jupyter-widgets/controls",
            "_model_module_version": "1.5.0",
            "_model_name": "HTMLModel",
            "_view_count": null,
            "_view_module": "@jupyter-widgets/controls",
            "_view_module_version": "1.5.0",
            "_view_name": "HTMLView",
            "description": "",
            "description_tooltip": null,
            "layout": "IPY_MODEL_118582bb1a7b49c4b0c10807e0f11624",
            "placeholder": "​",
            "style": "IPY_MODEL_355237fbd9454d3aae2eb2c0ec8a39bc",
            "value": " 3668/3668 [00:00&lt;00:00, 66004.99 examples/s]"
          }
        },
        "260c572fda1541c391210a1e7c1be6d3": {
          "model_module": "@jupyter-widgets/base",
          "model_name": "LayoutModel",
          "model_module_version": "1.2.0",
          "state": {
            "_model_module": "@jupyter-widgets/base",
            "_model_module_version": "1.2.0",
            "_model_name": "LayoutModel",
            "_view_count": null,
            "_view_module": "@jupyter-widgets/base",
            "_view_module_version": "1.2.0",
            "_view_name": "LayoutView",
            "align_content": null,
            "align_items": null,
            "align_self": null,
            "border": null,
            "bottom": null,
            "display": null,
            "flex": null,
            "flex_flow": null,
            "grid_area": null,
            "grid_auto_columns": null,
            "grid_auto_flow": null,
            "grid_auto_rows": null,
            "grid_column": null,
            "grid_gap": null,
            "grid_row": null,
            "grid_template_areas": null,
            "grid_template_columns": null,
            "grid_template_rows": null,
            "height": null,
            "justify_content": null,
            "justify_items": null,
            "left": null,
            "margin": null,
            "max_height": null,
            "max_width": null,
            "min_height": null,
            "min_width": null,
            "object_fit": null,
            "object_position": null,
            "order": null,
            "overflow": null,
            "overflow_x": null,
            "overflow_y": null,
            "padding": null,
            "right": null,
            "top": null,
            "visibility": null,
            "width": null
          }
        },
        "42f112ded05a4c4988696e93edbe09e8": {
          "model_module": "@jupyter-widgets/base",
          "model_name": "LayoutModel",
          "model_module_version": "1.2.0",
          "state": {
            "_model_module": "@jupyter-widgets/base",
            "_model_module_version": "1.2.0",
            "_model_name": "LayoutModel",
            "_view_count": null,
            "_view_module": "@jupyter-widgets/base",
            "_view_module_version": "1.2.0",
            "_view_name": "LayoutView",
            "align_content": null,
            "align_items": null,
            "align_self": null,
            "border": null,
            "bottom": null,
            "display": null,
            "flex": null,
            "flex_flow": null,
            "grid_area": null,
            "grid_auto_columns": null,
            "grid_auto_flow": null,
            "grid_auto_rows": null,
            "grid_column": null,
            "grid_gap": null,
            "grid_row": null,
            "grid_template_areas": null,
            "grid_template_columns": null,
            "grid_template_rows": null,
            "height": null,
            "justify_content": null,
            "justify_items": null,
            "left": null,
            "margin": null,
            "max_height": null,
            "max_width": null,
            "min_height": null,
            "min_width": null,
            "object_fit": null,
            "object_position": null,
            "order": null,
            "overflow": null,
            "overflow_x": null,
            "overflow_y": null,
            "padding": null,
            "right": null,
            "top": null,
            "visibility": null,
            "width": null
          }
        },
        "afec926de4de45609ef66c680f76b4f0": {
          "model_module": "@jupyter-widgets/controls",
          "model_name": "DescriptionStyleModel",
          "model_module_version": "1.5.0",
          "state": {
            "_model_module": "@jupyter-widgets/controls",
            "_model_module_version": "1.5.0",
            "_model_name": "DescriptionStyleModel",
            "_view_count": null,
            "_view_module": "@jupyter-widgets/base",
            "_view_module_version": "1.2.0",
            "_view_name": "StyleView",
            "description_width": ""
          }
        },
        "b93b2153587c4ab2baeee69de989d013": {
          "model_module": "@jupyter-widgets/base",
          "model_name": "LayoutModel",
          "model_module_version": "1.2.0",
          "state": {
            "_model_module": "@jupyter-widgets/base",
            "_model_module_version": "1.2.0",
            "_model_name": "LayoutModel",
            "_view_count": null,
            "_view_module": "@jupyter-widgets/base",
            "_view_module_version": "1.2.0",
            "_view_name": "LayoutView",
            "align_content": null,
            "align_items": null,
            "align_self": null,
            "border": null,
            "bottom": null,
            "display": null,
            "flex": null,
            "flex_flow": null,
            "grid_area": null,
            "grid_auto_columns": null,
            "grid_auto_flow": null,
            "grid_auto_rows": null,
            "grid_column": null,
            "grid_gap": null,
            "grid_row": null,
            "grid_template_areas": null,
            "grid_template_columns": null,
            "grid_template_rows": null,
            "height": null,
            "justify_content": null,
            "justify_items": null,
            "left": null,
            "margin": null,
            "max_height": null,
            "max_width": null,
            "min_height": null,
            "min_width": null,
            "object_fit": null,
            "object_position": null,
            "order": null,
            "overflow": null,
            "overflow_x": null,
            "overflow_y": null,
            "padding": null,
            "right": null,
            "top": null,
            "visibility": null,
            "width": null
          }
        },
        "9d0e0ec2ef6b44f9af8540c4a5b7aaa3": {
          "model_module": "@jupyter-widgets/controls",
          "model_name": "ProgressStyleModel",
          "model_module_version": "1.5.0",
          "state": {
            "_model_module": "@jupyter-widgets/controls",
            "_model_module_version": "1.5.0",
            "_model_name": "ProgressStyleModel",
            "_view_count": null,
            "_view_module": "@jupyter-widgets/base",
            "_view_module_version": "1.2.0",
            "_view_name": "StyleView",
            "bar_color": null,
            "description_width": ""
          }
        },
        "118582bb1a7b49c4b0c10807e0f11624": {
          "model_module": "@jupyter-widgets/base",
          "model_name": "LayoutModel",
          "model_module_version": "1.2.0",
          "state": {
            "_model_module": "@jupyter-widgets/base",
            "_model_module_version": "1.2.0",
            "_model_name": "LayoutModel",
            "_view_count": null,
            "_view_module": "@jupyter-widgets/base",
            "_view_module_version": "1.2.0",
            "_view_name": "LayoutView",
            "align_content": null,
            "align_items": null,
            "align_self": null,
            "border": null,
            "bottom": null,
            "display": null,
            "flex": null,
            "flex_flow": null,
            "grid_area": null,
            "grid_auto_columns": null,
            "grid_auto_flow": null,
            "grid_auto_rows": null,
            "grid_column": null,
            "grid_gap": null,
            "grid_row": null,
            "grid_template_areas": null,
            "grid_template_columns": null,
            "grid_template_rows": null,
            "height": null,
            "justify_content": null,
            "justify_items": null,
            "left": null,
            "margin": null,
            "max_height": null,
            "max_width": null,
            "min_height": null,
            "min_width": null,
            "object_fit": null,
            "object_position": null,
            "order": null,
            "overflow": null,
            "overflow_x": null,
            "overflow_y": null,
            "padding": null,
            "right": null,
            "top": null,
            "visibility": null,
            "width": null
          }
        },
        "355237fbd9454d3aae2eb2c0ec8a39bc": {
          "model_module": "@jupyter-widgets/controls",
          "model_name": "DescriptionStyleModel",
          "model_module_version": "1.5.0",
          "state": {
            "_model_module": "@jupyter-widgets/controls",
            "_model_module_version": "1.5.0",
            "_model_name": "DescriptionStyleModel",
            "_view_count": null,
            "_view_module": "@jupyter-widgets/base",
            "_view_module_version": "1.2.0",
            "_view_name": "StyleView",
            "description_width": ""
          }
        },
        "241faaaf9a0d4e44817a29b1ed92173f": {
          "model_module": "@jupyter-widgets/controls",
          "model_name": "HBoxModel",
          "model_module_version": "1.5.0",
          "state": {
            "_dom_classes": [],
            "_model_module": "@jupyter-widgets/controls",
            "_model_module_version": "1.5.0",
            "_model_name": "HBoxModel",
            "_view_count": null,
            "_view_module": "@jupyter-widgets/controls",
            "_view_module_version": "1.5.0",
            "_view_name": "HBoxView",
            "box_style": "",
            "children": [
              "IPY_MODEL_14648a7238514e9c99e02db4f8deca70",
              "IPY_MODEL_a07b52b5c548449ba1f1109af79eeb5a",
              "IPY_MODEL_ac1712d81daa4a17b74561db4e5b73e9"
            ],
            "layout": "IPY_MODEL_951e7f69bbe841b79647161c2eee63d4"
          }
        },
        "14648a7238514e9c99e02db4f8deca70": {
          "model_module": "@jupyter-widgets/controls",
          "model_name": "HTMLModel",
          "model_module_version": "1.5.0",
          "state": {
            "_dom_classes": [],
            "_model_module": "@jupyter-widgets/controls",
            "_model_module_version": "1.5.0",
            "_model_name": "HTMLModel",
            "_view_count": null,
            "_view_module": "@jupyter-widgets/controls",
            "_view_module_version": "1.5.0",
            "_view_name": "HTMLView",
            "description": "",
            "description_tooltip": null,
            "layout": "IPY_MODEL_7d3b8503aec8470c9d07f3d0c1359d5c",
            "placeholder": "​",
            "style": "IPY_MODEL_64bfdebcfb3440e0b0ef2f8e9c6bb5bf",
            "value": "Generating validation split: 100%"
          }
        },
        "a07b52b5c548449ba1f1109af79eeb5a": {
          "model_module": "@jupyter-widgets/controls",
          "model_name": "FloatProgressModel",
          "model_module_version": "1.5.0",
          "state": {
            "_dom_classes": [],
            "_model_module": "@jupyter-widgets/controls",
            "_model_module_version": "1.5.0",
            "_model_name": "FloatProgressModel",
            "_view_count": null,
            "_view_module": "@jupyter-widgets/controls",
            "_view_module_version": "1.5.0",
            "_view_name": "ProgressView",
            "bar_style": "success",
            "description": "",
            "description_tooltip": null,
            "layout": "IPY_MODEL_86de82b392584bbd9d1e42f74d86a56c",
            "max": 408,
            "min": 0,
            "orientation": "horizontal",
            "style": "IPY_MODEL_3d13b3e24ba54bf399c700e426ecb251",
            "value": 408
          }
        },
        "ac1712d81daa4a17b74561db4e5b73e9": {
          "model_module": "@jupyter-widgets/controls",
          "model_name": "HTMLModel",
          "model_module_version": "1.5.0",
          "state": {
            "_dom_classes": [],
            "_model_module": "@jupyter-widgets/controls",
            "_model_module_version": "1.5.0",
            "_model_name": "HTMLModel",
            "_view_count": null,
            "_view_module": "@jupyter-widgets/controls",
            "_view_module_version": "1.5.0",
            "_view_name": "HTMLView",
            "description": "",
            "description_tooltip": null,
            "layout": "IPY_MODEL_e2b1d6f403ae4df1b171a65a957bd7f2",
            "placeholder": "​",
            "style": "IPY_MODEL_f65d8e672de24c059466426d1a13357e",
            "value": " 408/408 [00:00&lt;00:00, 19808.04 examples/s]"
          }
        },
        "951e7f69bbe841b79647161c2eee63d4": {
          "model_module": "@jupyter-widgets/base",
          "model_name": "LayoutModel",
          "model_module_version": "1.2.0",
          "state": {
            "_model_module": "@jupyter-widgets/base",
            "_model_module_version": "1.2.0",
            "_model_name": "LayoutModel",
            "_view_count": null,
            "_view_module": "@jupyter-widgets/base",
            "_view_module_version": "1.2.0",
            "_view_name": "LayoutView",
            "align_content": null,
            "align_items": null,
            "align_self": null,
            "border": null,
            "bottom": null,
            "display": null,
            "flex": null,
            "flex_flow": null,
            "grid_area": null,
            "grid_auto_columns": null,
            "grid_auto_flow": null,
            "grid_auto_rows": null,
            "grid_column": null,
            "grid_gap": null,
            "grid_row": null,
            "grid_template_areas": null,
            "grid_template_columns": null,
            "grid_template_rows": null,
            "height": null,
            "justify_content": null,
            "justify_items": null,
            "left": null,
            "margin": null,
            "max_height": null,
            "max_width": null,
            "min_height": null,
            "min_width": null,
            "object_fit": null,
            "object_position": null,
            "order": null,
            "overflow": null,
            "overflow_x": null,
            "overflow_y": null,
            "padding": null,
            "right": null,
            "top": null,
            "visibility": null,
            "width": null
          }
        },
        "7d3b8503aec8470c9d07f3d0c1359d5c": {
          "model_module": "@jupyter-widgets/base",
          "model_name": "LayoutModel",
          "model_module_version": "1.2.0",
          "state": {
            "_model_module": "@jupyter-widgets/base",
            "_model_module_version": "1.2.0",
            "_model_name": "LayoutModel",
            "_view_count": null,
            "_view_module": "@jupyter-widgets/base",
            "_view_module_version": "1.2.0",
            "_view_name": "LayoutView",
            "align_content": null,
            "align_items": null,
            "align_self": null,
            "border": null,
            "bottom": null,
            "display": null,
            "flex": null,
            "flex_flow": null,
            "grid_area": null,
            "grid_auto_columns": null,
            "grid_auto_flow": null,
            "grid_auto_rows": null,
            "grid_column": null,
            "grid_gap": null,
            "grid_row": null,
            "grid_template_areas": null,
            "grid_template_columns": null,
            "grid_template_rows": null,
            "height": null,
            "justify_content": null,
            "justify_items": null,
            "left": null,
            "margin": null,
            "max_height": null,
            "max_width": null,
            "min_height": null,
            "min_width": null,
            "object_fit": null,
            "object_position": null,
            "order": null,
            "overflow": null,
            "overflow_x": null,
            "overflow_y": null,
            "padding": null,
            "right": null,
            "top": null,
            "visibility": null,
            "width": null
          }
        },
        "64bfdebcfb3440e0b0ef2f8e9c6bb5bf": {
          "model_module": "@jupyter-widgets/controls",
          "model_name": "DescriptionStyleModel",
          "model_module_version": "1.5.0",
          "state": {
            "_model_module": "@jupyter-widgets/controls",
            "_model_module_version": "1.5.0",
            "_model_name": "DescriptionStyleModel",
            "_view_count": null,
            "_view_module": "@jupyter-widgets/base",
            "_view_module_version": "1.2.0",
            "_view_name": "StyleView",
            "description_width": ""
          }
        },
        "86de82b392584bbd9d1e42f74d86a56c": {
          "model_module": "@jupyter-widgets/base",
          "model_name": "LayoutModel",
          "model_module_version": "1.2.0",
          "state": {
            "_model_module": "@jupyter-widgets/base",
            "_model_module_version": "1.2.0",
            "_model_name": "LayoutModel",
            "_view_count": null,
            "_view_module": "@jupyter-widgets/base",
            "_view_module_version": "1.2.0",
            "_view_name": "LayoutView",
            "align_content": null,
            "align_items": null,
            "align_self": null,
            "border": null,
            "bottom": null,
            "display": null,
            "flex": null,
            "flex_flow": null,
            "grid_area": null,
            "grid_auto_columns": null,
            "grid_auto_flow": null,
            "grid_auto_rows": null,
            "grid_column": null,
            "grid_gap": null,
            "grid_row": null,
            "grid_template_areas": null,
            "grid_template_columns": null,
            "grid_template_rows": null,
            "height": null,
            "justify_content": null,
            "justify_items": null,
            "left": null,
            "margin": null,
            "max_height": null,
            "max_width": null,
            "min_height": null,
            "min_width": null,
            "object_fit": null,
            "object_position": null,
            "order": null,
            "overflow": null,
            "overflow_x": null,
            "overflow_y": null,
            "padding": null,
            "right": null,
            "top": null,
            "visibility": null,
            "width": null
          }
        },
        "3d13b3e24ba54bf399c700e426ecb251": {
          "model_module": "@jupyter-widgets/controls",
          "model_name": "ProgressStyleModel",
          "model_module_version": "1.5.0",
          "state": {
            "_model_module": "@jupyter-widgets/controls",
            "_model_module_version": "1.5.0",
            "_model_name": "ProgressStyleModel",
            "_view_count": null,
            "_view_module": "@jupyter-widgets/base",
            "_view_module_version": "1.2.0",
            "_view_name": "StyleView",
            "bar_color": null,
            "description_width": ""
          }
        },
        "e2b1d6f403ae4df1b171a65a957bd7f2": {
          "model_module": "@jupyter-widgets/base",
          "model_name": "LayoutModel",
          "model_module_version": "1.2.0",
          "state": {
            "_model_module": "@jupyter-widgets/base",
            "_model_module_version": "1.2.0",
            "_model_name": "LayoutModel",
            "_view_count": null,
            "_view_module": "@jupyter-widgets/base",
            "_view_module_version": "1.2.0",
            "_view_name": "LayoutView",
            "align_content": null,
            "align_items": null,
            "align_self": null,
            "border": null,
            "bottom": null,
            "display": null,
            "flex": null,
            "flex_flow": null,
            "grid_area": null,
            "grid_auto_columns": null,
            "grid_auto_flow": null,
            "grid_auto_rows": null,
            "grid_column": null,
            "grid_gap": null,
            "grid_row": null,
            "grid_template_areas": null,
            "grid_template_columns": null,
            "grid_template_rows": null,
            "height": null,
            "justify_content": null,
            "justify_items": null,
            "left": null,
            "margin": null,
            "max_height": null,
            "max_width": null,
            "min_height": null,
            "min_width": null,
            "object_fit": null,
            "object_position": null,
            "order": null,
            "overflow": null,
            "overflow_x": null,
            "overflow_y": null,
            "padding": null,
            "right": null,
            "top": null,
            "visibility": null,
            "width": null
          }
        },
        "f65d8e672de24c059466426d1a13357e": {
          "model_module": "@jupyter-widgets/controls",
          "model_name": "DescriptionStyleModel",
          "model_module_version": "1.5.0",
          "state": {
            "_model_module": "@jupyter-widgets/controls",
            "_model_module_version": "1.5.0",
            "_model_name": "DescriptionStyleModel",
            "_view_count": null,
            "_view_module": "@jupyter-widgets/base",
            "_view_module_version": "1.2.0",
            "_view_name": "StyleView",
            "description_width": ""
          }
        },
        "b37a9f14bbb44fd2b81b9910d30cd315": {
          "model_module": "@jupyter-widgets/controls",
          "model_name": "HBoxModel",
          "model_module_version": "1.5.0",
          "state": {
            "_dom_classes": [],
            "_model_module": "@jupyter-widgets/controls",
            "_model_module_version": "1.5.0",
            "_model_name": "HBoxModel",
            "_view_count": null,
            "_view_module": "@jupyter-widgets/controls",
            "_view_module_version": "1.5.0",
            "_view_name": "HBoxView",
            "box_style": "",
            "children": [
              "IPY_MODEL_0a1858e0e8b64a32942ea59087a9337b",
              "IPY_MODEL_0b4167d0978848e58e801d112d46eed7",
              "IPY_MODEL_d77108e8fc9a44508a65e8c899b26cbd"
            ],
            "layout": "IPY_MODEL_59ac381647814724b11ab78a126bff18"
          }
        },
        "0a1858e0e8b64a32942ea59087a9337b": {
          "model_module": "@jupyter-widgets/controls",
          "model_name": "HTMLModel",
          "model_module_version": "1.5.0",
          "state": {
            "_dom_classes": [],
            "_model_module": "@jupyter-widgets/controls",
            "_model_module_version": "1.5.0",
            "_model_name": "HTMLModel",
            "_view_count": null,
            "_view_module": "@jupyter-widgets/controls",
            "_view_module_version": "1.5.0",
            "_view_name": "HTMLView",
            "description": "",
            "description_tooltip": null,
            "layout": "IPY_MODEL_9e7294fc95d946d487f9ee7abb847669",
            "placeholder": "​",
            "style": "IPY_MODEL_ff0c53dd64de42c09aa5f4508991ec42",
            "value": "Generating test split: 100%"
          }
        },
        "0b4167d0978848e58e801d112d46eed7": {
          "model_module": "@jupyter-widgets/controls",
          "model_name": "FloatProgressModel",
          "model_module_version": "1.5.0",
          "state": {
            "_dom_classes": [],
            "_model_module": "@jupyter-widgets/controls",
            "_model_module_version": "1.5.0",
            "_model_name": "FloatProgressModel",
            "_view_count": null,
            "_view_module": "@jupyter-widgets/controls",
            "_view_module_version": "1.5.0",
            "_view_name": "ProgressView",
            "bar_style": "success",
            "description": "",
            "description_tooltip": null,
            "layout": "IPY_MODEL_35b1e854d5fd4dd8b53925f15f4052dd",
            "max": 1725,
            "min": 0,
            "orientation": "horizontal",
            "style": "IPY_MODEL_1a5b20d6ca7c4d3db7549d700df61ecc",
            "value": 1725
          }
        },
        "d77108e8fc9a44508a65e8c899b26cbd": {
          "model_module": "@jupyter-widgets/controls",
          "model_name": "HTMLModel",
          "model_module_version": "1.5.0",
          "state": {
            "_dom_classes": [],
            "_model_module": "@jupyter-widgets/controls",
            "_model_module_version": "1.5.0",
            "_model_name": "HTMLModel",
            "_view_count": null,
            "_view_module": "@jupyter-widgets/controls",
            "_view_module_version": "1.5.0",
            "_view_name": "HTMLView",
            "description": "",
            "description_tooltip": null,
            "layout": "IPY_MODEL_24a7af597d8246f8883bbf47dd23ad5e",
            "placeholder": "​",
            "style": "IPY_MODEL_b497c18db9b647a9a199c623ef819382",
            "value": " 1725/1725 [00:00&lt;00:00, 88850.37 examples/s]"
          }
        },
        "59ac381647814724b11ab78a126bff18": {
          "model_module": "@jupyter-widgets/base",
          "model_name": "LayoutModel",
          "model_module_version": "1.2.0",
          "state": {
            "_model_module": "@jupyter-widgets/base",
            "_model_module_version": "1.2.0",
            "_model_name": "LayoutModel",
            "_view_count": null,
            "_view_module": "@jupyter-widgets/base",
            "_view_module_version": "1.2.0",
            "_view_name": "LayoutView",
            "align_content": null,
            "align_items": null,
            "align_self": null,
            "border": null,
            "bottom": null,
            "display": null,
            "flex": null,
            "flex_flow": null,
            "grid_area": null,
            "grid_auto_columns": null,
            "grid_auto_flow": null,
            "grid_auto_rows": null,
            "grid_column": null,
            "grid_gap": null,
            "grid_row": null,
            "grid_template_areas": null,
            "grid_template_columns": null,
            "grid_template_rows": null,
            "height": null,
            "justify_content": null,
            "justify_items": null,
            "left": null,
            "margin": null,
            "max_height": null,
            "max_width": null,
            "min_height": null,
            "min_width": null,
            "object_fit": null,
            "object_position": null,
            "order": null,
            "overflow": null,
            "overflow_x": null,
            "overflow_y": null,
            "padding": null,
            "right": null,
            "top": null,
            "visibility": null,
            "width": null
          }
        },
        "9e7294fc95d946d487f9ee7abb847669": {
          "model_module": "@jupyter-widgets/base",
          "model_name": "LayoutModel",
          "model_module_version": "1.2.0",
          "state": {
            "_model_module": "@jupyter-widgets/base",
            "_model_module_version": "1.2.0",
            "_model_name": "LayoutModel",
            "_view_count": null,
            "_view_module": "@jupyter-widgets/base",
            "_view_module_version": "1.2.0",
            "_view_name": "LayoutView",
            "align_content": null,
            "align_items": null,
            "align_self": null,
            "border": null,
            "bottom": null,
            "display": null,
            "flex": null,
            "flex_flow": null,
            "grid_area": null,
            "grid_auto_columns": null,
            "grid_auto_flow": null,
            "grid_auto_rows": null,
            "grid_column": null,
            "grid_gap": null,
            "grid_row": null,
            "grid_template_areas": null,
            "grid_template_columns": null,
            "grid_template_rows": null,
            "height": null,
            "justify_content": null,
            "justify_items": null,
            "left": null,
            "margin": null,
            "max_height": null,
            "max_width": null,
            "min_height": null,
            "min_width": null,
            "object_fit": null,
            "object_position": null,
            "order": null,
            "overflow": null,
            "overflow_x": null,
            "overflow_y": null,
            "padding": null,
            "right": null,
            "top": null,
            "visibility": null,
            "width": null
          }
        },
        "ff0c53dd64de42c09aa5f4508991ec42": {
          "model_module": "@jupyter-widgets/controls",
          "model_name": "DescriptionStyleModel",
          "model_module_version": "1.5.0",
          "state": {
            "_model_module": "@jupyter-widgets/controls",
            "_model_module_version": "1.5.0",
            "_model_name": "DescriptionStyleModel",
            "_view_count": null,
            "_view_module": "@jupyter-widgets/base",
            "_view_module_version": "1.2.0",
            "_view_name": "StyleView",
            "description_width": ""
          }
        },
        "35b1e854d5fd4dd8b53925f15f4052dd": {
          "model_module": "@jupyter-widgets/base",
          "model_name": "LayoutModel",
          "model_module_version": "1.2.0",
          "state": {
            "_model_module": "@jupyter-widgets/base",
            "_model_module_version": "1.2.0",
            "_model_name": "LayoutModel",
            "_view_count": null,
            "_view_module": "@jupyter-widgets/base",
            "_view_module_version": "1.2.0",
            "_view_name": "LayoutView",
            "align_content": null,
            "align_items": null,
            "align_self": null,
            "border": null,
            "bottom": null,
            "display": null,
            "flex": null,
            "flex_flow": null,
            "grid_area": null,
            "grid_auto_columns": null,
            "grid_auto_flow": null,
            "grid_auto_rows": null,
            "grid_column": null,
            "grid_gap": null,
            "grid_row": null,
            "grid_template_areas": null,
            "grid_template_columns": null,
            "grid_template_rows": null,
            "height": null,
            "justify_content": null,
            "justify_items": null,
            "left": null,
            "margin": null,
            "max_height": null,
            "max_width": null,
            "min_height": null,
            "min_width": null,
            "object_fit": null,
            "object_position": null,
            "order": null,
            "overflow": null,
            "overflow_x": null,
            "overflow_y": null,
            "padding": null,
            "right": null,
            "top": null,
            "visibility": null,
            "width": null
          }
        },
        "1a5b20d6ca7c4d3db7549d700df61ecc": {
          "model_module": "@jupyter-widgets/controls",
          "model_name": "ProgressStyleModel",
          "model_module_version": "1.5.0",
          "state": {
            "_model_module": "@jupyter-widgets/controls",
            "_model_module_version": "1.5.0",
            "_model_name": "ProgressStyleModel",
            "_view_count": null,
            "_view_module": "@jupyter-widgets/base",
            "_view_module_version": "1.2.0",
            "_view_name": "StyleView",
            "bar_color": null,
            "description_width": ""
          }
        },
        "24a7af597d8246f8883bbf47dd23ad5e": {
          "model_module": "@jupyter-widgets/base",
          "model_name": "LayoutModel",
          "model_module_version": "1.2.0",
          "state": {
            "_model_module": "@jupyter-widgets/base",
            "_model_module_version": "1.2.0",
            "_model_name": "LayoutModel",
            "_view_count": null,
            "_view_module": "@jupyter-widgets/base",
            "_view_module_version": "1.2.0",
            "_view_name": "LayoutView",
            "align_content": null,
            "align_items": null,
            "align_self": null,
            "border": null,
            "bottom": null,
            "display": null,
            "flex": null,
            "flex_flow": null,
            "grid_area": null,
            "grid_auto_columns": null,
            "grid_auto_flow": null,
            "grid_auto_rows": null,
            "grid_column": null,
            "grid_gap": null,
            "grid_row": null,
            "grid_template_areas": null,
            "grid_template_columns": null,
            "grid_template_rows": null,
            "height": null,
            "justify_content": null,
            "justify_items": null,
            "left": null,
            "margin": null,
            "max_height": null,
            "max_width": null,
            "min_height": null,
            "min_width": null,
            "object_fit": null,
            "object_position": null,
            "order": null,
            "overflow": null,
            "overflow_x": null,
            "overflow_y": null,
            "padding": null,
            "right": null,
            "top": null,
            "visibility": null,
            "width": null
          }
        },
        "b497c18db9b647a9a199c623ef819382": {
          "model_module": "@jupyter-widgets/controls",
          "model_name": "DescriptionStyleModel",
          "model_module_version": "1.5.0",
          "state": {
            "_model_module": "@jupyter-widgets/controls",
            "_model_module_version": "1.5.0",
            "_model_name": "DescriptionStyleModel",
            "_view_count": null,
            "_view_module": "@jupyter-widgets/base",
            "_view_module_version": "1.2.0",
            "_view_name": "StyleView",
            "description_width": ""
          }
        },
        "cbc138b723b54ea9982f7f6c95821c89": {
          "model_module": "@jupyter-widgets/controls",
          "model_name": "HBoxModel",
          "model_module_version": "1.5.0",
          "state": {
            "_dom_classes": [],
            "_model_module": "@jupyter-widgets/controls",
            "_model_module_version": "1.5.0",
            "_model_name": "HBoxModel",
            "_view_count": null,
            "_view_module": "@jupyter-widgets/controls",
            "_view_module_version": "1.5.0",
            "_view_name": "HBoxView",
            "box_style": "",
            "children": [
              "IPY_MODEL_903e8005a8634772a83c2515e98931c9",
              "IPY_MODEL_2ba06432cbdc4b07a650ac2d22dbf2d2",
              "IPY_MODEL_71152ee14d9f40248f6ef9c6eeea9a2d"
            ],
            "layout": "IPY_MODEL_4db4716a53a34b998cdc161d9cfcf659"
          }
        },
        "903e8005a8634772a83c2515e98931c9": {
          "model_module": "@jupyter-widgets/controls",
          "model_name": "HTMLModel",
          "model_module_version": "1.5.0",
          "state": {
            "_dom_classes": [],
            "_model_module": "@jupyter-widgets/controls",
            "_model_module_version": "1.5.0",
            "_model_name": "HTMLModel",
            "_view_count": null,
            "_view_module": "@jupyter-widgets/controls",
            "_view_module_version": "1.5.0",
            "_view_name": "HTMLView",
            "description": "",
            "description_tooltip": null,
            "layout": "IPY_MODEL_d186fd5223de4be59922c124aefb81aa",
            "placeholder": "​",
            "style": "IPY_MODEL_041b2f7ba1584ce0a0d4849265348ee6",
            "value": "config.json: 100%"
          }
        },
        "2ba06432cbdc4b07a650ac2d22dbf2d2": {
          "model_module": "@jupyter-widgets/controls",
          "model_name": "FloatProgressModel",
          "model_module_version": "1.5.0",
          "state": {
            "_dom_classes": [],
            "_model_module": "@jupyter-widgets/controls",
            "_model_module_version": "1.5.0",
            "_model_name": "FloatProgressModel",
            "_view_count": null,
            "_view_module": "@jupyter-widgets/controls",
            "_view_module_version": "1.5.0",
            "_view_name": "ProgressView",
            "bar_style": "success",
            "description": "",
            "description_tooltip": null,
            "layout": "IPY_MODEL_8f6251545484467daf4b5639b95f2cb2",
            "max": 285,
            "min": 0,
            "orientation": "horizontal",
            "style": "IPY_MODEL_03a83a26362a4b92afdc5f8377903d81",
            "value": 285
          }
        },
        "71152ee14d9f40248f6ef9c6eeea9a2d": {
          "model_module": "@jupyter-widgets/controls",
          "model_name": "HTMLModel",
          "model_module_version": "1.5.0",
          "state": {
            "_dom_classes": [],
            "_model_module": "@jupyter-widgets/controls",
            "_model_module_version": "1.5.0",
            "_model_name": "HTMLModel",
            "_view_count": null,
            "_view_module": "@jupyter-widgets/controls",
            "_view_module_version": "1.5.0",
            "_view_name": "HTMLView",
            "description": "",
            "description_tooltip": null,
            "layout": "IPY_MODEL_01a46e1bd17b4a5aa66e6b99cd1c478c",
            "placeholder": "​",
            "style": "IPY_MODEL_6756ac2bbe22459b970495c2b2f34116",
            "value": " 285/285 [00:00&lt;00:00, 23.8kB/s]"
          }
        },
        "4db4716a53a34b998cdc161d9cfcf659": {
          "model_module": "@jupyter-widgets/base",
          "model_name": "LayoutModel",
          "model_module_version": "1.2.0",
          "state": {
            "_model_module": "@jupyter-widgets/base",
            "_model_module_version": "1.2.0",
            "_model_name": "LayoutModel",
            "_view_count": null,
            "_view_module": "@jupyter-widgets/base",
            "_view_module_version": "1.2.0",
            "_view_name": "LayoutView",
            "align_content": null,
            "align_items": null,
            "align_self": null,
            "border": null,
            "bottom": null,
            "display": null,
            "flex": null,
            "flex_flow": null,
            "grid_area": null,
            "grid_auto_columns": null,
            "grid_auto_flow": null,
            "grid_auto_rows": null,
            "grid_column": null,
            "grid_gap": null,
            "grid_row": null,
            "grid_template_areas": null,
            "grid_template_columns": null,
            "grid_template_rows": null,
            "height": null,
            "justify_content": null,
            "justify_items": null,
            "left": null,
            "margin": null,
            "max_height": null,
            "max_width": null,
            "min_height": null,
            "min_width": null,
            "object_fit": null,
            "object_position": null,
            "order": null,
            "overflow": null,
            "overflow_x": null,
            "overflow_y": null,
            "padding": null,
            "right": null,
            "top": null,
            "visibility": null,
            "width": null
          }
        },
        "d186fd5223de4be59922c124aefb81aa": {
          "model_module": "@jupyter-widgets/base",
          "model_name": "LayoutModel",
          "model_module_version": "1.2.0",
          "state": {
            "_model_module": "@jupyter-widgets/base",
            "_model_module_version": "1.2.0",
            "_model_name": "LayoutModel",
            "_view_count": null,
            "_view_module": "@jupyter-widgets/base",
            "_view_module_version": "1.2.0",
            "_view_name": "LayoutView",
            "align_content": null,
            "align_items": null,
            "align_self": null,
            "border": null,
            "bottom": null,
            "display": null,
            "flex": null,
            "flex_flow": null,
            "grid_area": null,
            "grid_auto_columns": null,
            "grid_auto_flow": null,
            "grid_auto_rows": null,
            "grid_column": null,
            "grid_gap": null,
            "grid_row": null,
            "grid_template_areas": null,
            "grid_template_columns": null,
            "grid_template_rows": null,
            "height": null,
            "justify_content": null,
            "justify_items": null,
            "left": null,
            "margin": null,
            "max_height": null,
            "max_width": null,
            "min_height": null,
            "min_width": null,
            "object_fit": null,
            "object_position": null,
            "order": null,
            "overflow": null,
            "overflow_x": null,
            "overflow_y": null,
            "padding": null,
            "right": null,
            "top": null,
            "visibility": null,
            "width": null
          }
        },
        "041b2f7ba1584ce0a0d4849265348ee6": {
          "model_module": "@jupyter-widgets/controls",
          "model_name": "DescriptionStyleModel",
          "model_module_version": "1.5.0",
          "state": {
            "_model_module": "@jupyter-widgets/controls",
            "_model_module_version": "1.5.0",
            "_model_name": "DescriptionStyleModel",
            "_view_count": null,
            "_view_module": "@jupyter-widgets/base",
            "_view_module_version": "1.2.0",
            "_view_name": "StyleView",
            "description_width": ""
          }
        },
        "8f6251545484467daf4b5639b95f2cb2": {
          "model_module": "@jupyter-widgets/base",
          "model_name": "LayoutModel",
          "model_module_version": "1.2.0",
          "state": {
            "_model_module": "@jupyter-widgets/base",
            "_model_module_version": "1.2.0",
            "_model_name": "LayoutModel",
            "_view_count": null,
            "_view_module": "@jupyter-widgets/base",
            "_view_module_version": "1.2.0",
            "_view_name": "LayoutView",
            "align_content": null,
            "align_items": null,
            "align_self": null,
            "border": null,
            "bottom": null,
            "display": null,
            "flex": null,
            "flex_flow": null,
            "grid_area": null,
            "grid_auto_columns": null,
            "grid_auto_flow": null,
            "grid_auto_rows": null,
            "grid_column": null,
            "grid_gap": null,
            "grid_row": null,
            "grid_template_areas": null,
            "grid_template_columns": null,
            "grid_template_rows": null,
            "height": null,
            "justify_content": null,
            "justify_items": null,
            "left": null,
            "margin": null,
            "max_height": null,
            "max_width": null,
            "min_height": null,
            "min_width": null,
            "object_fit": null,
            "object_position": null,
            "order": null,
            "overflow": null,
            "overflow_x": null,
            "overflow_y": null,
            "padding": null,
            "right": null,
            "top": null,
            "visibility": null,
            "width": null
          }
        },
        "03a83a26362a4b92afdc5f8377903d81": {
          "model_module": "@jupyter-widgets/controls",
          "model_name": "ProgressStyleModel",
          "model_module_version": "1.5.0",
          "state": {
            "_model_module": "@jupyter-widgets/controls",
            "_model_module_version": "1.5.0",
            "_model_name": "ProgressStyleModel",
            "_view_count": null,
            "_view_module": "@jupyter-widgets/base",
            "_view_module_version": "1.2.0",
            "_view_name": "StyleView",
            "bar_color": null,
            "description_width": ""
          }
        },
        "01a46e1bd17b4a5aa66e6b99cd1c478c": {
          "model_module": "@jupyter-widgets/base",
          "model_name": "LayoutModel",
          "model_module_version": "1.2.0",
          "state": {
            "_model_module": "@jupyter-widgets/base",
            "_model_module_version": "1.2.0",
            "_model_name": "LayoutModel",
            "_view_count": null,
            "_view_module": "@jupyter-widgets/base",
            "_view_module_version": "1.2.0",
            "_view_name": "LayoutView",
            "align_content": null,
            "align_items": null,
            "align_self": null,
            "border": null,
            "bottom": null,
            "display": null,
            "flex": null,
            "flex_flow": null,
            "grid_area": null,
            "grid_auto_columns": null,
            "grid_auto_flow": null,
            "grid_auto_rows": null,
            "grid_column": null,
            "grid_gap": null,
            "grid_row": null,
            "grid_template_areas": null,
            "grid_template_columns": null,
            "grid_template_rows": null,
            "height": null,
            "justify_content": null,
            "justify_items": null,
            "left": null,
            "margin": null,
            "max_height": null,
            "max_width": null,
            "min_height": null,
            "min_width": null,
            "object_fit": null,
            "object_position": null,
            "order": null,
            "overflow": null,
            "overflow_x": null,
            "overflow_y": null,
            "padding": null,
            "right": null,
            "top": null,
            "visibility": null,
            "width": null
          }
        },
        "6756ac2bbe22459b970495c2b2f34116": {
          "model_module": "@jupyter-widgets/controls",
          "model_name": "DescriptionStyleModel",
          "model_module_version": "1.5.0",
          "state": {
            "_model_module": "@jupyter-widgets/controls",
            "_model_module_version": "1.5.0",
            "_model_name": "DescriptionStyleModel",
            "_view_count": null,
            "_view_module": "@jupyter-widgets/base",
            "_view_module_version": "1.2.0",
            "_view_name": "StyleView",
            "description_width": ""
          }
        },
        "c5690361782349288ef5f27f4a76c296": {
          "model_module": "@jupyter-widgets/controls",
          "model_name": "HBoxModel",
          "model_module_version": "1.5.0",
          "state": {
            "_dom_classes": [],
            "_model_module": "@jupyter-widgets/controls",
            "_model_module_version": "1.5.0",
            "_model_name": "HBoxModel",
            "_view_count": null,
            "_view_module": "@jupyter-widgets/controls",
            "_view_module_version": "1.5.0",
            "_view_name": "HBoxView",
            "box_style": "",
            "children": [
              "IPY_MODEL_1344a68d5239478d92c208c076479e22",
              "IPY_MODEL_f9b792c7eddf4a93a7db2690d29c786d",
              "IPY_MODEL_554baed562c3476fb42a38c4152552eb"
            ],
            "layout": "IPY_MODEL_bbb5c1d7b60e4fe090c99233d0590865"
          }
        },
        "1344a68d5239478d92c208c076479e22": {
          "model_module": "@jupyter-widgets/controls",
          "model_name": "HTMLModel",
          "model_module_version": "1.5.0",
          "state": {
            "_dom_classes": [],
            "_model_module": "@jupyter-widgets/controls",
            "_model_module_version": "1.5.0",
            "_model_name": "HTMLModel",
            "_view_count": null,
            "_view_module": "@jupyter-widgets/controls",
            "_view_module_version": "1.5.0",
            "_view_name": "HTMLView",
            "description": "",
            "description_tooltip": null,
            "layout": "IPY_MODEL_5aa72eade6d54ebf9552b00f5af0242a",
            "placeholder": "​",
            "style": "IPY_MODEL_dcb51fba04a54ac9bd59030013f9d199",
            "value": "vocab.txt: 100%"
          }
        },
        "f9b792c7eddf4a93a7db2690d29c786d": {
          "model_module": "@jupyter-widgets/controls",
          "model_name": "FloatProgressModel",
          "model_module_version": "1.5.0",
          "state": {
            "_dom_classes": [],
            "_model_module": "@jupyter-widgets/controls",
            "_model_module_version": "1.5.0",
            "_model_name": "FloatProgressModel",
            "_view_count": null,
            "_view_module": "@jupyter-widgets/controls",
            "_view_module_version": "1.5.0",
            "_view_name": "ProgressView",
            "bar_style": "success",
            "description": "",
            "description_tooltip": null,
            "layout": "IPY_MODEL_61a8175ee2e842f0aa85a20005c1d8c2",
            "max": 231508,
            "min": 0,
            "orientation": "horizontal",
            "style": "IPY_MODEL_e202b51e29644e3b81e2a22c5a7f9d0f",
            "value": 231508
          }
        },
        "554baed562c3476fb42a38c4152552eb": {
          "model_module": "@jupyter-widgets/controls",
          "model_name": "HTMLModel",
          "model_module_version": "1.5.0",
          "state": {
            "_dom_classes": [],
            "_model_module": "@jupyter-widgets/controls",
            "_model_module_version": "1.5.0",
            "_model_name": "HTMLModel",
            "_view_count": null,
            "_view_module": "@jupyter-widgets/controls",
            "_view_module_version": "1.5.0",
            "_view_name": "HTMLView",
            "description": "",
            "description_tooltip": null,
            "layout": "IPY_MODEL_eb5d8f6444904a998b89f40e7d4213bf",
            "placeholder": "​",
            "style": "IPY_MODEL_a6d48930bbe544eea1bdac69fb4dd07d",
            "value": " 232k/232k [00:00&lt;00:00, 9.47MB/s]"
          }
        },
        "bbb5c1d7b60e4fe090c99233d0590865": {
          "model_module": "@jupyter-widgets/base",
          "model_name": "LayoutModel",
          "model_module_version": "1.2.0",
          "state": {
            "_model_module": "@jupyter-widgets/base",
            "_model_module_version": "1.2.0",
            "_model_name": "LayoutModel",
            "_view_count": null,
            "_view_module": "@jupyter-widgets/base",
            "_view_module_version": "1.2.0",
            "_view_name": "LayoutView",
            "align_content": null,
            "align_items": null,
            "align_self": null,
            "border": null,
            "bottom": null,
            "display": null,
            "flex": null,
            "flex_flow": null,
            "grid_area": null,
            "grid_auto_columns": null,
            "grid_auto_flow": null,
            "grid_auto_rows": null,
            "grid_column": null,
            "grid_gap": null,
            "grid_row": null,
            "grid_template_areas": null,
            "grid_template_columns": null,
            "grid_template_rows": null,
            "height": null,
            "justify_content": null,
            "justify_items": null,
            "left": null,
            "margin": null,
            "max_height": null,
            "max_width": null,
            "min_height": null,
            "min_width": null,
            "object_fit": null,
            "object_position": null,
            "order": null,
            "overflow": null,
            "overflow_x": null,
            "overflow_y": null,
            "padding": null,
            "right": null,
            "top": null,
            "visibility": null,
            "width": null
          }
        },
        "5aa72eade6d54ebf9552b00f5af0242a": {
          "model_module": "@jupyter-widgets/base",
          "model_name": "LayoutModel",
          "model_module_version": "1.2.0",
          "state": {
            "_model_module": "@jupyter-widgets/base",
            "_model_module_version": "1.2.0",
            "_model_name": "LayoutModel",
            "_view_count": null,
            "_view_module": "@jupyter-widgets/base",
            "_view_module_version": "1.2.0",
            "_view_name": "LayoutView",
            "align_content": null,
            "align_items": null,
            "align_self": null,
            "border": null,
            "bottom": null,
            "display": null,
            "flex": null,
            "flex_flow": null,
            "grid_area": null,
            "grid_auto_columns": null,
            "grid_auto_flow": null,
            "grid_auto_rows": null,
            "grid_column": null,
            "grid_gap": null,
            "grid_row": null,
            "grid_template_areas": null,
            "grid_template_columns": null,
            "grid_template_rows": null,
            "height": null,
            "justify_content": null,
            "justify_items": null,
            "left": null,
            "margin": null,
            "max_height": null,
            "max_width": null,
            "min_height": null,
            "min_width": null,
            "object_fit": null,
            "object_position": null,
            "order": null,
            "overflow": null,
            "overflow_x": null,
            "overflow_y": null,
            "padding": null,
            "right": null,
            "top": null,
            "visibility": null,
            "width": null
          }
        },
        "dcb51fba04a54ac9bd59030013f9d199": {
          "model_module": "@jupyter-widgets/controls",
          "model_name": "DescriptionStyleModel",
          "model_module_version": "1.5.0",
          "state": {
            "_model_module": "@jupyter-widgets/controls",
            "_model_module_version": "1.5.0",
            "_model_name": "DescriptionStyleModel",
            "_view_count": null,
            "_view_module": "@jupyter-widgets/base",
            "_view_module_version": "1.2.0",
            "_view_name": "StyleView",
            "description_width": ""
          }
        },
        "61a8175ee2e842f0aa85a20005c1d8c2": {
          "model_module": "@jupyter-widgets/base",
          "model_name": "LayoutModel",
          "model_module_version": "1.2.0",
          "state": {
            "_model_module": "@jupyter-widgets/base",
            "_model_module_version": "1.2.0",
            "_model_name": "LayoutModel",
            "_view_count": null,
            "_view_module": "@jupyter-widgets/base",
            "_view_module_version": "1.2.0",
            "_view_name": "LayoutView",
            "align_content": null,
            "align_items": null,
            "align_self": null,
            "border": null,
            "bottom": null,
            "display": null,
            "flex": null,
            "flex_flow": null,
            "grid_area": null,
            "grid_auto_columns": null,
            "grid_auto_flow": null,
            "grid_auto_rows": null,
            "grid_column": null,
            "grid_gap": null,
            "grid_row": null,
            "grid_template_areas": null,
            "grid_template_columns": null,
            "grid_template_rows": null,
            "height": null,
            "justify_content": null,
            "justify_items": null,
            "left": null,
            "margin": null,
            "max_height": null,
            "max_width": null,
            "min_height": null,
            "min_width": null,
            "object_fit": null,
            "object_position": null,
            "order": null,
            "overflow": null,
            "overflow_x": null,
            "overflow_y": null,
            "padding": null,
            "right": null,
            "top": null,
            "visibility": null,
            "width": null
          }
        },
        "e202b51e29644e3b81e2a22c5a7f9d0f": {
          "model_module": "@jupyter-widgets/controls",
          "model_name": "ProgressStyleModel",
          "model_module_version": "1.5.0",
          "state": {
            "_model_module": "@jupyter-widgets/controls",
            "_model_module_version": "1.5.0",
            "_model_name": "ProgressStyleModel",
            "_view_count": null,
            "_view_module": "@jupyter-widgets/base",
            "_view_module_version": "1.2.0",
            "_view_name": "StyleView",
            "bar_color": null,
            "description_width": ""
          }
        },
        "eb5d8f6444904a998b89f40e7d4213bf": {
          "model_module": "@jupyter-widgets/base",
          "model_name": "LayoutModel",
          "model_module_version": "1.2.0",
          "state": {
            "_model_module": "@jupyter-widgets/base",
            "_model_module_version": "1.2.0",
            "_model_name": "LayoutModel",
            "_view_count": null,
            "_view_module": "@jupyter-widgets/base",
            "_view_module_version": "1.2.0",
            "_view_name": "LayoutView",
            "align_content": null,
            "align_items": null,
            "align_self": null,
            "border": null,
            "bottom": null,
            "display": null,
            "flex": null,
            "flex_flow": null,
            "grid_area": null,
            "grid_auto_columns": null,
            "grid_auto_flow": null,
            "grid_auto_rows": null,
            "grid_column": null,
            "grid_gap": null,
            "grid_row": null,
            "grid_template_areas": null,
            "grid_template_columns": null,
            "grid_template_rows": null,
            "height": null,
            "justify_content": null,
            "justify_items": null,
            "left": null,
            "margin": null,
            "max_height": null,
            "max_width": null,
            "min_height": null,
            "min_width": null,
            "object_fit": null,
            "object_position": null,
            "order": null,
            "overflow": null,
            "overflow_x": null,
            "overflow_y": null,
            "padding": null,
            "right": null,
            "top": null,
            "visibility": null,
            "width": null
          }
        },
        "a6d48930bbe544eea1bdac69fb4dd07d": {
          "model_module": "@jupyter-widgets/controls",
          "model_name": "DescriptionStyleModel",
          "model_module_version": "1.5.0",
          "state": {
            "_model_module": "@jupyter-widgets/controls",
            "_model_module_version": "1.5.0",
            "_model_name": "DescriptionStyleModel",
            "_view_count": null,
            "_view_module": "@jupyter-widgets/base",
            "_view_module_version": "1.2.0",
            "_view_name": "StyleView",
            "description_width": ""
          }
        },
        "2437de6cf2b6401eac30816449de9567": {
          "model_module": "@jupyter-widgets/controls",
          "model_name": "HBoxModel",
          "model_module_version": "1.5.0",
          "state": {
            "_dom_classes": [],
            "_model_module": "@jupyter-widgets/controls",
            "_model_module_version": "1.5.0",
            "_model_name": "HBoxModel",
            "_view_count": null,
            "_view_module": "@jupyter-widgets/controls",
            "_view_module_version": "1.5.0",
            "_view_name": "HBoxView",
            "box_style": "",
            "children": [
              "IPY_MODEL_0df5381bcc3d407faf4fdbe17f426193",
              "IPY_MODEL_acbfdc011e6a406e905f7ad30022fe3e",
              "IPY_MODEL_8cb76a14c1eb4416a82c81c61cb5d5d2"
            ],
            "layout": "IPY_MODEL_4ed0e41f6fc8474c81ae951df4be10f6"
          }
        },
        "0df5381bcc3d407faf4fdbe17f426193": {
          "model_module": "@jupyter-widgets/controls",
          "model_name": "HTMLModel",
          "model_module_version": "1.5.0",
          "state": {
            "_dom_classes": [],
            "_model_module": "@jupyter-widgets/controls",
            "_model_module_version": "1.5.0",
            "_model_name": "HTMLModel",
            "_view_count": null,
            "_view_module": "@jupyter-widgets/controls",
            "_view_module_version": "1.5.0",
            "_view_name": "HTMLView",
            "description": "",
            "description_tooltip": null,
            "layout": "IPY_MODEL_90af88ef5a1347609d97db6aa4e0a672",
            "placeholder": "​",
            "style": "IPY_MODEL_b25410dcd2084e94992eb087fbf2c0fb",
            "value": "Map: 100%"
          }
        },
        "acbfdc011e6a406e905f7ad30022fe3e": {
          "model_module": "@jupyter-widgets/controls",
          "model_name": "FloatProgressModel",
          "model_module_version": "1.5.0",
          "state": {
            "_dom_classes": [],
            "_model_module": "@jupyter-widgets/controls",
            "_model_module_version": "1.5.0",
            "_model_name": "FloatProgressModel",
            "_view_count": null,
            "_view_module": "@jupyter-widgets/controls",
            "_view_module_version": "1.5.0",
            "_view_name": "ProgressView",
            "bar_style": "success",
            "description": "",
            "description_tooltip": null,
            "layout": "IPY_MODEL_9a8621bbc5334a6890c8cb5a10f3e8b7",
            "max": 3668,
            "min": 0,
            "orientation": "horizontal",
            "style": "IPY_MODEL_82487458a5884400908e8363e2bc99c1",
            "value": 3668
          }
        },
        "8cb76a14c1eb4416a82c81c61cb5d5d2": {
          "model_module": "@jupyter-widgets/controls",
          "model_name": "HTMLModel",
          "model_module_version": "1.5.0",
          "state": {
            "_dom_classes": [],
            "_model_module": "@jupyter-widgets/controls",
            "_model_module_version": "1.5.0",
            "_model_name": "HTMLModel",
            "_view_count": null,
            "_view_module": "@jupyter-widgets/controls",
            "_view_module_version": "1.5.0",
            "_view_name": "HTMLView",
            "description": "",
            "description_tooltip": null,
            "layout": "IPY_MODEL_dce106e2c39f4579a34b294eb461fef2",
            "placeholder": "​",
            "style": "IPY_MODEL_ab041e5e61e9446f8272291e34aec9da",
            "value": " 3668/3668 [00:00&lt;00:00, 9772.30 examples/s]"
          }
        },
        "4ed0e41f6fc8474c81ae951df4be10f6": {
          "model_module": "@jupyter-widgets/base",
          "model_name": "LayoutModel",
          "model_module_version": "1.2.0",
          "state": {
            "_model_module": "@jupyter-widgets/base",
            "_model_module_version": "1.2.0",
            "_model_name": "LayoutModel",
            "_view_count": null,
            "_view_module": "@jupyter-widgets/base",
            "_view_module_version": "1.2.0",
            "_view_name": "LayoutView",
            "align_content": null,
            "align_items": null,
            "align_self": null,
            "border": null,
            "bottom": null,
            "display": null,
            "flex": null,
            "flex_flow": null,
            "grid_area": null,
            "grid_auto_columns": null,
            "grid_auto_flow": null,
            "grid_auto_rows": null,
            "grid_column": null,
            "grid_gap": null,
            "grid_row": null,
            "grid_template_areas": null,
            "grid_template_columns": null,
            "grid_template_rows": null,
            "height": null,
            "justify_content": null,
            "justify_items": null,
            "left": null,
            "margin": null,
            "max_height": null,
            "max_width": null,
            "min_height": null,
            "min_width": null,
            "object_fit": null,
            "object_position": null,
            "order": null,
            "overflow": null,
            "overflow_x": null,
            "overflow_y": null,
            "padding": null,
            "right": null,
            "top": null,
            "visibility": null,
            "width": null
          }
        },
        "90af88ef5a1347609d97db6aa4e0a672": {
          "model_module": "@jupyter-widgets/base",
          "model_name": "LayoutModel",
          "model_module_version": "1.2.0",
          "state": {
            "_model_module": "@jupyter-widgets/base",
            "_model_module_version": "1.2.0",
            "_model_name": "LayoutModel",
            "_view_count": null,
            "_view_module": "@jupyter-widgets/base",
            "_view_module_version": "1.2.0",
            "_view_name": "LayoutView",
            "align_content": null,
            "align_items": null,
            "align_self": null,
            "border": null,
            "bottom": null,
            "display": null,
            "flex": null,
            "flex_flow": null,
            "grid_area": null,
            "grid_auto_columns": null,
            "grid_auto_flow": null,
            "grid_auto_rows": null,
            "grid_column": null,
            "grid_gap": null,
            "grid_row": null,
            "grid_template_areas": null,
            "grid_template_columns": null,
            "grid_template_rows": null,
            "height": null,
            "justify_content": null,
            "justify_items": null,
            "left": null,
            "margin": null,
            "max_height": null,
            "max_width": null,
            "min_height": null,
            "min_width": null,
            "object_fit": null,
            "object_position": null,
            "order": null,
            "overflow": null,
            "overflow_x": null,
            "overflow_y": null,
            "padding": null,
            "right": null,
            "top": null,
            "visibility": null,
            "width": null
          }
        },
        "b25410dcd2084e94992eb087fbf2c0fb": {
          "model_module": "@jupyter-widgets/controls",
          "model_name": "DescriptionStyleModel",
          "model_module_version": "1.5.0",
          "state": {
            "_model_module": "@jupyter-widgets/controls",
            "_model_module_version": "1.5.0",
            "_model_name": "DescriptionStyleModel",
            "_view_count": null,
            "_view_module": "@jupyter-widgets/base",
            "_view_module_version": "1.2.0",
            "_view_name": "StyleView",
            "description_width": ""
          }
        },
        "9a8621bbc5334a6890c8cb5a10f3e8b7": {
          "model_module": "@jupyter-widgets/base",
          "model_name": "LayoutModel",
          "model_module_version": "1.2.0",
          "state": {
            "_model_module": "@jupyter-widgets/base",
            "_model_module_version": "1.2.0",
            "_model_name": "LayoutModel",
            "_view_count": null,
            "_view_module": "@jupyter-widgets/base",
            "_view_module_version": "1.2.0",
            "_view_name": "LayoutView",
            "align_content": null,
            "align_items": null,
            "align_self": null,
            "border": null,
            "bottom": null,
            "display": null,
            "flex": null,
            "flex_flow": null,
            "grid_area": null,
            "grid_auto_columns": null,
            "grid_auto_flow": null,
            "grid_auto_rows": null,
            "grid_column": null,
            "grid_gap": null,
            "grid_row": null,
            "grid_template_areas": null,
            "grid_template_columns": null,
            "grid_template_rows": null,
            "height": null,
            "justify_content": null,
            "justify_items": null,
            "left": null,
            "margin": null,
            "max_height": null,
            "max_width": null,
            "min_height": null,
            "min_width": null,
            "object_fit": null,
            "object_position": null,
            "order": null,
            "overflow": null,
            "overflow_x": null,
            "overflow_y": null,
            "padding": null,
            "right": null,
            "top": null,
            "visibility": null,
            "width": null
          }
        },
        "82487458a5884400908e8363e2bc99c1": {
          "model_module": "@jupyter-widgets/controls",
          "model_name": "ProgressStyleModel",
          "model_module_version": "1.5.0",
          "state": {
            "_model_module": "@jupyter-widgets/controls",
            "_model_module_version": "1.5.0",
            "_model_name": "ProgressStyleModel",
            "_view_count": null,
            "_view_module": "@jupyter-widgets/base",
            "_view_module_version": "1.2.0",
            "_view_name": "StyleView",
            "bar_color": null,
            "description_width": ""
          }
        },
        "dce106e2c39f4579a34b294eb461fef2": {
          "model_module": "@jupyter-widgets/base",
          "model_name": "LayoutModel",
          "model_module_version": "1.2.0",
          "state": {
            "_model_module": "@jupyter-widgets/base",
            "_model_module_version": "1.2.0",
            "_model_name": "LayoutModel",
            "_view_count": null,
            "_view_module": "@jupyter-widgets/base",
            "_view_module_version": "1.2.0",
            "_view_name": "LayoutView",
            "align_content": null,
            "align_items": null,
            "align_self": null,
            "border": null,
            "bottom": null,
            "display": null,
            "flex": null,
            "flex_flow": null,
            "grid_area": null,
            "grid_auto_columns": null,
            "grid_auto_flow": null,
            "grid_auto_rows": null,
            "grid_column": null,
            "grid_gap": null,
            "grid_row": null,
            "grid_template_areas": null,
            "grid_template_columns": null,
            "grid_template_rows": null,
            "height": null,
            "justify_content": null,
            "justify_items": null,
            "left": null,
            "margin": null,
            "max_height": null,
            "max_width": null,
            "min_height": null,
            "min_width": null,
            "object_fit": null,
            "object_position": null,
            "order": null,
            "overflow": null,
            "overflow_x": null,
            "overflow_y": null,
            "padding": null,
            "right": null,
            "top": null,
            "visibility": null,
            "width": null
          }
        },
        "ab041e5e61e9446f8272291e34aec9da": {
          "model_module": "@jupyter-widgets/controls",
          "model_name": "DescriptionStyleModel",
          "model_module_version": "1.5.0",
          "state": {
            "_model_module": "@jupyter-widgets/controls",
            "_model_module_version": "1.5.0",
            "_model_name": "DescriptionStyleModel",
            "_view_count": null,
            "_view_module": "@jupyter-widgets/base",
            "_view_module_version": "1.2.0",
            "_view_name": "StyleView",
            "description_width": ""
          }
        },
        "b36160fca46b40849e508d132fc50254": {
          "model_module": "@jupyter-widgets/controls",
          "model_name": "HBoxModel",
          "model_module_version": "1.5.0",
          "state": {
            "_dom_classes": [],
            "_model_module": "@jupyter-widgets/controls",
            "_model_module_version": "1.5.0",
            "_model_name": "HBoxModel",
            "_view_count": null,
            "_view_module": "@jupyter-widgets/controls",
            "_view_module_version": "1.5.0",
            "_view_name": "HBoxView",
            "box_style": "",
            "children": [
              "IPY_MODEL_cf1122ff57714844a9d50f38dd9d3afd",
              "IPY_MODEL_a534a1d1a3594cdb87ef713daebf7deb",
              "IPY_MODEL_7f97f1e253ae48f8b74ac009e3b60bba"
            ],
            "layout": "IPY_MODEL_bfc3ca556f2240b280cd552a9d55db3e"
          }
        },
        "cf1122ff57714844a9d50f38dd9d3afd": {
          "model_module": "@jupyter-widgets/controls",
          "model_name": "HTMLModel",
          "model_module_version": "1.5.0",
          "state": {
            "_dom_classes": [],
            "_model_module": "@jupyter-widgets/controls",
            "_model_module_version": "1.5.0",
            "_model_name": "HTMLModel",
            "_view_count": null,
            "_view_module": "@jupyter-widgets/controls",
            "_view_module_version": "1.5.0",
            "_view_name": "HTMLView",
            "description": "",
            "description_tooltip": null,
            "layout": "IPY_MODEL_d3bfb1df22464e3c9fe3b6b2ea0bd6cc",
            "placeholder": "​",
            "style": "IPY_MODEL_ed4ccaaf3bd344328d7628b898ae4a62",
            "value": "Map: 100%"
          }
        },
        "a534a1d1a3594cdb87ef713daebf7deb": {
          "model_module": "@jupyter-widgets/controls",
          "model_name": "FloatProgressModel",
          "model_module_version": "1.5.0",
          "state": {
            "_dom_classes": [],
            "_model_module": "@jupyter-widgets/controls",
            "_model_module_version": "1.5.0",
            "_model_name": "FloatProgressModel",
            "_view_count": null,
            "_view_module": "@jupyter-widgets/controls",
            "_view_module_version": "1.5.0",
            "_view_name": "ProgressView",
            "bar_style": "success",
            "description": "",
            "description_tooltip": null,
            "layout": "IPY_MODEL_977a9b60d35447eb8327289cb11ccc16",
            "max": 408,
            "min": 0,
            "orientation": "horizontal",
            "style": "IPY_MODEL_d5fbcf650e4f412baade0a446f4e30ed",
            "value": 408
          }
        },
        "7f97f1e253ae48f8b74ac009e3b60bba": {
          "model_module": "@jupyter-widgets/controls",
          "model_name": "HTMLModel",
          "model_module_version": "1.5.0",
          "state": {
            "_dom_classes": [],
            "_model_module": "@jupyter-widgets/controls",
            "_model_module_version": "1.5.0",
            "_model_name": "HTMLModel",
            "_view_count": null,
            "_view_module": "@jupyter-widgets/controls",
            "_view_module_version": "1.5.0",
            "_view_name": "HTMLView",
            "description": "",
            "description_tooltip": null,
            "layout": "IPY_MODEL_f6fbbff08522483b85dfc852ca510dfe",
            "placeholder": "​",
            "style": "IPY_MODEL_122e14d431e542698adad1ac7acef881",
            "value": " 408/408 [00:00&lt;00:00, 7045.30 examples/s]"
          }
        },
        "bfc3ca556f2240b280cd552a9d55db3e": {
          "model_module": "@jupyter-widgets/base",
          "model_name": "LayoutModel",
          "model_module_version": "1.2.0",
          "state": {
            "_model_module": "@jupyter-widgets/base",
            "_model_module_version": "1.2.0",
            "_model_name": "LayoutModel",
            "_view_count": null,
            "_view_module": "@jupyter-widgets/base",
            "_view_module_version": "1.2.0",
            "_view_name": "LayoutView",
            "align_content": null,
            "align_items": null,
            "align_self": null,
            "border": null,
            "bottom": null,
            "display": null,
            "flex": null,
            "flex_flow": null,
            "grid_area": null,
            "grid_auto_columns": null,
            "grid_auto_flow": null,
            "grid_auto_rows": null,
            "grid_column": null,
            "grid_gap": null,
            "grid_row": null,
            "grid_template_areas": null,
            "grid_template_columns": null,
            "grid_template_rows": null,
            "height": null,
            "justify_content": null,
            "justify_items": null,
            "left": null,
            "margin": null,
            "max_height": null,
            "max_width": null,
            "min_height": null,
            "min_width": null,
            "object_fit": null,
            "object_position": null,
            "order": null,
            "overflow": null,
            "overflow_x": null,
            "overflow_y": null,
            "padding": null,
            "right": null,
            "top": null,
            "visibility": null,
            "width": null
          }
        },
        "d3bfb1df22464e3c9fe3b6b2ea0bd6cc": {
          "model_module": "@jupyter-widgets/base",
          "model_name": "LayoutModel",
          "model_module_version": "1.2.0",
          "state": {
            "_model_module": "@jupyter-widgets/base",
            "_model_module_version": "1.2.0",
            "_model_name": "LayoutModel",
            "_view_count": null,
            "_view_module": "@jupyter-widgets/base",
            "_view_module_version": "1.2.0",
            "_view_name": "LayoutView",
            "align_content": null,
            "align_items": null,
            "align_self": null,
            "border": null,
            "bottom": null,
            "display": null,
            "flex": null,
            "flex_flow": null,
            "grid_area": null,
            "grid_auto_columns": null,
            "grid_auto_flow": null,
            "grid_auto_rows": null,
            "grid_column": null,
            "grid_gap": null,
            "grid_row": null,
            "grid_template_areas": null,
            "grid_template_columns": null,
            "grid_template_rows": null,
            "height": null,
            "justify_content": null,
            "justify_items": null,
            "left": null,
            "margin": null,
            "max_height": null,
            "max_width": null,
            "min_height": null,
            "min_width": null,
            "object_fit": null,
            "object_position": null,
            "order": null,
            "overflow": null,
            "overflow_x": null,
            "overflow_y": null,
            "padding": null,
            "right": null,
            "top": null,
            "visibility": null,
            "width": null
          }
        },
        "ed4ccaaf3bd344328d7628b898ae4a62": {
          "model_module": "@jupyter-widgets/controls",
          "model_name": "DescriptionStyleModel",
          "model_module_version": "1.5.0",
          "state": {
            "_model_module": "@jupyter-widgets/controls",
            "_model_module_version": "1.5.0",
            "_model_name": "DescriptionStyleModel",
            "_view_count": null,
            "_view_module": "@jupyter-widgets/base",
            "_view_module_version": "1.2.0",
            "_view_name": "StyleView",
            "description_width": ""
          }
        },
        "977a9b60d35447eb8327289cb11ccc16": {
          "model_module": "@jupyter-widgets/base",
          "model_name": "LayoutModel",
          "model_module_version": "1.2.0",
          "state": {
            "_model_module": "@jupyter-widgets/base",
            "_model_module_version": "1.2.0",
            "_model_name": "LayoutModel",
            "_view_count": null,
            "_view_module": "@jupyter-widgets/base",
            "_view_module_version": "1.2.0",
            "_view_name": "LayoutView",
            "align_content": null,
            "align_items": null,
            "align_self": null,
            "border": null,
            "bottom": null,
            "display": null,
            "flex": null,
            "flex_flow": null,
            "grid_area": null,
            "grid_auto_columns": null,
            "grid_auto_flow": null,
            "grid_auto_rows": null,
            "grid_column": null,
            "grid_gap": null,
            "grid_row": null,
            "grid_template_areas": null,
            "grid_template_columns": null,
            "grid_template_rows": null,
            "height": null,
            "justify_content": null,
            "justify_items": null,
            "left": null,
            "margin": null,
            "max_height": null,
            "max_width": null,
            "min_height": null,
            "min_width": null,
            "object_fit": null,
            "object_position": null,
            "order": null,
            "overflow": null,
            "overflow_x": null,
            "overflow_y": null,
            "padding": null,
            "right": null,
            "top": null,
            "visibility": null,
            "width": null
          }
        },
        "d5fbcf650e4f412baade0a446f4e30ed": {
          "model_module": "@jupyter-widgets/controls",
          "model_name": "ProgressStyleModel",
          "model_module_version": "1.5.0",
          "state": {
            "_model_module": "@jupyter-widgets/controls",
            "_model_module_version": "1.5.0",
            "_model_name": "ProgressStyleModel",
            "_view_count": null,
            "_view_module": "@jupyter-widgets/base",
            "_view_module_version": "1.2.0",
            "_view_name": "StyleView",
            "bar_color": null,
            "description_width": ""
          }
        },
        "f6fbbff08522483b85dfc852ca510dfe": {
          "model_module": "@jupyter-widgets/base",
          "model_name": "LayoutModel",
          "model_module_version": "1.2.0",
          "state": {
            "_model_module": "@jupyter-widgets/base",
            "_model_module_version": "1.2.0",
            "_model_name": "LayoutModel",
            "_view_count": null,
            "_view_module": "@jupyter-widgets/base",
            "_view_module_version": "1.2.0",
            "_view_name": "LayoutView",
            "align_content": null,
            "align_items": null,
            "align_self": null,
            "border": null,
            "bottom": null,
            "display": null,
            "flex": null,
            "flex_flow": null,
            "grid_area": null,
            "grid_auto_columns": null,
            "grid_auto_flow": null,
            "grid_auto_rows": null,
            "grid_column": null,
            "grid_gap": null,
            "grid_row": null,
            "grid_template_areas": null,
            "grid_template_columns": null,
            "grid_template_rows": null,
            "height": null,
            "justify_content": null,
            "justify_items": null,
            "left": null,
            "margin": null,
            "max_height": null,
            "max_width": null,
            "min_height": null,
            "min_width": null,
            "object_fit": null,
            "object_position": null,
            "order": null,
            "overflow": null,
            "overflow_x": null,
            "overflow_y": null,
            "padding": null,
            "right": null,
            "top": null,
            "visibility": null,
            "width": null
          }
        },
        "122e14d431e542698adad1ac7acef881": {
          "model_module": "@jupyter-widgets/controls",
          "model_name": "DescriptionStyleModel",
          "model_module_version": "1.5.0",
          "state": {
            "_model_module": "@jupyter-widgets/controls",
            "_model_module_version": "1.5.0",
            "_model_name": "DescriptionStyleModel",
            "_view_count": null,
            "_view_module": "@jupyter-widgets/base",
            "_view_module_version": "1.2.0",
            "_view_name": "StyleView",
            "description_width": ""
          }
        },
        "b883b48f1aa5469e9b7240fa75487642": {
          "model_module": "@jupyter-widgets/controls",
          "model_name": "HBoxModel",
          "model_module_version": "1.5.0",
          "state": {
            "_dom_classes": [],
            "_model_module": "@jupyter-widgets/controls",
            "_model_module_version": "1.5.0",
            "_model_name": "HBoxModel",
            "_view_count": null,
            "_view_module": "@jupyter-widgets/controls",
            "_view_module_version": "1.5.0",
            "_view_name": "HBoxView",
            "box_style": "",
            "children": [
              "IPY_MODEL_756eaee2cfe2437a85edb3a5237a658d",
              "IPY_MODEL_aa2f32604db1489c9950b7122fbb943d",
              "IPY_MODEL_1de33b768ff54892b11f10045dbaebaa"
            ],
            "layout": "IPY_MODEL_9d8d06f86f9942bda016d28da16a4830"
          }
        },
        "756eaee2cfe2437a85edb3a5237a658d": {
          "model_module": "@jupyter-widgets/controls",
          "model_name": "HTMLModel",
          "model_module_version": "1.5.0",
          "state": {
            "_dom_classes": [],
            "_model_module": "@jupyter-widgets/controls",
            "_model_module_version": "1.5.0",
            "_model_name": "HTMLModel",
            "_view_count": null,
            "_view_module": "@jupyter-widgets/controls",
            "_view_module_version": "1.5.0",
            "_view_name": "HTMLView",
            "description": "",
            "description_tooltip": null,
            "layout": "IPY_MODEL_a179d7f8de944ab796e485fa4caf9ad9",
            "placeholder": "​",
            "style": "IPY_MODEL_4a9413045b924543a478ee50db7c86be",
            "value": "Map: 100%"
          }
        },
        "aa2f32604db1489c9950b7122fbb943d": {
          "model_module": "@jupyter-widgets/controls",
          "model_name": "FloatProgressModel",
          "model_module_version": "1.5.0",
          "state": {
            "_dom_classes": [],
            "_model_module": "@jupyter-widgets/controls",
            "_model_module_version": "1.5.0",
            "_model_name": "FloatProgressModel",
            "_view_count": null,
            "_view_module": "@jupyter-widgets/controls",
            "_view_module_version": "1.5.0",
            "_view_name": "ProgressView",
            "bar_style": "success",
            "description": "",
            "description_tooltip": null,
            "layout": "IPY_MODEL_2aa3a84232434aa6a877bb7fd5c67672",
            "max": 1725,
            "min": 0,
            "orientation": "horizontal",
            "style": "IPY_MODEL_1a6f7f55fca94671a0bc97cc1a2cf9de",
            "value": 1725
          }
        },
        "1de33b768ff54892b11f10045dbaebaa": {
          "model_module": "@jupyter-widgets/controls",
          "model_name": "HTMLModel",
          "model_module_version": "1.5.0",
          "state": {
            "_dom_classes": [],
            "_model_module": "@jupyter-widgets/controls",
            "_model_module_version": "1.5.0",
            "_model_name": "HTMLModel",
            "_view_count": null,
            "_view_module": "@jupyter-widgets/controls",
            "_view_module_version": "1.5.0",
            "_view_name": "HTMLView",
            "description": "",
            "description_tooltip": null,
            "layout": "IPY_MODEL_062654cd5fc1452e9346679d275cc982",
            "placeholder": "​",
            "style": "IPY_MODEL_900b355001ec4e34b57ea5d52b841c41",
            "value": " 1725/1725 [00:00&lt;00:00, 8531.74 examples/s]"
          }
        },
        "9d8d06f86f9942bda016d28da16a4830": {
          "model_module": "@jupyter-widgets/base",
          "model_name": "LayoutModel",
          "model_module_version": "1.2.0",
          "state": {
            "_model_module": "@jupyter-widgets/base",
            "_model_module_version": "1.2.0",
            "_model_name": "LayoutModel",
            "_view_count": null,
            "_view_module": "@jupyter-widgets/base",
            "_view_module_version": "1.2.0",
            "_view_name": "LayoutView",
            "align_content": null,
            "align_items": null,
            "align_self": null,
            "border": null,
            "bottom": null,
            "display": null,
            "flex": null,
            "flex_flow": null,
            "grid_area": null,
            "grid_auto_columns": null,
            "grid_auto_flow": null,
            "grid_auto_rows": null,
            "grid_column": null,
            "grid_gap": null,
            "grid_row": null,
            "grid_template_areas": null,
            "grid_template_columns": null,
            "grid_template_rows": null,
            "height": null,
            "justify_content": null,
            "justify_items": null,
            "left": null,
            "margin": null,
            "max_height": null,
            "max_width": null,
            "min_height": null,
            "min_width": null,
            "object_fit": null,
            "object_position": null,
            "order": null,
            "overflow": null,
            "overflow_x": null,
            "overflow_y": null,
            "padding": null,
            "right": null,
            "top": null,
            "visibility": null,
            "width": null
          }
        },
        "a179d7f8de944ab796e485fa4caf9ad9": {
          "model_module": "@jupyter-widgets/base",
          "model_name": "LayoutModel",
          "model_module_version": "1.2.0",
          "state": {
            "_model_module": "@jupyter-widgets/base",
            "_model_module_version": "1.2.0",
            "_model_name": "LayoutModel",
            "_view_count": null,
            "_view_module": "@jupyter-widgets/base",
            "_view_module_version": "1.2.0",
            "_view_name": "LayoutView",
            "align_content": null,
            "align_items": null,
            "align_self": null,
            "border": null,
            "bottom": null,
            "display": null,
            "flex": null,
            "flex_flow": null,
            "grid_area": null,
            "grid_auto_columns": null,
            "grid_auto_flow": null,
            "grid_auto_rows": null,
            "grid_column": null,
            "grid_gap": null,
            "grid_row": null,
            "grid_template_areas": null,
            "grid_template_columns": null,
            "grid_template_rows": null,
            "height": null,
            "justify_content": null,
            "justify_items": null,
            "left": null,
            "margin": null,
            "max_height": null,
            "max_width": null,
            "min_height": null,
            "min_width": null,
            "object_fit": null,
            "object_position": null,
            "order": null,
            "overflow": null,
            "overflow_x": null,
            "overflow_y": null,
            "padding": null,
            "right": null,
            "top": null,
            "visibility": null,
            "width": null
          }
        },
        "4a9413045b924543a478ee50db7c86be": {
          "model_module": "@jupyter-widgets/controls",
          "model_name": "DescriptionStyleModel",
          "model_module_version": "1.5.0",
          "state": {
            "_model_module": "@jupyter-widgets/controls",
            "_model_module_version": "1.5.0",
            "_model_name": "DescriptionStyleModel",
            "_view_count": null,
            "_view_module": "@jupyter-widgets/base",
            "_view_module_version": "1.2.0",
            "_view_name": "StyleView",
            "description_width": ""
          }
        },
        "2aa3a84232434aa6a877bb7fd5c67672": {
          "model_module": "@jupyter-widgets/base",
          "model_name": "LayoutModel",
          "model_module_version": "1.2.0",
          "state": {
            "_model_module": "@jupyter-widgets/base",
            "_model_module_version": "1.2.0",
            "_model_name": "LayoutModel",
            "_view_count": null,
            "_view_module": "@jupyter-widgets/base",
            "_view_module_version": "1.2.0",
            "_view_name": "LayoutView",
            "align_content": null,
            "align_items": null,
            "align_self": null,
            "border": null,
            "bottom": null,
            "display": null,
            "flex": null,
            "flex_flow": null,
            "grid_area": null,
            "grid_auto_columns": null,
            "grid_auto_flow": null,
            "grid_auto_rows": null,
            "grid_column": null,
            "grid_gap": null,
            "grid_row": null,
            "grid_template_areas": null,
            "grid_template_columns": null,
            "grid_template_rows": null,
            "height": null,
            "justify_content": null,
            "justify_items": null,
            "left": null,
            "margin": null,
            "max_height": null,
            "max_width": null,
            "min_height": null,
            "min_width": null,
            "object_fit": null,
            "object_position": null,
            "order": null,
            "overflow": null,
            "overflow_x": null,
            "overflow_y": null,
            "padding": null,
            "right": null,
            "top": null,
            "visibility": null,
            "width": null
          }
        },
        "1a6f7f55fca94671a0bc97cc1a2cf9de": {
          "model_module": "@jupyter-widgets/controls",
          "model_name": "ProgressStyleModel",
          "model_module_version": "1.5.0",
          "state": {
            "_model_module": "@jupyter-widgets/controls",
            "_model_module_version": "1.5.0",
            "_model_name": "ProgressStyleModel",
            "_view_count": null,
            "_view_module": "@jupyter-widgets/base",
            "_view_module_version": "1.2.0",
            "_view_name": "StyleView",
            "bar_color": null,
            "description_width": ""
          }
        },
        "062654cd5fc1452e9346679d275cc982": {
          "model_module": "@jupyter-widgets/base",
          "model_name": "LayoutModel",
          "model_module_version": "1.2.0",
          "state": {
            "_model_module": "@jupyter-widgets/base",
            "_model_module_version": "1.2.0",
            "_model_name": "LayoutModel",
            "_view_count": null,
            "_view_module": "@jupyter-widgets/base",
            "_view_module_version": "1.2.0",
            "_view_name": "LayoutView",
            "align_content": null,
            "align_items": null,
            "align_self": null,
            "border": null,
            "bottom": null,
            "display": null,
            "flex": null,
            "flex_flow": null,
            "grid_area": null,
            "grid_auto_columns": null,
            "grid_auto_flow": null,
            "grid_auto_rows": null,
            "grid_column": null,
            "grid_gap": null,
            "grid_row": null,
            "grid_template_areas": null,
            "grid_template_columns": null,
            "grid_template_rows": null,
            "height": null,
            "justify_content": null,
            "justify_items": null,
            "left": null,
            "margin": null,
            "max_height": null,
            "max_width": null,
            "min_height": null,
            "min_width": null,
            "object_fit": null,
            "object_position": null,
            "order": null,
            "overflow": null,
            "overflow_x": null,
            "overflow_y": null,
            "padding": null,
            "right": null,
            "top": null,
            "visibility": null,
            "width": null
          }
        },
        "900b355001ec4e34b57ea5d52b841c41": {
          "model_module": "@jupyter-widgets/controls",
          "model_name": "DescriptionStyleModel",
          "model_module_version": "1.5.0",
          "state": {
            "_model_module": "@jupyter-widgets/controls",
            "_model_module_version": "1.5.0",
            "_model_name": "DescriptionStyleModel",
            "_view_count": null,
            "_view_module": "@jupyter-widgets/base",
            "_view_module_version": "1.2.0",
            "_view_name": "StyleView",
            "description_width": ""
          }
        },
        "e55f7d77c6d14e01923cc6834c6f79f2": {
          "model_module": "@jupyter-widgets/controls",
          "model_name": "HBoxModel",
          "model_module_version": "1.5.0",
          "state": {
            "_dom_classes": [],
            "_model_module": "@jupyter-widgets/controls",
            "_model_module_version": "1.5.0",
            "_model_name": "HBoxModel",
            "_view_count": null,
            "_view_module": "@jupyter-widgets/controls",
            "_view_module_version": "1.5.0",
            "_view_name": "HBoxView",
            "box_style": "",
            "children": [
              "IPY_MODEL_c24a5be96397406db7b8f5ae6804a6d5",
              "IPY_MODEL_5ef3d3f3c64847f084ba05aebfeaeb85",
              "IPY_MODEL_73e43ff1f1494ed09cdef0245d30aa8e"
            ],
            "layout": "IPY_MODEL_27b25d384ab44118820c3ba2bae4a1e8"
          }
        },
        "c24a5be96397406db7b8f5ae6804a6d5": {
          "model_module": "@jupyter-widgets/controls",
          "model_name": "HTMLModel",
          "model_module_version": "1.5.0",
          "state": {
            "_dom_classes": [],
            "_model_module": "@jupyter-widgets/controls",
            "_model_module_version": "1.5.0",
            "_model_name": "HTMLModel",
            "_view_count": null,
            "_view_module": "@jupyter-widgets/controls",
            "_view_module_version": "1.5.0",
            "_view_name": "HTMLView",
            "description": "",
            "description_tooltip": null,
            "layout": "IPY_MODEL_cfd0764d7c4f4cf3ad52c322a819869a",
            "placeholder": "​",
            "style": "IPY_MODEL_540cba51926a4d3fa6a45b6195c72a07",
            "value": "pytorch_model.bin: 100%"
          }
        },
        "5ef3d3f3c64847f084ba05aebfeaeb85": {
          "model_module": "@jupyter-widgets/controls",
          "model_name": "FloatProgressModel",
          "model_module_version": "1.5.0",
          "state": {
            "_dom_classes": [],
            "_model_module": "@jupyter-widgets/controls",
            "_model_module_version": "1.5.0",
            "_model_name": "FloatProgressModel",
            "_view_count": null,
            "_view_module": "@jupyter-widgets/controls",
            "_view_module_version": "1.5.0",
            "_view_name": "ProgressView",
            "bar_style": "success",
            "description": "",
            "description_tooltip": null,
            "layout": "IPY_MODEL_238448f425184c4383bcd58d39f4dcce",
            "max": 17756393,
            "min": 0,
            "orientation": "horizontal",
            "style": "IPY_MODEL_5baf3631b57144c990ba45aaef54107a",
            "value": 17756393
          }
        },
        "73e43ff1f1494ed09cdef0245d30aa8e": {
          "model_module": "@jupyter-widgets/controls",
          "model_name": "HTMLModel",
          "model_module_version": "1.5.0",
          "state": {
            "_dom_classes": [],
            "_model_module": "@jupyter-widgets/controls",
            "_model_module_version": "1.5.0",
            "_model_name": "HTMLModel",
            "_view_count": null,
            "_view_module": "@jupyter-widgets/controls",
            "_view_module_version": "1.5.0",
            "_view_name": "HTMLView",
            "description": "",
            "description_tooltip": null,
            "layout": "IPY_MODEL_d97ab393938e435983449bad2606039a",
            "placeholder": "​",
            "style": "IPY_MODEL_e35ff60e22884983a143cdeee178ae1b",
            "value": " 17.8M/17.8M [00:00&lt;00:00, 154MB/s]"
          }
        },
        "27b25d384ab44118820c3ba2bae4a1e8": {
          "model_module": "@jupyter-widgets/base",
          "model_name": "LayoutModel",
          "model_module_version": "1.2.0",
          "state": {
            "_model_module": "@jupyter-widgets/base",
            "_model_module_version": "1.2.0",
            "_model_name": "LayoutModel",
            "_view_count": null,
            "_view_module": "@jupyter-widgets/base",
            "_view_module_version": "1.2.0",
            "_view_name": "LayoutView",
            "align_content": null,
            "align_items": null,
            "align_self": null,
            "border": null,
            "bottom": null,
            "display": null,
            "flex": null,
            "flex_flow": null,
            "grid_area": null,
            "grid_auto_columns": null,
            "grid_auto_flow": null,
            "grid_auto_rows": null,
            "grid_column": null,
            "grid_gap": null,
            "grid_row": null,
            "grid_template_areas": null,
            "grid_template_columns": null,
            "grid_template_rows": null,
            "height": null,
            "justify_content": null,
            "justify_items": null,
            "left": null,
            "margin": null,
            "max_height": null,
            "max_width": null,
            "min_height": null,
            "min_width": null,
            "object_fit": null,
            "object_position": null,
            "order": null,
            "overflow": null,
            "overflow_x": null,
            "overflow_y": null,
            "padding": null,
            "right": null,
            "top": null,
            "visibility": null,
            "width": null
          }
        },
        "cfd0764d7c4f4cf3ad52c322a819869a": {
          "model_module": "@jupyter-widgets/base",
          "model_name": "LayoutModel",
          "model_module_version": "1.2.0",
          "state": {
            "_model_module": "@jupyter-widgets/base",
            "_model_module_version": "1.2.0",
            "_model_name": "LayoutModel",
            "_view_count": null,
            "_view_module": "@jupyter-widgets/base",
            "_view_module_version": "1.2.0",
            "_view_name": "LayoutView",
            "align_content": null,
            "align_items": null,
            "align_self": null,
            "border": null,
            "bottom": null,
            "display": null,
            "flex": null,
            "flex_flow": null,
            "grid_area": null,
            "grid_auto_columns": null,
            "grid_auto_flow": null,
            "grid_auto_rows": null,
            "grid_column": null,
            "grid_gap": null,
            "grid_row": null,
            "grid_template_areas": null,
            "grid_template_columns": null,
            "grid_template_rows": null,
            "height": null,
            "justify_content": null,
            "justify_items": null,
            "left": null,
            "margin": null,
            "max_height": null,
            "max_width": null,
            "min_height": null,
            "min_width": null,
            "object_fit": null,
            "object_position": null,
            "order": null,
            "overflow": null,
            "overflow_x": null,
            "overflow_y": null,
            "padding": null,
            "right": null,
            "top": null,
            "visibility": null,
            "width": null
          }
        },
        "540cba51926a4d3fa6a45b6195c72a07": {
          "model_module": "@jupyter-widgets/controls",
          "model_name": "DescriptionStyleModel",
          "model_module_version": "1.5.0",
          "state": {
            "_model_module": "@jupyter-widgets/controls",
            "_model_module_version": "1.5.0",
            "_model_name": "DescriptionStyleModel",
            "_view_count": null,
            "_view_module": "@jupyter-widgets/base",
            "_view_module_version": "1.2.0",
            "_view_name": "StyleView",
            "description_width": ""
          }
        },
        "238448f425184c4383bcd58d39f4dcce": {
          "model_module": "@jupyter-widgets/base",
          "model_name": "LayoutModel",
          "model_module_version": "1.2.0",
          "state": {
            "_model_module": "@jupyter-widgets/base",
            "_model_module_version": "1.2.0",
            "_model_name": "LayoutModel",
            "_view_count": null,
            "_view_module": "@jupyter-widgets/base",
            "_view_module_version": "1.2.0",
            "_view_name": "LayoutView",
            "align_content": null,
            "align_items": null,
            "align_self": null,
            "border": null,
            "bottom": null,
            "display": null,
            "flex": null,
            "flex_flow": null,
            "grid_area": null,
            "grid_auto_columns": null,
            "grid_auto_flow": null,
            "grid_auto_rows": null,
            "grid_column": null,
            "grid_gap": null,
            "grid_row": null,
            "grid_template_areas": null,
            "grid_template_columns": null,
            "grid_template_rows": null,
            "height": null,
            "justify_content": null,
            "justify_items": null,
            "left": null,
            "margin": null,
            "max_height": null,
            "max_width": null,
            "min_height": null,
            "min_width": null,
            "object_fit": null,
            "object_position": null,
            "order": null,
            "overflow": null,
            "overflow_x": null,
            "overflow_y": null,
            "padding": null,
            "right": null,
            "top": null,
            "visibility": null,
            "width": null
          }
        },
        "5baf3631b57144c990ba45aaef54107a": {
          "model_module": "@jupyter-widgets/controls",
          "model_name": "ProgressStyleModel",
          "model_module_version": "1.5.0",
          "state": {
            "_model_module": "@jupyter-widgets/controls",
            "_model_module_version": "1.5.0",
            "_model_name": "ProgressStyleModel",
            "_view_count": null,
            "_view_module": "@jupyter-widgets/base",
            "_view_module_version": "1.2.0",
            "_view_name": "StyleView",
            "bar_color": null,
            "description_width": ""
          }
        },
        "d97ab393938e435983449bad2606039a": {
          "model_module": "@jupyter-widgets/base",
          "model_name": "LayoutModel",
          "model_module_version": "1.2.0",
          "state": {
            "_model_module": "@jupyter-widgets/base",
            "_model_module_version": "1.2.0",
            "_model_name": "LayoutModel",
            "_view_count": null,
            "_view_module": "@jupyter-widgets/base",
            "_view_module_version": "1.2.0",
            "_view_name": "LayoutView",
            "align_content": null,
            "align_items": null,
            "align_self": null,
            "border": null,
            "bottom": null,
            "display": null,
            "flex": null,
            "flex_flow": null,
            "grid_area": null,
            "grid_auto_columns": null,
            "grid_auto_flow": null,
            "grid_auto_rows": null,
            "grid_column": null,
            "grid_gap": null,
            "grid_row": null,
            "grid_template_areas": null,
            "grid_template_columns": null,
            "grid_template_rows": null,
            "height": null,
            "justify_content": null,
            "justify_items": null,
            "left": null,
            "margin": null,
            "max_height": null,
            "max_width": null,
            "min_height": null,
            "min_width": null,
            "object_fit": null,
            "object_position": null,
            "order": null,
            "overflow": null,
            "overflow_x": null,
            "overflow_y": null,
            "padding": null,
            "right": null,
            "top": null,
            "visibility": null,
            "width": null
          }
        },
        "e35ff60e22884983a143cdeee178ae1b": {
          "model_module": "@jupyter-widgets/controls",
          "model_name": "DescriptionStyleModel",
          "model_module_version": "1.5.0",
          "state": {
            "_model_module": "@jupyter-widgets/controls",
            "_model_module_version": "1.5.0",
            "_model_name": "DescriptionStyleModel",
            "_view_count": null,
            "_view_module": "@jupyter-widgets/base",
            "_view_module_version": "1.2.0",
            "_view_name": "StyleView",
            "description_width": ""
          }
        },
        "7d417eafca4b4ea6b6483482688bb286": {
          "model_module": "@jupyter-widgets/controls",
          "model_name": "HBoxModel",
          "model_module_version": "1.5.0",
          "state": {
            "_dom_classes": [],
            "_model_module": "@jupyter-widgets/controls",
            "_model_module_version": "1.5.0",
            "_model_name": "HBoxModel",
            "_view_count": null,
            "_view_module": "@jupyter-widgets/controls",
            "_view_module_version": "1.5.0",
            "_view_name": "HBoxView",
            "box_style": "",
            "children": [
              "IPY_MODEL_0a071cb66c0440f58deba00f86b89401",
              "IPY_MODEL_cab758f43ffc4d3ba1aa519bacf22789",
              "IPY_MODEL_c4cfe3907ce8422da2d98a2c4033d1e4"
            ],
            "layout": "IPY_MODEL_21d03310f8a24702bd73ff076b39d99f"
          }
        },
        "0a071cb66c0440f58deba00f86b89401": {
          "model_module": "@jupyter-widgets/controls",
          "model_name": "HTMLModel",
          "model_module_version": "1.5.0",
          "state": {
            "_dom_classes": [],
            "_model_module": "@jupyter-widgets/controls",
            "_model_module_version": "1.5.0",
            "_model_name": "HTMLModel",
            "_view_count": null,
            "_view_module": "@jupyter-widgets/controls",
            "_view_module_version": "1.5.0",
            "_view_name": "HTMLView",
            "description": "",
            "description_tooltip": null,
            "layout": "IPY_MODEL_bf3ed7e695b04f25a2cce1839cef5951",
            "placeholder": "​",
            "style": "IPY_MODEL_99aee77b5b76428b9da50b169fb8cd13",
            "value": "model.safetensors: 100%"
          }
        },
        "cab758f43ffc4d3ba1aa519bacf22789": {
          "model_module": "@jupyter-widgets/controls",
          "model_name": "FloatProgressModel",
          "model_module_version": "1.5.0",
          "state": {
            "_dom_classes": [],
            "_model_module": "@jupyter-widgets/controls",
            "_model_module_version": "1.5.0",
            "_model_name": "FloatProgressModel",
            "_view_count": null,
            "_view_module": "@jupyter-widgets/controls",
            "_view_module_version": "1.5.0",
            "_view_name": "ProgressView",
            "bar_style": "success",
            "description": "",
            "description_tooltip": null,
            "layout": "IPY_MODEL_e51cad7c49584c1883f19174dce700b0",
            "max": 17743328,
            "min": 0,
            "orientation": "horizontal",
            "style": "IPY_MODEL_12132843233f4a669fd0d6dadb44a033",
            "value": 17743328
          }
        },
        "c4cfe3907ce8422da2d98a2c4033d1e4": {
          "model_module": "@jupyter-widgets/controls",
          "model_name": "HTMLModel",
          "model_module_version": "1.5.0",
          "state": {
            "_dom_classes": [],
            "_model_module": "@jupyter-widgets/controls",
            "_model_module_version": "1.5.0",
            "_model_name": "HTMLModel",
            "_view_count": null,
            "_view_module": "@jupyter-widgets/controls",
            "_view_module_version": "1.5.0",
            "_view_name": "HTMLView",
            "description": "",
            "description_tooltip": null,
            "layout": "IPY_MODEL_fec84affc31c49a186f8e3ca94c5e2ff",
            "placeholder": "​",
            "style": "IPY_MODEL_bf5dd635f64840b89d2558554ad374ad",
            "value": " 17.7M/17.7M [00:00&lt;00:00, 19.6MB/s]"
          }
        },
        "21d03310f8a24702bd73ff076b39d99f": {
          "model_module": "@jupyter-widgets/base",
          "model_name": "LayoutModel",
          "model_module_version": "1.2.0",
          "state": {
            "_model_module": "@jupyter-widgets/base",
            "_model_module_version": "1.2.0",
            "_model_name": "LayoutModel",
            "_view_count": null,
            "_view_module": "@jupyter-widgets/base",
            "_view_module_version": "1.2.0",
            "_view_name": "LayoutView",
            "align_content": null,
            "align_items": null,
            "align_self": null,
            "border": null,
            "bottom": null,
            "display": null,
            "flex": null,
            "flex_flow": null,
            "grid_area": null,
            "grid_auto_columns": null,
            "grid_auto_flow": null,
            "grid_auto_rows": null,
            "grid_column": null,
            "grid_gap": null,
            "grid_row": null,
            "grid_template_areas": null,
            "grid_template_columns": null,
            "grid_template_rows": null,
            "height": null,
            "justify_content": null,
            "justify_items": null,
            "left": null,
            "margin": null,
            "max_height": null,
            "max_width": null,
            "min_height": null,
            "min_width": null,
            "object_fit": null,
            "object_position": null,
            "order": null,
            "overflow": null,
            "overflow_x": null,
            "overflow_y": null,
            "padding": null,
            "right": null,
            "top": null,
            "visibility": null,
            "width": null
          }
        },
        "bf3ed7e695b04f25a2cce1839cef5951": {
          "model_module": "@jupyter-widgets/base",
          "model_name": "LayoutModel",
          "model_module_version": "1.2.0",
          "state": {
            "_model_module": "@jupyter-widgets/base",
            "_model_module_version": "1.2.0",
            "_model_name": "LayoutModel",
            "_view_count": null,
            "_view_module": "@jupyter-widgets/base",
            "_view_module_version": "1.2.0",
            "_view_name": "LayoutView",
            "align_content": null,
            "align_items": null,
            "align_self": null,
            "border": null,
            "bottom": null,
            "display": null,
            "flex": null,
            "flex_flow": null,
            "grid_area": null,
            "grid_auto_columns": null,
            "grid_auto_flow": null,
            "grid_auto_rows": null,
            "grid_column": null,
            "grid_gap": null,
            "grid_row": null,
            "grid_template_areas": null,
            "grid_template_columns": null,
            "grid_template_rows": null,
            "height": null,
            "justify_content": null,
            "justify_items": null,
            "left": null,
            "margin": null,
            "max_height": null,
            "max_width": null,
            "min_height": null,
            "min_width": null,
            "object_fit": null,
            "object_position": null,
            "order": null,
            "overflow": null,
            "overflow_x": null,
            "overflow_y": null,
            "padding": null,
            "right": null,
            "top": null,
            "visibility": null,
            "width": null
          }
        },
        "99aee77b5b76428b9da50b169fb8cd13": {
          "model_module": "@jupyter-widgets/controls",
          "model_name": "DescriptionStyleModel",
          "model_module_version": "1.5.0",
          "state": {
            "_model_module": "@jupyter-widgets/controls",
            "_model_module_version": "1.5.0",
            "_model_name": "DescriptionStyleModel",
            "_view_count": null,
            "_view_module": "@jupyter-widgets/base",
            "_view_module_version": "1.2.0",
            "_view_name": "StyleView",
            "description_width": ""
          }
        },
        "e51cad7c49584c1883f19174dce700b0": {
          "model_module": "@jupyter-widgets/base",
          "model_name": "LayoutModel",
          "model_module_version": "1.2.0",
          "state": {
            "_model_module": "@jupyter-widgets/base",
            "_model_module_version": "1.2.0",
            "_model_name": "LayoutModel",
            "_view_count": null,
            "_view_module": "@jupyter-widgets/base",
            "_view_module_version": "1.2.0",
            "_view_name": "LayoutView",
            "align_content": null,
            "align_items": null,
            "align_self": null,
            "border": null,
            "bottom": null,
            "display": null,
            "flex": null,
            "flex_flow": null,
            "grid_area": null,
            "grid_auto_columns": null,
            "grid_auto_flow": null,
            "grid_auto_rows": null,
            "grid_column": null,
            "grid_gap": null,
            "grid_row": null,
            "grid_template_areas": null,
            "grid_template_columns": null,
            "grid_template_rows": null,
            "height": null,
            "justify_content": null,
            "justify_items": null,
            "left": null,
            "margin": null,
            "max_height": null,
            "max_width": null,
            "min_height": null,
            "min_width": null,
            "object_fit": null,
            "object_position": null,
            "order": null,
            "overflow": null,
            "overflow_x": null,
            "overflow_y": null,
            "padding": null,
            "right": null,
            "top": null,
            "visibility": null,
            "width": null
          }
        },
        "12132843233f4a669fd0d6dadb44a033": {
          "model_module": "@jupyter-widgets/controls",
          "model_name": "ProgressStyleModel",
          "model_module_version": "1.5.0",
          "state": {
            "_model_module": "@jupyter-widgets/controls",
            "_model_module_version": "1.5.0",
            "_model_name": "ProgressStyleModel",
            "_view_count": null,
            "_view_module": "@jupyter-widgets/base",
            "_view_module_version": "1.2.0",
            "_view_name": "StyleView",
            "bar_color": null,
            "description_width": ""
          }
        },
        "fec84affc31c49a186f8e3ca94c5e2ff": {
          "model_module": "@jupyter-widgets/base",
          "model_name": "LayoutModel",
          "model_module_version": "1.2.0",
          "state": {
            "_model_module": "@jupyter-widgets/base",
            "_model_module_version": "1.2.0",
            "_model_name": "LayoutModel",
            "_view_count": null,
            "_view_module": "@jupyter-widgets/base",
            "_view_module_version": "1.2.0",
            "_view_name": "LayoutView",
            "align_content": null,
            "align_items": null,
            "align_self": null,
            "border": null,
            "bottom": null,
            "display": null,
            "flex": null,
            "flex_flow": null,
            "grid_area": null,
            "grid_auto_columns": null,
            "grid_auto_flow": null,
            "grid_auto_rows": null,
            "grid_column": null,
            "grid_gap": null,
            "grid_row": null,
            "grid_template_areas": null,
            "grid_template_columns": null,
            "grid_template_rows": null,
            "height": null,
            "justify_content": null,
            "justify_items": null,
            "left": null,
            "margin": null,
            "max_height": null,
            "max_width": null,
            "min_height": null,
            "min_width": null,
            "object_fit": null,
            "object_position": null,
            "order": null,
            "overflow": null,
            "overflow_x": null,
            "overflow_y": null,
            "padding": null,
            "right": null,
            "top": null,
            "visibility": null,
            "width": null
          }
        },
        "bf5dd635f64840b89d2558554ad374ad": {
          "model_module": "@jupyter-widgets/controls",
          "model_name": "DescriptionStyleModel",
          "model_module_version": "1.5.0",
          "state": {
            "_model_module": "@jupyter-widgets/controls",
            "_model_module_version": "1.5.0",
            "_model_name": "DescriptionStyleModel",
            "_view_count": null,
            "_view_module": "@jupyter-widgets/base",
            "_view_module_version": "1.2.0",
            "_view_name": "StyleView",
            "description_width": ""
          }
        },
        "ffaf7b66ca2b422aa83d377627196a0b": {
          "model_module": "@jupyter-widgets/controls",
          "model_name": "HBoxModel",
          "model_module_version": "1.5.0",
          "state": {
            "_dom_classes": [],
            "_model_module": "@jupyter-widgets/controls",
            "_model_module_version": "1.5.0",
            "_model_name": "HBoxModel",
            "_view_count": null,
            "_view_module": "@jupyter-widgets/controls",
            "_view_module_version": "1.5.0",
            "_view_name": "HBoxView",
            "box_style": "",
            "children": [
              "IPY_MODEL_5a6e15e8cc924f46bf26bd5d2d6a63bf",
              "IPY_MODEL_b9747477ffd247cdb372b87bbce77ed1",
              "IPY_MODEL_ceca448dd2d146d6b6ec0f7f9dcac87d"
            ],
            "layout": "IPY_MODEL_e8b680de748d4483953c9e0452eee8e6"
          }
        },
        "5a6e15e8cc924f46bf26bd5d2d6a63bf": {
          "model_module": "@jupyter-widgets/controls",
          "model_name": "HTMLModel",
          "model_module_version": "1.5.0",
          "state": {
            "_dom_classes": [],
            "_model_module": "@jupyter-widgets/controls",
            "_model_module_version": "1.5.0",
            "_model_name": "HTMLModel",
            "_view_count": null,
            "_view_module": "@jupyter-widgets/controls",
            "_view_module_version": "1.5.0",
            "_view_name": "HTMLView",
            "description": "",
            "description_tooltip": null,
            "layout": "IPY_MODEL_97fda7416ed8464d8d6da716efb7063d",
            "placeholder": "​",
            "style": "IPY_MODEL_f24e05ffb3af4b84b0b5f20271853ed3",
            "value": "Downloading builder script: 100%"
          }
        },
        "b9747477ffd247cdb372b87bbce77ed1": {
          "model_module": "@jupyter-widgets/controls",
          "model_name": "FloatProgressModel",
          "model_module_version": "1.5.0",
          "state": {
            "_dom_classes": [],
            "_model_module": "@jupyter-widgets/controls",
            "_model_module_version": "1.5.0",
            "_model_name": "FloatProgressModel",
            "_view_count": null,
            "_view_module": "@jupyter-widgets/controls",
            "_view_module_version": "1.5.0",
            "_view_name": "ProgressView",
            "bar_style": "success",
            "description": "",
            "description_tooltip": null,
            "layout": "IPY_MODEL_8774d3ed0ada444f8123674c578f03e9",
            "max": 5749,
            "min": 0,
            "orientation": "horizontal",
            "style": "IPY_MODEL_655ddd05c48747d48204fbee9efea4e1",
            "value": 5749
          }
        },
        "ceca448dd2d146d6b6ec0f7f9dcac87d": {
          "model_module": "@jupyter-widgets/controls",
          "model_name": "HTMLModel",
          "model_module_version": "1.5.0",
          "state": {
            "_dom_classes": [],
            "_model_module": "@jupyter-widgets/controls",
            "_model_module_version": "1.5.0",
            "_model_name": "HTMLModel",
            "_view_count": null,
            "_view_module": "@jupyter-widgets/controls",
            "_view_module_version": "1.5.0",
            "_view_name": "HTMLView",
            "description": "",
            "description_tooltip": null,
            "layout": "IPY_MODEL_bada08dbe9d5438e86fb16b53d2f1e9d",
            "placeholder": "​",
            "style": "IPY_MODEL_0875b48eb38147b992d41802e8c709ef",
            "value": " 5.75k/5.75k [00:00&lt;00:00, 481kB/s]"
          }
        },
        "e8b680de748d4483953c9e0452eee8e6": {
          "model_module": "@jupyter-widgets/base",
          "model_name": "LayoutModel",
          "model_module_version": "1.2.0",
          "state": {
            "_model_module": "@jupyter-widgets/base",
            "_model_module_version": "1.2.0",
            "_model_name": "LayoutModel",
            "_view_count": null,
            "_view_module": "@jupyter-widgets/base",
            "_view_module_version": "1.2.0",
            "_view_name": "LayoutView",
            "align_content": null,
            "align_items": null,
            "align_self": null,
            "border": null,
            "bottom": null,
            "display": null,
            "flex": null,
            "flex_flow": null,
            "grid_area": null,
            "grid_auto_columns": null,
            "grid_auto_flow": null,
            "grid_auto_rows": null,
            "grid_column": null,
            "grid_gap": null,
            "grid_row": null,
            "grid_template_areas": null,
            "grid_template_columns": null,
            "grid_template_rows": null,
            "height": null,
            "justify_content": null,
            "justify_items": null,
            "left": null,
            "margin": null,
            "max_height": null,
            "max_width": null,
            "min_height": null,
            "min_width": null,
            "object_fit": null,
            "object_position": null,
            "order": null,
            "overflow": null,
            "overflow_x": null,
            "overflow_y": null,
            "padding": null,
            "right": null,
            "top": null,
            "visibility": null,
            "width": null
          }
        },
        "97fda7416ed8464d8d6da716efb7063d": {
          "model_module": "@jupyter-widgets/base",
          "model_name": "LayoutModel",
          "model_module_version": "1.2.0",
          "state": {
            "_model_module": "@jupyter-widgets/base",
            "_model_module_version": "1.2.0",
            "_model_name": "LayoutModel",
            "_view_count": null,
            "_view_module": "@jupyter-widgets/base",
            "_view_module_version": "1.2.0",
            "_view_name": "LayoutView",
            "align_content": null,
            "align_items": null,
            "align_self": null,
            "border": null,
            "bottom": null,
            "display": null,
            "flex": null,
            "flex_flow": null,
            "grid_area": null,
            "grid_auto_columns": null,
            "grid_auto_flow": null,
            "grid_auto_rows": null,
            "grid_column": null,
            "grid_gap": null,
            "grid_row": null,
            "grid_template_areas": null,
            "grid_template_columns": null,
            "grid_template_rows": null,
            "height": null,
            "justify_content": null,
            "justify_items": null,
            "left": null,
            "margin": null,
            "max_height": null,
            "max_width": null,
            "min_height": null,
            "min_width": null,
            "object_fit": null,
            "object_position": null,
            "order": null,
            "overflow": null,
            "overflow_x": null,
            "overflow_y": null,
            "padding": null,
            "right": null,
            "top": null,
            "visibility": null,
            "width": null
          }
        },
        "f24e05ffb3af4b84b0b5f20271853ed3": {
          "model_module": "@jupyter-widgets/controls",
          "model_name": "DescriptionStyleModel",
          "model_module_version": "1.5.0",
          "state": {
            "_model_module": "@jupyter-widgets/controls",
            "_model_module_version": "1.5.0",
            "_model_name": "DescriptionStyleModel",
            "_view_count": null,
            "_view_module": "@jupyter-widgets/base",
            "_view_module_version": "1.2.0",
            "_view_name": "StyleView",
            "description_width": ""
          }
        },
        "8774d3ed0ada444f8123674c578f03e9": {
          "model_module": "@jupyter-widgets/base",
          "model_name": "LayoutModel",
          "model_module_version": "1.2.0",
          "state": {
            "_model_module": "@jupyter-widgets/base",
            "_model_module_version": "1.2.0",
            "_model_name": "LayoutModel",
            "_view_count": null,
            "_view_module": "@jupyter-widgets/base",
            "_view_module_version": "1.2.0",
            "_view_name": "LayoutView",
            "align_content": null,
            "align_items": null,
            "align_self": null,
            "border": null,
            "bottom": null,
            "display": null,
            "flex": null,
            "flex_flow": null,
            "grid_area": null,
            "grid_auto_columns": null,
            "grid_auto_flow": null,
            "grid_auto_rows": null,
            "grid_column": null,
            "grid_gap": null,
            "grid_row": null,
            "grid_template_areas": null,
            "grid_template_columns": null,
            "grid_template_rows": null,
            "height": null,
            "justify_content": null,
            "justify_items": null,
            "left": null,
            "margin": null,
            "max_height": null,
            "max_width": null,
            "min_height": null,
            "min_width": null,
            "object_fit": null,
            "object_position": null,
            "order": null,
            "overflow": null,
            "overflow_x": null,
            "overflow_y": null,
            "padding": null,
            "right": null,
            "top": null,
            "visibility": null,
            "width": null
          }
        },
        "655ddd05c48747d48204fbee9efea4e1": {
          "model_module": "@jupyter-widgets/controls",
          "model_name": "ProgressStyleModel",
          "model_module_version": "1.5.0",
          "state": {
            "_model_module": "@jupyter-widgets/controls",
            "_model_module_version": "1.5.0",
            "_model_name": "ProgressStyleModel",
            "_view_count": null,
            "_view_module": "@jupyter-widgets/base",
            "_view_module_version": "1.2.0",
            "_view_name": "StyleView",
            "bar_color": null,
            "description_width": ""
          }
        },
        "bada08dbe9d5438e86fb16b53d2f1e9d": {
          "model_module": "@jupyter-widgets/base",
          "model_name": "LayoutModel",
          "model_module_version": "1.2.0",
          "state": {
            "_model_module": "@jupyter-widgets/base",
            "_model_module_version": "1.2.0",
            "_model_name": "LayoutModel",
            "_view_count": null,
            "_view_module": "@jupyter-widgets/base",
            "_view_module_version": "1.2.0",
            "_view_name": "LayoutView",
            "align_content": null,
            "align_items": null,
            "align_self": null,
            "border": null,
            "bottom": null,
            "display": null,
            "flex": null,
            "flex_flow": null,
            "grid_area": null,
            "grid_auto_columns": null,
            "grid_auto_flow": null,
            "grid_auto_rows": null,
            "grid_column": null,
            "grid_gap": null,
            "grid_row": null,
            "grid_template_areas": null,
            "grid_template_columns": null,
            "grid_template_rows": null,
            "height": null,
            "justify_content": null,
            "justify_items": null,
            "left": null,
            "margin": null,
            "max_height": null,
            "max_width": null,
            "min_height": null,
            "min_width": null,
            "object_fit": null,
            "object_position": null,
            "order": null,
            "overflow": null,
            "overflow_x": null,
            "overflow_y": null,
            "padding": null,
            "right": null,
            "top": null,
            "visibility": null,
            "width": null
          }
        },
        "0875b48eb38147b992d41802e8c709ef": {
          "model_module": "@jupyter-widgets/controls",
          "model_name": "DescriptionStyleModel",
          "model_module_version": "1.5.0",
          "state": {
            "_model_module": "@jupyter-widgets/controls",
            "_model_module_version": "1.5.0",
            "_model_name": "DescriptionStyleModel",
            "_view_count": null,
            "_view_module": "@jupyter-widgets/base",
            "_view_module_version": "1.2.0",
            "_view_name": "StyleView",
            "description_width": ""
          }
        }
      }
    }
  },
  "nbformat": 4,
  "nbformat_minor": 0
}