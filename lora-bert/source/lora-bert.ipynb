{
  "cells": [
    {
      "cell_type": "markdown",
      "metadata": {
        "id": "view-in-github",
        "colab_type": "text"
      },
      "source": [
        "<a href=\"https://colab.research.google.com/github/danjshaw/ece57000-finalProject/blob/main/lora-bert/source/lora-bert.ipynb\" target=\"_parent\"><img src=\"https://colab.research.google.com/assets/colab-badge.svg\" alt=\"Open In Colab\"/></a>"
      ]
    },
    {
      "cell_type": "markdown",
      "source": [
        "# Initial Setup"
      ],
      "metadata": {
        "id": "RJc8lRi2sPF3"
      }
    },
    {
      "cell_type": "code",
      "source": [
        "from google.colab import drive\n",
        "drive.mount('/content/drive')"
      ],
      "metadata": {
        "id": "s1zuELS-Znol",
        "colab": {
          "base_uri": "https://localhost:8080/"
        },
        "outputId": "3d145d17-94d6-447f-ba40-c044c60a43cb"
      },
      "execution_count": 113,
      "outputs": [
        {
          "output_type": "stream",
          "name": "stdout",
          "text": [
            "Drive already mounted at /content/drive; to attempt to forcibly remount, call drive.mount(\"/content/drive\", force_remount=True).\n"
          ]
        }
      ]
    },
    {
      "cell_type": "code",
      "source": [
        "import os\n",
        "if not os.path.exists('/content/drive/MyDrive/lora-bert/'):\n",
        "    os.makedirs('/content/drive/MyDrive/lora-bert/')\n",
        "output_dir = '/content/drive/MyDrive/lora-bert/'"
      ],
      "metadata": {
        "id": "rmH2TqY1qMYw"
      },
      "execution_count": 114,
      "outputs": []
    },
    {
      "cell_type": "code",
      "execution_count": 115,
      "metadata": {
        "colab": {
          "base_uri": "https://localhost:8080/"
        },
        "collapsed": true,
        "id": "OOOR51p7nJQb",
        "outputId": "e0d60b89-02ce-45e1-f252-f3329e4944eb"
      },
      "outputs": [
        {
          "output_type": "stream",
          "name": "stdout",
          "text": [
            "Requirement already satisfied: datasets in /usr/local/lib/python3.10/dist-packages (3.1.0)\n",
            "Requirement already satisfied: filelock in /usr/local/lib/python3.10/dist-packages (from datasets) (3.16.1)\n",
            "Requirement already satisfied: numpy>=1.17 in /usr/local/lib/python3.10/dist-packages (from datasets) (1.26.4)\n",
            "Requirement already satisfied: pyarrow>=15.0.0 in /usr/local/lib/python3.10/dist-packages (from datasets) (17.0.0)\n",
            "Requirement already satisfied: dill<0.3.9,>=0.3.0 in /usr/local/lib/python3.10/dist-packages (from datasets) (0.3.8)\n",
            "Requirement already satisfied: pandas in /usr/local/lib/python3.10/dist-packages (from datasets) (2.2.2)\n",
            "Requirement already satisfied: requests>=2.32.2 in /usr/local/lib/python3.10/dist-packages (from datasets) (2.32.3)\n",
            "Requirement already satisfied: tqdm>=4.66.3 in /usr/local/lib/python3.10/dist-packages (from datasets) (4.66.6)\n",
            "Requirement already satisfied: xxhash in /usr/local/lib/python3.10/dist-packages (from datasets) (3.5.0)\n",
            "Requirement already satisfied: multiprocess<0.70.17 in /usr/local/lib/python3.10/dist-packages (from datasets) (0.70.16)\n",
            "Requirement already satisfied: fsspec<=2024.9.0,>=2023.1.0 in /usr/local/lib/python3.10/dist-packages (from fsspec[http]<=2024.9.0,>=2023.1.0->datasets) (2024.9.0)\n",
            "Requirement already satisfied: aiohttp in /usr/local/lib/python3.10/dist-packages (from datasets) (3.11.1)\n",
            "Requirement already satisfied: huggingface-hub>=0.23.0 in /usr/local/lib/python3.10/dist-packages (from datasets) (0.26.2)\n",
            "Requirement already satisfied: packaging in /usr/local/lib/python3.10/dist-packages (from datasets) (24.2)\n",
            "Requirement already satisfied: pyyaml>=5.1 in /usr/local/lib/python3.10/dist-packages (from datasets) (6.0.2)\n",
            "Requirement already satisfied: aiohappyeyeballs>=2.3.0 in /usr/local/lib/python3.10/dist-packages (from aiohttp->datasets) (2.4.3)\n",
            "Requirement already satisfied: aiosignal>=1.1.2 in /usr/local/lib/python3.10/dist-packages (from aiohttp->datasets) (1.3.1)\n",
            "Requirement already satisfied: attrs>=17.3.0 in /usr/local/lib/python3.10/dist-packages (from aiohttp->datasets) (24.2.0)\n",
            "Requirement already satisfied: frozenlist>=1.1.1 in /usr/local/lib/python3.10/dist-packages (from aiohttp->datasets) (1.5.0)\n",
            "Requirement already satisfied: multidict<7.0,>=4.5 in /usr/local/lib/python3.10/dist-packages (from aiohttp->datasets) (6.1.0)\n",
            "Requirement already satisfied: propcache>=0.2.0 in /usr/local/lib/python3.10/dist-packages (from aiohttp->datasets) (0.2.0)\n",
            "Requirement already satisfied: yarl<2.0,>=1.17.0 in /usr/local/lib/python3.10/dist-packages (from aiohttp->datasets) (1.17.1)\n",
            "Requirement already satisfied: async-timeout<6.0,>=4.0 in /usr/local/lib/python3.10/dist-packages (from aiohttp->datasets) (4.0.3)\n",
            "Requirement already satisfied: typing-extensions>=3.7.4.3 in /usr/local/lib/python3.10/dist-packages (from huggingface-hub>=0.23.0->datasets) (4.12.2)\n",
            "Requirement already satisfied: charset-normalizer<4,>=2 in /usr/local/lib/python3.10/dist-packages (from requests>=2.32.2->datasets) (3.4.0)\n",
            "Requirement already satisfied: idna<4,>=2.5 in /usr/local/lib/python3.10/dist-packages (from requests>=2.32.2->datasets) (3.10)\n",
            "Requirement already satisfied: urllib3<3,>=1.21.1 in /usr/local/lib/python3.10/dist-packages (from requests>=2.32.2->datasets) (2.2.3)\n",
            "Requirement already satisfied: certifi>=2017.4.17 in /usr/local/lib/python3.10/dist-packages (from requests>=2.32.2->datasets) (2024.8.30)\n",
            "Requirement already satisfied: python-dateutil>=2.8.2 in /usr/local/lib/python3.10/dist-packages (from pandas->datasets) (2.8.2)\n",
            "Requirement already satisfied: pytz>=2020.1 in /usr/local/lib/python3.10/dist-packages (from pandas->datasets) (2024.2)\n",
            "Requirement already satisfied: tzdata>=2022.7 in /usr/local/lib/python3.10/dist-packages (from pandas->datasets) (2024.2)\n",
            "Requirement already satisfied: six>=1.5 in /usr/local/lib/python3.10/dist-packages (from python-dateutil>=2.8.2->pandas->datasets) (1.16.0)\n",
            "Requirement already satisfied: evaluate in /usr/local/lib/python3.10/dist-packages (0.4.3)\n",
            "Requirement already satisfied: datasets>=2.0.0 in /usr/local/lib/python3.10/dist-packages (from evaluate) (3.1.0)\n",
            "Requirement already satisfied: numpy>=1.17 in /usr/local/lib/python3.10/dist-packages (from evaluate) (1.26.4)\n",
            "Requirement already satisfied: dill in /usr/local/lib/python3.10/dist-packages (from evaluate) (0.3.8)\n",
            "Requirement already satisfied: pandas in /usr/local/lib/python3.10/dist-packages (from evaluate) (2.2.2)\n",
            "Requirement already satisfied: requests>=2.19.0 in /usr/local/lib/python3.10/dist-packages (from evaluate) (2.32.3)\n",
            "Requirement already satisfied: tqdm>=4.62.1 in /usr/local/lib/python3.10/dist-packages (from evaluate) (4.66.6)\n",
            "Requirement already satisfied: xxhash in /usr/local/lib/python3.10/dist-packages (from evaluate) (3.5.0)\n",
            "Requirement already satisfied: multiprocess in /usr/local/lib/python3.10/dist-packages (from evaluate) (0.70.16)\n",
            "Requirement already satisfied: fsspec>=2021.05.0 in /usr/local/lib/python3.10/dist-packages (from fsspec[http]>=2021.05.0->evaluate) (2024.9.0)\n",
            "Requirement already satisfied: huggingface-hub>=0.7.0 in /usr/local/lib/python3.10/dist-packages (from evaluate) (0.26.2)\n",
            "Requirement already satisfied: packaging in /usr/local/lib/python3.10/dist-packages (from evaluate) (24.2)\n",
            "Requirement already satisfied: filelock in /usr/local/lib/python3.10/dist-packages (from datasets>=2.0.0->evaluate) (3.16.1)\n",
            "Requirement already satisfied: pyarrow>=15.0.0 in /usr/local/lib/python3.10/dist-packages (from datasets>=2.0.0->evaluate) (17.0.0)\n",
            "Requirement already satisfied: aiohttp in /usr/local/lib/python3.10/dist-packages (from datasets>=2.0.0->evaluate) (3.11.1)\n",
            "Requirement already satisfied: pyyaml>=5.1 in /usr/local/lib/python3.10/dist-packages (from datasets>=2.0.0->evaluate) (6.0.2)\n",
            "Requirement already satisfied: typing-extensions>=3.7.4.3 in /usr/local/lib/python3.10/dist-packages (from huggingface-hub>=0.7.0->evaluate) (4.12.2)\n",
            "Requirement already satisfied: charset-normalizer<4,>=2 in /usr/local/lib/python3.10/dist-packages (from requests>=2.19.0->evaluate) (3.4.0)\n",
            "Requirement already satisfied: idna<4,>=2.5 in /usr/local/lib/python3.10/dist-packages (from requests>=2.19.0->evaluate) (3.10)\n",
            "Requirement already satisfied: urllib3<3,>=1.21.1 in /usr/local/lib/python3.10/dist-packages (from requests>=2.19.0->evaluate) (2.2.3)\n",
            "Requirement already satisfied: certifi>=2017.4.17 in /usr/local/lib/python3.10/dist-packages (from requests>=2.19.0->evaluate) (2024.8.30)\n",
            "Requirement already satisfied: python-dateutil>=2.8.2 in /usr/local/lib/python3.10/dist-packages (from pandas->evaluate) (2.8.2)\n",
            "Requirement already satisfied: pytz>=2020.1 in /usr/local/lib/python3.10/dist-packages (from pandas->evaluate) (2024.2)\n",
            "Requirement already satisfied: tzdata>=2022.7 in /usr/local/lib/python3.10/dist-packages (from pandas->evaluate) (2024.2)\n",
            "Requirement already satisfied: aiohappyeyeballs>=2.3.0 in /usr/local/lib/python3.10/dist-packages (from aiohttp->datasets>=2.0.0->evaluate) (2.4.3)\n",
            "Requirement already satisfied: aiosignal>=1.1.2 in /usr/local/lib/python3.10/dist-packages (from aiohttp->datasets>=2.0.0->evaluate) (1.3.1)\n",
            "Requirement already satisfied: attrs>=17.3.0 in /usr/local/lib/python3.10/dist-packages (from aiohttp->datasets>=2.0.0->evaluate) (24.2.0)\n",
            "Requirement already satisfied: frozenlist>=1.1.1 in /usr/local/lib/python3.10/dist-packages (from aiohttp->datasets>=2.0.0->evaluate) (1.5.0)\n",
            "Requirement already satisfied: multidict<7.0,>=4.5 in /usr/local/lib/python3.10/dist-packages (from aiohttp->datasets>=2.0.0->evaluate) (6.1.0)\n",
            "Requirement already satisfied: propcache>=0.2.0 in /usr/local/lib/python3.10/dist-packages (from aiohttp->datasets>=2.0.0->evaluate) (0.2.0)\n",
            "Requirement already satisfied: yarl<2.0,>=1.17.0 in /usr/local/lib/python3.10/dist-packages (from aiohttp->datasets>=2.0.0->evaluate) (1.17.1)\n",
            "Requirement already satisfied: async-timeout<6.0,>=4.0 in /usr/local/lib/python3.10/dist-packages (from aiohttp->datasets>=2.0.0->evaluate) (4.0.3)\n",
            "Requirement already satisfied: six>=1.5 in /usr/local/lib/python3.10/dist-packages (from python-dateutil>=2.8.2->pandas->evaluate) (1.16.0)\n"
          ]
        }
      ],
      "source": [
        "!pip install datasets\n",
        "!pip install evaluate\n",
        "!pip freeze > /content/drive/MyDrive/lora-bert/requirements.txt"
      ]
    },
    {
      "cell_type": "code",
      "source": [
        "import torch\n",
        "import torch.nn as nn\n",
        "import numpy as np"
      ],
      "metadata": {
        "id": "_rJOUWbHb7h7"
      },
      "execution_count": 116,
      "outputs": []
    },
    {
      "cell_type": "code",
      "source": [
        "device = torch.device(\"cuda\" if torch.cuda.is_available() else \"cpu\")\n",
        "print(device)"
      ],
      "metadata": {
        "colab": {
          "base_uri": "https://localhost:8080/"
        },
        "id": "DiAkOY-564eO",
        "outputId": "33f24a5b-e302-490b-b749-c9d1c9bfe7e2"
      },
      "execution_count": 117,
      "outputs": [
        {
          "output_type": "stream",
          "name": "stdout",
          "text": [
            "cuda\n"
          ]
        }
      ]
    },
    {
      "cell_type": "code",
      "source": [
        "from transformers import set_seed\n",
        "set_seed(0)"
      ],
      "metadata": {
        "id": "VDqSTwjJilGA",
        "collapsed": true
      },
      "execution_count": 118,
      "outputs": []
    },
    {
      "cell_type": "code",
      "execution_count": 119,
      "metadata": {
        "id": "dnum5mxHf-MI"
      },
      "outputs": [],
      "source": [
        "def get_trainable_parameters(model):\n",
        "  trainable_parameters = 0\n",
        "  parameters = 0\n",
        "  for param in model.parameters():\n",
        "    parameters += param.numel()\n",
        "    if param.requires_grad:\n",
        "      trainable_parameters += param.numel()\n",
        "  return {'total_parameters': parameters, 'trainable_parameters': trainable_parameters}"
      ]
    },
    {
      "cell_type": "code",
      "source": [
        "import csv\n",
        "def write_results_to_csv(file_name, results):\n",
        "  with open(file_name, 'w', newline='') as csvfile:\n",
        "      writer = csv.DictWriter(csvfile, fieldnames=list(results[0].keys()))\n",
        "      writer.writeheader()\n",
        "      for result in results:\n",
        "        writer.writerow(result)"
      ],
      "metadata": {
        "id": "yexmh39lLLnX"
      },
      "execution_count": 120,
      "outputs": []
    },
    {
      "cell_type": "code",
      "source": [
        "def get_model_name(name_and_path):\n",
        "  return name_and_path.split('/')[1]"
      ],
      "metadata": {
        "id": "zLuF2DieXmzO"
      },
      "execution_count": 121,
      "outputs": []
    },
    {
      "cell_type": "markdown",
      "source": [
        "# Full Fine-Tuning Functions\n",
        "\n"
      ],
      "metadata": {
        "id": "6pdjddZVsbQN"
      }
    },
    {
      "cell_type": "markdown",
      "source": [
        "Followed examples from this [Hugging Face NLP course](https://huggingface.co/learn/nlp-course/chapter3/3?fw=pt#fine-tuning-a-model-with-the-trainer-api) on how to use the trainer API for fine-tuning."
      ],
      "metadata": {
        "id": "xM1jwv_maqfd"
      }
    },
    {
      "cell_type": "code",
      "source": [
        "from transformers import AutoTokenizer, DataCollatorWithPadding\n",
        "from datasets import load_dataset\n",
        "import evaluate\n",
        "\n",
        "def fine_tune(checkpoint, epochs, batch_size, learning_rate):\n",
        "  model_name = checkpoint\n",
        "  if '/' in checkpoint:\n",
        "    model_name = get_model_name(checkpoint)\n",
        "\n",
        "  # Initialize result\n",
        "  result = {\"batch_size\": batch_size, \"learning_rate\": learning_rate}\n",
        "\n",
        "  # Setup model and dataset\n",
        "  raw_datasets = load_dataset(\"glue\", \"mrpc\")\n",
        "  tokenizer = AutoTokenizer.from_pretrained(checkpoint)\n",
        "\n",
        "  def tokenize_function(example):\n",
        "      return tokenizer(example[\"sentence1\"], example[\"sentence2\"])\n",
        "\n",
        "  tokenized_datasets = raw_datasets.map(tokenize_function, batched=True)\n",
        "  data_collator = DataCollatorWithPadding(tokenizer=tokenizer)\n",
        "\n",
        "  def compute_metrics(eval_preds):\n",
        "      metric = evaluate.load(\"glue\", \"mrpc\")\n",
        "      logits, labels = eval_preds\n",
        "      predictions = np.argmax(logits, axis=-1)\n",
        "      return metric.compute(predictions=predictions, references=labels)\n",
        "\n",
        "  model = AutoModelForSequenceClassification.from_pretrained(checkpoint, num_labels=2).to(device)\n",
        "\n",
        "  # Setup the trainer\n",
        "  training_args = TrainingArguments(\n",
        "      \"fine-tuning-trainer\",\n",
        "      eval_strategy=\"epoch\",\n",
        "      per_device_eval_batch_size=batch_size,\n",
        "      per_device_train_batch_size=batch_size,\n",
        "      num_train_epochs=epochs,\n",
        "      learning_rate=batch_size,\n",
        "      disable_tqdm=True,\n",
        "      report_to=\"none\"\n",
        "  )\n",
        "  trainer = Trainer(\n",
        "      model,\n",
        "      training_args,\n",
        "      train_dataset=tokenized_datasets[\"train\"],\n",
        "      eval_dataset=tokenized_datasets[\"validation\"],\n",
        "      data_collator=data_collator,\n",
        "      processing_class=tokenizer,\n",
        "      compute_metrics=compute_metrics\n",
        "  )\n",
        "\n",
        "  # Train the model\n",
        "  return result | trainer.train().metrics | trainer.evaluate() | get_trainable_parameters(model)"
      ],
      "metadata": {
        "id": "AQt5byIxFRrJ"
      },
      "execution_count": 122,
      "outputs": []
    },
    {
      "cell_type": "code",
      "source": [
        "from transformers import Trainer, TrainingArguments, AutoModelForSequenceClassification, set_seed\n",
        "import time\n",
        "\n",
        "def hyperparameter_tune(checkpoint, batch_sizes, learning_rates):\n",
        "  model_name = checkpoint\n",
        "  if '/' in checkpoint:\n",
        "    model_name = get_model_name(checkpoint)\n",
        "\n",
        "  ft_results = []\n",
        "  progress = 0\n",
        "  iterations = len(batch_sizes)*len(learning_rates)\n",
        "\n",
        "  # Hyperparameter tuning\n",
        "  start_time = time.time()\n",
        "  for size in batch_sizes:\n",
        "    for rate in learning_rates:\n",
        "      # Track progress\n",
        "      progress += 1\n",
        "      print(f\"Progress: {progress}/{iterations}\")\n",
        "\n",
        "      # Fine-tune the model and store the results\n",
        "      ft_result = fine_tune(checkpoint, epochs, size, rate)\n",
        "      ft_results.append(ft_result)\n",
        "\n",
        "  write_results_to_csv(output_dir+model_name+'-ft-results.csv', ft_results)\n",
        "\n",
        "  end_time = time.time()\n",
        "\n",
        "  runtime_seconds = end_time - start_time\n",
        "  runtime_minutes = runtime_seconds / 60\n",
        "\n",
        "  # Output the best result\n",
        "  max_ft_result = ft_results[0]\n",
        "  for _, result in enumerate(ft_results):\n",
        "    if result['eval_f1'] > max_ft_result['eval_f1']:\n",
        "      max_ft_result = result\n",
        "  print(f'\\n================ \\\n",
        "          \\nTotal Runtime: {runtime_minutes} minutes \\\n",
        "          \\nBest Result: \\\n",
        "          \\n\\tF1={max_ft_result[\"eval_f1\"]} \\\n",
        "          \\n\\tBatch Size={max_ft_result[\"batch_size\"]} \\\n",
        "          \\n\\tLearning Rate={max_ft_result[\"learning_rate\"]}'\n",
        "  )\n",
        "\n",
        "  return ft_results"
      ],
      "metadata": {
        "id": "R0rtaL56jMN3",
        "collapsed": true
      },
      "execution_count": 123,
      "outputs": []
    },
    {
      "cell_type": "markdown",
      "source": [
        "# Low-Rank Adaptation (LoRA) Functions"
      ],
      "metadata": {
        "id": "fn2hce2EzI11"
      }
    },
    {
      "cell_type": "code",
      "execution_count": 124,
      "metadata": {
        "id": "MivaCxsh7UKy"
      },
      "outputs": [],
      "source": [
        "class LoraModule(nn.Module):\n",
        "  def __init__(self, in_features, out_features, rank, alpha):\n",
        "    super().__init__()\n",
        "    self.scale = alpha / rank\n",
        "    self.A = nn.Parameter(torch.randn(in_features, rank))\n",
        "    self.B = nn.Parameter(torch.zeros(rank, out_features))\n",
        "\n",
        "  def forward(self, x):\n",
        "    return (self.scale * (x @ self.A @ self.B))\n",
        "\n",
        "class LoraLinear(nn.Module):\n",
        "  def __init__(self, linear, rank, alpha):\n",
        "    super().__init__()\n",
        "    if (isinstance(linear, LoraLinear)):\n",
        "      self.linear = linear.linear\n",
        "      self.lora = LoraModule(self.linear.in_features, self.linear.out_features, rank, alpha)\n",
        "\n",
        "    else:\n",
        "      self.linear = linear\n",
        "      self.lora = LoraModule(self.linear.in_features, self.linear.out_features, rank, alpha)\n",
        "\n",
        "  def forward(self, x):\n",
        "    return self.linear(x) + self.lora(x)"
      ]
    },
    {
      "cell_type": "code",
      "source": [
        "def configure_lora_model(model, rank, alpha):\n",
        "  # Replace the query and value linear layers with LoRA layers\n",
        "  for _, layer in enumerate(model.bert.encoder.layer):\n",
        "    s = layer.attention.self\n",
        "    s.query = LoraLinear(s.query, rank, alpha)\n",
        "    s.value = LoraLinear(s.value, rank, alpha)\n",
        "\n",
        "  # Freeze the pre-trained weights\n",
        "  for name, param in model.named_parameters():\n",
        "    if 'A' in name or 'B' in name:\n",
        "      param.requires_grad = True\n",
        "    else:\n",
        "      param.requires_grad = False"
      ],
      "metadata": {
        "id": "G32Km33dIKU5"
      },
      "execution_count": 125,
      "outputs": []
    },
    {
      "cell_type": "code",
      "source": [
        "from transformers import Trainer, TrainingArguments, set_seed\n",
        "import time\n",
        "\n",
        "def lora_hyperparameter_tune(checkpoint, ranks, alphas, epochs, batch_sizes, learning_rates):\n",
        "  model_name = checkpoint\n",
        "  if '/' in checkpoint:\n",
        "    model_name = get_model_name(checkpoint)\n",
        "\n",
        "  # Setup model and dataset\n",
        "  raw_datasets = load_dataset(\"glue\", \"mrpc\")\n",
        "  tokenizer = AutoTokenizer.from_pretrained(checkpoint)\n",
        "\n",
        "  def tokenize_function(example):\n",
        "      return tokenizer(example[\"sentence1\"], example[\"sentence2\"])\n",
        "\n",
        "  tokenized_datasets = raw_datasets.map(tokenize_function, batched=True)\n",
        "  data_collator = DataCollatorWithPadding(tokenizer=tokenizer)\n",
        "\n",
        "  def compute_metrics(eval_preds):\n",
        "      metric = evaluate.load(\"glue\", \"mrpc\")\n",
        "      logits, labels = eval_preds\n",
        "      predictions = np.argmax(logits, axis=-1)\n",
        "      return metric.compute(predictions=predictions, references=labels)\n",
        "\n",
        "  model = AutoModelForSequenceClassification.from_pretrained(checkpoint, num_labels=2).to(device)\n",
        "\n",
        "  lora_results = []\n",
        "  progress = 0\n",
        "  iterations = len(batch_sizes)*len(learning_rates)*len(ranks)*len(alphas)\n",
        "\n",
        "  # Hyperparameter tuning\n",
        "  start_time = time.time()\n",
        "  for rank in ranks:\n",
        "    for alpha in alphas:\n",
        "      for size in batch_sizes:\n",
        "        for rate in learning_rates:\n",
        "          # Track progress\n",
        "          progress += 1\n",
        "          print(f\"Progress: {progress}/{iterations}\")\n",
        "\n",
        "          # Initialize result\n",
        "          result = {\"rank\": rank, \"alpha\": alpha, \"batch_size\": size, \"learning_rate\": rate}\n",
        "\n",
        "          # Configure an existing model with new LoRA layers\n",
        "          configure_lora_model(model, rank, alpha)\n",
        "\n",
        "          # Setup the trainer\n",
        "          training_args = TrainingArguments(\n",
        "              \"lora-trainer\",\n",
        "              eval_strategy=\"epoch\",\n",
        "              per_device_eval_batch_size=size,\n",
        "              per_device_train_batch_size=size,\n",
        "              num_train_epochs=epochs,\n",
        "              learning_rate=rate,\n",
        "              disable_tqdm=True,\n",
        "              report_to=\"none\"\n",
        "          )\n",
        "          trainer = Trainer(\n",
        "              model,\n",
        "              training_args,\n",
        "              train_dataset=tokenized_datasets[\"train\"],\n",
        "              eval_dataset=tokenized_datasets[\"validation\"],\n",
        "              data_collator=data_collator,\n",
        "              processing_class=tokenizer,\n",
        "              compute_metrics=compute_metrics\n",
        "          )\n",
        "\n",
        "          # Train the model\n",
        "          lora_results.append(result | trainer.train().metrics | trainer.evaluate() | get_trainable_parameters(model))\n",
        "\n",
        "  write_results_to_csv(output_dir+model_name+'-lora-results.csv', lora_results)\n",
        "\n",
        "  end_time = time.time()\n",
        "\n",
        "  runtime_seconds = end_time - start_time\n",
        "  runtime_hours = runtime_seconds / 3600\n",
        "\n",
        "  # Output the best result\n",
        "  max_lora_result = lora_results[0]\n",
        "  for _, result in enumerate(lora_results):\n",
        "    if result['eval_f1'] > max_lora_result['eval_f1']:\n",
        "      max_lora_result = result\n",
        "  print(f'\\n================ \\\n",
        "          \\nTotal Runtime: {runtime_hours} hours \\\n",
        "          \\nBest Result: \\\n",
        "          \\n\\tF1={max_lora_result[\"eval_f1\"]} \\\n",
        "          \\n\\tRank={max_lora_result[\"rank\"]} \\\n",
        "          \\n\\tAlpha={max_lora_result[\"alpha\"]} \\\n",
        "          \\n\\tBatch Size={max_lora_result[\"batch_size\"]} \\\n",
        "          \\n\\tLearning Rate={max_lora_result[\"learning_rate\"]}'\n",
        "  )\n",
        "\n",
        "  return lora_results"
      ],
      "metadata": {
        "id": "2sRCUocTD3eo",
        "collapsed": true
      },
      "execution_count": 126,
      "outputs": []
    },
    {
      "cell_type": "markdown",
      "source": [
        "# Run Program"
      ],
      "metadata": {
        "id": "5BssM-XUfY3Q"
      }
    },
    {
      "cell_type": "markdown",
      "source": [
        "Hyperparameters from [google-research/bert](https://github.com/google-research/bert):\n",
        "\n",
        "\n",
        "\n",
        "> For each task, we selected the best fine-tuning hyperparameters from the lists below, and trained for 4 epochs:\n",
        "> * batch sizes: 8, 16, 32, 64, 128\n",
        "> * learning rates: 3e-4, 1e-4, 5e-5, 3e-5\n",
        "\n"
      ],
      "metadata": {
        "id": "aZnBuTehsapX"
      }
    },
    {
      "cell_type": "code",
      "source": [
        "epochs = 4\n",
        "batch_sizes = [8]#, 16, 32, 64, 128]\n",
        "learning_rates = [3e-4]#, 1e-4, 5e-5, 3e-5]"
      ],
      "metadata": {
        "id": "62XZoxhusMhO"
      },
      "execution_count": 127,
      "outputs": []
    },
    {
      "cell_type": "code",
      "source": [
        "ranks = [1]#, 2, 4, 8, 16]\n",
        "alphas = [1]#, 2, 4, 8, 16]"
      ],
      "metadata": {
        "id": "niceYTIvGnz2"
      },
      "execution_count": 128,
      "outputs": []
    },
    {
      "cell_type": "markdown",
      "source": [
        "## BERT Small"
      ],
      "metadata": {
        "id": "JNcLiSBgkDaG"
      }
    },
    {
      "cell_type": "markdown",
      "source": [
        "### Full Fine-Tuning"
      ],
      "metadata": {
        "id": "e2nA0q5Emepi"
      }
    },
    {
      "cell_type": "code",
      "source": [
        "_ = hyperparameter_tune(\"prajjwal1/bert-small\", batch_sizes, learning_rates)"
      ],
      "metadata": {
        "id": "EHBQ5Y9RjssT",
        "outputId": "4eb97738-0dd6-46b1-cec7-ab7d51d7898b",
        "colab": {
          "base_uri": "https://localhost:8080/"
        }
      },
      "execution_count": 111,
      "outputs": [
        {
          "output_type": "stream",
          "name": "stdout",
          "text": [
            "Progress: 1/1\n"
          ]
        },
        {
          "output_type": "stream",
          "name": "stderr",
          "text": [
            "Some weights of BertForSequenceClassification were not initialized from the model checkpoint at prajjwal1/bert-small and are newly initialized: ['classifier.bias', 'classifier.weight']\n",
            "You should probably TRAIN this model on a down-stream task to be able to use it for predictions and inference.\n"
          ]
        },
        {
          "output_type": "stream",
          "name": "stdout",
          "text": [
            "{'eval_loss': nan, 'eval_accuracy': 0.3161764705882353, 'eval_f1': 0.0, 'eval_runtime': 1.3702, 'eval_samples_per_second': 297.758, 'eval_steps_per_second': 37.22, 'epoch': 1.0}\n",
            "{'loss': 65.011, 'grad_norm': nan, 'learning_rate': 5.821350762527233, 'epoch': 1.0893246187363834}\n",
            "{'eval_loss': nan, 'eval_accuracy': 0.3161764705882353, 'eval_f1': 0.0, 'eval_runtime': 2.1891, 'eval_samples_per_second': 186.379, 'eval_steps_per_second': 23.297, 'epoch': 2.0}\n",
            "{'loss': 0.0, 'grad_norm': nan, 'learning_rate': 3.6427015250544663, 'epoch': 2.178649237472767}\n",
            "{'eval_loss': nan, 'eval_accuracy': 0.3161764705882353, 'eval_f1': 0.0, 'eval_runtime': 1.7076, 'eval_samples_per_second': 238.931, 'eval_steps_per_second': 29.866, 'epoch': 3.0}\n",
            "{'loss': 0.0, 'grad_norm': nan, 'learning_rate': 1.4640522875816993, 'epoch': 3.2679738562091503}\n",
            "{'eval_loss': nan, 'eval_accuracy': 0.3161764705882353, 'eval_f1': 0.0, 'eval_runtime': 1.4182, 'eval_samples_per_second': 287.688, 'eval_steps_per_second': 35.961, 'epoch': 4.0}\n",
            "{'train_runtime': 59.286, 'train_samples_per_second': 247.479, 'train_steps_per_second': 30.969, 'train_loss': 17.70452601613562, 'epoch': 4.0}\n",
            "{'eval_loss': nan, 'eval_accuracy': 0.3161764705882353, 'eval_f1': 0.0, 'eval_runtime': 1.6634, 'eval_samples_per_second': 245.282, 'eval_steps_per_second': 30.66, 'epoch': 4.0}\n",
            "\n",
            "================           \n",
            "Total Runtime: 1.109466564655304 minutes           \n",
            "Best Result:           \n",
            "\tF1=0.0           \n",
            "\tBatch Size=8           \n",
            "\tLearning Rate=0.0003\n"
          ]
        }
      ]
    },
    {
      "cell_type": "markdown",
      "source": [
        "### LoRA"
      ],
      "metadata": {
        "id": "k7bud03Omhfp"
      }
    },
    {
      "cell_type": "code",
      "source": [
        "_ = lora_hyperparameter_tune(\"prajjwal1/bert-small\", ranks, alphas, epochs, batch_sizes, learning_rates)"
      ],
      "metadata": {
        "id": "0SN6t6PVjsbV",
        "outputId": "82695507-1994-4856-d898-a637f2c7554b",
        "colab": {
          "base_uri": "https://localhost:8080/"
        }
      },
      "execution_count": 112,
      "outputs": [
        {
          "output_type": "stream",
          "name": "stderr",
          "text": [
            "Some weights of BertForSequenceClassification were not initialized from the model checkpoint at prajjwal1/bert-small and are newly initialized: ['classifier.bias', 'classifier.weight']\n",
            "You should probably TRAIN this model on a down-stream task to be able to use it for predictions and inference.\n"
          ]
        },
        {
          "output_type": "stream",
          "name": "stdout",
          "text": [
            "Progress: 1/1\n",
            "{'eval_loss': 0.5969144105911255, 'eval_accuracy': 0.6838235294117647, 'eval_f1': 0.8122270742358079, 'eval_runtime': 1.7753, 'eval_samples_per_second': 229.814, 'eval_steps_per_second': 28.727, 'epoch': 1.0}\n",
            "{'loss': 0.623, 'grad_norm': 1.793513298034668, 'learning_rate': 0.00021830065359477123, 'epoch': 1.0893246187363834}\n",
            "{'eval_loss': 0.5749024152755737, 'eval_accuracy': 0.6985294117647058, 'eval_f1': 0.8177777777777778, 'eval_runtime': 1.7383, 'eval_samples_per_second': 234.709, 'eval_steps_per_second': 29.339, 'epoch': 2.0}\n",
            "{'loss': 0.5948, 'grad_norm': 4.5539727210998535, 'learning_rate': 0.00013660130718954247, 'epoch': 2.178649237472767}\n",
            "{'eval_loss': 0.5578769445419312, 'eval_accuracy': 0.6985294117647058, 'eval_f1': 0.8116385911179173, 'eval_runtime': 2.0722, 'eval_samples_per_second': 196.896, 'eval_steps_per_second': 24.612, 'epoch': 3.0}\n",
            "{'loss': 0.5675, 'grad_norm': 4.53668212890625, 'learning_rate': 5.4901960784313716e-05, 'epoch': 3.2679738562091503}\n",
            "{'eval_loss': 0.5547839999198914, 'eval_accuracy': 0.7083333333333334, 'eval_f1': 0.8183206106870229, 'eval_runtime': 1.4055, 'eval_samples_per_second': 290.288, 'eval_steps_per_second': 36.286, 'epoch': 4.0}\n",
            "{'train_runtime': 37.1785, 'train_samples_per_second': 394.637, 'train_steps_per_second': 49.383, 'train_loss': 0.5914751189986086, 'epoch': 4.0}\n",
            "{'eval_loss': 0.5547839999198914, 'eval_accuracy': 0.7083333333333334, 'eval_f1': 0.8183206106870229, 'eval_runtime': 1.419, 'eval_samples_per_second': 287.531, 'eval_steps_per_second': 35.941, 'epoch': 4.0}\n",
            "\n",
            "================           \n",
            "Total Runtime: 0.01083897802564833 hours           \n",
            "Best Result:           \n",
            "\tF1=0.8183206106870229           \n",
            "\tRank=1           \n",
            "\tAlpha=1           \n",
            "\tBatch Size=8           \n",
            "\tLearning Rate=0.0003\n"
          ]
        }
      ]
    },
    {
      "cell_type": "markdown",
      "source": [
        "## BERT Mini"
      ],
      "metadata": {
        "id": "rWYfRWdWrebb"
      }
    },
    {
      "cell_type": "markdown",
      "source": [
        "### Full Fine-Tuning"
      ],
      "metadata": {
        "id": "PfemXslTmX2x"
      }
    },
    {
      "cell_type": "code",
      "source": [
        "_ = hyperparameter_tune(\"prajjwal1/bert-mini\", batch_sizes, learning_rates)"
      ],
      "metadata": {
        "id": "Oh9PDihljpdR",
        "outputId": "e149fe4a-5c9d-4831-fea1-1f6eb78bb3f3",
        "colab": {
          "base_uri": "https://localhost:8080/"
        }
      },
      "execution_count": 109,
      "outputs": [
        {
          "output_type": "stream",
          "name": "stdout",
          "text": [
            "Progress: 1/1\n"
          ]
        },
        {
          "output_type": "stream",
          "name": "stderr",
          "text": [
            "Some weights of BertForSequenceClassification were not initialized from the model checkpoint at prajjwal1/bert-mini and are newly initialized: ['classifier.bias', 'classifier.weight']\n",
            "You should probably TRAIN this model on a down-stream task to be able to use it for predictions and inference.\n"
          ]
        },
        {
          "output_type": "stream",
          "name": "stdout",
          "text": [
            "{'eval_loss': nan, 'eval_accuracy': 0.3161764705882353, 'eval_f1': 0.0, 'eval_runtime': 1.3542, 'eval_samples_per_second': 301.294, 'eval_steps_per_second': 37.662, 'epoch': 1.0}\n",
            "{'loss': 402.5992, 'grad_norm': nan, 'learning_rate': 5.821350762527233, 'epoch': 1.0893246187363834}\n",
            "{'eval_loss': nan, 'eval_accuracy': 0.3161764705882353, 'eval_f1': 0.0, 'eval_runtime': 2.0197, 'eval_samples_per_second': 202.008, 'eval_steps_per_second': 25.251, 'epoch': 2.0}\n",
            "{'loss': 0.0, 'grad_norm': nan, 'learning_rate': 3.6427015250544663, 'epoch': 2.178649237472767}\n",
            "{'eval_loss': nan, 'eval_accuracy': 0.3161764705882353, 'eval_f1': 0.0, 'eval_runtime': 1.6969, 'eval_samples_per_second': 240.442, 'eval_steps_per_second': 30.055, 'epoch': 3.0}\n",
            "{'loss': 0.0, 'grad_norm': nan, 'learning_rate': 1.4640522875816993, 'epoch': 3.2679738562091503}\n",
            "{'eval_loss': nan, 'eval_accuracy': 0.3161764705882353, 'eval_f1': 0.0, 'eval_runtime': 1.7404, 'eval_samples_per_second': 234.425, 'eval_steps_per_second': 29.303, 'epoch': 4.0}\n",
            "{'train_runtime': 39.0218, 'train_samples_per_second': 375.995, 'train_steps_per_second': 47.051, 'train_loss': 109.6403101171024, 'epoch': 4.0}\n",
            "{'eval_loss': nan, 'eval_accuracy': 0.3161764705882353, 'eval_f1': 0.0, 'eval_runtime': 1.7079, 'eval_samples_per_second': 238.884, 'eval_steps_per_second': 29.86, 'epoch': 4.0}\n",
            "\n",
            "================           \n",
            "Total Runtime: 0.773010524113973 minutes           \n",
            "Best Result:           \n",
            "\tF1=0.0           \n",
            "\tBatch Size=8           \n",
            "\tLearning Rate=0.0003\n"
          ]
        }
      ]
    },
    {
      "cell_type": "markdown",
      "source": [
        "### LoRA"
      ],
      "metadata": {
        "id": "TjixjuyDmchK"
      }
    },
    {
      "cell_type": "code",
      "source": [
        "_ = lora_hyperparameter_tune(\"prajjwal1/bert-mini\", ranks, alphas, epochs, batch_sizes, learning_rates)"
      ],
      "metadata": {
        "id": "Qlab8acojq84",
        "outputId": "f2144bc0-5c9c-40f9-c3e0-a58414ea783f",
        "colab": {
          "base_uri": "https://localhost:8080/"
        }
      },
      "execution_count": 110,
      "outputs": [
        {
          "output_type": "stream",
          "name": "stderr",
          "text": [
            "Some weights of BertForSequenceClassification were not initialized from the model checkpoint at prajjwal1/bert-mini and are newly initialized: ['classifier.bias', 'classifier.weight']\n",
            "You should probably TRAIN this model on a down-stream task to be able to use it for predictions and inference.\n"
          ]
        },
        {
          "output_type": "stream",
          "name": "stdout",
          "text": [
            "Progress: 1/1\n",
            "{'eval_loss': 0.6154337525367737, 'eval_accuracy': 0.6838235294117647, 'eval_f1': 0.8122270742358079, 'eval_runtime': 2.0688, 'eval_samples_per_second': 197.212, 'eval_steps_per_second': 24.652, 'epoch': 1.0}\n",
            "{'loss': 0.634, 'grad_norm': 0.4864899814128876, 'learning_rate': 0.00021830065359477123, 'epoch': 1.0893246187363834}\n",
            "{'eval_loss': 0.5992273092269897, 'eval_accuracy': 0.7058823529411765, 'eval_f1': 0.8219584569732937, 'eval_runtime': 1.3379, 'eval_samples_per_second': 304.946, 'eval_steps_per_second': 38.118, 'epoch': 2.0}\n",
            "{'loss': 0.6152, 'grad_norm': 1.3363189697265625, 'learning_rate': 0.00013660130718954247, 'epoch': 2.178649237472767}\n",
            "{'eval_loss': 0.5883147120475769, 'eval_accuracy': 0.7107843137254902, 'eval_f1': 0.8201219512195121, 'eval_runtime': 2.0428, 'eval_samples_per_second': 199.729, 'eval_steps_per_second': 24.966, 'epoch': 3.0}\n",
            "{'loss': 0.5894, 'grad_norm': 2.013890027999878, 'learning_rate': 5.4901960784313716e-05, 'epoch': 3.2679738562091503}\n",
            "{'eval_loss': 0.5907129049301147, 'eval_accuracy': 0.7083333333333334, 'eval_f1': 0.8188736681887366, 'eval_runtime': 1.7613, 'eval_samples_per_second': 231.646, 'eval_steps_per_second': 28.956, 'epoch': 4.0}\n",
            "{'train_runtime': 33.3944, 'train_samples_per_second': 439.356, 'train_steps_per_second': 54.979, 'train_loss': 0.6110077153623493, 'epoch': 4.0}\n",
            "{'eval_loss': 0.5907129049301147, 'eval_accuracy': 0.7083333333333334, 'eval_f1': 0.8188736681887366, 'eval_runtime': 1.3554, 'eval_samples_per_second': 301.011, 'eval_steps_per_second': 37.626, 'epoch': 4.0}\n",
            "\n",
            "================           \n",
            "Total Runtime: 0.009757576054996914 hours           \n",
            "Best Result:           \n",
            "\tF1=0.8188736681887366           \n",
            "\tRank=1           \n",
            "\tAlpha=1           \n",
            "\tBatch Size=8           \n",
            "\tLearning Rate=0.0003\n"
          ]
        }
      ]
    },
    {
      "cell_type": "markdown",
      "source": [
        "## BERT Tiny"
      ],
      "metadata": {
        "id": "t9FQz1bVrmox"
      }
    },
    {
      "cell_type": "markdown",
      "source": [
        "### Full Fine-Tuning"
      ],
      "metadata": {
        "id": "9EN_a53QmOYX"
      }
    },
    {
      "cell_type": "code",
      "source": [
        "_ = hyperparameter_tune(\"prajjwal1/bert-tiny\", batch_sizes, learning_rates)"
      ],
      "metadata": {
        "id": "JEFWF9-hjhd1",
        "outputId": "ed87631e-5da8-4b80-b5a6-46f0dc3221b0",
        "colab": {
          "base_uri": "https://localhost:8080/"
        }
      },
      "execution_count": 129,
      "outputs": [
        {
          "output_type": "stream",
          "name": "stdout",
          "text": [
            "Progress: 1/1\n"
          ]
        },
        {
          "output_type": "stream",
          "name": "stderr",
          "text": [
            "Some weights of BertForSequenceClassification were not initialized from the model checkpoint at prajjwal1/bert-tiny and are newly initialized: ['classifier.bias', 'classifier.weight']\n",
            "You should probably TRAIN this model on a down-stream task to be able to use it for predictions and inference.\n"
          ]
        },
        {
          "output_type": "stream",
          "name": "stdout",
          "text": [
            "{'eval_loss': nan, 'eval_accuracy': 0.3161764705882353, 'eval_f1': 0.0, 'eval_runtime': 1.9281, 'eval_samples_per_second': 211.608, 'eval_steps_per_second': 26.451, 'epoch': 1.0}\n",
            "{'loss': 117.5354, 'grad_norm': nan, 'learning_rate': 5.821350762527233, 'epoch': 1.0893246187363834}\n",
            "{'eval_loss': nan, 'eval_accuracy': 0.3161764705882353, 'eval_f1': 0.0, 'eval_runtime': 1.7205, 'eval_samples_per_second': 237.146, 'eval_steps_per_second': 29.643, 'epoch': 2.0}\n",
            "{'loss': 0.0, 'grad_norm': nan, 'learning_rate': 3.6427015250544663, 'epoch': 2.178649237472767}\n",
            "{'eval_loss': nan, 'eval_accuracy': 0.3161764705882353, 'eval_f1': 0.0, 'eval_runtime': 1.7453, 'eval_samples_per_second': 233.77, 'eval_steps_per_second': 29.221, 'epoch': 3.0}\n",
            "{'loss': 0.0, 'grad_norm': nan, 'learning_rate': 1.4640522875816993, 'epoch': 3.2679738562091503}\n",
            "{'eval_loss': nan, 'eval_accuracy': 0.3161764705882353, 'eval_f1': 0.0, 'eval_runtime': 1.4086, 'eval_samples_per_second': 289.645, 'eval_steps_per_second': 36.206, 'epoch': 4.0}\n",
            "{'train_runtime': 27.6565, 'train_samples_per_second': 530.507, 'train_steps_per_second': 66.386, 'train_loss': 32.00854013480392, 'epoch': 4.0}\n",
            "{'eval_loss': nan, 'eval_accuracy': 0.3161764705882353, 'eval_f1': 0.0, 'eval_runtime': 1.577, 'eval_samples_per_second': 258.727, 'eval_steps_per_second': 32.341, 'epoch': 4.0}\n",
            "\n",
            "================           \n",
            "Total Runtime: 0.5811420559883118 minutes           \n",
            "Best Result:           \n",
            "\tF1=0.0           \n",
            "\tBatch Size=8           \n",
            "\tLearning Rate=0.0003\n"
          ]
        }
      ]
    },
    {
      "cell_type": "markdown",
      "source": [
        "### LoRA"
      ],
      "metadata": {
        "id": "8aGMvGajmSBG"
      }
    },
    {
      "cell_type": "code",
      "source": [
        "_ = lora_hyperparameter_tune(\"prajjwal1/bert-tiny\", ranks, alphas, epochs, batch_sizes, learning_rates)"
      ],
      "metadata": {
        "id": "3pMny1QxjkI4",
        "outputId": "9d55199b-dfe5-4a75-d44c-1ee5885249c9",
        "colab": {
          "base_uri": "https://localhost:8080/"
        }
      },
      "execution_count": 108,
      "outputs": [
        {
          "output_type": "stream",
          "name": "stderr",
          "text": [
            "Some weights of BertForSequenceClassification were not initialized from the model checkpoint at prajjwal1/bert-tiny and are newly initialized: ['classifier.bias', 'classifier.weight']\n",
            "You should probably TRAIN this model on a down-stream task to be able to use it for predictions and inference.\n"
          ]
        },
        {
          "output_type": "stream",
          "name": "stdout",
          "text": [
            "Progress: 1/1\n",
            "{'eval_loss': 0.6257390975952148, 'eval_accuracy': 0.6813725490196079, 'eval_f1': 0.8104956268221575, 'eval_runtime': 1.6848, 'eval_samples_per_second': 242.159, 'eval_steps_per_second': 30.27, 'epoch': 1.0}\n",
            "{'loss': 0.663, 'grad_norm': 0.46347522735595703, 'learning_rate': 0.00021830065359477123, 'epoch': 1.0893246187363834}\n",
            "{'eval_loss': 0.6210986375808716, 'eval_accuracy': 0.6838235294117647, 'eval_f1': 0.8122270742358079, 'eval_runtime': 1.6779, 'eval_samples_per_second': 243.162, 'eval_steps_per_second': 30.395, 'epoch': 2.0}\n",
            "{'loss': 0.6298, 'grad_norm': 0.40943172574043274, 'learning_rate': 0.00013660130718954247, 'epoch': 2.178649237472767}\n",
            "{'eval_loss': 0.6197056770324707, 'eval_accuracy': 0.6838235294117647, 'eval_f1': 0.8122270742358079, 'eval_runtime': 1.6573, 'eval_samples_per_second': 246.185, 'eval_steps_per_second': 30.773, 'epoch': 3.0}\n",
            "{'loss': 0.6246, 'grad_norm': 0.42999500036239624, 'learning_rate': 5.4901960784313716e-05, 'epoch': 3.2679738562091503}\n",
            "{'eval_loss': 0.619658350944519, 'eval_accuracy': 0.6838235294117647, 'eval_f1': 0.8122270742358079, 'eval_runtime': 1.3489, 'eval_samples_per_second': 302.465, 'eval_steps_per_second': 37.808, 'epoch': 4.0}\n",
            "{'train_runtime': 24.4175, 'train_samples_per_second': 600.879, 'train_steps_per_second': 75.192, 'train_loss': 0.6382766175114252, 'epoch': 4.0}\n",
            "{'eval_loss': 0.619658350944519, 'eval_accuracy': 0.6838235294117647, 'eval_f1': 0.8122270742358079, 'eval_runtime': 1.2795, 'eval_samples_per_second': 318.884, 'eval_steps_per_second': 39.86, 'epoch': 4.0}\n",
            "\n",
            "================           \n",
            "Total Runtime: 0.007262367738617791 hours           \n",
            "Best Result:           \n",
            "\tF1=0.8122270742358079           \n",
            "\tRank=1           \n",
            "\tAlpha=1           \n",
            "\tBatch Size=8           \n",
            "\tLearning Rate=0.0003\n"
          ]
        }
      ]
    }
  ],
  "metadata": {
    "accelerator": "GPU",
    "colab": {
      "gpuType": "T4",
      "machine_shape": "hm",
      "provenance": [],
      "toc_visible": true,
      "authorship_tag": "ABX9TyMrNMJW4/5rhHMkSop+9Ho+",
      "include_colab_link": true
    },
    "kernelspec": {
      "display_name": "Python 3",
      "name": "python3"
    },
    "language_info": {
      "name": "python"
    }
  },
  "nbformat": 4,
  "nbformat_minor": 0
}